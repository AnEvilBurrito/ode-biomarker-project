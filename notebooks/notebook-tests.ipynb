{
 "cells": [
  {
   "cell_type": "markdown",
   "metadata": {},
   "source": [
    "# Testing notebook"
   ]
  },
  {
   "cell_type": "code",
   "execution_count": 6,
   "metadata": {},
   "outputs": [
    {
     "name": "stdout",
     "output_type": "stream",
     "text": [
      "Project path set to: c:\\Github\\ode-biomarker-project\n"
     ]
    }
   ],
   "source": [
    "import os \n",
    "\n",
    "path = os.getcwd()\n",
    "# find the string 'project' in the path, return index\n",
    "index_project = path.find('project')\n",
    "# slice the path from the index of 'project' to the end\n",
    "project_path = path[:index_project+7]\n",
    "# set the working directory\n",
    "os.chdir(project_path)\n",
    "print(f'Project path set to: {os.getcwd()}')\n"
   ]
  },
  {
   "cell_type": "markdown",
   "metadata": {},
   "source": [
    "# Toolkit Tests"
   ]
  },
  {
   "cell_type": "markdown",
   "metadata": {},
   "source": [
    "## Feature Transformer"
   ]
  },
  {
   "cell_type": "code",
   "execution_count": 2,
   "metadata": {},
   "outputs": [],
   "source": [
    "import pandas as pd\n",
    "\n",
    "# loading cell line proteomic expression data\n",
    "\n",
    "cancercell2022 = pd.read_csv('data\\preprocessed\\SY-Processed\\CancerCell2022_PRISM.csv')\n",
    "\n",
    "cancercell2022_dropnan = cancercell2022.dropna(subset=['AUC'])\n",
    "\n",
    "import DataFunctions as dfunc \n",
    "\n",
    "feature_data, label_data = dfunc.create_feature_and_label(cancercell2022_dropnan, label_name='AUC')\n",
    "\n",
    "feature_data_no_row = feature_data.drop(['Row'], axis=1)"
   ]
  },
  {
   "cell_type": "code",
   "execution_count": 7,
   "metadata": {},
   "outputs": [],
   "source": [
    "from toolkit import FeatureTransformer\n",
    "from toolkit import impute_by_zero, impute_by_first_quantile, get_network_stat_features, get_random_features\n",
    "\n",
    "F = FeatureTransformer()\n",
    "\n",
    "F.add_transform_function('impute_by_zero', impute_by_zero)\n",
    "F.add_selection_function('random_select', get_random_features, {\"selection_size\": 10})"
   ]
  },
  {
   "cell_type": "code",
   "execution_count": 6,
   "metadata": {},
   "outputs": [
    {
     "ename": "NameError",
     "evalue": "name 'feature_data' is not defined",
     "output_type": "error",
     "traceback": [
      "\u001b[1;31m---------------------------------------------------------------------------\u001b[0m",
      "\u001b[1;31mNameError\u001b[0m                                 Traceback (most recent call last)",
      "\u001b[1;32mc:\\Github\\ode-biomarker-project\\notebooks\\notebook-tests.ipynb Cell 7\u001b[0m in \u001b[0;36m5\n\u001b[0;32m      <a href='vscode-notebook-cell:/c%3A/Github/ode-biomarker-project/notebooks/notebook-tests.ipynb#W6sZmlsZQ%3D%3D?line=0'>1</a>\u001b[0m \u001b[39mfrom\u001b[39;00m \u001b[39msklearn\u001b[39;00m\u001b[39m.\u001b[39;00m\u001b[39mmodel_selection\u001b[39;00m \u001b[39mimport\u001b[39;00m train_test_split\n\u001b[0;32m      <a href='vscode-notebook-cell:/c%3A/Github/ode-biomarker-project/notebooks/notebook-tests.ipynb#W6sZmlsZQ%3D%3D?line=2'>3</a>\u001b[0m \u001b[39m# Split the data into training and test sets\u001b[39;00m\n\u001b[1;32m----> <a href='vscode-notebook-cell:/c%3A/Github/ode-biomarker-project/notebooks/notebook-tests.ipynb#W6sZmlsZQ%3D%3D?line=4'>5</a>\u001b[0m X_train, X_test, y_train, y_test \u001b[39m=\u001b[39m train_test_split(feature_data, label_data, random_state\u001b[39m=\u001b[39m\u001b[39m42\u001b[39m)\n\u001b[0;32m      <a href='vscode-notebook-cell:/c%3A/Github/ode-biomarker-project/notebooks/notebook-tests.ipynb#W6sZmlsZQ%3D%3D?line=6'>7</a>\u001b[0m \u001b[39m# Print the shapes of the new X objects\u001b[39;00m\n\u001b[0;32m      <a href='vscode-notebook-cell:/c%3A/Github/ode-biomarker-project/notebooks/notebook-tests.ipynb#W6sZmlsZQ%3D%3D?line=8'>9</a>\u001b[0m \u001b[39mprint\u001b[39m(\u001b[39mf\u001b[39m\u001b[39m'\u001b[39m\u001b[39mX_train shape: \u001b[39m\u001b[39m{\u001b[39;00mX_train\u001b[39m.\u001b[39mshape\u001b[39m}\u001b[39;00m\u001b[39m, y_train shape: \u001b[39m\u001b[39m{\u001b[39;00my_train\u001b[39m.\u001b[39mshape\u001b[39m}\u001b[39;00m\u001b[39m, X_test shape: \u001b[39m\u001b[39m{\u001b[39;00mX_test\u001b[39m.\u001b[39mshape\u001b[39m}\u001b[39;00m\u001b[39m, y_test shape: \u001b[39m\u001b[39m{\u001b[39;00my_test\u001b[39m.\u001b[39mshape\u001b[39m}\u001b[39;00m\u001b[39m'\u001b[39m)\n",
      "\u001b[1;31mNameError\u001b[0m: name 'feature_data' is not defined"
     ]
    }
   ],
   "source": [
    "from sklearn.model_selection import train_test_split\n",
    "\n",
    "# Split the data into training and test sets\n",
    "\n",
    "X_train, X_test, y_train, y_test = train_test_split(feature_data, label_data, random_state=42)\n",
    "\n",
    "# Print the shapes of the new X objects\n",
    "\n",
    "print(f'X_train shape: {X_train.shape}, y_train shape: {y_train.shape}, X_test shape: {X_test.shape}, y_test shape: {y_test.shape}')\n",
    "\n",
    "# Run Feature Transformer \n",
    "\n",
    "selected_features, sel_train, sel_test = F.run(X_train, y_train, X_test)\n",
    "\n",
    "print(selected_features, sel_train.shape, sel_test.shape)  "
   ]
  },
  {
   "cell_type": "code",
   "execution_count": null,
   "metadata": {},
   "outputs": [],
   "source": [
    "# clear variables in juptyer notebook\n",
    "\n",
    "%reset -f"
   ]
  },
  {
   "cell_type": "markdown",
   "metadata": {},
   "source": [
    "## Feature Selection Methods"
   ]
  },
  {
   "cell_type": "code",
   "execution_count": 2,
   "metadata": {},
   "outputs": [
    {
     "name": "stdout",
     "output_type": "stream",
     "text": [
      "Original informative columns: Index(['0', '1', '2', '3', '4', '5', '6', '7', '8', '9'], dtype='object')\n",
      "Newly shuffled columns: Index(['993', '859', '298', '553', '672', '971', '27', '231', '306', '706'], dtype='object')\n"
     ]
    }
   ],
   "source": [
    "from sklearn.datasets import make_regression\n",
    "import pandas as pd\n",
    "\n",
    "# turn X and Y into dataframes\n",
    "X, y = make_regression(n_samples=500, n_features=1000, n_informative=10, random_state=1, shuffle=False)\n",
    "\n",
    "X = pd.DataFrame(X)\n",
    "y = pd.Series(y)\n",
    "\n",
    "# turn columns into strings\n",
    "\n",
    "X.columns = [str(i) for i in range(X.shape[1])]\n",
    "\n",
    "print(f'Original informative columns: {X.columns[:10]}')\n",
    "\n",
    "# shuffle columns around for X\n",
    "\n",
    "X = X.sample(frac=1, axis=1, random_state=0)\n",
    "\n",
    "print(f'Newly shuffled columns: {X.columns[:10]}')\n"
   ]
  },
  {
   "cell_type": "code",
   "execution_count": 3,
   "metadata": {},
   "outputs": [
    {
     "name": "stderr",
     "output_type": "stream",
     "text": [
      "c:\\Github\\ode-biomarker-project\\dynamic-marker\\lib\\site-packages\\tqdm\\auto.py:21: TqdmWarning: IProgress not found. Please update jupyter and ipywidgets. See https://ipywidgets.readthedocs.io/en/stable/user_install.html\n",
      "  from .autonotebook import tqdm as notebook_tqdm\n"
     ]
    },
    {
     "name": "stdout",
     "output_type": "stream",
     "text": [
      "Iteration 1 selected 6 score 20349023.18055924 remaining 999 features\n",
      "Iteration 2 selected 913 score 9236.404740325002 remaining 998 features\n",
      "Iteration 3 selected 762 score 3338.49141856536 remaining 997 features\n",
      "Iteration 4 selected 5 score 2401.434983185637 remaining 996 features\n",
      "Iteration 5 selected 7 score 1958.8192067425084 remaining 995 features\n",
      "Iteration 6 selected 1 score 1322.7038843133394 remaining 994 features\n",
      "Iteration 7 selected 8 score 952.2757379286545 remaining 993 features\n",
      "Iteration 8 selected 4 score 903.1707225760754 remaining 992 features\n",
      "Iteration 9 selected 3 score 481.3610921002683 remaining 991 features\n",
      "Iteration 10 selected 215 score 204.25794018077414 remaining 990 features\n"
     ]
    }
   ],
   "source": [
    "from toolkit import mrmr_select_fcq\n",
    "\n",
    "features, scores = mrmr_select_fcq(X, y, K=10,verbose=True)"
   ]
  },
  {
   "cell_type": "code",
   "execution_count": 4,
   "metadata": {},
   "outputs": [
    {
     "name": "stdout",
     "output_type": "stream",
     "text": [
      "[465 193 580  29 629 137 524 551 247   7]\n",
      "[53.5348648  46.46452212 37.03393571 35.39034433 23.38224216 22.14676406\n",
      " 15.05663697 12.11902955 11.56421631  9.09762054]\n"
     ]
    }
   ],
   "source": [
    "from toolkit import enet_select\n",
    "\n",
    "features, scores = enet_select(X, y, 10, max_iter=10000, alpha=0.1, l1_ratio=0.7)\n",
    "\n",
    "print(features)\n",
    "print(scores)"
   ]
  },
  {
   "cell_type": "code",
   "execution_count": 5,
   "metadata": {},
   "outputs": [
    {
     "name": "stdout",
     "output_type": "stream",
     "text": [
      "[465 193 580  29 137 629 524 342  35 790]\n",
      "[0.29646599 0.2238035  0.1167996  0.06645544 0.01195476 0.00679736\n",
      " 0.00391873 0.00287384 0.00282981 0.00201532]\n"
     ]
    }
   ],
   "source": [
    "from toolkit import rf_select\n",
    "\n",
    "features, scores = rf_select(X, y, k=10, n_estimators=100, max_depth=5, n_jobs=-1)\n",
    "\n",
    "print(features)\n",
    "print(scores)"
   ]
  },
  {
   "cell_type": "code",
   "execution_count": 6,
   "metadata": {},
   "outputs": [
    {
     "name": "stdout",
     "output_type": "stream",
     "text": [
      "Index(['1', '456', '8', '5', '6', '781', '3', '7', '4', '621'], dtype='object')\n",
      "[ 62.83937464  11.86299028  28.68197294 157.83757371 203.49023181\n",
      "   9.34440972  16.75903932 100.30555487  40.46596522   8.47049546]\n"
     ]
    }
   ],
   "source": [
    "from toolkit import f_regression_select\n",
    "\n",
    "features, scores = f_regression_select(X, y, k=10)\n",
    "print(features)\n",
    "print(scores)"
   ]
  },
  {
   "cell_type": "code",
   "execution_count": 8,
   "metadata": {},
   "outputs": [
    {
     "name": "stdout",
     "output_type": "stream",
     "text": [
      "[675  99 765 635   2 307 301 770 328  75]\n",
      "[0.00149231 0.00147896 0.00141029 0.00137384 0.00129534 0.00123079\n",
      " 0.00122917 0.00122489 0.00121487 0.00120116]\n"
     ]
    }
   ],
   "source": [
    "from toolkit import relieff_select\n",
    "\n",
    "features, scores = relieff_select(X, y, k=10, n_jobs=4)\n",
    "print(features)\n",
    "print(scores)\n"
   ]
  },
  {
   "cell_type": "code",
   "execution_count": null,
   "metadata": {},
   "outputs": [],
   "source": [
    "# clear variables in juptyer notebook\n",
    "\n",
    "%reset -f"
   ]
  },
  {
   "cell_type": "markdown",
   "metadata": {},
   "source": [
    "## Selection Functions"
   ]
  },
  {
   "cell_type": "code",
   "execution_count": null,
   "metadata": {},
   "outputs": [],
   "source": []
  },
  {
   "cell_type": "markdown",
   "metadata": {},
   "source": [
    "## Transforming Functions\n"
   ]
  },
  {
   "cell_type": "markdown",
   "metadata": {},
   "source": [
    "# TorchApp Tests"
   ]
  },
  {
   "cell_type": "markdown",
   "metadata": {},
   "source": [
    "# Loading SBML Models"
   ]
  },
  {
   "cell_type": "code",
   "execution_count": 7,
   "metadata": {},
   "outputs": [],
   "source": [
    "# loading anthony's sbml model\n",
    "\n",
    "from libsbml import *\n",
    "\n",
    "reader = SBMLReader()\n",
    "\n",
    "document = reader.readSBML(\"data\\export_ECC_Base.xml\")\n",
    "\n"
   ]
  },
  {
   "cell_type": "code",
   "execution_count": 13,
   "metadata": {},
   "outputs": [
    {
     "name": "stdout",
     "output_type": "stream",
     "text": [
      "Document errors: 0\n"
     ]
    }
   ],
   "source": [
    "model = document.getModel()\n",
    "\n",
    "print(f'Document errors: {document.getNumErrors()}')"
   ]
  },
  {
   "cell_type": "code",
   "execution_count": 9,
   "metadata": {},
   "outputs": [
    {
     "name": "stdout",
     "output_type": "stream",
     "text": [
      "Number of species: 59\n",
      "Number of reactions: 83\n",
      "Number of compartments: 1\n",
      "Number of parameters: 129\n"
     ]
    }
   ],
   "source": [
    "print(f'Number of species: {model.getNumSpecies()}')\n",
    "\n",
    "print(f'Number of reactions: {model.getNumReactions()}')\n",
    "\n",
    "print(f'Number of compartments: {model.getNumCompartments()}')\n",
    "\n",
    "print(f'Number of parameters: {model.getNumParameters()}')"
   ]
  },
  {
   "cell_type": "code",
   "execution_count": 10,
   "metadata": {},
   "outputs": [
    {
     "name": "stdout",
     "output_type": "stream",
     "text": [
      "Number of rules: 18\n"
     ]
    }
   ],
   "source": [
    "print(f'Number of rules: {model.getNumRules()}')"
   ]
  },
  {
   "cell_type": "code",
   "execution_count": 14,
   "metadata": {},
   "outputs": [
    {
     "name": "stdout",
     "output_type": "stream",
     "text": [
      "<Model \"ECC_Base\">\n"
     ]
    }
   ],
   "source": []
  },
  {
   "cell_type": "code",
   "execution_count": 15,
   "metadata": {},
   "outputs": [
    {
     "name": "stdout",
     "output_type": "stream",
     "text": [
      "Number of floating species: 59\n",
      "Number of boundary species: 0\n",
      "Number of global parameters: 129\n",
      "Number of compartments: 1\n"
     ]
    }
   ],
   "source": [
    "import roadrunner\n",
    "\n",
    "rr = roadrunner.RoadRunner(\"data\\export_ECC_Base.xml\")\n",
    "\n",
    "print(f'Number of floating species: {len(rr.model.getFloatingSpeciesIds())}')\n",
    "\n",
    "print(f'Number of boundary species: {len(rr.model.getBoundarySpeciesIds())}')\n",
    "\n",
    "print(f'Number of global parameters: {len(rr.model.getGlobalParameterIds())}')\n",
    "\n",
    "print(f'Number of compartments: {len(rr.model.getCompartmentIds())}')"
   ]
  },
  {
   "cell_type": "code",
   "execution_count": 16,
   "metadata": {},
   "outputs": [
    {
     "data": {
      "image/png": "[encoded data removed]",
      "text/plain": [
       "<Figure size 640x480 with 1 Axes>"
      ]
     },
     "metadata": {},
     "output_type": "display_data"
    },
    {
     "data": {
      "text/plain": [
       "[[<matplotlib.lines.Line2D at 0x1dc8118dbe0>],\n",
       " [<matplotlib.lines.Line2D at 0x1dc8118dd90>],\n",
       " [<matplotlib.lines.Line2D at 0x1dc811a4070>],\n",
       " [<matplotlib.lines.Line2D at 0x1dc811a4310>],\n",
       " [<matplotlib.lines.Line2D at 0x1dc811a45b0>],\n",
       " [<matplotlib.lines.Line2D at 0x1dc811a4850>],\n",
       " [<matplotlib.lines.Line2D at 0x1dc811a4af0>],\n",
       " [<matplotlib.lines.Line2D at 0x1dc811a4d90>],\n",
       " [<matplotlib.lines.Line2D at 0x1dc811b2070>],\n",
       " [<matplotlib.lines.Line2D at 0x1dc811b2310>],\n",
       " [<matplotlib.lines.Line2D at 0x1dc8118dc10>],\n",
       " [<matplotlib.lines.Line2D at 0x1dc811b2820>],\n",
       " [<matplotlib.lines.Line2D at 0x1dc811b2ac0>],\n",
       " [<matplotlib.lines.Line2D at 0x1dc811b2d60>],\n",
       " [<matplotlib.lines.Line2D at 0x1dc811c2040>],\n",
       " [<matplotlib.lines.Line2D at 0x1dc811c22e0>],\n",
       " [<matplotlib.lines.Line2D at 0x1dc811c2580>],\n",
       " [<matplotlib.lines.Line2D at 0x1dc811c2820>],\n",
       " [<matplotlib.lines.Line2D at 0x1dc811c2ac0>],\n",
       " [<matplotlib.lines.Line2D at 0x1dc811c2d60>],\n",
       " [<matplotlib.lines.Line2D at 0x1dc811cf040>],\n",
       " [<matplotlib.lines.Line2D at 0x1dc811cf2e0>],\n",
       " [<matplotlib.lines.Line2D at 0x1dc811cf580>],\n",
       " [<matplotlib.lines.Line2D at 0x1dc811cf820>],\n",
       " [<matplotlib.lines.Line2D at 0x1dc811cfac0>],\n",
       " [<matplotlib.lines.Line2D at 0x1dc811cfd60>],\n",
       " [<matplotlib.lines.Line2D at 0x1dc811dd040>],\n",
       " [<matplotlib.lines.Line2D at 0x1dc811dd2e0>],\n",
       " [<matplotlib.lines.Line2D at 0x1dc811dd580>],\n",
       " [<matplotlib.lines.Line2D at 0x1dc811dd820>],\n",
       " [<matplotlib.lines.Line2D at 0x1dc811ddac0>],\n",
       " [<matplotlib.lines.Line2D at 0x1dc811ddd60>],\n",
       " [<matplotlib.lines.Line2D at 0x1dc811ee040>],\n",
       " [<matplotlib.lines.Line2D at 0x1dc811ee2e0>],\n",
       " [<matplotlib.lines.Line2D at 0x1dc811ee580>],\n",
       " [<matplotlib.lines.Line2D at 0x1dc811ee820>],\n",
       " [<matplotlib.lines.Line2D at 0x1dc811eeac0>],\n",
       " [<matplotlib.lines.Line2D at 0x1dc811eed60>],\n",
       " [<matplotlib.lines.Line2D at 0x1dc811fa040>],\n",
       " [<matplotlib.lines.Line2D at 0x1dc811fa2e0>],\n",
       " [<matplotlib.lines.Line2D at 0x1dc811fa580>],\n",
       " [<matplotlib.lines.Line2D at 0x1dc811fa820>],\n",
       " [<matplotlib.lines.Line2D at 0x1dc811faac0>],\n",
       " [<matplotlib.lines.Line2D at 0x1dc811fad60>],\n",
       " [<matplotlib.lines.Line2D at 0x1dc81209040>],\n",
       " [<matplotlib.lines.Line2D at 0x1dc812092e0>],\n",
       " [<matplotlib.lines.Line2D at 0x1dc81209580>],\n",
       " [<matplotlib.lines.Line2D at 0x1dc81209820>],\n",
       " [<matplotlib.lines.Line2D at 0x1dc81209ac0>],\n",
       " [<matplotlib.lines.Line2D at 0x1dc81209d60>],\n",
       " [<matplotlib.lines.Line2D at 0x1dc81218040>],\n",
       " [<matplotlib.lines.Line2D at 0x1dc812182e0>],\n",
       " [<matplotlib.lines.Line2D at 0x1dc81218580>],\n",
       " [<matplotlib.lines.Line2D at 0x1dc81218820>],\n",
       " [<matplotlib.lines.Line2D at 0x1dc81218ac0>],\n",
       " [<matplotlib.lines.Line2D at 0x1dc81218d60>],\n",
       " [<matplotlib.lines.Line2D at 0x1dc81227040>],\n",
       " [<matplotlib.lines.Line2D at 0x1dc812272e0>],\n",
       " [<matplotlib.lines.Line2D at 0x1dc81227580>]]"
      ]
     },
     "execution_count": 16,
     "metadata": {},
     "output_type": "execute_result"
    }
   ],
   "source": [
    "result = rr.simulate(0, 10, 100)\n",
    "\n",
    "rr.plot(result)"
   ]
  },
  {
   "cell_type": "code",
   "execution_count": 17,
   "metadata": {},
   "outputs": [],
   "source": [
    "rr.reset()"
   ]
  },
  {
   "cell_type": "code",
   "execution_count": 19,
   "metadata": {},
   "outputs": [
    {
     "name": "stdout",
     "output_type": "stream",
     "text": [
      "['INSR', 'INSRpY', 'IRS', 'IRSi', 'S6KpT389', 'PI3K', 'INSRccIRSccPI3K', 'PDK1', 'PDK1b', 'MTORC2', 'MTORC2b', 'AKT', 'AKTpT308', 'AKTpS473', 'AKTpp', 'MTORC1', 'MTORC1a', 'ERKpp', 'CDK46ccCYCD', 'MTORC1i', 'S6K', 'GSK3B', 'GSK3Bi', 'SOS', 'INSRccIRSccSOS', 'SOSi', 'RAF', 'RAFa', 'RAFi', 'ERK', 'MYC', 'E2F', 'MYCpS62', 'CDK2ccCYCE', 'MYCpp', 'CYCD', 'CYCDpT286', 'CYCE', 'CYCEpT380', 'P21', 'P21pT57', 'P27', 'P27pT187', 'P27i', 'CDK46', 'CDK46ccCYCDp', 'CDK2', 'CDK2ccCYCEp', 'RB', 'RBp', 'RBpp', 'E2FccRB', 'E2FccRBp', 'E2FccRBpp', 'CDK46ccCYCDccP21', 'CDK46ccCYCDccP27', 'CDK2ccCYCEccP21', 'CDK2ccCYCEccP27', 'CDK2ccCYCEccP27p']\n"
     ]
    }
   ],
   "source": [
    "print(f'{rr.model.getFloatingSpeciesIds()}')\n"
   ]
  },
  {
   "cell_type": "code",
   "execution_count": 20,
   "metadata": {},
   "outputs": [
    {
     "data": {
      "text/plain": [
       "500.0"
      ]
     },
     "execution_count": 20,
     "metadata": {},
     "output_type": "execute_result"
    }
   ],
   "source": [
    "rr.model[\"init(IRS)\"]\n",
    "\n",
    "# rr.model[\"init(IRS)\"] = 0.5 # for changing initial conditions"
   ]
  },
  {
   "cell_type": "code",
   "execution_count": 21,
   "metadata": {},
   "outputs": [
    {
     "data": {
      "text/plain": [
       "['kc_INSULIN_INSR_INSRpY',\n",
       " 'Vm_INSRpY_INSR',\n",
       " 'kc_S6KpT389_IRS_IRSi',\n",
       " 'Vm_IRSi_IRS',\n",
       " 'ka_INSRpY_IRS_PI3K_INSRccIRSccPI3K',\n",
       " 'kd_INSRccIRSccPI3K_INSR_IRS_PI3K',\n",
       " 'kc_INSRccIRSccPI3K_PDK1_PDK1b',\n",
       " 'kc_PTEN_PDK1b_PDK1',\n",
       " 'kc_INSRccIRSccPI3K_MTORC2_MTORC2b',\n",
       " 'kc_PTEN_MTORC2b_MTORC2',\n",
       " 'kc_PDK1b_AKT_AKTpT308',\n",
       " 'Vm_AKTpT308_AKT',\n",
       " 'kc_MTORC2b_AKT_AKTpS473',\n",
       " 'Vm_AKTpS473_AKT',\n",
       " 'kc_MTORC2b_AKTpT308_AKTpp',\n",
       " 'kc_PDK1b_AKTpS473_AKTpp',\n",
       " 'Vm_AKTpp_AKT',\n",
       " 'kc_AKTact_MTORC1_MTORC1a',\n",
       " 'kc_ERKpp_MTORC1_MTORC1a',\n",
       " 'kc_CDK46ccCYCD_MTORC1_MTORC1a',\n",
       " 'Vm_MTORC1a_MTORC1',\n",
       " 'kc_S6KpT389_MTORC1_MTORC1i',\n",
       " 'Vm_MTORC1i_MTORC1',\n",
       " 'kc_MTORC1a_S6K_S6KpT389',\n",
       " 'Vm_S6KpT389_S6K',\n",
       " 'kc_AKTact_GSK3B_GSK3Bi',\n",
       " 'kc_S6KpT389_GSK3B_GSK3Bi',\n",
       " 'Vm_GSK3Bi_GSK3B',\n",
       " 'ka_INSRpY_IRS_SOS_INSRccIRSccSOS',\n",
       " 'kd_INSRccIRSccSOS_INSR_IRS_SOS',\n",
       " 'kc_ERKpp_SOS_SOSi',\n",
       " 'Vm_SOSi_SOS',\n",
       " 'kc_INSRccIRSccSOS_RAF_RAFa',\n",
       " 'Vm_RAFa_RAF',\n",
       " 'kc_ERKpp_RAF_RAFi',\n",
       " 'kc_AKTact_RAF_RAFi',\n",
       " 'Vm_RAFi_RAF',\n",
       " 'kc_RAFa_ERK_ERKpp',\n",
       " 'Vm_ERKpp_ERK',\n",
       " 'ksyn_E2F_MYC',\n",
       " 'Km_E2F_MYC',\n",
       " 'kc_ERKpp_MYC_MYCpS62',\n",
       " 'kc_CDK2ccCYCE_MYC_MYCpS62',\n",
       " 'kc_GSK3B_MYCpS62_MYCpp',\n",
       " 'kdcy_MYCpp',\n",
       " 'ksyn_MTORC1a_CYCD',\n",
       " 'Km_MTORC1a_CYCD',\n",
       " 'ksyn_ERKpp_CYCD',\n",
       " 'Km_ERKpp_CYCD',\n",
       " 'kc_GSK3B_CYCD_CYCDpT286',\n",
       " 'kdcy_CYCDpT286',\n",
       " 'ksyn_E2F_CYCE',\n",
       " 'Km_E2F_CYCE',\n",
       " 'ksyn_MYCact_CYCE',\n",
       " 'Km_MYCact_CYCE',\n",
       " 'kc_GSK3B_CYCE_CYCEpT380',\n",
       " 'kdcy_CYCEpT380',\n",
       " 'ksyn_P21',\n",
       " 'kc_GSK3B_P21_P21pT57',\n",
       " 'kdcy_P21pT57',\n",
       " 'ksyn_P27',\n",
       " 'kdcy_P27pT187',\n",
       " 'kc_AKTact_P27_P27i',\n",
       " 'Vm_P27i_P27',\n",
       " 'ka_CDK46_CYCD_CDK46ccCYCD',\n",
       " 'kd_CDK46ccCYCD_CDK46_CYCD',\n",
       " 'kc_GSK3B_CDK46ccCYCD_CDK46ccCYCDp',\n",
       " 'kd_CDK46ccCYCDp_CDK46_CYCDpT286',\n",
       " 'ka_CDK2_CYCE_CDK2ccCYCE',\n",
       " 'kd_CDK2ccCYCE_CDK2_CYCE',\n",
       " 'Vm_CDK2ccCYCE_CDK2ccCYCEp',\n",
       " 'kd_CDK2ccCYCEp_CDK2_CYCEpT380',\n",
       " 'kc_CDK46ccCYCD_RB_RBp',\n",
       " 'Vm_RBp_RB',\n",
       " 'kc_CDK2ccCYCE_RBp_RBpp',\n",
       " 'kc_CDK2ccCYCE_RB_RBpp',\n",
       " 'Vm_RBpp_RB',\n",
       " 'ka_E2F_RB_E2FccRB',\n",
       " 'kd_E2FccRB_E2F_RB',\n",
       " 'ka_E2F_RBp_E2FccRBp',\n",
       " 'kd_E2FccRBp_E2F_RBp',\n",
       " 'kd_E2FccRBpp_E2F_RBpp',\n",
       " 'kc_CDK46ccCYCD_E2FccRB_E2FccRBp',\n",
       " 'kc_CDK2ccCYCE_E2FccRBp_E2FccRBpp',\n",
       " 'kc_CDK2ccCYCE_E2FccRB_E2FccRBpp',\n",
       " 'ka_CDK46ccCYCD_P21_CDK46ccCYCDccP21',\n",
       " 'kd_CDK46ccCYCDccP21_CDK46ccCYCD_P21',\n",
       " 'ka_CDK46ccCYCD_P27_CDK46ccCYCDccP27',\n",
       " 'kd_CDK46ccCYCDccP27_CDK46ccCYCD_P27',\n",
       " 'ka_CDK2ccCYCE_P21_CDK2ccCYCEccP21',\n",
       " 'kd_CDK2ccCYCEccP21_CDK2ccCYCE_P21',\n",
       " 'ka_CDK2ccCYCE_P27_CDK2ccCYCEccP27',\n",
       " 'kd_CDK2ccCYCEccP27_CDK2ccCYCE_P27',\n",
       " 'Vm_CDK2ccCYCEccP27_CDK2ccCYCEccP27p',\n",
       " 'kd_CDK2ccCYCEccP27p_CDK2ccCYCE_P27pT187',\n",
       " 'alpha_SYN_P21__MYCact',\n",
       " 'alpha_SYN_P27__MYCact',\n",
       " 'alpha_CDK46i',\n",
       " 'alpha_MMS_RB_RBp_CDK46ccCYCD_CDK46i',\n",
       " 'alpha_MMS_E2FccRB_E2FccRBp_CDK46ccCYCD_CDK46i',\n",
       " 'alpha_MMS_MTORC1_MTORC1a_CDK46ccCYCD_CDK46i',\n",
       " 'alpha_AKTpp',\n",
       " 'alpha_AKTpT308',\n",
       " 'alpha_AKTpS473',\n",
       " 'alpha_MYC',\n",
       " 'alpha_MYCpS62',\n",
       " 'input_INSULIN',\n",
       " 'inptime_INSULIN',\n",
       " 'const_PTEN',\n",
       " 'input_CDK46i',\n",
       " 'inptime_CDK46i',\n",
       " 'AKTact',\n",
       " 'MYCact',\n",
       " 'INSULIN',\n",
       " 'PTEN',\n",
       " 'CYCD_total',\n",
       " 'CDK46i',\n",
       " 'AKTpS473_Data',\n",
       " 'AKTpT308_Data',\n",
       " 'MYC_Data',\n",
       " 'CYCDpT286_Data',\n",
       " 'CYCE_Data',\n",
       " 'ERKpp_Data',\n",
       " 'IRSpS636_Data',\n",
       " 'MTORpS2448_Data',\n",
       " 'P21_Data',\n",
       " 'P27_Data',\n",
       " 'S6KpT389_Data',\n",
       " 'RBpS807_Data']"
      ]
     },
     "execution_count": 21,
     "metadata": {},
     "output_type": "execute_result"
    }
   ],
   "source": [
    "rr.model.getGlobalParameterIds()\n",
    "\n"
   ]
  },
  {
   "cell_type": "code",
   "execution_count": 22,
   "metadata": {},
   "outputs": [
    {
     "data": {
      "text/plain": [
       "0.1"
      ]
     },
     "execution_count": 22,
     "metadata": {},
     "output_type": "execute_result"
    }
   ],
   "source": [
    "rr.kc_INSULIN_INSR_INSRpY\n",
    "\n",
    "# rr.kc_INSULIN_INSR_INSRpY = 0.1 # for changing parameter values"
   ]
  },
  {
   "cell_type": "code",
   "execution_count": 23,
   "metadata": {},
   "outputs": [
    {
     "data": {
      "text/plain": [
       "0.1"
      ]
     },
     "execution_count": 23,
     "metadata": {},
     "output_type": "execute_result"
    }
   ],
   "source": [
    "rr.model['kc_INSULIN_INSR_INSRpY'] # another method for changing parameter values"
   ]
  },
  {
   "cell_type": "code",
   "execution_count": 24,
   "metadata": {},
   "outputs": [
    {
     "data": {
      "text/plain": [
       "500.0"
      ]
     },
     "execution_count": 24,
     "metadata": {},
     "output_type": "execute_result"
    }
   ],
   "source": [
    "rr.model['INSR'] # another method for changing initial condition values"
   ]
  },
  {
   "cell_type": "markdown",
   "metadata": {},
   "source": [
    "## Linking CCLE data to Anthony's SBML model initial conditions"
   ]
  },
  {
   "cell_type": "markdown",
   "metadata": {},
   "source": [
    "## Changing parameters in SBML model to the calibrated set"
   ]
  },
  {
   "cell_type": "markdown",
   "metadata": {},
   "source": [
    "## Processing dynamic simulation data back to singular vector"
   ]
  },
  {
   "cell_type": "markdown",
   "metadata": {},
   "source": [
    "## LanODEApp Tests"
   ]
  },
  {
   "cell_type": "code",
   "execution_count": null,
   "metadata": {},
   "outputs": [],
   "source": [
    "'''load in core data and libraries'''\n",
    "\n",
    "# libraries used \n",
    "\n",
    "# load CCLE expression data  \n",
    "\n",
    "# load Anthony's model and optimal parameter sets \n",
    "\n",
    "document = reader.readSBML(\"data\\export_ECC_Base.xml\")\n"
   ]
  }
 ],
 "metadata": {
  "kernelspec": {
   "display_name": "dynamic-marker",
   "language": "python",
   "name": "python3"
  },
  "language_info": {
   "codemirror_mode": {
    "name": "ipython",
    "version": 3
   },
   "file_extension": ".py",
   "mimetype": "text/x-python",
   "name": "python",
   "nbconvert_exporter": "python",
   "pygments_lexer": "ipython3",
   "version": "3.8.10"
  },
  "orig_nbformat": 4
 },
 "nbformat": 4,
 "nbformat_minor": 2
}
