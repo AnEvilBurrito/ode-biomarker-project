{
 "cells": [
  {
   "cell_type": "markdown",
   "metadata": {},
   "source": [
    "# Sungyoung Internal Validation Study"
   ]
  },
  {
   "cell_type": "markdown",
   "metadata": {},
   "source": [
    "## Init"
   ]
  },
  {
   "cell_type": "code",
   "execution_count": 22,
   "metadata": {},
   "outputs": [
    {
     "name": "stdout",
     "output_type": "stream",
     "text": [
      "Project path set to: c:\\Github\\ode-biomarker-project\n"
     ]
    }
   ],
   "source": [
    "import os\n",
    "\n",
    "path = os.getcwd()\n",
    "# find the string 'project' in the path, return index\n",
    "index_project = path.find('project')\n",
    "# slice the path from the index of 'project' to the end\n",
    "project_path = path[:index_project+7]\n",
    "# set the working directory\n",
    "os.chdir(project_path)\n",
    "print(f'Project path set to: {os.getcwd()}')"
   ]
  },
  {
   "cell_type": "code",
   "execution_count": 23,
   "metadata": {},
   "outputs": [
    {
     "name": "stdout",
     "output_type": "stream",
     "text": [
      "Loading data..\n",
      "Data loaded for code ccle-gdsc-2-Palbociclib-LN_IC50\n"
     ]
    }
   ],
   "source": [
    "from PathLoader import PathLoader\n",
    "path_loader = PathLoader('data_config.env', 'current_user.env')\n",
    "from DataLink import DataLink\n",
    "data_link = DataLink(path_loader, 'data_codes.csv')\n",
    "\n",
    "print('Loading data..')\n",
    "\n",
    "loading_code = 'ccle-gdsc-2-Palbociclib-LN_IC50'\n",
    "feature_data, label_data = data_link.get_data_using_code(loading_code)\n",
    "print(f'Data loaded for code {loading_code}')"
   ]
  },
  {
   "cell_type": "code",
   "execution_count": 24,
   "metadata": {},
   "outputs": [],
   "source": [
    "from sklearn.datasets import make_regression\n",
    "from sklearn.model_selection import train_test_split\n",
    "import pandas as pd\n",
    "import numpy as np\n",
    "\n",
    "X, y = make_regression(n_samples=1000, n_informative=50, n_features=1000, noise=0.1)\n",
    "# make X,y into dataframes\n",
    "X = pd.DataFrame(X)\n",
    "y = pd.Series(y)"
   ]
  },
  {
   "cell_type": "markdown",
   "metadata": {},
   "source": [
    "## SY's Valiadtion Method for Curse of Dimensionality"
   ]
  },
  {
   "cell_type": "markdown",
   "metadata": {},
   "source": [
    "### Setup"
   ]
  },
  {
   "cell_type": "code",
   "execution_count": 25,
   "metadata": {},
   "outputs": [],
   "source": [
    "### Functions \n",
    "\n",
    "def log_distributed_feature_size_list(min_size,max_size):\n",
    "    # log distributed feature size list\n",
    "    feature_size_list = []\n",
    "    # first, find the which tenth power the min_size and max_size are\n",
    "    min_power = int(np.log10(min_size))\n",
    "    max_power = int(np.log10(max_size))\n",
    "    # print(f'min_power: {min_power}, max_power: {max_power}')\n",
    "    for power in range(min_power,max_power+1):\n",
    "        for i in range(1,10):\n",
    "            feature_size = i*10**power\n",
    "            if feature_size <= max_size:\n",
    "                feature_size_list.append(feature_size)\n",
    "    return feature_size_list\n",
    "\n",
    "def generate_feature_list(feature_data, feature_size):\n",
    "    features = feature_data.columns\n",
    "    feature_list = []\n",
    "    # randomly select feature_size number of features\n",
    "    for i in range(feature_size):\n",
    "        while True:\n",
    "            # ensure that the same feature is not selected twice\n",
    "            feature = np.random.choice(features)\n",
    "            if feature not in feature_list:\n",
    "                feature_list.append(feature)\n",
    "                break\n",
    "            \n",
    "    return feature_list"
   ]
  },
  {
   "cell_type": "code",
   "execution_count": 26,
   "metadata": {},
   "outputs": [],
   "source": [
    "### Global Parameters \n",
    "\n",
    "no_random_partitions = 100 \n",
    "partition_random_seed_list = [i for i in range(no_random_partitions)]\n",
    "features_random_seed = 42\n",
    "feature_sizes = log_distributed_feature_size_list(1,X.shape[1])\n",
    "feature_list = generate_feature_list(X, X.shape[1])\n",
    "\n",
    "## File Parameters \n",
    "run_id = 'run_1'\n",
    "project_folder_name = 'SYVALID'\n",
    "folder_name = \"AN01_curse_of_dimensionality\"\n",
    "if not os.path.exists(f'{path_loader.get_data_path()}data/results/{project_folder_name}'):\n",
    "    os.makedirs(f'{path_loader.get_data_path()}data/results/{project_folder_name}')\n",
    "    \n",
    "if not os.path.exists(f'{path_loader.get_data_path()}data/results/{folder_name}'):\n",
    "    os.makedirs(f'{path_loader.get_data_path()}data/results/{folder_name}')\n",
    "\n",
    "file_save_path = f'{path_loader.get_data_path()}data/results/{project_folder_name}/{folder_name}/'"
   ]
  },
  {
   "cell_type": "code",
   "execution_count": 27,
   "metadata": {},
   "outputs": [],
   "source": [
    "from sklearn.svm import SVR\n",
    "from sklearn.svm import LinearSVR\n",
    "from sklearn.model_selection import train_test_split\n",
    "from scipy.stats import pearsonr\n",
    "from toolkit import *\n",
    "\n",
    "def pipeline_func(X_train, y_train, rng, feature_data, label_data, pre_selected_features, feature_size, max_iter, **kwargs):\n",
    "    # NOTE: X_train, y_train are not used in this function\n",
    "\n",
    "    model = LinearSVR(max_iter=max_iter, random_state=rng)\n",
    "    print(f'Feature size: {feature_size}')\n",
    "    if feature_size == feature_data.shape[1]:\n",
    "        selected_features = feature_data.columns\n",
    "        X_selected = feature_data\n",
    "    else:\n",
    "        selected_features = pre_selected_features[:feature_size]\n",
    "        X_selected = feature_data[selected_features]\n",
    "    X_train, X_test, y_train, y_test = train_test_split(X_selected, label_data, test_size=0.2, random_state=rng)\n",
    "    print(f'X_train shape: {X_train.shape}, X_test shape: {X_test.shape}')\n",
    "    model.fit(X_train, y_train)\n",
    "    print('Model fitted')\n",
    "    return {'model': model,\n",
    "            'selected_features': selected_features,\n",
    "            'feature_size': feature_size,\n",
    "            'X_test': X_test,\n",
    "            'y_test': y_test\n",
    "            }\n",
    "    \n",
    "def eval_func(X_test, y_test, pipeline_components=None, save_model=False, **kwargs):\n",
    "    \n",
    "    # NOTE: override the X_test, y_test with the ones from pipeline_components\n",
    "    X_test = pipeline_components['X_test']\n",
    "    y_test = pipeline_components['y_test']\n",
    "    print(f'X_test shape: {X_test.shape}, y_test shape: {y_test.shape}')\n",
    "    selected_features, X_selected = select_preset_features(X_test, y_test, pipeline_components['selected_features'])\n",
    "    y_pred = pipeline_components['model'].predict(X_selected)\n",
    "    print(f'y_pred shape: {y_pred.shape}')\n",
    "    # assess performance by pearson correlation\n",
    "    corr, p_vals = pearsonr(y_test, y_pred)\n",
    "\n",
    "    print(f'Correlation: {corr}')\n",
    "    returned_data = {'model_performance': corr, \n",
    "                     'feature_importance': None, ### DO NOT GET RID \n",
    "                     'p_vals': p_vals,\n",
    "                     'selected_features': selected_features,\n",
    "                     'feature_size' : pipeline_components['feature_size']\n",
    "    }\n",
    "    if save_model:\n",
    "        returned_data['model'] = pipeline_components['model']\n",
    "    return returned_data"
   ]
  },
  {
   "cell_type": "markdown",
   "metadata": {},
   "source": [
    "### Performance Debugging"
   ]
  },
  {
   "cell_type": "markdown",
   "metadata": {},
   "source": [
    "Performance Debugging revealed the LinearSVR is substantially faster than SVR with the linear kernal (both implemented by sklearn)"
   ]
  },
  {
   "cell_type": "code",
   "execution_count": 29,
   "metadata": {},
   "outputs": [
    {
     "name": "stdout",
     "output_type": "stream",
     "text": [
      "Feature size: 1000\n",
      "All features selected\n",
      "X_train shape: (800, 1000), X_test shape: (200, 1000)\n",
      "Model fitted\n",
      "y_pred shape: (200,)\n",
      "Correlation: 0.8600728002510242\n"
     ]
    }
   ],
   "source": [
    "model = LinearSVR(max_iter=10000)\n",
    "feature_size = X.shape[1]\n",
    "feature_data = X\n",
    "label_data = y\n",
    "print(f'Feature size: {feature_size}')\n",
    "if feature_size == feature_data.shape[1]:\n",
    "    selected_features = feature_data.columns\n",
    "    X_selected = feature_data\n",
    "    print(f'All features selected')\n",
    "else:\n",
    "    selected_features = feature_list[:feature_size]\n",
    "    X_selected = feature_data[selected_features]\n",
    "    print(f'Randomly selected features')\n",
    "X_train, X_test, y_train, y_test = train_test_split(X_selected, label_data, test_size=0.2, random_state=1)\n",
    "print(f'X_train shape: {X_train.shape}, X_test shape: {X_test.shape}')\n",
    "model.fit(X_train, y_train)\n",
    "print('Model fitted')\n",
    "\n",
    "selected_features, X_selected = select_preset_features(X_test, y_test, selected_features)\n",
    "y_pred = model.predict(X_selected)\n",
    "print(f'y_pred shape: {y_pred.shape}')\n",
    "# assess performance by pearson correlation\n",
    "corr, p_vals = pearsonr(y_test, y_pred)\n",
    "\n",
    "print(f'Correlation: {corr}')"
   ]
  },
  {
   "cell_type": "markdown",
   "metadata": {},
   "source": [
    "### Running on Mock Data"
   ]
  },
  {
   "cell_type": "code",
   "execution_count": 20,
   "metadata": {},
   "outputs": [],
   "source": [
    "powerkit = Powerkit(X,y)\n",
    "\n",
    "# add conditions based on feature size \n",
    "\n",
    "for feature_size in feature_sizes:\n",
    "    powerkit.add_condition(str(feature_size), False, \n",
    "                           pipeline_func, \n",
    "                           {\n",
    "                            \"feature_data\": X,\n",
    "                            \"label_data\": y,\n",
    "                            \"pre_selected_features\": feature_list, \n",
    "                            \"feature_size\": feature_size,\n",
    "                            \"max_iter\": 10000\n",
    "                           },\n",
    "                           eval_func, \n",
    "                           {}\n",
    "                           )"
   ]
  },
  {
   "cell_type": "code",
   "execution_count": 21,
   "metadata": {},
   "outputs": [
    {
     "name": "stderr",
     "output_type": "stream",
     "text": [
      " 22%|██▏       | 5/23 [00:00<00:00, 49.31it/s]"
     ]
    },
    {
     "name": "stdout",
     "output_type": "stream",
     "text": [
      "Feature size: 1\n",
      "X_train shape: (800, 1), X_test shape: (200, 1)\n",
      "Model fitted\n",
      "X_test shape: (200, 1), y_test shape: (200,)\n",
      "y_pred shape: (200,)\n",
      "Correlation: -0.08340392007754936\n",
      "Feature size: 1\n",
      "X_train shape: (800, 1), X_test shape: (200, 1)\n",
      "Model fitted\n",
      "X_test shape: (200, 1), y_test shape: (200,)\n",
      "y_pred shape: (200,)\n",
      "Correlation: 0.0075253167971173745\n",
      "Feature size: 1\n",
      "X_train shape: (800, 1), X_test shape: (200, 1)\n",
      "Model fitted\n",
      "X_test shape: (200, 1), y_test shape: (200,)\n",
      "y_pred shape: (200,)\n",
      "Correlation: 0.013648831931150513\n",
      "Feature size: 2\n",
      "X_train shape: (800, 2), X_test shape: (200, 2)\n",
      "Model fitted\n",
      "X_test shape: (200, 2), y_test shape: (200,)\n",
      "y_pred shape: (200,)\n",
      "Correlation: -0.010707480970576257\n",
      "Feature size: 2\n",
      "X_train shape: (800, 2), X_test shape: (200, 2)\n",
      "Model fitted\n",
      "X_test shape: (200, 2), y_test shape: (200,)\n",
      "y_pred shape: (200,)\n",
      "Correlation: -0.06225051125105026\n",
      "Feature size: 2\n",
      "X_train shape: (800, 2), X_test shape: (200, 2)\n",
      "Model fitted\n",
      "X_test shape: (200, 2), y_test shape: (200,)\n",
      "y_pred shape: (200,)\n",
      "Correlation: -0.046820099687783195\n",
      "Feature size: 3\n",
      "X_train shape: (800, 3), X_test shape: (200, 3)\n",
      "Model fitted\n",
      "X_test shape: (200, 3), y_test shape: (200,)\n",
      "y_pred shape: (200,)\n",
      "Correlation: -0.030700324995503268\n",
      "Feature size: 3\n",
      "X_train shape: (800, 3), X_test shape: (200, 3)\n",
      "Model fitted\n",
      "X_test shape: (200, 3), y_test shape: (200,)\n",
      "y_pred shape: (200,)\n",
      "Correlation: -0.058113337926198654\n",
      "Feature size: 3\n",
      "X_train shape: (800, 3), X_test shape: (200, 3)\n",
      "Model fitted\n",
      "X_test shape: (200, 3), y_test shape: (200,)\n",
      "y_pred shape: (200,)\n",
      "Correlation: -0.11565505778494362\n",
      "Feature size: 4\n",
      "X_train shape: (800, 4), X_test shape: (200, 4)\n",
      "Model fitted\n",
      "X_test shape: (200, 4), y_test shape: (200,)\n",
      "y_pred shape: (200,)\n",
      "Correlation: -0.11315945018558951\n",
      "Feature size: 4\n",
      "X_train shape: (800, 4), X_test shape: (200, 4)\n",
      "Model fitted\n",
      "X_test shape: (200, 4), y_test shape: (200,)\n",
      "y_pred shape: (200,)\n",
      "Correlation: -0.059798078088514076\n",
      "Feature size: 4\n",
      "X_train shape: (800, 4), X_test shape: (200, 4)\n",
      "Model fitted\n",
      "X_test shape: (200, 4), y_test shape: (200,)\n",
      "y_pred shape: (200,)\n",
      "Correlation: -0.09661312552701713\n",
      "Feature size: 5\n",
      "X_train shape: (800, 5), X_test shape: (200, 5)\n",
      "Model fitted\n",
      "X_test shape: (200, 5), y_test shape: (200,)\n",
      "y_pred shape: (200,)\n",
      "Correlation: -0.09899784400389441\n",
      "Feature size: 5\n",
      "X_train shape: (800, 5), X_test shape: (200, 5)\n",
      "Model fitted\n",
      "X_test shape: (200, 5), y_test shape: (200,)\n",
      "y_pred shape: (200,)\n",
      "Correlation: -0.06453161188199952\n",
      "Feature size: 5\n",
      "X_train shape: (800, 5), X_test shape: (200, 5)\n",
      "Model fitted\n",
      "X_test shape: (200, 5), y_test shape: (200,)\n",
      "y_pred shape: (200,)\n",
      "Correlation: -0.09577866704896698\n",
      "Feature size: 6\n",
      "X_train shape: (800, 6), X_test shape: (200, 6)\n",
      "Model fitted\n",
      "X_test shape: (200, 6), y_test shape: (200,)\n",
      "y_pred shape: (200,)\n",
      "Correlation: -0.10336835451564129\n",
      "Feature size: 6\n",
      "X_train shape: (800, 6), X_test shape: (200, 6)\n",
      "Model fitted\n",
      "X_test shape: (200, 6), y_test shape: (200,)\n",
      "y_pred shape: (200,)\n",
      "Correlation: -0.055362632885371146\n",
      "Feature size: 6\n",
      "X_train shape: (800, 6), X_test shape: (200, 6)\n",
      "Model fitted\n",
      "X_test shape: (200, 6), y_test shape: (200,)\n",
      "y_pred shape: (200,)\n",
      "Correlation: -0.08425024656685053\n",
      "Feature size: 7\n",
      "X_train shape: (800, 7), X_test shape: (200, 7)\n",
      "Model fitted\n",
      "X_test shape: (200, 7), y_test shape: (200,)\n",
      "y_pred shape: (200,)\n",
      "Correlation: -0.09345279543261831\n",
      "Feature size: 7\n",
      "X_train shape: (800, 7), X_test shape: (200, 7)\n",
      "Model fitted\n",
      "X_test shape: (200, 7), y_test shape: (200,)\n",
      "y_pred shape: (200,)\n",
      "Correlation: -0.056391666228050565\n",
      "Feature size: 7\n",
      "X_train shape: (800, 7), X_test shape: (200, 7)\n",
      "Model fitted\n",
      "X_test shape: (200, 7), y_test shape: (200,)\n",
      "y_pred shape: (200,)\n",
      "Correlation: -0.10237503983786689\n",
      "Feature size: 8\n",
      "X_train shape: (800, 8), X_test shape: (200, 8)\n",
      "Model fitted\n",
      "X_test shape: (200, 8), y_test shape: (200,)\n",
      "y_pred shape: (200,)\n",
      "Correlation: -0.11369916474536708\n",
      "Feature size: 8\n",
      "X_train shape: (800, 8), X_test shape: (200, 8)\n",
      "Model fitted\n",
      "X_test shape: (200, 8), y_test shape: (200,)\n",
      "y_pred shape: (200,)\n",
      "Correlation: -0.05725931455050746\n",
      "Feature size: 8\n",
      "X_train shape: (800, 8), X_test shape: (200, 8)\n",
      "Model fitted\n",
      "X_test shape: (200, 8), y_test shape: (200,)\n",
      "y_pred shape: (200,)\n",
      "Correlation: -0.1150866289724143\n",
      "Feature size: 9\n",
      "X_train shape: (800, 9), X_test shape: (200, 9)\n",
      "Model fitted\n",
      "X_test shape: (200, 9), y_test shape: (200,)\n",
      "y_pred shape: (200,)\n",
      "Correlation: -0.10852502785431824\n",
      "Feature size: 9\n",
      "X_train shape: (800, 9), X_test shape: (200, 9)\n",
      "Model fitted\n",
      "X_test shape: (200, 9), y_test shape: (200,)\n",
      "y_pred shape: (200,)\n",
      "Correlation: -0.065461191045877\n",
      "Feature size: 9\n",
      "X_train shape: (800, 9), X_test shape: (200, 9)\n",
      "Model fitted\n",
      "X_test shape: (200, 9), y_test shape: (200,)\n",
      "y_pred shape: (200,)\n",
      "Correlation: -0.11000497337343304\n",
      "Feature size: 10\n",
      "X_train shape: (800, 10), X_test shape: (200, 10)\n",
      "Model fitted\n",
      "X_test shape: (200, 10), y_test shape: (200,)\n",
      "y_pred shape: (200,)\n",
      "Correlation: -0.1005867585248026\n",
      "Feature size: 10\n",
      "X_train shape: (800, 10), X_test shape: (200, 10)\n",
      "Model fitted\n",
      "X_test shape: (200, 10), y_test shape: (200,)\n",
      "y_pred shape: (200,)\n",
      "Correlation: -0.03646892054369618\n",
      "Feature size: 10\n",
      "X_train shape: (800, 10), X_test shape: (200, 10)\n",
      "Model fitted\n",
      "X_test shape: (200, 10), y_test shape: (200,)\n",
      "y_pred shape: (200,)\n",
      "Correlation: -0.10160917372178153\n",
      "Feature size: 20\n",
      "X_train shape: (800, 20), X_test shape: (200, 20)\n",
      "Model fitted\n",
      "X_test shape: (200, 20), y_test shape: (200,)\n",
      "y_pred shape: (200,)\n",
      "Correlation: -0.030501121513638603\n"
     ]
    },
    {
     "name": "stderr",
     "output_type": "stream",
     "text": [
      " 48%|████▊     | 11/23 [00:00<00:00, 52.91it/s]"
     ]
    },
    {
     "name": "stdout",
     "output_type": "stream",
     "text": [
      "Feature size: 20\n",
      "X_train shape: (800, 20), X_test shape: (200, 20)\n",
      "Model fitted\n",
      "X_test shape: (200, 20), y_test shape: (200,)\n",
      "y_pred shape: (200,)\n",
      "Correlation: 0.0028021273093511807\n",
      "Feature size: 20\n",
      "X_train shape: (800, 20), X_test shape: (200, 20)\n",
      "Model fitted\n",
      "X_test shape: (200, 20), y_test shape: (200,)\n",
      "y_pred shape: (200,)\n",
      "Correlation: -0.043577348866418925\n",
      "Feature size: 30\n",
      "X_train shape: (800, 30), X_test shape: (200, 30)\n",
      "Model fitted\n",
      "X_test shape: (200, 30), y_test shape: (200,)\n",
      "y_pred shape: (200,)\n",
      "Correlation: -0.08396504914880518\n",
      "Feature size: 30\n",
      "X_train shape: (800, 30), X_test shape: (200, 30)\n",
      "Model fitted\n",
      "X_test shape: (200, 30), y_test shape: (200,)\n",
      "y_pred shape: (200,)\n",
      "Correlation: 0.0402771219692144\n",
      "Feature size: 30\n",
      "X_train shape: (800, 30), X_test shape: (200, 30)\n",
      "Model fitted\n",
      "X_test shape: (200, 30), y_test shape: (200,)\n",
      "y_pred shape: (200,)\n",
      "Correlation: -0.07827608685590484\n",
      "Feature size: 40\n",
      "X_train shape: (800, 40), X_test shape: (200, 40)\n",
      "Model fitted\n",
      "X_test shape: (200, 40), y_test shape: (200,)\n",
      "y_pred shape: (200,)\n",
      "Correlation: -0.02729144570053305\n",
      "Feature size: 40\n",
      "X_train shape: (800, 40), X_test shape: (200, 40)\n",
      "Model fitted\n",
      "X_test shape: (200, 40), y_test shape: (200,)\n",
      "y_pred shape: (200,)\n",
      "Correlation: 0.0539948403557982\n",
      "Feature size: 40\n",
      "X_train shape: (800, 40), X_test shape: (200, 40)\n",
      "Model fitted\n",
      "X_test shape: (200, 40), y_test shape: (200,)\n",
      "y_pred shape: (200,)\n",
      "Correlation: -0.001376078074647616\n",
      "Feature size: 50\n",
      "X_train shape: (800, 50), X_test shape: (200, 50)\n",
      "Model fitted\n",
      "X_test shape: (200, 50), y_test shape: (200,)\n",
      "y_pred shape: (200,)\n",
      "Correlation: -0.013720226250652053\n",
      "Feature size: 50\n",
      "X_train shape: (800, 50), X_test shape: (200, 50)\n",
      "Model fitted\n",
      "X_test shape: (200, 50), y_test shape: (200,)\n",
      "y_pred shape: (200,)\n",
      "Correlation: 0.0551978095517789\n",
      "Feature size: 50\n",
      "X_train shape: (800, 50), X_test shape: (200, 50)\n",
      "Model fitted\n",
      "X_test shape: (200, 50), y_test shape: (200,)\n",
      "y_pred shape: (200,)\n",
      "Correlation: -0.005266827790536476\n",
      "Feature size: 60\n",
      "X_train shape: (800, 60), X_test shape: (200, 60)\n",
      "Model fitted\n",
      "X_test shape: (200, 60), y_test shape: (200,)\n",
      "y_pred shape: (200,)\n",
      "Correlation: -0.0026648997699425855\n",
      "Feature size: 60\n",
      "X_train shape: (800, 60), X_test shape: (200, 60)\n",
      "Model fitted\n",
      "X_test shape: (200, 60), y_test shape: (200,)\n",
      "y_pred shape: (200,)\n",
      "Correlation: 0.061112130957234154\n",
      "Feature size: 60\n",
      "X_train shape: (800, 60), X_test shape: (200, 60)\n",
      "Model fitted\n",
      "X_test shape: (200, 60), y_test shape: (200,)\n",
      "y_pred shape: (200,)\n",
      "Correlation: 0.08225424862335272\n",
      "Feature size: 70\n",
      "X_train shape: (800, 70), X_test shape: (200, 70)\n",
      "Model fitted\n",
      "X_test shape: (200, 70), y_test shape: (200,)\n",
      "y_pred shape: (200,)\n",
      "Correlation: -0.06313844508775951\n",
      "Feature size: 70\n",
      "X_train shape: (800, 70), X_test shape: (200, 70)\n",
      "Model fitted\n",
      "X_test shape: (200, 70), y_test shape: (200,)\n"
     ]
    },
    {
     "name": "stderr",
     "output_type": "stream",
     "text": [
      " 74%|███████▍  | 17/23 [00:00<00:00, 32.80it/s]"
     ]
    },
    {
     "name": "stdout",
     "output_type": "stream",
     "text": [
      "y_pred shape: (200,)\n",
      "Correlation: 0.01744555800324407\n",
      "Feature size: 70\n",
      "X_train shape: (800, 70), X_test shape: (200, 70)\n",
      "Model fitted\n",
      "X_test shape: (200, 70), y_test shape: (200,)\n",
      "y_pred shape: (200,)\n",
      "Correlation: 0.03620913181196262\n",
      "Feature size: 80\n",
      "X_train shape: (800, 80), X_test shape: (200, 80)\n",
      "Model fitted\n",
      "X_test shape: (200, 80), y_test shape: (200,)\n",
      "y_pred shape: (200,)\n",
      "Correlation: -0.05039904542996034\n",
      "Feature size: 80\n",
      "X_train shape: (800, 80), X_test shape: (200, 80)\n",
      "Model fitted\n",
      "X_test shape: (200, 80), y_test shape: (200,)\n",
      "y_pred shape: (200,)\n",
      "Correlation: 0.03356901597869075\n",
      "Feature size: 80\n",
      "X_train shape: (800, 80), X_test shape: (200, 80)\n",
      "Model fitted\n",
      "X_test shape: (200, 80), y_test shape: (200,)\n",
      "y_pred shape: (200,)\n",
      "Correlation: 0.055830130797687685\n",
      "Feature size: 90\n",
      "X_train shape: (800, 90), X_test shape: (200, 90)\n",
      "Model fitted\n",
      "X_test shape: (200, 90), y_test shape: (200,)\n",
      "y_pred shape: (200,)\n",
      "Correlation: -0.04287367064830968\n",
      "Feature size: 90\n",
      "X_train shape: (800, 90), X_test shape: (200, 90)\n",
      "Model fitted\n",
      "X_test shape: (200, 90), y_test shape: (200,)\n",
      "y_pred shape: (200,)\n",
      "Correlation: -0.019353886624027285\n",
      "Feature size: 90\n",
      "X_train shape: (800, 90), X_test shape: (200, 90)\n",
      "Model fitted\n",
      "X_test shape: (200, 90), y_test shape: (200,)\n",
      "y_pred shape: (200,)\n",
      "Correlation: 0.06401660147833546\n",
      "Feature size: 100\n",
      "X_train shape: (800, 100), X_test shape: (200, 100)\n",
      "Model fitted\n",
      "X_test shape: (200, 100), y_test shape: (200,)\n",
      "y_pred shape: (200,)\n",
      "Correlation: -0.02220992092669543\n",
      "Feature size: 100\n",
      "X_train shape: (800, 100), X_test shape: (200, 100)\n",
      "Model fitted\n",
      "X_test shape: (200, 100), y_test shape: (200,)\n",
      "y_pred shape: (200,)\n",
      "Correlation: 0.06058236502056187\n",
      "Feature size: 100\n",
      "X_train shape: (800, 100), X_test shape: (200, 100)\n",
      "Model fitted\n",
      "X_test shape: (200, 100), y_test shape: (200,)\n",
      "y_pred shape: (200,)\n",
      "Correlation: 0.11831815015852719\n",
      "Feature size: 200\n",
      "X_train shape: (800, 200), X_test shape: (200, 200)\n",
      "Model fitted\n",
      "X_test shape: (200, 200), y_test shape: (200,)\n",
      "y_pred shape: (200,)\n",
      "Correlation: 0.4683885040833254\n",
      "Feature size: 200\n",
      "X_train shape: (800, 200), X_test shape: (200, 200)\n",
      "Model fitted\n",
      "X_test shape: (200, 200), y_test shape: (200,)\n",
      "y_pred shape: (200,)\n",
      "Correlation: 0.4039025609962386\n",
      "Feature size: 200\n",
      "X_train shape: (800, 200), X_test shape: (200, 200)\n",
      "Model fitted\n",
      "X_test shape: (200, 200), y_test shape: (200,)\n",
      "y_pred shape: (200,)\n",
      "Correlation: 0.42067809450226024\n",
      "Feature size: 300\n",
      "X_train shape: (800, 300), X_test shape: (200, 300)\n"
     ]
    },
    {
     "name": "stderr",
     "output_type": "stream",
     "text": [
      " 91%|█████████▏| 21/23 [00:00<00:00, 24.83it/s]"
     ]
    },
    {
     "name": "stdout",
     "output_type": "stream",
     "text": [
      "Model fitted\n",
      "X_test shape: (200, 300), y_test shape: (200,)\n",
      "y_pred shape: (200,)\n",
      "Correlation: 0.5149885700926459\n",
      "Feature size: 300\n",
      "X_train shape: (800, 300), X_test shape: (200, 300)\n",
      "Model fitted\n",
      "X_test shape: (200, 300), y_test shape: (200,)\n",
      "y_pred shape: (200,)\n",
      "Correlation: 0.536507158875496\n",
      "Feature size: 300\n",
      "X_train shape: (800, 300), X_test shape: (200, 300)\n",
      "Model fitted\n",
      "X_test shape: (200, 300), y_test shape: (200,)\n",
      "y_pred shape: (200,)\n",
      "Correlation: 0.5499887256668105\n",
      "Feature size: 400\n",
      "X_train shape: (800, 400), X_test shape: (200, 400)\n",
      "Model fitted\n",
      "X_test shape: (200, 400), y_test shape: (200,)\n",
      "y_pred shape: (200,)\n",
      "Correlation: 0.6823673609400857\n",
      "Feature size: 400\n",
      "X_train shape: (800, 400), X_test shape: (200, 400)\n",
      "Model fitted\n",
      "X_test shape: (200, 400), y_test shape: (200,)\n",
      "y_pred shape: (200,)\n",
      "Correlation: 0.658507344167751\n",
      "Feature size: 400\n",
      "X_train shape: (800, 400), X_test shape: (200, 400)\n",
      "Model fitted\n",
      "X_test shape: (200, 400), y_test shape: (200,)\n",
      "y_pred shape: (200,)\n",
      "Correlation: 0.7464682507352887\n",
      "Feature size: 500\n",
      "X_train shape: (800, 500), X_test shape: (200, 500)\n",
      "Model fitted\n",
      "X_test shape: (200, 500), y_test shape: (200,)\n",
      "y_pred shape: (200,)\n",
      "Correlation: 0.999999292536089\n",
      "Feature size: 500\n",
      "X_train shape: (800, 500), X_test shape: (200, 500)\n"
     ]
    },
    {
     "name": "stderr",
     "output_type": "stream",
     "text": [
      "Liblinear failed to converge, increase the number of iterations.\n"
     ]
    },
    {
     "name": "stdout",
     "output_type": "stream",
     "text": [
      "Model fitted\n",
      "X_test shape: (200, 500), y_test shape: (200,)\n",
      "y_pred shape: (200,)\n",
      "Correlation: 0.9999992498408369\n",
      "Feature size: 500\n",
      "X_train shape: (800, 500), X_test shape: (200, 500)\n"
     ]
    },
    {
     "name": "stderr",
     "output_type": "stream",
     "text": [
      "100%|██████████| 23/23 [00:21<00:00,  1.07it/s]"
     ]
    },
    {
     "name": "stdout",
     "output_type": "stream",
     "text": [
      "Model fitted\n",
      "X_test shape: (200, 500), y_test shape: (200,)\n",
      "y_pred shape: (200,)\n",
      "Correlation: 0.9999994707704982\n"
     ]
    },
    {
     "name": "stderr",
     "output_type": "stream",
     "text": [
      "\n"
     ]
    }
   ],
   "source": [
    "from tqdm import tqdm\n",
    "\n",
    "all_dfs = []\n",
    "for feature_size in tqdm(feature_sizes):\n",
    "    df = powerkit.run_selected_condition(str(feature_size), [1,2,3], 1, False)\n",
    "    all_dfs.append(df)\n",
    "    \n",
    "final_df = pd.concat(all_dfs)"
   ]
  },
  {
   "cell_type": "code",
   "execution_count": null,
   "metadata": {},
   "outputs": [],
   "source": [
    "final_df"
   ]
  },
  {
   "cell_type": "markdown",
   "metadata": {},
   "source": [
    "## SY's Rudimentary Pipeline Logic\n",
    "\n",
    "Whole data --> Preprocessing --> Feature Selection --> Splitting --> Fitting\n",
    "\n",
    "This is a fundamentally different process from the current Powerkit protocol. "
   ]
  },
  {
   "cell_type": "code",
   "execution_count": 4,
   "metadata": {},
   "outputs": [
    {
     "name": "stdout",
     "output_type": "stream",
     "text": [
      "Selecting the top 100 features in the data\n"
     ]
    },
    {
     "name": "stderr",
     "output_type": "stream",
     "text": [
      "IProgress not found. Please update jupyter and ipywidgets. See https://ipywidgets.readthedocs.io/en/stable/user_install.html\n"
     ]
    }
   ],
   "source": [
    "print('Selecting the top 100 features in the data')\n",
    "\n",
    "from toolkit import *\n",
    "\n",
    "selected_features, scores = f_regression_select(feature_data, label_data, k=100)"
   ]
  },
  {
   "cell_type": "code",
   "execution_count": 5,
   "metadata": {},
   "outputs": [],
   "source": [
    "from sklearn.svm import SVR\n",
    "\n",
    "model = SVR(kernel='linear')\n",
    "selected_features, X_selected = select_preset_features(feature_data, label_data, selected_features)"
   ]
  },
  {
   "cell_type": "code",
   "execution_count": 6,
   "metadata": {},
   "outputs": [
    {
     "name": "stdout",
     "output_type": "stream",
     "text": [
      "Model trained\n"
     ]
    }
   ],
   "source": [
    "# split the data into training and testing sets\n",
    "\n",
    "from sklearn.model_selection import train_test_split\n",
    "\n",
    "X_train, X_test, y_train, y_test = train_test_split(X_selected, label_data, test_size=0.2, random_state=42)\n",
    "\n",
    "model.fit(X_train, y_train)\n",
    "print('Model trained')"
   ]
  },
  {
   "cell_type": "code",
   "execution_count": 7,
   "metadata": {},
   "outputs": [
    {
     "name": "stdout",
     "output_type": "stream",
     "text": [
      "Mean Squared Error: 2.3432940622273413\n",
      "Pearson Correlation: 0.4649029418773342, p-value: 1.2870656256712425e-07\n"
     ]
    }
   ],
   "source": [
    "# make predictions\n",
    "\n",
    "y_pred = model.predict(X_test)\n",
    "\n",
    "from sklearn.metrics import mean_squared_error\n",
    "# pearson correlation from scipy \n",
    "from scipy.stats import pearsonr\n",
    "\n",
    "mse = mean_squared_error(y_test, y_pred)\n",
    "pearson_corr, p_vals = pearsonr(y_test, y_pred)\n",
    "\n",
    "print(f'Mean Squared Error: {mse}')\n",
    "print(f'Pearson Correlation: {pearson_corr}, p-value: {p_vals}')\n",
    "\n",
    "\n"
   ]
  },
  {
   "cell_type": "code",
   "execution_count": 12,
   "metadata": {},
   "outputs": [
    {
     "name": "stdout",
     "output_type": "stream",
     "text": [
      "Greedy Forward Selecting the top 20 features in the data\n",
      "Feature Selected: RPL3, Score: 0.552636050749855, Feature Size: 2\n",
      "Feature Selected: PPIC, Score: 0.5927602111000807, Feature Size: 3\n",
      "Feature Selected: SETDB2, Score: 0.6098624819706714, Feature Size: 4\n",
      "Feature Selected: BAIAP2, Score: 0.6223589576710935, Feature Size: 5\n",
      "Feature Selected: TUFT1, Score: 0.6289724594011268, Feature Size: 6\n",
      "Feature Selected: SNX21, Score: 0.6389793248636391, Feature Size: 7\n",
      "Feature Selected: GMFG, Score: 0.6397582885947983, Feature Size: 8\n",
      "Feature Selected: ITGAL, Score: 0.6400193045732537, Feature Size: 9\n",
      "Feature Selected: NCKAP1, Score: 0.642028397388853, Feature Size: 10\n",
      "Feature Selected: TESPA1, Score: 0.6439144344847202, Feature Size: 11\n",
      "Feature Selected: SLC49A4, Score: 0.6441354794630852, Feature Size: 12\n",
      "Feature Selected: ITGB5, Score: 0.6494810956678634, Feature Size: 13\n",
      "Feature Selected: SNX24, Score: 0.6512696720556639, Feature Size: 14\n",
      "Feature Selected: TNFRSF12A, Score: 0.6531007351758524, Feature Size: 15\n",
      "Feature Selected: SDC4, Score: 0.6571784005388024, Feature Size: 16\n",
      "Feature Selected: EGFR, Score: 0.657360934232831, Feature Size: 17\n",
      "Feature Selected: RASAL2, Score: 0.6577709910332427, Feature Size: 18\n",
      "Feature Selected: ARHGAP15, Score: 0.6573203738066695, Feature Size: 19\n",
      "Feature Selected: CTTN, Score: 0.6564965325818154, Feature Size: 20\n"
     ]
    }
   ],
   "source": [
    "### Greedy Forward Select, but without resetting the model and report the internal validation scores \n",
    "\n",
    "print('Greedy Forward Selecting the top 20 features in the data')\n",
    "\n",
    "start_feature = selected_features[0]\n",
    "\n",
    "selected_features, scores, model = greedy_feedforward_select_sy(X_selected, label_data,\n",
    "                                                                k=20, \n",
    "                                                                model=model, \n",
    "                                                                start_feature=start_feature, \n",
    "                                                                cv=5,\n",
    "                                                                verbose=1)\n",
    "\n"
   ]
  }
 ],
 "metadata": {
  "kernelspec": {
   "display_name": "venv",
   "language": "python",
   "name": "python3"
  },
  "language_info": {
   "codemirror_mode": {
    "name": "ipython",
    "version": 3
   },
   "file_extension": ".py",
   "mimetype": "text/x-python",
   "name": "python",
   "nbconvert_exporter": "python",
   "pygments_lexer": "ipython3",
   "version": "3.8.10"
  }
 },
 "nbformat": 4,
 "nbformat_minor": 2
}
