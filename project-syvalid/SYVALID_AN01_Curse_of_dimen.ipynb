{
 "cells": [
  {
   "cell_type": "markdown",
   "metadata": {},
   "source": [
    "# Sungyoung Internal Validation Study"
   ]
  },
  {
   "cell_type": "markdown",
   "metadata": {},
   "source": [
    "## Init"
   ]
  },
  {
   "cell_type": "code",
   "execution_count": 1,
   "metadata": {},
   "outputs": [
    {
     "name": "stdout",
     "output_type": "stream",
     "text": [
      "Project path set to: c:\\Users\\dawson\\Documents\\GitHub\\ode-biomarker-project\n"
     ]
    }
   ],
   "source": [
    "import os\n",
    "\n",
    "path = os.getcwd()\n",
    "# find the string 'project' in the path, return index\n",
    "index_project = path.find('project')\n",
    "# slice the path from the index of 'project' to the end\n",
    "project_path = path[:index_project+7]\n",
    "# set the working directory\n",
    "os.chdir(project_path)\n",
    "print(f'Project path set to: {os.getcwd()}')"
   ]
  },
  {
   "cell_type": "code",
   "execution_count": 2,
   "metadata": {},
   "outputs": [],
   "source": [
    "from PathLoader import PathLoader\n",
    "path_loader = PathLoader('data_config.env', 'current_user.env')\n",
    "from DataLink import DataLink\n",
    "data_link = DataLink(path_loader, 'data_codes.csv')"
   ]
  },
  {
   "cell_type": "markdown",
   "metadata": {},
   "source": [
    "## SY's Valiadtion Method for Curse of Dimensionality"
   ]
  },
  {
   "cell_type": "markdown",
   "metadata": {},
   "source": [
    "### Setup"
   ]
  },
  {
   "cell_type": "code",
   "execution_count": 3,
   "metadata": {},
   "outputs": [
    {
     "name": "stdout",
     "output_type": "stream",
     "text": [
      "Loading CCLE Palbociclib..\n",
      "Data loaded for code ccle-gdsc-2-Palbociclib-LN_IC50\n"
     ]
    }
   ],
   "source": [
    "## Loading Data \n",
    "\n",
    "from sklearn.datasets import make_regression\n",
    "from sklearn.model_selection import train_test_split\n",
    "import pandas as pd\n",
    "import numpy as np\n",
    "\n",
    "X, y = make_regression(n_samples=1000, n_informative=50, n_features=1000, noise=0.1)\n",
    "# make X,y into dataframes\n",
    "X = pd.DataFrame(X)\n",
    "y = pd.Series(y)\n",
    "\n",
    "print('Loading CCLE Palbociclib..')\n",
    "\n",
    "loading_code = 'ccle-gdsc-2-Palbociclib-LN_IC50'\n",
    "feature_data, label_data = data_link.get_data_using_code(loading_code)\n",
    "print(f'Data loaded for code {loading_code}')"
   ]
  },
  {
   "cell_type": "code",
   "execution_count": 4,
   "metadata": {},
   "outputs": [],
   "source": [
    "### Functions \n",
    "\n",
    "def log_distributed_feature_size_list(min_size,max_size):\n",
    "    # log distributed feature size list\n",
    "    feature_size_list = []\n",
    "    # first, find the which tenth power the min_size and max_size are\n",
    "    min_power = int(np.log10(min_size))\n",
    "    max_power = int(np.log10(max_size))\n",
    "    # print(f'min_power: {min_power}, max_power: {max_power}')\n",
    "    for power in range(min_power,max_power+1):\n",
    "        for i in range(1,10):\n",
    "            feature_size = i*10**power\n",
    "            if feature_size <= max_size:\n",
    "                feature_size_list.append(feature_size)\n",
    "    return feature_size_list\n",
    "\n",
    "def generate_feature_list(feature_data, feature_size):\n",
    "    feature_list = list(feature_data.columns)\n",
    "    shuffled_feature_list = np.random.permutation(feature_list)\n",
    "    shuffled_feature_list = shuffled_feature_list[:feature_size]\n",
    "    return shuffled_feature_list"
   ]
  },
  {
   "cell_type": "code",
   "execution_count": 5,
   "metadata": {},
   "outputs": [],
   "source": [
    "### Global Parameters \n",
    "\n",
    "no_random_partitions = 100 \n",
    "partitition_seed = 42\n",
    "# set the random seed for the partitions\n",
    "np.random.seed(partitition_seed)\n",
    "partition_random_seed_list = list(np.random.randint(0,1000000,no_random_partitions))\n",
    "features_random_seed = 0\n",
    "np.random.seed(features_random_seed)\n",
    "feature_sizes = log_distributed_feature_size_list(1,feature_data.shape[1])\n",
    "feature_list = generate_feature_list(feature_data, feature_data.shape[1])\n",
    "\n",
    "## File Parameters \n",
    "run_id = 'ccle_pal_2'\n",
    "project_folder_name = 'SYVALID'\n",
    "folder_name = \"AN01_curse_of_dimensionality\"\n",
    "if not os.path.exists(f'{path_loader.get_data_path()}data/results/{project_folder_name}'):\n",
    "    os.makedirs(f'{path_loader.get_data_path()}data/results/{project_folder_name}')\n",
    "    \n",
    "if not os.path.exists(f'{path_loader.get_data_path()}data/results/{project_folder_name}/{folder_name}'):\n",
    "    os.makedirs(f'{path_loader.get_data_path()}data/results/{project_folder_name}/{folder_name}')\n",
    "\n",
    "file_save_path = f'{path_loader.get_data_path()}data/results/{project_folder_name}/{folder_name}/'"
   ]
  },
  {
   "cell_type": "code",
   "execution_count": 6,
   "metadata": {},
   "outputs": [
    {
     "name": "stderr",
     "output_type": "stream",
     "text": [
      "IProgress not found. Please update jupyter and ipywidgets. See https://ipywidgets.readthedocs.io/en/stable/user_install.html\n"
     ]
    }
   ],
   "source": [
    "from sklearn.svm import SVR\n",
    "from sklearn.svm import LinearSVR\n",
    "from sklearn.model_selection import train_test_split\n",
    "from scipy.stats import pearsonr\n",
    "from toolkit import *\n",
    "\n",
    "# import nearest neighbour\n",
    "from sklearn.neighbors import KNeighborsRegressor\n",
    "\n",
    "def pipeline_func(X_train, y_train, rng, feature_data, label_data, pre_selected_features, feature_size, max_iter, **kwargs):\n",
    "    # NOTE: X_train, y_train are not used in this function\n",
    "    model = SVR()\n",
    "    # model = LinearSVR(max_iter=max_iter, random_state=rng)\n",
    "    # model = KNeighborsRegressor(n_neighbors=5)\n",
    "    # print(f'Feature size: {feature_size}')\n",
    "    if feature_size == feature_data.shape[1]:\n",
    "        selected_features = feature_data.columns\n",
    "        X_selected = feature_data\n",
    "    else:\n",
    "        selected_features = pre_selected_features[:feature_size]\n",
    "        X_selected = feature_data[selected_features]\n",
    "    X_train, X_test, y_train, y_test = train_test_split(X_selected, label_data, test_size=0.2, random_state=rng)\n",
    "    # print(f'X_train shape: {X_train.shape}, X_test shape: {X_test.shape}')\n",
    "    model.fit(X_train, y_train)\n",
    "    # print('Model fitted')\n",
    "    return {'model': model,\n",
    "            'selected_features': selected_features,\n",
    "            'feature_size': feature_size,\n",
    "            'X_test': X_test,\n",
    "            'y_test': y_test\n",
    "            }\n",
    "    \n",
    "def eval_func(X_test, y_test, pipeline_components=None, save_model=False, **kwargs):\n",
    "    \n",
    "    # NOTE: override the X_test, y_test with the ones from pipeline_components\n",
    "    X_test = pipeline_components['X_test']\n",
    "    y_test = pipeline_components['y_test']\n",
    "    # print(f'X_test shape: {X_test.shape}, y_test shape: {y_test.shape}')\n",
    "    selected_features, X_selected = select_preset_features(X_test, y_test, pipeline_components['selected_features'])\n",
    "    y_pred = pipeline_components['model'].predict(X_selected)\n",
    "    # print(f'y_pred shape: {y_pred.shape}')\n",
    "    # assess performance by pearson correlation\n",
    "    corr, p_vals = pearsonr(y_test, y_pred)\n",
    "\n",
    "    # print(f'Correlation: {corr}')\n",
    "    returned_data = {'model_performance': corr, \n",
    "                     'feature_importance': None, ### DO NOT GET RID \n",
    "                     'p_vals': p_vals,\n",
    "                     'selected_features': selected_features,\n",
    "                     'feature_size' : pipeline_components['feature_size']\n",
    "    }\n",
    "    if save_model:\n",
    "        returned_data['model'] = pipeline_components['model']\n",
    "    return returned_data"
   ]
  },
  {
   "cell_type": "markdown",
   "metadata": {},
   "source": [
    "### Performance Debugging"
   ]
  },
  {
   "cell_type": "markdown",
   "metadata": {},
   "source": [
    "Performance Debugging revealed the LinearSVR is substantially faster than SVR with the linear kernal (both implemented by sklearn)"
   ]
  },
  {
   "cell_type": "code",
   "execution_count": null,
   "metadata": {},
   "outputs": [],
   "source": [
    "model = LinearSVR(max_iter=10000)\n",
    "feature_size = X.shape[1]\n",
    "feature_data = X\n",
    "label_data = y\n",
    "print(f'Feature size: {feature_size}')\n",
    "if feature_size == feature_data.shape[1]:\n",
    "    selected_features = feature_data.columns\n",
    "    X_selected = feature_data\n",
    "    print(f'All features selected')\n",
    "else:\n",
    "    selected_features = feature_list[:feature_size]\n",
    "    X_selected = feature_data[selected_features]\n",
    "    print(f'Randomly selected features')\n",
    "X_train, X_test, y_train, y_test = train_test_split(X_selected, label_data, test_size=0.2, random_state=1)\n",
    "print(f'X_train shape: {X_train.shape}, X_test shape: {X_test.shape}')\n",
    "model.fit(X_train, y_train)\n",
    "print('Model fitted')\n",
    "\n",
    "selected_features, X_selected = select_preset_features(X_test, y_test, selected_features)\n",
    "y_pred = model.predict(X_selected)\n",
    "print(f'y_pred shape: {y_pred.shape}')\n",
    "# assess performance by pearson correlation\n",
    "corr, p_vals = pearsonr(y_test, y_pred)\n",
    "\n",
    "print(f'Correlation: {corr}')"
   ]
  },
  {
   "cell_type": "markdown",
   "metadata": {},
   "source": [
    "### Running on Mock Data"
   ]
  },
  {
   "cell_type": "code",
   "execution_count": null,
   "metadata": {},
   "outputs": [],
   "source": [
    "powerkit = Powerkit(X,y)\n",
    "\n",
    "# add conditions based on feature size \n",
    "\n",
    "for feature_size in feature_sizes:\n",
    "    powerkit.add_condition(str(feature_size), False, \n",
    "                           pipeline_func, \n",
    "                           {\n",
    "                            \"feature_data\": X,\n",
    "                            \"label_data\": y,\n",
    "                            \"pre_selected_features\": feature_list, \n",
    "                            \"feature_size\": feature_size,\n",
    "                            \"max_iter\": 100000\n",
    "                           },\n",
    "                           eval_func, \n",
    "                           {}\n",
    "                           )"
   ]
  },
  {
   "cell_type": "code",
   "execution_count": null,
   "metadata": {},
   "outputs": [],
   "source": [
    "from tqdm import tqdm\n",
    "\n",
    "all_dfs = []\n",
    "for feature_size in tqdm(feature_sizes):\n",
    "    df = powerkit.run_selected_condition(str(feature_size), partition_random_seed_list, 16, False)\n",
    "    all_dfs.append(df)\n",
    "    \n",
    "final_df = pd.concat(all_dfs)"
   ]
  },
  {
   "cell_type": "code",
   "execution_count": null,
   "metadata": {},
   "outputs": [],
   "source": [
    "final_df.reset_index(inplace=True)"
   ]
  },
  {
   "cell_type": "code",
   "execution_count": null,
   "metadata": {},
   "outputs": [],
   "source": [
    "# import seaborn \n",
    "\n",
    "import seaborn as sns\n",
    "import matplotlib.pyplot as plt\n",
    "\n",
    "# change plot size \n",
    "plt.figure(figsize=(10,6))\n",
    "sns.lineplot(data=final_df, x='condition', y='model_performance')\n",
    "plt.title(f'{run_id} Curse of Dimensionality and Optimal Feature Size', fontsize=18)\n",
    "# xlabel and ylabel, increase font size1\n",
    "plt.xlabel('Feature Size', fontsize=16)\n",
    "plt.ylabel('Model Performance', fontsize=16)\n",
    "# rotate x-axis labels\n",
    "plt.xticks(rotation=45, fontsize=14)\n",
    "plt.yticks(fontsize=14)\n",
    "plt.show()\n",
    "\n"
   ]
  },
  {
   "cell_type": "markdown",
   "metadata": {},
   "source": [
    "### Mock Data Save Figure"
   ]
  },
  {
   "cell_type": "code",
   "execution_count": null,
   "metadata": {},
   "outputs": [],
   "source": [
    "plt.savefig(f'{file_save_path}{run_id}_curse_of_dimensionality.png')"
   ]
  },
  {
   "cell_type": "markdown",
   "metadata": {},
   "source": [
    "### Running on CCLE Palbociclib Data "
   ]
  },
  {
   "cell_type": "markdown",
   "metadata": {},
   "source": [
    "#### Run"
   ]
  },
  {
   "cell_type": "code",
   "execution_count": null,
   "metadata": {},
   "outputs": [],
   "source": [
    "powerkit = Powerkit(feature_data, label_data)\n",
    "\n",
    "# add conditions based on feature size \n",
    "\n",
    "for feature_size in feature_sizes:\n",
    "    powerkit.add_condition(str(feature_size), False, \n",
    "                           pipeline_func, \n",
    "                           {\n",
    "                            \"feature_data\": feature_data,\n",
    "                            \"label_data\": label_data,\n",
    "                            \"pre_selected_features\": feature_list, \n",
    "                            \"feature_size\": feature_size,\n",
    "                            \"max_iter\": 10000\n",
    "                           },\n",
    "                           eval_func, \n",
    "                           {}\n",
    "                           )"
   ]
  },
  {
   "cell_type": "code",
   "execution_count": null,
   "metadata": {},
   "outputs": [],
   "source": [
    "from tqdm import tqdm\n",
    "\n",
    "all_dfs = []\n",
    "for feature_size in tqdm(feature_sizes):\n",
    "    df = powerkit.run_selected_condition(str(feature_size), partition_random_seed_list, 32, False)\n",
    "    all_dfs.append(df)\n",
    "    \n",
    "final_df = pd.concat(all_dfs)"
   ]
  },
  {
   "cell_type": "code",
   "execution_count": null,
   "metadata": {},
   "outputs": [],
   "source": [
    "final_df.reset_index(inplace=True)"
   ]
  },
  {
   "cell_type": "code",
   "execution_count": null,
   "metadata": {},
   "outputs": [],
   "source": [
    "# import seaborn \n",
    "\n",
    "import seaborn as sns\n",
    "import matplotlib.pyplot as plt\n",
    "\n",
    "# change plot size \n",
    "plt.figure(figsize=(10,6))\n",
    "sns.lineplot(data=final_df, x='condition', y='model_performance')\n",
    "plt.title(f'{run_id} Curse of Dimensionality and Optimal Feature Size', fontsize=18)\n",
    "# xlabel and ylabel, increase font size1\n",
    "plt.xlabel('Feature Size', fontsize=16)\n",
    "plt.ylabel('Model Performance', fontsize=16)\n",
    "# rotate x-axis labels\n",
    "plt.xticks(rotation=45, fontsize=14)\n",
    "plt.yticks(fontsize=14)\n",
    "plt.show()\n",
    "\n"
   ]
  },
  {
   "cell_type": "markdown",
   "metadata": {},
   "source": [
    "#### Save Figure and Data"
   ]
  },
  {
   "cell_type": "code",
   "execution_count": null,
   "metadata": {},
   "outputs": [],
   "source": [
    "plt.savefig(f'{file_save_path}{run_id}_curse_of_dimensionality.png')"
   ]
  },
  {
   "cell_type": "code",
   "execution_count": null,
   "metadata": {},
   "outputs": [],
   "source": [
    "final_df.to_pickle(f'{file_save_path}{run_id}_curse_of_dimensionality.pkl')"
   ]
  },
  {
   "cell_type": "code",
   "execution_count": null,
   "metadata": {},
   "outputs": [],
   "source": [
    "final_df"
   ]
  },
  {
   "cell_type": "markdown",
   "metadata": {},
   "source": [
    "### Experiment 1 - Varying Random Feature List on Palbociclib CCLE Data"
   ]
  },
  {
   "cell_type": "markdown",
   "metadata": {},
   "source": [
    "#### Experiment Parameters"
   ]
  },
  {
   "cell_type": "code",
   "execution_count": null,
   "metadata": {},
   "outputs": [],
   "source": [
    "experiment_id = 'experiment_1_run_1'"
   ]
  },
  {
   "cell_type": "code",
   "execution_count": null,
   "metadata": {},
   "outputs": [],
   "source": [
    "root_partition_seed = 15\n",
    "feature_seed_size = 100\n",
    "root_feature_random_seed = 42 \n",
    "np.random.seed(root_feature_random_seed)\n",
    "feature_random_seeds = np.random.randint(0,1000000,feature_seed_size)\n",
    "all_feature_lists = []\n",
    "\n",
    "for seed in feature_random_seeds:\n",
    "    np.random.seed(seed)\n",
    "    feature_list = generate_feature_list(feature_data, feature_data.shape[1])\n",
    "    all_feature_lists.append(feature_list)\n",
    "    \n",
    "feature_sizes = log_distributed_feature_size_list(1, feature_data.shape[1])"
   ]
  },
  {
   "cell_type": "markdown",
   "metadata": {},
   "source": [
    "#### Run Phase"
   ]
  },
  {
   "cell_type": "code",
   "execution_count": null,
   "metadata": {},
   "outputs": [],
   "source": [
    "powerkit = Powerkit(feature_data, label_data)\n",
    "\n",
    "# add conditions based on feature size \n",
    "\n",
    "for feature_size in feature_sizes:\n",
    "    for i, feature_list in enumerate(all_feature_lists):\n",
    "        powerkit.add_condition(str(feature_size)+'_'+str(feature_random_seeds[i]), \n",
    "                               False, \n",
    "                               pipeline_func, \n",
    "                               {\n",
    "                                \"feature_data\": feature_data,\n",
    "                                \"label_data\": label_data,\n",
    "                                \"pre_selected_features\": feature_list, \n",
    "                                \"feature_size\": feature_size,\n",
    "                                \"max_iter\": 10000\n",
    "                               },\n",
    "                               eval_func, \n",
    "                               {}\n",
    "                               )"
   ]
  },
  {
   "cell_type": "code",
   "execution_count": null,
   "metadata": {},
   "outputs": [],
   "source": [
    "from tqdm import tqdm\n",
    "from joblib import Parallel, delayed\n",
    "\n",
    "rng_list = [root_partition_seed]\n",
    "\n",
    "all_dfs = []\n",
    "for feature_size in tqdm(feature_sizes):\n",
    "    dfs = Parallel(n_jobs=32)(delayed(powerkit.run_selected_condition)(str(feature_size)+'_'+str(seed), rng_list, 32, False) for seed in feature_random_seeds)\n",
    "    large_df = pd.concat(dfs)\n",
    "    all_dfs.append(large_df)\n",
    "    \n",
    "final_df = pd.concat(all_dfs)"
   ]
  },
  {
   "cell_type": "markdown",
   "metadata": {},
   "source": [
    "#### Visualisation and Save Data"
   ]
  },
  {
   "cell_type": "code",
   "execution_count": null,
   "metadata": {},
   "outputs": [],
   "source": [
    "final_df[['feature_size', 'feature_seed']] = final_df['condition'].str.split('_', expand=True)"
   ]
  },
  {
   "cell_type": "code",
   "execution_count": null,
   "metadata": {},
   "outputs": [],
   "source": [
    "final_df "
   ]
  },
  {
   "cell_type": "code",
   "execution_count": null,
   "metadata": {},
   "outputs": [],
   "source": [
    "final_df.reset_index(inplace=True)"
   ]
  },
  {
   "cell_type": "code",
   "execution_count": null,
   "metadata": {},
   "outputs": [],
   "source": [
    "# import seaborn \n",
    "\n",
    "import seaborn as sns\n",
    "import matplotlib.pyplot as plt\n",
    "\n",
    "# change plot size \n",
    "plt.figure(figsize=(10,6))\n",
    "sns.lineplot(data=final_df, x='feature_size', y='model_performance')\n",
    "plt.title(f'Varying Feature Lists', fontsize=18)\n",
    "# xlabel and ylabel, increase font size1\n",
    "plt.xlabel('Feature Size', fontsize=16)\n",
    "plt.ylabel('Model Performance', fontsize=16)\n",
    "# rotate x-axis labels\n",
    "plt.xticks(rotation=45, fontsize=14)\n",
    "plt.yticks(fontsize=14)\n",
    "plt.show()\n",
    "\n"
   ]
  },
  {
   "cell_type": "code",
   "execution_count": null,
   "metadata": {},
   "outputs": [],
   "source": [
    "plt.savefig(f'{file_save_path}{experiment_id}_cod_plot.png')"
   ]
  },
  {
   "cell_type": "code",
   "execution_count": null,
   "metadata": {},
   "outputs": [],
   "source": [
    "# save the dataframe as a pickle file \n",
    "\n",
    "final_df.to_pickle(f'{file_save_path}{experiment_id}_final_df.pkl')"
   ]
  },
  {
   "cell_type": "markdown",
   "metadata": {},
   "source": [
    "experiment ids:\n",
    "- experiment_1_run_1: varying feature_list randomly on palbociclib data"
   ]
  },
  {
   "cell_type": "markdown",
   "metadata": {},
   "source": [
    "#### Load Data for additional analysis"
   ]
  },
  {
   "cell_type": "code",
   "execution_count": null,
   "metadata": {},
   "outputs": [],
   "source": [
    "import pandas as pd\n",
    "\n",
    "final_df = pd.read_pickle(f'{file_save_path}experiment_1_run_1_final_df.pkl')"
   ]
  },
  {
   "cell_type": "code",
   "execution_count": null,
   "metadata": {},
   "outputs": [],
   "source": [
    "final_df"
   ]
  },
  {
   "cell_type": "markdown",
   "metadata": {},
   "source": [
    "### Experiment 2 - Varying Signal Noise on Mock Data"
   ]
  },
  {
   "cell_type": "markdown",
   "metadata": {},
   "source": [
    "Modification - the original plan was to vary signal noise while using a random feature list method. However, upon running exp3 first, I wish to prioritise the effect of signal noise on the 'select ground truth first' method."
   ]
  },
  {
   "cell_type": "markdown",
   "metadata": {},
   "source": [
    "#### Experiment Parameters"
   ]
  },
  {
   "cell_type": "code",
   "execution_count": 20,
   "metadata": {},
   "outputs": [],
   "source": [
    "experiment_id = 'experiment_2_run_2'"
   ]
  },
  {
   "cell_type": "code",
   "execution_count": 21,
   "metadata": {},
   "outputs": [],
   "source": [
    "no_random_partitions = 10\n",
    "partitition_seed = 42\n",
    "dataset_seed = 50\n",
    "# set the random seed for the partitions\n",
    "np.random.seed(partitition_seed)\n",
    "partition_random_seed_list = list(np.random.randint(0,1000000,no_random_partitions))\n",
    "max_feature_size = 1000\n",
    "feature_sizes = log_distributed_feature_size_list(1,max_feature_size)\n",
    "signal_noise_variation = [1000,2000,5000]"
   ]
  },
  {
   "cell_type": "markdown",
   "metadata": {},
   "source": [
    "#### Run Phase"
   ]
  },
  {
   "cell_type": "code",
   "execution_count": 22,
   "metadata": {},
   "outputs": [],
   "source": [
    "powerkit = Powerkit(X, y)\n",
    "\n",
    "# add conditions based on feature size \n",
    "\n",
    "for feature_size in feature_sizes:\n",
    "    for noise in signal_noise_variation:\n",
    "        # create dataset \n",
    "        X_known, y_known = make_regression(n_samples=1000, n_informative=50, n_features=max_feature_size, noise=noise, shuffle=False, random_state=dataset_seed)\n",
    "        X_known = pd.DataFrame(X_known)\n",
    "        y_known = pd.Series(y_known)\n",
    "        known_feature_list = list(X_known.columns)\n",
    "        # add condition into powerkit\n",
    "        powerkit.add_condition(str(feature_size)+'_'+str(noise), False, \n",
    "                               pipeline_func, \n",
    "                               {\n",
    "                                \"feature_data\": X_known,\n",
    "                                \"label_data\": y_known,\n",
    "                                \"pre_selected_features\": known_feature_list, \n",
    "                                \"feature_size\": feature_size,\n",
    "                                \"max_iter\": 10000\n",
    "                               },\n",
    "                               eval_func, \n",
    "                               {}\n",
    "                               )"
   ]
  },
  {
   "cell_type": "code",
   "execution_count": 23,
   "metadata": {},
   "outputs": [
    {
     "name": "stderr",
     "output_type": "stream",
     "text": [
      "100%|██████████| 28/28 [05:46<00:00, 12.38s/it]\n"
     ]
    }
   ],
   "source": [
    "from tqdm import tqdm\n",
    "from joblib import Parallel, delayed\n",
    "\n",
    "rng_list = partition_random_seed_list\n",
    "\n",
    "all_dfs = []\n",
    "for feature_size in tqdm(feature_sizes):\n",
    "    dfs = Parallel(n_jobs=32)(delayed(powerkit.run_selected_condition)(str(feature_size)+'_'+str(noise), rng_list, 32, False) for noise in signal_noise_variation)\n",
    "    large_df = pd.concat(dfs)\n",
    "    all_dfs.append(large_df)\n",
    "    \n",
    "final_df = pd.concat(all_dfs)"
   ]
  },
  {
   "cell_type": "markdown",
   "metadata": {},
   "source": [
    "#### Save Data and Figure"
   ]
  },
  {
   "cell_type": "code",
   "execution_count": 24,
   "metadata": {},
   "outputs": [
    {
     "data": {
      "text/html": [
       "<div>\n",
       "<style scoped>\n",
       "    .dataframe tbody tr th:only-of-type {\n",
       "        vertical-align: middle;\n",
       "    }\n",
       "\n",
       "    .dataframe tbody tr th {\n",
       "        vertical-align: top;\n",
       "    }\n",
       "\n",
       "    .dataframe thead th {\n",
       "        text-align: right;\n",
       "    }\n",
       "</style>\n",
       "<table border=\"1\" class=\"dataframe\">\n",
       "  <thead>\n",
       "    <tr style=\"text-align: right;\">\n",
       "      <th></th>\n",
       "      <th>rng</th>\n",
       "      <th>condition</th>\n",
       "      <th>model_performance</th>\n",
       "      <th>p_vals</th>\n",
       "      <th>selected_features</th>\n",
       "      <th>feature_size</th>\n",
       "      <th>noise_level</th>\n",
       "    </tr>\n",
       "  </thead>\n",
       "  <tbody>\n",
       "    <tr>\n",
       "      <th>0</th>\n",
       "      <td>121958</td>\n",
       "      <td>1_0</td>\n",
       "      <td>0.030030</td>\n",
       "      <td>6.729341e-01</td>\n",
       "      <td>[0]</td>\n",
       "      <td>1</td>\n",
       "      <td>0</td>\n",
       "    </tr>\n",
       "    <tr>\n",
       "      <th>1</th>\n",
       "      <td>671155</td>\n",
       "      <td>1_0</td>\n",
       "      <td>0.118866</td>\n",
       "      <td>9.365388e-02</td>\n",
       "      <td>[0]</td>\n",
       "      <td>1</td>\n",
       "      <td>0</td>\n",
       "    </tr>\n",
       "    <tr>\n",
       "      <th>2</th>\n",
       "      <td>131932</td>\n",
       "      <td>1_0</td>\n",
       "      <td>0.095466</td>\n",
       "      <td>1.787211e-01</td>\n",
       "      <td>[0]</td>\n",
       "      <td>1</td>\n",
       "      <td>0</td>\n",
       "    </tr>\n",
       "    <tr>\n",
       "      <th>3</th>\n",
       "      <td>365838</td>\n",
       "      <td>1_0</td>\n",
       "      <td>0.023209</td>\n",
       "      <td>7.442663e-01</td>\n",
       "      <td>[0]</td>\n",
       "      <td>1</td>\n",
       "      <td>0</td>\n",
       "    </tr>\n",
       "    <tr>\n",
       "      <th>4</th>\n",
       "      <td>259178</td>\n",
       "      <td>1_0</td>\n",
       "      <td>0.049045</td>\n",
       "      <td>4.904048e-01</td>\n",
       "      <td>[0]</td>\n",
       "      <td>1</td>\n",
       "      <td>0</td>\n",
       "    </tr>\n",
       "    <tr>\n",
       "      <th>...</th>\n",
       "      <td>...</td>\n",
       "      <td>...</td>\n",
       "      <td>...</td>\n",
       "      <td>...</td>\n",
       "      <td>...</td>\n",
       "      <td>...</td>\n",
       "      <td>...</td>\n",
       "    </tr>\n",
       "    <tr>\n",
       "      <th>5</th>\n",
       "      <td>644167</td>\n",
       "      <td>1000_100</td>\n",
       "      <td>0.444771</td>\n",
       "      <td>4.162606e-11</td>\n",
       "      <td>RangeIndex(start=0, stop=1000, step=1)</td>\n",
       "      <td>1000</td>\n",
       "      <td>100</td>\n",
       "    </tr>\n",
       "    <tr>\n",
       "      <th>6</th>\n",
       "      <td>110268</td>\n",
       "      <td>1000_100</td>\n",
       "      <td>0.482624</td>\n",
       "      <td>4.586289e-13</td>\n",
       "      <td>RangeIndex(start=0, stop=1000, step=1)</td>\n",
       "      <td>1000</td>\n",
       "      <td>100</td>\n",
       "    </tr>\n",
       "    <tr>\n",
       "      <th>7</th>\n",
       "      <td>732180</td>\n",
       "      <td>1000_100</td>\n",
       "      <td>0.573654</td>\n",
       "      <td>6.769971e-19</td>\n",
       "      <td>RangeIndex(start=0, stop=1000, step=1)</td>\n",
       "      <td>1000</td>\n",
       "      <td>100</td>\n",
       "    </tr>\n",
       "    <tr>\n",
       "      <th>8</th>\n",
       "      <td>54886</td>\n",
       "      <td>1000_100</td>\n",
       "      <td>0.579873</td>\n",
       "      <td>2.310882e-19</td>\n",
       "      <td>RangeIndex(start=0, stop=1000, step=1)</td>\n",
       "      <td>1000</td>\n",
       "      <td>100</td>\n",
       "    </tr>\n",
       "    <tr>\n",
       "      <th>9</th>\n",
       "      <td>137337</td>\n",
       "      <td>1000_100</td>\n",
       "      <td>0.589127</td>\n",
       "      <td>4.473260e-20</td>\n",
       "      <td>RangeIndex(start=0, stop=1000, step=1)</td>\n",
       "      <td>1000</td>\n",
       "      <td>100</td>\n",
       "    </tr>\n",
       "  </tbody>\n",
       "</table>\n",
       "<p>3080 rows × 7 columns</p>\n",
       "</div>"
      ],
      "text/plain": [
       "       rng condition  model_performance        p_vals  \\\n",
       "0   121958       1_0           0.030030  6.729341e-01   \n",
       "1   671155       1_0           0.118866  9.365388e-02   \n",
       "2   131932       1_0           0.095466  1.787211e-01   \n",
       "3   365838       1_0           0.023209  7.442663e-01   \n",
       "4   259178       1_0           0.049045  4.904048e-01   \n",
       "..     ...       ...                ...           ...   \n",
       "5   644167  1000_100           0.444771  4.162606e-11   \n",
       "6   110268  1000_100           0.482624  4.586289e-13   \n",
       "7   732180  1000_100           0.573654  6.769971e-19   \n",
       "8    54886  1000_100           0.579873  2.310882e-19   \n",
       "9   137337  1000_100           0.589127  4.473260e-20   \n",
       "\n",
       "                         selected_features feature_size noise_level  \n",
       "0                                      [0]            1           0  \n",
       "1                                      [0]            1           0  \n",
       "2                                      [0]            1           0  \n",
       "3                                      [0]            1           0  \n",
       "4                                      [0]            1           0  \n",
       "..                                     ...          ...         ...  \n",
       "5   RangeIndex(start=0, stop=1000, step=1)         1000         100  \n",
       "6   RangeIndex(start=0, stop=1000, step=1)         1000         100  \n",
       "7   RangeIndex(start=0, stop=1000, step=1)         1000         100  \n",
       "8   RangeIndex(start=0, stop=1000, step=1)         1000         100  \n",
       "9   RangeIndex(start=0, stop=1000, step=1)         1000         100  \n",
       "\n",
       "[3080 rows x 7 columns]"
      ]
     },
     "execution_count": 24,
     "metadata": {},
     "output_type": "execute_result"
    }
   ],
   "source": [
    "final_df[['feature_size', 'noise_level']] = final_df['condition'].str.split('_', expand=True)\n",
    "final_df "
   ]
  },
  {
   "cell_type": "code",
   "execution_count": 25,
   "metadata": {},
   "outputs": [],
   "source": [
    "final_df.reset_index(inplace=True)"
   ]
  },
  {
   "cell_type": "code",
   "execution_count": 26,
   "metadata": {},
   "outputs": [
    {
     "data": {
      "image/png": "[encoded data removed]",
      "text/plain": [
       "<Figure size 1000x600 with 1 Axes>"
      ]
     },
     "metadata": {},
     "output_type": "display_data"
    }
   ],
   "source": [
    "# import seaborn \n",
    "\n",
    "import seaborn as sns\n",
    "import matplotlib.pyplot as plt\n",
    "\n",
    "# change plot size \n",
    "plt.figure(figsize=(10,6))\n",
    "sns.lineplot(data=final_df, x='feature_size', y='model_performance', hue='noise_level')\n",
    "plt.title(f'Varying Signal Noise Level', fontsize=18)\n",
    "# xlabel and ylabel, increase font size1\n",
    "plt.xlabel('Feature Size', fontsize=16)\n",
    "plt.ylabel('Model Performance', fontsize=16)\n",
    "# rotate x-axis labels\n",
    "plt.xticks(rotation=45, fontsize=14)\n",
    "plt.yticks(fontsize=14)\n",
    "plt.show()\n",
    "\n"
   ]
  },
  {
   "cell_type": "code",
   "execution_count": 27,
   "metadata": {},
   "outputs": [
    {
     "data": {
      "text/plain": [
       "<Figure size 640x480 with 0 Axes>"
      ]
     },
     "metadata": {},
     "output_type": "display_data"
    }
   ],
   "source": [
    "plt.savefig(f'{file_save_path}{experiment_id}_cod_plot.png')"
   ]
  },
  {
   "cell_type": "code",
   "execution_count": 28,
   "metadata": {},
   "outputs": [],
   "source": [
    "# save the dataframe as a pickle file \n",
    "\n",
    "final_df.to_pickle(f'{file_save_path}{experiment_id}_final_df.pkl')"
   ]
  },
  {
   "cell_type": "markdown",
   "metadata": {},
   "source": [
    "#### Further Visualisations"
   ]
  },
  {
   "cell_type": "code",
   "execution_count": 28,
   "metadata": {},
   "outputs": [
    {
     "name": "stderr",
     "output_type": "stream",
     "text": [
      "The seaborn styles shipped by Matplotlib are deprecated since 3.6, as they no longer correspond to the styles shipped by seaborn. However, they will remain available as 'seaborn-v0_8-<style>'. Alternatively, directly use the seaborn API instead.\n"
     ]
    },
    {
     "data": {
      "image/png": "[encoded data removed]",
      "text/plain": [
       "<Figure size 2000x1000 with 2 Axes>"
      ]
     },
     "metadata": {},
     "output_type": "display_data"
    }
   ],
   "source": [
    "import pandas as pd\n",
    "import seaborn as sns\n",
    "import matplotlib.pyplot as plt\n",
    "\n",
    "# visualising hwo noise affects features in Make Regression datasets\n",
    "\n",
    "X_known_low_noise, y_known_low_noise = make_regression(n_samples=1000, n_informative=50, n_features=1000, noise=0.1, shuffle=False, random_state=42)\n",
    "X_known_low_noise = pd.DataFrame(X_known_low_noise)\n",
    "y_known_low_noise = pd.Series(y_known_low_noise)\n",
    "known_feature_list = list(X_known_low_noise.columns)\n",
    "\n",
    "X_known_high_noise, y_known_high_noise = make_regression(n_samples=1000, n_informative=50, n_features=1000, noise=1000, shuffle=False, random_state=42)\n",
    "X_known_high_noise = pd.DataFrame(X_known_high_noise)\n",
    "y_known_high_noise = pd.Series(y_known_high_noise)\n",
    "known_feature_list = list(X_known_high_noise.columns)\n",
    "\n",
    "# visualise the first 10 features in the low noise dataset vs high noise dataset in two subplots\n",
    "# make sns to be 'talk' size\n",
    "\n",
    "plt.style.use('seaborn-talk')\n",
    "\n",
    "fig, axs = plt.subplots(1, 2, figsize=(20, 10))\n",
    "sns.histplot(X_known_low_noise.iloc[:,0], ax=axs[0])\n",
    "# make fonts bigger\n",
    "axs[0].tick_params(axis='both', which='major', labelsize=20)\n",
    "axs[0].set_xlabel('Feature Value', fontsize=20)\n",
    "axs[0].set_ylabel('Count', fontsize=20)\n",
    "# make title bigger\n",
    "axs[0].set_title('Low Noise Dataset (0.1)', fontsize=20)\n",
    "sns.histplot(X_known_high_noise.iloc[:,0], ax=axs[1])\n",
    "# make fonts bigger\n",
    "axs[1].tick_params(axis='both', which='major', labelsize=20)\n",
    "axs[1].set_xlabel('Feature Value', fontsize=20)\n",
    "axs[1].set_ylabel('Count', fontsize=20)\n",
    "# make title bigger\n",
    "axs[1].set_title('Low Noise Dataset (0.1)', fontsize=20)\n",
    "plt.show()"
   ]
  },
  {
   "cell_type": "code",
   "execution_count": 29,
   "metadata": {},
   "outputs": [
    {
     "data": {
      "image/png": "[encoded data removed]",
      "text/plain": [
       "<Figure size 2000x1000 with 2 Axes>"
      ]
     },
     "metadata": {},
     "output_type": "display_data"
    }
   ],
   "source": [
    "fig, axs = plt.subplots(1, 2, figsize=(20, 10))\n",
    "sns.histplot(y_known_low_noise, ax=axs[0])\n",
    "axs[0].set_title('Low Noise Dataset (0.1)', fontsize=20)\n",
    "axs[0].set_xlabel('Target Value', fontsize=20)\n",
    "axs[0].set_ylabel('Count', fontsize=20)\n",
    "axs[0].tick_params(axis='both', which='major', labelsize=20)\n",
    "sns.histplot(y_known_high_noise, ax=axs[1])\n",
    "axs[1].set_title('High Noise Dataset (1000)', fontsize=20)\n",
    "axs[1].set_xlabel('Target Value', fontsize=20)\n",
    "axs[1].set_ylabel('Count', fontsize=20)\n",
    "axs[1].tick_params(axis='both', which='major', labelsize=20)\n",
    "plt.show()\n"
   ]
  },
  {
   "cell_type": "markdown",
   "metadata": {},
   "source": [
    "### Experiment 3 - Select Ground Truth First on Mock Data\n",
    "\n",
    "This experiment aims to select ground truth features from the mock data, then gradually add useless features. \n",
    "\n",
    "Since the ground truth features have direct correlations with the label and useless features do not, this is expected to produce a CoD curve that peak at x features (x = no. of ground truth features) then a gradual decline. "
   ]
  },
  {
   "cell_type": "markdown",
   "metadata": {},
   "source": [
    "#### Experiment Parameters"
   ]
  },
  {
   "cell_type": "code",
   "execution_count": null,
   "metadata": {},
   "outputs": [],
   "source": [
    "experiment_id = 'experiment_3_run_3'"
   ]
  },
  {
   "cell_type": "code",
   "execution_count": null,
   "metadata": {},
   "outputs": [],
   "source": [
    "X_known, y_known = make_regression(n_samples=500, n_informative=20, n_features=1000, noise=0.1, shuffle=False)\n",
    "# make X,y into dataframes\n",
    "X_known = pd.DataFrame(X_known)\n",
    "y_known = pd.Series(y_known)\n",
    "\n",
    "known_feature_list = list(X_known.columns)"
   ]
  },
  {
   "cell_type": "code",
   "execution_count": null,
   "metadata": {},
   "outputs": [],
   "source": [
    "no_random_partitions = 100 \n",
    "partitition_seed = 15512\n",
    "# set the random seed for the partitions\n",
    "np.random.seed(partitition_seed)\n",
    "partition_random_seed_list = list(np.random.randint(0,1000000,no_random_partitions))\n",
    "feature_sizes = log_distributed_feature_size_list(1,X_known.shape[1])"
   ]
  },
  {
   "cell_type": "markdown",
   "metadata": {},
   "source": [
    "#### Run Phase"
   ]
  },
  {
   "cell_type": "code",
   "execution_count": null,
   "metadata": {},
   "outputs": [],
   "source": [
    "powerkit = Powerkit(X_known, y_known)\n",
    "\n",
    "# add conditions based on feature size \n",
    "\n",
    "for feature_size in feature_sizes:\n",
    "    powerkit.add_condition(str(feature_size), False, \n",
    "                           pipeline_func, \n",
    "                           {\n",
    "                            \"feature_data\": X_known,\n",
    "                            \"label_data\": y_known,\n",
    "                            \"pre_selected_features\": known_feature_list, \n",
    "                            \"feature_size\": feature_size,\n",
    "                            \"max_iter\": 10000\n",
    "                           },\n",
    "                           eval_func, \n",
    "                           {}\n",
    "                           )"
   ]
  },
  {
   "cell_type": "code",
   "execution_count": null,
   "metadata": {},
   "outputs": [],
   "source": [
    "from tqdm import tqdm\n",
    "\n",
    "all_dfs = []\n",
    "for feature_size in tqdm(feature_sizes):\n",
    "    df = powerkit.run_selected_condition(str(feature_size), partition_random_seed_list, 32, False)\n",
    "    all_dfs.append(df)\n",
    "    \n",
    "final_df = pd.concat(all_dfs)"
   ]
  },
  {
   "cell_type": "markdown",
   "metadata": {},
   "source": [
    "#### Save File and Data"
   ]
  },
  {
   "cell_type": "code",
   "execution_count": null,
   "metadata": {},
   "outputs": [],
   "source": [
    "final_df.reset_index(inplace=True)"
   ]
  },
  {
   "cell_type": "code",
   "execution_count": null,
   "metadata": {},
   "outputs": [],
   "source": [
    "# import seaborn \n",
    "\n",
    "import seaborn as sns\n",
    "import matplotlib.pyplot as plt\n",
    "\n",
    "# change plot size \n",
    "plt.figure(figsize=(10,6))\n",
    "sns.lineplot(data=final_df, x='condition', y='model_performance')\n",
    "plt.title(f'{experiment_id} Curse of Dimensionality and Optimal Feature Size', fontsize=18)\n",
    "# xlabel and ylabel, increase font size1\n",
    "plt.xlabel('Feature Size', fontsize=16)\n",
    "plt.ylabel('Model Performance', fontsize=16)\n",
    "# rotate x-axis labels\n",
    "plt.xticks(rotation=45, fontsize=14)\n",
    "plt.yticks(fontsize=14)\n",
    "plt.show()\n",
    "\n"
   ]
  },
  {
   "cell_type": "code",
   "execution_count": null,
   "metadata": {},
   "outputs": [],
   "source": [
    "plt.savefig(f'{file_save_path}{experiment_id}_cod_plot.png')\n",
    "print(f'Complete - {file_save_path}{experiment_id}_cod_plot.png')\n",
    "# save the dataframe as a pickle file\n",
    "\n",
    "final_df.to_pickle(f'{file_save_path}{experiment_id}_final_df.pkl')\n",
    "print(f'Complete - {file_save_path}{experiment_id}_final_df.pkl')"
   ]
  },
  {
   "cell_type": "markdown",
   "metadata": {},
   "source": [
    "### Experiment 4 - Pearson Correlation on Palbociclib CCLE data as Feature Importance Score"
   ]
  },
  {
   "cell_type": "markdown",
   "metadata": {},
   "source": [
    "Add 100 each time"
   ]
  },
  {
   "cell_type": "markdown",
   "metadata": {},
   "source": [
    "#### Experiment Parameters"
   ]
  },
  {
   "cell_type": "code",
   "execution_count": null,
   "metadata": {},
   "outputs": [],
   "source": [
    "experiment_id = 'experiment_4_run_1'"
   ]
  },
  {
   "cell_type": "markdown",
   "metadata": {},
   "source": [
    "#### Run Phase"
   ]
  },
  {
   "cell_type": "code",
   "execution_count": null,
   "metadata": {},
   "outputs": [],
   "source": []
  },
  {
   "cell_type": "markdown",
   "metadata": {},
   "source": [
    "## SY's Rudimentary Pipeline Logic\n",
    "\n",
    "Whole data --> Preprocessing --> Feature Selection --> Splitting --> Fitting\n",
    "\n",
    "This is a fundamentally different process from the current Powerkit protocol. "
   ]
  },
  {
   "cell_type": "code",
   "execution_count": null,
   "metadata": {},
   "outputs": [],
   "source": [
    "print('Selecting the top 100 features in the data')\n",
    "\n",
    "from toolkit import *\n",
    "\n",
    "selected_features, scores = f_regression_select(feature_data, label_data, k=100)"
   ]
  },
  {
   "cell_type": "code",
   "execution_count": null,
   "metadata": {},
   "outputs": [],
   "source": [
    "from sklearn.svm import SVR\n",
    "\n",
    "model = SVR(kernel='linear')\n",
    "selected_features, X_selected = select_preset_features(feature_data, label_data, selected_features)"
   ]
  },
  {
   "cell_type": "code",
   "execution_count": null,
   "metadata": {},
   "outputs": [],
   "source": [
    "# split the data into training and testing sets\n",
    "\n",
    "from sklearn.model_selection import train_test_split\n",
    "\n",
    "X_train, X_test, y_train, y_test = train_test_split(X_selected, label_data, test_size=0.2, random_state=42)\n",
    "\n",
    "model.fit(X_train, y_train)\n",
    "print('Model trained')"
   ]
  },
  {
   "cell_type": "code",
   "execution_count": null,
   "metadata": {},
   "outputs": [],
   "source": [
    "# make predictions\n",
    "\n",
    "y_pred = model.predict(X_test)\n",
    "\n",
    "from sklearn.metrics import mean_squared_error\n",
    "# pearson correlation from scipy \n",
    "from scipy.stats import pearsonr\n",
    "\n",
    "mse = mean_squared_error(y_test, y_pred)\n",
    "pearson_corr, p_vals = pearsonr(y_test, y_pred)\n",
    "\n",
    "print(f'Mean Squared Error: {mse}')\n",
    "print(f'Pearson Correlation: {pearson_corr}, p-value: {p_vals}')\n",
    "\n",
    "\n"
   ]
  },
  {
   "cell_type": "code",
   "execution_count": null,
   "metadata": {},
   "outputs": [],
   "source": [
    "### Greedy Forward Select, but without resetting the model and report the internal validation scores \n",
    "\n",
    "print('Greedy Forward Selecting the top 20 features in the data')\n",
    "\n",
    "start_feature = selected_features[0]\n",
    "\n",
    "selected_features, scores, model = greedy_feedforward_select_sy(X_selected, label_data,\n",
    "                                                                k=20, \n",
    "                                                                model=model, \n",
    "                                                                start_feature=start_feature, \n",
    "                                                                cv=5,\n",
    "                                                                verbose=1)\n",
    "\n"
   ]
  }
 ],
 "metadata": {
  "kernelspec": {
   "display_name": "venv",
   "language": "python",
   "name": "python3"
  },
  "language_info": {
   "codemirror_mode": {
    "name": "ipython",
    "version": 3
   },
   "file_extension": ".py",
   "mimetype": "text/x-python",
   "name": "python",
   "nbconvert_exporter": "python",
   "pygments_lexer": "ipython3",
   "version": "3.8.10"
  }
 },
 "nbformat": 4,
 "nbformat_minor": 2
}
