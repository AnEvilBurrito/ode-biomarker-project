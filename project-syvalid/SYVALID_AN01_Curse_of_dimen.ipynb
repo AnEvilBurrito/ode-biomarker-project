{
 "cells": [
  {
   "cell_type": "markdown",
   "metadata": {},
   "source": [
    "# Sungyoung Internal Validation Study"
   ]
  },
  {
   "cell_type": "markdown",
   "metadata": {},
   "source": [
    "## Init"
   ]
  },
  {
   "cell_type": "code",
   "execution_count": 1,
   "metadata": {},
   "outputs": [
    {
     "name": "stdout",
     "output_type": "stream",
     "text": [
      "Project path set to: c:\\Github\\ode-biomarker-project\n"
     ]
    }
   ],
   "source": [
    "import os\n",
    "\n",
    "path = os.getcwd()\n",
    "# find the string 'project' in the path, return index\n",
    "index_project = path.find('project')\n",
    "# slice the path from the index of 'project' to the end\n",
    "project_path = path[:index_project+7]\n",
    "# set the working directory\n",
    "os.chdir(project_path)\n",
    "print(f'Project path set to: {os.getcwd()}')"
   ]
  },
  {
   "cell_type": "code",
   "execution_count": 2,
   "metadata": {},
   "outputs": [],
   "source": [
    "from PathLoader import PathLoader\n",
    "path_loader = PathLoader('data_config.env', 'current_user.env')\n",
    "from DataLink import DataLink\n",
    "data_link = DataLink(path_loader, 'data_codes.csv')"
   ]
  },
  {
   "cell_type": "markdown",
   "metadata": {},
   "source": [
    "## SY's Valiadtion Method for Curse of Dimensionality"
   ]
  },
  {
   "cell_type": "markdown",
   "metadata": {},
   "source": [
    "### Setup"
   ]
  },
  {
   "cell_type": "code",
   "execution_count": 3,
   "metadata": {},
   "outputs": [
    {
     "name": "stdout",
     "output_type": "stream",
     "text": [
      "Loading CCLE Palbociclib..\n",
      "Data loaded for code ccle-gdsc-2-Palbociclib-LN_IC50\n"
     ]
    }
   ],
   "source": [
    "## Loading Data \n",
    "\n",
    "from sklearn.datasets import make_regression\n",
    "from sklearn.model_selection import train_test_split\n",
    "import pandas as pd\n",
    "import numpy as np\n",
    "\n",
    "X, y = make_regression(n_samples=1000, n_informative=50, n_features=1000, noise=0.1)\n",
    "# make X,y into dataframes\n",
    "X = pd.DataFrame(X)\n",
    "y = pd.Series(y)\n",
    "\n",
    "print('Loading CCLE Palbociclib..')\n",
    "\n",
    "loading_code = 'ccle-gdsc-2-Palbociclib-LN_IC50'\n",
    "feature_data, label_data = data_link.get_data_using_code(loading_code)\n",
    "print(f'Data loaded for code {loading_code}')"
   ]
  },
  {
   "cell_type": "code",
   "execution_count": 4,
   "metadata": {},
   "outputs": [],
   "source": [
    "### Functions \n",
    "\n",
    "def log_distributed_feature_size_list(min_size,max_size):\n",
    "    # log distributed feature size list\n",
    "    feature_size_list = []\n",
    "    # first, find the which tenth power the min_size and max_size are\n",
    "    min_power = int(np.log10(min_size))\n",
    "    max_power = int(np.log10(max_size))\n",
    "    # print(f'min_power: {min_power}, max_power: {max_power}')\n",
    "    for power in range(min_power,max_power+1):\n",
    "        for i in range(1,10):\n",
    "            feature_size = i*10**power\n",
    "            if feature_size <= max_size:\n",
    "                feature_size_list.append(feature_size)\n",
    "    return feature_size_list\n",
    "\n",
    "def generate_feature_list(feature_data, feature_size):\n",
    "    feature_list = list(feature_data.columns)\n",
    "    shuffled_feature_list = np.random.permutation(feature_list)\n",
    "    shuffled_feature_list = shuffled_feature_list[:feature_size]\n",
    "    return shuffled_feature_list"
   ]
  },
  {
   "cell_type": "code",
   "execution_count": 5,
   "metadata": {},
   "outputs": [],
   "source": [
    "### Global Parameters \n",
    "\n",
    "no_random_partitions = 100 \n",
    "partitition_seed = 42\n",
    "# set the random seed for the partitions\n",
    "np.random.seed(partitition_seed)\n",
    "partition_random_seed_list = list(np.random.randint(0,1000000,no_random_partitions))\n",
    "features_random_seed = 0\n",
    "np.random.seed(features_random_seed)\n",
    "feature_sizes = log_distributed_feature_size_list(1,feature_data.shape[1])\n",
    "feature_list = generate_feature_list(feature_data, feature_data.shape[1])\n",
    "\n",
    "## File Parameters \n",
    "run_id = 'ccle_pal_2'\n",
    "project_folder_name = 'SYVALID'\n",
    "folder_name = \"AN01_curse_of_dimensionality\"\n",
    "if not os.path.exists(f'{path_loader.get_data_path()}data/results/{project_folder_name}'):\n",
    "    os.makedirs(f'{path_loader.get_data_path()}data/results/{project_folder_name}')\n",
    "    \n",
    "if not os.path.exists(f'{path_loader.get_data_path()}data/results/{project_folder_name}/{folder_name}'):\n",
    "    os.makedirs(f'{path_loader.get_data_path()}data/results/{project_folder_name}/{folder_name}')\n",
    "\n",
    "file_save_path = f'{path_loader.get_data_path()}data/results/{project_folder_name}/{folder_name}/'"
   ]
  },
  {
   "cell_type": "code",
   "execution_count": 6,
   "metadata": {},
   "outputs": [
    {
     "name": "stderr",
     "output_type": "stream",
     "text": [
      "IProgress not found. Please update jupyter and ipywidgets. See https://ipywidgets.readthedocs.io/en/stable/user_install.html\n"
     ]
    }
   ],
   "source": [
    "from sklearn.svm import SVR\n",
    "from sklearn.svm import LinearSVR\n",
    "from sklearn.model_selection import train_test_split\n",
    "from scipy.stats import pearsonr\n",
    "from toolkit import *\n",
    "\n",
    "# import nearest neighbour\n",
    "from sklearn.neighbors import KNeighborsRegressor\n",
    "\n",
    "def pipeline_func(X_train, y_train, rng, feature_data, label_data, pre_selected_features, feature_size, max_iter, **kwargs):\n",
    "    # NOTE: X_train, y_train are not used in this function\n",
    "    model = SVR()\n",
    "    # model = LinearSVR(max_iter=max_iter, random_state=rng)\n",
    "    # model = KNeighborsRegressor(n_neighbors=5)\n",
    "    # print(f'Feature size: {feature_size}')\n",
    "    if feature_size == feature_data.shape[1]:\n",
    "        selected_features = feature_data.columns\n",
    "        X_selected = feature_data\n",
    "    else:\n",
    "        selected_features = pre_selected_features[:feature_size]\n",
    "        X_selected = feature_data[selected_features]\n",
    "    X_train, X_test, y_train, y_test = train_test_split(X_selected, label_data, test_size=0.2, random_state=rng)\n",
    "    # print(f'X_train shape: {X_train.shape}, X_test shape: {X_test.shape}')\n",
    "    model.fit(X_train, y_train)\n",
    "    # print('Model fitted')\n",
    "    return {'model': model,\n",
    "            'selected_features': selected_features,\n",
    "            'feature_size': feature_size,\n",
    "            'X_test': X_test,\n",
    "            'y_test': y_test\n",
    "            }\n",
    "    \n",
    "def eval_func(X_test, y_test, pipeline_components=None, save_model=False, **kwargs):\n",
    "    \n",
    "    # NOTE: override the X_test, y_test with the ones from pipeline_components\n",
    "    X_test = pipeline_components['X_test']\n",
    "    y_test = pipeline_components['y_test']\n",
    "    # print(f'X_test shape: {X_test.shape}, y_test shape: {y_test.shape}')\n",
    "    selected_features, X_selected = select_preset_features(X_test, y_test, pipeline_components['selected_features'])\n",
    "    y_pred = pipeline_components['model'].predict(X_selected)\n",
    "    # print(f'y_pred shape: {y_pred.shape}')\n",
    "    # assess performance by pearson correlation\n",
    "    corr, p_vals = pearsonr(y_test, y_pred)\n",
    "\n",
    "    # print(f'Correlation: {corr}')\n",
    "    returned_data = {'model_performance': corr, \n",
    "                     'feature_importance': None, ### DO NOT GET RID \n",
    "                     'p_vals': p_vals,\n",
    "                     'selected_features': selected_features,\n",
    "                     'feature_size' : pipeline_components['feature_size']\n",
    "    }\n",
    "    if save_model:\n",
    "        returned_data['model'] = pipeline_components['model']\n",
    "    return returned_data"
   ]
  },
  {
   "cell_type": "markdown",
   "metadata": {},
   "source": [
    "### Performance Debugging"
   ]
  },
  {
   "cell_type": "markdown",
   "metadata": {},
   "source": [
    "Performance Debugging revealed the LinearSVR is substantially faster than SVR with the linear kernal (both implemented by sklearn)"
   ]
  },
  {
   "cell_type": "code",
   "execution_count": null,
   "metadata": {},
   "outputs": [],
   "source": [
    "model = LinearSVR(max_iter=10000)\n",
    "feature_size = X.shape[1]\n",
    "feature_data = X\n",
    "label_data = y\n",
    "print(f'Feature size: {feature_size}')\n",
    "if feature_size == feature_data.shape[1]:\n",
    "    selected_features = feature_data.columns\n",
    "    X_selected = feature_data\n",
    "    print(f'All features selected')\n",
    "else:\n",
    "    selected_features = feature_list[:feature_size]\n",
    "    X_selected = feature_data[selected_features]\n",
    "    print(f'Randomly selected features')\n",
    "X_train, X_test, y_train, y_test = train_test_split(X_selected, label_data, test_size=0.2, random_state=1)\n",
    "print(f'X_train shape: {X_train.shape}, X_test shape: {X_test.shape}')\n",
    "model.fit(X_train, y_train)\n",
    "print('Model fitted')\n",
    "\n",
    "selected_features, X_selected = select_preset_features(X_test, y_test, selected_features)\n",
    "y_pred = model.predict(X_selected)\n",
    "print(f'y_pred shape: {y_pred.shape}')\n",
    "# assess performance by pearson correlation\n",
    "corr, p_vals = pearsonr(y_test, y_pred)\n",
    "\n",
    "print(f'Correlation: {corr}')"
   ]
  },
  {
   "cell_type": "markdown",
   "metadata": {},
   "source": [
    "### Running on Mock Data"
   ]
  },
  {
   "cell_type": "code",
   "execution_count": null,
   "metadata": {},
   "outputs": [],
   "source": [
    "powerkit = Powerkit(X,y)\n",
    "\n",
    "# add conditions based on feature size \n",
    "\n",
    "for feature_size in feature_sizes:\n",
    "    powerkit.add_condition(str(feature_size), False, \n",
    "                           pipeline_func, \n",
    "                           {\n",
    "                            \"feature_data\": X,\n",
    "                            \"label_data\": y,\n",
    "                            \"pre_selected_features\": feature_list, \n",
    "                            \"feature_size\": feature_size,\n",
    "                            \"max_iter\": 100000\n",
    "                           },\n",
    "                           eval_func, \n",
    "                           {}\n",
    "                           )"
   ]
  },
  {
   "cell_type": "code",
   "execution_count": null,
   "metadata": {},
   "outputs": [],
   "source": [
    "from tqdm import tqdm\n",
    "\n",
    "all_dfs = []\n",
    "for feature_size in tqdm(feature_sizes):\n",
    "    df = powerkit.run_selected_condition(str(feature_size), partition_random_seed_list, 16, False)\n",
    "    all_dfs.append(df)\n",
    "    \n",
    "final_df = pd.concat(all_dfs)"
   ]
  },
  {
   "cell_type": "code",
   "execution_count": null,
   "metadata": {},
   "outputs": [],
   "source": [
    "final_df.reset_index(inplace=True)"
   ]
  },
  {
   "cell_type": "code",
   "execution_count": null,
   "metadata": {},
   "outputs": [],
   "source": [
    "# import seaborn \n",
    "\n",
    "import seaborn as sns\n",
    "import matplotlib.pyplot as plt\n",
    "\n",
    "# change plot size \n",
    "plt.figure(figsize=(10,6))\n",
    "sns.lineplot(data=final_df, x='condition', y='model_performance')\n",
    "plt.title(f'{run_id} Curse of Dimensionality and Optimal Feature Size', fontsize=18)\n",
    "# xlabel and ylabel, increase font size1\n",
    "plt.xlabel('Feature Size', fontsize=16)\n",
    "plt.ylabel('Model Performance', fontsize=16)\n",
    "# rotate x-axis labels\n",
    "plt.xticks(rotation=45, fontsize=14)\n",
    "plt.yticks(fontsize=14)\n",
    "plt.show()\n",
    "\n"
   ]
  },
  {
   "cell_type": "markdown",
   "metadata": {},
   "source": [
    "### Mock Data Save Figure"
   ]
  },
  {
   "cell_type": "code",
   "execution_count": null,
   "metadata": {},
   "outputs": [],
   "source": [
    "plt.savefig(f'{file_save_path}{run_id}_curse_of_dimensionality.png')"
   ]
  },
  {
   "cell_type": "markdown",
   "metadata": {},
   "source": [
    "### Running on CCLE Palbociclib Data "
   ]
  },
  {
   "cell_type": "markdown",
   "metadata": {},
   "source": [
    "#### Run"
   ]
  },
  {
   "cell_type": "code",
   "execution_count": null,
   "metadata": {},
   "outputs": [],
   "source": [
    "powerkit = Powerkit(feature_data, label_data)\n",
    "\n",
    "# add conditions based on feature size \n",
    "\n",
    "for feature_size in feature_sizes:\n",
    "    powerkit.add_condition(str(feature_size), False, \n",
    "                           pipeline_func, \n",
    "                           {\n",
    "                            \"feature_data\": feature_data,\n",
    "                            \"label_data\": label_data,\n",
    "                            \"pre_selected_features\": feature_list, \n",
    "                            \"feature_size\": feature_size,\n",
    "                            \"max_iter\": 10000\n",
    "                           },\n",
    "                           eval_func, \n",
    "                           {}\n",
    "                           )"
   ]
  },
  {
   "cell_type": "code",
   "execution_count": null,
   "metadata": {},
   "outputs": [],
   "source": [
    "from tqdm import tqdm\n",
    "\n",
    "all_dfs = []\n",
    "for feature_size in tqdm(feature_sizes):\n",
    "    df = powerkit.run_selected_condition(str(feature_size), partition_random_seed_list, 32, False)\n",
    "    all_dfs.append(df)\n",
    "    \n",
    "final_df = pd.concat(all_dfs)"
   ]
  },
  {
   "cell_type": "code",
   "execution_count": null,
   "metadata": {},
   "outputs": [],
   "source": [
    "final_df.reset_index(inplace=True)"
   ]
  },
  {
   "cell_type": "code",
   "execution_count": null,
   "metadata": {},
   "outputs": [],
   "source": [
    "# import seaborn \n",
    "\n",
    "import seaborn as sns\n",
    "import matplotlib.pyplot as plt\n",
    "\n",
    "# change plot size \n",
    "plt.figure(figsize=(10,6))\n",
    "sns.lineplot(data=final_df, x='condition', y='model_performance')\n",
    "plt.title(f'{run_id} Curse of Dimensionality and Optimal Feature Size', fontsize=18)\n",
    "# xlabel and ylabel, increase font size1\n",
    "plt.xlabel('Feature Size', fontsize=16)\n",
    "plt.ylabel('Model Performance', fontsize=16)\n",
    "# rotate x-axis labels\n",
    "plt.xticks(rotation=45, fontsize=14)\n",
    "plt.yticks(fontsize=14)\n",
    "plt.show()\n",
    "\n"
   ]
  },
  {
   "cell_type": "markdown",
   "metadata": {},
   "source": [
    "#### Save Figure and Data"
   ]
  },
  {
   "cell_type": "code",
   "execution_count": null,
   "metadata": {},
   "outputs": [],
   "source": [
    "plt.savefig(f'{file_save_path}{run_id}_curse_of_dimensionality.png')"
   ]
  },
  {
   "cell_type": "code",
   "execution_count": null,
   "metadata": {},
   "outputs": [],
   "source": [
    "final_df.to_pickle(f'{file_save_path}{run_id}_curse_of_dimensionality.pkl')"
   ]
  },
  {
   "cell_type": "code",
   "execution_count": null,
   "metadata": {},
   "outputs": [],
   "source": [
    "final_df"
   ]
  },
  {
   "cell_type": "markdown",
   "metadata": {},
   "source": [
    "### Experiment 1 - Varying Random Feature List on Palbociclib CCLE Data"
   ]
  },
  {
   "cell_type": "markdown",
   "metadata": {},
   "source": [
    "#### Experiment Parameters"
   ]
  },
  {
   "cell_type": "code",
   "execution_count": 19,
   "metadata": {},
   "outputs": [],
   "source": [
    "experiment_id = 'experiment_1_run_1'"
   ]
  },
  {
   "cell_type": "code",
   "execution_count": 8,
   "metadata": {},
   "outputs": [],
   "source": [
    "root_partition_seed = 15\n",
    "feature_seed_size = 100\n",
    "root_feature_random_seed = 42 \n",
    "np.random.seed(root_feature_random_seed)\n",
    "feature_random_seeds = np.random.randint(0,1000000,feature_seed_size)\n",
    "all_feature_lists = []\n",
    "\n",
    "for seed in feature_random_seeds:\n",
    "    np.random.seed(seed)\n",
    "    feature_list = generate_feature_list(feature_data, feature_data.shape[1])\n",
    "    all_feature_lists.append(feature_list)\n",
    "    \n",
    "feature_sizes = log_distributed_feature_size_list(1, feature_data.shape[1])"
   ]
  },
  {
   "cell_type": "markdown",
   "metadata": {},
   "source": [
    "#### Run Phase"
   ]
  },
  {
   "cell_type": "code",
   "execution_count": 9,
   "metadata": {},
   "outputs": [],
   "source": [
    "powerkit = Powerkit(feature_data, label_data)\n",
    "\n",
    "# add conditions based on feature size \n",
    "\n",
    "for feature_size in feature_sizes:\n",
    "    for i, feature_list in enumerate(all_feature_lists):\n",
    "        powerkit.add_condition(str(feature_size)+'_'+str(feature_random_seeds[i]), \n",
    "                               False, \n",
    "                               pipeline_func, \n",
    "                               {\n",
    "                                \"feature_data\": feature_data,\n",
    "                                \"label_data\": label_data,\n",
    "                                \"pre_selected_features\": feature_list, \n",
    "                                \"feature_size\": feature_size,\n",
    "                                \"max_iter\": 10000\n",
    "                               },\n",
    "                               eval_func, \n",
    "                               {}\n",
    "                               )"
   ]
  },
  {
   "cell_type": "code",
   "execution_count": null,
   "metadata": {},
   "outputs": [],
   "source": [
    "from tqdm import tqdm\n",
    "from joblib import Parallel, delayed\n",
    "\n",
    "rng_list = [root_partition_seed]\n",
    "\n",
    "all_dfs = []\n",
    "for feature_size in tqdm(feature_sizes):\n",
    "    dfs = Parallel(n_jobs=32)(delayed(powerkit.run_selected_condition)(str(feature_size)+'_'+str(seed), rng_list, 32, False) for seed in feature_random_seeds)\n",
    "    large_df = pd.concat(dfs)\n",
    "    all_dfs.append(large_df)\n",
    "    \n",
    "final_df = pd.concat(all_dfs)"
   ]
  },
  {
   "cell_type": "markdown",
   "metadata": {},
   "source": [
    "#### Visualisation and Save Data"
   ]
  },
  {
   "cell_type": "code",
   "execution_count": 17,
   "metadata": {},
   "outputs": [],
   "source": [
    "final_df[['feature_size', 'feature_seed']] = final_df['condition'].str.split('_', expand=True)"
   ]
  },
  {
   "cell_type": "code",
   "execution_count": 18,
   "metadata": {},
   "outputs": [
    {
     "data": {
      "text/html": [
       "<div>\n",
       "<style scoped>\n",
       "    .dataframe tbody tr th:only-of-type {\n",
       "        vertical-align: middle;\n",
       "    }\n",
       "\n",
       "    .dataframe tbody tr th {\n",
       "        vertical-align: top;\n",
       "    }\n",
       "\n",
       "    .dataframe thead th {\n",
       "        text-align: right;\n",
       "    }\n",
       "</style>\n",
       "<table border=\"1\" class=\"dataframe\">\n",
       "  <thead>\n",
       "    <tr style=\"text-align: right;\">\n",
       "      <th></th>\n",
       "      <th>rng</th>\n",
       "      <th>condition</th>\n",
       "      <th>model_performance</th>\n",
       "      <th>p_vals</th>\n",
       "      <th>selected_features</th>\n",
       "      <th>feature_size</th>\n",
       "      <th>feature_seed</th>\n",
       "    </tr>\n",
       "  </thead>\n",
       "  <tbody>\n",
       "    <tr>\n",
       "      <th>0</th>\n",
       "      <td>15</td>\n",
       "      <td>1_121958</td>\n",
       "      <td>0.302906</td>\n",
       "      <td>9.014638e-04</td>\n",
       "      <td>[ADRM1]</td>\n",
       "      <td>1</td>\n",
       "      <td>121958</td>\n",
       "    </tr>\n",
       "    <tr>\n",
       "      <th>0</th>\n",
       "      <td>15</td>\n",
       "      <td>2_121958</td>\n",
       "      <td>0.351208</td>\n",
       "      <td>1.033736e-04</td>\n",
       "      <td>[ADRM1, LAS1L]</td>\n",
       "      <td>2</td>\n",
       "      <td>121958</td>\n",
       "    </tr>\n",
       "    <tr>\n",
       "      <th>0</th>\n",
       "      <td>15</td>\n",
       "      <td>3_121958</td>\n",
       "      <td>0.290735</td>\n",
       "      <td>1.472760e-03</td>\n",
       "      <td>[ADRM1, LAS1L, ZNF726]</td>\n",
       "      <td>3</td>\n",
       "      <td>121958</td>\n",
       "    </tr>\n",
       "    <tr>\n",
       "      <th>0</th>\n",
       "      <td>15</td>\n",
       "      <td>4_121958</td>\n",
       "      <td>0.320798</td>\n",
       "      <td>4.212802e-04</td>\n",
       "      <td>[ADRM1, LAS1L, ZNF726, CDAN1]</td>\n",
       "      <td>4</td>\n",
       "      <td>121958</td>\n",
       "    </tr>\n",
       "    <tr>\n",
       "      <th>0</th>\n",
       "      <td>15</td>\n",
       "      <td>5_121958</td>\n",
       "      <td>0.316456</td>\n",
       "      <td>5.089172e-04</td>\n",
       "      <td>[ADRM1, LAS1L, ZNF726, CDAN1, ZNF646]</td>\n",
       "      <td>5</td>\n",
       "      <td>121958</td>\n",
       "    </tr>\n",
       "    <tr>\n",
       "      <th>0</th>\n",
       "      <td>15</td>\n",
       "      <td>6_121958</td>\n",
       "      <td>0.404898</td>\n",
       "      <td>5.951666e-06</td>\n",
       "      <td>[ADRM1, LAS1L, ZNF726, CDAN1, ZNF646, STBD1]</td>\n",
       "      <td>6</td>\n",
       "      <td>121958</td>\n",
       "    </tr>\n",
       "    <tr>\n",
       "      <th>0</th>\n",
       "      <td>15</td>\n",
       "      <td>7_121958</td>\n",
       "      <td>0.396860</td>\n",
       "      <td>9.425983e-06</td>\n",
       "      <td>[ADRM1, LAS1L, ZNF726, CDAN1, ZNF646, STBD1, D...</td>\n",
       "      <td>7</td>\n",
       "      <td>121958</td>\n",
       "    </tr>\n",
       "    <tr>\n",
       "      <th>0</th>\n",
       "      <td>15</td>\n",
       "      <td>8_121958</td>\n",
       "      <td>0.441393</td>\n",
       "      <td>6.312749e-07</td>\n",
       "      <td>[ADRM1, LAS1L, ZNF726, CDAN1, ZNF646, STBD1, D...</td>\n",
       "      <td>8</td>\n",
       "      <td>121958</td>\n",
       "    </tr>\n",
       "    <tr>\n",
       "      <th>0</th>\n",
       "      <td>15</td>\n",
       "      <td>9_121958</td>\n",
       "      <td>0.449816</td>\n",
       "      <td>3.620133e-07</td>\n",
       "      <td>[ADRM1, LAS1L, ZNF726, CDAN1, ZNF646, STBD1, D...</td>\n",
       "      <td>9</td>\n",
       "      <td>121958</td>\n",
       "    </tr>\n",
       "    <tr>\n",
       "      <th>0</th>\n",
       "      <td>15</td>\n",
       "      <td>10_121958</td>\n",
       "      <td>0.438992</td>\n",
       "      <td>7.377310e-07</td>\n",
       "      <td>[ADRM1, LAS1L, ZNF726, CDAN1, ZNF646, STBD1, D...</td>\n",
       "      <td>10</td>\n",
       "      <td>121958</td>\n",
       "    </tr>\n",
       "    <tr>\n",
       "      <th>0</th>\n",
       "      <td>15</td>\n",
       "      <td>20_121958</td>\n",
       "      <td>0.525601</td>\n",
       "      <td>1.166469e-09</td>\n",
       "      <td>[ADRM1, LAS1L, ZNF726, CDAN1, ZNF646, STBD1, D...</td>\n",
       "      <td>20</td>\n",
       "      <td>121958</td>\n",
       "    </tr>\n",
       "    <tr>\n",
       "      <th>0</th>\n",
       "      <td>15</td>\n",
       "      <td>30_121958</td>\n",
       "      <td>0.540529</td>\n",
       "      <td>3.163121e-10</td>\n",
       "      <td>[ADRM1, LAS1L, ZNF726, CDAN1, ZNF646, STBD1, D...</td>\n",
       "      <td>30</td>\n",
       "      <td>121958</td>\n",
       "    </tr>\n",
       "    <tr>\n",
       "      <th>0</th>\n",
       "      <td>15</td>\n",
       "      <td>40_121958</td>\n",
       "      <td>0.580567</td>\n",
       "      <td>6.832751e-12</td>\n",
       "      <td>[ADRM1, LAS1L, ZNF726, CDAN1, ZNF646, STBD1, D...</td>\n",
       "      <td>40</td>\n",
       "      <td>121958</td>\n",
       "    </tr>\n",
       "    <tr>\n",
       "      <th>0</th>\n",
       "      <td>15</td>\n",
       "      <td>50_121958</td>\n",
       "      <td>0.556555</td>\n",
       "      <td>7.243515e-11</td>\n",
       "      <td>[ADRM1, LAS1L, ZNF726, CDAN1, ZNF646, STBD1, D...</td>\n",
       "      <td>50</td>\n",
       "      <td>121958</td>\n",
       "    </tr>\n",
       "    <tr>\n",
       "      <th>0</th>\n",
       "      <td>15</td>\n",
       "      <td>60_121958</td>\n",
       "      <td>0.592054</td>\n",
       "      <td>2.060143e-12</td>\n",
       "      <td>[ADRM1, LAS1L, ZNF726, CDAN1, ZNF646, STBD1, D...</td>\n",
       "      <td>60</td>\n",
       "      <td>121958</td>\n",
       "    </tr>\n",
       "    <tr>\n",
       "      <th>0</th>\n",
       "      <td>15</td>\n",
       "      <td>70_121958</td>\n",
       "      <td>0.600421</td>\n",
       "      <td>8.345532e-13</td>\n",
       "      <td>[ADRM1, LAS1L, ZNF726, CDAN1, ZNF646, STBD1, D...</td>\n",
       "      <td>70</td>\n",
       "      <td>121958</td>\n",
       "    </tr>\n",
       "    <tr>\n",
       "      <th>0</th>\n",
       "      <td>15</td>\n",
       "      <td>80_121958</td>\n",
       "      <td>0.599715</td>\n",
       "      <td>9.016123e-13</td>\n",
       "      <td>[ADRM1, LAS1L, ZNF726, CDAN1, ZNF646, STBD1, D...</td>\n",
       "      <td>80</td>\n",
       "      <td>121958</td>\n",
       "    </tr>\n",
       "    <tr>\n",
       "      <th>0</th>\n",
       "      <td>15</td>\n",
       "      <td>90_121958</td>\n",
       "      <td>0.606173</td>\n",
       "      <td>4.415544e-13</td>\n",
       "      <td>[ADRM1, LAS1L, ZNF726, CDAN1, ZNF646, STBD1, D...</td>\n",
       "      <td>90</td>\n",
       "      <td>121958</td>\n",
       "    </tr>\n",
       "    <tr>\n",
       "      <th>0</th>\n",
       "      <td>15</td>\n",
       "      <td>100_121958</td>\n",
       "      <td>0.600336</td>\n",
       "      <td>8.423669e-13</td>\n",
       "      <td>[ADRM1, LAS1L, ZNF726, CDAN1, ZNF646, STBD1, D...</td>\n",
       "      <td>100</td>\n",
       "      <td>121958</td>\n",
       "    </tr>\n",
       "    <tr>\n",
       "      <th>0</th>\n",
       "      <td>15</td>\n",
       "      <td>200_121958</td>\n",
       "      <td>0.663549</td>\n",
       "      <td>3.562510e-16</td>\n",
       "      <td>[ADRM1, LAS1L, ZNF726, CDAN1, ZNF646, STBD1, D...</td>\n",
       "      <td>200</td>\n",
       "      <td>121958</td>\n",
       "    </tr>\n",
       "    <tr>\n",
       "      <th>0</th>\n",
       "      <td>15</td>\n",
       "      <td>300_121958</td>\n",
       "      <td>0.661950</td>\n",
       "      <td>4.437185e-16</td>\n",
       "      <td>[ADRM1, LAS1L, ZNF726, CDAN1, ZNF646, STBD1, D...</td>\n",
       "      <td>300</td>\n",
       "      <td>121958</td>\n",
       "    </tr>\n",
       "    <tr>\n",
       "      <th>0</th>\n",
       "      <td>15</td>\n",
       "      <td>400_121958</td>\n",
       "      <td>0.657463</td>\n",
       "      <td>8.160495e-16</td>\n",
       "      <td>[ADRM1, LAS1L, ZNF726, CDAN1, ZNF646, STBD1, D...</td>\n",
       "      <td>400</td>\n",
       "      <td>121958</td>\n",
       "    </tr>\n",
       "    <tr>\n",
       "      <th>0</th>\n",
       "      <td>15</td>\n",
       "      <td>500_121958</td>\n",
       "      <td>0.665637</td>\n",
       "      <td>2.668748e-16</td>\n",
       "      <td>[ADRM1, LAS1L, ZNF726, CDAN1, ZNF646, STBD1, D...</td>\n",
       "      <td>500</td>\n",
       "      <td>121958</td>\n",
       "    </tr>\n",
       "    <tr>\n",
       "      <th>0</th>\n",
       "      <td>15</td>\n",
       "      <td>600_121958</td>\n",
       "      <td>0.661867</td>\n",
       "      <td>4.487754e-16</td>\n",
       "      <td>[ADRM1, LAS1L, ZNF726, CDAN1, ZNF646, STBD1, D...</td>\n",
       "      <td>600</td>\n",
       "      <td>121958</td>\n",
       "    </tr>\n",
       "    <tr>\n",
       "      <th>0</th>\n",
       "      <td>15</td>\n",
       "      <td>700_121958</td>\n",
       "      <td>0.674726</td>\n",
       "      <td>7.384221e-17</td>\n",
       "      <td>[ADRM1, LAS1L, ZNF726, CDAN1, ZNF646, STBD1, D...</td>\n",
       "      <td>700</td>\n",
       "      <td>121958</td>\n",
       "    </tr>\n",
       "    <tr>\n",
       "      <th>0</th>\n",
       "      <td>15</td>\n",
       "      <td>800_121958</td>\n",
       "      <td>0.685873</td>\n",
       "      <td>1.433263e-17</td>\n",
       "      <td>[ADRM1, LAS1L, ZNF726, CDAN1, ZNF646, STBD1, D...</td>\n",
       "      <td>800</td>\n",
       "      <td>121958</td>\n",
       "    </tr>\n",
       "    <tr>\n",
       "      <th>0</th>\n",
       "      <td>15</td>\n",
       "      <td>900_121958</td>\n",
       "      <td>0.686005</td>\n",
       "      <td>1.404923e-17</td>\n",
       "      <td>[ADRM1, LAS1L, ZNF726, CDAN1, ZNF646, STBD1, D...</td>\n",
       "      <td>900</td>\n",
       "      <td>121958</td>\n",
       "    </tr>\n",
       "    <tr>\n",
       "      <th>0</th>\n",
       "      <td>15</td>\n",
       "      <td>1000_121958</td>\n",
       "      <td>0.686407</td>\n",
       "      <td>1.322466e-17</td>\n",
       "      <td>[ADRM1, LAS1L, ZNF726, CDAN1, ZNF646, STBD1, D...</td>\n",
       "      <td>1000</td>\n",
       "      <td>121958</td>\n",
       "    </tr>\n",
       "    <tr>\n",
       "      <th>0</th>\n",
       "      <td>15</td>\n",
       "      <td>2000_121958</td>\n",
       "      <td>0.689829</td>\n",
       "      <td>7.869453e-18</td>\n",
       "      <td>[ADRM1, LAS1L, ZNF726, CDAN1, ZNF646, STBD1, D...</td>\n",
       "      <td>2000</td>\n",
       "      <td>121958</td>\n",
       "    </tr>\n",
       "    <tr>\n",
       "      <th>0</th>\n",
       "      <td>15</td>\n",
       "      <td>3000_121958</td>\n",
       "      <td>0.703898</td>\n",
       "      <td>8.616575e-19</td>\n",
       "      <td>[ADRM1, LAS1L, ZNF726, CDAN1, ZNF646, STBD1, D...</td>\n",
       "      <td>3000</td>\n",
       "      <td>121958</td>\n",
       "    </tr>\n",
       "    <tr>\n",
       "      <th>0</th>\n",
       "      <td>15</td>\n",
       "      <td>4000_121958</td>\n",
       "      <td>0.712196</td>\n",
       "      <td>2.197500e-19</td>\n",
       "      <td>[ADRM1, LAS1L, ZNF726, CDAN1, ZNF646, STBD1, D...</td>\n",
       "      <td>4000</td>\n",
       "      <td>121958</td>\n",
       "    </tr>\n",
       "    <tr>\n",
       "      <th>0</th>\n",
       "      <td>15</td>\n",
       "      <td>5000_121958</td>\n",
       "      <td>0.716106</td>\n",
       "      <td>1.135014e-19</td>\n",
       "      <td>[ADRM1, LAS1L, ZNF726, CDAN1, ZNF646, STBD1, D...</td>\n",
       "      <td>5000</td>\n",
       "      <td>121958</td>\n",
       "    </tr>\n",
       "    <tr>\n",
       "      <th>0</th>\n",
       "      <td>15</td>\n",
       "      <td>6000_121958</td>\n",
       "      <td>0.715001</td>\n",
       "      <td>1.369548e-19</td>\n",
       "      <td>[ADRM1, LAS1L, ZNF726, CDAN1, ZNF646, STBD1, D...</td>\n",
       "      <td>6000</td>\n",
       "      <td>121958</td>\n",
       "    </tr>\n",
       "    <tr>\n",
       "      <th>0</th>\n",
       "      <td>15</td>\n",
       "      <td>7000_121958</td>\n",
       "      <td>0.713018</td>\n",
       "      <td>1.914110e-19</td>\n",
       "      <td>[ADRM1, LAS1L, ZNF726, CDAN1, ZNF646, STBD1, D...</td>\n",
       "      <td>7000</td>\n",
       "      <td>121958</td>\n",
       "    </tr>\n",
       "    <tr>\n",
       "      <th>0</th>\n",
       "      <td>15</td>\n",
       "      <td>8000_121958</td>\n",
       "      <td>0.718466</td>\n",
       "      <td>7.576851e-20</td>\n",
       "      <td>[ADRM1, LAS1L, ZNF726, CDAN1, ZNF646, STBD1, D...</td>\n",
       "      <td>8000</td>\n",
       "      <td>121958</td>\n",
       "    </tr>\n",
       "    <tr>\n",
       "      <th>0</th>\n",
       "      <td>15</td>\n",
       "      <td>9000_121958</td>\n",
       "      <td>0.718492</td>\n",
       "      <td>7.542634e-20</td>\n",
       "      <td>[ADRM1, LAS1L, ZNF726, CDAN1, ZNF646, STBD1, D...</td>\n",
       "      <td>9000</td>\n",
       "      <td>121958</td>\n",
       "    </tr>\n",
       "    <tr>\n",
       "      <th>0</th>\n",
       "      <td>15</td>\n",
       "      <td>10000_121958</td>\n",
       "      <td>0.717734</td>\n",
       "      <td>8.592169e-20</td>\n",
       "      <td>[ADRM1, LAS1L, ZNF726, CDAN1, ZNF646, STBD1, D...</td>\n",
       "      <td>10000</td>\n",
       "      <td>121958</td>\n",
       "    </tr>\n",
       "  </tbody>\n",
       "</table>\n",
       "</div>"
      ],
      "text/plain": [
       "   rng     condition  model_performance        p_vals  \\\n",
       "0   15      1_121958           0.302906  9.014638e-04   \n",
       "0   15      2_121958           0.351208  1.033736e-04   \n",
       "0   15      3_121958           0.290735  1.472760e-03   \n",
       "0   15      4_121958           0.320798  4.212802e-04   \n",
       "0   15      5_121958           0.316456  5.089172e-04   \n",
       "0   15      6_121958           0.404898  5.951666e-06   \n",
       "0   15      7_121958           0.396860  9.425983e-06   \n",
       "0   15      8_121958           0.441393  6.312749e-07   \n",
       "0   15      9_121958           0.449816  3.620133e-07   \n",
       "0   15     10_121958           0.438992  7.377310e-07   \n",
       "0   15     20_121958           0.525601  1.166469e-09   \n",
       "0   15     30_121958           0.540529  3.163121e-10   \n",
       "0   15     40_121958           0.580567  6.832751e-12   \n",
       "0   15     50_121958           0.556555  7.243515e-11   \n",
       "0   15     60_121958           0.592054  2.060143e-12   \n",
       "0   15     70_121958           0.600421  8.345532e-13   \n",
       "0   15     80_121958           0.599715  9.016123e-13   \n",
       "0   15     90_121958           0.606173  4.415544e-13   \n",
       "0   15    100_121958           0.600336  8.423669e-13   \n",
       "0   15    200_121958           0.663549  3.562510e-16   \n",
       "0   15    300_121958           0.661950  4.437185e-16   \n",
       "0   15    400_121958           0.657463  8.160495e-16   \n",
       "0   15    500_121958           0.665637  2.668748e-16   \n",
       "0   15    600_121958           0.661867  4.487754e-16   \n",
       "0   15    700_121958           0.674726  7.384221e-17   \n",
       "0   15    800_121958           0.685873  1.433263e-17   \n",
       "0   15    900_121958           0.686005  1.404923e-17   \n",
       "0   15   1000_121958           0.686407  1.322466e-17   \n",
       "0   15   2000_121958           0.689829  7.869453e-18   \n",
       "0   15   3000_121958           0.703898  8.616575e-19   \n",
       "0   15   4000_121958           0.712196  2.197500e-19   \n",
       "0   15   5000_121958           0.716106  1.135014e-19   \n",
       "0   15   6000_121958           0.715001  1.369548e-19   \n",
       "0   15   7000_121958           0.713018  1.914110e-19   \n",
       "0   15   8000_121958           0.718466  7.576851e-20   \n",
       "0   15   9000_121958           0.718492  7.542634e-20   \n",
       "0   15  10000_121958           0.717734  8.592169e-20   \n",
       "\n",
       "                                   selected_features feature_size feature_seed  \n",
       "0                                            [ADRM1]            1       121958  \n",
       "0                                     [ADRM1, LAS1L]            2       121958  \n",
       "0                             [ADRM1, LAS1L, ZNF726]            3       121958  \n",
       "0                      [ADRM1, LAS1L, ZNF726, CDAN1]            4       121958  \n",
       "0              [ADRM1, LAS1L, ZNF726, CDAN1, ZNF646]            5       121958  \n",
       "0       [ADRM1, LAS1L, ZNF726, CDAN1, ZNF646, STBD1]            6       121958  \n",
       "0  [ADRM1, LAS1L, ZNF726, CDAN1, ZNF646, STBD1, D...            7       121958  \n",
       "0  [ADRM1, LAS1L, ZNF726, CDAN1, ZNF646, STBD1, D...            8       121958  \n",
       "0  [ADRM1, LAS1L, ZNF726, CDAN1, ZNF646, STBD1, D...            9       121958  \n",
       "0  [ADRM1, LAS1L, ZNF726, CDAN1, ZNF646, STBD1, D...           10       121958  \n",
       "0  [ADRM1, LAS1L, ZNF726, CDAN1, ZNF646, STBD1, D...           20       121958  \n",
       "0  [ADRM1, LAS1L, ZNF726, CDAN1, ZNF646, STBD1, D...           30       121958  \n",
       "0  [ADRM1, LAS1L, ZNF726, CDAN1, ZNF646, STBD1, D...           40       121958  \n",
       "0  [ADRM1, LAS1L, ZNF726, CDAN1, ZNF646, STBD1, D...           50       121958  \n",
       "0  [ADRM1, LAS1L, ZNF726, CDAN1, ZNF646, STBD1, D...           60       121958  \n",
       "0  [ADRM1, LAS1L, ZNF726, CDAN1, ZNF646, STBD1, D...           70       121958  \n",
       "0  [ADRM1, LAS1L, ZNF726, CDAN1, ZNF646, STBD1, D...           80       121958  \n",
       "0  [ADRM1, LAS1L, ZNF726, CDAN1, ZNF646, STBD1, D...           90       121958  \n",
       "0  [ADRM1, LAS1L, ZNF726, CDAN1, ZNF646, STBD1, D...          100       121958  \n",
       "0  [ADRM1, LAS1L, ZNF726, CDAN1, ZNF646, STBD1, D...          200       121958  \n",
       "0  [ADRM1, LAS1L, ZNF726, CDAN1, ZNF646, STBD1, D...          300       121958  \n",
       "0  [ADRM1, LAS1L, ZNF726, CDAN1, ZNF646, STBD1, D...          400       121958  \n",
       "0  [ADRM1, LAS1L, ZNF726, CDAN1, ZNF646, STBD1, D...          500       121958  \n",
       "0  [ADRM1, LAS1L, ZNF726, CDAN1, ZNF646, STBD1, D...          600       121958  \n",
       "0  [ADRM1, LAS1L, ZNF726, CDAN1, ZNF646, STBD1, D...          700       121958  \n",
       "0  [ADRM1, LAS1L, ZNF726, CDAN1, ZNF646, STBD1, D...          800       121958  \n",
       "0  [ADRM1, LAS1L, ZNF726, CDAN1, ZNF646, STBD1, D...          900       121958  \n",
       "0  [ADRM1, LAS1L, ZNF726, CDAN1, ZNF646, STBD1, D...         1000       121958  \n",
       "0  [ADRM1, LAS1L, ZNF726, CDAN1, ZNF646, STBD1, D...         2000       121958  \n",
       "0  [ADRM1, LAS1L, ZNF726, CDAN1, ZNF646, STBD1, D...         3000       121958  \n",
       "0  [ADRM1, LAS1L, ZNF726, CDAN1, ZNF646, STBD1, D...         4000       121958  \n",
       "0  [ADRM1, LAS1L, ZNF726, CDAN1, ZNF646, STBD1, D...         5000       121958  \n",
       "0  [ADRM1, LAS1L, ZNF726, CDAN1, ZNF646, STBD1, D...         6000       121958  \n",
       "0  [ADRM1, LAS1L, ZNF726, CDAN1, ZNF646, STBD1, D...         7000       121958  \n",
       "0  [ADRM1, LAS1L, ZNF726, CDAN1, ZNF646, STBD1, D...         8000       121958  \n",
       "0  [ADRM1, LAS1L, ZNF726, CDAN1, ZNF646, STBD1, D...         9000       121958  \n",
       "0  [ADRM1, LAS1L, ZNF726, CDAN1, ZNF646, STBD1, D...        10000       121958  "
      ]
     },
     "execution_count": 18,
     "metadata": {},
     "output_type": "execute_result"
    }
   ],
   "source": [
    "final_df "
   ]
  },
  {
   "cell_type": "code",
   "execution_count": 20,
   "metadata": {},
   "outputs": [],
   "source": [
    "final_df.reset_index(inplace=True)"
   ]
  },
  {
   "cell_type": "code",
   "execution_count": 44,
   "metadata": {},
   "outputs": [
    {
     "data": {
      "image/png": "[encoded data removed]",
      "text/plain": [
       "<Figure size 1000x600 with 1 Axes>"
      ]
     },
     "metadata": {},
     "output_type": "display_data"
    }
   ],
   "source": [
    "# import seaborn \n",
    "\n",
    "import seaborn as sns\n",
    "import matplotlib.pyplot as plt\n",
    "\n",
    "# change plot size \n",
    "plt.figure(figsize=(10,6))\n",
    "sns.lineplot(data=final_df, x='feature_size', y='model_performance')\n",
    "plt.title(f'Varying Feature Lists', fontsize=18)\n",
    "# xlabel and ylabel, increase font size1\n",
    "plt.xlabel('Feature Size', fontsize=16)\n",
    "plt.ylabel('Model Performance', fontsize=16)\n",
    "# rotate x-axis labels\n",
    "plt.xticks(rotation=45, fontsize=14)\n",
    "plt.yticks(fontsize=14)\n",
    "plt.show()\n",
    "\n"
   ]
  },
  {
   "cell_type": "code",
   "execution_count": null,
   "metadata": {},
   "outputs": [],
   "source": [
    "plt.savefig(f'{file_save_path}{experiment_id}_cod_plot.png')"
   ]
  },
  {
   "cell_type": "code",
   "execution_count": 22,
   "metadata": {},
   "outputs": [],
   "source": [
    "# save the dataframe as a pickle file \n",
    "\n",
    "final_df.to_pickle(f'{file_save_path}{experiment_id}_final_df.pkl')"
   ]
  },
  {
   "cell_type": "markdown",
   "metadata": {},
   "source": [
    "experiment ids:\n",
    "- experiment_1_run_1: varying feature_list randomly on palbociclib data"
   ]
  },
  {
   "cell_type": "markdown",
   "metadata": {},
   "source": [
    "#### Load Data for additional analysis"
   ]
  },
  {
   "cell_type": "code",
   "execution_count": 11,
   "metadata": {},
   "outputs": [],
   "source": [
    "import pandas as pd\n",
    "\n",
    "final_df = pd.read_pickle(f'{file_save_path}experiment_1_run_1_final_df.pkl')"
   ]
  },
  {
   "cell_type": "code",
   "execution_count": 12,
   "metadata": {},
   "outputs": [
    {
     "data": {
      "text/html": [
       "<div>\n",
       "<style scoped>\n",
       "    .dataframe tbody tr th:only-of-type {\n",
       "        vertical-align: middle;\n",
       "    }\n",
       "\n",
       "    .dataframe tbody tr th {\n",
       "        vertical-align: top;\n",
       "    }\n",
       "\n",
       "    .dataframe thead th {\n",
       "        text-align: right;\n",
       "    }\n",
       "</style>\n",
       "<table border=\"1\" class=\"dataframe\">\n",
       "  <thead>\n",
       "    <tr style=\"text-align: right;\">\n",
       "      <th></th>\n",
       "      <th>index</th>\n",
       "      <th>rng</th>\n",
       "      <th>condition</th>\n",
       "      <th>model_performance</th>\n",
       "      <th>p_vals</th>\n",
       "      <th>selected_features</th>\n",
       "      <th>feature_size</th>\n",
       "      <th>feature_seed</th>\n",
       "    </tr>\n",
       "  </thead>\n",
       "  <tbody>\n",
       "    <tr>\n",
       "      <th>0</th>\n",
       "      <td>0</td>\n",
       "      <td>15</td>\n",
       "      <td>1_121958</td>\n",
       "      <td>0.302906</td>\n",
       "      <td>9.014638e-04</td>\n",
       "      <td>[ADRM1]</td>\n",
       "      <td>1</td>\n",
       "      <td>121958</td>\n",
       "    </tr>\n",
       "    <tr>\n",
       "      <th>1</th>\n",
       "      <td>0</td>\n",
       "      <td>15</td>\n",
       "      <td>1_671155</td>\n",
       "      <td>0.155487</td>\n",
       "      <td>9.413214e-02</td>\n",
       "      <td>[COMMD7]</td>\n",
       "      <td>1</td>\n",
       "      <td>671155</td>\n",
       "    </tr>\n",
       "    <tr>\n",
       "      <th>2</th>\n",
       "      <td>0</td>\n",
       "      <td>15</td>\n",
       "      <td>1_131932</td>\n",
       "      <td>0.064393</td>\n",
       "      <td>4.903491e-01</td>\n",
       "      <td>[FAM214B]</td>\n",
       "      <td>1</td>\n",
       "      <td>131932</td>\n",
       "    </tr>\n",
       "    <tr>\n",
       "      <th>3</th>\n",
       "      <td>0</td>\n",
       "      <td>15</td>\n",
       "      <td>1_365838</td>\n",
       "      <td>0.090545</td>\n",
       "      <td>3.316114e-01</td>\n",
       "      <td>[USP2]</td>\n",
       "      <td>1</td>\n",
       "      <td>365838</td>\n",
       "    </tr>\n",
       "    <tr>\n",
       "      <th>4</th>\n",
       "      <td>0</td>\n",
       "      <td>15</td>\n",
       "      <td>1_259178</td>\n",
       "      <td>0.213089</td>\n",
       "      <td>2.107058e-02</td>\n",
       "      <td>[TM6SF2]</td>\n",
       "      <td>1</td>\n",
       "      <td>259178</td>\n",
       "    </tr>\n",
       "    <tr>\n",
       "      <th>...</th>\n",
       "      <td>...</td>\n",
       "      <td>...</td>\n",
       "      <td>...</td>\n",
       "      <td>...</td>\n",
       "      <td>...</td>\n",
       "      <td>...</td>\n",
       "      <td>...</td>\n",
       "      <td>...</td>\n",
       "    </tr>\n",
       "    <tr>\n",
       "      <th>3695</th>\n",
       "      <td>0</td>\n",
       "      <td>15</td>\n",
       "      <td>10000_315139</td>\n",
       "      <td>0.727064</td>\n",
       "      <td>1.676967e-20</td>\n",
       "      <td>[INHA, BAZ2A, NIBAN1, BECN2, NUAK2, CMTR2, ASA...</td>\n",
       "      <td>10000</td>\n",
       "      <td>315139</td>\n",
       "    </tr>\n",
       "    <tr>\n",
       "      <th>3696</th>\n",
       "      <td>0</td>\n",
       "      <td>15</td>\n",
       "      <td>10000_171829</td>\n",
       "      <td>0.722819</td>\n",
       "      <td>3.556320e-20</td>\n",
       "      <td>[EDRF1, CADM2, ADCY4, ZC3H11B, TFAP4, KBTBD13,...</td>\n",
       "      <td>10000</td>\n",
       "      <td>171829</td>\n",
       "    </tr>\n",
       "    <tr>\n",
       "      <th>3697</th>\n",
       "      <td>0</td>\n",
       "      <td>15</td>\n",
       "      <td>10000_271836</td>\n",
       "      <td>0.720112</td>\n",
       "      <td>5.700940e-20</td>\n",
       "      <td>[MYOZ3, NANOS3, MYLK, PRKCQ, ZMYM3, ATP7A, DCA...</td>\n",
       "      <td>10000</td>\n",
       "      <td>271836</td>\n",
       "    </tr>\n",
       "    <tr>\n",
       "      <th>3698</th>\n",
       "      <td>0</td>\n",
       "      <td>15</td>\n",
       "      <td>10000_438974</td>\n",
       "      <td>0.722298</td>\n",
       "      <td>3.896242e-20</td>\n",
       "      <td>[PRAMEF17, CEBPB, VENTX, BRIP1, H2AP, CHEK2, K...</td>\n",
       "      <td>10000</td>\n",
       "      <td>438974</td>\n",
       "    </tr>\n",
       "    <tr>\n",
       "      <th>3699</th>\n",
       "      <td>0</td>\n",
       "      <td>15</td>\n",
       "      <td>10000_989913</td>\n",
       "      <td>0.720462</td>\n",
       "      <td>5.364942e-20</td>\n",
       "      <td>[CFAP100, ATP6V0D2, EMCN, C3orf14, SMCO3, ATAD...</td>\n",
       "      <td>10000</td>\n",
       "      <td>989913</td>\n",
       "    </tr>\n",
       "  </tbody>\n",
       "</table>\n",
       "<p>3700 rows × 8 columns</p>\n",
       "</div>"
      ],
      "text/plain": [
       "      index  rng     condition  model_performance        p_vals  \\\n",
       "0         0   15      1_121958           0.302906  9.014638e-04   \n",
       "1         0   15      1_671155           0.155487  9.413214e-02   \n",
       "2         0   15      1_131932           0.064393  4.903491e-01   \n",
       "3         0   15      1_365838           0.090545  3.316114e-01   \n",
       "4         0   15      1_259178           0.213089  2.107058e-02   \n",
       "...     ...  ...           ...                ...           ...   \n",
       "3695      0   15  10000_315139           0.727064  1.676967e-20   \n",
       "3696      0   15  10000_171829           0.722819  3.556320e-20   \n",
       "3697      0   15  10000_271836           0.720112  5.700940e-20   \n",
       "3698      0   15  10000_438974           0.722298  3.896242e-20   \n",
       "3699      0   15  10000_989913           0.720462  5.364942e-20   \n",
       "\n",
       "                                      selected_features feature_size  \\\n",
       "0                                               [ADRM1]            1   \n",
       "1                                              [COMMD7]            1   \n",
       "2                                             [FAM214B]            1   \n",
       "3                                                [USP2]            1   \n",
       "4                                              [TM6SF2]            1   \n",
       "...                                                 ...          ...   \n",
       "3695  [INHA, BAZ2A, NIBAN1, BECN2, NUAK2, CMTR2, ASA...        10000   \n",
       "3696  [EDRF1, CADM2, ADCY4, ZC3H11B, TFAP4, KBTBD13,...        10000   \n",
       "3697  [MYOZ3, NANOS3, MYLK, PRKCQ, ZMYM3, ATP7A, DCA...        10000   \n",
       "3698  [PRAMEF17, CEBPB, VENTX, BRIP1, H2AP, CHEK2, K...        10000   \n",
       "3699  [CFAP100, ATP6V0D2, EMCN, C3orf14, SMCO3, ATAD...        10000   \n",
       "\n",
       "     feature_seed  \n",
       "0          121958  \n",
       "1          671155  \n",
       "2          131932  \n",
       "3          365838  \n",
       "4          259178  \n",
       "...           ...  \n",
       "3695       315139  \n",
       "3696       171829  \n",
       "3697       271836  \n",
       "3698       438974  \n",
       "3699       989913  \n",
       "\n",
       "[3700 rows x 8 columns]"
      ]
     },
     "execution_count": 12,
     "metadata": {},
     "output_type": "execute_result"
    }
   ],
   "source": [
    "final_df"
   ]
  },
  {
   "cell_type": "markdown",
   "metadata": {},
   "source": [
    "### Experiment 2 - Varying Signal Noise on Mock Data"
   ]
  },
  {
   "cell_type": "markdown",
   "metadata": {},
   "source": [
    "#### Experiment Parameters"
   ]
  },
  {
   "cell_type": "code",
   "execution_count": null,
   "metadata": {},
   "outputs": [],
   "source": []
  },
  {
   "cell_type": "markdown",
   "metadata": {},
   "source": [
    "#### Run Phase"
   ]
  },
  {
   "cell_type": "markdown",
   "metadata": {},
   "source": [
    "### Experiment 3 - Select Ground Truth First on Mock Data\n",
    "\n",
    "This experiment aims to select ground truth features from the mock data, then gradually add useless features. \n",
    "\n",
    "Since the ground truth features have direct correlations with the label and useless features do not, this is expected to produce a CoD curve that peak at x features (x = no. of ground truth features) then a gradual decline. "
   ]
  },
  {
   "cell_type": "markdown",
   "metadata": {},
   "source": [
    "#### Experiment Parameters"
   ]
  },
  {
   "cell_type": "code",
   "execution_count": 7,
   "metadata": {},
   "outputs": [],
   "source": [
    "experiment_id = 'experiment_3_run_1'"
   ]
  },
  {
   "cell_type": "code",
   "execution_count": 8,
   "metadata": {},
   "outputs": [],
   "source": [
    "X_known, y_known = make_regression(n_samples=1000, n_informative=50, n_features=1000, noise=0.1, shuffle=False)\n",
    "# make X,y into dataframes\n",
    "X_known = pd.DataFrame(X_known)\n",
    "y_known = pd.Series(y_known)\n",
    "\n",
    "known_feature_list = list(X_known.columns)"
   ]
  },
  {
   "cell_type": "code",
   "execution_count": 9,
   "metadata": {},
   "outputs": [],
   "source": [
    "no_random_partitions = 100 \n",
    "partitition_seed = 42\n",
    "# set the random seed for the partitions\n",
    "np.random.seed(partitition_seed)\n",
    "partition_random_seed_list = list(np.random.randint(0,1000000,no_random_partitions))\n",
    "feature_sizes = log_distributed_feature_size_list(1,X_known.shape[1])"
   ]
  },
  {
   "cell_type": "markdown",
   "metadata": {},
   "source": [
    "#### Run Phase"
   ]
  },
  {
   "cell_type": "code",
   "execution_count": null,
   "metadata": {},
   "outputs": [],
   "source": [
    "powerkit = Powerkit(X_known, y_known)\n",
    "\n",
    "# add conditions based on feature size \n",
    "\n",
    "for feature_size in feature_sizes:\n",
    "    powerkit.add_condition(str(feature_size), False, \n",
    "                           pipeline_func, \n",
    "                           {\n",
    "                            \"feature_data\": X_known,\n",
    "                            \"label_data\": y_known,\n",
    "                            \"pre_selected_features\": known_feature_list, \n",
    "                            \"feature_size\": feature_size,\n",
    "                            \"max_iter\": 10000\n",
    "                           },\n",
    "                           eval_func, \n",
    "                           {}\n",
    "                           )"
   ]
  },
  {
   "cell_type": "code",
   "execution_count": null,
   "metadata": {},
   "outputs": [],
   "source": [
    "from tqdm import tqdm\n",
    "\n",
    "all_dfs = []\n",
    "for feature_size in tqdm(feature_sizes):\n",
    "    df = powerkit.run_selected_condition(str(feature_size), partition_random_seed_list, 32, False)\n",
    "    all_dfs.append(df)\n",
    "    \n",
    "final_df = pd.concat(all_dfs)"
   ]
  },
  {
   "cell_type": "code",
   "execution_count": null,
   "metadata": {},
   "outputs": [],
   "source": [
    "final_df.reset_index(inplace=True)"
   ]
  },
  {
   "cell_type": "code",
   "execution_count": null,
   "metadata": {},
   "outputs": [],
   "source": [
    "# import seaborn \n",
    "\n",
    "import seaborn as sns\n",
    "import matplotlib.pyplot as plt\n",
    "\n",
    "# change plot size \n",
    "plt.figure(figsize=(10,6))\n",
    "sns.lineplot(data=final_df, x='condition', y='model_performance')\n",
    "plt.title(f'{run_id} Curse of Dimensionality and Optimal Feature Size', fontsize=18)\n",
    "# xlabel and ylabel, increase font size1\n",
    "plt.xlabel('Feature Size', fontsize=16)\n",
    "plt.ylabel('Model Performance', fontsize=16)\n",
    "# rotate x-axis labels\n",
    "plt.xticks(rotation=45, fontsize=14)\n",
    "plt.yticks(fontsize=14)\n",
    "plt.show()\n",
    "\n"
   ]
  },
  {
   "cell_type": "markdown",
   "metadata": {},
   "source": [
    "#### Save File and Data"
   ]
  },
  {
   "cell_type": "code",
   "execution_count": null,
   "metadata": {},
   "outputs": [],
   "source": [
    "plt.savefig(f'{file_save_path}{experiment_id}_cod_plot.png')\n",
    "print(f'Complete - {file_save_path}{experiment_id}_cod_plot.png')\n",
    "# save the dataframe as a pickle file\n",
    "\n",
    "final_df.to_pickle(f'{file_save_path}{experiment_id}_final_df.pkl')\n",
    "print(f'Complete - {file_save_path}{experiment_id}_final_df.pkl')"
   ]
  },
  {
   "cell_type": "markdown",
   "metadata": {},
   "source": [
    "### Experiment 4 - Pearson Correlation on Palbociclib CCLE data as Feature Importance Score"
   ]
  },
  {
   "cell_type": "markdown",
   "metadata": {},
   "source": [
    "Add 100 each time"
   ]
  },
  {
   "cell_type": "markdown",
   "metadata": {},
   "source": [
    "#### Experiment Parameters"
   ]
  },
  {
   "cell_type": "code",
   "execution_count": null,
   "metadata": {},
   "outputs": [],
   "source": [
    "experiment_id = 'experiment_4_run_1'"
   ]
  },
  {
   "cell_type": "markdown",
   "metadata": {},
   "source": [
    "#### Run Phase"
   ]
  },
  {
   "cell_type": "code",
   "execution_count": null,
   "metadata": {},
   "outputs": [],
   "source": []
  },
  {
   "cell_type": "markdown",
   "metadata": {},
   "source": [
    "## SY's Rudimentary Pipeline Logic\n",
    "\n",
    "Whole data --> Preprocessing --> Feature Selection --> Splitting --> Fitting\n",
    "\n",
    "This is a fundamentally different process from the current Powerkit protocol. "
   ]
  },
  {
   "cell_type": "code",
   "execution_count": null,
   "metadata": {},
   "outputs": [],
   "source": [
    "print('Selecting the top 100 features in the data')\n",
    "\n",
    "from toolkit import *\n",
    "\n",
    "selected_features, scores = f_regression_select(feature_data, label_data, k=100)"
   ]
  },
  {
   "cell_type": "code",
   "execution_count": null,
   "metadata": {},
   "outputs": [],
   "source": [
    "from sklearn.svm import SVR\n",
    "\n",
    "model = SVR(kernel='linear')\n",
    "selected_features, X_selected = select_preset_features(feature_data, label_data, selected_features)"
   ]
  },
  {
   "cell_type": "code",
   "execution_count": null,
   "metadata": {},
   "outputs": [],
   "source": [
    "# split the data into training and testing sets\n",
    "\n",
    "from sklearn.model_selection import train_test_split\n",
    "\n",
    "X_train, X_test, y_train, y_test = train_test_split(X_selected, label_data, test_size=0.2, random_state=42)\n",
    "\n",
    "model.fit(X_train, y_train)\n",
    "print('Model trained')"
   ]
  },
  {
   "cell_type": "code",
   "execution_count": null,
   "metadata": {},
   "outputs": [],
   "source": [
    "# make predictions\n",
    "\n",
    "y_pred = model.predict(X_test)\n",
    "\n",
    "from sklearn.metrics import mean_squared_error\n",
    "# pearson correlation from scipy \n",
    "from scipy.stats import pearsonr\n",
    "\n",
    "mse = mean_squared_error(y_test, y_pred)\n",
    "pearson_corr, p_vals = pearsonr(y_test, y_pred)\n",
    "\n",
    "print(f'Mean Squared Error: {mse}')\n",
    "print(f'Pearson Correlation: {pearson_corr}, p-value: {p_vals}')\n",
    "\n",
    "\n"
   ]
  },
  {
   "cell_type": "code",
   "execution_count": null,
   "metadata": {},
   "outputs": [],
   "source": [
    "### Greedy Forward Select, but without resetting the model and report the internal validation scores \n",
    "\n",
    "print('Greedy Forward Selecting the top 20 features in the data')\n",
    "\n",
    "start_feature = selected_features[0]\n",
    "\n",
    "selected_features, scores, model = greedy_feedforward_select_sy(X_selected, label_data,\n",
    "                                                                k=20, \n",
    "                                                                model=model, \n",
    "                                                                start_feature=start_feature, \n",
    "                                                                cv=5,\n",
    "                                                                verbose=1)\n",
    "\n"
   ]
  }
 ],
 "metadata": {
  "kernelspec": {
   "display_name": "venv",
   "language": "python",
   "name": "python3"
  },
  "language_info": {
   "codemirror_mode": {
    "name": "ipython",
    "version": 3
   },
   "file_extension": ".py",
   "mimetype": "text/x-python",
   "name": "python",
   "nbconvert_exporter": "python",
   "pygments_lexer": "ipython3",
   "version": "3.8.10"
  }
 },
 "nbformat": 4,
 "nbformat_minor": 2
}
