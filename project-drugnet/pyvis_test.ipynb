{
 "cells": [
  {
   "cell_type": "code",
   "execution_count": 2,
   "metadata": {},
   "outputs": [
    {
     "name": "stdout",
     "output_type": "stream",
     "text": [
      "example.html\n"
     ]
    },
    {
     "data": {
      "text/html": [
       "\n",
       "        <iframe\n",
       "            width=\"100%\"\n",
       "            height=\"600px\"\n",
       "            src=\"example.html\"\n",
       "            frameborder=\"0\"\n",
       "            allowfullscreen\n",
       "            \n",
       "        ></iframe>\n",
       "        "
      ],
      "text/plain": [
       "<IPython.lib.display.IFrame at 0x2975bb211f0>"
      ]
     },
     "execution_count": 2,
     "metadata": {},
     "output_type": "execute_result"
    }
   ],
   "source": [
    "from pyvis.network import Network\n",
    "import networkx as nx\n",
    "\n",
    "net = Network(notebook=True,cdn_resources='remote')\n",
    "net.add_node(1)\n",
    "net.add_node(2) \n",
    "net.show(\"example.html\")"
   ]
  },
  {
   "cell_type": "code",
   "execution_count": 9,
   "metadata": {},
   "outputs": [
    {
     "name": "stdout",
     "output_type": "stream",
     "text": [
      "example2.html\n"
     ]
    },
    {
     "data": {
      "text/html": [
       "\n",
       "        <iframe\n",
       "            width=\"100%\"\n",
       "            height=\"600px\"\n",
       "            src=\"example2.html\"\n",
       "            frameborder=\"0\"\n",
       "            allowfullscreen\n",
       "            \n",
       "        ></iframe>\n",
       "        "
      ],
      "text/plain": [
       "<IPython.lib.display.IFrame at 0x2975bb8ef70>"
      ]
     },
     "execution_count": 9,
     "metadata": {},
     "output_type": "execute_result"
    }
   ],
   "source": [
    "net = Network(notebook=True,cdn_resources='remote', directed=True)\n",
    "weight = 0.55\n",
    "net.add_node(0, label='a')\n",
    "net.add_node(1, label='b')\n",
    "net.add_edge(0, 1, weight=weight, hidden=weight<0.5)\n",
    "net.add_edge(1, 0, weight=weight, hidden=weight<0.5)\n",
    "net.show(\"example2.html\")"
   ]
  },
  {
   "cell_type": "code",
   "execution_count": 1,
   "metadata": {},
   "outputs": [
    {
     "name": "stdout",
     "output_type": "stream",
     "text": [
      "Project path set to: c:\\Github\\ode-biomarker-project\n"
     ]
    }
   ],
   "source": [
    "# loading the correlation matrix for CCLE/GDSC data (palbociclib)\n",
    "\n",
    "import os\n",
    "\n",
    "path = os.getcwd()\n",
    "# find the string 'project' in the path, return index\n",
    "index_project = path.find('project')\n",
    "# slice the path from the index of 'project' to the end\n",
    "project_path = path[:index_project+7]\n",
    "# set the working directory\n",
    "os.chdir(project_path)\n",
    "print(f'Project path set to: {os.getcwd()}')\n",
    "\n",
    "from PathLoader import PathLoader\n",
    "path_loader = PathLoader('data_config.env', 'current_user.env')\n",
    "\n",
    "from DataLink import DataLink\n",
    "data_link = DataLink(path_loader, 'data_codes.csv')\n",
    "\n",
    "loading_code = 'corr_matrix_ccle_palbociclib'\n",
    "\n",
    "corr_matrix = data_link.get_data_from_code(loading_code)\n"
   ]
  },
  {
   "cell_type": "code",
   "execution_count": 2,
   "metadata": {},
   "outputs": [
    {
     "data": {
      "text/html": [
       "<div>\n",
       "<style scoped>\n",
       "    .dataframe tbody tr th:only-of-type {\n",
       "        vertical-align: middle;\n",
       "    }\n",
       "\n",
       "    .dataframe tbody tr th {\n",
       "        vertical-align: top;\n",
       "    }\n",
       "\n",
       "    .dataframe thead th {\n",
       "        text-align: right;\n",
       "    }\n",
       "</style>\n",
       "<table border=\"1\" class=\"dataframe\">\n",
       "  <thead>\n",
       "    <tr style=\"text-align: right;\">\n",
       "      <th></th>\n",
       "      <th>TSPAN6</th>\n",
       "      <th>TNMD</th>\n",
       "      <th>DPM1</th>\n",
       "      <th>SCYL3</th>\n",
       "      <th>C1orf112</th>\n",
       "      <th>FGR</th>\n",
       "      <th>CFH</th>\n",
       "      <th>FUCA2</th>\n",
       "      <th>GCLC</th>\n",
       "      <th>NFYA</th>\n",
       "      <th>...</th>\n",
       "      <th>H3C2</th>\n",
       "      <th>H3C3</th>\n",
       "      <th>AC098582.1</th>\n",
       "      <th>DUS4L-BCAP29</th>\n",
       "      <th>C8orf44-SGK3</th>\n",
       "      <th>ELOA3B</th>\n",
       "      <th>NPBWR1</th>\n",
       "      <th>ELOA3D</th>\n",
       "      <th>ELOA3</th>\n",
       "      <th>CDR1</th>\n",
       "    </tr>\n",
       "  </thead>\n",
       "  <tbody>\n",
       "    <tr>\n",
       "      <th>TSPAN6</th>\n",
       "      <td>1.000000</td>\n",
       "      <td>0.163946</td>\n",
       "      <td>0.252582</td>\n",
       "      <td>-0.194660</td>\n",
       "      <td>-0.055330</td>\n",
       "      <td>-0.487432</td>\n",
       "      <td>0.130018</td>\n",
       "      <td>0.414610</td>\n",
       "      <td>0.213403</td>\n",
       "      <td>-0.141286</td>\n",
       "      <td>...</td>\n",
       "      <td>-0.100573</td>\n",
       "      <td>-0.111479</td>\n",
       "      <td>-0.177692</td>\n",
       "      <td>-0.075463</td>\n",
       "      <td>-0.176298</td>\n",
       "      <td>-0.055795</td>\n",
       "      <td>0.199724</td>\n",
       "      <td>-0.066443</td>\n",
       "      <td>-0.074276</td>\n",
       "      <td>0.018926</td>\n",
       "    </tr>\n",
       "    <tr>\n",
       "      <th>TNMD</th>\n",
       "      <td>0.163946</td>\n",
       "      <td>1.000000</td>\n",
       "      <td>0.044927</td>\n",
       "      <td>0.034197</td>\n",
       "      <td>0.055193</td>\n",
       "      <td>-0.045083</td>\n",
       "      <td>-0.022945</td>\n",
       "      <td>-0.061861</td>\n",
       "      <td>-0.042361</td>\n",
       "      <td>-0.046662</td>\n",
       "      <td>...</td>\n",
       "      <td>-0.020918</td>\n",
       "      <td>-0.078262</td>\n",
       "      <td>-0.085310</td>\n",
       "      <td>-0.065824</td>\n",
       "      <td>0.027621</td>\n",
       "      <td>-0.008905</td>\n",
       "      <td>-0.058801</td>\n",
       "      <td>-0.015246</td>\n",
       "      <td>-0.042875</td>\n",
       "      <td>0.032538</td>\n",
       "    </tr>\n",
       "    <tr>\n",
       "      <th>DPM1</th>\n",
       "      <td>0.252582</td>\n",
       "      <td>0.044927</td>\n",
       "      <td>1.000000</td>\n",
       "      <td>-0.050684</td>\n",
       "      <td>0.139284</td>\n",
       "      <td>-0.194997</td>\n",
       "      <td>-0.039977</td>\n",
       "      <td>0.272837</td>\n",
       "      <td>-0.037828</td>\n",
       "      <td>-0.090364</td>\n",
       "      <td>...</td>\n",
       "      <td>0.066507</td>\n",
       "      <td>0.022239</td>\n",
       "      <td>-0.069403</td>\n",
       "      <td>0.147007</td>\n",
       "      <td>-0.052367</td>\n",
       "      <td>-0.092502</td>\n",
       "      <td>0.019790</td>\n",
       "      <td>-0.140743</td>\n",
       "      <td>-0.087440</td>\n",
       "      <td>-0.031780</td>\n",
       "    </tr>\n",
       "    <tr>\n",
       "      <th>SCYL3</th>\n",
       "      <td>-0.194660</td>\n",
       "      <td>0.034197</td>\n",
       "      <td>-0.050684</td>\n",
       "      <td>1.000000</td>\n",
       "      <td>0.444081</td>\n",
       "      <td>0.203733</td>\n",
       "      <td>-0.056618</td>\n",
       "      <td>-0.202712</td>\n",
       "      <td>0.221475</td>\n",
       "      <td>0.377699</td>\n",
       "      <td>...</td>\n",
       "      <td>0.048807</td>\n",
       "      <td>0.008578</td>\n",
       "      <td>0.134482</td>\n",
       "      <td>-0.001459</td>\n",
       "      <td>0.111781</td>\n",
       "      <td>0.114585</td>\n",
       "      <td>-0.077774</td>\n",
       "      <td>0.100753</td>\n",
       "      <td>0.105715</td>\n",
       "      <td>-0.125245</td>\n",
       "    </tr>\n",
       "    <tr>\n",
       "      <th>C1orf112</th>\n",
       "      <td>-0.055330</td>\n",
       "      <td>0.055193</td>\n",
       "      <td>0.139284</td>\n",
       "      <td>0.444081</td>\n",
       "      <td>1.000000</td>\n",
       "      <td>0.053456</td>\n",
       "      <td>-0.094124</td>\n",
       "      <td>-0.187769</td>\n",
       "      <td>0.051586</td>\n",
       "      <td>0.392347</td>\n",
       "      <td>...</td>\n",
       "      <td>0.172606</td>\n",
       "      <td>0.120762</td>\n",
       "      <td>0.115496</td>\n",
       "      <td>0.225627</td>\n",
       "      <td>0.023268</td>\n",
       "      <td>0.168303</td>\n",
       "      <td>0.004911</td>\n",
       "      <td>0.136021</td>\n",
       "      <td>0.183258</td>\n",
       "      <td>-0.037329</td>\n",
       "    </tr>\n",
       "  </tbody>\n",
       "</table>\n",
       "<p>5 rows × 19221 columns</p>\n",
       "</div>"
      ],
      "text/plain": [
       "            TSPAN6      TNMD      DPM1     SCYL3  C1orf112       FGR  \\\n",
       "TSPAN6    1.000000  0.163946  0.252582 -0.194660 -0.055330 -0.487432   \n",
       "TNMD      0.163946  1.000000  0.044927  0.034197  0.055193 -0.045083   \n",
       "DPM1      0.252582  0.044927  1.000000 -0.050684  0.139284 -0.194997   \n",
       "SCYL3    -0.194660  0.034197 -0.050684  1.000000  0.444081  0.203733   \n",
       "C1orf112 -0.055330  0.055193  0.139284  0.444081  1.000000  0.053456   \n",
       "\n",
       "               CFH     FUCA2      GCLC      NFYA  ...      H3C2      H3C3  \\\n",
       "TSPAN6    0.130018  0.414610  0.213403 -0.141286  ... -0.100573 -0.111479   \n",
       "TNMD     -0.022945 -0.061861 -0.042361 -0.046662  ... -0.020918 -0.078262   \n",
       "DPM1     -0.039977  0.272837 -0.037828 -0.090364  ...  0.066507  0.022239   \n",
       "SCYL3    -0.056618 -0.202712  0.221475  0.377699  ...  0.048807  0.008578   \n",
       "C1orf112 -0.094124 -0.187769  0.051586  0.392347  ...  0.172606  0.120762   \n",
       "\n",
       "          AC098582.1  DUS4L-BCAP29  C8orf44-SGK3    ELOA3B    NPBWR1  \\\n",
       "TSPAN6     -0.177692     -0.075463     -0.176298 -0.055795  0.199724   \n",
       "TNMD       -0.085310     -0.065824      0.027621 -0.008905 -0.058801   \n",
       "DPM1       -0.069403      0.147007     -0.052367 -0.092502  0.019790   \n",
       "SCYL3       0.134482     -0.001459      0.111781  0.114585 -0.077774   \n",
       "C1orf112    0.115496      0.225627      0.023268  0.168303  0.004911   \n",
       "\n",
       "            ELOA3D     ELOA3      CDR1  \n",
       "TSPAN6   -0.066443 -0.074276  0.018926  \n",
       "TNMD     -0.015246 -0.042875  0.032538  \n",
       "DPM1     -0.140743 -0.087440 -0.031780  \n",
       "SCYL3     0.100753  0.105715 -0.125245  \n",
       "C1orf112  0.136021  0.183258 -0.037329  \n",
       "\n",
       "[5 rows x 19221 columns]"
      ]
     },
     "execution_count": 2,
     "metadata": {},
     "output_type": "execute_result"
    }
   ],
   "source": [
    "corr_matrix.head()"
   ]
  },
  {
   "cell_type": "code",
   "execution_count": 3,
   "metadata": {},
   "outputs": [
    {
     "data": {
      "text/plain": [
       "(19221, 19221)"
      ]
     },
     "execution_count": 3,
     "metadata": {},
     "output_type": "execute_result"
    }
   ],
   "source": [
    "corr_matrix.shape"
   ]
  },
  {
   "cell_type": "code",
   "execution_count": 6,
   "metadata": {},
   "outputs": [
    {
     "name": "stdout",
     "output_type": "stream",
     "text": [
      "Finished processing TSPAN6, 1 of 19221\n",
      "Finished processing RHBDD2, 101 of 19221\n",
      "Finished processing CAMK1G, 201 of 19221\n"
     ]
    },
    {
     "ename": "KeyboardInterrupt",
     "evalue": "",
     "output_type": "error",
     "traceback": [
      "\u001b[1;31m---------------------------------------------------------------------------\u001b[0m",
      "\u001b[1;31mKeyboardInterrupt\u001b[0m                         Traceback (most recent call last)",
      "Cell \u001b[1;32mIn [6], line 13\u001b[0m\n\u001b[0;32m     11\u001b[0m \u001b[38;5;28;01mfor\u001b[39;00m row_names \u001b[38;5;129;01min\u001b[39;00m corr_matrix\u001b[38;5;241m.\u001b[39mindex:\n\u001b[0;32m     12\u001b[0m     \u001b[38;5;28;01mif\u001b[39;00m col_names \u001b[38;5;241m!=\u001b[39m row_names:\n\u001b[1;32m---> 13\u001b[0m         corr_value \u001b[38;5;241m=\u001b[39m corr_matrix\u001b[38;5;241m.\u001b[39mloc[row_names, col_names]\n\u001b[0;32m     14\u001b[0m         \u001b[38;5;28;01mif\u001b[39;00m \u001b[38;5;28mabs\u001b[39m(corr_value) \u001b[38;5;241m>\u001b[39m threshold:\n\u001b[0;32m     15\u001b[0m             network_data\u001b[38;5;241m.\u001b[39mappend([col_names, row_names, corr_value])\n",
      "File \u001b[1;32mc:\\Github\\ode-biomarker-project\\dynamic-marker\\lib\\site-packages\\pandas\\core\\indexing.py:1066\u001b[0m, in \u001b[0;36m_LocationIndexer.__getitem__\u001b[1;34m(self, key)\u001b[0m\n\u001b[0;32m   1064\u001b[0m key \u001b[38;5;241m=\u001b[39m \u001b[38;5;28mtuple\u001b[39m(\u001b[38;5;28mlist\u001b[39m(x) \u001b[38;5;28;01mif\u001b[39;00m is_iterator(x) \u001b[38;5;28;01melse\u001b[39;00m x \u001b[38;5;28;01mfor\u001b[39;00m x \u001b[38;5;129;01min\u001b[39;00m key)\n\u001b[0;32m   1065\u001b[0m key \u001b[38;5;241m=\u001b[39m \u001b[38;5;28mtuple\u001b[39m(com\u001b[38;5;241m.\u001b[39mapply_if_callable(x, \u001b[38;5;28mself\u001b[39m\u001b[38;5;241m.\u001b[39mobj) \u001b[38;5;28;01mfor\u001b[39;00m x \u001b[38;5;129;01min\u001b[39;00m key)\n\u001b[1;32m-> 1066\u001b[0m \u001b[38;5;28;01mif\u001b[39;00m \u001b[38;5;28;43mself\u001b[39;49m\u001b[38;5;241;43m.\u001b[39;49m\u001b[43m_is_scalar_access\u001b[49m\u001b[43m(\u001b[49m\u001b[43mkey\u001b[49m\u001b[43m)\u001b[49m:\n\u001b[0;32m   1067\u001b[0m     \u001b[38;5;28;01mreturn\u001b[39;00m \u001b[38;5;28mself\u001b[39m\u001b[38;5;241m.\u001b[39mobj\u001b[38;5;241m.\u001b[39m_get_value(\u001b[38;5;241m*\u001b[39mkey, takeable\u001b[38;5;241m=\u001b[39m\u001b[38;5;28mself\u001b[39m\u001b[38;5;241m.\u001b[39m_takeable)\n\u001b[0;32m   1068\u001b[0m \u001b[38;5;28;01mreturn\u001b[39;00m \u001b[38;5;28mself\u001b[39m\u001b[38;5;241m.\u001b[39m_getitem_tuple(key)\n",
      "File \u001b[1;32mc:\\Github\\ode-biomarker-project\\dynamic-marker\\lib\\site-packages\\pandas\\core\\indexing.py:1157\u001b[0m, in \u001b[0;36m_LocIndexer._is_scalar_access\u001b[1;34m(self, key)\u001b[0m\n\u001b[0;32m   1152\u001b[0m     \u001b[38;5;28;01mif\u001b[39;00m \u001b[38;5;28misinstance\u001b[39m(k, \u001b[38;5;28mstr\u001b[39m) \u001b[38;5;129;01mand\u001b[39;00m ax\u001b[38;5;241m.\u001b[39m_supports_partial_string_indexing:\n\u001b[0;32m   1153\u001b[0m         \u001b[38;5;66;03m# partial string indexing, df.loc['2000', 'A']\u001b[39;00m\n\u001b[0;32m   1154\u001b[0m         \u001b[38;5;66;03m# should not be considered scalar\u001b[39;00m\n\u001b[0;32m   1155\u001b[0m         \u001b[38;5;28;01mreturn\u001b[39;00m \u001b[38;5;28;01mFalse\u001b[39;00m\n\u001b[1;32m-> 1157\u001b[0m     \u001b[38;5;28;01mif\u001b[39;00m \u001b[38;5;129;01mnot\u001b[39;00m \u001b[43max\u001b[49m\u001b[38;5;241;43m.\u001b[39;49m\u001b[43m_index_as_unique\u001b[49m:\n\u001b[0;32m   1158\u001b[0m         \u001b[38;5;28;01mreturn\u001b[39;00m \u001b[38;5;28;01mFalse\u001b[39;00m\n\u001b[0;32m   1160\u001b[0m \u001b[38;5;28;01mreturn\u001b[39;00m \u001b[38;5;28;01mTrue\u001b[39;00m\n",
      "File \u001b[1;32mc:\\Github\\ode-biomarker-project\\dynamic-marker\\lib\\site-packages\\pandas\\core\\indexes\\base.py:6239\u001b[0m, in \u001b[0;36mIndex._index_as_unique\u001b[1;34m(self)\u001b[0m\n\u001b[0;32m   6231\u001b[0m \u001b[38;5;129m@property\u001b[39m\n\u001b[0;32m   6232\u001b[0m \u001b[38;5;28;01mdef\u001b[39;00m \u001b[38;5;21m_index_as_unique\u001b[39m(\u001b[38;5;28mself\u001b[39m) \u001b[38;5;241m-\u001b[39m\u001b[38;5;241m>\u001b[39m \u001b[38;5;28mbool\u001b[39m:\n\u001b[0;32m   6233\u001b[0m     \u001b[38;5;124;03m\"\"\"\u001b[39;00m\n\u001b[0;32m   6234\u001b[0m \u001b[38;5;124;03m    Whether we should treat this as unique for the sake of\u001b[39;00m\n\u001b[0;32m   6235\u001b[0m \u001b[38;5;124;03m    get_indexer vs get_indexer_non_unique.\u001b[39;00m\n\u001b[0;32m   6236\u001b[0m \n\u001b[0;32m   6237\u001b[0m \u001b[38;5;124;03m    For IntervalIndex compat.\u001b[39;00m\n\u001b[0;32m   6238\u001b[0m \u001b[38;5;124;03m    \"\"\"\u001b[39;00m\n\u001b[1;32m-> 6239\u001b[0m     \u001b[38;5;28;01mreturn\u001b[39;00m \u001b[38;5;28;43mself\u001b[39;49m\u001b[38;5;241;43m.\u001b[39;49m\u001b[43mis_unique\u001b[49m\n",
      "\u001b[1;31mKeyboardInterrupt\u001b[0m: "
     ]
    },
    {
     "ename": "",
     "evalue": "",
     "output_type": "error",
     "traceback": [
      "\u001b[1;31mThe Kernel crashed while executing code in the current cell or a previous cell. \n",
      "\u001b[1;31mPlease review the code in the cell(s) to identify a possible cause of the failure. \n",
      "\u001b[1;31mClick <a href='https://aka.ms/vscodeJupyterKernelCrash'>here</a> for more info. \n",
      "\u001b[1;31mView Jupyter <a href='command:jupyter.viewOutput'>log</a> for further details."
     ]
    }
   ],
   "source": [
    "# process corr_matrix to make a source, target and weight dataframe, remove duplicates and self-correlations\n",
    "\n",
    "import pandas as pd\n",
    "import numpy as np\n",
    "\n",
    "network_data = []\n",
    "threshold = 0.5\n",
    "\n",
    "count = 0 \n",
    "for i, col_names in enumerate(corr_matrix.columns):\n",
    "    for row_names in corr_matrix.index:\n",
    "        if col_names != row_names:\n",
    "            corr_value = corr_matrix.loc[row_names, col_names]\n",
    "            if abs(corr_value) > threshold:\n",
    "                network_data.append([col_names, row_names, corr_value])\n",
    "            # corr_matrix.loc[row_names, col_names]\n",
    "                count += 1 \n",
    "            # network_data.append([col_names, row_names, corr_matrix.loc[row_names, col_names]])\n",
    "    if i % 100 == 0:\n",
    "        print(f'Finished processing {col_names}, {i+1} of {len(corr_matrix.columns)}')\n",
    "    # print(f'Finished processing {col_names}, {i+1} of {len(corr_matrix.columns)}')\n",
    "\n",
    "network_df = pd.DataFrame(network_data, columns=['source', 'target', 'weight'])\n",
    "\n",
    "network_df.head()"
   ]
  }
 ],
 "metadata": {
  "kernelspec": {
   "display_name": "dynamic-marker",
   "language": "python",
   "name": "python3"
  },
  "language_info": {
   "codemirror_mode": {
    "name": "ipython",
    "version": 3
   },
   "file_extension": ".py",
   "mimetype": "text/x-python",
   "name": "python",
   "nbconvert_exporter": "python",
   "pygments_lexer": "ipython3",
   "version": "3.8.10"
  }
 },
 "nbformat": 4,
 "nbformat_minor": 2
}
