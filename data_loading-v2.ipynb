{
 "cells": [
  {
   "attachments": {},
   "cell_type": "markdown",
   "metadata": {},
   "source": [
    "# Session Info\n",
    "\n",
    "necessary packages to run this notebook"
   ]
  },
  {
   "cell_type": "code",
   "execution_count": 13,
   "metadata": {},
   "outputs": [
    {
     "data": {
      "text/plain": [
       "['builtins',\n",
       " 'builtins',\n",
       " 'pandas',\n",
       " 'pickle',\n",
       " 'rdkit.Chem',\n",
       " 'pubchempy',\n",
       " 'session_info',\n",
       " 'types',\n",
       " 'pkg_resources',\n",
       " 'pip']"
      ]
     },
     "execution_count": 13,
     "metadata": {},
     "output_type": "execute_result"
    }
   ],
   "source": [
    "import types\n",
    "def imports():\n",
    "    for name, val in globals().items():\n",
    "        if isinstance(val, types.ModuleType):\n",
    "            yield val.__name__\n",
    "list(imports())"
   ]
  },
  {
   "attachments": {},
   "cell_type": "markdown",
   "metadata": {},
   "source": [
    "# Data loading \n",
    "\n",
    "methods to pre-cache and load in raw data from the data folder"
   ]
  },
  {
   "attachments": {},
   "cell_type": "markdown",
   "metadata": {},
   "source": [
    "### Data Pre-processing Guidelines\n",
    "\n",
    "- **documentation of original download information**\n",
    "    - original download link \n",
    "    - the date of download\n",
    "    - the doi or bibliography of the linked publication \n",
    "    - basic description of the dataset\n",
    "    - |time-consuming| ideally, a simple description of the methodology used to generate the dataset\n",
    "        - how were the samples collected?\n",
    "        - at what time point are the samples lysed? \n",
    "        - any further pre-processing steps?  \n",
    "<br />\n",
    "\n",
    "- **documentation of dataset(s)** \n",
    "    - *the information type represented by the dataset (i.e. gene expression, drug response, etc.)*\n",
    "    - any supplementary spreadsheet(s) associated with the dataset or metadata\n",
    "    - sample size (e.g. number of samples, number of genes, etc.)\n",
    "    - main row and column domains (e.g. genes, samples, drugs, etc.)\n",
    "    - identifiers used for drug, gene, protein etc. \n",
    "    - presence of specific drugs or genes/proteins of interest\n",
    "        - e.g. CDK4/6 inhibitors: palbociclib, ribociclib and abemaciclib  \n",
    "<br />  \n",
    "\n",
    "- **documentation of the pre-processing steps**\n",
    "    - *the final shape of the processed dataset associated with metadata, e.g. (n_samples, n_genes)*\n",
    "    - |time-consuming| the technique used to transform the dataset\n",
    "        - e.g. log2 transformation, z-score normalization, etc.\n",
    "        - e.g. the method used to impute missing values\n",
    "        - any removal of data and reasoning (i.e. due to missing values, etc.)\n",
    "    - index to identifier mapping (e.g. gene index to gene symbol mapping)\n",
    "        - then, the processed dataset will have indexes matched with a corresponding identifier/symbol \n",
    "        - e.g. gene index 0 corresponds to gene symbol A1BG\n",
    "        - e.g. drug index 0 corresponds to drug palbociclib\n",
    "        - when performing further filtering, the original index order must be preserved or traced to allow for mapping back to the original identifiers\n",
    "    - creating a paired dataset from two different datasets\n",
    "        - e.g. drug response and gene expression\n",
    "        - e.g. drug response and mutation status\n",
    "        - e.g. gene expression and mutation status\n",
    "        - must perform model-to-name mapping between the two datasets and document the mapping logic\n",
    "            - e.g. model are cell lines, matched by cell line name (no spaces, lower case)\n",
    "            - e.g. model are cell lines, matched by a common identifier (e.g. Sanger_Model_ID)\n",
    "\n"
   ]
  },
  {
   "attachments": {},
   "cell_type": "markdown",
   "metadata": {},
   "source": [
    "### GDSC 1 \n",
    "\n",
    "GDSC1 is a drug response dataset, retrieved from [Genomics of Drug Sensitivity in Cancer](http://www.cancerrxgene.org/). The data is stored in the `data/drug-response/GDSC1` folder.\n",
    "\n",
    "Data Retrieval Date: 2022-06-01\n",
    "\n",
    "Yang, W., Soares, J., Greninger, P., Edelman, E. J., Lightfoot, H., Forbes, S., Bindal, N., Beare, D., Smith, J. A., Thompson, I. R., Ramaswamy, S., Futreal, P. A., Haber, D. A., Stratton, M. R., Benes, C., McDermott, U., & Garnett, M. J. (2013). Genomics of Drug Sensitivity in Cancer (GDSC): A resource for therapeutic biomarker discovery in cancer cells. Nucleic Acids Research, 41(Database issue), D955–D961. https://doi.org/10.1093/nar/gks1111\n",
    "\n",
    "#### Methodology\n",
    "\n",
    "retrieved from [Genomics of Drug Sensitivity in Cancer](https://www.cancerrxgene.org/help#t_curve)\n",
    "\n",
    "> The GDSC1 dataset was generated jointly by the Wellcome Sanger Institute and Massachusetts General Hospital between 2009 and 2015 using a matched set of cancer cell lines (the GDSC1000).\n",
    "\n",
    "> Compounds were stored in aliquots at -80°C and were subjected to a maximum of 5 freeze-thaw cycles.\n",
    "\n",
    "> Cells were seeded in 96-well or 384-well plates and compound dose titrations were delivered using tip based liquid handling apparatus. Cell viability was measured using either Syto60 or Resazurin. Drug treatments in this dataset used two formats:\n",
    "\n",
    "> 9-point dose curve incorporating a 2-fold dilution step (256-fold range)\n",
    "> 5-point dose curve incorporating a 4-fold dilution step (256-fold range)\n",
    "\n"
   ]
  },
  {
   "cell_type": "code",
   "execution_count": 1,
   "metadata": {},
   "outputs": [
    {
     "name": "stdout",
     "output_type": "stream",
     "text": [
      "  DATASET  NLME_RESULT_ID  NLME_CURVE_ID  COSMIC_ID CELL_LINE_NAME  \\\n",
      "0   GDSC1             281       12974350     683665         MC-CAR   \n",
      "1   GDSC1             281       12975300     684055            ES3   \n",
      "2   GDSC1             281       12975647     684057            ES5   \n",
      "3   GDSC1             281       12975980     684059            ES7   \n",
      "4   GDSC1             281       12976330     684062          EW-11   \n",
      "\n",
      "  SANGER_MODEL_ID     TCGA_DESC  DRUG_ID  DRUG_NAME PUTATIVE_TARGET  \\\n",
      "0       SIDM00636            MM        1  Erlotinib            EGFR   \n",
      "1       SIDM00265  UNCLASSIFIED        1  Erlotinib            EGFR   \n",
      "2       SIDM00263  UNCLASSIFIED        1  Erlotinib            EGFR   \n",
      "3       SIDM00269  UNCLASSIFIED        1  Erlotinib            EGFR   \n",
      "4       SIDM00203  UNCLASSIFIED        1  Erlotinib            EGFR   \n",
      "\n",
      "     PATHWAY_NAME  COMPANY_ID WEBRELEASE  MIN_CONC  MAX_CONC   LN_IC50  \\\n",
      "0  EGFR signaling        1045          Y  0.007813       2.0  2.395685   \n",
      "1  EGFR signaling        1045          Y  0.007813       2.0  3.140923   \n",
      "2  EGFR signaling        1045          Y  0.007813       2.0  3.968757   \n",
      "3  EGFR signaling        1045          Y  0.007813       2.0  2.692768   \n",
      "4  EGFR signaling        1045          Y  0.007813       2.0  2.478678   \n",
      "\n",
      "        AUC      RMSE   Z_SCORE  \n",
      "0  0.982114  0.022521 -0.189576  \n",
      "1  0.984816  0.031840  0.508635  \n",
      "2  0.985693  0.026052  1.284229  \n",
      "3  0.972699  0.110056  0.088760  \n",
      "4  0.944462  0.087011 -0.111820  \n"
     ]
    }
   ],
   "source": [
    "## Initial Loading of Data\n",
    "\n",
    "import pandas as pd \n",
    "\n",
    "gdsc1 = pd.read_excel('data\\drug-response\\GDSC1\\GDSC1_fitted_dose_response_25Feb20.xlsx')\n",
    "print(gdsc1.head())"
   ]
  },
  {
   "cell_type": "code",
   "execution_count": 2,
   "metadata": {},
   "outputs": [],
   "source": [
    "gdsc1_info = pd.read_csv('data\\drug-response\\GDSC1\\GDSC1_DrugData.csv')"
   ]
  },
  {
   "cell_type": "code",
   "execution_count": 5,
   "metadata": {},
   "outputs": [],
   "source": [
    "## Caching loaded data into pickle obj \n",
    "\n",
    "import pickle\n",
    "\n",
    "with open('data/drug-response/GDSC1/cache_gdsc1.pkl', 'wb') as f:\n",
    "    pickle.dump(gdsc1, f)\n",
    "    pickle.dump(gdsc1_info, f)\n"
   ]
  },
  {
   "cell_type": "code",
   "execution_count": 1,
   "metadata": {},
   "outputs": [],
   "source": [
    "## Loading cached data\n",
    "import pickle\n",
    "\n",
    "with open('data/drug-response/GDSC1/cache_gdsc1.pkl', 'rb') as f:\n",
    "    gdsc1 = pickle.load(f)\n",
    "    gdsc1_info = pickle.load(f)"
   ]
  },
  {
   "cell_type": "code",
   "execution_count": 2,
   "metadata": {},
   "outputs": [
    {
     "name": "stdout",
     "output_type": "stream",
     "text": [
      "  DATASET  NLME_RESULT_ID  NLME_CURVE_ID  COSMIC_ID CELL_LINE_NAME  \\\n",
      "0   GDSC1             281       12974350     683665         MC-CAR   \n",
      "1   GDSC1             281       12975300     684055            ES3   \n",
      "2   GDSC1             281       12975647     684057            ES5   \n",
      "3   GDSC1             281       12975980     684059            ES7   \n",
      "4   GDSC1             281       12976330     684062          EW-11   \n",
      "\n",
      "  SANGER_MODEL_ID     TCGA_DESC  DRUG_ID  DRUG_NAME PUTATIVE_TARGET  \\\n",
      "0       SIDM00636            MM        1  Erlotinib            EGFR   \n",
      "1       SIDM00265  UNCLASSIFIED        1  Erlotinib            EGFR   \n",
      "2       SIDM00263  UNCLASSIFIED        1  Erlotinib            EGFR   \n",
      "3       SIDM00269  UNCLASSIFIED        1  Erlotinib            EGFR   \n",
      "4       SIDM00203  UNCLASSIFIED        1  Erlotinib            EGFR   \n",
      "\n",
      "     PATHWAY_NAME  COMPANY_ID WEBRELEASE  MIN_CONC  MAX_CONC   LN_IC50  \\\n",
      "0  EGFR signaling        1045          Y  0.007813       2.0  2.395685   \n",
      "1  EGFR signaling        1045          Y  0.007813       2.0  3.140923   \n",
      "2  EGFR signaling        1045          Y  0.007813       2.0  3.968757   \n",
      "3  EGFR signaling        1045          Y  0.007813       2.0  2.692768   \n",
      "4  EGFR signaling        1045          Y  0.007813       2.0  2.478678   \n",
      "\n",
      "        AUC      RMSE   Z_SCORE  \n",
      "0  0.982114  0.022521 -0.189576  \n",
      "1  0.984816  0.031840  0.508635  \n",
      "2  0.985693  0.026052  1.284229  \n",
      "3  0.972699  0.110056  0.088760  \n",
      "4  0.944462  0.087011 -0.111820  \n"
     ]
    }
   ],
   "source": [
    "# investigating the structure of the gdsc1 dataset \n",
    "\n",
    "print(gdsc1.head())"
   ]
  },
  {
   "cell_type": "code",
   "execution_count": 3,
   "metadata": {},
   "outputs": [
    {
     "name": "stdout",
     "output_type": "stream",
     "text": [
      "(310904, 19)\n"
     ]
    }
   ],
   "source": [
    "print(gdsc1.shape)"
   ]
  },
  {
   "cell_type": "code",
   "execution_count": 4,
   "metadata": {},
   "outputs": [
    {
     "name": "stdout",
     "output_type": "stream",
     "text": [
      "   drug_id   drug_name                            synonyms  \\\n",
      "0     1559  Luminespib  AUY922, VER-52296,NVP-AUY922,  AUY   \n",
      "1     1372  Trametinib                GSK1120212, Mekinist   \n",
      "2     1909  Venetoclax       ABT-199, Veneclexta, GDC-0199   \n",
      "3     1017    Olaparib       AZD2281, KU0059436,  Lynparza   \n",
      "4     1021    Axitinib                    AG-13736, Inlyta   \n",
      "\n",
      "                        pathway_name            targets   pubchem  \n",
      "0  Protein stability and degradation              HSP90  10096043  \n",
      "1                 ERK MAPK signaling         MEK1, MEK2  11707110  \n",
      "2               Apoptosis regulation               BCL2  49846579  \n",
      "3                   Genome integrity       PARP1, PARP2  23725625  \n",
      "4                      RTK signaling  PDGFR, KIT, VEGFR   6450551  \n"
     ]
    }
   ],
   "source": [
    "print(gdsc1_info.head())"
   ]
  },
  {
   "cell_type": "code",
   "execution_count": 5,
   "metadata": {},
   "outputs": [
    {
     "name": "stdout",
     "output_type": "stream",
     "text": [
      "(901, 19)\n"
     ]
    }
   ],
   "source": [
    "palbo = gdsc1.loc[gdsc1['DRUG_NAME'] == 'Palbociclib']\n",
    "\n",
    "print(palbo.shape)"
   ]
  },
  {
   "cell_type": "code",
   "execution_count": 6,
   "metadata": {},
   "outputs": [
    {
     "name": "stdout",
     "output_type": "stream",
     "text": [
      "(0, 19)\n"
     ]
    }
   ],
   "source": [
    "ribo = gdsc1.loc[gdsc1['DRUG_NAME'] == 'Ribociclib']\n",
    "\n",
    "print(ribo.shape)"
   ]
  },
  {
   "cell_type": "code",
   "execution_count": 7,
   "metadata": {},
   "outputs": [
    {
     "name": "stdout",
     "output_type": "stream",
     "text": [
      "(0, 19)\n"
     ]
    }
   ],
   "source": [
    "Abemaciclib = gdsc1.loc[gdsc1['DRUG_NAME'] == 'Abemaciclib']\n",
    "\n",
    "print(Abemaciclib.shape)"
   ]
  },
  {
   "attachments": {},
   "cell_type": "markdown",
   "metadata": {},
   "source": [
    "Technical information\n",
    "- gdsc1 \n",
    "- dataset type: drug response\n",
    "- dataset shape: (310904, 19) (n_cells, row_features)\n",
    "- **each row** represents a drug response measurement of a cell line for a given drug\n",
    "- **each column** are the features of each drug response measurement\n",
    "- the column `LN_IC50` is the log-normalized IC50 value of the drug response\n",
    "- the column `AUC` is the area under the curve of the drug response\n",
    "- the column `DRUG_ID`, `DRUG_NAME` are the **identifiers of the drug**\n",
    "    - 'DRUG_ID' can be queried to show further information on drug targets from the supplementary spreadsheet 'gdsc1_info.csv' or the `gdsc1_info` object in python \n",
    "- the column `COSMIC_ID`, `SANGER_MODEL_ID`, `CELL_LINE_NAME` are the **identifiers of the cell line**\n",
    "- drug present: **Palbociclib** (cell line n = 901)\n"
   ]
  },
  {
   "attachments": {},
   "cell_type": "markdown",
   "metadata": {},
   "source": [
    "pre-processing may not be required on this dataset, however, further pre-processing is needed if paired with other datasets"
   ]
  },
  {
   "attachments": {},
   "cell_type": "markdown",
   "metadata": {},
   "source": [
    "### CCLE 22Q2\n",
    "\n",
    "CCLE (Cancer Cell Line Encyclopedia) is a gene expression dataset, retrieved from [Cancer Cell Line Encyclopedia](https://depmap.org/portal/download/all/). Data is pulled with the option 'DepMap Public 22Q2' in the selection menu.\n",
    "\n",
    "The data is stored in the `data/gene-expression/CCLE_Public_22Q2` folder.\n",
    "\n",
    "Data Retrieval Date: 2022-06-01\n",
    "\n",
    "Ghandi, M., Huang, F. W., Jané-Valbuena, J., Kryukov, G. V., Lo, C. C., McDonald, E. R., Barretina, J., Gelfand, E. T., Bielski, C. M., Li, H., Hu, K., Andreev-Drakhlin, A. Y., Kim, J., Hess, J. M., Haas, B. J., Aguet, F., Weir, B. A., Rothberg, M. V., Paolella, B. R., … Sellers, W. R. (2019). Next-generation characterization of the Cancer Cell Line Encyclopedia. Nature, 569(7757), Article 7757. https://doi.org/10.1038/s41586-019-1186-3\n",
    "\n",
    "\n",
    "#### Methodology\n",
    "\n",
    "From Ghandi et al, 2019:\n",
    "\n",
    "> WGS for 329 cell lines and WES for 326 cell lines were performed at the Broad Institute Genomics Platform. Libraries were constructed and sequenced on either an Illumina HiSeq 2000 or Illumina GAIIX, with the use of 101-base-pair (bp) paired-end reads for WGS and 76-bp paired-end reads for WES. Output from Illumina software was processed by the Picard data-processing pipeline to yield BAM files containing well-calibrated, aligned reads. All sample information tracking was performed by automated LIMS messaging."
   ]
  },
  {
   "cell_type": "code",
   "execution_count": 2,
   "metadata": {},
   "outputs": [],
   "source": [
    "# importing ccle data \n",
    "\n",
    "import pandas as pd\n",
    "\n",
    "ccle = pd.read_csv('data\\gene-expression\\CCLE_Public_22Q2\\CCLE_expression.csv')"
   ]
  },
  {
   "cell_type": "code",
   "execution_count": 3,
   "metadata": {},
   "outputs": [
    {
     "name": "stdout",
     "output_type": "stream",
     "text": [
      "(1406, 19222)\n",
      "       TSPAN6 (7105)  TNMD (64102)  DPM1 (8813)  SCYL3 (57147)  \\\n",
      "count    1406.000000   1406.000000  1406.000000    1406.000000   \n",
      "mean        3.363532      0.069776     6.495860       2.366410   \n",
      "std         1.645531      0.345324     0.646531       0.544784   \n",
      "min         0.000000      0.000000     3.654206       0.594549   \n",
      "25%         2.862946      0.000000     6.097505       2.003602   \n",
      "50%         3.804776      0.000000     6.479295       2.334854   \n",
      "75%         4.430620      0.000000     6.916029       2.682573   \n",
      "max         8.131857      5.251340     9.175100       4.746850   \n",
      "\n",
      "       C1orf112 (55732)   FGR (2268)   CFH (3075)  FUCA2 (2519)  GCLC (2729)  \\\n",
      "count       1406.000000  1406.000000  1406.000000   1406.000000  1406.000000   \n",
      "mean           3.674362     0.445801     2.167746      5.140341     4.639761   \n",
      "std            0.784917     1.250105     2.241927      1.817106     1.152074   \n",
      "min            0.056584     0.000000     0.000000      0.000000     1.195348   \n",
      "25%            3.236874     0.014355     0.124328      4.722328     3.905928   \n",
      "50%            3.742005     0.042644     1.226509      5.678635     4.522621   \n",
      "75%            4.175325     0.150560     4.011447      6.275193     5.276311   \n",
      "max            5.972233     8.012010     9.691813      8.633032     9.581784   \n",
      "\n",
      "       NFYA (4800)  ...  H3C2 (8358)  H3C3 (8352)  AC098582.1 (8916)  \\\n",
      "count  1406.000000  ...  1406.000000  1406.000000        1406.000000   \n",
      "mean      4.047018  ...     1.070536     0.765312           0.469259   \n",
      "std       0.753511  ...     0.726787     0.774394           0.361157   \n",
      "min       0.815575  ...     0.000000     0.000000           0.000000   \n",
      "25%       3.574707  ...     0.536053     0.070389           0.201634   \n",
      "50%       4.016139  ...     0.948601     0.575312           0.400538   \n",
      "75%       4.499368  ...     1.443607     1.214125           0.650765   \n",
      "max       7.433711  ...     5.172327     4.894333           3.109361   \n",
      "\n",
      "       DUS4L-BCAP29 (115253422)  C8orf44-SGK3 (100533105)  ELOA3B (728929)  \\\n",
      "count               1406.000000               1406.000000      1406.000000   \n",
      "mean                   2.070315                  0.370428         0.019751   \n",
      "std                    0.684028                  0.338686         0.057179   \n",
      "min                    0.263034                  0.000000         0.000000   \n",
      "25%                    1.604071                  0.097611         0.000000   \n",
      "50%                    2.032101                  0.298658         0.000000   \n",
      "75%                    2.505255                  0.545968         0.014355   \n",
      "max                    4.430954                  2.241840         0.622930   \n",
      "\n",
      "       NPBWR1 (2831)  ELOA3D (100506888)  ELOA3 (162699)  CDR1 (1038)  \n",
      "count    1406.000000         1406.000000     1406.000000  1406.000000  \n",
      "mean        0.273345            0.020256        0.027820     0.057355  \n",
      "std         0.606354            0.065534        0.084471     0.167470  \n",
      "min         0.000000            0.000000        0.000000     0.000000  \n",
      "25%         0.000000            0.000000        0.000000     0.000000  \n",
      "50%         0.014355            0.000000        0.000000     0.000000  \n",
      "75%         0.214125            0.000000        0.014355     0.000000  \n",
      "max         4.254745            0.992768        1.056584     1.565597  \n",
      "\n",
      "[8 rows x 19221 columns]\n"
     ]
    }
   ],
   "source": [
    "print(ccle.shape)\n",
    "\n",
    "print(ccle.describe())"
   ]
  },
  {
   "cell_type": "code",
   "execution_count": 4,
   "metadata": {},
   "outputs": [],
   "source": [
    "# rename ccle columns \n",
    "\n",
    "entrez = list(ccle.columns)\n",
    "gene_name = []\n",
    "\n",
    "for c in entrez:\n",
    "    if c == 'Unnamed: 0':\n",
    "        entrez[entrez.index(c)] = 'CELLLINE'\n",
    "        gene_name.append('CELLLINE')\n",
    "    else:\n",
    "        # only retain the entrez id in the bracket\n",
    "        left, right = c.find('('), c.find(')')\n",
    "        entrez[entrez.index(c)] = c[left+1:right]\n",
    "        gene_name.append(c[:left-1])"
   ]
  },
  {
   "cell_type": "code",
   "execution_count": 5,
   "metadata": {},
   "outputs": [
    {
     "name": "stdout",
     "output_type": "stream",
     "text": [
      "     CELLLINE    TSPAN6      TNMD      DPM1     SCYL3  C1orf112       FGR  \\\n",
      "0  ACH-001113  4.331992  0.000000  7.364397  2.792855  4.470537  0.028569   \n",
      "1  ACH-001289  4.566815  0.584963  7.106537  2.543496  3.504620  0.000000   \n",
      "2  ACH-001339  3.150560  0.000000  7.379032  2.333424  4.227279  0.056584   \n",
      "3  ACH-001538  5.085340  0.000000  7.154109  2.545968  3.084064  0.000000   \n",
      "4  ACH-000242  6.729145  0.000000  6.537607  2.456806  3.867896  0.799087   \n",
      "\n",
      "        CFH     FUCA2      GCLC  ...      H3C2      H3C3  AC098582.1  \\\n",
      "0  1.226509  3.042644  6.499686  ...  2.689299  0.189034    0.201634   \n",
      "1  0.189034  3.813525  4.221104  ...  1.286881  1.049631    0.321928   \n",
      "2  1.310340  6.687061  3.682573  ...  0.594549  1.097611    0.831877   \n",
      "3  5.868143  6.165309  4.489928  ...  0.214125  0.632268    0.298658   \n",
      "4  7.208381  5.569856  7.127014  ...  1.117695  2.358959    0.084064   \n",
      "\n",
      "   DUS4L-BCAP29  C8orf44-SGK3  ELOA3B    NPBWR1  ELOA3D  ELOA3      CDR1  \n",
      "0      2.130931      0.555816     0.0  0.275007     0.0    0.0  0.000000  \n",
      "1      1.464668      0.632268     0.0  0.014355     0.0    0.0  0.000000  \n",
      "2      2.946731      0.475085     0.0  0.084064     0.0    0.0  0.042644  \n",
      "3      1.641546      0.443607     0.0  0.028569     0.0    0.0  0.000000  \n",
      "4      1.910733      0.000000     0.0  0.464668     0.0    0.0  0.000000  \n",
      "\n",
      "[5 rows x 19222 columns]\n",
      "(1406, 19222)\n"
     ]
    }
   ],
   "source": [
    "ccle.columns = gene_name\n",
    "print(ccle.head())\n",
    "print(ccle.shape)"
   ]
  },
  {
   "cell_type": "code",
   "execution_count": 6,
   "metadata": {},
   "outputs": [
    {
     "name": "stdout",
     "output_type": "stream",
     "text": [
      "  gene_name    entrez\n",
      "0  CELLLINE  CELLLINE\n",
      "1    TSPAN6      7105\n",
      "2      TNMD     64102\n",
      "3      DPM1      8813\n",
      "4     SCYL3     57147\n"
     ]
    }
   ],
   "source": [
    "gene_entrez = pd.DataFrame({'gene_name': gene_name, 'entrez': entrez})\n",
    "print(gene_entrez.head())"
   ]
  },
  {
   "cell_type": "code",
   "execution_count": 8,
   "metadata": {},
   "outputs": [],
   "source": [
    "import pickle \n",
    "\n",
    "with open('data\\gene-expression\\CCLE_Public_22Q2\\ccle_expression.pkl', 'wb') as f:\n",
    "    pickle.dump(gene_entrez, f)\n",
    "    pickle.dump(ccle, f)"
   ]
  },
  {
   "cell_type": "code",
   "execution_count": 10,
   "metadata": {},
   "outputs": [],
   "source": [
    "import pickle\n",
    "\n",
    "with open('data\\gene-expression\\CCLE_Public_22Q2\\ccle_expression.pkl', 'rb') as f:\n",
    "    gene_entrez = pickle.load(f)\n",
    "    ccle = pickle.load(f)"
   ]
  },
  {
   "cell_type": "code",
   "execution_count": 11,
   "metadata": {},
   "outputs": [
    {
     "name": "stdout",
     "output_type": "stream",
     "text": [
      "(1406, 19222)\n"
     ]
    }
   ],
   "source": [
    "print(ccle.shape)"
   ]
  },
  {
   "cell_type": "code",
   "execution_count": 12,
   "metadata": {},
   "outputs": [
    {
     "name": "stdout",
     "output_type": "stream",
     "text": [
      "     CELLLINE    TSPAN6      TNMD      DPM1     SCYL3  C1orf112       FGR  \\\n",
      "0  ACH-001113  4.331992  0.000000  7.364397  2.792855  4.470537  0.028569   \n",
      "1  ACH-001289  4.566815  0.584963  7.106537  2.543496  3.504620  0.000000   \n",
      "2  ACH-001339  3.150560  0.000000  7.379032  2.333424  4.227279  0.056584   \n",
      "3  ACH-001538  5.085340  0.000000  7.154109  2.545968  3.084064  0.000000   \n",
      "4  ACH-000242  6.729145  0.000000  6.537607  2.456806  3.867896  0.799087   \n",
      "\n",
      "        CFH     FUCA2      GCLC  ...      H3C2      H3C3  AC098582.1  \\\n",
      "0  1.226509  3.042644  6.499686  ...  2.689299  0.189034    0.201634   \n",
      "1  0.189034  3.813525  4.221104  ...  1.286881  1.049631    0.321928   \n",
      "2  1.310340  6.687061  3.682573  ...  0.594549  1.097611    0.831877   \n",
      "3  5.868143  6.165309  4.489928  ...  0.214125  0.632268    0.298658   \n",
      "4  7.208381  5.569856  7.127014  ...  1.117695  2.358959    0.084064   \n",
      "\n",
      "   DUS4L-BCAP29  C8orf44-SGK3  ELOA3B    NPBWR1  ELOA3D  ELOA3      CDR1  \n",
      "0      2.130931      0.555816     0.0  0.275007     0.0    0.0  0.000000  \n",
      "1      1.464668      0.632268     0.0  0.014355     0.0    0.0  0.000000  \n",
      "2      2.946731      0.475085     0.0  0.084064     0.0    0.0  0.042644  \n",
      "3      1.641546      0.443607     0.0  0.028569     0.0    0.0  0.000000  \n",
      "4      1.910733      0.000000     0.0  0.464668     0.0    0.0  0.000000  \n",
      "\n",
      "[5 rows x 19222 columns]\n"
     ]
    }
   ],
   "source": [
    "print(ccle.head())"
   ]
  },
  {
   "cell_type": "code",
   "execution_count": 14,
   "metadata": {},
   "outputs": [],
   "source": [
    "import pandas as pd \n",
    "\n",
    "ccle_sample_info = pd.read_csv('data/gene-expression/CCLE_Public_22Q2/sample_info.csv')\n"
   ]
  },
  {
   "cell_type": "code",
   "execution_count": 15,
   "metadata": {},
   "outputs": [
    {
     "name": "stdout",
     "output_type": "stream",
     "text": [
      "    DepMap_ID cell_line_name stripped_cell_line_name  \\\n",
      "0  ACH-000016         SLR 21                   SLR21   \n",
      "1  ACH-000032     MHH-CALL-3                MHHCALL3   \n",
      "2  ACH-000033      NCI-H1819                NCIH1819   \n",
      "3  ACH-000043       Hs 895.T                  HS895T   \n",
      "4  ACH-000049         HEK TE                   HEKTE   \n",
      "\n",
      "                                     CCLE_Name alias  COSMICID     sex  \\\n",
      "0                                 SLR21_KIDNEY   NaN       NaN     NaN   \n",
      "1  MHHCALL3_HAEMATOPOIETIC_AND_LYMPHOID_TISSUE   NaN       NaN  Female   \n",
      "2                                NCIH1819_LUNG   NaN       NaN  Female   \n",
      "3                            HS895T_FIBROBLAST   NaN       NaN  Female   \n",
      "4                                 HEKTE_KIDNEY   NaN       NaN     NaN   \n",
      "\n",
      "         source       RRID  WTSI_Master_Cell_ID  ...   lineage_sub_subtype  \\\n",
      "0  Academic lab  CVCL_V607                  NaN  ...                   NaN   \n",
      "1          DSMZ  CVCL_0089                  NaN  ...                b_cell   \n",
      "2  Academic lab  CVCL_1497                  NaN  ...  NSCLC_adenocarcinoma   \n",
      "3          ATCC  CVCL_0993                  NaN  ...                   NaN   \n",
      "4  Academic lab  CVCL_WS59                  NaN  ...                   NaN   \n",
      "\n",
      "  lineage_molecular_subtype default_growth_pattern model_manipulation  \\\n",
      "0                       NaN                    NaN                NaN   \n",
      "1                       NaN                    NaN                NaN   \n",
      "2                       NaN                    NaN                NaN   \n",
      "3                       NaN           2D: adherent                NaN   \n",
      "4                       NaN                    NaN       immortalized   \n",
      "\n",
      "  model_manipulation_details patient_id parent_depmap_id  \\\n",
      "0                        NaN  PT-JnARLB              NaN   \n",
      "1                        NaN  PT-p2KOyI              NaN   \n",
      "2                        NaN  PT-9p1WQv              NaN   \n",
      "3                        NaN  PT-rTUVZQ              NaN   \n",
      "4                        NaN  PT-qWYYgr              NaN   \n",
      "\n",
      "                   Cellosaurus_NCIt_disease Cellosaurus_NCIt_id  \\\n",
      "0           Clear cell renal cell carcinoma               C4033   \n",
      "1  Childhood B acute lymphoblastic leukemia               C9140   \n",
      "2                       Lung adenocarcinoma               C3512   \n",
      "3                                  Melanoma               C3224   \n",
      "4                                       NaN                 NaN   \n",
      "\n",
      "                                  Cellosaurus_issues  \n",
      "0                                                NaN  \n",
      "1                                                NaN  \n",
      "2                                                NaN  \n",
      "3                                                NaN  \n",
      "4  No information is available about this cell li...  \n",
      "\n",
      "[5 rows x 29 columns]\n"
     ]
    }
   ],
   "source": [
    "print(ccle_sample_info.head())"
   ]
  },
  {
   "cell_type": "code",
   "execution_count": 16,
   "metadata": {},
   "outputs": [],
   "source": [
    "import pickle \n",
    "\n",
    "with open('data/gene-expression/CCLE_Public_22Q2/ccle_sample_info.pkl', 'wb') as f:\n",
    "    pickle.dump(ccle_sample_info, f)"
   ]
  },
  {
   "cell_type": "code",
   "execution_count": 17,
   "metadata": {},
   "outputs": [],
   "source": [
    "import pickle\n",
    "\n",
    "with open('data/gene-expression/CCLE_Public_22Q2/ccle_sample_info.pkl', 'rb') as f:\n",
    "    ccle_sample_info = pickle.load(f)"
   ]
  },
  {
   "attachments": {},
   "cell_type": "markdown",
   "metadata": {},
   "source": [
    "Dataset Documentation\n",
    "- Dataset name: ccle_expression \n",
    "- dataset type: gene expression by RNASeq\n",
    "- dataset shape: (1404, 19222) (n_cells, row_features)\n",
    "- **each row** represents a gene expression measurement of a cell line\n",
    "- **each column** after the first column is the specific expression of a gene in a given cell line\n",
    "- the first column `CELLLINE` is renamed from `0: unnamed`, represents the cell line `DepMap_ID`, and is the **identifier of the cell line**\n",
    "- `DepMap_ID` can be queried to show further information on cell line from the supplementary spreadsheet 'ccle_sample_info.csv' or the `ccle_sample_info` object in python, including linkage to other identifiers including `Sanger_Model_ID`\n",
    "\n",
    "- biologically/clinically implicated genes of note for cdk4/6 inhibitors: #TODO"
   ]
  },
  {
   "attachments": {},
   "cell_type": "markdown",
   "metadata": {},
   "source": [
    "Pre-processing Documentation\n",
    "- column renaming was performed, from `0: unnamed` to `CELLLINE` for the first column, entrez ids are stripped and put into a separate dataframe as part of data cleaning."
   ]
  },
  {
   "attachments": {},
   "cell_type": "markdown",
   "metadata": {},
   "source": [
    "### GDSC 2\n",
    "\n",
    "GDSC2 is a drug response dataset, retrieved from [Genomics of Drug Sensitivity in Cancer](http://www.cancerrxgene.org/). The data is stored in the `data/drug-response/GDSC2` folder."
   ]
  },
  {
   "cell_type": "code",
   "execution_count": 9,
   "metadata": {},
   "outputs": [
    {
     "name": "stdout",
     "output_type": "stream",
     "text": [
      "  DATASET  NLME_RESULT_ID  NLME_CURVE_ID  COSMIC_ID CELL_LINE_NAME  \\\n",
      "0   GDSC2             282       13320532     749709        HCC1954   \n",
      "1   GDSC2             282       13320565     749710        HCC1143   \n",
      "2   GDSC2             282       13320598     749711        HCC1187   \n",
      "3   GDSC2             282       13320631     749712        HCC1395   \n",
      "4   GDSC2             282       13320668     749713        HCC1599   \n",
      "\n",
      "  SANGER_MODEL_ID TCGA_DESC  DRUG_ID     DRUG_NAME PUTATIVE_TARGET  \\\n",
      "0       SIDM00872      BRCA     1003  Camptothecin            TOP1   \n",
      "1       SIDM00866      BRCA     1003  Camptothecin            TOP1   \n",
      "2       SIDM00885      BRCA     1003  Camptothecin            TOP1   \n",
      "3       SIDM00884      BRCA     1003  Camptothecin            TOP1   \n",
      "4       SIDM00877      BRCA     1003  Camptothecin            TOP1   \n",
      "\n",
      "      PATHWAY_NAME  COMPANY_ID WEBRELEASE  MIN_CONC  MAX_CONC   LN_IC50  \\\n",
      "0  DNA replication        1046          Y  0.000098       0.1 -0.251083   \n",
      "1  DNA replication        1046          Y  0.000098       0.1  1.343315   \n",
      "2  DNA replication        1046          Y  0.000098       0.1  1.736985   \n",
      "3  DNA replication        1046          Y  0.000098       0.1 -2.309078   \n",
      "4  DNA replication        1046          Y  0.000098       0.1 -3.106684   \n",
      "\n",
      "        AUC      RMSE   Z_SCORE  \n",
      "0  0.975203  0.112373  0.906631  \n",
      "1  0.978464  0.067577  1.683567  \n",
      "2  0.995100  0.045205  1.875399  \n",
      "3  0.867832  0.107282 -0.096212  \n",
      "4  0.777532  0.098286 -0.484878  \n"
     ]
    }
   ],
   "source": [
    "## Initial Loading of Data\n",
    "\n",
    "import pandas as pd \n",
    "\n",
    "gdsc2 = pd.read_excel('data\\drug-response\\GDSC2\\GDSC2_fitted_dose_response_25Feb20.xlsx')\n",
    "print(gdsc2.head())"
   ]
  },
  {
   "cell_type": "code",
   "execution_count": 12,
   "metadata": {},
   "outputs": [],
   "source": [
    "gdsc2_info = pd.read_csv('data\\drug-response\\GDSC2\\GDSC2_DrugData.csv')\n",
    "\n"
   ]
  },
  {
   "cell_type": "code",
   "execution_count": 13,
   "metadata": {},
   "outputs": [],
   "source": [
    "## Caching loaded data into pickle obj \n",
    "\n",
    "import pickle\n",
    "\n",
    "with open('data/drug-response/GDSC2/cache_gdsc2.pkl', 'wb') as f:\n",
    "    pickle.dump(gdsc2, f)\n",
    "    pickle.dump(gdsc2_info, f)"
   ]
  },
  {
   "cell_type": "code",
   "execution_count": 14,
   "metadata": {},
   "outputs": [],
   "source": [
    "## Loading cached data\n",
    "\n",
    "import pickle\n",
    "\n",
    "with open('data/drug-response/GDSC2/cache_gdsc2.pkl', 'rb') as f:\n",
    "    gdsc2 = pickle.load(f)\n",
    "    gdsc2_info = pickle.load(f)"
   ]
  },
  {
   "attachments": {},
   "cell_type": "markdown",
   "metadata": {},
   "source": [
    "### Goncalves 2022 Proteomic Cell Paper (n=949)"
   ]
  },
  {
   "attachments": {},
   "cell_type": "markdown",
   "metadata": {},
   "source": [
    "Data is retrieved from the [Cell publication of the original article under supplemental information](https://www.cell.com/cancer-cell/fulltext/S1535-6108(22)00274-4) on 01-02-2023.\n",
    "\n",
    "Gonçalves, E., Poulos, R. C., Cai, Z., Barthorpe, S., Manda, S. S., Lucas, N., Beck, A., Bucio-Noble, D., Dausmann, M., Hall, C., Hecker, M., Koh, J., Lightfoot, H., Mahboob, S., Mali, I., Morris, J., Richardson, L., Seneviratne, A. J., Shepherd, R., … Reddel, R. R. (2022). Pan-cancer proteomic map of 949 human cell lines. Cancer Cell, 40(8), 835-849.e8. https://doi.org/10.1016/j.ccell.2022.06.010\n",
    "\n",
    "The data is stored in the `data/proteomic-expression/goncalves-2022-cell` folder.\n",
    "\n",
    "This dataset contains the proteomic expression of 949 cell lines. \n",
    "\n",
    "#### Methodology\n",
    "\n",
    "From Gonçalves et al, 2022 (Results page): \n",
    "\n",
    ">To construct a pan-cancer proteomic map, proteomes of 949 human cancer cell lines from 28 tissues and more than 40 genetically and histologically diverse cancer types were quantified (Figures 1A and S1A, Table S1). The proteome for each cell line was acquired by DIA-MS from six replicates using a workflow that enables high throughput and minimal instrument downtime (see STAR Methods, Figure S1B). The resulting dataset was derived from 6,864 DIA-MS runs acquired over 10,000 MS h (Table S1), including peptide preparations derived from the human embryonic kidney cell line HEK293T that were used throughout all data acquisition periods and instruments for quality control. These data, together with the spectral library, were deposited in the Proteomics Identification Database (Perez-Riverol et al., 2019) with dataset identifier PXD030304. Raw DIA-MS data were processed with DIA-NN (Demichev et al., 2020), using retention time-dependent normalization and with a spectral library generated by DIA-NN. For full details of data processing steps and parameters, see STAR Methods and Table S1. MaxLFQ (Cox et al., 2014) was then used to quantify a total of 8,498 proteins (Table S2, Figure S1C), with a median of 5,237 proteins (min-max range: 2,523–6,251) quantified per cell line (Table S1, Figure 1A).\n",
    "\n",
    "For more detailed information on the methodology, see the STAR Methods section of the paper."
   ]
  },
  {
   "cell_type": "code",
   "execution_count": 2,
   "metadata": {},
   "outputs": [],
   "source": [
    "import pandas as pd\n",
    "\n",
    "# note this retrieves the 'full protein matrix' sheet in the excel file\n",
    "goncalve_proteome = pd.read_excel('data\\proteomic-expression\\goncalves-2022-cell\\goncalves-2022-cell-949-protein-matrix.xlsx')\n",
    "goncalve_proteome_info = pd.read_excel('data\\proteomic-expression\\goncalves-2022-cell\\goncalves-2022-cell-949-sample-info.xlsx')"
   ]
  },
  {
   "cell_type": "code",
   "execution_count": 3,
   "metadata": {},
   "outputs": [
    {
     "name": "stdout",
     "output_type": "stream",
     "text": [
      "  Table S2 Protein matrix. Related to Figure 1          Unnamed: 1  \\\n",
      "0                           Project_Identifier  Q9Y651;SOX21_HUMAN   \n",
      "1                               SIDM00018;K052                 NaN   \n",
      "2                              SIDM00023;TE-12                 NaN   \n",
      "3                              SIDM00040;TMK-1                 NaN   \n",
      "4                           SIDM00041;STS-0421                 NaN   \n",
      "\n",
      "           Unnamed: 2          Unnamed: 3         Unnamed: 4  \\\n",
      "0  P37108;SRP14_HUMAN  Q96JP5;ZFP91_HUMAN  Q9Y4H2;IRS2_HUMAN   \n",
      "1             7.10955             3.38802                NaN   \n",
      "2             6.82802             4.14346            2.21578   \n",
      "3             7.01426             3.85803            2.27808   \n",
      "4             5.28591             3.51695                NaN   \n",
      "\n",
      "         Unnamed: 5          Unnamed: 6         Unnamed: 7  \\\n",
      "0  P36578;RL4_HUMAN  Q6SPF0;SAMD1_HUMAN  O76031;CLPX_HUMAN   \n",
      "1           7.86661             3.77937            4.19666   \n",
      "2           7.62878              3.2399            4.60902   \n",
      "3           8.12459             3.01438            4.76881   \n",
      "4           7.97268             3.25532            4.52092   \n",
      "\n",
      "           Unnamed: 8          Unnamed: 9  ...       Unnamed: 8489  \\\n",
      "0  Q8WUQ7;CATIN_HUMAN  A6NIH7;U119B_HUMAN  ...  Q8WXF0;SRS12_HUMAN   \n",
      "1                 NaN              2.6775  ...                 NaN   \n",
      "2                 NaN             2.88893  ...                 NaN   \n",
      "3                 NaN                 NaN  ...                 NaN   \n",
      "4                 NaN             2.79756  ...                 NaN   \n",
      "\n",
      "        Unnamed: 8490       Unnamed: 8491      Unnamed: 8492  \\\n",
      "0  P02763;A1AG1_HUMAN  Q9ULK4;MED23_HUMAN  P22352;GPX3_HUMAN   \n",
      "1                 NaN                 NaN                NaN   \n",
      "2                 NaN                 NaN                NaN   \n",
      "3             2.05053                 NaN                NaN   \n",
      "4                 NaN                 NaN                NaN   \n",
      "\n",
      "        Unnamed: 8493      Unnamed: 8494       Unnamed: 8495  \\\n",
      "0  P0C221;CC175_HUMAN  P02753;RET4_HUMAN  Q9NWZ8;GEMI8_HUMAN   \n",
      "1             4.50249                NaN             2.53983   \n",
      "2             4.52413                NaN             1.45604   \n",
      "3             4.27994                NaN             3.64597   \n",
      "4             4.65226                NaN             2.25913   \n",
      "\n",
      "       Unnamed: 8496       Unnamed: 8497       Unnamed: 8498  \n",
      "0  O43427;FIBP_HUMAN  O75319;DUS11_HUMAN  Q8IZU2;WDR17_HUMAN  \n",
      "1            1.99209                 NaN                 NaN  \n",
      "2            3.03762                 NaN                 NaN  \n",
      "3                NaN                 NaN             3.93987  \n",
      "4                NaN                 NaN             3.05021  \n",
      "\n",
      "[5 rows x 8499 columns]\n",
      "(950, 8499)\n"
     ]
    }
   ],
   "source": [
    "print(goncalve_proteome.head())\n",
    "print(goncalve_proteome.shape)"
   ]
  },
  {
   "cell_type": "code",
   "execution_count": 4,
   "metadata": {},
   "outputs": [],
   "source": [
    "# pickle the goncalve_proteome and goncalve_proteome_info\n",
    "\n",
    "import pickle\n",
    "\n",
    "with open('data/proteomic-expression/goncalves-2022-cell/goncalve_proteome.pkl', 'wb') as f:\n",
    "    pickle.dump(goncalve_proteome, f)\n",
    "    pickle.dump(goncalve_proteome_info, f)"
   ]
  },
  {
   "cell_type": "code",
   "execution_count": 1,
   "metadata": {},
   "outputs": [],
   "source": [
    "# load the goncalve_proteome and goncalve_proteome_info\n",
    "\n",
    "import pickle\n",
    "\n",
    "with open('data/proteomic-expression/goncalves-2022-cell/goncalve_proteome.pkl', 'rb') as f:\n",
    "    goncalve_proteome = pickle.load(f)\n",
    "    goncalve_proteome_info = pickle.load(f)"
   ]
  },
  {
   "cell_type": "code",
   "execution_count": 3,
   "metadata": {},
   "outputs": [
    {
     "name": "stdout",
     "output_type": "stream",
     "text": [
      "<bound method NDFrame.head of     Table S2 Protein matrix. Related to Figure 1          Unnamed: 1  \\\n",
      "0                             Project_Identifier  Q9Y651;SOX21_HUMAN   \n",
      "1                                 SIDM00018;K052                 NaN   \n",
      "2                                SIDM00023;TE-12                 NaN   \n",
      "3                                SIDM00040;TMK-1                 NaN   \n",
      "4                             SIDM00041;STS-0421                 NaN   \n",
      "..                                           ...                 ...   \n",
      "945                           SIDM01248;CGTH-W-1                 NaN   \n",
      "946                                 SIDM01251;H9                 NaN   \n",
      "947                              SIDM01259;GR-ST             1.22557   \n",
      "948                            SIDM01261;YMB-1-E                 NaN   \n",
      "949                               SIDM01265;MM1S                 NaN   \n",
      "\n",
      "             Unnamed: 2          Unnamed: 3         Unnamed: 4  \\\n",
      "0    P37108;SRP14_HUMAN  Q96JP5;ZFP91_HUMAN  Q9Y4H2;IRS2_HUMAN   \n",
      "1               7.10955             3.38802                NaN   \n",
      "2               6.82802             4.14346            2.21578   \n",
      "3               7.01426             3.85803            2.27808   \n",
      "4               5.28591             3.51695                NaN   \n",
      "..                  ...                 ...                ...   \n",
      "945             6.31631              4.8215                NaN   \n",
      "946             6.23087             2.70001                NaN   \n",
      "947             7.00407             3.86632                NaN   \n",
      "948             6.76532             3.75777                NaN   \n",
      "949             6.91982              3.0195                NaN   \n",
      "\n",
      "           Unnamed: 5          Unnamed: 6         Unnamed: 7  \\\n",
      "0    P36578;RL4_HUMAN  Q6SPF0;SAMD1_HUMAN  O76031;CLPX_HUMAN   \n",
      "1             7.86661             3.77937            4.19666   \n",
      "2             7.62878              3.2399            4.60902   \n",
      "3             8.12459             3.01438            4.76881   \n",
      "4             7.97268             3.25532            4.52092   \n",
      "..                ...                 ...                ...   \n",
      "945           7.62433             3.84336            4.47212   \n",
      "946           7.23503             3.42065             4.7178   \n",
      "947            7.5815                 NaN            4.59082   \n",
      "948           7.24133             2.60561             4.7403   \n",
      "949           6.78319             1.89549            4.40294   \n",
      "\n",
      "             Unnamed: 8          Unnamed: 9  ...       Unnamed: 8489  \\\n",
      "0    Q8WUQ7;CATIN_HUMAN  A6NIH7;U119B_HUMAN  ...  Q8WXF0;SRS12_HUMAN   \n",
      "1                   NaN              2.6775  ...                 NaN   \n",
      "2                   NaN             2.88893  ...                 NaN   \n",
      "3                   NaN                 NaN  ...                 NaN   \n",
      "4                   NaN             2.79756  ...                 NaN   \n",
      "..                  ...                 ...  ...                 ...   \n",
      "945             1.17645                 NaN  ...                 NaN   \n",
      "946             0.62118             1.30512  ...                 NaN   \n",
      "947            -0.53857             1.02524  ...                 NaN   \n",
      "948                 NaN             1.52527  ...                 NaN   \n",
      "949              2.4184             2.26427  ...                 NaN   \n",
      "\n",
      "          Unnamed: 8490       Unnamed: 8491      Unnamed: 8492  \\\n",
      "0    P02763;A1AG1_HUMAN  Q9ULK4;MED23_HUMAN  P22352;GPX3_HUMAN   \n",
      "1                   NaN                 NaN                NaN   \n",
      "2                   NaN                 NaN                NaN   \n",
      "3               2.05053                 NaN                NaN   \n",
      "4                   NaN                 NaN                NaN   \n",
      "..                  ...                 ...                ...   \n",
      "945                 NaN                 NaN                NaN   \n",
      "946                 NaN                 NaN                NaN   \n",
      "947                 NaN                 NaN                NaN   \n",
      "948                 NaN                 NaN                NaN   \n",
      "949                 NaN                 NaN                NaN   \n",
      "\n",
      "          Unnamed: 8493      Unnamed: 8494       Unnamed: 8495  \\\n",
      "0    P0C221;CC175_HUMAN  P02753;RET4_HUMAN  Q9NWZ8;GEMI8_HUMAN   \n",
      "1               4.50249                NaN             2.53983   \n",
      "2               4.52413                NaN             1.45604   \n",
      "3               4.27994                NaN             3.64597   \n",
      "4               4.65226                NaN             2.25913   \n",
      "..                  ...                ...                 ...   \n",
      "945             4.49984                NaN             1.12444   \n",
      "946             2.91059                NaN             3.62863   \n",
      "947              4.6385                NaN             3.74432   \n",
      "948              5.5806                NaN             2.18599   \n",
      "949             4.24291                NaN             1.96976   \n",
      "\n",
      "         Unnamed: 8496       Unnamed: 8497       Unnamed: 8498  \n",
      "0    O43427;FIBP_HUMAN  O75319;DUS11_HUMAN  Q8IZU2;WDR17_HUMAN  \n",
      "1              1.99209                 NaN                 NaN  \n",
      "2              3.03762                 NaN                 NaN  \n",
      "3                  NaN                 NaN             3.93987  \n",
      "4                  NaN                 NaN             3.05021  \n",
      "..                 ...                 ...                 ...  \n",
      "945            2.69815                 NaN                 NaN  \n",
      "946                NaN            -0.00825                 NaN  \n",
      "947            2.37957                 NaN                 NaN  \n",
      "948                NaN                 NaN              3.6647  \n",
      "949                NaN                 NaN                 NaN  \n",
      "\n",
      "[950 rows x 8499 columns]>\n",
      "<bound method NDFrame.head of    Table S1 Sample and data processing information. Related to Figure 1  \\\n",
      "0                                               Field                     \n",
      "1                                            model_id                     \n",
      "2                                  Project_Identifier                     \n",
      "3                                           Cell_line                     \n",
      "4                                              Source                     \n",
      "5                                          Identifier                     \n",
      "6                                              Gender                     \n",
      "7                                         Tissue_type                     \n",
      "8                                        Haem_lineage                     \n",
      "9                                         Cancer_type                     \n",
      "10                                     Cancer_subtype                     \n",
      "11                                           BROAD_ID                     \n",
      "12                                            CCLE_ID                     \n",
      "13                                             ploidy                     \n",
      "14                                  mutational_burden                     \n",
      "15                                  growth_properties                     \n",
      "16                                             growth                     \n",
      "17                                               size                     \n",
      "18                                              media                     \n",
      "19                             replicates_correlation                     \n",
      "20                                 number_of_proteins                     \n",
      "21                                                EMT                     \n",
      "22                                         Proteasome                     \n",
      "23                              TranslationInitiation                     \n",
      "24                              CopyNumberInstability                     \n",
      "25                          GeneExpressionCorrelation                     \n",
      "26                              CopyNumberAttenuation                     \n",
      "27                                                FXX                     \n",
      "\n",
      "                                           Unnamed: 1  \n",
      "0                                         Description  \n",
      "1            Cell line identifier (CellModelPassport)  \n",
      "2                        Cell line project identifier  \n",
      "3                                      Cell line name  \n",
      "4                               Cell line source name  \n",
      "5                         Cell line source identifier  \n",
      "6                                    Cell line gender  \n",
      "7                          Cell line tissue of origin  \n",
      "8   Lineage of haematopoietic and Lymphoid cell lines  \n",
      "9                               Cell line cancer type  \n",
      "10                           Cell line cancer subtype  \n",
      "11                                 Cell line BROAD ID  \n",
      "12                                  Cell line CCLE ID  \n",
      "13  Cell line ploidy, estimated from SNP6 copy num...  \n",
      "14  Cell line mutational burden, estimated from WE...  \n",
      "15                       Cell line culture conditions  \n",
      "16                              Cell line growth rate  \n",
      "17                                     Cell line size  \n",
      "18                            Cell line culture media  \n",
      "19  Cell line proteomics replicate correlation, me...  \n",
      "20        Number of proteins quantified per cell line  \n",
      "21  Proteomics GSEA enrichment scores of MSigDB - ...  \n",
      "22  Proteomics GSEA enrichment scores of MSigDB - ...  \n",
      "23  Proteomics GSEA enrichment scores of MSigDB - ...  \n",
      "24  Copy number instability estimated using SNP6 c...  \n",
      "25  Correlation between gene expression (transcrip...  \n",
      "26  Differential between the correlation coefficie...  \n",
      "27  MOFA factors (XX representing factors from 1 t...  >\n"
     ]
    }
   ],
   "source": [
    "print(goncalve_proteome.head)"
   ]
  },
  {
   "attachments": {},
   "cell_type": "markdown",
   "metadata": {},
   "source": [
    "### Open Cell Protein Interaction Map"
   ]
  },
  {
   "attachments": {},
   "cell_type": "markdown",
   "metadata": {},
   "source": [
    "### PDE CDK4/6 Inhibitor data from Lisa (Sungyoung)"
   ]
  },
  {
   "attachments": {},
   "cell_type": "markdown",
   "metadata": {},
   "source": [
    "# Data Integration"
   ]
  },
  {
   "attachments": {},
   "cell_type": "markdown",
   "metadata": {},
   "source": [
    "## Integration of GDSC2 and CCLE dataset "
   ]
  },
  {
   "attachments": {},
   "cell_type": "markdown",
   "metadata": {},
   "source": [
    "### Steps \n",
    "1. GDSC2 contains drug data, each drug can be converted into a chemical structure, and the chemical structure can be converted into a SMILES string, or a fingerprint. This represents drug features.\n",
    "2. CCLE contains gene expression data, each gene can be converted into a gene feature. This represents gene features.\n",
    "3. The drug features and gene features can be combined to create a drug-gene interaction feature. This represents drug-gene interaction features.\n",
    "4. The drug-gene interaction features can be used to train a model to predict drug response. (drug response stored in GDSC2)"
   ]
  },
  {
   "cell_type": "code",
   "execution_count": 29,
   "metadata": {},
   "outputs": [],
   "source": [
    "import pandas as pd\n",
    "import pickle\n",
    "\n",
    "# import GDSC2 drug response data using pickle\n",
    "\n",
    "with open('data/drug-response/GDSC2/cache_gdsc2.pkl', 'rb') as f:\n",
    "    gdsc2 = pickle.load(f)\n",
    "    gdsc2_info = pickle.load(f)\n",
    "\n",
    "# import CCLE gene expression data using pickle\n",
    "\n",
    "with open('data/gene-expression/CCLE_Public_22Q2/ccle_expression.pkl', 'rb') as f:\n",
    "    gene_entrez = pickle.load(f)\n",
    "    ccle = pickle.load(f)\n",
    "\n",
    "# import CCLE sample info data using pickle\n",
    "\n",
    "with open('data/gene-expression/CCLE_Public_22Q2/ccle_sample_info.pkl', 'rb') as f:\n",
    "    ccle_sample_info = pickle.load(f)\n"
   ]
  },
  {
   "cell_type": "code",
   "execution_count": 34,
   "metadata": {},
   "outputs": [],
   "source": [
    "# generate a dataframe between drug name and pubchem id using gdsc2_info\n",
    "\n",
    "drug_pubchem = gdsc2_info[['drug_name', 'pubchem']]\n",
    "drug_pubchem = drug_pubchem.drop_duplicates()\n",
    "\n",
    "# remove the drug name with no pubchem id\n",
    "\n",
    "# manually modify the pubchem id that are written as 'none' or 'several' \n",
    "drug_pubchem.loc[drug_pubchem['pubchem'] == 'none', 'pubchem'] = '-'\n",
    "\n",
    "# https://pubchem.ncbi.nlm.nih.gov/compound/44259, accessed 09-02-2023\n",
    "drug_pubchem.loc[drug_pubchem['drug_name'] == 'Staurosporine', 'pubchem'] = 44259\n",
    "\n",
    "# https://pubchem.ncbi.nlm.nih.gov/compound/457193, accessed 09-02-2023\n",
    "drug_pubchem.loc[drug_pubchem['drug_name'] == 'Dactinomycin', 'pubchem'] = 457193\n",
    "\n",
    "# remove the drug name with no pubchem id\n",
    "drug_pubchem = drug_pubchem[drug_pubchem['pubchem'] != '-']\n",
    "\n",
    "# in the case of multiple pubchem id, only retain the first one\n",
    "multiples = drug_pubchem[drug_pubchem['pubchem'].str.contains(\",\")==True]\n",
    "\n",
    "# modify the pubchem id to only retain the first one in multiples\n",
    "drug_pubchem.loc[drug_pubchem['pubchem'].str.contains(\",\")==True, 'pubchem'] = drug_pubchem.loc[drug_pubchem['pubchem'].str.contains(\",\")==True, 'pubchem'].str.split(\",\").str[0]\n",
    "\n",
    "# remove duplicates\n",
    "drug_pubchem = drug_pubchem.drop_duplicates()\n",
    "\n",
    "pubchem_list = list(drug_pubchem['pubchem'])"
   ]
  },
  {
   "cell_type": "code",
   "execution_count": 35,
   "metadata": {},
   "outputs": [
    {
     "name": "stdout",
     "output_type": "stream",
     "text": [
      "    drug_name                                             smiles\n",
      "0  Luminespib  CCNC(=O)C1=C(/C(=C/2\\C=C(C(=CC2=O)O)C(C)C)/ON1...\n",
      "1  Trametinib  CC1=C2C(=C(N(C1=O)C)NC3=C(C=C(C=C3)I)F)C(=O)N(...\n",
      "2  Venetoclax  CC1(CCC(=C(C1)C2=CC=C(C=C2)Cl)CN3CCN(CC3)C4=CC...\n",
      "3    Olaparib  C1CC1C(=O)N2CCN(CC2)C(=O)C3=C(C=CC(=C3)CC4=NNC...\n",
      "4    Axitinib  CNC(=O)C1=CC=CC=C1SC2=CC3=C(C=C2)C(=NN3)/C=C/C...\n",
      "(152, 2) (198, 6)\n"
     ]
    }
   ],
   "source": [
    "import pubchempy as pcp\n",
    "\n",
    "# using pubchempy to retrieve the smiles string of each pubchem id\n",
    "\n",
    "smiles_list = []\n",
    "\n",
    "for pubchem in pubchem_list:\n",
    "    try: \n",
    "        compound = pcp.Compound.from_cid(pubchem)\n",
    "        smiles = compound.isomeric_smiles\n",
    "        smiles_list.append(smiles)\n",
    "    except Exception as e:\n",
    "        print(drug_pubchem[drug_pubchem['pubchem'] == pubchem]['drug_name'])\n",
    "        smiles_list.append('')\n",
    "\n",
    "# generate a dataframe between drug name and smiles string\n",
    "\n",
    "drug_smiles = pd.DataFrame({'drug_name': drug_pubchem['drug_name'], 'smiles': smiles_list})\n",
    "print(drug_smiles.head())\n",
    "\n",
    "# compare the number of drug name in drug_smiles and drug_pubchem\n",
    "print(drug_smiles.shape, gdsc2_info.shape)\n"
   ]
  },
  {
   "cell_type": "code",
   "execution_count": 36,
   "metadata": {},
   "outputs": [],
   "source": [
    "# pickle the drug_smiles and drug_pubchem, both have been modified and cleaned\n",
    "\n",
    "import pickle\n",
    "\n",
    "with open('data/drug-response/GDSC2/gdsc2_drug_smiles.pkl', 'wb') as f:\n",
    "    pickle.dump(drug_smiles, f)\n",
    "\n",
    "with open('data/drug-response/GDSC2/gdsc2_drug_pubchem.pkl', 'wb') as f:\n",
    "    pickle.dump(drug_pubchem, f)"
   ]
  },
  {
   "cell_type": "code",
   "execution_count": 46,
   "metadata": {},
   "outputs": [],
   "source": [
    "# Using RDKit to generate molecular fingerprints from GDSC2 drug names\n",
    "\n",
    "from rdkit import Chem\n",
    "from rdkit.Chem import AllChem\n",
    "import numpy as np\n",
    "\n",
    "# generate a list of rdkit mol objects from the smiles string\n",
    "mol_list = [Chem.MolFromSmiles(smiles) for smiles in drug_smiles['smiles']]\n",
    "# print(mol_list[0])\n",
    "\n",
    "# generate a list of fingerprints from the rdkit mol objects\n",
    "fp_list = [AllChem.GetMorganFingerprintAsBitVect(mol, 2, nBits=1024) for mol in mol_list]\n",
    "\n",
    "\n",
    "fpnp = np.array(fp_list[0])\n",
    "\n",
    "# print a sample of the fingerprints as a numpy array\n",
    "# print(fp_list[0].ToBitString())\n",
    "\n",
    "# # convert the bitstring to a numpy array, using the first 10 fingerprints as an example\n",
    "\n",
    "# fp = fp_list[0].ToBitString()\n",
    "# fp_array = np.array(list(fp))\n",
    "# print(fp_array)\n",
    "\n",
    "\n",
    "# fp_array = np.array([np.array(list(fp)) for fp in fp_list])\n",
    "\n",
    "# generate a dataframe of the fingerprints\n",
    "# fp_df = pd.DataFrame([list(fp) for fp in fp_list], columns=['fp'+str(i) for i in range(1024)])\n",
    "\n",
    "# TODO: require further preprocessing documentation for the code above "
   ]
  }
 ],
 "metadata": {
  "kernelspec": {
   "display_name": "dynamic-marker",
   "language": "python",
   "name": "python3"
  },
  "language_info": {
   "codemirror_mode": {
    "name": "ipython",
    "version": 3
   },
   "file_extension": ".py",
   "mimetype": "text/x-python",
   "name": "python",
   "nbconvert_exporter": "python",
   "pygments_lexer": "ipython3",
   "version": "3.8.3"
  },
  "orig_nbformat": 4,
  "vscode": {
   "interpreter": {
    "hash": "5e3de44e5c69c0e6191ca0b8b03ef872ccaf8645694c393326d094def8f567f7"
   }
  }
 },
 "nbformat": 4,
 "nbformat_minor": 2
}
