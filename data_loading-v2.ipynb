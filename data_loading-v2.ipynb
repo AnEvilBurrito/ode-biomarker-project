{
 "cells": [
  {
   "attachments": {},
   "cell_type": "markdown",
   "metadata": {},
   "source": [
    "# Session Info\n",
    "\n",
    "necessary packages to run this notebook"
   ]
  },
  {
   "cell_type": "code",
   "execution_count": null,
   "metadata": {},
   "outputs": [],
   "source": [
    "import types\n",
    "def imports():\n",
    "    for name, val in globals().items():\n",
    "        if isinstance(val, types.ModuleType):\n",
    "            yield val.__name__\n",
    "list(imports())"
   ]
  },
  {
   "attachments": {},
   "cell_type": "markdown",
   "metadata": {},
   "source": [
    "# Data loading \n",
    "\n",
    "methods to pre-cache and load in raw data from the data folder"
   ]
  },
  {
   "attachments": {},
   "cell_type": "markdown",
   "metadata": {},
   "source": [
    "### Data Pre-processing Guidelines\n",
    "\n",
    "- **documentation of original download information**\n",
    "    - original download link \n",
    "    - the date of download\n",
    "    - the doi or bibliography of the linked publication \n",
    "    - basic description of the dataset\n",
    "    - |time-consuming| ideally, a simple description of the methodology used to generate the dataset\n",
    "        - how were the samples collected?\n",
    "        - at what time point are the samples lysed? \n",
    "        - any further pre-processing steps?  \n",
    "<br />\n",
    "\n",
    "- **documentation of dataset(s)** \n",
    "    - *the information type represented by the dataset (i.e. gene expression, drug response, etc.)*\n",
    "    - any supplementary spreadsheet(s) associated with the dataset or metadata\n",
    "    - sample size (e.g. number of samples, number of genes, etc.)\n",
    "    - main row and column domains (e.g. genes, samples, drugs, etc.)\n",
    "    - identifiers used for drug, gene, protein etc. \n",
    "    - presence of specific drugs or genes/proteins of interest\n",
    "        - e.g. CDK4/6 inhibitors: palbociclib, ribociclib and abemaciclib  \n",
    "<br />  \n",
    "\n",
    "- **documentation of the pre-processing steps**\n",
    "    - *the final shape of the processed dataset associated with metadata, e.g. (n_samples, n_genes)*\n",
    "    - |time-consuming| the technique used to transform the dataset\n",
    "        - e.g. log2 transformation, z-score normalization, etc.\n",
    "        - e.g. the method used to impute missing values\n",
    "        - any removal of data and reasoning (i.e. due to missing values, etc.)\n",
    "    - index to identifier mapping (e.g. gene index to gene symbol mapping)\n",
    "        - then, the processed dataset will have indexes matched with a corresponding identifier/symbol \n",
    "        - e.g. gene index 0 corresponds to gene symbol A1BG\n",
    "        - e.g. drug index 0 corresponds to drug palbociclib\n",
    "        - when performing further filtering, the original index order must be preserved or traced to allow for mapping back to the original identifiers\n",
    "    - creating a paired dataset from two different datasets\n",
    "        - e.g. drug response and gene expression\n",
    "        - e.g. drug response and mutation status\n",
    "        - e.g. gene expression and mutation status\n",
    "        - must perform model-to-name mapping between the two datasets and document the mapping logic\n",
    "            - e.g. model are cell lines, matched by cell line name (no spaces, lower case)\n",
    "            - e.g. model are cell lines, matched by a common identifier (e.g. Sanger_Model_ID)\n",
    "\n"
   ]
  },
  {
   "attachments": {},
   "cell_type": "markdown",
   "metadata": {},
   "source": [
    "### GDSC 1 \n",
    "\n",
    "GDSC1 is a drug response dataset, retrieved from [Genomics of Drug Sensitivity in Cancer](http://www.cancerrxgene.org/). The data is stored in the `data/drug-response/GDSC1` folder.\n",
    "\n",
    "Data Retrieval Date: 2022-06-01\n",
    "\n",
    "Yang, W., Soares, J., Greninger, P., Edelman, E. J., Lightfoot, H., Forbes, S., Bindal, N., Beare, D., Smith, J. A., Thompson, I. R., Ramaswamy, S., Futreal, P. A., Haber, D. A., Stratton, M. R., Benes, C., McDermott, U., & Garnett, M. J. (2013). Genomics of Drug Sensitivity in Cancer (GDSC): A resource for therapeutic biomarker discovery in cancer cells. Nucleic Acids Research, 41(Database issue), D955–D961. https://doi.org/10.1093/nar/gks1111\n",
    "\n",
    "#### Methodology\n",
    "\n",
    "retrieved from [Genomics of Drug Sensitivity in Cancer](https://www.cancerrxgene.org/help#t_curve)\n",
    "\n",
    "> The GDSC1 dataset was generated jointly by the Wellcome Sanger Institute and Massachusetts General Hospital between 2009 and 2015 using a matched set of cancer cell lines (the GDSC1000).\n",
    "\n",
    "> Compounds were stored in aliquots at -80°C and were subjected to a maximum of 5 freeze-thaw cycles.\n",
    "\n",
    "> Cells were seeded in 96-well or 384-well plates and compound dose titrations were delivered using tip based liquid handling apparatus. Cell viability was measured using either Syto60 or Resazurin. Drug treatments in this dataset used two formats:\n",
    "\n",
    "> 9-point dose curve incorporating a 2-fold dilution step (256-fold range)\n",
    "> 5-point dose curve incorporating a 4-fold dilution step (256-fold range)\n",
    "\n"
   ]
  },
  {
   "cell_type": "code",
   "execution_count": null,
   "metadata": {},
   "outputs": [],
   "source": [
    "## Initial Loading of Data\n",
    "\n",
    "import pandas as pd \n",
    "\n",
    "gdsc1 = pd.read_excel('data\\drug-response\\GDSC1\\GDSC1_fitted_dose_response_25Feb20.xlsx')\n",
    "print(gdsc1.head())"
   ]
  },
  {
   "cell_type": "code",
   "execution_count": null,
   "metadata": {},
   "outputs": [],
   "source": [
    "gdsc1_info = pd.read_csv('data\\drug-response\\GDSC1\\GDSC1_DrugData.csv')"
   ]
  },
  {
   "cell_type": "code",
   "execution_count": null,
   "metadata": {},
   "outputs": [],
   "source": [
    "## Caching loaded data into pickle obj \n",
    "\n",
    "import pickle\n",
    "\n",
    "with open('data/drug-response/GDSC1/cache_gdsc1.pkl', 'wb') as f:\n",
    "    pickle.dump(gdsc1, f)\n",
    "    pickle.dump(gdsc1_info, f)\n"
   ]
  },
  {
   "cell_type": "code",
   "execution_count": null,
   "metadata": {},
   "outputs": [],
   "source": [
    "## Loading cached data\n",
    "import pickle\n",
    "\n",
    "with open('data/drug-response/GDSC1/cache_gdsc1.pkl', 'rb') as f:\n",
    "    gdsc1 = pickle.load(f)\n",
    "    gdsc1_info = pickle.load(f)"
   ]
  },
  {
   "cell_type": "code",
   "execution_count": null,
   "metadata": {},
   "outputs": [],
   "source": [
    "# investigating the structure of the gdsc1 dataset \n",
    "\n",
    "print(gdsc1.head())"
   ]
  },
  {
   "cell_type": "code",
   "execution_count": null,
   "metadata": {},
   "outputs": [],
   "source": [
    "print(gdsc1.shape)"
   ]
  },
  {
   "cell_type": "code",
   "execution_count": null,
   "metadata": {},
   "outputs": [],
   "source": [
    "print(gdsc1_info.head())"
   ]
  },
  {
   "cell_type": "code",
   "execution_count": null,
   "metadata": {},
   "outputs": [],
   "source": [
    "palbo = gdsc1.loc[gdsc1['DRUG_NAME'] == 'Palbociclib']\n",
    "\n",
    "print(palbo.shape)"
   ]
  },
  {
   "cell_type": "code",
   "execution_count": null,
   "metadata": {},
   "outputs": [],
   "source": [
    "ribo = gdsc1.loc[gdsc1['DRUG_NAME'] == 'Ribociclib']\n",
    "\n",
    "print(ribo.shape)"
   ]
  },
  {
   "cell_type": "code",
   "execution_count": null,
   "metadata": {},
   "outputs": [],
   "source": [
    "Abemaciclib = gdsc1.loc[gdsc1['DRUG_NAME'] == 'Abemaciclib']\n",
    "\n",
    "print(Abemaciclib.shape)"
   ]
  },
  {
   "attachments": {},
   "cell_type": "markdown",
   "metadata": {},
   "source": [
    "Technical information\n",
    "- gdsc1 \n",
    "- dataset type: drug response\n",
    "- dataset shape: (310904, 19) (n_cells, row_features)\n",
    "- **each row** represents a drug response measurement of a cell line for a given drug\n",
    "- **each column** are the features of each drug response measurement\n",
    "- the column `LN_IC50` is the log-normalized IC50 value of the drug response\n",
    "- the column `AUC` is the area under the curve of the drug response\n",
    "- the column `DRUG_ID`, `DRUG_NAME` are the **identifiers of the drug**\n",
    "    - 'DRUG_ID' can be queried to show further information on drug targets from the supplementary spreadsheet 'gdsc1_info.csv' or the `gdsc1_info` object in python \n",
    "- the column `COSMIC_ID`, `SANGER_MODEL_ID`, `CELL_LINE_NAME` are the **identifiers of the cell line**\n",
    "- drug present: **Palbociclib** (cell line n = 901)\n"
   ]
  },
  {
   "attachments": {},
   "cell_type": "markdown",
   "metadata": {},
   "source": [
    "pre-processing may not be required on this dataset, however, further pre-processing is needed if paired with other datasets"
   ]
  },
  {
   "attachments": {},
   "cell_type": "markdown",
   "metadata": {},
   "source": [
    "### CCLE 22Q2\n",
    "\n",
    "CCLE (Cancer Cell Line Encyclopedia) is a gene expression dataset, retrieved from [Cancer Cell Line Encyclopedia](https://depmap.org/portal/download/all/). Data is pulled with the option 'DepMap Public 22Q2' in the selection menu.\n",
    "\n",
    "The data is stored in the `data/gene-expression/CCLE_Public_22Q2` folder.\n",
    "\n",
    "Data Retrieval Date: 2022-06-01\n",
    "\n",
    "Ghandi, M., Huang, F. W., Jané-Valbuena, J., Kryukov, G. V., Lo, C. C., McDonald, E. R., Barretina, J., Gelfand, E. T., Bielski, C. M., Li, H., Hu, K., Andreev-Drakhlin, A. Y., Kim, J., Hess, J. M., Haas, B. J., Aguet, F., Weir, B. A., Rothberg, M. V., Paolella, B. R., … Sellers, W. R. (2019). Next-generation characterization of the Cancer Cell Line Encyclopedia. Nature, 569(7757), Article 7757. https://doi.org/10.1038/s41586-019-1186-3\n",
    "\n",
    "\n",
    "#### Methodology\n",
    "\n",
    "From Ghandi et al, 2019:\n",
    "\n",
    "> WGS for 329 cell lines and WES for 326 cell lines were performed at the Broad Institute Genomics Platform. Libraries were constructed and sequenced on either an Illumina HiSeq 2000 or Illumina GAIIX, with the use of 101-base-pair (bp) paired-end reads for WGS and 76-bp paired-end reads for WES. Output from Illumina software was processed by the Picard data-processing pipeline to yield BAM files containing well-calibrated, aligned reads. All sample information tracking was performed by automated LIMS messaging.\n",
    "\n",
    "> Short read alignment and calculation of gene expression\n",
    "RNA-seq reads were aligned to the GRCh37 build of the human genome reference using STAR 2.4.2a59. The GENCODE v19 annotation was used for the STAR alignment and all other quantifications. Gene level RPKM and read count values were calculated using RNA-SeQC v1.1.860. Exon–exon junction read counts were obtained from STAR. Isoform-level expression in TPM (transcripts per million) was quantified using RSEM v.1.2.22. All methods were run as part of the pipeline developed for the GTEx Consortium (https://gtexportal.org)61."
   ]
  },
  {
   "cell_type": "code",
   "execution_count": null,
   "metadata": {},
   "outputs": [],
   "source": [
    "# importing ccle data \n",
    "\n",
    "import pandas as pd\n",
    "\n",
    "ccle = pd.read_csv('data\\gene-expression\\CCLE_Public_22Q2\\CCLE_expression.csv')"
   ]
  },
  {
   "cell_type": "code",
   "execution_count": null,
   "metadata": {},
   "outputs": [],
   "source": [
    "print(ccle.shape)\n",
    "\n",
    "print(ccle.describe())"
   ]
  },
  {
   "cell_type": "code",
   "execution_count": null,
   "metadata": {},
   "outputs": [],
   "source": [
    "# rename ccle columns \n",
    "\n",
    "entrez = list(ccle.columns)\n",
    "gene_name = []\n",
    "\n",
    "for c in entrez:\n",
    "    if c == 'Unnamed: 0':\n",
    "        entrez[entrez.index(c)] = 'CELLLINE'\n",
    "        gene_name.append('CELLLINE')\n",
    "    else:\n",
    "        # only retain the entrez id in the bracket\n",
    "        left, right = c.find('('), c.find(')')\n",
    "        entrez[entrez.index(c)] = c[left+1:right]\n",
    "        gene_name.append(c[:left-1])"
   ]
  },
  {
   "cell_type": "code",
   "execution_count": null,
   "metadata": {},
   "outputs": [],
   "source": [
    "ccle.columns = gene_name\n",
    "print(ccle.head())\n",
    "print(ccle.shape)"
   ]
  },
  {
   "cell_type": "code",
   "execution_count": null,
   "metadata": {},
   "outputs": [],
   "source": [
    "gene_entrez = pd.DataFrame({'gene_name': gene_name, 'entrez': entrez})\n",
    "print(gene_entrez.head())"
   ]
  },
  {
   "cell_type": "code",
   "execution_count": null,
   "metadata": {},
   "outputs": [],
   "source": [
    "import pickle \n",
    "\n",
    "with open('data\\gene-expression\\CCLE_Public_22Q2\\ccle_expression.pkl', 'wb') as f:\n",
    "    pickle.dump(gene_entrez, f)\n",
    "    pickle.dump(ccle, f)"
   ]
  },
  {
   "cell_type": "code",
   "execution_count": null,
   "metadata": {},
   "outputs": [],
   "source": [
    "import pickle\n",
    "\n",
    "with open('data\\gene-expression\\CCLE_Public_22Q2\\ccle_expression.pkl', 'rb') as f:\n",
    "    gene_entrez = pickle.load(f)\n",
    "    ccle = pickle.load(f)"
   ]
  },
  {
   "cell_type": "code",
   "execution_count": null,
   "metadata": {},
   "outputs": [],
   "source": [
    "print(ccle.shape)"
   ]
  },
  {
   "cell_type": "code",
   "execution_count": null,
   "metadata": {},
   "outputs": [],
   "source": [
    "print(ccle.head())"
   ]
  },
  {
   "cell_type": "code",
   "execution_count": null,
   "metadata": {},
   "outputs": [],
   "source": [
    "import pandas as pd \n",
    "\n",
    "ccle_sample_info = pd.read_csv('data/gene-expression/CCLE_Public_22Q2/sample_info.csv')\n"
   ]
  },
  {
   "cell_type": "code",
   "execution_count": null,
   "metadata": {},
   "outputs": [],
   "source": [
    "print(ccle_sample_info.head())"
   ]
  },
  {
   "cell_type": "code",
   "execution_count": null,
   "metadata": {},
   "outputs": [],
   "source": [
    "import pickle \n",
    "\n",
    "with open('data/gene-expression/CCLE_Public_22Q2/ccle_sample_info.pkl', 'wb') as f:\n",
    "    pickle.dump(ccle_sample_info, f)"
   ]
  },
  {
   "cell_type": "code",
   "execution_count": null,
   "metadata": {},
   "outputs": [],
   "source": [
    "import pickle\n",
    "\n",
    "with open('data/gene-expression/CCLE_Public_22Q2/ccle_sample_info.pkl', 'rb') as f:\n",
    "    ccle_sample_info = pickle.load(f)"
   ]
  },
  {
   "attachments": {},
   "cell_type": "markdown",
   "metadata": {},
   "source": [
    "Dataset Documentation\n",
    "- Dataset name: ccle_expression \n",
    "- dataset type: gene expression by RNASeq\n",
    "- dataset shape: (1404, 19222) (n_cells, row_features)\n",
    "- **each row** represents a gene expression measurement of a cell line\n",
    "- **each column** after the first column is the specific expression of a gene in a given cell line\n",
    "- the first column `CELLLINE` is renamed from `0: unnamed`, represents the cell line `DepMap_ID`, and is the **identifier of the cell line**\n",
    "- `DepMap_ID` can be queried to show further information on cell line from the supplementary spreadsheet 'ccle_sample_info.csv' or the `ccle_sample_info` object in python, including linkage to other identifiers including `Sanger_Model_ID`\n",
    "\n",
    "- biologically/clinically implicated genes of note for cdk4/6 inhibitors: #TODO"
   ]
  },
  {
   "attachments": {},
   "cell_type": "markdown",
   "metadata": {},
   "source": [
    "Pre-processing Documentation\n",
    "- column renaming was performed, from `0: unnamed` to `CELLLINE` for the first column, entrez ids are stripped and put into a separate dataframe as part of data cleaning."
   ]
  },
  {
   "attachments": {},
   "cell_type": "markdown",
   "metadata": {},
   "source": [
    "### GDSC 2\n",
    "\n",
    "GDSC2 is a drug response dataset, retrieved from [Genomics of Drug Sensitivity in Cancer](http://www.cancerrxgene.org/). The data is stored in the `data/drug-response/GDSC2` folder."
   ]
  },
  {
   "cell_type": "code",
   "execution_count": null,
   "metadata": {},
   "outputs": [],
   "source": [
    "## Initial Loading of Data\n",
    "\n",
    "import pandas as pd \n",
    "\n",
    "gdsc2 = pd.read_excel('data\\drug-response\\GDSC2\\GDSC2_fitted_dose_response_25Feb20.xlsx')\n",
    "print(gdsc2.head())"
   ]
  },
  {
   "cell_type": "code",
   "execution_count": null,
   "metadata": {},
   "outputs": [],
   "source": [
    "gdsc2_info = pd.read_csv('data\\drug-response\\GDSC2\\GDSC2_DrugData.csv')\n",
    "\n"
   ]
  },
  {
   "cell_type": "code",
   "execution_count": null,
   "metadata": {},
   "outputs": [],
   "source": [
    "## Caching loaded data into pickle obj \n",
    "\n",
    "import pickle\n",
    "\n",
    "with open('data/drug-response/GDSC2/cache_gdsc2.pkl', 'wb') as f:\n",
    "    pickle.dump(gdsc2, f)\n",
    "    pickle.dump(gdsc2_info, f)"
   ]
  },
  {
   "cell_type": "code",
   "execution_count": null,
   "metadata": {},
   "outputs": [],
   "source": [
    "## Loading cached data\n",
    "\n",
    "import pickle\n",
    "\n",
    "with open('data/drug-response/GDSC2/cache_gdsc2.pkl', 'rb') as f:\n",
    "    gdsc2 = pickle.load(f)\n",
    "    gdsc2_info = pickle.load(f)"
   ]
  },
  {
   "attachments": {},
   "cell_type": "markdown",
   "metadata": {},
   "source": [
    "### Goncalves 2022 Proteomic Cell Paper (n=949)"
   ]
  },
  {
   "attachments": {},
   "cell_type": "markdown",
   "metadata": {},
   "source": [
    "Data is retrieved from the [Cell publication of the original article under supplemental information](https://www.cell.com/cancer-cell/fulltext/S1535-6108(22)00274-4) on 01-02-2023.\n",
    "\n",
    "Gonçalves, E., Poulos, R. C., Cai, Z., Barthorpe, S., Manda, S. S., Lucas, N., Beck, A., Bucio-Noble, D., Dausmann, M., Hall, C., Hecker, M., Koh, J., Lightfoot, H., Mahboob, S., Mali, I., Morris, J., Richardson, L., Seneviratne, A. J., Shepherd, R., … Reddel, R. R. (2022). Pan-cancer proteomic map of 949 human cell lines. Cancer Cell, 40(8), 835-849.e8. https://doi.org/10.1016/j.ccell.2022.06.010\n",
    "\n",
    "The data is stored in the `data/proteomic-expression/goncalves-2022-cell` folder.\n",
    "\n",
    "This dataset contains the proteomic expression of 949 cell lines. \n",
    "\n",
    "#### Methodology\n",
    "\n",
    "From Gonçalves et al, 2022 (Results page): \n",
    "\n",
    ">To construct a pan-cancer proteomic map, proteomes of 949 human cancer cell lines from 28 tissues and more than 40 genetically and histologically diverse cancer types were quantified (Figures 1A and S1A, Table S1). The proteome for each cell line was acquired by DIA-MS from six replicates using a workflow that enables high throughput and minimal instrument downtime (see STAR Methods, Figure S1B). The resulting dataset was derived from 6,864 DIA-MS runs acquired over 10,000 MS h (Table S1), including peptide preparations derived from the human embryonic kidney cell line HEK293T that were used throughout all data acquisition periods and instruments for quality control. These data, together with the spectral library, were deposited in the Proteomics Identification Database (Perez-Riverol et al., 2019) with dataset identifier PXD030304. Raw DIA-MS data were processed with DIA-NN (Demichev et al., 2020), using retention time-dependent normalization and with a spectral library generated by DIA-NN. For full details of data processing steps and parameters, see STAR Methods and Table S1. MaxLFQ (Cox et al., 2014) was then used to quantify a total of 8,498 proteins (Table S2, Figure S1C), with a median of 5,237 proteins (min-max range: 2,523–6,251) quantified per cell line (Table S1, Figure 1A).\n",
    "\n",
    "For more detailed information on the methodology, see the STAR Methods section of the paper. In brief, protein expression was measured using DIA-MS, and the data was processed using DIA-NN and quantified using MaxLFQ. Then, data was further processed by log2 transformation. \n",
    "\n",
    "For more information on MaxLFQ, see the [Cox et al, 2014](https://www.sciencedirect.com/science/article/pii/S1535947620333107). "
   ]
  },
  {
   "cell_type": "code",
   "execution_count": null,
   "metadata": {},
   "outputs": [],
   "source": [
    "import pandas as pd\n",
    "\n",
    "# loading in the proteomic data\n",
    "\n",
    "main_file = pd.ExcelFile('data\\proteomic-expression\\goncalves-2022-cell\\goncalves-2022-cell-949-protein-matrix.xlsx')\n",
    "print(main_file.sheet_names)\n",
    "\n",
    "full_protein_matrix = pd.read_excel(main_file, 'Full protein matrix', header=1)\n",
    "full_protein_matrix.head(2)\n",
    "\n",
    "\n"
   ]
  },
  {
   "cell_type": "code",
   "execution_count": null,
   "metadata": {},
   "outputs": [],
   "source": [
    "sin_peptile_exclusion_matrix = pd.read_excel(main_file, 'Prot matrix excl single-peptide', header=1)\n",
    "sin_peptile_exclusion_matrix.head(2)"
   ]
  },
  {
   "cell_type": "code",
   "execution_count": null,
   "metadata": {},
   "outputs": [],
   "source": [
    "print(full_protein_matrix.shape)\n",
    "print(sin_peptile_exclusion_matrix.shape)"
   ]
  },
  {
   "cell_type": "code",
   "execution_count": null,
   "metadata": {},
   "outputs": [],
   "source": [
    "# loading in the sample info for the proteomic data\n",
    "\n",
    "info_file = pd.ExcelFile('data\\proteomic-expression\\goncalves-2022-cell\\goncalves-2022-cell-949-sample-info.xlsx')\n",
    "print(info_file.sheet_names)\n",
    "\n",
    "goncalve_cell_line_info = pd.read_excel(info_file, 'Cell line level sample info', header=1)\n",
    "\n",
    "goncalve_cell_line_info.head(1)\n"
   ]
  },
  {
   "cell_type": "code",
   "execution_count": null,
   "metadata": {},
   "outputs": [],
   "source": [
    "print(goncalve_cell_line_info.shape)"
   ]
  },
  {
   "cell_type": "code",
   "execution_count": null,
   "metadata": {},
   "outputs": [],
   "source": [
    "# pickle the goncalve_proteome and goncalve_proteome_info\n",
    "\n",
    "import pickle\n",
    "\n",
    "with open('data/proteomic-expression/goncalves-2022-cell/goncalve_proteome.pkl', 'wb') as f:\n",
    "    pickle.dump(full_protein_matrix, f)\n",
    "    pickle.dump(sin_peptile_exclusion_matrix, f)\n",
    "    pickle.dump(goncalve_cell_line_info, f)"
   ]
  },
  {
   "cell_type": "code",
   "execution_count": null,
   "metadata": {},
   "outputs": [],
   "source": [
    "# load the goncalve_proteome and goncalve_proteome_info\n",
    "\n",
    "import pickle\n",
    "\n",
    "with open('data/proteomic-expression/goncalves-2022-cell/goncalve_proteome.pkl', 'rb') as f:\n",
    "    full_protein_matrix = pickle.load(f)\n",
    "    sin_peptile_exclusion_matrix = pickle.load(f)\n",
    "    goncalve_cell_line_info = pickle.load(f)"
   ]
  },
  {
   "cell_type": "code",
   "execution_count": null,
   "metadata": {},
   "outputs": [],
   "source": [
    "full_protein_matrix.head(2)"
   ]
  },
  {
   "attachments": {},
   "cell_type": "markdown",
   "metadata": {},
   "source": [
    "Dataset Documentation\n",
    "- Dataset name: full_protein_matrix\n",
    "\n",
    "- dataset type: proteomic expression by DIA-MS\n",
    "\n",
    "- dataset shape: (949, 8498) (n_cells, row_quantified_protein_expression), note that each protein expression value is aleady log2 transformed.\n",
    "\n",
    "- **each row** represents a proteomic measurement of a cell line\n",
    "\n",
    "- **each column** after the first column is the specific expression of a protein in a given cell line\n",
    "\n",
    "- the first column `Project_Identifier` is the **identifier of the cell line**, this can be translated to `model_id` in the sample info csv document or the python object `goncalves_sample_info` using the `model_id` column. `model_id` appears to be consistent with the Sanger model ID format. \n",
    "\n",
    "\n",
    "\n"
   ]
  },
  {
   "cell_type": "code",
   "execution_count": null,
   "metadata": {},
   "outputs": [],
   "source": [
    "# preprocess the dataset by zeroing the nan values \n",
    "\n",
    "full_protein_matrix = full_protein_matrix.fillna(0)\n",
    "sin_peptile_exclusion_matrix = sin_peptile_exclusion_matrix.fillna(0)\n",
    "\n",
    "# print(full_protein_matrix.head(2))"
   ]
  },
  {
   "cell_type": "code",
   "execution_count": null,
   "metadata": {},
   "outputs": [],
   "source": [
    "import pickle\n",
    "\n",
    "with open('data/proteomic-expression/goncalves-2022-cell/goncalve_proteome_fillna.pkl', 'wb') as f:\n",
    "    pickle.dump(full_protein_matrix, f)\n",
    "    pickle.dump(sin_peptile_exclusion_matrix, f)\n",
    "    pickle.dump(goncalve_cell_line_info, f)"
   ]
  },
  {
   "cell_type": "code",
   "execution_count": null,
   "metadata": {},
   "outputs": [],
   "source": [
    "# load the goncalve_proteome and goncalve_proteome_info\n",
    "\n",
    "import pickle\n",
    "\n",
    "with open('data/proteomic-expression/goncalves-2022-cell/goncalve_proteome_fillna.pkl', 'rb') as f:\n",
    "    full_protein_matrix = pickle.load(f)\n",
    "    sin_peptile_exclusion_matrix = pickle.load(f)\n",
    "    goncalve_cell_line_info = pickle.load(f)"
   ]
  },
  {
   "attachments": {},
   "cell_type": "markdown",
   "metadata": {},
   "source": [
    "### STRING Database for Protein-Protein Interactions"
   ]
  },
  {
   "cell_type": "code",
   "execution_count": null,
   "metadata": {},
   "outputs": [],
   "source": [
    "import pandas as pd \n",
    "\n",
    "# loading in the proteomic data\n",
    "\n",
    "string_df = pd.read_csv(\"data\\protein-interaction\\STRING\\9606.protein.links.detailed.v11.5.txt.gz\", delimiter=' ')"
   ]
  },
  {
   "cell_type": "code",
   "execution_count": null,
   "metadata": {},
   "outputs": [],
   "source": [
    "string_df.head()"
   ]
  },
  {
   "cell_type": "code",
   "execution_count": null,
   "metadata": {},
   "outputs": [],
   "source": [
    "exp_vals = string_df['combined_score'].values\n",
    "\n",
    "import numpy as np\n",
    "\n",
    "# mean and std of the combined_score\n",
    "print(np.mean(exp_vals))\n",
    "print(np.std(exp_vals))\n",
    "\n",
    "# max and min \n",
    "print(np.max(exp_vals))\n",
    "print(np.min(exp_vals))\n",
    "\n",
    "\n",
    "# get experimetnal values greater than 0.5\n",
    "exp_vals = exp_vals[exp_vals > 900]\n",
    "\n",
    "# mean and std of the combined_score\n",
    "print(np.mean(exp_vals))\n",
    "print(np.std(exp_vals))\n",
    "\n",
    "print(len(exp_vals))\n"
   ]
  },
  {
   "cell_type": "code",
   "execution_count": null,
   "metadata": {},
   "outputs": [],
   "source": [
    "string_df_info = pd.read_csv(\"data\\protein-interaction\\STRING\\9606.protein.info.v11.5.txt.gz\", delimiter='\\t')"
   ]
  },
  {
   "cell_type": "code",
   "execution_count": null,
   "metadata": {},
   "outputs": [],
   "source": [
    "string_df_info.head()"
   ]
  },
  {
   "cell_type": "code",
   "execution_count": null,
   "metadata": {},
   "outputs": [],
   "source": [
    "string_df_alias = pd.read_csv(\"data\\protein-interaction\\STRING\\9606.protein.aliases.v11.5.txt.gz\", delimiter='\\t')"
   ]
  },
  {
   "cell_type": "code",
   "execution_count": null,
   "metadata": {},
   "outputs": [],
   "source": [
    "string_df_alias.tail(10)"
   ]
  },
  {
   "cell_type": "code",
   "execution_count": null,
   "metadata": {},
   "outputs": [],
   "source": [
    "# pickle the string_df, string_df_info, string_df_alias\n",
    "\n",
    "import pickle\n",
    "\n",
    "with open('data/protein-interaction/STRING/string_df.pkl', 'wb') as f:\n",
    "    pickle.dump(string_df, f)\n",
    "    pickle.dump(string_df_info, f)\n",
    "    pickle.dump(string_df_alias, f)"
   ]
  },
  {
   "cell_type": "code",
   "execution_count": null,
   "metadata": {},
   "outputs": [],
   "source": [
    "# load the string_df, string_df_info, string_df_alias\n",
    "\n",
    "import pickle\n",
    "\n",
    "with open('data/protein-interaction/STRING/string_df.pkl', 'rb') as f:\n",
    "    string_df = pickle.load(f)\n",
    "    string_df_info = pickle.load(f)\n",
    "    string_df_alias = pickle.load(f)"
   ]
  },
  {
   "cell_type": "code",
   "execution_count": null,
   "metadata": {},
   "outputs": [],
   "source": [
    "# load the goncalve_proteome and goncalve_proteome_info\n",
    "\n",
    "import pickle\n",
    "\n",
    "with open('data/proteomic-expression/goncalves-2022-cell/goncalve_proteome_fillna.pkl', 'rb') as f:\n",
    "    full_protein_matrix = pickle.load(f)\n",
    "    sin_peptile_exclusion_matrix = pickle.load(f)\n",
    "    goncalve_cell_line_info = pickle.load(f)\n",
    "\n",
    "\n",
    "# import CCLE gene expression data using pickle\n",
    "\n",
    "with open('data/gene-expression/CCLE_Public_22Q2/ccle_expression.pkl', 'rb') as f:\n",
    "    gene_entrez = pickle.load(f)\n",
    "    ccle = pickle.load(f)\n",
    "\n",
    "# import CCLE sample info data using pickle\n",
    "\n",
    "with open('data/gene-expression/CCLE_Public_22Q2/ccle_sample_info.pkl', 'rb') as f:\n",
    "    ccle_sample_info = pickle.load(f)\n"
   ]
  },
  {
   "cell_type": "code",
   "execution_count": null,
   "metadata": {},
   "outputs": [],
   "source": [
    "sin_peptile_exclusion_matrix.head()"
   ]
  },
  {
   "cell_type": "code",
   "execution_count": null,
   "metadata": {},
   "outputs": [],
   "source": [
    "columns_protein = sin_peptile_exclusion_matrix.columns\n",
    "\n",
    "columns_protein[1]"
   ]
  },
  {
   "attachments": {},
   "cell_type": "markdown",
   "metadata": {},
   "source": [
    "#### Core functions"
   ]
  },
  {
   "cell_type": "code",
   "execution_count": null,
   "metadata": {},
   "outputs": [],
   "source": [
    "import pandas as pd \n",
    "import numpy as np\n",
    "\n",
    "def get_protein_id_by_name(name: str, info: pd.DataFrame, alias: pd.DataFrame, \n",
    "                           absolute_match = True,\n",
    "                           edit_distance=1):\n",
    "    # if name exist in the info dataframe, return the id\n",
    "    # get the `#string_protein_id` column from the info dataframe using the `preferred_name` column, the \n",
    "    # param `name` is the value of the `preferred_name` column \n",
    "\n",
    "    # get the `#string_protein_id` column using name \n",
    "    name_id = info.loc[info['preferred_name'].str.lower() == name.lower()]['#string_protein_id']\n",
    "    \n",
    "    # if the name_id is not empty and only one value, return the value\n",
    "    if not name_id.empty and len(name_id) == 1:\n",
    "        return name_id.values[0]\n",
    "    \n",
    "    if len(name_id) > 1:\n",
    "        print('Warning: more than one id found for the given name')\n",
    "        return None\n",
    "    \n",
    "    if name_id.empty:  \n",
    "        \n",
    "        # get the `#string_protein_id` column from the alias dataframe using the `alias` column, the\n",
    "        # param `name` is the value of the `alias` column\n",
    "        alias_id = alias.loc[alias['alias'].str.lower() == name.lower()]['#string_protein_id']\n",
    "\n",
    "        if len(alias_id) > 1:\n",
    "            if alias_id.eq(alias_id.iloc[0]).all():\n",
    "                return alias_id.values[0]\n",
    "            else:\n",
    "                print('Warning: more than one id found for the given name (alias)')\n",
    "                print(alias_id)\n",
    "                return None\n",
    "\n",
    "        if not alias_id.empty and len(alias_id) == 1:\n",
    "            return alias_id.values[0]\n",
    "        \n",
    "        if alias_id.empty:\n",
    "            return None \n",
    "\n",
    "\n",
    "\n",
    "def get_protein_interactors(id: str, string_df: pd.DataFrame, score_threshold=900):\n",
    "    # get the interactors of the protein with the given id\n",
    "    # return a list of protein ids\n",
    "    interactors = string_df.loc[string_df['protein1'] == id]['protein2']\n",
    "\n",
    "    # get the interactors with the given score threshold\n",
    "    interactors = interactors[string_df['combined_score'] > score_threshold]\n",
    "    return interactors.values.tolist()\n",
    "\n",
    "def get_protein_name_by_id(id: str, relation_df: pd.DataFrame, field_name: str, check_field_name: str = '#string_protein_id'):\n",
    "    \n",
    "    name = relation_df.loc[relation_df[check_field_name] == id][field_name]\n",
    "    if not name.empty:\n",
    "        return name.values[0]\n",
    "    else:\n",
    "        # print('Warning: no name found for the given id')\n",
    "        return None\n",
    "\n",
    "\n",
    "def run_test_get_protein_id_by_name():\n",
    "\n",
    "    test_id = get_protein_id_by_name('HSP90AA1', string_df_info, string_df_alias)\n",
    "    print(test_id)\n",
    "\n",
    "    test_id = get_protein_id_by_name('HSP90Aa1', string_df_info, string_df_alias, absolute_match=False)\n",
    "    print(test_id)\n",
    "\n",
    "    test_id = get_protein_id_by_name('HSP90A1', string_df_info, string_df_alias, absolute_match=False)\n",
    "    print(test_id)\n",
    "\n",
    "    for name in columns_protein[:10]:\n",
    "        name = name.split(';')[0]\n",
    "        id = get_protein_id_by_name(name, string_df_info, string_df_alias)\n",
    "        print(name, id)\n",
    "\n",
    "    for gene in gene_entrez['gene_name'][:10]:\n",
    "        string_id = get_protein_id_by_name(gene, string_df_info, string_df_alias, absolute_match=False)\n",
    "        print(gene, string_id)\n",
    "\n",
    "def run_test_get_protein_interactors():\n",
    "    test_id = get_protein_id_by_name('HSP90AA1', string_df_info, string_df_alias)\n",
    "    print(test_id)\n",
    "\n",
    "    interactors = get_protein_interactors(test_id, string_df)\n",
    "    print(interactors)\n",
    "    print(len(interactors))\n",
    "    for ii in interactors[:5]:\n",
    "        print(get_protein_name_by_id(ii, string_df_info, 'preferred_name'))\n",
    "\n",
    "    interactors = get_protein_interactors(test_id, string_df, score_threshold=700)\n",
    "    print(interactors)\n",
    "    print(len(interactors))\n",
    "    for ii in interactors[:5]:\n",
    "        print(get_protein_name_by_id(ii, string_df_info, 'preferred_name'))\n",
    "\n",
    "def run_test_get_protein_name_by_id():\n",
    "    test_id = get_protein_id_by_name('CDK4', string_df_info, string_df_alias)\n",
    "    print(test_id)\n",
    "\n",
    "    import pickle \n",
    "    with open('data\\protein-interaction\\STRING\\goncalve_to_string_id_df.pkl', 'rb') as f:\n",
    "        goncalve_to_string_id_df = pickle.load(f)\n",
    "\n",
    "    name = get_protein_name_by_id(test_id, goncalve_to_string_id_df, 'goncalve_protein_id', check_field_name='string_protein_id')\n",
    "    print(name)\n",
    "\n",
    "    interactors = get_protein_interactors(test_id, string_df)\n",
    "    print(interactors)\n",
    "    print(len(interactors))\n",
    "\n",
    "    gon_ids = [n for n in map(lambda x: get_protein_name_by_id(x, goncalve_to_string_id_df, \n",
    "                                                               'goncalve_protein_id', \n",
    "                                                               check_field_name='string_protein_id'), interactors) if n is not None]\n",
    "    \n",
    "    print(gon_ids)\n",
    "    print(len(gon_ids))\n",
    "    \n",
    "\n",
    "\n",
    "\n",
    "# run_test_get_protein_interactors()\n",
    "\n",
    "run_test_get_protein_name_by_id()"
   ]
  },
  {
   "attachments": {},
   "cell_type": "markdown",
   "metadata": {},
   "source": [
    "#### Create link between ccle and goncalves"
   ]
  },
  {
   "cell_type": "code",
   "execution_count": null,
   "metadata": {},
   "outputs": [],
   "source": [
    "# create a relational dataframe between the goncalve proteome name/id, string protein id\n",
    "\n",
    "data = []\n",
    "miss_count = 0 \n",
    "for i, proteo_id in enumerate(columns_protein):\n",
    "    protein_str_list = proteo_id.split(';')\n",
    "    if len(protein_str_list) > 1:\n",
    "        protein_id = protein_str_list[0]\n",
    "        protein_name = protein_str_list[1].split('_')[0]\n",
    "        string_id = get_protein_id_by_name(protein_id, string_df_info, string_df_alias)\n",
    "        if string_id is not None:\n",
    "            data.append([proteo_id, string_id, protein_id, protein_name])\n",
    "            print(f'iteration {i} protein_id: {proteo_id}, string_id: {string_id}, protein_name: {protein_name}, missing so far {miss_count}')\n",
    "        else:\n",
    "            miss_count += 1\n",
    "            print(f'protein_id: {proteo_id}, string_id: {string_id}, protein_name: {protein_name} not found')\n",
    "\n",
    "goncalve_to_string_id_df = pd.DataFrame(data, columns=['goncalve_protein_id', 'string_protein_id', 'protein_id', 'protein_name'])\n",
    "\n",
    "\n",
    "\n"
   ]
  },
  {
   "cell_type": "code",
   "execution_count": null,
   "metadata": {},
   "outputs": [],
   "source": [
    "print(f'Size of original proteome: {len(columns_protein)} Size of goncalve_to_string_id_df: {len(goncalve_to_string_id_df)}')\n",
    "print(f'Percentage of proteins with string id: {len(goncalve_to_string_id_df)/len(columns_protein)*100:.2f}%')"
   ]
  },
  {
   "cell_type": "code",
   "execution_count": null,
   "metadata": {},
   "outputs": [],
   "source": [
    "goncalve_to_string_id_df.head()"
   ]
  },
  {
   "cell_type": "code",
   "execution_count": null,
   "metadata": {},
   "outputs": [],
   "source": [
    "# to pickle\n",
    "goncalve_to_string_id_df.to_pickle('data/protein-interaction/STRING/goncalve_to_string_id_df.pkl')"
   ]
  },
  {
   "cell_type": "code",
   "execution_count": null,
   "metadata": {},
   "outputs": [],
   "source": [
    "# do the same with CCLE data\n",
    "\n",
    "data = []\n",
    "miss_count = 0\n",
    "for i, gene in enumerate(gene_entrez['gene_name']):\n",
    "    if gene != 'CELLLINE':\n",
    "        string_id = get_protein_id_by_name(gene, string_df_info, string_df_alias, absolute_match=False)\n",
    "        if string_id is not None:\n",
    "            data.append([gene, string_id])\n",
    "            print(f'iteration {i} gene: {gene}, string_id: {string_id}, missing so far {miss_count}')\n",
    "        else:\n",
    "            miss_count += 1\n",
    "            print(f'gene: {gene}, string_id: {string_id} not found')\n",
    "\n",
    "ccle_to_string_id_df = pd.DataFrame(data, columns=['gene_name', 'string_protein_id'])"
   ]
  },
  {
   "cell_type": "code",
   "execution_count": null,
   "metadata": {},
   "outputs": [],
   "source": [
    "ccle_to_string_id_df.head()"
   ]
  },
  {
   "cell_type": "code",
   "execution_count": null,
   "metadata": {},
   "outputs": [],
   "source": [
    "# to pickle\n",
    "ccle_to_string_id_df.to_pickle('data/protein-interaction/STRING/ccle_to_string_id_df.pkl')"
   ]
  },
  {
   "cell_type": "code",
   "execution_count": null,
   "metadata": {},
   "outputs": [],
   "source": [
    "print(f'Size of original ccle: {len(gene_entrez)} Size of ccle_to_string_id_df: {len(ccle_to_string_id_df)}')\n",
    "print(f'Percentage of genes with string id: {len(ccle_to_string_id_df)/len(gene_entrez)*100:.2f}%')"
   ]
  },
  {
   "attachments": {},
   "cell_type": "markdown",
   "metadata": {},
   "source": [
    "### PDE Ribociclib Data (Sungyoung)\n",
    "\n",
    "Type: Drug response dataset (single drug: ribociclib)\n",
    "\n",
    "Source: in-house data of external collaborators\n",
    "\n",
    "Data is stored in the `data\\drug-response\\PDE_Ribociclib_ExtInHouse` folder.\n",
    "\n",
    "##### Data Description and Methods\n",
    "\n",
    "Dataset has multiple excel files, each containing multiple excel sheets. Drug response is measured by percentage (%) decrease of Ki67 positivity versus control. Ki67 is known to play a role in cell proliferation (Soliman et al, 2016). Responders are defined as cells with a decrease of Ki67 positivity of at least 50% OR 25% versus control. Two doses of ribociclib were tested, 100 nM and 500 nM.\n",
    "\n",
    "From a brief visual inspection of the data, it appears the `datamatrix` sheet from both `response_mimi` and `response_ml_training_data` are the same and refers to \"responders\" of the 100 nM ribociclib treatment with 25% Ki67 positivity decrease versus control. Proteomic expression data were analyzed using Spectronaut 8 and quantified using MaxQuant Version 1.5.2.8 (Nguyen et al, 2018).  \n",
    "\n",
    "Soliman, N. A., & Yussif, S. M. (2016). Ki-67 as a prognostic marker according to breast cancer molecular subtype. Cancer Biology & Medicine, 13(4), 496–504. https://doi.org/10.20892/j.issn.2095-3941.2016.0066\n",
    "\n",
    "Nguyen, E. V., Centenera, M. M., Moldovan, M., Das, R., Irani, S., Vincent, A. D., Chan, H., Horvath, L. G., Lynn, D. J., Daly, R. J., & Butler, L. M. (2018). Identification of Novel Response and Predictive Biomarkers to Hsp90 Inhibitors Through Proteomic Profiling of Patient-derived Prostate Tumor Explants *. Molecular & Cellular Proteomics, 17(8), 1470–1486. https://doi.org/10.1074/mcp.RA118.000633\n",
    "\n",
    "\n",
    "\n",
    "\n"
   ]
  },
  {
   "cell_type": "code",
   "execution_count": null,
   "metadata": {},
   "outputs": [],
   "source": [
    "import pandas as pd \n",
    "\n",
    "# loading in the training data file\n",
    "\n",
    "main_file = pd.ExcelFile('data\\drug-response\\PDE_Ribociclib_ExtInHouse\\Ribociclib_Response_training_data_with_all.xlsx')\n",
    "print(main_file.sheet_names)"
   ]
  },
  {
   "cell_type": "code",
   "execution_count": null,
   "metadata": {},
   "outputs": [],
   "source": [
    "pde_drug_response_full = pd.ExcelFile('data\\drug-response\\PDE_Ribociclib_ExtInHouse\\Ribociclib_Response_Mimi.xlsx')\n",
    "print(pde_drug_response_full.sheet_names)\n",
    "\n",
    "# load in 'Response groups' \n",
    "\n",
    "pde_response_all = pd.read_excel(pde_drug_response_full, 'Response groups', header=1)\n",
    "print(pde_response_all.head(2))\n",
    "\n",
    "# drop row if 'Sample ID' is NaN\n",
    "\n",
    "pde_response_all = pde_response_all.dropna(subset=['Sample ID'])\n",
    "# print(pde_response_all.head(2))\n",
    "\n"
   ]
  },
  {
   "cell_type": "code",
   "execution_count": null,
   "metadata": {},
   "outputs": [],
   "source": [
    "# first, load in the datamatrix sheet with the first row as the header\n",
    "\n",
    "ribociclib_response = pd.read_excel(main_file, 'datamatrix', header=1)\n",
    "print(ribociclib_response.head(2))\n",
    "\n",
    "response = ribociclib_response.columns\n",
    "# print(response)\n",
    "# keep first two letter of the column name as the new column name\n",
    "pde = ribociclib_response.iloc[0]\n",
    "pde = pde.tolist()[2:]\n",
    "# print(pde.tolist()[2:])\n",
    "response = [c[:2] for c in response][2:]\n",
    "# print(response)\n",
    "\n",
    "pde_response = pd.DataFrame({'pde': pde, 'response': response})\n",
    "print(pde_response.head(2))\n",
    "\n",
    "# ribociclib_response.columns = ribociclib_response.iloc[0]\n",
    "# print(ribociclib_response.head(2))\n",
    "# print(ribociclib_response.shape)"
   ]
  },
  {
   "cell_type": "code",
   "execution_count": null,
   "metadata": {},
   "outputs": [],
   "source": [
    "# then, load in the datamatrix sheet with the second row as the header\n",
    "\n",
    "ribociclib_expression = pd.read_excel(main_file, 'datamatrix', header=2)\n",
    "# print(ribociclib_expression.head(2))\n",
    "\n",
    "ribociclib_protein_id_to_name = ribociclib_expression[['PG.ProteinAccessions', 'GeneName']]\n",
    "print(ribociclib_protein_id_to_name.head(2))\n",
    "\n",
    "ribociclib_expression.drop(['PG.ProteinAccessions'], axis=1, inplace=True)\n",
    "# print(ribociclib_expression.head(2))\n",
    "\n",
    "ribociclib_expression = ribociclib_expression.T\n",
    "ribociclib_expression.columns = ribociclib_expression.iloc[0]\n",
    "ribociclib_expression.drop(['GeneName'], axis=0, inplace=True)\n",
    "# ribociclib_expression.rename(columns={'GeneName': 'PDE_ID'}, inplace=True)\n",
    "print(ribociclib_expression.head(2))\n",
    "\n",
    "# print(ribociclib_expression.columns)"
   ]
  },
  {
   "cell_type": "code",
   "execution_count": null,
   "metadata": {},
   "outputs": [],
   "source": [
    "# pickle the ribociclib_response and ribociclib_expression, and ribociclib_protein_id_to_name, pde_response and pde_response_all\n",
    "\n",
    "import pickle\n",
    "\n",
    "with open('data/drug-response/PDE_Ribociclib_ExtInHouse/ribociclib_pde_cleaned.pkl', 'wb') as f:\n",
    "    pickle.dump(ribociclib_response, f)\n",
    "    pickle.dump(ribociclib_expression, f)\n",
    "    pickle.dump(ribociclib_protein_id_to_name, f)\n",
    "    pickle.dump(pde_response, f)\n",
    "    pickle.dump(pde_response_all, f)"
   ]
  },
  {
   "cell_type": "code",
   "execution_count": null,
   "metadata": {},
   "outputs": [],
   "source": [
    "# load the ribociclib_response and ribociclib_expression, and ribociclib_protein_id_to_name, pde_response and pde_response_all\n",
    "\n",
    "import pickle\n",
    "\n",
    "with open('data/drug-response/PDE_Ribociclib_ExtInHouse/ribociclib_pde_cleaned.pkl', 'rb') as f:\n",
    "    ribociclib_response = pickle.load(f)\n",
    "    ribociclib_expression = pickle.load(f)\n",
    "    ribociclib_protein_id_to_name = pickle.load(f)\n",
    "    pde_response = pickle.load(f)\n",
    "    pde_response_all = pickle.load(f)"
   ]
  },
  {
   "cell_type": "code",
   "execution_count": null,
   "metadata": {},
   "outputs": [],
   "source": [
    "pde_response_all.head()"
   ]
  },
  {
   "cell_type": "code",
   "execution_count": null,
   "metadata": {},
   "outputs": [],
   "source": [
    "ribociclib_expression.head()"
   ]
  },
  {
   "cell_type": "code",
   "execution_count": null,
   "metadata": {},
   "outputs": [],
   "source": [
    "# join pde_response_all and ribociclib_expression on 'Sample ID' and 'GeneName' via index \n",
    "\n",
    "pde_decrease_100 = pde_response_all[['%Decrease 100', 'Sample ID']]\n",
    "pde_decrease_100 = pde_decrease_100.set_index('Sample ID')\n"
   ]
  },
  {
   "cell_type": "code",
   "execution_count": null,
   "metadata": {},
   "outputs": [],
   "source": [
    "pde_decrease_100.head()"
   ]
  },
  {
   "cell_type": "code",
   "execution_count": null,
   "metadata": {},
   "outputs": [],
   "source": [
    "ribociclib_expression.head()"
   ]
  },
  {
   "cell_type": "code",
   "execution_count": null,
   "metadata": {},
   "outputs": [],
   "source": [
    "# print(pde_response_all.index)\n",
    "# print(ribociclib_expression.index)\n",
    "\n",
    "ribociclib_pde_decrease100_expression = pde_decrease_100.join(ribociclib_expression, how='inner')\n",
    "\n",
    "# print(ribociclib_pde_whole_dataset.head(2))\n",
    "\n",
    "# ribociclib_pde_whole_dataset.to_pickle('data/preprocessed/ribociclib_pde_whole_dataset.pkl')"
   ]
  },
  {
   "cell_type": "code",
   "execution_count": null,
   "metadata": {},
   "outputs": [],
   "source": [
    "ribociclib_pde_decrease100_expression.head()"
   ]
  },
  {
   "cell_type": "code",
   "execution_count": null,
   "metadata": {},
   "outputs": [],
   "source": [
    "pde_decrease_100_cutoff25 = pde_response_all[['25% decrease cutoff', 'Sample ID']]\n",
    "pde_decrease_100_cutoff25 = pde_decrease_100_cutoff25.set_index('Sample ID')\n",
    "ribociclib_pde_decrease100_cutoff25_expression = pde_decrease_100_cutoff25.join(ribociclib_expression, how='inner')\n"
   ]
  },
  {
   "cell_type": "code",
   "execution_count": null,
   "metadata": {},
   "outputs": [],
   "source": [
    "ribociclib_pde_decrease100_cutoff25_expression.head()"
   ]
  },
  {
   "cell_type": "code",
   "execution_count": null,
   "metadata": {},
   "outputs": [],
   "source": [
    "with open('data/preprocessed/ribociclib_pde_decrease100.pkl', 'wb') as f:\n",
    "    pickle.dump(ribociclib_pde_decrease100_cutoff25_expression, f)\n",
    "    pickle.dump(ribociclib_pde_decrease100_expression, f)"
   ]
  },
  {
   "attachments": {},
   "cell_type": "markdown",
   "metadata": {},
   "source": [
    "This dataset can now be used for drug response prediction."
   ]
  },
  {
   "attachments": {},
   "cell_type": "markdown",
   "metadata": {},
   "source": [
    "# Data Integration"
   ]
  },
  {
   "attachments": {},
   "cell_type": "markdown",
   "metadata": {},
   "source": [
    "## Integration of GDSC2 and CCLE dataset "
   ]
  },
  {
   "attachments": {},
   "cell_type": "markdown",
   "metadata": {},
   "source": [
    "### Steps \n",
    "1. GDSC2 contains drug data, each drug can be converted into a chemical structure, and the chemical structure can be converted into a SMILES string, or a fingerprint. This represents drug features.\n",
    "2. CCLE contains gene expression data, each gene can be converted into a gene feature. This represents gene features.\n",
    "3. The drug features and gene features can be combined to create a drug-gene interaction feature. This represents drug-gene interaction features.\n",
    "4. Each drug-cell pair is a row in the new dataset (drug-gene interaction features + drug response). \n",
    "5. First set of columns should be drug features, second set of columns should be gene features. Output vector should be drug response."
   ]
  },
  {
   "cell_type": "code",
   "execution_count": null,
   "metadata": {},
   "outputs": [],
   "source": [
    "import pandas as pd\n",
    "import pickle\n",
    "\n",
    "# import GDSC2 drug response data using pickle\n",
    "\n",
    "with open('data/drug-response/GDSC2/cache_gdsc2.pkl', 'rb') as f:\n",
    "    gdsc2 = pickle.load(f)\n",
    "    gdsc2_info = pickle.load(f)\n",
    "\n",
    "# import CCLE gene expression data using pickle\n",
    "\n",
    "with open('data/gene-expression/CCLE_Public_22Q2/ccle_expression.pkl', 'rb') as f:\n",
    "    gene_entrez = pickle.load(f)\n",
    "    ccle = pickle.load(f)\n",
    "\n",
    "# import CCLE sample info data using pickle\n",
    "\n",
    "with open('data/gene-expression/CCLE_Public_22Q2/ccle_sample_info.pkl', 'rb') as f:\n",
    "    ccle_sample_info = pickle.load(f)\n"
   ]
  },
  {
   "attachments": {},
   "cell_type": "markdown",
   "metadata": {},
   "source": [
    "### Drug ID/Name to Drug Target identification"
   ]
  },
  {
   "cell_type": "code",
   "execution_count": null,
   "metadata": {},
   "outputs": [],
   "source": [
    "gdsc2.head()"
   ]
  },
  {
   "cell_type": "code",
   "execution_count": null,
   "metadata": {},
   "outputs": [],
   "source": [
    "gdsc2_info.head()"
   ]
  },
  {
   "cell_type": "code",
   "execution_count": null,
   "metadata": {},
   "outputs": [],
   "source": []
  },
  {
   "attachments": {},
   "cell_type": "markdown",
   "metadata": {},
   "source": [
    "Further preprocessing of drug features through retrieving the SMILES string using pubchem id linked in GDSC2, and converting the SMILES string into morgan fingerprint fingerprint using RDKit.\n",
    "\n",
    "[Refs needed]"
   ]
  },
  {
   "cell_type": "code",
   "execution_count": null,
   "metadata": {},
   "outputs": [],
   "source": [
    "# generate a dataframe between drug name and pubchem id using gdsc2_info\n",
    "\n",
    "drug_pubchem = gdsc2_info[['drug_name', 'pubchem']]\n",
    "drug_pubchem = drug_pubchem.drop_duplicates()\n",
    "\n",
    "# remove the drug name with no pubchem id\n",
    "\n",
    "# manually modify the pubchem id that are written as 'none' or 'several' \n",
    "drug_pubchem.loc[drug_pubchem['pubchem'] == 'none', 'pubchem'] = '-'\n",
    "\n",
    "# https://pubchem.ncbi.nlm.nih.gov/compound/44259, accessed 09-02-2023\n",
    "drug_pubchem.loc[drug_pubchem['drug_name'] == 'Staurosporine', 'pubchem'] = 44259\n",
    "\n",
    "# https://pubchem.ncbi.nlm.nih.gov/compound/457193, accessed 09-02-2023\n",
    "drug_pubchem.loc[drug_pubchem['drug_name'] == 'Dactinomycin', 'pubchem'] = 457193\n",
    "\n",
    "# remove the drug name with no pubchem id\n",
    "drug_pubchem = drug_pubchem[drug_pubchem['pubchem'] != '-']\n",
    "\n",
    "# in the case of multiple pubchem id, only retain the first one\n",
    "multiples = drug_pubchem[drug_pubchem['pubchem'].str.contains(\",\")==True]\n",
    "\n",
    "# modify the pubchem id to only retain the first one in multiples\n",
    "drug_pubchem.loc[drug_pubchem['pubchem'].str.contains(\",\")==True, 'pubchem'] = drug_pubchem.loc[drug_pubchem['pubchem'].str.contains(\",\")==True, 'pubchem'].str.split(\",\").str[0]\n",
    "\n",
    "# remove duplicates\n",
    "drug_pubchem = drug_pubchem.drop_duplicates()\n",
    "\n",
    "pubchem_list = list(drug_pubchem['pubchem'])"
   ]
  },
  {
   "cell_type": "code",
   "execution_count": null,
   "metadata": {},
   "outputs": [],
   "source": [
    "import pubchempy as pcp\n",
    "\n",
    "# using pubchempy to retrieve the smiles string of each pubchem id\n",
    "\n",
    "smiles_list = []\n",
    "\n",
    "for pubchem in pubchem_list:\n",
    "    try: \n",
    "        compound = pcp.Compound.from_cid(pubchem)\n",
    "        smiles = compound.isomeric_smiles\n",
    "        smiles_list.append(smiles)\n",
    "    except Exception as e:\n",
    "        print(drug_pubchem[drug_pubchem['pubchem'] == pubchem]['drug_name'])\n",
    "        smiles_list.append('')\n",
    "\n",
    "# generate a dataframe between drug name and smiles string\n",
    "\n",
    "drug_smiles = pd.DataFrame({'drug_name': drug_pubchem['drug_name'], 'smiles': smiles_list})\n",
    "print(drug_smiles.head())\n",
    "\n",
    "# compare the number of drug name in drug_smiles and drug_pubchem\n",
    "print(drug_smiles.shape, gdsc2_info.shape)\n"
   ]
  },
  {
   "cell_type": "code",
   "execution_count": null,
   "metadata": {},
   "outputs": [],
   "source": [
    "# pickle the drug_smiles and drug_pubchem, both have been modified and cleaned\n",
    "\n",
    "import pickle\n",
    "\n",
    "with open('data/drug-response/GDSC2/gdsc2_drug_smiles.pkl', 'wb') as f:\n",
    "    pickle.dump(drug_smiles, f)\n",
    "\n",
    "with open('data/drug-response/GDSC2/gdsc2_drug_pubchem.pkl', 'wb') as f:\n",
    "    pickle.dump(drug_pubchem, f)"
   ]
  },
  {
   "cell_type": "code",
   "execution_count": null,
   "metadata": {},
   "outputs": [],
   "source": [
    "# Using RDKit to generate molecular fingerprints from GDSC2 drug names\n",
    "\n",
    "from rdkit import Chem\n",
    "from rdkit.Chem import AllChem\n",
    "import numpy as np\n",
    "\n",
    "# generate a list of rdkit mol objects from the smiles string\n",
    "mol_list = [Chem.MolFromSmiles(smiles) for smiles in drug_smiles['smiles']]\n",
    "# print(mol_list[0])\n",
    "\n",
    "# generate a list of fingerprints from the rdkit mol objects\n",
    "fp_list = [AllChem.GetMorganFingerprintAsBitVect(mol, 2, nBits=1024) for mol in mol_list]\n",
    "\n",
    "\n",
    "fpnp = np.array(fp_list[0])\n",
    "\n",
    "# TODO: require further preprocessing documentation for the code above "
   ]
  },
  {
   "attachments": {},
   "cell_type": "markdown",
   "metadata": {},
   "source": [
    "Retrieve the gene features from CCLE, and convert the gene features into a gene expression matrix."
   ]
  },
  {
   "cell_type": "code",
   "execution_count": null,
   "metadata": {},
   "outputs": [],
   "source": [
    "print(ccle.head())"
   ]
  },
  {
   "attachments": {},
   "cell_type": "markdown",
   "metadata": {},
   "source": [
    "### Selecting Specific Drugs \n",
    "\n",
    "Matching a specfic drug from GDSC2 and gather available genomic data from CCLE."
   ]
  },
  {
   "attachments": {},
   "cell_type": "markdown",
   "metadata": {},
   "source": [
    "#### Ribociclib as an example - Playground"
   ]
  },
  {
   "cell_type": "code",
   "execution_count": null,
   "metadata": {},
   "outputs": [],
   "source": [
    "# select a specific drug\n",
    "\n",
    "drug_name = 'Ribociclib'\n",
    "drug_dataset = gdsc2.loc[gdsc2['DRUG_NAME'] == drug_name]\n",
    "\n",
    "drug_response_data = drug_dataset[['SANGER_MODEL_ID', 'LN_IC50']]\n",
    "# celllines = drug_dataset['SANGER_MODEL_ID']\n",
    "\n",
    "print(drug_response_data.head())\n",
    "print(drug_response_data.shape)\n",
    "id_ccle_info = ccle_sample_info[['Sanger_Model_ID', 'DepMap_ID']].dropna()\n",
    "\n",
    "# find the intersection between the cell lines in drug response data and the cell lines in CCLE gene expression data using the Sanger_Model_ID\n",
    "\n",
    "celllines = drug_response_data['SANGER_MODEL_ID'].unique()\n",
    "celllines = [cellline for cellline in celllines if cellline in id_ccle_info['Sanger_Model_ID'].unique()]\n",
    "\n",
    "print(len(celllines))\n",
    "print(celllines)\n",
    "# locate the DepMap_ID of the cell lines in drug response data\n",
    "\n",
    "depmap_id = []\n",
    "for cellline in celllines:\n",
    "    depmap_id.append(id_ccle_info.loc[id_ccle_info['Sanger_Model_ID'] == cellline]['DepMap_ID'].values[0])\n",
    "\n",
    "print(depmap_id)\n",
    "print(ccle.head())\n",
    "# construct the gene expression dataframe by finding row names that are in the DepMap_ID list\n",
    "\n",
    "matched_gene_expression_dataset = ccle.loc[ccle['CELLLINE'].isin(depmap_id)]\n",
    "import numpy as np\n",
    "\n",
    "print(matched_gene_expression_dataset.shape)\n",
    "print(matched_gene_expression_dataset.head(2))\n",
    "# There are only 44 cell lines with matched gene expression data from CCLE to the drug response data from GDSC2. This is insufficient for training a model.\n",
    "# creating matching training feature and label data, gene expressions are features, drug response ic50 is label\n",
    "\n",
    "\n",
    "# extract CELLLINE column from matched_gene_expression_dataset\n",
    "\n",
    "matched_cellline = matched_gene_expression_dataset['CELLLINE'].tolist()\n",
    "matched_sanger_model_id = []\n",
    "\n",
    "# find the Sanger_Model_ID of the matched cell lines\n",
    "\n",
    "for cellline in matched_cellline:\n",
    "    matched_sanger_model_id.append(id_ccle_info.loc[id_ccle_info['DepMap_ID'] == cellline]['Sanger_Model_ID'].values[0])\n",
    "\n",
    "# print(len(matched_sanger_model_id), len(matched_cellline)) # sanity check, they should be the same\n",
    "\n",
    "# join the drug response data and the gene expression data through sanger model id as a medium \n",
    "\n",
    "matched_drug_response_data = drug_response_data.loc[drug_response_data['SANGER_MODEL_ID'].isin(matched_sanger_model_id)]\n",
    "\n",
    "# print(matched_drug_response_data.shape)\n",
    "\n",
    "matched_drug_response_data = matched_drug_response_data.set_index('SANGER_MODEL_ID')\n",
    "\n",
    "matched_gene_expression_dataset.insert(0, 'SANGER_MODEL_ID', matched_sanger_model_id)\n",
    "matched_gene_expression_dataset = matched_gene_expression_dataset.set_index('SANGER_MODEL_ID')\n",
    "# remove 'CELLLINE' column from matched_gene_expression_dataset\n",
    "# matched_gene_expression_dataset = matched_gene_expression_dataset.drop(columns=['CELLLINE'])\n",
    "\n",
    "# print(matched_gene_expression_dataset.shape)\n",
    "\n",
    "# join the matched_drug_response_data and the matched_gene_expression_dataset\n",
    "\n",
    "joined_dataset = matched_drug_response_data.join(matched_gene_expression_dataset, how='inner')\n",
    "\n",
    "# print(joined_dataset.shape)\n",
    "# print(joined_dataset.head())\n",
    "\n",
    "# feature and label data creation\n",
    "\n",
    "# extract the feature data from the joined dataset\n",
    "\n",
    "feature_data = joined_dataset.drop(columns=['LN_IC50'])\n",
    "feature_data.drop(columns=['CELLLINE'], inplace=True)\n",
    "\n",
    "# extract the label data from the joined dataset\n",
    "\n",
    "label_data = joined_dataset['LN_IC50']\n",
    "\n",
    "# convert the feature data and label data to numpy array\n",
    "\n",
    "feature_data_np = feature_data.to_numpy()\n",
    "label_data_np = label_data.to_numpy()\n",
    "\n",
    "# print(feature_data_np.shape, label_data_np.shape)\n",
    "\n",
    "# print(feature_data.head())\n",
    "# print(label_data.head())"
   ]
  },
  {
   "cell_type": "code",
   "execution_count": null,
   "metadata": {},
   "outputs": [],
   "source": [
    "# numeric index to cell line name mapping\n",
    "\n",
    "cellline_name = joined_dataset['CELLLINE'].tolist()\n",
    "index_dict = {i: cellline_name[i] for i in range(len(cellline_name))}"
   ]
  },
  {
   "attachments": {},
   "cell_type": "markdown",
   "metadata": {},
   "source": [
    "#### Streamlining and Optimization"
   ]
  },
  {
   "cell_type": "code",
   "execution_count": null,
   "metadata": {},
   "outputs": [],
   "source": [
    "import numpy as np\n",
    "# select a specific drug\n",
    "\n",
    "drug_name = 'Ribociclib'\n",
    "\n",
    "def create_joint_dataset_from_ccle_gdsc2(drug_name: str, \n",
    "                                         drug_df: pd.DataFrame,\n",
    "                                         ccle_df: pd.DataFrame,\n",
    "                                         ccle_info_df: pd.DataFrame, \n",
    "                                         keep_drug_name: bool = False, separate_feature_label: bool = False): \n",
    "    \n",
    "    gdsc2 = drug_df\n",
    "    ccle = ccle_df\n",
    "    ccle_sample_info = ccle_info_df\n",
    "\n",
    "    drug_dataset = gdsc2.loc[gdsc2['DRUG_NAME'] == drug_name]\n",
    "\n",
    "    drug_response_data = drug_dataset[['SANGER_MODEL_ID', 'LN_IC50']]\n",
    "    id_ccle_info = ccle_sample_info[['Sanger_Model_ID', 'DepMap_ID']].dropna()\n",
    "\n",
    "    # find the intersection between the cell lines in drug response data and the cell lines in CCLE gene expression data using the Sanger_Model_ID\n",
    "\n",
    "    celllines = drug_response_data['SANGER_MODEL_ID'].unique()\n",
    "    celllines = [cellline for cellline in celllines if cellline in id_ccle_info['Sanger_Model_ID'].unique()]\n",
    "\n",
    "    # locate the DepMap_ID of the cell lines in drug response data\n",
    "\n",
    "    depmap_id = []\n",
    "    for cellline in celllines:\n",
    "        depmap_id.append(id_ccle_info.loc[id_ccle_info['Sanger_Model_ID'] == cellline]['DepMap_ID'].values[0])\n",
    "\n",
    "    # construct the gene expression dataframe by finding row names that are in the DepMap_ID list\n",
    "\n",
    "    matched_gene_expression_dataset = ccle.loc[ccle['CELLLINE'].isin(depmap_id)]\n",
    "\n",
    "    # creating matching training feature and label data, gene expressions are features, drug response ic50 is label\n",
    "    # extract CELLLINE column from matched_gene_expression_dataset\n",
    "\n",
    "    matched_cellline = matched_gene_expression_dataset['CELLLINE'].tolist()\n",
    "    matched_sanger_model_id = []\n",
    "\n",
    "    # find the Sanger_Model_ID of the matched cell lines\n",
    "\n",
    "    for cellline in matched_cellline:\n",
    "        matched_sanger_model_id.append(id_ccle_info.loc[id_ccle_info['DepMap_ID'] == cellline]['Sanger_Model_ID'].values[0])\n",
    "\n",
    "    # join the drug response data and the gene expression data through sanger model id as a medium \n",
    "\n",
    "    matched_drug_response_data = drug_response_data.loc[drug_response_data['SANGER_MODEL_ID'].isin(matched_sanger_model_id)]\n",
    "\n",
    "    # print(matched_drug_response_data.shape)\n",
    "\n",
    "    matched_drug_response_data = matched_drug_response_data.set_index('SANGER_MODEL_ID')\n",
    "\n",
    "    matched_gene_expression_dataset.insert(0, 'SANGER_MODEL_ID', matched_sanger_model_id)\n",
    "    matched_gene_expression_dataset = matched_gene_expression_dataset.set_index('SANGER_MODEL_ID')\n",
    "\n",
    "    # join the matched_drug_response_data and the matched_gene_expression_dataset\n",
    "\n",
    "    joined_dataset = matched_drug_response_data.join(matched_gene_expression_dataset, how='inner')\n",
    "\n",
    "    if keep_drug_name:\n",
    "        joined_dataset.insert(1, 'DRUG_NAME', drug_name)\n",
    "    \n",
    "    if separate_feature_label:\n",
    "        # feature and label data creation\n",
    "\n",
    "        # extract the feature data from the joined dataset\n",
    "\n",
    "        feature_data = joined_dataset.drop(columns=['LN_IC50'])\n",
    "        feature_data.drop(columns=['CELLLINE'], inplace=True)\n",
    "\n",
    "        # extract the label data from the joined dataset\n",
    "\n",
    "        label_data = joined_dataset['LN_IC50']\n",
    "\n",
    "        return feature_data, label_data\n",
    "    \n",
    "    return joined_dataset\n",
    "\n",
    "joined_dataset = create_joint_dataset_from_ccle_gdsc2('Ribociclib', keep_drug_name=True, separate_feature_label=False)\n",
    "\n",
    "print(joined_dataset.head())\n",
    "\n",
    "# convert the feature data and label data to numpy array\n",
    "\n",
    "# feature_data_np = feature_data.to_numpy()\n",
    "# label_data_np = label_data.to_numpy()\n",
    "\n",
    "# print(feature_data_np.shape, label_data_np.shape)\n",
    "\n",
    "# print(feature_data.head())\n",
    "# print(label_data.head())"
   ]
  },
  {
   "cell_type": "code",
   "execution_count": null,
   "metadata": {},
   "outputs": [],
   "source": [
    "# get multiple drugs and join them together to form a single dataset\n",
    "\n",
    "drug_names = ['Ribociclib', 'Palbociclib']\n",
    "\n",
    "dfs = [create_joint_dataset_from_ccle_gdsc2(drug_name, keep_drug_name=True, separate_feature_label=False) for drug_name in drug_names]\n",
    "\n",
    "all_dfs = pd.concat(dfs)\n",
    "\n",
    "# print(all_dfs.head(50))"
   ]
  },
  {
   "cell_type": "code",
   "execution_count": null,
   "metadata": {},
   "outputs": [],
   "source": [
    "# get ribociclib data \n",
    "\n",
    "ribociclib_data = create_joint_dataset_from_ccle_gdsc2('Ribociclib', keep_drug_name=False, separate_feature_label=False)"
   ]
  },
  {
   "cell_type": "code",
   "execution_count": null,
   "metadata": {},
   "outputs": [],
   "source": [
    "ribociclib_data.to_pickle('data/preprocessed/ribociclib_data.pkl')"
   ]
  },
  {
   "cell_type": "code",
   "execution_count": null,
   "metadata": {},
   "outputs": [],
   "source": [
    "palbociclib_data = create_joint_dataset_from_ccle_gdsc2('Palbociclib', keep_drug_name=False, separate_feature_label=False)\n",
    "# palbociclib_data.to_pickle('data/preprocessed/palbociclib_data.pkl')"
   ]
  },
  {
   "cell_type": "code",
   "execution_count": null,
   "metadata": {},
   "outputs": [],
   "source": [
    "ribociclib_data.to_csv('data/preprocessed/ribociclib_data.csv')\n",
    "palbociclib_data.to_csv('data/preprocessed/palbociclib_data.csv')"
   ]
  },
  {
   "cell_type": "code",
   "execution_count": null,
   "metadata": {},
   "outputs": [],
   "source": [
    "# for fun, let's try to create a dataset for all drugs\n",
    "\n",
    "# all_drug_names = gdsc2['DRUG_NAME'].unique().tolist()\n",
    "\n",
    "# all_dfs = [create_joint_dataset_from_ccle_gdsc2(drug_name, keep_drug_name=True, separate_feature_label=False) for drug_name in all_drug_names]\n",
    "\n",
    "# all_dfs = pd.concat(all_dfs)\n",
    "\n",
    "# print(all_dfs.shape)\n",
    "# print(all_dfs.head(1000))\n",
    "# # pickle the dataset for later use\n",
    "\n",
    "# import pickle\n",
    "\n",
    "# with open('data/preprocessed/all_drugs_ccle_gdsc2.pkl', 'wb') as f:\n",
    "#     pickle.dump(all_dfs, f)\n",
    "    "
   ]
  },
  {
   "attachments": {},
   "cell_type": "markdown",
   "metadata": {},
   "source": [
    "## Integration of GDSC2 and Goncalves dataset"
   ]
  },
  {
   "cell_type": "code",
   "execution_count": null,
   "metadata": {},
   "outputs": [],
   "source": [
    "# load the goncalve_proteome and goncalve_proteome_info\n",
    "\n",
    "import pickle\n",
    "import pandas as pd\n",
    "\n",
    "with open('data/proteomic-expression/goncalves-2022-cell/goncalve_proteome_fillna.pkl', 'rb') as f:\n",
    "    full_protein_matrix = pickle.load(f)\n",
    "    sin_peptile_exclusion_matrix = pickle.load(f)\n",
    "    goncalve_cell_line_info = pickle.load(f)\n",
    "\n",
    "# import GDSC2 drug response data using pickle\n",
    "\n",
    "with open('data/drug-response/GDSC2/cache_gdsc2.pkl', 'rb') as f:\n",
    "    gdsc2 = pickle.load(f)\n",
    "    gdsc2_info = pickle.load(f)"
   ]
  },
  {
   "cell_type": "code",
   "execution_count": null,
   "metadata": {},
   "outputs": [],
   "source": [
    "full_protein_matrix.head()"
   ]
  },
  {
   "cell_type": "code",
   "execution_count": null,
   "metadata": {},
   "outputs": [],
   "source": [
    "# retrieve model_id based on Project_identifier\n",
    "\n",
    "df = goncalve_cell_line_info.loc[goncalve_cell_line_info['Project_Identifier'] == 'SIDM00018;K052']\n",
    "df.head()"
   ]
  },
  {
   "cell_type": "code",
   "execution_count": null,
   "metadata": {},
   "outputs": [],
   "source": [
    "df['model_id']"
   ]
  },
  {
   "cell_type": "code",
   "execution_count": null,
   "metadata": {},
   "outputs": [],
   "source": [
    "sanger_model_ids = goncalve_cell_line_info[['model_id', 'Project_Identifier']]\n",
    "sanger_model_ids.set_index('Project_Identifier', inplace=True)\n",
    "sanger_model_ids.head()"
   ]
  },
  {
   "cell_type": "code",
   "execution_count": null,
   "metadata": {},
   "outputs": [],
   "source": [
    "full_protein_matrix.set_index('Project_Identifier', inplace=True)"
   ]
  },
  {
   "cell_type": "code",
   "execution_count": null,
   "metadata": {},
   "outputs": [],
   "source": [
    "# join the full_protein_matrix and the sanger_model_ids by Project_Identifier\n",
    "\n",
    "joined_full_protein_matrix = full_protein_matrix.join(sanger_model_ids, how='inner')"
   ]
  },
  {
   "cell_type": "code",
   "execution_count": null,
   "metadata": {},
   "outputs": [],
   "source": [
    "joined_full_protein_matrix.head()"
   ]
  },
  {
   "cell_type": "code",
   "execution_count": null,
   "metadata": {},
   "outputs": [],
   "source": [
    "joined_full_protein_matrix.shape"
   ]
  },
  {
   "cell_type": "code",
   "execution_count": null,
   "metadata": {},
   "outputs": [],
   "source": [
    "joined_full_protein_matrix.set_index('model_id', inplace=True)\n",
    "joined_full_protein_matrix.head()"
   ]
  },
  {
   "cell_type": "code",
   "execution_count": null,
   "metadata": {},
   "outputs": [],
   "source": [
    "sin_peptile_exclusion_matrix.set_index('Project_Identifier', inplace=True)\n",
    "\n",
    "# join the sin_peptile_exclusion_matrix and the sanger_model_ids by Project_Identifier\n",
    "\n",
    "joined_sin_peptile_exclusion_matrix = sin_peptile_exclusion_matrix.join(sanger_model_ids, how='inner')\n",
    "\n",
    "joined_sin_peptile_exclusion_matrix.head()"
   ]
  },
  {
   "cell_type": "code",
   "execution_count": null,
   "metadata": {},
   "outputs": [],
   "source": [
    "joined_sin_peptile_exclusion_matrix.shape"
   ]
  },
  {
   "cell_type": "code",
   "execution_count": null,
   "metadata": {},
   "outputs": [],
   "source": [
    "joined_sin_peptile_exclusion_matrix.set_index('model_id', inplace=True)"
   ]
  },
  {
   "cell_type": "code",
   "execution_count": null,
   "metadata": {},
   "outputs": [],
   "source": [
    "joined_sin_peptile_exclusion_matrix.head()"
   ]
  },
  {
   "cell_type": "code",
   "execution_count": null,
   "metadata": {},
   "outputs": [],
   "source": [
    "# pickle the joined_full_protein_matrix and the joined_sin_peptile_exclusion_matrix\n",
    "\n",
    "import pickle\n",
    "\n",
    "with open('data/proteomic-expression/goncalves-2022-cell/goncalve_proteome_fillna_processed.pkl', 'wb') as f:\n",
    "    pickle.dump(joined_full_protein_matrix, f)\n",
    "    pickle.dump(joined_sin_peptile_exclusion_matrix, f)"
   ]
  },
  {
   "cell_type": "code",
   "execution_count": null,
   "metadata": {},
   "outputs": [],
   "source": [
    "def create_joint_dataset_from_proteome_gdsc(drug_name: str, proteome: pd.DataFrame, gdsc: pd.DataFrame):\n",
    "    drug_dataset = gdsc.loc[gdsc['DRUG_NAME'] == drug_name]\n",
    "    drug_response_data = drug_dataset[['SANGER_MODEL_ID', 'LN_IC50']]\n",
    "    drug_response_data.set_index('SANGER_MODEL_ID', inplace=True)\n",
    "\n",
    "    # join the matched_proteome_dataset and the drug_response_data by Sanger_Model_ID (model_id)\n",
    "\n",
    "    joined_dataset = proteome.join(drug_response_data, how='inner')\n",
    "\n",
    "    return joined_dataset\n",
    "\n",
    "ribociclib_proteome_data = create_joint_dataset_from_proteome_gdsc('Ribociclib', joined_sin_peptile_exclusion_matrix, gdsc2)"
   ]
  },
  {
   "cell_type": "code",
   "execution_count": null,
   "metadata": {},
   "outputs": [],
   "source": [
    "ribociclib_proteome_data.head()"
   ]
  },
  {
   "attachments": {},
   "cell_type": "markdown",
   "metadata": {},
   "source": [
    "## Integration of GDSC2 and Goncalves dataset without fillna"
   ]
  },
  {
   "cell_type": "code",
   "execution_count": null,
   "metadata": {},
   "outputs": [],
   "source": [
    "# load the goncalve_proteome and goncalve_proteome_info\n",
    "\n",
    "import pickle\n",
    "\n",
    "with open('data/proteomic-expression/goncalves-2022-cell/goncalve_proteome.pkl', 'rb') as f:\n",
    "    full_protein_matrix = pickle.load(f)\n",
    "    sin_peptile_exclusion_matrix = pickle.load(f)\n",
    "    goncalve_cell_line_info = pickle.load(f)\n",
    "\n",
    "# import GDSC2 drug response data using pickle\n",
    "\n",
    "with open('data/drug-response/GDSC2/cache_gdsc2.pkl', 'rb') as f:\n",
    "    gdsc2 = pickle.load(f)\n",
    "    gdsc2_info = pickle.load(f)"
   ]
  },
  {
   "cell_type": "code",
   "execution_count": null,
   "metadata": {},
   "outputs": [],
   "source": [
    "sanger_model_ids = goncalve_cell_line_info[['model_id', 'Project_Identifier']]\n",
    "sanger_model_ids.set_index('Project_Identifier', inplace=True)\n",
    "sanger_model_ids.head()"
   ]
  },
  {
   "cell_type": "code",
   "execution_count": null,
   "metadata": {},
   "outputs": [],
   "source": [
    "full_protein_matrix.set_index('Project_Identifier', inplace=True)"
   ]
  },
  {
   "cell_type": "code",
   "execution_count": null,
   "metadata": {},
   "outputs": [],
   "source": [
    "# join the full_protein_matrix and the sanger_model_ids by Project_Identifier\n",
    "\n",
    "joined_full_protein_matrix = full_protein_matrix.join(sanger_model_ids, how='inner')\n",
    "joined_full_protein_matrix.head()\n"
   ]
  },
  {
   "cell_type": "code",
   "execution_count": null,
   "metadata": {},
   "outputs": [],
   "source": [
    "joined_full_protein_matrix.shape\n",
    "joined_full_protein_matrix.set_index('model_id', inplace=True)\n",
    "joined_full_protein_matrix.head()\n"
   ]
  },
  {
   "cell_type": "code",
   "execution_count": null,
   "metadata": {},
   "outputs": [],
   "source": [
    "sin_peptile_exclusion_matrix.set_index('Project_Identifier', inplace=True)\n",
    "\n",
    "# join the sin_peptile_exclusion_matrix and the sanger_model_ids by Project_Identifier\n",
    "\n",
    "joined_sin_peptile_exclusion_matrix = sin_peptile_exclusion_matrix.join(sanger_model_ids, how='inner')\n",
    "\n",
    "joined_sin_peptile_exclusion_matrix.head()\n"
   ]
  },
  {
   "cell_type": "code",
   "execution_count": null,
   "metadata": {},
   "outputs": [],
   "source": [
    "\n",
    "joined_sin_peptile_exclusion_matrix.shape\n",
    "joined_sin_peptile_exclusion_matrix.set_index('model_id', inplace=True)\n",
    "joined_sin_peptile_exclusion_matrix.head()\n"
   ]
  },
  {
   "cell_type": "code",
   "execution_count": null,
   "metadata": {},
   "outputs": [],
   "source": [
    "\n",
    "# pickle the joined_full_protein_matrix and the joined_sin_peptile_exclusion_matrix\n",
    "\n",
    "import pickle\n",
    "\n",
    "with open('data/proteomic-expression/goncalves-2022-cell/goncalve_proteome_processed.pkl', 'wb') as f:\n",
    "    pickle.dump(joined_full_protein_matrix, f)\n",
    "    pickle.dump(joined_sin_peptile_exclusion_matrix, f)"
   ]
  }
 ],
 "metadata": {
  "kernelspec": {
   "display_name": "Python 3",
   "language": "python",
   "name": "python3"
  },
  "language_info": {
   "codemirror_mode": {
    "name": "ipython",
    "version": 3
   },
   "file_extension": ".py",
   "mimetype": "text/x-python",
   "name": "python",
   "nbconvert_exporter": "python",
   "pygments_lexer": "ipython3",
   "version": "3.8.3"
  },
  "orig_nbformat": 4,
  "vscode": {
   "interpreter": {
    "hash": "89988afa352c605b780a66809297c0ee01ffb47acd0679a8e47d11adec9ecd73"
   }
  }
 },
 "nbformat": 4,
 "nbformat_minor": 2
}
