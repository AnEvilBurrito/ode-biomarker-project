{
 "cells": [
  {
   "attachments": {},
   "cell_type": "markdown",
   "metadata": {},
   "source": [
    "# Data loading \n",
    "\n",
    "methods to pre-cache and load in raw data from the data folder"
   ]
  },
  {
   "attachments": {},
   "cell_type": "markdown",
   "metadata": {},
   "source": [
    "### Data Pre-processing Guidelines\n",
    "\n",
    "- **documentation of original download information**\n",
    "    - original download link \n",
    "    - the date of download\n",
    "    - the doi or bibliography of the linked publication \n",
    "    - basic description of the dataset\n",
    "    - |time-consuming| ideally, a simple description of the methodology used to generate the dataset\n",
    "        - how were the samples collected?\n",
    "        - at what time point are the samples lysed? \n",
    "        - any further pre-processing steps?  \n",
    "<br />\n",
    "\n",
    "- **documentation of dataset(s)** \n",
    "    - *the information type represented by the dataset (i.e. gene expression, drug response, etc.)*\n",
    "    - any supplementary spreadsheet(s) associated with the dataset or metadata\n",
    "    - sample size (e.g. number of samples, number of genes, etc.)\n",
    "    - main row and column domains (e.g. genes, samples, drugs, etc.)\n",
    "    - identifiers used for drug, gene, protein etc. \n",
    "    - presence of specific drugs or genes/proteins of interest\n",
    "        - e.g. CDK4/6 inhibitors: palbociclib, ribociclib and abemaciclib  \n",
    "<br />  \n",
    "\n",
    "- **documentation of the pre-processing steps**\n",
    "    - *the final shape of the processed dataset associated with metadata, e.g. (n_samples, n_genes)*\n",
    "    - |time-consuming| the technique used to transform the dataset\n",
    "        - e.g. log2 transformation, z-score normalization, etc.\n",
    "        - e.g. the method used to impute missing values\n",
    "        - any removal of data and reasoning (i.e. due to missing values, etc.)\n",
    "    - index to identifier mapping (e.g. gene index to gene symbol mapping)\n",
    "        - then, the processed dataset will have indexes matched with a corresponding identifier/symbol \n",
    "        - e.g. gene index 0 corresponds to gene symbol A1BG\n",
    "        - e.g. drug index 0 corresponds to drug palbociclib\n",
    "        - when performing further filtering, the original index order must be preserved or traced to allow for mapping back to the original identifiers\n",
    "    - creating a paired dataset from two different datasets\n",
    "        - e.g. drug response and gene expression\n",
    "        - e.g. drug response and mutation status\n",
    "        - e.g. gene expression and mutation status\n",
    "        - must perform model-to-name mapping between the two datasets and document the mapping logic\n",
    "            - e.g. model are cell lines, matched by cell line name (no spaces, lower case)\n",
    "            - e.g. model are cell lines, matched by a common identifier (e.g. Sanger_Model_ID)\n",
    "\n"
   ]
  },
  {
   "attachments": {},
   "cell_type": "markdown",
   "metadata": {},
   "source": [
    "### GDSC 1 \n",
    "\n",
    "GDSC1 is a drug response dataset, retrieved from [Genomics of Drug Sensitivity in Cancer](http://www.cancerrxgene.org/). The data is stored in the `data/drug-response/GDSC1` folder.\n",
    "\n",
    "Data Retrieval Date: 2022-06-01\n",
    "\n",
    "Yang, W., Soares, J., Greninger, P., Edelman, E. J., Lightfoot, H., Forbes, S., Bindal, N., Beare, D., Smith, J. A., Thompson, I. R., Ramaswamy, S., Futreal, P. A., Haber, D. A., Stratton, M. R., Benes, C., McDermott, U., & Garnett, M. J. (2013). Genomics of Drug Sensitivity in Cancer (GDSC): A resource for therapeutic biomarker discovery in cancer cells. Nucleic Acids Research, 41(Database issue), D955–D961. https://doi.org/10.1093/nar/gks1111\n",
    "\n",
    "#### Methodology\n",
    "\n",
    "retrieved from [Genomics of Drug Sensitivity in Cancer](https://www.cancerrxgene.org/help#t_curve)\n",
    "\n",
    "> The GDSC1 dataset was generated jointly by the Wellcome Sanger Institute and Massachusetts General Hospital between 2009 and 2015 using a matched set of cancer cell lines (the GDSC1000).\n",
    "\n",
    "> Compounds were stored in aliquots at -80°C and were subjected to a maximum of 5 freeze-thaw cycles.\n",
    "\n",
    "> Cells were seeded in 96-well or 384-well plates and compound dose titrations were delivered using tip based liquid handling apparatus. Cell viability was measured using either Syto60 or Resazurin. Drug treatments in this dataset used two formats:\n",
    "\n",
    "> 9-point dose curve incorporating a 2-fold dilution step (256-fold range)\n",
    "> 5-point dose curve incorporating a 4-fold dilution step (256-fold range)\n",
    "\n"
   ]
  },
  {
   "cell_type": "code",
   "execution_count": 1,
   "metadata": {},
   "outputs": [
    {
     "name": "stdout",
     "output_type": "stream",
     "text": [
      "  DATASET  NLME_RESULT_ID  NLME_CURVE_ID  COSMIC_ID CELL_LINE_NAME  \\\n",
      "0   GDSC1             281       12974350     683665         MC-CAR   \n",
      "1   GDSC1             281       12975300     684055            ES3   \n",
      "2   GDSC1             281       12975647     684057            ES5   \n",
      "3   GDSC1             281       12975980     684059            ES7   \n",
      "4   GDSC1             281       12976330     684062          EW-11   \n",
      "\n",
      "  SANGER_MODEL_ID     TCGA_DESC  DRUG_ID  DRUG_NAME PUTATIVE_TARGET  \\\n",
      "0       SIDM00636            MM        1  Erlotinib            EGFR   \n",
      "1       SIDM00265  UNCLASSIFIED        1  Erlotinib            EGFR   \n",
      "2       SIDM00263  UNCLASSIFIED        1  Erlotinib            EGFR   \n",
      "3       SIDM00269  UNCLASSIFIED        1  Erlotinib            EGFR   \n",
      "4       SIDM00203  UNCLASSIFIED        1  Erlotinib            EGFR   \n",
      "\n",
      "     PATHWAY_NAME  COMPANY_ID WEBRELEASE  MIN_CONC  MAX_CONC   LN_IC50  \\\n",
      "0  EGFR signaling        1045          Y  0.007813       2.0  2.395685   \n",
      "1  EGFR signaling        1045          Y  0.007813       2.0  3.140923   \n",
      "2  EGFR signaling        1045          Y  0.007813       2.0  3.968757   \n",
      "3  EGFR signaling        1045          Y  0.007813       2.0  2.692768   \n",
      "4  EGFR signaling        1045          Y  0.007813       2.0  2.478678   \n",
      "\n",
      "        AUC      RMSE   Z_SCORE  \n",
      "0  0.982114  0.022521 -0.189576  \n",
      "1  0.984816  0.031840  0.508635  \n",
      "2  0.985693  0.026052  1.284229  \n",
      "3  0.972699  0.110056  0.088760  \n",
      "4  0.944462  0.087011 -0.111820  \n"
     ]
    }
   ],
   "source": [
    "## Initial Loading of Data\n",
    "\n",
    "import pandas as pd \n",
    "\n",
    "gdsc1 = pd.read_excel('data\\drug-response\\GDSC1\\GDSC1_fitted_dose_response_25Feb20.xlsx')\n",
    "print(gdsc1.head())"
   ]
  },
  {
   "cell_type": "code",
   "execution_count": 2,
   "metadata": {},
   "outputs": [],
   "source": [
    "gdsc1_info = pd.read_csv('data\\drug-response\\GDSC1\\GDSC1_DrugData.csv')"
   ]
  },
  {
   "cell_type": "code",
   "execution_count": 5,
   "metadata": {},
   "outputs": [],
   "source": [
    "## Caching loaded data into pickle obj \n",
    "\n",
    "import pickle\n",
    "\n",
    "with open('data/drug-response/GDSC1/cache_gdsc1.pkl', 'wb') as f:\n",
    "    pickle.dump(gdsc1, f)\n",
    "    pickle.dump(gdsc1_info, f)\n"
   ]
  },
  {
   "cell_type": "code",
   "execution_count": 1,
   "metadata": {},
   "outputs": [],
   "source": [
    "## Loading cached data\n",
    "import pickle\n",
    "\n",
    "with open('data/drug-response/GDSC1/cache_gdsc1.pkl', 'rb') as f:\n",
    "    gdsc1 = pickle.load(f)\n",
    "    gdsc1_info = pickle.load(f)"
   ]
  },
  {
   "cell_type": "code",
   "execution_count": 2,
   "metadata": {},
   "outputs": [
    {
     "name": "stdout",
     "output_type": "stream",
     "text": [
      "  DATASET  NLME_RESULT_ID  NLME_CURVE_ID  COSMIC_ID CELL_LINE_NAME  \\\n",
      "0   GDSC1             281       12974350     683665         MC-CAR   \n",
      "1   GDSC1             281       12975300     684055            ES3   \n",
      "2   GDSC1             281       12975647     684057            ES5   \n",
      "3   GDSC1             281       12975980     684059            ES7   \n",
      "4   GDSC1             281       12976330     684062          EW-11   \n",
      "\n",
      "  SANGER_MODEL_ID     TCGA_DESC  DRUG_ID  DRUG_NAME PUTATIVE_TARGET  \\\n",
      "0       SIDM00636            MM        1  Erlotinib            EGFR   \n",
      "1       SIDM00265  UNCLASSIFIED        1  Erlotinib            EGFR   \n",
      "2       SIDM00263  UNCLASSIFIED        1  Erlotinib            EGFR   \n",
      "3       SIDM00269  UNCLASSIFIED        1  Erlotinib            EGFR   \n",
      "4       SIDM00203  UNCLASSIFIED        1  Erlotinib            EGFR   \n",
      "\n",
      "     PATHWAY_NAME  COMPANY_ID WEBRELEASE  MIN_CONC  MAX_CONC   LN_IC50  \\\n",
      "0  EGFR signaling        1045          Y  0.007813       2.0  2.395685   \n",
      "1  EGFR signaling        1045          Y  0.007813       2.0  3.140923   \n",
      "2  EGFR signaling        1045          Y  0.007813       2.0  3.968757   \n",
      "3  EGFR signaling        1045          Y  0.007813       2.0  2.692768   \n",
      "4  EGFR signaling        1045          Y  0.007813       2.0  2.478678   \n",
      "\n",
      "        AUC      RMSE   Z_SCORE  \n",
      "0  0.982114  0.022521 -0.189576  \n",
      "1  0.984816  0.031840  0.508635  \n",
      "2  0.985693  0.026052  1.284229  \n",
      "3  0.972699  0.110056  0.088760  \n",
      "4  0.944462  0.087011 -0.111820  \n"
     ]
    }
   ],
   "source": [
    "# investigating the structure of the gdsc1 dataset \n",
    "\n",
    "print(gdsc1.head())"
   ]
  },
  {
   "cell_type": "code",
   "execution_count": 3,
   "metadata": {},
   "outputs": [
    {
     "name": "stdout",
     "output_type": "stream",
     "text": [
      "(310904, 19)\n"
     ]
    }
   ],
   "source": [
    "print(gdsc1.shape)"
   ]
  },
  {
   "cell_type": "code",
   "execution_count": 4,
   "metadata": {},
   "outputs": [
    {
     "name": "stdout",
     "output_type": "stream",
     "text": [
      "   drug_id   drug_name                            synonyms  \\\n",
      "0     1559  Luminespib  AUY922, VER-52296,NVP-AUY922,  AUY   \n",
      "1     1372  Trametinib                GSK1120212, Mekinist   \n",
      "2     1909  Venetoclax       ABT-199, Veneclexta, GDC-0199   \n",
      "3     1017    Olaparib       AZD2281, KU0059436,  Lynparza   \n",
      "4     1021    Axitinib                    AG-13736, Inlyta   \n",
      "\n",
      "                        pathway_name            targets   pubchem  \n",
      "0  Protein stability and degradation              HSP90  10096043  \n",
      "1                 ERK MAPK signaling         MEK1, MEK2  11707110  \n",
      "2               Apoptosis regulation               BCL2  49846579  \n",
      "3                   Genome integrity       PARP1, PARP2  23725625  \n",
      "4                      RTK signaling  PDGFR, KIT, VEGFR   6450551  \n"
     ]
    }
   ],
   "source": [
    "print(gdsc1_info.head())"
   ]
  },
  {
   "cell_type": "code",
   "execution_count": 5,
   "metadata": {},
   "outputs": [
    {
     "name": "stdout",
     "output_type": "stream",
     "text": [
      "(901, 19)\n"
     ]
    }
   ],
   "source": [
    "palbo = gdsc1.loc[gdsc1['DRUG_NAME'] == 'Palbociclib']\n",
    "\n",
    "print(palbo.shape)"
   ]
  },
  {
   "cell_type": "code",
   "execution_count": 6,
   "metadata": {},
   "outputs": [
    {
     "name": "stdout",
     "output_type": "stream",
     "text": [
      "(0, 19)\n"
     ]
    }
   ],
   "source": [
    "ribo = gdsc1.loc[gdsc1['DRUG_NAME'] == 'Ribociclib']\n",
    "\n",
    "print(ribo.shape)"
   ]
  },
  {
   "cell_type": "code",
   "execution_count": 7,
   "metadata": {},
   "outputs": [
    {
     "name": "stdout",
     "output_type": "stream",
     "text": [
      "(0, 19)\n"
     ]
    }
   ],
   "source": [
    "Abemaciclib = gdsc1.loc[gdsc1['DRUG_NAME'] == 'Abemaciclib']\n",
    "\n",
    "print(Abemaciclib.shape)"
   ]
  },
  {
   "attachments": {},
   "cell_type": "markdown",
   "metadata": {},
   "source": [
    "- gdsc1 \n",
    "- dataset type: drug response\n",
    "- dataset shape: (310904, 19) (n_cells, row_features)\n",
    "- **each row** represents a drug response measurement of a cell line for a given drug\n",
    "- **each column** are the features of each drug response measurement\n",
    "- the column `LN_IC50` is the log-normalized IC50 value of the drug response\n",
    "- the column `AUC` is the area under the curve of the drug response\n",
    "- the column `DRUG_ID`, `DRUG_NAME` are the **identifiers of the drug**\n",
    "    - 'DRUG_ID' can be queried to show further information on drug targets from the supplementary spreadsheet 'gdsc1_info.csv' or the `gdsc1_info` object in python \n",
    "- the column `COSMIC_ID`, `SANGER_MODEL_ID`, `CELL_LINE_NAME` are the **identifiers of the cell line**\n",
    "- drug present: **Palbociclib** (cell line n = 901)\n"
   ]
  },
  {
   "attachments": {},
   "cell_type": "markdown",
   "metadata": {},
   "source": [
    "pre-processing may not be required on this dataset, however, further pre-processing is needed if paired with other datasets"
   ]
  },
  {
   "attachments": {},
   "cell_type": "markdown",
   "metadata": {},
   "source": [
    "### CCLE 22Q2\n",
    "\n",
    "CCLE (Cancer Cell Line Encyclopedia) is a gene expression dataset, retrieved from [Cancer Cell Line Encyclopedia](https://depmap.org/portal/download/all/). Data is pulled with the option 'DepMap Public 22Q2' in the selection menu.\n",
    "\n",
    "The data is stored in the `data/gene-expression/CCLE_Public_22Q2` folder.\n",
    "\n",
    "Data Retrieval Date: 2022-06-01\n",
    "\n",
    "Ghandi, M., Huang, F. W., Jané-Valbuena, J., Kryukov, G. V., Lo, C. C., McDonald, E. R., Barretina, J., Gelfand, E. T., Bielski, C. M., Li, H., Hu, K., Andreev-Drakhlin, A. Y., Kim, J., Hess, J. M., Haas, B. J., Aguet, F., Weir, B. A., Rothberg, M. V., Paolella, B. R., … Sellers, W. R. (2019). Next-generation characterization of the Cancer Cell Line Encyclopedia. Nature, 569(7757), Article 7757. https://doi.org/10.1038/s41586-019-1186-3\n",
    "\n",
    "\n",
    "#### Methodology\n",
    "\n",
    "From Ghandi et al, 2019:\n",
    "\n",
    "> WGS for 329 cell lines and WES for 326 cell lines were performed at the Broad Institute Genomics Platform. Libraries were constructed and sequenced on either an Illumina HiSeq 2000 or Illumina GAIIX, with the use of 101-base-pair (bp) paired-end reads for WGS and 76-bp paired-end reads for WES. Output from Illumina software was processed by the Picard data-processing pipeline to yield BAM files containing well-calibrated, aligned reads. All sample information tracking was performed by automated LIMS messaging."
   ]
  },
  {
   "cell_type": "code",
   "execution_count": null,
   "metadata": {},
   "outputs": [],
   "source": [
    "#TODO "
   ]
  },
  {
   "attachments": {},
   "cell_type": "markdown",
   "metadata": {},
   "source": [
    "### GDSC 2\n",
    "\n",
    "GDSC2 is a drug response dataset, retrieved from [Genomics of Drug Sensitivity in Cancer](http://www.cancerrxgene.org/). The data is stored in the `data/drug-response/GDSC2` folder."
   ]
  },
  {
   "cell_type": "code",
   "execution_count": 9,
   "metadata": {},
   "outputs": [
    {
     "name": "stdout",
     "output_type": "stream",
     "text": [
      "  DATASET  NLME_RESULT_ID  NLME_CURVE_ID  COSMIC_ID CELL_LINE_NAME  \\\n",
      "0   GDSC2             282       13320532     749709        HCC1954   \n",
      "1   GDSC2             282       13320565     749710        HCC1143   \n",
      "2   GDSC2             282       13320598     749711        HCC1187   \n",
      "3   GDSC2             282       13320631     749712        HCC1395   \n",
      "4   GDSC2             282       13320668     749713        HCC1599   \n",
      "\n",
      "  SANGER_MODEL_ID TCGA_DESC  DRUG_ID     DRUG_NAME PUTATIVE_TARGET  \\\n",
      "0       SIDM00872      BRCA     1003  Camptothecin            TOP1   \n",
      "1       SIDM00866      BRCA     1003  Camptothecin            TOP1   \n",
      "2       SIDM00885      BRCA     1003  Camptothecin            TOP1   \n",
      "3       SIDM00884      BRCA     1003  Camptothecin            TOP1   \n",
      "4       SIDM00877      BRCA     1003  Camptothecin            TOP1   \n",
      "\n",
      "      PATHWAY_NAME  COMPANY_ID WEBRELEASE  MIN_CONC  MAX_CONC   LN_IC50  \\\n",
      "0  DNA replication        1046          Y  0.000098       0.1 -0.251083   \n",
      "1  DNA replication        1046          Y  0.000098       0.1  1.343315   \n",
      "2  DNA replication        1046          Y  0.000098       0.1  1.736985   \n",
      "3  DNA replication        1046          Y  0.000098       0.1 -2.309078   \n",
      "4  DNA replication        1046          Y  0.000098       0.1 -3.106684   \n",
      "\n",
      "        AUC      RMSE   Z_SCORE  \n",
      "0  0.975203  0.112373  0.906631  \n",
      "1  0.978464  0.067577  1.683567  \n",
      "2  0.995100  0.045205  1.875399  \n",
      "3  0.867832  0.107282 -0.096212  \n",
      "4  0.777532  0.098286 -0.484878  \n"
     ]
    }
   ],
   "source": [
    "## Initial Loading of Data\n",
    "\n",
    "import pandas as pd \n",
    "\n",
    "gdsc2 = pd.read_excel('data\\drug-response\\GDSC2\\GDSC2_fitted_dose_response_25Feb20.xlsx')\n",
    "print(gdsc2.head())"
   ]
  },
  {
   "cell_type": "code",
   "execution_count": 12,
   "metadata": {},
   "outputs": [],
   "source": [
    "gdsc2_info = pd.read_csv('data\\drug-response\\GDSC2\\GDSC2_DrugData.csv')\n",
    "\n"
   ]
  },
  {
   "cell_type": "code",
   "execution_count": 13,
   "metadata": {},
   "outputs": [],
   "source": [
    "## Caching loaded data into pickle obj \n",
    "\n",
    "import pickle\n",
    "\n",
    "with open('data/drug-response/GDSC2/cache_gdsc2.pkl', 'wb') as f:\n",
    "    pickle.dump(gdsc2, f)\n",
    "    pickle.dump(gdsc2_info, f)"
   ]
  },
  {
   "cell_type": "code",
   "execution_count": 14,
   "metadata": {},
   "outputs": [],
   "source": [
    "## Loading cached data\n",
    "\n",
    "import pickle\n",
    "\n",
    "with open('data/drug-response/GDSC2/cache_gdsc2.pkl', 'rb') as f:\n",
    "    gdsc2 = pickle.load(f)\n",
    "    gdsc2_info = pickle.load(f)"
   ]
  },
  {
   "attachments": {},
   "cell_type": "markdown",
   "metadata": {},
   "source": [
    "### Goncalves 2022 Proteomic Cell Paper (n=949)"
   ]
  },
  {
   "cell_type": "code",
   "execution_count": null,
   "metadata": {},
   "outputs": [],
   "source": []
  },
  {
   "attachments": {},
   "cell_type": "markdown",
   "metadata": {},
   "source": [
    "### Open Cell Protein Interaction Map"
   ]
  }
 ],
 "metadata": {
  "kernelspec": {
   "display_name": "Python 3",
   "language": "python",
   "name": "python3"
  },
  "language_info": {
   "codemirror_mode": {
    "name": "ipython",
    "version": 3
   },
   "file_extension": ".py",
   "mimetype": "text/x-python",
   "name": "python",
   "nbconvert_exporter": "python",
   "pygments_lexer": "ipython3",
   "version": "3.8.10"
  },
  "orig_nbformat": 4,
  "vscode": {
   "interpreter": {
    "hash": "89988afa352c605b780a66809297c0ee01ffb47acd0679a8e47d11adec9ecd73"
   }
  }
 },
 "nbformat": 4,
 "nbformat_minor": 2
}
