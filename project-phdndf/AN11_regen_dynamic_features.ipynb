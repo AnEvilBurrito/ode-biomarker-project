{
 "cells": [
  {
   "cell_type": "markdown",
   "metadata": {},
   "source": [
    "# Regenerate Dynamic Features using python"
   ]
  },
  {
   "cell_type": "markdown",
   "metadata": {},
   "source": [
    "## FGFR4 Dataset"
   ]
  },
  {
   "cell_type": "markdown",
   "metadata": {},
   "source": [
    "### Data Init"
   ]
  },
  {
   "cell_type": "code",
   "execution_count": 1,
   "metadata": {},
   "outputs": [
    {
     "name": "stdout",
     "output_type": "stream",
     "text": [
      "Project path set to: c:\\Github\\ode-biomarker-project\n"
     ]
    }
   ],
   "source": [
    "import os\n",
    "\n",
    "import numpy as np\n",
    "import pandas as pd\n",
    "\n",
    "path = os.getcwd()\n",
    "# find the string 'project' in the path, return index\n",
    "index_project = path.find('project')\n",
    "# slice the path from the index of 'project' to the end\n",
    "project_path = path[:index_project+7]\n",
    "# set the working directory\n",
    "os.chdir(project_path)\n",
    "print(f'Project path set to: {os.getcwd()}')"
   ]
  },
  {
   "cell_type": "code",
   "execution_count": 2,
   "metadata": {},
   "outputs": [],
   "source": [
    "# Bring in CCLE data\n",
    "from PathLoader import PathLoader\n",
    "from DataLink import DataLink\n",
    "path_loader = PathLoader('data_config.env', 'current_user.env')\n",
    "data_link = DataLink(path_loader, 'data_codes.csv')"
   ]
  },
  {
   "cell_type": "code",
   "execution_count": 3,
   "metadata": {},
   "outputs": [],
   "source": [
    "# load in original ccle data\n",
    "loading_code = 'generic-gdsc-1-FGFR_0939-LN_IC50-fgfr4_ccle_dynamic_features-true-Row'\n",
    "# generic-gdsc-{number}-{drug_name}-{target_label}-{dataset_name}-{replace_index}-{row_index}\n",
    "feature_data, label_data = data_link.get_data_using_code(loading_code)"
   ]
  },
  {
   "cell_type": "code",
   "execution_count": 5,
   "metadata": {},
   "outputs": [],
   "source": [
    "# attempt load from loading code\n",
    "\n",
    "loading_code = 'fgfr4_model_raw_simulation'\n",
    "simulation_data = data_link.get_data_from_code(loading_code)"
   ]
  },
  {
   "cell_type": "code",
   "execution_count": 6,
   "metadata": {},
   "outputs": [],
   "source": [
    "from get_dynamic_features import get_dynamic_features"
   ]
  },
  {
   "cell_type": "markdown",
   "metadata": {},
   "source": [
    "### Run Program"
   ]
  },
  {
   "cell_type": "code",
   "execution_count": 7,
   "metadata": {},
   "outputs": [],
   "source": [
    "all_species = simulation_data.columns[2:]\n",
    "all_celllines = simulation_data['Cellline'].unique()"
   ]
  },
  {
   "cell_type": "code",
   "execution_count": 9,
   "metadata": {},
   "outputs": [
    {
     "name": "stdout",
     "output_type": "stream",
     "text": [
      "all species: Index(['pIGFR', 'pFGFR4', 'pERBB', 'pIRS', 'aPI3K', 'PIP3', 'pFRS2', 'aGrb2',\n",
      "       'pAkt', 'aPDK1', 'amTORC1', 'pS6K', 'aSos', 'aShp2', 'aRas', 'aRaf',\n",
      "       'pMEK', 'pERK', 'aGAB1', 'aGAB2', 'SPRY2', 'pSPRY2', 'PTP', 'aCbl',\n",
      "       'FOXO', 'amTORC2'],\n",
      "      dtype='object')\n",
      "all celllines: ['ACH-001113' 'ACH-001289' 'ACH-001339' ... 'ACH-001858' 'ACH-001997'\n",
      " 'ACH-000052']\n"
     ]
    }
   ],
   "source": [
    "print('all species:', all_species)\n",
    "print('all celllines:', all_celllines)"
   ]
  },
  {
   "cell_type": "code",
   "execution_count": 14,
   "metadata": {},
   "outputs": [],
   "source": [
    "selected_data = simulation_data[simulation_data['Cellline'] == 'ACH-001113']\n",
    "specie_data = selected_data['pAkt']"
   ]
  },
  {
   "cell_type": "code",
   "execution_count": 15,
   "metadata": {},
   "outputs": [
    {
     "name": "stdout",
     "output_type": "stream",
     "text": [
      "0     5.692853\n",
      "1     1.515733\n",
      "2     4.342809\n",
      "3     5.469497\n",
      "4     6.159255\n",
      "5     6.736439\n",
      "6     7.201853\n",
      "7     7.569843\n",
      "8     7.863404\n",
      "9     8.102042\n",
      "10    8.299919\n",
      "11    8.466945\n",
      "12    8.610290\n",
      "13    8.734981\n",
      "14    8.844819\n",
      "15    8.942670\n",
      "16    9.030716\n",
      "17    9.110656\n",
      "18    9.183834\n",
      "19    9.251323\n",
      "20    9.314000\n",
      "21    9.372586\n",
      "22    9.427645\n",
      "23    9.479653\n",
      "24    9.529036\n",
      "Name: pAkt, dtype: float64\n"
     ]
    }
   ],
   "source": [
    "print(specie_data)"
   ]
  },
  {
   "cell_type": "markdown",
   "metadata": {},
   "source": [
    "## CDK4/6 Dataset"
   ]
  }
 ],
 "metadata": {
  "kernelspec": {
   "display_name": "venv",
   "language": "python",
   "name": "python3"
  },
  "language_info": {
   "codemirror_mode": {
    "name": "ipython",
    "version": 3
   },
   "file_extension": ".py",
   "mimetype": "text/x-python",
   "name": "python",
   "nbconvert_exporter": "python",
   "pygments_lexer": "ipython3",
   "version": "3.8.10"
  }
 },
 "nbformat": 4,
 "nbformat_minor": 2
}
