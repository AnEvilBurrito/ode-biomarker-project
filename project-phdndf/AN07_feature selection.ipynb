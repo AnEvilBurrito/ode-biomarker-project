{
 "cells": [
  {
   "cell_type": "markdown",
   "metadata": {},
   "source": [
    "# Feature Selection by Filtering Methods"
   ]
  },
  {
   "cell_type": "markdown",
   "metadata": {},
   "source": [
    "## Initialisation"
   ]
  },
  {
   "cell_type": "code",
   "execution_count": 78,
   "metadata": {},
   "outputs": [
    {
     "name": "stdout",
     "output_type": "stream",
     "text": [
      "Project path set to: c:\\Github\\ode-biomarker-project\n"
     ]
    }
   ],
   "source": [
    "import os\n",
    "\n",
    "import numpy as np\n",
    "import pandas as pd\n",
    "\n",
    "path = os.getcwd()\n",
    "# find the string 'project' in the path, return index\n",
    "index_project = path.find('project')\n",
    "# slice the path from the index of 'project' to the end\n",
    "project_path = path[:index_project+7]\n",
    "# set the working directory\n",
    "os.chdir(project_path)\n",
    "print(f'Project path set to: {os.getcwd()}')"
   ]
  },
  {
   "cell_type": "code",
   "execution_count": 79,
   "metadata": {},
   "outputs": [],
   "source": [
    "# Bring in CCLE data\n",
    "from PathLoader import PathLoader\n",
    "from DataLink import DataLink\n",
    "path_loader = PathLoader('data_config.env', 'current_user.env')\n",
    "data_link = DataLink(path_loader, 'data_codes.csv')"
   ]
  },
  {
   "cell_type": "code",
   "execution_count": 80,
   "metadata": {},
   "outputs": [],
   "source": [
    "# load in original ccle data\n",
    "loading_code = 'generic-gdsc-1-FGFR_0939-LN_IC50-fgfr4_ccle_dynamic_features-true-Row'\n",
    "# generic-gdsc-{number}-{drug_name}-{target_label}-{dataset_name}-{replace_index}-{row_index}\n",
    "feature_data, label_data = data_link.get_data_using_code(loading_code)"
   ]
  },
  {
   "cell_type": "code",
   "execution_count": 81,
   "metadata": {},
   "outputs": [],
   "source": [
    "from toolkit import *"
   ]
  },
  {
   "cell_type": "markdown",
   "metadata": {},
   "source": [
    "## Analysis Chain"
   ]
  },
  {
   "cell_type": "code",
   "execution_count": 77,
   "metadata": {},
   "outputs": [],
   "source": [
    "folder_name = \"FeatureSelectionFGFR4\"\n",
    "exp_id = \"range1000_nml\"\n",
    "fixed_random_seed = 42 # -1 for no seed\n",
    "save_figure = True\n",
    "save_data = True\n",
    "show_figure = True  \n",
    "\n",
    "feature_size = feature_data.shape[1]\n",
    "key_args = {'random_state': fixed_random_seed}\n",
    "\n",
    "if not os.path.exists(f'{path_loader.get_data_path()}data/results/{folder_name}'):\n",
    "    os.makedirs(f'{path_loader.get_data_path()}data/results/{folder_name}')\n",
    "\n",
    "file_save_path = f'{path_loader.get_data_path()}data/results/{folder_name}/'"
   ]
  },
  {
   "cell_type": "code",
   "execution_count": 7,
   "metadata": {},
   "outputs": [],
   "source": [
    "def build_dataframe(selected_indices, scores, feature_data): \n",
    "    # if selected_indices are not indices but labels, skip the label conversion step \n",
    "    if not isinstance(selected_indices[0], int) and not isinstance(selected_indices[0], np.int64):\n",
    "        labels = selected_indices\n",
    "    else:\n",
    "        labels = feature_data.columns[selected_indices]\n",
    "    df = pd.DataFrame({'Selected': selected_indices, 'Scores': scores}, index=labels)\n",
    "    sorted_df = df.sort_values(by='Scores', ascending=False)\n",
    "    return sorted_df"
   ]
  },
  {
   "cell_type": "code",
   "execution_count": null,
   "metadata": {},
   "outputs": [],
   "source": [
    "rf_selected, rf_score = rf_select(feature_data, label_data, feature_size, **key_args)\n",
    "rf_select_df = build_dataframe(rf_selected, rf_score, feature_data)"
   ]
  },
  {
   "cell_type": "code",
   "execution_count": null,
   "metadata": {},
   "outputs": [],
   "source": [
    "rf_select_df "
   ]
  },
  {
   "cell_type": "code",
   "execution_count": null,
   "metadata": {},
   "outputs": [],
   "source": [
    "relieff_selected, relieff_score = relieff_select(feature_data, label_data, feature_size)"
   ]
  },
  {
   "cell_type": "code",
   "execution_count": null,
   "metadata": {},
   "outputs": [],
   "source": [
    "relieff_select_df = build_dataframe(relieff_selected, relieff_score, feature_data)\n",
    "relieff_select_df"
   ]
  },
  {
   "cell_type": "code",
   "execution_count": null,
   "metadata": {},
   "outputs": [],
   "source": [
    "f_selected, f_score = f_regression_select(feature_data, label_data, feature_size)\n",
    "f_df = build_dataframe(f_selected, f_score, feature_data)\n",
    "f_df"
   ]
  },
  {
   "cell_type": "code",
   "execution_count": null,
   "metadata": {},
   "outputs": [],
   "source": [
    "pearson_kwargs = {'return_all': True}\n",
    "pearson_selected, pearson_score, pearson_pvals = pearson_corr_select(feature_data, label_data, feature_size, **pearson_kwargs)\n",
    "pearson_df = build_dataframe(pearson_selected, pearson_score, feature_data)\n",
    "pearson_df"
   ]
  },
  {
   "cell_type": "code",
   "execution_count": null,
   "metadata": {},
   "outputs": [],
   "source": [
    "mutual_selected, mutual_score = mutual_information_select(feature_data, label_data, feature_size)\n",
    "mutual_df = build_dataframe(mutual_selected, mutual_score, feature_data)\n",
    "mutual_df"
   ]
  },
  {
   "cell_type": "markdown",
   "metadata": {},
   "source": [
    "there are two options to ensemble the results of multiple different feature selection results \n",
    "1. To propose a universal k-cutoff rank number for all feature selection methods and then union the features \n",
    "    e.g. Gather FS Method 1's top 100 features and Gather FS Method 2's top 100 features and union them \n",
    "2. To ensemble the rank value of each feature from each method first, and then limit the number of features either using a k-cutoff rank number, or a k-cutoff threshold for the ensemble score. "
   ]
  },
  {
   "cell_type": "markdown",
   "metadata": {},
   "source": [
    "## Universal K-Cutoff Rank Method"
   ]
  },
  {
   "cell_type": "code",
   "execution_count": null,
   "metadata": {},
   "outputs": [],
   "source": [
    "k = 50 \n",
    "\n",
    "def ensemble_k_rank_select(k: int, selection_methods: list, method_kwargs: list, feature_data, label_data):\n",
    "    all_dfs = []\n",
    "    assert len(selection_methods) == len(method_kwargs), 'Number of methods and method_kwargs must be equal'\n",
    "    for idx, method in enumerate(selection_methods):\n",
    "        selected, score = method(feature_data, label_data, feature_size, **method_kwargs[idx])\n",
    "        df = build_dataframe(selected, score, feature_data)\n",
    "        all_dfs.append(df)\n",
    "    \n",
    "    all_labels = union_df_labels(k,all_dfs)\n",
    "    return all_labels\n",
    "\n",
    "def union_df_labels(k, df_list):\n",
    "    all_labels = []\n",
    "    for df in df_list:\n",
    "        k_best_labels = df.index.tolist()[:k]\n",
    "        all_labels.extend(k_best_labels)\n",
    "    \n",
    "    all_labels = list(set(all_labels))\n",
    "    return all_labels"
   ]
  },
  {
   "cell_type": "code",
   "execution_count": null,
   "metadata": {},
   "outputs": [],
   "source": [
    "# select_methods = [rf_select, relieff_select, f_regression_select, pearson_corr_select, mutual_information_select]\n",
    "# method_kwargs = [{'random_state': 42}, {}, {}, {}, {}]\n",
    "# ensemble_feature_list = ensemble_k_rank_select(k, select_methods, method_kwargs, feature_data, label_data)\n",
    "\n",
    "df_list = [rf_select_df, relieff_select_df, f_df, pearson_df, mutual_df]\n",
    "ensemble_labels = union_df_labels(k,df_list)\n",
    "ensemble_labels"
   ]
  },
  {
   "cell_type": "code",
   "execution_count": null,
   "metadata": {},
   "outputs": [],
   "source": [
    "len(ensemble_labels)"
   ]
  },
  {
   "cell_type": "markdown",
   "metadata": {},
   "source": [
    "### K-Curve Analysis\n",
    "\n",
    "based on a k ranging from 0 to n, we can visualise a line plot to the number of ensemble features selected vs the k value\n",
    "\n",
    "if there is zero overlap, we can expect ensemble features's size to always be k * no. methods \n",
    "However, if the overlap is strong, ensemble's feature size should approach k\n",
    "\n"
   ]
  },
  {
   "cell_type": "code",
   "execution_count": null,
   "metadata": {},
   "outputs": [],
   "source": [
    "import matplotlib.pyplot as plt\n",
    "import seaborn as sns\n",
    "\n",
    "sns.set_context('talk')\n",
    "sns.set_style('whitegrid')\n",
    "\n",
    "max_k = 200\n",
    "df_list = [rf_select_df, relieff_select_df, f_df, pearson_df, mutual_df]\n",
    "ensemble_features_length_list = []\n",
    "k_list = list(range(1, max_k+1))\n",
    "for k in k_list:\n",
    "    ensemble_labels = union_df_labels(k,df_list)\n",
    "    ensemble_features_length_list.append(len(ensemble_labels))\n",
    "\n",
    "\n",
    "# set plot size \n",
    "plt.figure(figsize=(12, 6))\n",
    "plt.plot(k_list, ensemble_features_length_list, label='Actual')\n",
    "plt.plot(k_list, k_list, linestyle='--', color='black', label='Low Threshold')\n",
    "plt.plot(k_list, [k*len(df_list) if k*len(df_list) <= feature_size else feature_size for k in k_list], linestyle='--', color='red', label='High Threshold')\n",
    "plt.xlabel('K')\n",
    "plt.ylabel('Number of Features')\n",
    "plt.title('Overlap K-Curve Analysis for Ensemble Feature Selection')\n",
    "plt.legend()\n",
    "if show_figure: plt.show()\n",
    "if save_figure: plt.savefig(f'{file_save_path}{exp_id}_ensemble_k_curve.png')\n",
    "\n"
   ]
  },
  {
   "cell_type": "markdown",
   "metadata": {},
   "source": [
    "## Sungyoung's statistical method \n",
    "\n",
    "By generating imputed samples which has shuffled targets. "
   ]
  },
  {
   "cell_type": "code",
   "execution_count": 9,
   "metadata": {},
   "outputs": [],
   "source": [
    "random_seeds = list(range(1, 1000))    \n",
    "shuffled_label_data = [label_data.sample(frac=1, random_state=seed) for seed in random_seeds]"
   ]
  },
  {
   "cell_type": "code",
   "execution_count": 10,
   "metadata": {},
   "outputs": [],
   "source": [
    "feature_size = feature_data.shape[1]\n",
    "key_args = {'random_state': 42}"
   ]
  },
  {
   "cell_type": "code",
   "execution_count": 11,
   "metadata": {},
   "outputs": [
    {
     "name": "stderr",
     "output_type": "stream",
     "text": [
      "invalid value encountered in sqrt\n"
     ]
    },
    {
     "data": {
      "text/html": [
       "<div>\n",
       "<style scoped>\n",
       "    .dataframe tbody tr th:only-of-type {\n",
       "        vertical-align: middle;\n",
       "    }\n",
       "\n",
       "    .dataframe tbody tr th {\n",
       "        vertical-align: top;\n",
       "    }\n",
       "\n",
       "    .dataframe thead th {\n",
       "        text-align: right;\n",
       "    }\n",
       "</style>\n",
       "<table border=\"1\" class=\"dataframe\">\n",
       "  <thead>\n",
       "    <tr style=\"text-align: right;\">\n",
       "      <th></th>\n",
       "      <th>Selected</th>\n",
       "      <th>Scores</th>\n",
       "    </tr>\n",
       "  </thead>\n",
       "  <tbody>\n",
       "    <tr>\n",
       "      <th>aSos_ttsv</th>\n",
       "      <td>aSos_ttsv</td>\n",
       "      <td>4.314949</td>\n",
       "    </tr>\n",
       "    <tr>\n",
       "      <th>aSos_tsv</th>\n",
       "      <td>aSos_tsv</td>\n",
       "      <td>4.178087</td>\n",
       "    </tr>\n",
       "    <tr>\n",
       "      <th>aSos_max</th>\n",
       "      <td>aSos_max</td>\n",
       "      <td>3.818385</td>\n",
       "    </tr>\n",
       "    <tr>\n",
       "      <th>aSos_auc</th>\n",
       "      <td>aSos_auc</td>\n",
       "      <td>3.420154</td>\n",
       "    </tr>\n",
       "    <tr>\n",
       "      <th>aSos_min</th>\n",
       "      <td>aSos_min</td>\n",
       "      <td>3.338916</td>\n",
       "    </tr>\n",
       "    <tr>\n",
       "      <th>...</th>\n",
       "      <td>...</td>\n",
       "      <td>...</td>\n",
       "    </tr>\n",
       "    <tr>\n",
       "      <th>aCbl_tmin</th>\n",
       "      <td>aCbl_tmin</td>\n",
       "      <td>0.000000</td>\n",
       "    </tr>\n",
       "    <tr>\n",
       "      <th>aCbl_tmax</th>\n",
       "      <td>aCbl_tmax</td>\n",
       "      <td>0.000000</td>\n",
       "    </tr>\n",
       "    <tr>\n",
       "      <th>PTP_tmin</th>\n",
       "      <td>PTP_tmin</td>\n",
       "      <td>0.000000</td>\n",
       "    </tr>\n",
       "    <tr>\n",
       "      <th>aRaf_ttsv</th>\n",
       "      <td>aRaf_ttsv</td>\n",
       "      <td>0.000000</td>\n",
       "    </tr>\n",
       "    <tr>\n",
       "      <th>aGAB2_tmin</th>\n",
       "      <td>aGAB2_tmin</td>\n",
       "      <td>0.000000</td>\n",
       "    </tr>\n",
       "  </tbody>\n",
       "</table>\n",
       "<p>260 rows × 2 columns</p>\n",
       "</div>"
      ],
      "text/plain": [
       "              Selected    Scores\n",
       "aSos_ttsv    aSos_ttsv  4.314949\n",
       "aSos_tsv      aSos_tsv  4.178087\n",
       "aSos_max      aSos_max  3.818385\n",
       "aSos_auc      aSos_auc  3.420154\n",
       "aSos_min      aSos_min  3.338916\n",
       "...                ...       ...\n",
       "aCbl_tmin    aCbl_tmin  0.000000\n",
       "aCbl_tmax    aCbl_tmax  0.000000\n",
       "PTP_tmin      PTP_tmin  0.000000\n",
       "aRaf_ttsv    aRaf_ttsv  0.000000\n",
       "aGAB2_tmin  aGAB2_tmin  0.000000\n",
       "\n",
       "[260 rows x 2 columns]"
      ]
     },
     "execution_count": 11,
     "metadata": {},
     "output_type": "execute_result"
    }
   ],
   "source": [
    "f_selected, f_score = f_regression_select(feature_data, shuffled_label_data[0], feature_size)\n",
    "f_df = build_dataframe(f_selected, f_score, feature_data)\n",
    "f_df"
   ]
  },
  {
   "cell_type": "markdown",
   "metadata": {},
   "source": [
    "### F-regression"
   ]
  },
  {
   "cell_type": "code",
   "execution_count": 12,
   "metadata": {},
   "outputs": [],
   "source": [
    "# do it for all shuffled label data, join the scores and plot histogram distribution of scores \n",
    "\n",
    "import matplotlib.pyplot as plt  # type: ignore\n",
    "import seaborn as sns  # type: ignore\n",
    "from joblib import Parallel, delayed, cpu_count # type: ignore\n",
    "\n",
    "\n",
    "def get_shuffled_scores(shuffled_label_data, feature_data, selection_method, method_kwargs, verbose=1, n_jobs=1):\n",
    "    if n_jobs == -1:\n",
    "        n_jobs = cpu_count()\n",
    "    if n_jobs == 1:\n",
    "        all_scores = []\n",
    "        for i, label_data in enumerate(shuffled_label_data):\n",
    "            selected, score = selection_method(feature_data, label_data, feature_size, **method_kwargs)\n",
    "            all_scores.extend(score)\n",
    "            if verbose == 1: \n",
    "                print(f'Finished {i+1} out of {len(shuffled_label_data)}')\n",
    "    else: \n",
    "        # use joblib to parallelize the process\n",
    "        def run_one(label_data):\n",
    "            selected, score = selection_method(feature_data, label_data, feature_size, **method_kwargs)\n",
    "            return score\n",
    "        # process shuffled data 20 at a time, so that we can see progress, then concatenate at the end\n",
    "        divide_n = 20\n",
    "        if n_jobs > 20:\n",
    "            divide_n = 40\n",
    "        shuffled_label_data_chunks = [shuffled_label_data[i:i + divide_n] for i in range(0, len(shuffled_label_data), divide_n)]\n",
    "        all_scores = []\n",
    "        for i, chunk in enumerate(shuffled_label_data_chunks):\n",
    "            scores = Parallel(n_jobs=n_jobs)(delayed(run_one)(label_data) for label_data in chunk)\n",
    "            all_scores.extend([score for sublist in scores for score in sublist])\n",
    "            if verbose == 1: \n",
    "                print(f'Finished {i+1} out of {len(shuffled_label_data_chunks)} chunks')\n",
    "                \n",
    "    return all_scores"
   ]
  },
  {
   "cell_type": "code",
   "execution_count": 37,
   "metadata": {},
   "outputs": [
    {
     "name": "stdout",
     "output_type": "stream",
     "text": [
      "Finished 1 out of 25 chunks\n",
      "Finished 2 out of 25 chunks\n",
      "Finished 3 out of 25 chunks\n",
      "Finished 4 out of 25 chunks\n",
      "Finished 5 out of 25 chunks\n",
      "Finished 6 out of 25 chunks\n",
      "Finished 7 out of 25 chunks\n",
      "Finished 8 out of 25 chunks\n",
      "Finished 9 out of 25 chunks\n",
      "Finished 10 out of 25 chunks\n",
      "Finished 11 out of 25 chunks\n",
      "Finished 12 out of 25 chunks\n",
      "Finished 13 out of 25 chunks\n",
      "Finished 14 out of 25 chunks\n",
      "Finished 15 out of 25 chunks\n",
      "Finished 16 out of 25 chunks\n",
      "Finished 17 out of 25 chunks\n",
      "Finished 18 out of 25 chunks\n",
      "Finished 19 out of 25 chunks\n",
      "Finished 20 out of 25 chunks\n",
      "Finished 21 out of 25 chunks\n",
      "Finished 22 out of 25 chunks\n",
      "Finished 23 out of 25 chunks\n",
      "Finished 24 out of 25 chunks\n",
      "Finished 25 out of 25 chunks\n"
     ]
    },
    {
     "data": {
      "image/png": "[encoded data removed]",
      "text/plain": [
       "<Figure size 1200x600 with 1 Axes>"
      ]
     },
     "metadata": {},
     "output_type": "display_data"
    },
    {
     "data": {
      "text/plain": [
       "<Figure size 640x480 with 0 Axes>"
      ]
     },
     "metadata": {},
     "output_type": "display_data"
    }
   ],
   "source": [
    "method = f_regression_select\n",
    "method_string = 'f_regression'\n",
    "method_kwargs = {}\n",
    "all_scores = get_shuffled_scores(shuffled_label_data, feature_data, method, method_kwargs, n_jobs=-1)\n",
    "\n",
    "# set plot size\n",
    "plt.figure(figsize=(12, 6))\n",
    "sns.histplot(all_scores, bins=20, kde=True)\n",
    "plt.xlabel(f'{method_string} Score')\n",
    "plt.ylabel('Frequency')\n",
    "plt.title(f'{method_string} Score Distribution for Shuffled Label Data')\n",
    "if show_figure: plt.show()\n",
    "if save_figure: plt.savefig(f'{file_save_path}{exp_id}_{method_string}_shuffled_label_data.png')"
   ]
  },
  {
   "cell_type": "code",
   "execution_count": 72,
   "metadata": {},
   "outputs": [
    {
     "data": {
      "text/plain": [
       "3.7952337708838777"
      ]
     },
     "execution_count": 72,
     "metadata": {},
     "output_type": "execute_result"
    }
   ],
   "source": [
    "# take the top 5% of scores as the threshold for feature selection\n",
    "# remove nan first\n",
    "all_scores = [score for score in all_scores if not np.isnan(score)]\n",
    "threshold = np.percentile(all_scores, 95)\n",
    "threshold"
   ]
  },
  {
   "cell_type": "code",
   "execution_count": null,
   "metadata": {},
   "outputs": [],
   "source": [
    "selected, scores = method(feature_data, label_data, feature_size, **method_kwargs)\n",
    "df = build_dataframe(selected, scores, feature_data)"
   ]
  },
  {
   "cell_type": "code",
   "execution_count": null,
   "metadata": {},
   "outputs": [],
   "source": [
    "# select features with scores above the threshold\n",
    "df_above_threshold = df[df['Scores'] > threshold]\n",
    "df_above_threshold\n",
    "# save f_df_above_threshold to pkl file \n",
    "if save_data: df_above_threshold.to_pickle(f'{file_save_path}{exp_id}_{method_string}_above_threshold.pkl')"
   ]
  },
  {
   "cell_type": "code",
   "execution_count": null,
   "metadata": {},
   "outputs": [],
   "source": [
    "df_above_threshold.shape"
   ]
  },
  {
   "cell_type": "markdown",
   "metadata": {},
   "source": [
    "### Pearson Correlation"
   ]
  },
  {
   "cell_type": "code",
   "execution_count": null,
   "metadata": {},
   "outputs": [],
   "source": [
    "method = pearson_corr_select\n",
    "method_string = 'pearson_correlation'\n",
    "method_kwargs = {'return_all': False}\n",
    "\n",
    "all_scores = get_shuffled_scores(shuffled_label_data, feature_data, method, method_kwargs)\n",
    "\n",
    "\n",
    "all_scores = [score for score in all_scores if not np.isnan(score)]\n",
    "upper_threshold = np.percentile(all_scores, 97.5)\n",
    "lower_threshold = np.percentile(all_scores, 2.5)\n",
    "print(upper_threshold, lower_threshold)\n",
    "\n",
    "\n",
    "# set plot size\n",
    "plt.figure(figsize=(12, 6))\n",
    "sns.histplot(all_scores, bins=20, kde=True)\n",
    "plt.xlabel(f'{method_string} Score')\n",
    "plt.ylabel('Frequency')\n",
    "plt.title(f'{method_string} Score Distribution for Shuffled Label Data')\n",
    "if show_figure: plt.show()\n",
    "if save_figure: plt.savefig(f'{file_save_path}{exp_id}_{method_string}_shuffled_label_data.png')"
   ]
  },
  {
   "cell_type": "code",
   "execution_count": null,
   "metadata": {},
   "outputs": [],
   "source": [
    "selected, scores = method(feature_data, label_data, feature_size, **method_kwargs)\n",
    "df = build_dataframe(selected, scores, feature_data)"
   ]
  },
  {
   "cell_type": "code",
   "execution_count": null,
   "metadata": {},
   "outputs": [],
   "source": [
    "# select features with scores above the threshold\n",
    "# filter nan values\n",
    "df = df.dropna()\n",
    "df_above_threshold = df[df['Scores'] > upper_threshold]\n",
    "df_below_threshold = df[df['Scores'] < lower_threshold]\n",
    "# join the two dataframes\n",
    "df_above_threshold = pd.concat([df_above_threshold, df_below_threshold])\n",
    "\n",
    "# save f_df_above_threshold to pkl file \n",
    "if save_data: df_above_threshold.to_pickle(f'{file_save_path}{exp_id}_{method_string}_above_threshold.pkl')"
   ]
  },
  {
   "cell_type": "code",
   "execution_count": null,
   "metadata": {},
   "outputs": [],
   "source": [
    "df_above_threshold.shape"
   ]
  },
  {
   "cell_type": "markdown",
   "metadata": {},
   "source": [
    "### Mutual Information "
   ]
  },
  {
   "cell_type": "code",
   "execution_count": 38,
   "metadata": {},
   "outputs": [
    {
     "name": "stdout",
     "output_type": "stream",
     "text": [
      "Finished 1 out of 25 chunks\n",
      "Finished 2 out of 25 chunks\n",
      "Finished 3 out of 25 chunks\n",
      "Finished 4 out of 25 chunks\n",
      "Finished 5 out of 25 chunks\n",
      "Finished 6 out of 25 chunks\n",
      "Finished 7 out of 25 chunks\n",
      "Finished 8 out of 25 chunks\n",
      "Finished 9 out of 25 chunks\n",
      "Finished 10 out of 25 chunks\n",
      "Finished 11 out of 25 chunks\n",
      "Finished 12 out of 25 chunks\n",
      "Finished 13 out of 25 chunks\n",
      "Finished 14 out of 25 chunks\n",
      "Finished 15 out of 25 chunks\n",
      "Finished 16 out of 25 chunks\n",
      "Finished 17 out of 25 chunks\n",
      "Finished 18 out of 25 chunks\n",
      "Finished 19 out of 25 chunks\n",
      "Finished 20 out of 25 chunks\n",
      "Finished 21 out of 25 chunks\n",
      "Finished 22 out of 25 chunks\n",
      "Finished 23 out of 25 chunks\n",
      "Finished 24 out of 25 chunks\n",
      "Finished 25 out of 25 chunks\n"
     ]
    },
    {
     "data": {
      "image/png": "[encoded data removed]",
      "text/plain": [
       "<Figure size 1200x600 with 1 Axes>"
      ]
     },
     "metadata": {},
     "output_type": "display_data"
    },
    {
     "name": "stdout",
     "output_type": "stream",
     "text": [
      "Saved range1000_nml_mutual_information_all_shuffled_label_data.pkl\n"
     ]
    },
    {
     "data": {
      "text/plain": [
       "<Figure size 640x480 with 0 Axes>"
      ]
     },
     "metadata": {},
     "output_type": "display_data"
    }
   ],
   "source": [
    "# do it for all shuffled label data, join the scores and plot histogram distribution of scores \n",
    "\n",
    "import matplotlib.pyplot as plt\n",
    "import seaborn as sns\n",
    "\n",
    "method = mutual_information_select\n",
    "method_string = 'mutual_information'\n",
    "method_kwargs = {}\n",
    "\n",
    "all_scores = get_shuffled_scores(shuffled_label_data, feature_data, method, method_kwargs, verbose=1, n_jobs=-1)\n",
    "\n",
    "# set plot size\n",
    "plt.figure(figsize=(12, 6))\n",
    "sns.histplot(all_scores, bins=20, kde=True)\n",
    "plt.xlabel(f'{method_string} Score')\n",
    "plt.ylabel('Frequency')\n",
    "plt.title(f'{method_string} Score Distribution for Shuffled Label Data')\n",
    "if show_figure: plt.show()\n",
    "if save_figure: plt.savefig(f'{file_save_path}{exp_id}_{method_string}_shuffled_label_data.png')\n",
    "if save_data:\n",
    "    # use pickle to save all_scores\n",
    "    with open(f'{file_save_path}{exp_id}_{method_string}_all_shuffled_label_data.pkl', 'wb') as f:\n",
    "        pickle.dump(all_scores, f)\n",
    "    print(f'Saved {exp_id}_{method_string}_all_shuffled_label_data.pkl')"
   ]
  },
  {
   "cell_type": "markdown",
   "metadata": {},
   "source": [
    "### Relieff"
   ]
  },
  {
   "cell_type": "code",
   "execution_count": 14,
   "metadata": {},
   "outputs": [
    {
     "name": "stdout",
     "output_type": "stream",
     "text": [
      "Finished 1 out of 25 chunks\n",
      "Finished 2 out of 25 chunks\n",
      "Finished 3 out of 25 chunks\n",
      "Finished 4 out of 25 chunks\n",
      "Finished 5 out of 25 chunks\n",
      "Finished 6 out of 25 chunks\n",
      "Finished 7 out of 25 chunks\n",
      "Finished 8 out of 25 chunks\n",
      "Finished 9 out of 25 chunks\n",
      "Finished 10 out of 25 chunks\n",
      "Finished 11 out of 25 chunks\n",
      "Finished 12 out of 25 chunks\n",
      "Finished 13 out of 25 chunks\n",
      "Finished 14 out of 25 chunks\n",
      "Finished 15 out of 25 chunks\n",
      "Finished 16 out of 25 chunks\n",
      "Finished 17 out of 25 chunks\n",
      "Finished 18 out of 25 chunks\n",
      "Finished 19 out of 25 chunks\n",
      "Finished 20 out of 25 chunks\n",
      "Finished 21 out of 25 chunks\n",
      "Finished 22 out of 25 chunks\n",
      "Finished 23 out of 25 chunks\n",
      "Finished 24 out of 25 chunks\n",
      "Finished 25 out of 25 chunks\n"
     ]
    },
    {
     "data": {
      "image/png": "[encoded data removed]",
      "text/plain": [
       "<Figure size 1200x600 with 1 Axes>"
      ]
     },
     "metadata": {},
     "output_type": "display_data"
    },
    {
     "name": "stdout",
     "output_type": "stream",
     "text": [
      "Saved range1000_nml_relieff_all_shuffled_label_data.pkl\n"
     ]
    },
    {
     "data": {
      "text/plain": [
       "<Figure size 640x480 with 0 Axes>"
      ]
     },
     "metadata": {},
     "output_type": "display_data"
    }
   ],
   "source": [
    "# do it for all shuffled label data, join the scores and plot histogram distribution of scores \n",
    "\n",
    "import pickle \n",
    "\n",
    "import matplotlib.pyplot as plt\n",
    "import seaborn as sns\n",
    "\n",
    "method = relieff_select\n",
    "method_string = 'relieff'\n",
    "method_kwargs = {}\n",
    "\n",
    "all_scores = get_shuffled_scores(shuffled_label_data, feature_data, method, method_kwargs, verbose=1, n_jobs=-1)\n",
    "\n",
    "# set plot size\n",
    "plt.figure(figsize=(12, 6))\n",
    "sns.histplot(all_scores, bins=20, kde=True)\n",
    "plt.xlabel(f'{method_string} Score')\n",
    "plt.ylabel('Frequency')``\n",
    "plt.title(f'{method_string} Score Distribution for Shuffled Label Data')\n",
    "if show_figure: plt.show()\n",
    "if save_figure: plt.savefig(f'{file_save_path}{exp_id}_{method_string}_shuffled_label_data.png')\n",
    "if save_data: \n",
    "    # use pickle to save all_scores \n",
    "    with open(f'{file_save_path}{exp_id}_{method_string}_all_shuffled_label_data.pkl', 'wb') as f:\n",
    "        pickle.dump(all_scores, f)\n",
    "    print(f'Saved {exp_id}_{method_string}_all_shuffled_label_data.pkl')"
   ]
  },
  {
   "cell_type": "markdown",
   "metadata": {},
   "source": [
    "### Random Forest Embeddings "
   ]
  },
  {
   "cell_type": "code",
   "execution_count": 15,
   "metadata": {},
   "outputs": [
    {
     "name": "stdout",
     "output_type": "stream",
     "text": [
      "Finished 1 out of 25 chunks\n",
      "Finished 2 out of 25 chunks\n",
      "Finished 3 out of 25 chunks\n",
      "Finished 4 out of 25 chunks\n",
      "Finished 5 out of 25 chunks\n",
      "Finished 6 out of 25 chunks\n",
      "Finished 7 out of 25 chunks\n",
      "Finished 8 out of 25 chunks\n",
      "Finished 9 out of 25 chunks\n",
      "Finished 10 out of 25 chunks\n",
      "Finished 11 out of 25 chunks\n",
      "Finished 12 out of 25 chunks\n",
      "Finished 13 out of 25 chunks\n",
      "Finished 14 out of 25 chunks\n",
      "Finished 15 out of 25 chunks\n",
      "Finished 16 out of 25 chunks\n",
      "Finished 17 out of 25 chunks\n",
      "Finished 18 out of 25 chunks\n",
      "Finished 19 out of 25 chunks\n",
      "Finished 20 out of 25 chunks\n",
      "Finished 21 out of 25 chunks\n",
      "Finished 22 out of 25 chunks\n",
      "Finished 23 out of 25 chunks\n",
      "Finished 24 out of 25 chunks\n",
      "Finished 25 out of 25 chunks\n"
     ]
    },
    {
     "data": {
      "image/png": "[encoded data removed]",
      "text/plain": [
       "<Figure size 1200x600 with 1 Axes>"
      ]
     },
     "metadata": {},
     "output_type": "display_data"
    },
    {
     "name": "stdout",
     "output_type": "stream",
     "text": [
      "Saved range1000_nml_random_forest_all_shuffled_label_data.pkl\n"
     ]
    },
    {
     "data": {
      "text/plain": [
       "<Figure size 640x480 with 0 Axes>"
      ]
     },
     "metadata": {},
     "output_type": "display_data"
    }
   ],
   "source": [
    "# do it for all shuffled label data, join the scores and plot histogram distribution of scores \n",
    "\n",
    "import matplotlib.pyplot as plt\n",
    "import seaborn as sns\n",
    "\n",
    "method = rf_select\n",
    "method_string = 'random_forest'\n",
    "method_kwargs = {}\n",
    "\n",
    "all_scores = get_shuffled_scores(shuffled_label_data, feature_data, method, method_kwargs, n_jobs=-1)\n",
    "\n",
    "# set plot size\n",
    "plt.figure(figsize=(12, 6))\n",
    "sns.histplot(all_scores, bins=20, kde=True)\n",
    "plt.xlabel(f'{method_string} Score')\n",
    "plt.ylabel('Frequency')\n",
    "plt.title(f'{method_string} Score Distribution for Shuffled Label Data')\n",
    "if show_figure: plt.show()\n",
    "if save_figure: plt.savefig(f'{file_save_path}{exp_id}_{method_string}_shuffled_label_data.png')\n",
    "if save_data: \n",
    "    # use pickle to save all_scores \n",
    "    with open(f'{file_save_path}{exp_id}_{method_string}_all_shuffled_label_data.pkl', 'wb') as f:\n",
    "        pickle.dump(all_scores, f)\n",
    "    print(f'Saved {exp_id}_{method_string}_all_shuffled_label_data.pkl')"
   ]
  },
  {
   "cell_type": "markdown",
   "metadata": {},
   "source": [
    "### Loading Pickled Shuffled Label Data"
   ]
  },
  {
   "cell_type": "code",
   "execution_count": 96,
   "metadata": {},
   "outputs": [],
   "source": [
    "import pickle \n",
    "\n",
    "selection_method_strings = ['mutual_information', 'relieff', 'random_forest']\n",
    "all_shuffled_label_data = []\n",
    "\n",
    "for method_str in selection_method_strings:\n",
    "    with open(f'{file_save_path}{exp_id}_{method_str}_all_shuffled_label_data.pkl', 'rb') as f:\n",
    "        all_shuffled_label_data.append(pickle.load(f))"
   ]
  },
  {
   "cell_type": "code",
   "execution_count": 100,
   "metadata": {},
   "outputs": [],
   "source": [
    "thresholds = []"
   ]
  },
  {
   "cell_type": "code",
   "execution_count": 101,
   "metadata": {},
   "outputs": [
    {
     "data": {
      "text/plain": [
       "0.04088202356902659"
      ]
     },
     "execution_count": 101,
     "metadata": {},
     "output_type": "execute_result"
    }
   ],
   "source": [
    "## Mutual information \n",
    "\n",
    "all_scores = all_shuffled_label_data[0]\n",
    "all_scores = [score for score in all_scores if not np.isnan(score)]\n",
    "threshold = np.percentile(all_scores, 95)\n",
    "thresholds.append(threshold)\n",
    "threshold"
   ]
  },
  {
   "cell_type": "code",
   "execution_count": 102,
   "metadata": {},
   "outputs": [
    {
     "data": {
      "text/html": [
       "<div>\n",
       "<style scoped>\n",
       "    .dataframe tbody tr th:only-of-type {\n",
       "        vertical-align: middle;\n",
       "    }\n",
       "\n",
       "    .dataframe tbody tr th {\n",
       "        vertical-align: top;\n",
       "    }\n",
       "\n",
       "    .dataframe thead th {\n",
       "        text-align: right;\n",
       "    }\n",
       "</style>\n",
       "<table border=\"1\" class=\"dataframe\">\n",
       "  <thead>\n",
       "    <tr style=\"text-align: right;\">\n",
       "      <th></th>\n",
       "      <th>Selected</th>\n",
       "      <th>Scores</th>\n",
       "    </tr>\n",
       "  </thead>\n",
       "  <tbody>\n",
       "    <tr>\n",
       "      <th>FOXO_min</th>\n",
       "      <td>FOXO_min</td>\n",
       "      <td>0.098550</td>\n",
       "    </tr>\n",
       "    <tr>\n",
       "      <th>FOXO_tsv</th>\n",
       "      <td>FOXO_tsv</td>\n",
       "      <td>0.096417</td>\n",
       "    </tr>\n",
       "    <tr>\n",
       "      <th>FOXO_init</th>\n",
       "      <td>FOXO_init</td>\n",
       "      <td>0.070657</td>\n",
       "    </tr>\n",
       "    <tr>\n",
       "      <th>FOXO_auc</th>\n",
       "      <td>FOXO_auc</td>\n",
       "      <td>0.070053</td>\n",
       "    </tr>\n",
       "    <tr>\n",
       "      <th>aShp2_tfc</th>\n",
       "      <td>aShp2_tfc</td>\n",
       "      <td>0.069996</td>\n",
       "    </tr>\n",
       "    <tr>\n",
       "      <th>aRas_tfc</th>\n",
       "      <td>aRas_tfc</td>\n",
       "      <td>0.068776</td>\n",
       "    </tr>\n",
       "    <tr>\n",
       "      <th>PTP_tfc</th>\n",
       "      <td>PTP_tfc</td>\n",
       "      <td>0.067854</td>\n",
       "    </tr>\n",
       "    <tr>\n",
       "      <th>PIP3_init</th>\n",
       "      <td>PIP3_init</td>\n",
       "      <td>0.064249</td>\n",
       "    </tr>\n",
       "    <tr>\n",
       "      <th>PIP3_max</th>\n",
       "      <td>PIP3_max</td>\n",
       "      <td>0.064249</td>\n",
       "    </tr>\n",
       "    <tr>\n",
       "      <th>aGAB1_tfc</th>\n",
       "      <td>aGAB1_tfc</td>\n",
       "      <td>0.063907</td>\n",
       "    </tr>\n",
       "    <tr>\n",
       "      <th>aSos_min</th>\n",
       "      <td>aSos_min</td>\n",
       "      <td>0.061756</td>\n",
       "    </tr>\n",
       "    <tr>\n",
       "      <th>FOXO_max</th>\n",
       "      <td>FOXO_max</td>\n",
       "      <td>0.060596</td>\n",
       "    </tr>\n",
       "    <tr>\n",
       "      <th>pFGFR4_tfc</th>\n",
       "      <td>pFGFR4_tfc</td>\n",
       "      <td>0.059368</td>\n",
       "    </tr>\n",
       "    <tr>\n",
       "      <th>pSPRY2_min</th>\n",
       "      <td>pSPRY2_min</td>\n",
       "      <td>0.057965</td>\n",
       "    </tr>\n",
       "    <tr>\n",
       "      <th>aRas_auc</th>\n",
       "      <td>aRas_auc</td>\n",
       "      <td>0.057371</td>\n",
       "    </tr>\n",
       "    <tr>\n",
       "      <th>pMEK_init</th>\n",
       "      <td>pMEK_init</td>\n",
       "      <td>0.056497</td>\n",
       "    </tr>\n",
       "    <tr>\n",
       "      <th>pMEK_max</th>\n",
       "      <td>pMEK_max</td>\n",
       "      <td>0.056497</td>\n",
       "    </tr>\n",
       "    <tr>\n",
       "      <th>aGrb2_tfc</th>\n",
       "      <td>aGrb2_tfc</td>\n",
       "      <td>0.055641</td>\n",
       "    </tr>\n",
       "    <tr>\n",
       "      <th>aRaf_auc</th>\n",
       "      <td>aRaf_auc</td>\n",
       "      <td>0.055199</td>\n",
       "    </tr>\n",
       "    <tr>\n",
       "      <th>aPDK1_min</th>\n",
       "      <td>aPDK1_min</td>\n",
       "      <td>0.054096</td>\n",
       "    </tr>\n",
       "    <tr>\n",
       "      <th>pFGFR4_min</th>\n",
       "      <td>pFGFR4_min</td>\n",
       "      <td>0.053646</td>\n",
       "    </tr>\n",
       "    <tr>\n",
       "      <th>pFGFR4_init</th>\n",
       "      <td>pFGFR4_init</td>\n",
       "      <td>0.053646</td>\n",
       "    </tr>\n",
       "    <tr>\n",
       "      <th>pS6K_tfc</th>\n",
       "      <td>pS6K_tfc</td>\n",
       "      <td>0.049786</td>\n",
       "    </tr>\n",
       "    <tr>\n",
       "      <th>aPDK1_tfc</th>\n",
       "      <td>aPDK1_tfc</td>\n",
       "      <td>0.048777</td>\n",
       "    </tr>\n",
       "    <tr>\n",
       "      <th>pERK_median</th>\n",
       "      <td>pERK_median</td>\n",
       "      <td>0.048380</td>\n",
       "    </tr>\n",
       "    <tr>\n",
       "      <th>aPDK1_init</th>\n",
       "      <td>aPDK1_init</td>\n",
       "      <td>0.047437</td>\n",
       "    </tr>\n",
       "    <tr>\n",
       "      <th>pIRS_tfc</th>\n",
       "      <td>pIRS_tfc</td>\n",
       "      <td>0.046871</td>\n",
       "    </tr>\n",
       "    <tr>\n",
       "      <th>aPI3K_tfc</th>\n",
       "      <td>aPI3K_tfc</td>\n",
       "      <td>0.046776</td>\n",
       "    </tr>\n",
       "    <tr>\n",
       "      <th>PTP_median</th>\n",
       "      <td>PTP_median</td>\n",
       "      <td>0.046381</td>\n",
       "    </tr>\n",
       "    <tr>\n",
       "      <th>aGAB1_median</th>\n",
       "      <td>aGAB1_median</td>\n",
       "      <td>0.045818</td>\n",
       "    </tr>\n",
       "    <tr>\n",
       "      <th>SPRY2_tfc</th>\n",
       "      <td>SPRY2_tfc</td>\n",
       "      <td>0.045804</td>\n",
       "    </tr>\n",
       "    <tr>\n",
       "      <th>FOXO_median</th>\n",
       "      <td>FOXO_median</td>\n",
       "      <td>0.045155</td>\n",
       "    </tr>\n",
       "    <tr>\n",
       "      <th>amTORC1_ttsv</th>\n",
       "      <td>amTORC1_ttsv</td>\n",
       "      <td>0.045083</td>\n",
       "    </tr>\n",
       "    <tr>\n",
       "      <th>PIP3_median</th>\n",
       "      <td>PIP3_median</td>\n",
       "      <td>0.042758</td>\n",
       "    </tr>\n",
       "    <tr>\n",
       "      <th>pAkt_auc</th>\n",
       "      <td>pAkt_auc</td>\n",
       "      <td>0.042327</td>\n",
       "    </tr>\n",
       "    <tr>\n",
       "      <th>amTORC1_min</th>\n",
       "      <td>amTORC1_min</td>\n",
       "      <td>0.041852</td>\n",
       "    </tr>\n",
       "    <tr>\n",
       "      <th>PIP3_min</th>\n",
       "      <td>PIP3_min</td>\n",
       "      <td>0.041320</td>\n",
       "    </tr>\n",
       "    <tr>\n",
       "      <th>pERBB_init</th>\n",
       "      <td>pERBB_init</td>\n",
       "      <td>0.041045</td>\n",
       "    </tr>\n",
       "  </tbody>\n",
       "</table>\n",
       "</div>"
      ],
      "text/plain": [
       "                  Selected    Scores\n",
       "FOXO_min          FOXO_min  0.098550\n",
       "FOXO_tsv          FOXO_tsv  0.096417\n",
       "FOXO_init        FOXO_init  0.070657\n",
       "FOXO_auc          FOXO_auc  0.070053\n",
       "aShp2_tfc        aShp2_tfc  0.069996\n",
       "aRas_tfc          aRas_tfc  0.068776\n",
       "PTP_tfc            PTP_tfc  0.067854\n",
       "PIP3_init        PIP3_init  0.064249\n",
       "PIP3_max          PIP3_max  0.064249\n",
       "aGAB1_tfc        aGAB1_tfc  0.063907\n",
       "aSos_min          aSos_min  0.061756\n",
       "FOXO_max          FOXO_max  0.060596\n",
       "pFGFR4_tfc      pFGFR4_tfc  0.059368\n",
       "pSPRY2_min      pSPRY2_min  0.057965\n",
       "aRas_auc          aRas_auc  0.057371\n",
       "pMEK_init        pMEK_init  0.056497\n",
       "pMEK_max          pMEK_max  0.056497\n",
       "aGrb2_tfc        aGrb2_tfc  0.055641\n",
       "aRaf_auc          aRaf_auc  0.055199\n",
       "aPDK1_min        aPDK1_min  0.054096\n",
       "pFGFR4_min      pFGFR4_min  0.053646\n",
       "pFGFR4_init    pFGFR4_init  0.053646\n",
       "pS6K_tfc          pS6K_tfc  0.049786\n",
       "aPDK1_tfc        aPDK1_tfc  0.048777\n",
       "pERK_median    pERK_median  0.048380\n",
       "aPDK1_init      aPDK1_init  0.047437\n",
       "pIRS_tfc          pIRS_tfc  0.046871\n",
       "aPI3K_tfc        aPI3K_tfc  0.046776\n",
       "PTP_median      PTP_median  0.046381\n",
       "aGAB1_median  aGAB1_median  0.045818\n",
       "SPRY2_tfc        SPRY2_tfc  0.045804\n",
       "FOXO_median    FOXO_median  0.045155\n",
       "amTORC1_ttsv  amTORC1_ttsv  0.045083\n",
       "PIP3_median    PIP3_median  0.042758\n",
       "pAkt_auc          pAkt_auc  0.042327\n",
       "amTORC1_min    amTORC1_min  0.041852\n",
       "PIP3_min          PIP3_min  0.041320\n",
       "pERBB_init      pERBB_init  0.041045"
      ]
     },
     "execution_count": 102,
     "metadata": {},
     "output_type": "execute_result"
    }
   ],
   "source": [
    "method = mutual_information_select\n",
    "method_string = 'mutual_information'\n",
    "method_kwargs = {}\n",
    " \n",
    "selected, scores = method(feature_data, label_data, feature_size, **method_kwargs)\n",
    "df = build_dataframe(selected, scores, feature_data)\n",
    "# select features with scores above the threshold\n",
    "df_above_threshold = df[df['Scores'] > threshold]\n",
    "df_above_threshold"
   ]
  },
  {
   "cell_type": "code",
   "execution_count": 103,
   "metadata": {},
   "outputs": [
    {
     "data": {
      "text/plain": [
       "(38, 2)"
      ]
     },
     "execution_count": 103,
     "metadata": {},
     "output_type": "execute_result"
    }
   ],
   "source": [
    "df_above_threshold.shape\n"
   ]
  },
  {
   "cell_type": "code",
   "execution_count": 104,
   "metadata": {},
   "outputs": [],
   "source": [
    "# save f_df_above_threshold to pkl file\n",
    "if save_data: df_above_threshold.to_pickle(f'{file_save_path}{exp_id}_{method_string}_above_threshold.pkl')"
   ]
  },
  {
   "cell_type": "code",
   "execution_count": 93,
   "metadata": {},
   "outputs": [
    {
     "data": {
      "text/plain": [
       "13.685458855900642"
      ]
     },
     "execution_count": 93,
     "metadata": {},
     "output_type": "execute_result"
    }
   ],
   "source": [
    "# Relieff\n",
    "\n",
    "all_scores = all_shuffled_label_data[1]\n",
    "all_scores = [score for score in all_scores if not np.isnan(score)]\n",
    "threshold = np.percentile(all_scores, 95)\n",
    "thresholds.append(threshold)\n",
    "threshold"
   ]
  },
  {
   "cell_type": "code",
   "execution_count": 105,
   "metadata": {},
   "outputs": [
    {
     "data": {
      "text/html": [
       "<div>\n",
       "<style scoped>\n",
       "    .dataframe tbody tr th:only-of-type {\n",
       "        vertical-align: middle;\n",
       "    }\n",
       "\n",
       "    .dataframe tbody tr th {\n",
       "        vertical-align: top;\n",
       "    }\n",
       "\n",
       "    .dataframe thead th {\n",
       "        text-align: right;\n",
       "    }\n",
       "</style>\n",
       "<table border=\"1\" class=\"dataframe\">\n",
       "  <thead>\n",
       "    <tr style=\"text-align: right;\">\n",
       "      <th></th>\n",
       "      <th>Selected</th>\n",
       "      <th>Scores</th>\n",
       "    </tr>\n",
       "  </thead>\n",
       "  <tbody>\n",
       "    <tr>\n",
       "      <th>pERK_max</th>\n",
       "      <td>174</td>\n",
       "      <td>70.345429</td>\n",
       "    </tr>\n",
       "    <tr>\n",
       "      <th>pERK_init</th>\n",
       "      <td>179</td>\n",
       "      <td>70.345429</td>\n",
       "    </tr>\n",
       "    <tr>\n",
       "      <th>FOXO_median</th>\n",
       "      <td>241</td>\n",
       "      <td>20.265446</td>\n",
       "    </tr>\n",
       "    <tr>\n",
       "      <th>FOXO_auc</th>\n",
       "      <td>240</td>\n",
       "      <td>16.859794</td>\n",
       "    </tr>\n",
       "    <tr>\n",
       "      <th>aGrb2_tsv</th>\n",
       "      <td>88</td>\n",
       "      <td>11.968308</td>\n",
       "    </tr>\n",
       "    <tr>\n",
       "      <th>aGrb2_max</th>\n",
       "      <td>84</td>\n",
       "      <td>11.968122</td>\n",
       "    </tr>\n",
       "    <tr>\n",
       "      <th>aGrb2_median</th>\n",
       "      <td>81</td>\n",
       "      <td>11.801066</td>\n",
       "    </tr>\n",
       "    <tr>\n",
       "      <th>aGrb2_init</th>\n",
       "      <td>89</td>\n",
       "      <td>11.585138</td>\n",
       "    </tr>\n",
       "    <tr>\n",
       "      <th>aGrb2_min</th>\n",
       "      <td>86</td>\n",
       "      <td>11.210627</td>\n",
       "    </tr>\n",
       "    <tr>\n",
       "      <th>aGrb2_auc</th>\n",
       "      <td>80</td>\n",
       "      <td>10.868336</td>\n",
       "    </tr>\n",
       "    <tr>\n",
       "      <th>pERK_auc</th>\n",
       "      <td>170</td>\n",
       "      <td>6.464946</td>\n",
       "    </tr>\n",
       "    <tr>\n",
       "      <th>pERK_median</th>\n",
       "      <td>171</td>\n",
       "      <td>4.372622</td>\n",
       "    </tr>\n",
       "    <tr>\n",
       "      <th>SPRY2_tfc</th>\n",
       "      <td>202</td>\n",
       "      <td>4.021665</td>\n",
       "    </tr>\n",
       "    <tr>\n",
       "      <th>pERK_tsv</th>\n",
       "      <td>178</td>\n",
       "      <td>3.522360</td>\n",
       "    </tr>\n",
       "    <tr>\n",
       "      <th>pERK_min</th>\n",
       "      <td>176</td>\n",
       "      <td>3.259451</td>\n",
       "    </tr>\n",
       "    <tr>\n",
       "      <th>PIP3_tfc</th>\n",
       "      <td>62</td>\n",
       "      <td>2.998364</td>\n",
       "    </tr>\n",
       "    <tr>\n",
       "      <th>pIGFR_tfc</th>\n",
       "      <td>12</td>\n",
       "      <td>2.924142</td>\n",
       "    </tr>\n",
       "    <tr>\n",
       "      <th>pS6K_min</th>\n",
       "      <td>116</td>\n",
       "      <td>2.069051</td>\n",
       "    </tr>\n",
       "    <tr>\n",
       "      <th>aShp2_min</th>\n",
       "      <td>136</td>\n",
       "      <td>2.007447</td>\n",
       "    </tr>\n",
       "    <tr>\n",
       "      <th>aRas_init</th>\n",
       "      <td>149</td>\n",
       "      <td>1.970188</td>\n",
       "    </tr>\n",
       "    <tr>\n",
       "      <th>aShp2_init</th>\n",
       "      <td>139</td>\n",
       "      <td>1.909473</td>\n",
       "    </tr>\n",
       "    <tr>\n",
       "      <th>FOXO_tfc</th>\n",
       "      <td>242</td>\n",
       "      <td>1.015402</td>\n",
       "    </tr>\n",
       "    <tr>\n",
       "      <th>PTP_max</th>\n",
       "      <td>224</td>\n",
       "      <td>0.870248</td>\n",
       "    </tr>\n",
       "    <tr>\n",
       "      <th>PTP_init</th>\n",
       "      <td>229</td>\n",
       "      <td>0.870248</td>\n",
       "    </tr>\n",
       "    <tr>\n",
       "      <th>pFRS2_max</th>\n",
       "      <td>74</td>\n",
       "      <td>0.622349</td>\n",
       "    </tr>\n",
       "    <tr>\n",
       "      <th>pFRS2_tsv</th>\n",
       "      <td>78</td>\n",
       "      <td>0.608393</td>\n",
       "    </tr>\n",
       "    <tr>\n",
       "      <th>aGAB1_min</th>\n",
       "      <td>186</td>\n",
       "      <td>0.603944</td>\n",
       "    </tr>\n",
       "    <tr>\n",
       "      <th>pFGFR4_tfc</th>\n",
       "      <td>22</td>\n",
       "      <td>0.373805</td>\n",
       "    </tr>\n",
       "    <tr>\n",
       "      <th>amTORC2_tfc</th>\n",
       "      <td>252</td>\n",
       "      <td>0.371688</td>\n",
       "    </tr>\n",
       "    <tr>\n",
       "      <th>PTP_auc</th>\n",
       "      <td>220</td>\n",
       "      <td>0.361197</td>\n",
       "    </tr>\n",
       "    <tr>\n",
       "      <th>PTP_median</th>\n",
       "      <td>221</td>\n",
       "      <td>0.320617</td>\n",
       "    </tr>\n",
       "    <tr>\n",
       "      <th>pFRS2_median</th>\n",
       "      <td>71</td>\n",
       "      <td>0.317045</td>\n",
       "    </tr>\n",
       "    <tr>\n",
       "      <th>aRas_min</th>\n",
       "      <td>146</td>\n",
       "      <td>0.289967</td>\n",
       "    </tr>\n",
       "    <tr>\n",
       "      <th>pFRS2_auc</th>\n",
       "      <td>70</td>\n",
       "      <td>0.240503</td>\n",
       "    </tr>\n",
       "    <tr>\n",
       "      <th>PTP_min</th>\n",
       "      <td>226</td>\n",
       "      <td>0.230344</td>\n",
       "    </tr>\n",
       "    <tr>\n",
       "      <th>PTP_tsv</th>\n",
       "      <td>228</td>\n",
       "      <td>0.222666</td>\n",
       "    </tr>\n",
       "    <tr>\n",
       "      <th>FOXO_tmin</th>\n",
       "      <td>245</td>\n",
       "      <td>0.157629</td>\n",
       "    </tr>\n",
       "    <tr>\n",
       "      <th>aGAB1_max</th>\n",
       "      <td>184</td>\n",
       "      <td>0.154558</td>\n",
       "    </tr>\n",
       "    <tr>\n",
       "      <th>aGAB1_tsv</th>\n",
       "      <td>188</td>\n",
       "      <td>0.149640</td>\n",
       "    </tr>\n",
       "    <tr>\n",
       "      <th>pFRS2_init</th>\n",
       "      <td>79</td>\n",
       "      <td>0.146253</td>\n",
       "    </tr>\n",
       "    <tr>\n",
       "      <th>pIGFR_tsv</th>\n",
       "      <td>18</td>\n",
       "      <td>0.105887</td>\n",
       "    </tr>\n",
       "    <tr>\n",
       "      <th>aRas_ttsv</th>\n",
       "      <td>147</td>\n",
       "      <td>0.095181</td>\n",
       "    </tr>\n",
       "    <tr>\n",
       "      <th>aShp2_ttsv</th>\n",
       "      <td>137</td>\n",
       "      <td>0.060203</td>\n",
       "    </tr>\n",
       "    <tr>\n",
       "      <th>aCbl_tfc</th>\n",
       "      <td>232</td>\n",
       "      <td>0.052925</td>\n",
       "    </tr>\n",
       "    <tr>\n",
       "      <th>aPDK1_ttsv</th>\n",
       "      <td>97</td>\n",
       "      <td>0.048536</td>\n",
       "    </tr>\n",
       "    <tr>\n",
       "      <th>pIGFR_median</th>\n",
       "      <td>11</td>\n",
       "      <td>0.044661</td>\n",
       "    </tr>\n",
       "  </tbody>\n",
       "</table>\n",
       "</div>"
      ],
      "text/plain": [
       "              Selected     Scores\n",
       "pERK_max           174  70.345429\n",
       "pERK_init          179  70.345429\n",
       "FOXO_median        241  20.265446\n",
       "FOXO_auc           240  16.859794\n",
       "aGrb2_tsv           88  11.968308\n",
       "aGrb2_max           84  11.968122\n",
       "aGrb2_median        81  11.801066\n",
       "aGrb2_init          89  11.585138\n",
       "aGrb2_min           86  11.210627\n",
       "aGrb2_auc           80  10.868336\n",
       "pERK_auc           170   6.464946\n",
       "pERK_median        171   4.372622\n",
       "SPRY2_tfc          202   4.021665\n",
       "pERK_tsv           178   3.522360\n",
       "pERK_min           176   3.259451\n",
       "PIP3_tfc            62   2.998364\n",
       "pIGFR_tfc           12   2.924142\n",
       "pS6K_min           116   2.069051\n",
       "aShp2_min          136   2.007447\n",
       "aRas_init          149   1.970188\n",
       "aShp2_init         139   1.909473\n",
       "FOXO_tfc           242   1.015402\n",
       "PTP_max            224   0.870248\n",
       "PTP_init           229   0.870248\n",
       "pFRS2_max           74   0.622349\n",
       "pFRS2_tsv           78   0.608393\n",
       "aGAB1_min          186   0.603944\n",
       "pFGFR4_tfc          22   0.373805\n",
       "amTORC2_tfc        252   0.371688\n",
       "PTP_auc            220   0.361197\n",
       "PTP_median         221   0.320617\n",
       "pFRS2_median        71   0.317045\n",
       "aRas_min           146   0.289967\n",
       "pFRS2_auc           70   0.240503\n",
       "PTP_min            226   0.230344\n",
       "PTP_tsv            228   0.222666\n",
       "FOXO_tmin          245   0.157629\n",
       "aGAB1_max          184   0.154558\n",
       "aGAB1_tsv          188   0.149640\n",
       "pFRS2_init          79   0.146253\n",
       "pIGFR_tsv           18   0.105887\n",
       "aRas_ttsv          147   0.095181\n",
       "aShp2_ttsv         137   0.060203\n",
       "aCbl_tfc           232   0.052925\n",
       "aPDK1_ttsv          97   0.048536\n",
       "pIGFR_median        11   0.044661"
      ]
     },
     "execution_count": 105,
     "metadata": {},
     "output_type": "execute_result"
    }
   ],
   "source": [
    "method = relieff_select\n",
    "method_string = 'relieff'\n",
    "method_kwargs = {}\n",
    " \n",
    "selected, scores = method(feature_data, label_data, feature_size, **method_kwargs)\n",
    "df = build_dataframe(selected, scores, feature_data)\n",
    "# select features with scores above the threshold\n",
    "df_above_threshold = df[df['Scores'] > threshold]\n",
    "df_above_threshold"
   ]
  },
  {
   "cell_type": "code",
   "execution_count": null,
   "metadata": {},
   "outputs": [],
   "source": []
  },
  {
   "cell_type": "code",
   "execution_count": 94,
   "metadata": {},
   "outputs": [
    {
     "data": {
      "text/plain": [
       "0.012278332732406728"
      ]
     },
     "execution_count": 94,
     "metadata": {},
     "output_type": "execute_result"
    }
   ],
   "source": [
    "all_scores = all_shuffled_label_data[2]\n",
    "all_scores = [score for score in all_scores if not np.isnan(score)]\n",
    "threshold = np.percentile(all_scores, 95)\n",
    "thresholds.append(threshold)\n",
    "threshold"
   ]
  },
  {
   "cell_type": "markdown",
   "metadata": {},
   "source": [
    "### Union of all methods"
   ]
  },
  {
   "cell_type": "code",
   "execution_count": null,
   "metadata": {},
   "outputs": [],
   "source": [
    "# load from pkl file\n",
    "methods = ['f_regression', 'pearson_correlation']\n",
    "df_above_threshold_list = []\n",
    "for method in methods:\n",
    "    df_above_threshold = pd.read_pickle(f'{file_save_path}{exp_id}_{method}_above_threshold.pkl')\n",
    "    df_above_threshold_list.append(df_above_threshold)\n",
    "\n",
    "union_labels = []\n",
    "for df in df_above_threshold_list:\n",
    "    union_labels.extend(df.index.tolist())\n",
    "\n",
    "# find out which labels are duplicated\n",
    "from collections import Counter\n",
    "label_counts = Counter(union_labels)\n",
    "duplicated_labels = [label for label, count in label_counts.items() if count > 1]\n",
    "print(duplicated_labels)\n",
    "unique_labels = [label for label, count in label_counts.items() if count == 1]\n",
    "print(unique_labels)\n",
    "\n",
    "union_labels = list(set(union_labels))\n",
    "len(union_labels)"
   ]
  }
 ],
 "metadata": {
  "kernelspec": {
   "display_name": "dynamic-marker",
   "language": "python",
   "name": "python3"
  },
  "language_info": {
   "codemirror_mode": {
    "name": "ipython",
    "version": 3
   },
   "file_extension": ".py",
   "mimetype": "text/x-python",
   "name": "python",
   "nbconvert_exporter": "python",
   "pygments_lexer": "ipython3",
   "version": "3.8.10"
  }
 },
 "nbformat": 4,
 "nbformat_minor": 2
}
