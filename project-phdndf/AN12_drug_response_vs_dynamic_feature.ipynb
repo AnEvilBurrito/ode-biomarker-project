{
 "cells": [
  {
   "cell_type": "markdown",
   "metadata": {},
   "source": [
    "# Drug response Correlation to Dynamic Features "
   ]
  },
  {
   "cell_type": "markdown",
   "metadata": {},
   "source": [
    "## Initialisation"
   ]
  },
  {
   "cell_type": "code",
   "execution_count": 1,
   "metadata": {},
   "outputs": [
    {
     "name": "stdout",
     "output_type": "stream",
     "text": [
      "Project path set to: c:\\Github\\ode-biomarker-project\n"
     ]
    }
   ],
   "source": [
    "import os\n",
    "\n",
    "import numpy as np\n",
    "import pandas as pd\n",
    "\n",
    "path = os.getcwd()\n",
    "# find the string 'project' in the path, return index\n",
    "index_project = path.find('project')\n",
    "# slice the path from the index of 'project' to the end\n",
    "project_path = path[:index_project+7]\n",
    "# set the working directory\n",
    "os.chdir(project_path)\n",
    "print(f'Project path set to: {os.getcwd()}')"
   ]
  },
  {
   "cell_type": "code",
   "execution_count": 2,
   "metadata": {},
   "outputs": [],
   "source": [
    "# Bring in CCLE data\n",
    "from PathLoader import PathLoader\n",
    "from DataLink import DataLink\n",
    "path_loader = PathLoader('data_config.env', 'current_user.env')\n",
    "data_link = DataLink(path_loader, 'data_codes.csv')"
   ]
  },
  {
   "cell_type": "code",
   "execution_count": 3,
   "metadata": {},
   "outputs": [],
   "source": [
    "# load in original ccle data\n",
    "loading_code = 'generic-gdsc-1-FGFR_0939-LN_IC50-fgfr4_ccle_dynamic_features-true-Row'\n",
    "# generic-gdsc-{number}-{drug_name}-{target_label}-{dataset_name}-{replace_index}-{row_index}\n",
    "feature_data, label_data = data_link.get_data_using_code(loading_code)"
   ]
  },
  {
   "cell_type": "code",
   "execution_count": 4,
   "metadata": {},
   "outputs": [],
   "source": [
    "loading_code = 'fgfr4_ccle_dynamic_features_v2'\n",
    "dynamic_features = data_link.get_data_from_code(loading_code)"
   ]
  },
  {
   "cell_type": "code",
   "execution_count": 5,
   "metadata": {},
   "outputs": [],
   "source": [
    "# attempt load from loading code\n",
    "\n",
    "loading_code = 'fgfr4_model_raw_simulation'\n",
    "simulation_data = data_link.get_data_from_code(loading_code)"
   ]
  },
  {
   "cell_type": "code",
   "execution_count": 6,
   "metadata": {},
   "outputs": [],
   "source": [
    "# Import dynamic simulations\n",
    "from PathLoader import PathLoader\n",
    "from DataLink import DataLink\n",
    "path_loader = PathLoader('data_config.env', 'current_user.env')\n",
    "data_link = DataLink(path_loader, 'data_codes.csv')"
   ]
  },
  {
   "cell_type": "code",
   "execution_count": 16,
   "metadata": {},
   "outputs": [],
   "source": [
    "### Initialisation Data \n",
    "dynamic_feature = data_link.get_data_from_code('fgfr4_ccle_dynamic_features_v2')\n",
    "ccle_data = data_link.get_data_from_code('ccle')\n",
    "\n",
    "# load in original ccle data\n",
    "loading_code = 'ccle-gdsc-1-FGFR_0939-LN_IC50-sin'\n",
    "feature_data, label_data = data_link.get_data_using_code(loading_code)\n",
    "\n",
    "match_rules_file = data_link.get_data_from_code('fgfr4_model_ccle_match_rules')\n",
    "match_rules_files_dropna = match_rules_file.dropna(subset=['reference'])\n",
    "match_rules_files_dropna_active_only = match_rules_files_dropna.loc[match_rules_files_dropna['is_active_form'] == True]\n",
    "\n",
    "# load in original ccle data\n",
    "loading_code = 'generic-gdsc-1-FGFR_0939-LN_IC50-fgfr4_ccle_dynamic_features_v2-true-Unnamed: 0'\n",
    "# generic-gdsc-{number}-{drug_name}-{target_label}-{dataset_name}-{replace_index}-{row_index}\n",
    "dynamic_feature_data, dynamic_label_data = data_link.get_data_using_code(loading_code)\n",
    "\n",
    "dynamic_feature_label = ['auc', 'median', 'tfc', 'tmax',\n",
    "                 'max', 'tmin', 'min', 'ttsv', 'tsv']\n",
    "\n",
    "\n",
    "### Options\n",
    "folder_name = 'FGFR4_dynamic_vs_drug_response'\n",
    "save_figure = True"
   ]
  },
  {
   "cell_type": "code",
   "execution_count": 17,
   "metadata": {},
   "outputs": [
    {
     "name": "stdout",
     "output_type": "stream",
     "text": [
      "(665, 260)\n",
      "(667, 19221)\n"
     ]
    }
   ],
   "source": [
    "print(dynamic_feature_data.shape)\n",
    "print(feature_data.shape)"
   ]
  },
  {
   "cell_type": "code",
   "execution_count": 18,
   "metadata": {},
   "outputs": [
    {
     "name": "stdout",
     "output_type": "stream",
     "text": [
      "(665, 19221)\n",
      "(665,)\n"
     ]
    }
   ],
   "source": [
    "# remove samples present in feature data but not in dynamic feature data\n",
    "new_feature_data = feature_data.loc[feature_data.index.isin(dynamic_feature_data.index)]\n",
    "new_label_data = label_data.loc[label_data.index.isin(dynamic_feature_data.index)]\n",
    "\n",
    "# check size \n",
    "print(new_feature_data.shape)\n",
    "print(new_label_data.shape)"
   ]
  },
  {
   "cell_type": "markdown",
   "metadata": {},
   "source": [
    "## Config"
   ]
  },
  {
   "cell_type": "code",
   "execution_count": 19,
   "metadata": {},
   "outputs": [
    {
     "name": "stdout",
     "output_type": "stream",
     "text": [
      "SPRY2 dynamic features vs LN_IC50 plotted\n",
      "PTP dynamic features vs LN_IC50 plotted\n",
      "FOXO dynamic features vs LN_IC50 plotted\n"
     ]
    }
   ],
   "source": [
    "from scipy.stats import pearsonr\n",
    "\n",
    "import matplotlib.pyplot as plt\n",
    "\n",
    "import os\n",
    "\n",
    "# ignore ConstantInputWarning\n",
    "import warnings\n",
    "from scipy.stats import ConstantInputWarning\n",
    "warnings.simplefilter('ignore', ConstantInputWarning)\n",
    "\n",
    "\n",
    "if not os.path.exists(f'{path_loader.get_data_path()}data/results/{folder_name}'):\n",
    "    os.makedirs(f'{path_loader.get_data_path()}data/results/{folder_name}')\n",
    "\n",
    "file_save_path = f'{path_loader.get_data_path()}data/results/{folder_name}/'\n",
    "\n",
    "species_ccle_matches = {}\n",
    "for i in range(len(match_rules_files_dropna_active_only)):\n",
    "    row = match_rules_files_dropna_active_only.iloc[i]\n",
    "    specie_name = row['specie']\n",
    "    ccle_matches = row['reference']\n",
    "    ccle_matches = ccle_matches.split(';')\n",
    "    species_ccle_matches[specie_name] = ccle_matches\n",
    "    \n",
    "feature_data = new_feature_data\n",
    "label_data = new_label_data\n",
    "    \n",
    "for s in species_ccle_matches:\n",
    "    dynamic_specie = s \n",
    "    gene_list = species_ccle_matches[s]\n",
    "    dynamic_features = dynamic_feature_data[[dynamic_specie + '_' + dynamic_feature for dynamic_feature in dynamic_feature_label]]\n",
    "    \n",
    "    fig, axes = plt.subplots(2, 5, figsize=(20, 8))\n",
    "\n",
    "    for i, dynamic_feature in enumerate(dynamic_feature_label):\n",
    "        ax = axes.flatten()[i]\n",
    "        label_data = dynamic_label_data\n",
    "        ax.scatter(dynamic_label_data, dynamic_features[dynamic_specie + '_' + dynamic_feature], alpha=0.5, s=10, color='purple')\n",
    "        \n",
    "        corr, p_val = pearsonr(dynamic_label_data, dynamic_features[dynamic_specie + '_' + dynamic_feature])\n",
    "        corr_str = f'{corr:.2f}' if p_val > 0.05 else f'{corr:.2f}*'\n",
    "        ax.text(0.05, 0.95, f'corr: {corr_str}', transform=ax.transAxes, fontsize=12,\n",
    "                verticalalignment='top', bbox=dict(boxstyle='round', facecolor='white', alpha=0.5))\n",
    "        # change the x and y axis labels size\n",
    "        ax.tick_params(axis='both', which='major', labelsize=12)\n",
    "        ax.set_xlabel('LN_IC50', fontsize=15)\n",
    "        ax.set_ylabel(dynamic_specie+'_'+dynamic_feature, fontsize=15)\n",
    "    \n",
    "    # the final 10th plot is the label data vs original feature data\n",
    "    ax = axes.flatten()[9]\n",
    "    for gene in gene_list:\n",
    "        gene_expression = feature_data[gene]\n",
    "        ax.scatter(dynamic_label_data, gene_expression, alpha=0.5, s=10, label=gene)\n",
    "    \n",
    "    gene_list_with_corr = []\n",
    "    for gene in gene_list:\n",
    "        gene_expression = feature_data[gene]\n",
    "        corr, p_val = pearsonr(dynamic_label_data, gene_expression)\n",
    "        corr_str = f'{corr:.2f}' if p_val > 0.05 else f'{corr:.2f}*'\n",
    "        gene_corr_string = f'{gene} corr: {corr_str}'\n",
    "        gene_list_with_corr.append(gene_corr_string)\n",
    "        \n",
    "    ax.legend(gene_list_with_corr, loc='upper left')\n",
    "    ax.set_xlabel('LN_IC50', fontsize=15)\n",
    "    ax.set_ylabel(dynamic_specie, fontsize=15)\n",
    "    plt.suptitle(f'{dynamic_specie} dynamic/original features vs LN_IC50 of Palbociclib', fontsize=20)\n",
    "    plt.tight_layout()\n",
    "    \n",
    "    # plt.show()\n",
    "    # break\n",
    "    if save_figure:\n",
    "        plt.savefig(f'{file_save_path}{dynamic_specie}_dynamic_features_vs_LN_IC50.png')    \n",
    "    # do not show the plot\n",
    "    plt.close()\n",
    "    print(f'{dynamic_specie} dynamic features vs LN_IC50 plotted')"
   ]
  }
 ],
 "metadata": {
  "kernelspec": {
   "display_name": "venv",
   "language": "python",
   "name": "python3"
  },
  "language_info": {
   "codemirror_mode": {
    "name": "ipython",
    "version": 3
   },
   "file_extension": ".py",
   "mimetype": "text/x-python",
   "name": "python",
   "nbconvert_exporter": "python",
   "pygments_lexer": "ipython3",
   "version": "3.8.10"
  }
 },
 "nbformat": 4,
 "nbformat_minor": 2
}
