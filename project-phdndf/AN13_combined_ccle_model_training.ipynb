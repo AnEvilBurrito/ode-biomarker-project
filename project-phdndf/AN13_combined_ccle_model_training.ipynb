{
 "cells": [
  {
   "cell_type": "markdown",
   "metadata": {},
   "source": [
    "# Combined CCLE Model Training\n",
    "\n",
    "This notebook combines the CCLE gene expression dataset with dynamic features and then is trained together"
   ]
  },
  {
   "cell_type": "markdown",
   "metadata": {},
   "source": [
    "## Initialisation"
   ]
  },
  {
   "cell_type": "code",
   "execution_count": 1,
   "metadata": {},
   "outputs": [
    {
     "name": "stdout",
     "output_type": "stream",
     "text": [
      "Project path set to: c:\\Github\\ode-biomarker-project\n"
     ]
    }
   ],
   "source": [
    "import os\n",
    "\n",
    "import numpy as np\n",
    "import pandas as pd\n",
    "\n",
    "path = os.getcwd()\n",
    "# find the string 'project' in the path, return index\n",
    "index_project = path.find('project')\n",
    "# slice the path from the index of 'project' to the end\n",
    "project_path = path[:index_project+7]\n",
    "# set the working directory\n",
    "os.chdir(project_path)\n",
    "print(f'Project path set to: {os.getcwd()}')"
   ]
  },
  {
   "cell_type": "code",
   "execution_count": 2,
   "metadata": {},
   "outputs": [],
   "source": [
    "# Bring in CCLE data\n",
    "from PathLoader import PathLoader\n",
    "from DataLink import DataLink\n",
    "path_loader = PathLoader('data_config.env', 'current_user.env')\n",
    "data_link = DataLink(path_loader, 'data_codes.csv')"
   ]
  },
  {
   "cell_type": "code",
   "execution_count": 3,
   "metadata": {},
   "outputs": [],
   "source": [
    "dynamic_data_code = 'fgfr4_ccle_dynamic_features_v2'\n",
    "drug_code = 'gdsc-1-FGFR_0939'\n",
    "match_rules_data_code = 'fgfr4_model_ccle_match_rules'\n",
    "folder_name = \"FGFR4-combined-model-training\"\n",
    "exp_id = \"fgfr4_v3\" # experiment id, fgfr4_v1, cdk46_v1\n",
    "normalised = True\n",
    "fixed_random_seed = 42  # -1 for no seed, NOT IN USE\n",
    "save_figure = False\n",
    "save_data = True\n",
    "show_figure = False"
   ]
  },
  {
   "cell_type": "code",
   "execution_count": 4,
   "metadata": {},
   "outputs": [
    {
     "name": "stdout",
     "output_type": "stream",
     "text": [
      "Data loaded for code generic-gdsc-1-FGFR_0939-LN_IC50-fgfr4_ccle_dynamic_features_v2-true-Unnamed: 0 Feature Shape (665, 260) Label Shape (665,)\n",
      "Data loaded for code ccle-gdsc-1-FGFR_0939-LN_IC50 Feature Shape (667, 19221) Label Shape (667,)\n"
     ]
    }
   ],
   "source": [
    "# load in dynamic features data \n",
    "loading_code = f'generic-{drug_code}-LN_IC50-{dynamic_data_code}-true-Unnamed: 0'\n",
    "# generic-gdsc-{number}-{drug_name}-{target_label}-{dataset_name}-{replace_index}-{row_index}\n",
    "dynamic_feature_data, dynamic_label_data = data_link.get_data_using_code(loading_code)\n",
    "print(f'Data loaded for code {loading_code} Feature Shape {dynamic_feature_data.shape} Label Shape {dynamic_label_data.shape}')\n",
    "\n",
    "# load in ccle static gene expression data\n",
    "loading_code = f'ccle-{drug_code}-LN_IC50'\n",
    "feature_data, label_data = data_link.get_data_using_code(loading_code)\n",
    "print(f'Data loaded for code {loading_code} Feature Shape {feature_data.shape} Label Shape {label_data.shape}')\n",
    "\n",
    "match_rules = data_link.get_data_from_code(match_rules_data_code)"
   ]
  },
  {
   "cell_type": "code",
   "execution_count": 5,
   "metadata": {},
   "outputs": [
    {
     "name": "stderr",
     "output_type": "stream",
     "text": [
      "IProgress not found. Please update jupyter and ipywidgets. See https://ipywidgets.readthedocs.io/en/stable/user_install.html\n"
     ]
    }
   ],
   "source": [
    "from toolkit import *"
   ]
  },
  {
   "cell_type": "code",
   "execution_count": 6,
   "metadata": {},
   "outputs": [],
   "source": [
    "all_models = ['SVR', 'RandomForestRegressor', 'XGBRegressor', 'MLPRegressor', 'KNeighborsRegressor', 'ElasticNet']\n",
    "\n",
    "if not os.path.exists(f'{path_loader.get_data_path()}data/results/{folder_name}'):\n",
    "    os.makedirs(f'{path_loader.get_data_path()}data/results/{folder_name}')\n",
    "\n",
    "file_save_path = f'{path_loader.get_data_path()}data/results/{folder_name}/'"
   ]
  },
  {
   "cell_type": "code",
   "execution_count": 7,
   "metadata": {},
   "outputs": [
    {
     "name": "stdout",
     "output_type": "stream",
     "text": [
      "(665, 19221)\n",
      "(665,)\n"
     ]
    }
   ],
   "source": [
    "# remove samples present in feature data but not in dynamic feature data\n",
    "new_feature_data = feature_data.loc[feature_data.index.isin(dynamic_feature_data.index)]\n",
    "new_label_data = label_data.loc[label_data.index.isin(dynamic_feature_data.index)]\n",
    "\n",
    "# check size \n",
    "print(new_feature_data.shape)\n",
    "print(new_label_data.shape)"
   ]
  },
  {
   "cell_type": "code",
   "execution_count": 8,
   "metadata": {},
   "outputs": [],
   "source": [
    "combined_feature_data = pd.concat([new_feature_data, dynamic_feature_data], axis=1)\n",
    "combined_label_data = new_label_data"
   ]
  },
  {
   "cell_type": "code",
   "execution_count": 9,
   "metadata": {},
   "outputs": [
    {
     "data": {
      "text/html": [
       "<div>\n",
       "<style scoped>\n",
       "    .dataframe tbody tr th:only-of-type {\n",
       "        vertical-align: middle;\n",
       "    }\n",
       "\n",
       "    .dataframe tbody tr th {\n",
       "        vertical-align: top;\n",
       "    }\n",
       "\n",
       "    .dataframe thead th {\n",
       "        text-align: right;\n",
       "    }\n",
       "</style>\n",
       "<table border=\"1\" class=\"dataframe\">\n",
       "  <thead>\n",
       "    <tr style=\"text-align: right;\">\n",
       "      <th></th>\n",
       "      <th>TSPAN6</th>\n",
       "      <th>TNMD</th>\n",
       "      <th>DPM1</th>\n",
       "      <th>SCYL3</th>\n",
       "      <th>C1orf112</th>\n",
       "      <th>FGR</th>\n",
       "      <th>CFH</th>\n",
       "      <th>FUCA2</th>\n",
       "      <th>GCLC</th>\n",
       "      <th>NFYA</th>\n",
       "      <th>...</th>\n",
       "      <th>amTORC2_auc</th>\n",
       "      <th>amTORC2_median</th>\n",
       "      <th>amTORC2_tfc</th>\n",
       "      <th>amTORC2_tmax</th>\n",
       "      <th>amTORC2_max</th>\n",
       "      <th>amTORC2_tmin</th>\n",
       "      <th>amTORC2_min</th>\n",
       "      <th>amTORC2_ttsv</th>\n",
       "      <th>amTORC2_tsv</th>\n",
       "      <th>amTORC2_init</th>\n",
       "    </tr>\n",
       "  </thead>\n",
       "  <tbody>\n",
       "    <tr>\n",
       "      <th>SIDM01132</th>\n",
       "      <td>3.955127</td>\n",
       "      <td>1.416840</td>\n",
       "      <td>6.620293</td>\n",
       "      <td>2.000000</td>\n",
       "      <td>3.333424</td>\n",
       "      <td>0.014355</td>\n",
       "      <td>5.654779</td>\n",
       "      <td>0.028569</td>\n",
       "      <td>2.726831</td>\n",
       "      <td>4.061776</td>\n",
       "      <td>...</td>\n",
       "      <td>0.001622</td>\n",
       "      <td>0.001435</td>\n",
       "      <td>1.732396</td>\n",
       "      <td>0.96</td>\n",
       "      <td>0.003096</td>\n",
       "      <td>0.0</td>\n",
       "      <td>0.001133</td>\n",
       "      <td>0.04</td>\n",
       "      <td>0.001133</td>\n",
       "      <td>0.001133</td>\n",
       "    </tr>\n",
       "    <tr>\n",
       "      <th>SIDM00848</th>\n",
       "      <td>4.247928</td>\n",
       "      <td>0.000000</td>\n",
       "      <td>6.174127</td>\n",
       "      <td>2.316146</td>\n",
       "      <td>3.823749</td>\n",
       "      <td>0.189034</td>\n",
       "      <td>1.321928</td>\n",
       "      <td>3.536053</td>\n",
       "      <td>3.943921</td>\n",
       "      <td>4.468583</td>\n",
       "      <td>...</td>\n",
       "      <td>0.463970</td>\n",
       "      <td>0.483035</td>\n",
       "      <td>0.281069</td>\n",
       "      <td>0.96</td>\n",
       "      <td>0.544116</td>\n",
       "      <td>0.0</td>\n",
       "      <td>0.424736</td>\n",
       "      <td>0.04</td>\n",
       "      <td>0.424736</td>\n",
       "      <td>0.424736</td>\n",
       "    </tr>\n",
       "    <tr>\n",
       "      <th>SIDM01111</th>\n",
       "      <td>4.327687</td>\n",
       "      <td>0.070389</td>\n",
       "      <td>5.979111</td>\n",
       "      <td>2.906891</td>\n",
       "      <td>4.904484</td>\n",
       "      <td>0.263034</td>\n",
       "      <td>2.235727</td>\n",
       "      <td>0.422233</td>\n",
       "      <td>4.432959</td>\n",
       "      <td>5.139961</td>\n",
       "      <td>...</td>\n",
       "      <td>0.073737</td>\n",
       "      <td>0.076469</td>\n",
       "      <td>0.295231</td>\n",
       "      <td>0.96</td>\n",
       "      <td>0.088013</td>\n",
       "      <td>0.0</td>\n",
       "      <td>0.067951</td>\n",
       "      <td>0.04</td>\n",
       "      <td>0.067951</td>\n",
       "      <td>0.067951</td>\n",
       "    </tr>\n",
       "    <tr>\n",
       "      <th>SIDM00909</th>\n",
       "      <td>3.264536</td>\n",
       "      <td>0.000000</td>\n",
       "      <td>6.096557</td>\n",
       "      <td>2.518535</td>\n",
       "      <td>3.040892</td>\n",
       "      <td>0.000000</td>\n",
       "      <td>0.831877</td>\n",
       "      <td>6.575615</td>\n",
       "      <td>4.656496</td>\n",
       "      <td>4.738768</td>\n",
       "      <td>...</td>\n",
       "      <td>0.042001</td>\n",
       "      <td>0.043628</td>\n",
       "      <td>0.375213</td>\n",
       "      <td>0.96</td>\n",
       "      <td>0.051130</td>\n",
       "      <td>0.0</td>\n",
       "      <td>0.037180</td>\n",
       "      <td>0.04</td>\n",
       "      <td>0.037180</td>\n",
       "      <td>0.037180</td>\n",
       "    </tr>\n",
       "    <tr>\n",
       "      <th>SIDM00807</th>\n",
       "      <td>5.128871</td>\n",
       "      <td>0.000000</td>\n",
       "      <td>6.691534</td>\n",
       "      <td>2.010780</td>\n",
       "      <td>4.976364</td>\n",
       "      <td>0.163499</td>\n",
       "      <td>1.636915</td>\n",
       "      <td>6.193575</td>\n",
       "      <td>3.505891</td>\n",
       "      <td>3.709291</td>\n",
       "      <td>...</td>\n",
       "      <td>0.153621</td>\n",
       "      <td>0.159928</td>\n",
       "      <td>0.308393</td>\n",
       "      <td>0.96</td>\n",
       "      <td>0.181684</td>\n",
       "      <td>0.0</td>\n",
       "      <td>0.138860</td>\n",
       "      <td>0.04</td>\n",
       "      <td>0.138860</td>\n",
       "      <td>0.138860</td>\n",
       "    </tr>\n",
       "    <tr>\n",
       "      <th>...</th>\n",
       "      <td>...</td>\n",
       "      <td>...</td>\n",
       "      <td>...</td>\n",
       "      <td>...</td>\n",
       "      <td>...</td>\n",
       "      <td>...</td>\n",
       "      <td>...</td>\n",
       "      <td>...</td>\n",
       "      <td>...</td>\n",
       "      <td>...</td>\n",
       "      <td>...</td>\n",
       "      <td>...</td>\n",
       "      <td>...</td>\n",
       "      <td>...</td>\n",
       "      <td>...</td>\n",
       "      <td>...</td>\n",
       "      <td>...</td>\n",
       "      <td>...</td>\n",
       "      <td>...</td>\n",
       "      <td>...</td>\n",
       "      <td>...</td>\n",
       "    </tr>\n",
       "    <tr>\n",
       "      <th>SIDM00217</th>\n",
       "      <td>4.489286</td>\n",
       "      <td>0.475085</td>\n",
       "      <td>6.759955</td>\n",
       "      <td>2.451541</td>\n",
       "      <td>3.305971</td>\n",
       "      <td>1.464668</td>\n",
       "      <td>0.056584</td>\n",
       "      <td>5.996615</td>\n",
       "      <td>5.134221</td>\n",
       "      <td>4.635754</td>\n",
       "      <td>...</td>\n",
       "      <td>0.015140</td>\n",
       "      <td>0.015568</td>\n",
       "      <td>0.485826</td>\n",
       "      <td>0.96</td>\n",
       "      <td>0.019511</td>\n",
       "      <td>0.0</td>\n",
       "      <td>0.013131</td>\n",
       "      <td>0.04</td>\n",
       "      <td>0.013131</td>\n",
       "      <td>0.013131</td>\n",
       "    </tr>\n",
       "    <tr>\n",
       "      <th>SIDM00214</th>\n",
       "      <td>4.628190</td>\n",
       "      <td>0.298658</td>\n",
       "      <td>5.996615</td>\n",
       "      <td>4.042644</td>\n",
       "      <td>4.784504</td>\n",
       "      <td>0.042644</td>\n",
       "      <td>1.761285</td>\n",
       "      <td>5.067811</td>\n",
       "      <td>5.783457</td>\n",
       "      <td>4.943453</td>\n",
       "      <td>...</td>\n",
       "      <td>0.001227</td>\n",
       "      <td>0.001096</td>\n",
       "      <td>2.566311</td>\n",
       "      <td>0.96</td>\n",
       "      <td>0.002511</td>\n",
       "      <td>0.0</td>\n",
       "      <td>0.000704</td>\n",
       "      <td>0.04</td>\n",
       "      <td>0.000704</td>\n",
       "      <td>0.000704</td>\n",
       "    </tr>\n",
       "    <tr>\n",
       "      <th>SIDM00194</th>\n",
       "      <td>4.229588</td>\n",
       "      <td>0.014355</td>\n",
       "      <td>6.664767</td>\n",
       "      <td>2.691534</td>\n",
       "      <td>3.454176</td>\n",
       "      <td>0.042644</td>\n",
       "      <td>0.739848</td>\n",
       "      <td>6.417009</td>\n",
       "      <td>4.442943</td>\n",
       "      <td>2.959770</td>\n",
       "      <td>...</td>\n",
       "      <td>0.059500</td>\n",
       "      <td>0.061853</td>\n",
       "      <td>0.369219</td>\n",
       "      <td>0.96</td>\n",
       "      <td>0.072176</td>\n",
       "      <td>0.0</td>\n",
       "      <td>0.052713</td>\n",
       "      <td>0.04</td>\n",
       "      <td>0.052713</td>\n",
       "      <td>0.052713</td>\n",
       "    </tr>\n",
       "    <tr>\n",
       "      <th>SIDM00193</th>\n",
       "      <td>3.477677</td>\n",
       "      <td>0.000000</td>\n",
       "      <td>6.385949</td>\n",
       "      <td>3.570463</td>\n",
       "      <td>3.232661</td>\n",
       "      <td>0.000000</td>\n",
       "      <td>0.275007</td>\n",
       "      <td>6.417515</td>\n",
       "      <td>6.407013</td>\n",
       "      <td>3.727920</td>\n",
       "      <td>...</td>\n",
       "      <td>0.046056</td>\n",
       "      <td>0.047720</td>\n",
       "      <td>0.353875</td>\n",
       "      <td>0.96</td>\n",
       "      <td>0.056037</td>\n",
       "      <td>0.0</td>\n",
       "      <td>0.041390</td>\n",
       "      <td>0.04</td>\n",
       "      <td>0.041390</td>\n",
       "      <td>0.041390</td>\n",
       "    </tr>\n",
       "    <tr>\n",
       "      <th>SIDM00498</th>\n",
       "      <td>3.855990</td>\n",
       "      <td>0.000000</td>\n",
       "      <td>6.507953</td>\n",
       "      <td>2.545968</td>\n",
       "      <td>3.621759</td>\n",
       "      <td>0.070389</td>\n",
       "      <td>0.659925</td>\n",
       "      <td>6.060264</td>\n",
       "      <td>5.226894</td>\n",
       "      <td>4.866908</td>\n",
       "      <td>...</td>\n",
       "      <td>0.261110</td>\n",
       "      <td>0.271810</td>\n",
       "      <td>0.298899</td>\n",
       "      <td>0.96</td>\n",
       "      <td>0.308079</td>\n",
       "      <td>0.0</td>\n",
       "      <td>0.237185</td>\n",
       "      <td>0.04</td>\n",
       "      <td>0.237185</td>\n",
       "      <td>0.237185</td>\n",
       "    </tr>\n",
       "  </tbody>\n",
       "</table>\n",
       "<p>665 rows × 19481 columns</p>\n",
       "</div>"
      ],
      "text/plain": [
       "             TSPAN6      TNMD      DPM1     SCYL3  C1orf112       FGR  \\\n",
       "SIDM01132  3.955127  1.416840  6.620293  2.000000  3.333424  0.014355   \n",
       "SIDM00848  4.247928  0.000000  6.174127  2.316146  3.823749  0.189034   \n",
       "SIDM01111  4.327687  0.070389  5.979111  2.906891  4.904484  0.263034   \n",
       "SIDM00909  3.264536  0.000000  6.096557  2.518535  3.040892  0.000000   \n",
       "SIDM00807  5.128871  0.000000  6.691534  2.010780  4.976364  0.163499   \n",
       "...             ...       ...       ...       ...       ...       ...   \n",
       "SIDM00217  4.489286  0.475085  6.759955  2.451541  3.305971  1.464668   \n",
       "SIDM00214  4.628190  0.298658  5.996615  4.042644  4.784504  0.042644   \n",
       "SIDM00194  4.229588  0.014355  6.664767  2.691534  3.454176  0.042644   \n",
       "SIDM00193  3.477677  0.000000  6.385949  3.570463  3.232661  0.000000   \n",
       "SIDM00498  3.855990  0.000000  6.507953  2.545968  3.621759  0.070389   \n",
       "\n",
       "                CFH     FUCA2      GCLC      NFYA  ...  amTORC2_auc  \\\n",
       "SIDM01132  5.654779  0.028569  2.726831  4.061776  ...     0.001622   \n",
       "SIDM00848  1.321928  3.536053  3.943921  4.468583  ...     0.463970   \n",
       "SIDM01111  2.235727  0.422233  4.432959  5.139961  ...     0.073737   \n",
       "SIDM00909  0.831877  6.575615  4.656496  4.738768  ...     0.042001   \n",
       "SIDM00807  1.636915  6.193575  3.505891  3.709291  ...     0.153621   \n",
       "...             ...       ...       ...       ...  ...          ...   \n",
       "SIDM00217  0.056584  5.996615  5.134221  4.635754  ...     0.015140   \n",
       "SIDM00214  1.761285  5.067811  5.783457  4.943453  ...     0.001227   \n",
       "SIDM00194  0.739848  6.417009  4.442943  2.959770  ...     0.059500   \n",
       "SIDM00193  0.275007  6.417515  6.407013  3.727920  ...     0.046056   \n",
       "SIDM00498  0.659925  6.060264  5.226894  4.866908  ...     0.261110   \n",
       "\n",
       "           amTORC2_median  amTORC2_tfc  amTORC2_tmax  amTORC2_max  \\\n",
       "SIDM01132        0.001435     1.732396          0.96     0.003096   \n",
       "SIDM00848        0.483035     0.281069          0.96     0.544116   \n",
       "SIDM01111        0.076469     0.295231          0.96     0.088013   \n",
       "SIDM00909        0.043628     0.375213          0.96     0.051130   \n",
       "SIDM00807        0.159928     0.308393          0.96     0.181684   \n",
       "...                   ...          ...           ...          ...   \n",
       "SIDM00217        0.015568     0.485826          0.96     0.019511   \n",
       "SIDM00214        0.001096     2.566311          0.96     0.002511   \n",
       "SIDM00194        0.061853     0.369219          0.96     0.072176   \n",
       "SIDM00193        0.047720     0.353875          0.96     0.056037   \n",
       "SIDM00498        0.271810     0.298899          0.96     0.308079   \n",
       "\n",
       "           amTORC2_tmin  amTORC2_min  amTORC2_ttsv  amTORC2_tsv  amTORC2_init  \n",
       "SIDM01132           0.0     0.001133          0.04     0.001133      0.001133  \n",
       "SIDM00848           0.0     0.424736          0.04     0.424736      0.424736  \n",
       "SIDM01111           0.0     0.067951          0.04     0.067951      0.067951  \n",
       "SIDM00909           0.0     0.037180          0.04     0.037180      0.037180  \n",
       "SIDM00807           0.0     0.138860          0.04     0.138860      0.138860  \n",
       "...                 ...          ...           ...          ...           ...  \n",
       "SIDM00217           0.0     0.013131          0.04     0.013131      0.013131  \n",
       "SIDM00214           0.0     0.000704          0.04     0.000704      0.000704  \n",
       "SIDM00194           0.0     0.052713          0.04     0.052713      0.052713  \n",
       "SIDM00193           0.0     0.041390          0.04     0.041390      0.041390  \n",
       "SIDM00498           0.0     0.237185          0.04     0.237185      0.237185  \n",
       "\n",
       "[665 rows x 19481 columns]"
      ]
     },
     "execution_count": 9,
     "metadata": {},
     "output_type": "execute_result"
    }
   ],
   "source": [
    "combined_feature_data"
   ]
  },
  {
   "cell_type": "code",
   "execution_count": 10,
   "metadata": {},
   "outputs": [],
   "source": [
    "def normalise_data(data): \n",
    "    data = (data - data.mean()) / data.std()\n",
    "    return data\n",
    "\n",
    "def pipeline_func(X_train, y_train, rng, model_used, normalised=False, **kwargs):\n",
    "    # impute missing values by first quantile first \n",
    "    # normalise X_train \n",
    "    if normalised:\n",
    "        X_train = normalise_data(X_train)\n",
    "    X_train, _ = impute_by_first_quantile(X_train, y_train)\n",
    "    k = X_train.shape[1]\n",
    "    if k > 500: \n",
    "        k = 500 # limit the number of features to 500\n",
    "    selected_features, scores = f_regression_select(X_train, y_train, k)\n",
    "    model = get_model_from_string(model_used, **kwargs)\n",
    "    selected_features, X_selected = select_preset_features(X_train, y_train, selected_features)\n",
    "    # print(f'{rng} {model_used}')\n",
    "    model.fit(X_selected, y_train)\n",
    "    return {'model': model,\n",
    "            'filter_selected_features': selected_features,\n",
    "            'filter_scores': scores}\n",
    "\n",
    "\n",
    "def eval_func(X_test, y_test, pipeline_components=None, normalised=False, **kwargs):\n",
    "    if normalised:\n",
    "        X_test = (X_test - X_test.mean()) / X_test.std()\n",
    "    X_test, _ = impute_by_first_quantile(X_test, y_test)\n",
    "    selected_features, X_selected = select_preset_features(X_test, y_test, pipeline_components['filter_selected_features'])\n",
    "    y_pred = pipeline_components['model'].predict(X_selected)\n",
    "    # assess performance by pearson correlation\n",
    "    corr, p_vals = pearsonr(y_test, y_pred)\n",
    "    feat_imp = (pipeline_components['filter_selected_features'], pipeline_components['filter_scores'])\n",
    "    return {'model_performance': corr, 'p_vals': p_vals, 'feature_importance': feat_imp}\n",
    "\n",
    "def eval_func_best(X_test, y_test, pipeline_components=None, normalised=False, **kwargs):\n",
    "    if normalised:\n",
    "        X_test = (X_test - X_test.mean()) / X_test.std()\n",
    "    X_test, _ = impute_by_first_quantile(X_test, y_test)\n",
    "    selected_features, X_selected = select_preset_features(X_test, y_test, pipeline_components['filter_selected_features'])\n",
    "    y_pred = pipeline_components['model'].predict(X_selected)\n",
    "    # assess performance by pearson correlation\n",
    "    corr, p_vals = pearsonr(y_test, y_pred)\n",
    "    feat_imp = (pipeline_components['filter_selected_features'], pipeline_components['filter_scores'])\n",
    "    return {'model_performance': corr, 'p_vals': p_vals, 'feature_importance': feat_imp, 'y_test': y_test, 'y_pred': y_pred}"
   ]
  },
  {
   "cell_type": "markdown",
   "metadata": {},
   "source": [
    "#### custom pipelines"
   ]
  },
  {
   "cell_type": "code",
   "execution_count": 11,
   "metadata": {},
   "outputs": [],
   "source": [
    "def pipeline_select_genes_only(X_train, y_train, rng, model_used, keep_features, normalised=False, **kwargs):\n",
    "    if normalised:\n",
    "        X_train = normalise_data(X_train)\n",
    "    X_train, _ = impute_by_first_quantile(X_train, y_train)\n",
    "    final_selected_features = keep_features\n",
    "    dynamic_X_train = X_train[final_selected_features]\n",
    "    static_X_train = X_train.drop(final_selected_features, axis=1)\n",
    "    k = X_train.shape[1]\n",
    "    if k > 500:\n",
    "        k = 500  # limit the number of features to 500\n",
    "    selected_features, scores = f_regression_select(static_X_train, y_train, k)\n",
    "    for f in selected_features:\n",
    "        final_selected_features.append(f)\n",
    "    selected_X_train = X_train[final_selected_features]\n",
    "    model = get_model_from_string(model_used, **kwargs)\n",
    "    model.fit(selected_X_train, y_train)\n",
    "    return {'model': model,\n",
    "            'filter_selected_features': final_selected_features,\n",
    "            'filter_scores': scores}"
   ]
  },
  {
   "cell_type": "code",
   "execution_count": 12,
   "metadata": {},
   "outputs": [],
   "source": [
    "def pipeline_select_only(X_train, y_train, rng, model_used, \n",
    "                                     keep_features, limit_features = False, \n",
    "                         normalised=False, **kwargs):\n",
    "    if normalised:\n",
    "        X_train = normalise_data(X_train)\n",
    "    X_train, _ = impute_by_first_quantile(X_train, y_train)\n",
    "    final_selected_features = keep_features\n",
    "    selected_X_train = X_train[final_selected_features]\n",
    "    # get the scores for the selected features using f_regression\n",
    "    k = selected_X_train.shape[1]\n",
    "    if limit_features:\n",
    "        if k > 500:\n",
    "            k = 500  # limit the number of features to 500\n",
    "    _, scores = f_regression_select(selected_X_train, y_train, k)\n",
    "    model = get_model_from_string(model_used, **kwargs)\n",
    "    model.fit(selected_X_train, y_train)\n",
    "    return {'model': model,\n",
    "            'filter_selected_features': final_selected_features,\n",
    "            'filter_scores': scores}"
   ]
  },
  {
   "cell_type": "code",
   "execution_count": 13,
   "metadata": {},
   "outputs": [
    {
     "name": "stdout",
     "output_type": "stream",
     "text": [
      "Length of transformed gene features: 38\n",
      "Length of transformed dynamic features: 298\n"
     ]
    }
   ],
   "source": [
    "transformed_gene_list = [] \n",
    "# we deduce these from the original match rules file\n",
    "\n",
    "gene_match_rules = match_rules.dropna(subset=['reference'])\n",
    "for index, row in gene_match_rules.iterrows():\n",
    "    gene = row['reference'].split(';')\n",
    "    for g in gene:\n",
    "        if g not in transformed_gene_list:\n",
    "            transformed_gene_list.append(g)    \n",
    "            \n",
    "dynamic_features = list(dynamic_feature_data.columns)\n",
    "transformed_dynamic_features = []\n",
    "for f in dynamic_features:\n",
    "    transformed_dynamic_features.append(f)\n",
    "for g in transformed_gene_list:\n",
    "    if g not in transformed_dynamic_features:\n",
    "        transformed_dynamic_features.append(g)\n",
    "        \n",
    "print(f'Length of transformed gene features: {len(transformed_gene_list)}')\n",
    "print(f'Length of transformed dynamic features: {len(transformed_dynamic_features)}')"
   ]
  },
  {
   "cell_type": "markdown",
   "metadata": {},
   "source": [
    "## Negative Control (random data)"
   ]
  },
  {
   "cell_type": "code",
   "execution_count": null,
   "metadata": {},
   "outputs": [],
   "source": [
    "# generate a random dataset for testing\n",
    "import numpy as np\n",
    "\n",
    "# set random seed\n",
    "np.random.seed(42)\n",
    "\n",
    "X = np.random.rand(1000, 500)\n",
    "y = np.random.rand(1000)\n",
    "\n",
    "X = pd.DataFrame(X)\n",
    "y = pd.Series(y)"
   ]
  },
  {
   "cell_type": "code",
   "execution_count": null,
   "metadata": {},
   "outputs": [],
   "source": [
    "powerkit = Powerkit(X, y)\n",
    "rngs = list(range(100))"
   ]
  },
  {
   "cell_type": "code",
   "execution_count": null,
   "metadata": {},
   "outputs": [],
   "source": [
    "for model_used in all_models:\n",
    "    powerkit.add_condition(model_used, False, pipeline_func, {'model_used': model_used, 'normalised': normalised}, eval_func, {'normalised': normalised})"
   ]
  },
  {
   "cell_type": "code",
   "execution_count": null,
   "metadata": {},
   "outputs": [],
   "source": [
    "for model_used in all_models:\n",
    "    print(f'Running {model_used}...')\n",
    "    df = powerkit.run_selected_condition(model_used, rngs, 16, True)\n",
    "    if save_data:\n",
    "        print(f'Saved {model_used} to path')\n",
    "        df.to_pickle(f'{file_save_path}{exp_id}_{model_used}_control_negative.pkl')"
   ]
  },
  {
   "cell_type": "markdown",
   "metadata": {},
   "source": [
    "## Positive Control (make_regression data)\n",
    "\n",
    "To ensure all models are working as intended"
   ]
  },
  {
   "cell_type": "markdown",
   "metadata": {},
   "source": [
    "### Training"
   ]
  },
  {
   "cell_type": "code",
   "execution_count": null,
   "metadata": {},
   "outputs": [],
   "source": [
    "from sklearn.datasets import make_regression\n",
    "from sklearn.model_selection import train_test_split\n",
    "\n",
    "X, y = make_regression(n_samples=1000, n_features=500, noise=0.1)\n",
    "# make X,y into dataframes\n",
    "X = pd.DataFrame(X)\n",
    "y = pd.Series(y)"
   ]
  },
  {
   "cell_type": "code",
   "execution_count": null,
   "metadata": {},
   "outputs": [],
   "source": [
    "powerkit = Powerkit(X, y)\n",
    "rngs = list(range(100))"
   ]
  },
  {
   "cell_type": "code",
   "execution_count": null,
   "metadata": {},
   "outputs": [],
   "source": [
    "for model_used in all_models:\n",
    "    powerkit.add_condition(model_used, False, pipeline_func, {'model_used': model_used, 'normalised': normalised}, eval_func, {'normalised': normalised})"
   ]
  },
  {
   "cell_type": "code",
   "execution_count": null,
   "metadata": {},
   "outputs": [],
   "source": [
    "for model_used in all_models:\n",
    "    print(f'Running {model_used}...')\n",
    "    df = powerkit.run_selected_condition(model_used, rngs, 16, True)\n",
    "    if save_data:\n",
    "        print(f'Saved {model_used} to path')\n",
    "        df.to_pickle(f'{file_save_path}{exp_id}_{model_used}_control_positive.pkl')"
   ]
  },
  {
   "cell_type": "markdown",
   "metadata": {},
   "source": [
    "### Visualisation"
   ]
  },
  {
   "cell_type": "code",
   "execution_count": null,
   "metadata": {},
   "outputs": [],
   "source": [
    "import pickle \n",
    "\n",
    "df_list = []\n",
    "for model_used in all_models:\n",
    "    df = pd.read_pickle(f'{file_save_path}{exp_id}_{model_used}_control_positive.pkl')\n",
    "    df_list.append(df)\n"
   ]
  },
  {
   "cell_type": "code",
   "execution_count": null,
   "metadata": {},
   "outputs": [],
   "source": [
    "df_list[4]"
   ]
  },
  {
   "cell_type": "code",
   "execution_count": null,
   "metadata": {},
   "outputs": [],
   "source": [
    "# join all the dataframes\n",
    "df_all = pd.concat(df_list, axis=0)\n",
    "df_all.head()"
   ]
  },
  {
   "cell_type": "code",
   "execution_count": null,
   "metadata": {},
   "outputs": [],
   "source": [
    "from Visualisation import plot_box_plot\n",
    "import matplotlib.pyplot as plt\n",
    "import seaborn as sns\n",
    "\n",
    "sns.set_style(\"whitegrid\")\n",
    "sns.set_context(\"talk\")\n",
    "\n",
    "fig, ax = plt.subplots(figsize=(16, 8))\n",
    "plot_box_plot(df_all, 'condition', 'model_performance', 'Model Performance', 'Model'\n",
    "              ,'Pearson Correlation', ax=ax, tick_fontsize=16)\n"
   ]
  },
  {
   "cell_type": "code",
   "execution_count": null,
   "metadata": {},
   "outputs": [],
   "source": [
    "# check the best model for each model category \n",
    "best_models = df_all.groupby('condition')['model_performance'].idxmax()"
   ]
  },
  {
   "cell_type": "code",
   "execution_count": null,
   "metadata": {},
   "outputs": [],
   "source": [
    "best_models"
   ]
  },
  {
   "cell_type": "code",
   "execution_count": null,
   "metadata": {},
   "outputs": [],
   "source": [
    "# for each best performing model, re-run the pipeline and plot model results\n",
    "for model_used in all_models:\n",
    "    powerkit.add_condition(f'{model_used}_best', False, pipeline_func, {'model_used': model_used, 'normalised': normalised}, eval_func_best, {'normalised': normalised})\n",
    "\n",
    "    "
   ]
  },
  {
   "cell_type": "code",
   "execution_count": null,
   "metadata": {},
   "outputs": [],
   "source": [
    "df_list = []\n",
    "for model_used in all_models:\n",
    "    print(f'Running {model_used}...')\n",
    "    best_rng = df_all.loc[best_models[model_used]]['rng'].values[0]\n",
    "    print(best_rng, model_used)\n",
    "    # run pipeline with best rng\n",
    "    df = powerkit.run_selected_condition(f'{model_used}_best', [best_rng], 1, True)\n",
    "    df_list.append(df)"
   ]
  },
  {
   "cell_type": "code",
   "execution_count": null,
   "metadata": {},
   "outputs": [],
   "source": [
    "import math\n",
    "\n",
    "plot_cols = 3\n",
    "plot_rows = math.ceil(len(df_list)/plot_cols)\n",
    "plt.subplots(plot_rows, plot_cols, figsize=(5*plot_cols, 4*plot_rows))\n",
    "\n",
    "normalise = True\n",
    "\n",
    "for i, df in enumerate(df_list):\n",
    "    plt.subplot(plot_rows, plot_cols, i+1)\n",
    "    # get y_test and y_pred\n",
    "    y_test = df['y_test'].values[0]\n",
    "    y_pred = df['y_pred'].values[0]\n",
    "    model_used = df['condition'].values[0].split('_')[0]\n",
    "    if normalise:\n",
    "        y_test = (y_test - y_test.mean()) / y_test.std()\n",
    "        y_pred = (y_pred - y_pred.mean()) / y_pred.std()\n",
    "    # plot y_test vs y_pred\n",
    "    plt.scatter(y_test, y_pred)\n",
    "    plt.xlabel('True Value')\n",
    "    plt.ylabel('Predicted Value')\n",
    "    plt.title(f'{model_used}')\n",
    "    # assess performance by pearson correlation\n",
    "    corr, p_vals = pearsonr(y_test, y_pred)\n",
    "    plt.text(0.1, 0.9, f'Corr: {corr:.2f}', ha='center', va='center', transform=plt.gca().transAxes)\n",
    "    plt.text(0.1, 0.8, f'p: {p_vals:.2f}', ha='center', va='center', transform=plt.gca().transAxes)\n",
    "    # plot y=x line\n",
    "    plt.plot([min(y_test), max(y_test)], [min(y_test), max(y_test)], color='red')\n",
    "    plt.grid()\n",
    "\n",
    "\n",
    "plt.tight_layout()\n",
    "plt.show()"
   ]
  },
  {
   "cell_type": "code",
   "execution_count": null,
   "metadata": {},
   "outputs": [],
   "source": [
    "df_all"
   ]
  },
  {
   "cell_type": "markdown",
   "metadata": {},
   "source": [
    "## Positive Control (CCLE Only)"
   ]
  },
  {
   "cell_type": "code",
   "execution_count": null,
   "metadata": {},
   "outputs": [],
   "source": [
    "powerkit = Powerkit(new_feature_data, new_label_data)\n",
    "rngs = list(range(100))"
   ]
  },
  {
   "cell_type": "code",
   "execution_count": null,
   "metadata": {},
   "outputs": [],
   "source": [
    "for model_used in all_models:\n",
    "    powerkit.add_condition(model_used, True, pipeline_func, {'model_used': model_used, 'normalised': normalised}, eval_func, {'normalised': normalised})"
   ]
  },
  {
   "cell_type": "code",
   "execution_count": null,
   "metadata": {},
   "outputs": [],
   "source": [
    "for model_used in all_models:\n",
    "    print(f'Running {model_used}...')\n",
    "    df = powerkit.run_selected_condition(model_used, rngs, 16, True)\n",
    "    if save_data:\n",
    "        print(f'Saved {model_used} to path')\n",
    "        df.to_pickle(f'{file_save_path}{exp_id}_{model_used}_control_ccle.pkl')"
   ]
  },
  {
   "cell_type": "markdown",
   "metadata": {},
   "source": [
    "## Positive Control 2 (Dynamic Features Only)"
   ]
  },
  {
   "cell_type": "code",
   "execution_count": null,
   "metadata": {},
   "outputs": [],
   "source": [
    "powerkit = Powerkit(dynamic_feature_data, dynamic_label_data)\n",
    "rngs = list(range(100))"
   ]
  },
  {
   "cell_type": "code",
   "execution_count": null,
   "metadata": {},
   "outputs": [],
   "source": [
    "for model_used in all_models:\n",
    "    powerkit.add_condition(model_used, True, pipeline_func, {'model_used': model_used, 'normalised': normalised}, eval_func, {'normalised': normalised})"
   ]
  },
  {
   "cell_type": "code",
   "execution_count": 32,
   "metadata": {},
   "outputs": [
    {
     "name": "stderr",
     "output_type": "stream",
     "text": [
      " 29%|██▉       | 29/100 [00:08<00:20,  3.54it/s]\n"
     ]
    },
    {
     "ename": "KeyboardInterrupt",
     "evalue": "",
     "output_type": "error",
     "traceback": [
      "\u001b[1;31m---------------------------------------------------------------------------\u001b[0m",
      "\u001b[1;31mKeyboardInterrupt\u001b[0m                         Traceback (most recent call last)",
      "Cell \u001b[1;32mIn[32], line 3\u001b[0m\n\u001b[0;32m      1\u001b[0m \u001b[38;5;28;01mfor\u001b[39;00m model_used \u001b[38;5;129;01min\u001b[39;00m all_models:\n\u001b[0;32m      2\u001b[0m     \u001b[38;5;28mprint\u001b[39m(\u001b[38;5;124mf\u001b[39m\u001b[38;5;124m'\u001b[39m\u001b[38;5;124mRunning \u001b[39m\u001b[38;5;132;01m{\u001b[39;00mmodel_used\u001b[38;5;132;01m}\u001b[39;00m\u001b[38;5;124m...\u001b[39m\u001b[38;5;124m'\u001b[39m)\n\u001b[1;32m----> 3\u001b[0m     df \u001b[38;5;241m=\u001b[39m \u001b[43mpowerkit\u001b[49m\u001b[38;5;241;43m.\u001b[39;49m\u001b[43mrun_selected_condition\u001b[49m\u001b[43m(\u001b[49m\u001b[43mmodel_used\u001b[49m\u001b[43m,\u001b[49m\u001b[43m \u001b[49m\u001b[43mrngs\u001b[49m\u001b[43m,\u001b[49m\u001b[43m \u001b[49m\u001b[38;5;241;43m1\u001b[39;49m\u001b[43m,\u001b[49m\u001b[43m \u001b[49m\u001b[38;5;28;43;01mTrue\u001b[39;49;00m\u001b[43m)\u001b[49m\n\u001b[0;32m      4\u001b[0m     \u001b[38;5;28;01mif\u001b[39;00m save_data:\n\u001b[0;32m      5\u001b[0m         \u001b[38;5;28mprint\u001b[39m(\u001b[38;5;124mf\u001b[39m\u001b[38;5;124m'\u001b[39m\u001b[38;5;124mSaved \u001b[39m\u001b[38;5;132;01m{\u001b[39;00mmodel_used\u001b[38;5;132;01m}\u001b[39;00m\u001b[38;5;124m to path\u001b[39m\u001b[38;5;124m'\u001b[39m)\n",
      "File \u001b[1;32mc:\\Github\\ode-biomarker-project\\toolkit.py:315\u001b[0m, in \u001b[0;36mPowerkit.run_selected_condition\u001b[1;34m(self, condition, rng_list, n_jobs, verbose)\u001b[0m\n\u001b[0;32m    313\u001b[0m \u001b[38;5;28;01mif\u001b[39;00m condition \u001b[38;5;129;01mnot\u001b[39;00m \u001b[38;5;129;01min\u001b[39;00m \u001b[38;5;28mself\u001b[39m\u001b[38;5;241m.\u001b[39mconditions\u001b[38;5;241m.\u001b[39mkeys():\n\u001b[0;32m    314\u001b[0m     \u001b[38;5;28;01mraise\u001b[39;00m \u001b[38;5;167;01mValueError\u001b[39;00m(\u001b[38;5;124mf\u001b[39m\u001b[38;5;124m'\u001b[39m\u001b[38;5;124mcondition \u001b[39m\u001b[38;5;132;01m{\u001b[39;00mcondition\u001b[38;5;132;01m}\u001b[39;00m\u001b[38;5;124m does not exist\u001b[39m\u001b[38;5;124m'\u001b[39m)\n\u001b[1;32m--> 315\u001b[0m df \u001b[38;5;241m=\u001b[39m \u001b[38;5;28;43mself\u001b[39;49m\u001b[38;5;241;43m.\u001b[39;49m\u001b[43m_abstract_run\u001b[49m\u001b[43m(\u001b[49m\u001b[43mrng_list\u001b[49m\u001b[43m,\u001b[49m\u001b[43m \u001b[49m\u001b[43mn_jobs\u001b[49m\u001b[43m,\u001b[49m\u001b[43m \u001b[49m\u001b[43mverbose\u001b[49m\u001b[43m,\u001b[49m\u001b[43m \u001b[49m\u001b[43mconditions\u001b[49m\u001b[38;5;241;43m=\u001b[39;49m\u001b[43m[\u001b[49m\u001b[43mcondition\u001b[49m\u001b[43m]\u001b[49m\u001b[43m)\u001b[49m\n\u001b[0;32m    316\u001b[0m \u001b[38;5;28;01mreturn\u001b[39;00m df\n",
      "File \u001b[1;32mc:\\Github\\ode-biomarker-project\\toolkit.py:281\u001b[0m, in \u001b[0;36mPowerkit._abstract_run\u001b[1;34m(self, rng_list, n_jobs, verbose, conditions)\u001b[0m\n\u001b[0;32m    279\u001b[0m     \u001b[38;5;28;01mfor\u001b[39;00m rng \u001b[38;5;129;01min\u001b[39;00m tqdm(rng_list):\n\u001b[0;32m    280\u001b[0m         \u001b[38;5;28;01mfor\u001b[39;00m condition \u001b[38;5;129;01min\u001b[39;00m conditions:\n\u001b[1;32m--> 281\u001b[0m             data \u001b[38;5;241m=\u001b[39m \u001b[38;5;28;43mself\u001b[39;49m\u001b[38;5;241;43m.\u001b[39;49m\u001b[43m_abstract_run_single\u001b[49m\u001b[43m(\u001b[49m\u001b[43mcondition\u001b[49m\u001b[43m,\u001b[49m\n\u001b[0;32m    282\u001b[0m \u001b[43m                                            \u001b[49m\u001b[38;5;28;43mself\u001b[39;49m\u001b[38;5;241;43m.\u001b[39;49m\u001b[43mconditions\u001b[49m\u001b[43m[\u001b[49m\u001b[43mcondition\u001b[49m\u001b[43m]\u001b[49m\u001b[43m[\u001b[49m\u001b[38;5;124;43m'\u001b[39;49m\u001b[38;5;124;43mcondition_to_get_feature_importance\u001b[39;49m\u001b[38;5;124;43m'\u001b[39;49m\u001b[43m]\u001b[49m\u001b[43m,\u001b[49m\n\u001b[0;32m    283\u001b[0m \u001b[43m                                            \u001b[49m\u001b[43mrng\u001b[49m\u001b[43m,\u001b[49m\n\u001b[0;32m    284\u001b[0m \u001b[43m                                            \u001b[49m\u001b[38;5;28;43mself\u001b[39;49m\u001b[38;5;241;43m.\u001b[39;49m\u001b[43mconditions\u001b[49m\u001b[43m[\u001b[49m\u001b[43mcondition\u001b[49m\u001b[43m]\u001b[49m\u001b[43m[\u001b[49m\u001b[38;5;124;43m'\u001b[39;49m\u001b[38;5;124;43mpipeline_function\u001b[39;49m\u001b[38;5;124;43m'\u001b[39;49m\u001b[43m]\u001b[49m\u001b[43m,\u001b[49m\n\u001b[0;32m    285\u001b[0m \u001b[43m                                            \u001b[49m\u001b[38;5;28;43mself\u001b[39;49m\u001b[38;5;241;43m.\u001b[39;49m\u001b[43mconditions\u001b[49m\u001b[43m[\u001b[49m\u001b[43mcondition\u001b[49m\u001b[43m]\u001b[49m\u001b[43m[\u001b[49m\u001b[38;5;124;43m'\u001b[39;49m\u001b[38;5;124;43mpipeline_args\u001b[39;49m\u001b[38;5;124;43m'\u001b[39;49m\u001b[43m]\u001b[49m\u001b[43m,\u001b[49m\n\u001b[0;32m    286\u001b[0m \u001b[43m                                            \u001b[49m\u001b[38;5;28;43mself\u001b[39;49m\u001b[38;5;241;43m.\u001b[39;49m\u001b[43mconditions\u001b[49m\u001b[43m[\u001b[49m\u001b[43mcondition\u001b[49m\u001b[43m]\u001b[49m\u001b[43m[\u001b[49m\u001b[38;5;124;43m'\u001b[39;49m\u001b[38;5;124;43meval_function\u001b[39;49m\u001b[38;5;124;43m'\u001b[39;49m\u001b[43m]\u001b[49m\u001b[43m,\u001b[49m\n\u001b[0;32m    287\u001b[0m \u001b[43m                                            \u001b[49m\u001b[38;5;28;43mself\u001b[39;49m\u001b[38;5;241;43m.\u001b[39;49m\u001b[43mconditions\u001b[49m\u001b[43m[\u001b[49m\u001b[43mcondition\u001b[49m\u001b[43m]\u001b[49m\u001b[43m[\u001b[49m\u001b[38;5;124;43m'\u001b[39;49m\u001b[38;5;124;43meval_args\u001b[39;49m\u001b[38;5;124;43m'\u001b[39;49m\u001b[43m]\u001b[49m\u001b[43m,\u001b[49m\n\u001b[0;32m    288\u001b[0m \u001b[43m                                            \u001b[49m\u001b[43mverbose\u001b[49m\u001b[38;5;241;43m=\u001b[39;49m\u001b[43mverbose\u001b[49m\n\u001b[0;32m    289\u001b[0m \u001b[43m                                            \u001b[49m\u001b[43m)\u001b[49m\n\u001b[0;32m    290\u001b[0m             data_collector\u001b[38;5;241m.\u001b[39mappend(data)\n\u001b[0;32m    291\u001b[0m \u001b[38;5;28;01melse\u001b[39;00m:\n\u001b[0;32m    292\u001b[0m     \u001b[38;5;66;03m# use joblib to parallelize the process, disable verbose printing\u001b[39;00m\n",
      "File \u001b[1;32mc:\\Github\\ode-biomarker-project\\toolkit.py:262\u001b[0m, in \u001b[0;36mPowerkit._abstract_run_single\u001b[1;34m(self, condition, condition_to_get_feature_importance, rng, pipeline_function, pipeline_args, eval_function, eval_args, verbose)\u001b[0m\n\u001b[0;32m    260\u001b[0m X_train, X_test, y_train, y_test \u001b[38;5;241m=\u001b[39m train_test_split(\u001b[38;5;28mself\u001b[39m\u001b[38;5;241m.\u001b[39mfeature_data, \u001b[38;5;28mself\u001b[39m\u001b[38;5;241m.\u001b[39mlabel_data, test_size\u001b[38;5;241m=\u001b[39m\u001b[38;5;28mself\u001b[39m\u001b[38;5;241m.\u001b[39mcv_split_size, random_state\u001b[38;5;241m=\u001b[39mrng)\n\u001b[0;32m    261\u001b[0m pipeline_comps \u001b[38;5;241m=\u001b[39m pipeline_function(X_train, y_train, rng, \u001b[38;5;241m*\u001b[39m\u001b[38;5;241m*\u001b[39mpipeline_args)\n\u001b[1;32m--> 262\u001b[0m eval_returns \u001b[38;5;241m=\u001b[39m \u001b[43meval_function\u001b[49m\u001b[43m(\u001b[49m\u001b[43mX_test\u001b[49m\u001b[43m,\u001b[49m\u001b[43m \u001b[49m\u001b[43my_test\u001b[49m\u001b[43m,\u001b[49m\u001b[43m \u001b[49m\u001b[43mpipeline_components\u001b[49m\u001b[38;5;241;43m=\u001b[39;49m\u001b[43mpipeline_comps\u001b[49m\u001b[43m,\u001b[49m\u001b[43m \u001b[49m\u001b[38;5;241;43m*\u001b[39;49m\u001b[38;5;241;43m*\u001b[39;49m\u001b[43meval_args\u001b[49m\u001b[43m)\u001b[49m\n\u001b[0;32m    264\u001b[0m \u001b[38;5;66;03m# update the final returns\u001b[39;00m\n\u001b[0;32m    265\u001b[0m final_returns\u001b[38;5;241m.\u001b[39mupdate(eval_returns)\n",
      "Cell \u001b[1;32mIn[26], line 27\u001b[0m, in \u001b[0;36meval_func\u001b[1;34m(X_test, y_test, pipeline_components, normalised, **kwargs)\u001b[0m\n\u001b[0;32m     25\u001b[0m \u001b[38;5;28;01mif\u001b[39;00m normalised:\n\u001b[0;32m     26\u001b[0m     X_test \u001b[38;5;241m=\u001b[39m (X_test \u001b[38;5;241m-\u001b[39m X_test\u001b[38;5;241m.\u001b[39mmean()) \u001b[38;5;241m/\u001b[39m X_test\u001b[38;5;241m.\u001b[39mstd()\n\u001b[1;32m---> 27\u001b[0m X_test, _ \u001b[38;5;241m=\u001b[39m \u001b[43mimpute_by_first_quantile\u001b[49m\u001b[43m(\u001b[49m\u001b[43mX_test\u001b[49m\u001b[43m,\u001b[49m\u001b[43m \u001b[49m\u001b[43my_test\u001b[49m\u001b[43m)\u001b[49m\n\u001b[0;32m     28\u001b[0m selected_features, X_selected \u001b[38;5;241m=\u001b[39m select_preset_features(X_test, y_test, pipeline_components[\u001b[38;5;124m'\u001b[39m\u001b[38;5;124mfilter_selected_features\u001b[39m\u001b[38;5;124m'\u001b[39m])\n\u001b[0;32m     29\u001b[0m y_pred \u001b[38;5;241m=\u001b[39m pipeline_components[\u001b[38;5;124m'\u001b[39m\u001b[38;5;124mmodel\u001b[39m\u001b[38;5;124m'\u001b[39m]\u001b[38;5;241m.\u001b[39mpredict(X_selected)\n",
      "File \u001b[1;32mc:\\Github\\ode-biomarker-project\\toolkit.py:1279\u001b[0m, in \u001b[0;36mimpute_by_first_quantile\u001b[1;34m(X, y)\u001b[0m\n\u001b[0;32m   1277\u001b[0m imputer\u001b[38;5;241m.\u001b[39mfit(X)\n\u001b[0;32m   1278\u001b[0m \u001b[38;5;66;03m# transform the data\u001b[39;00m\n\u001b[1;32m-> 1279\u001b[0m X \u001b[38;5;241m=\u001b[39m \u001b[43mimputer\u001b[49m\u001b[38;5;241;43m.\u001b[39;49m\u001b[43mtransform\u001b[49m\u001b[43m(\u001b[49m\u001b[43mX\u001b[49m\u001b[43m,\u001b[49m\u001b[43m \u001b[49m\u001b[43mreturn_df\u001b[49m\u001b[38;5;241;43m=\u001b[39;49m\u001b[38;5;28;43;01mTrue\u001b[39;49;00m\u001b[43m)\u001b[49m\n\u001b[0;32m   1280\u001b[0m \u001b[38;5;28;01mreturn\u001b[39;00m X, y\n",
      "File \u001b[1;32mc:\\Github\\ode-biomarker-project\\venv\\lib\\site-packages\\sklearn\\utils\\_set_output.py:140\u001b[0m, in \u001b[0;36m_wrap_method_output.<locals>.wrapped\u001b[1;34m(self, X, *args, **kwargs)\u001b[0m\n\u001b[0;32m    138\u001b[0m \u001b[38;5;129m@wraps\u001b[39m(f)\n\u001b[0;32m    139\u001b[0m \u001b[38;5;28;01mdef\u001b[39;00m \u001b[38;5;21mwrapped\u001b[39m(\u001b[38;5;28mself\u001b[39m, X, \u001b[38;5;241m*\u001b[39margs, \u001b[38;5;241m*\u001b[39m\u001b[38;5;241m*\u001b[39mkwargs):\n\u001b[1;32m--> 140\u001b[0m     data_to_wrap \u001b[38;5;241m=\u001b[39m \u001b[43mf\u001b[49m\u001b[43m(\u001b[49m\u001b[38;5;28;43mself\u001b[39;49m\u001b[43m,\u001b[49m\u001b[43m \u001b[49m\u001b[43mX\u001b[49m\u001b[43m,\u001b[49m\u001b[43m \u001b[49m\u001b[38;5;241;43m*\u001b[39;49m\u001b[43margs\u001b[49m\u001b[43m,\u001b[49m\u001b[43m \u001b[49m\u001b[38;5;241;43m*\u001b[39;49m\u001b[38;5;241;43m*\u001b[39;49m\u001b[43mkwargs\u001b[49m\u001b[43m)\u001b[49m\n\u001b[0;32m    141\u001b[0m     \u001b[38;5;28;01mif\u001b[39;00m \u001b[38;5;28misinstance\u001b[39m(data_to_wrap, \u001b[38;5;28mtuple\u001b[39m):\n\u001b[0;32m    142\u001b[0m         \u001b[38;5;66;03m# only wrap the first output for cross decomposition\u001b[39;00m\n\u001b[0;32m    143\u001b[0m         \u001b[38;5;28;01mreturn\u001b[39;00m (\n\u001b[0;32m    144\u001b[0m             _wrap_data_with_container(method, data_to_wrap[\u001b[38;5;241m0\u001b[39m], X, \u001b[38;5;28mself\u001b[39m),\n\u001b[0;32m    145\u001b[0m             \u001b[38;5;241m*\u001b[39mdata_to_wrap[\u001b[38;5;241m1\u001b[39m:],\n\u001b[0;32m    146\u001b[0m         )\n",
      "File \u001b[1;32mc:\\Github\\ode-biomarker-project\\toolkit.py:84\u001b[0m, in \u001b[0;36mFirstQuantileImputer.transform\u001b[1;34m(self, X, y, return_df)\u001b[0m\n\u001b[0;32m     81\u001b[0m     \u001b[38;5;28;01mif\u001b[39;00m np\u001b[38;5;241m.\u001b[39misnan(hi_bound):\n\u001b[0;32m     82\u001b[0m         hi_bound \u001b[38;5;241m=\u001b[39m q\u001b[38;5;241m.\u001b[39mdropna()\u001b[38;5;241m.\u001b[39mmin()\n\u001b[1;32m---> 84\u001b[0m     vals \u001b[38;5;241m=\u001b[39m np\u001b[38;5;241m.\u001b[39mrandom\u001b[38;5;241m.\u001b[39muniform(\u001b[38;5;241m0\u001b[39m, hi_bound, size\u001b[38;5;241m=\u001b[39m\u001b[43mX\u001b[49m\u001b[43m[\u001b[49m\u001b[43mcol\u001b[49m\u001b[43m]\u001b[49m\u001b[38;5;241;43m.\u001b[39;49m\u001b[43misna\u001b[49m\u001b[43m(\u001b[49m\u001b[43m)\u001b[49m\u001b[38;5;241m.\u001b[39msum())\n\u001b[0;32m     85\u001b[0m     X\u001b[38;5;241m.\u001b[39mloc[X[col]\u001b[38;5;241m.\u001b[39misna(), col] \u001b[38;5;241m=\u001b[39m vals\n\u001b[0;32m     87\u001b[0m \u001b[38;5;28;01mif\u001b[39;00m return_df:\n",
      "File \u001b[1;32mc:\\Github\\ode-biomarker-project\\venv\\lib\\site-packages\\pandas\\core\\series.py:5712\u001b[0m, in \u001b[0;36mSeries.isna\u001b[1;34m(self)\u001b[0m\n\u001b[0;32m   5710\u001b[0m \u001b[38;5;129m@doc\u001b[39m(NDFrame\u001b[38;5;241m.\u001b[39misna, klass\u001b[38;5;241m=\u001b[39m_shared_doc_kwargs[\u001b[38;5;124m\"\u001b[39m\u001b[38;5;124mklass\u001b[39m\u001b[38;5;124m\"\u001b[39m])  \u001b[38;5;66;03m# type: ignore[has-type]\u001b[39;00m\n\u001b[0;32m   5711\u001b[0m \u001b[38;5;28;01mdef\u001b[39;00m \u001b[38;5;21misna\u001b[39m(\u001b[38;5;28mself\u001b[39m) \u001b[38;5;241m-\u001b[39m\u001b[38;5;241m>\u001b[39m Series:  \u001b[38;5;66;03m# type: ignore[override]\u001b[39;00m\n\u001b[1;32m-> 5712\u001b[0m     \u001b[38;5;28;01mreturn\u001b[39;00m \u001b[43mNDFrame\u001b[49m\u001b[38;5;241;43m.\u001b[39;49m\u001b[43misna\u001b[49m\u001b[43m(\u001b[49m\u001b[38;5;28;43mself\u001b[39;49m\u001b[43m)\u001b[49m\n",
      "File \u001b[1;32mc:\\Github\\ode-biomarker-project\\venv\\lib\\site-packages\\pandas\\core\\generic.py:7831\u001b[0m, in \u001b[0;36mNDFrame.isna\u001b[1;34m(self)\u001b[0m\n\u001b[0;32m   7770\u001b[0m \u001b[38;5;129m@doc\u001b[39m(klass\u001b[38;5;241m=\u001b[39m_shared_doc_kwargs[\u001b[38;5;124m\"\u001b[39m\u001b[38;5;124mklass\u001b[39m\u001b[38;5;124m\"\u001b[39m])\n\u001b[0;32m   7771\u001b[0m \u001b[38;5;28;01mdef\u001b[39;00m \u001b[38;5;21misna\u001b[39m(\u001b[38;5;28mself\u001b[39m: NDFrameT) \u001b[38;5;241m-\u001b[39m\u001b[38;5;241m>\u001b[39m NDFrameT:\n\u001b[0;32m   7772\u001b[0m \u001b[38;5;250m    \u001b[39m\u001b[38;5;124;03m\"\"\"\u001b[39;00m\n\u001b[0;32m   7773\u001b[0m \u001b[38;5;124;03m    Detect missing values.\u001b[39;00m\n\u001b[0;32m   7774\u001b[0m \n\u001b[1;32m   (...)\u001b[0m\n\u001b[0;32m   7829\u001b[0m \u001b[38;5;124;03m    dtype: bool\u001b[39;00m\n\u001b[0;32m   7830\u001b[0m \u001b[38;5;124;03m    \"\"\"\u001b[39;00m\n\u001b[1;32m-> 7831\u001b[0m     \u001b[38;5;28;01mreturn\u001b[39;00m \u001b[43misna\u001b[49m\u001b[43m(\u001b[49m\u001b[38;5;28;43mself\u001b[39;49m\u001b[43m)\u001b[49m\u001b[38;5;241m.\u001b[39m__finalize__(\u001b[38;5;28mself\u001b[39m, method\u001b[38;5;241m=\u001b[39m\u001b[38;5;124m\"\u001b[39m\u001b[38;5;124misna\u001b[39m\u001b[38;5;124m\"\u001b[39m)\n",
      "File \u001b[1;32mc:\\Github\\ode-biomarker-project\\venv\\lib\\site-packages\\pandas\\core\\dtypes\\missing.py:185\u001b[0m, in \u001b[0;36misna\u001b[1;34m(obj)\u001b[0m\n\u001b[0;32m    108\u001b[0m \u001b[38;5;28;01mdef\u001b[39;00m \u001b[38;5;21misna\u001b[39m(obj: \u001b[38;5;28mobject\u001b[39m) \u001b[38;5;241m-\u001b[39m\u001b[38;5;241m>\u001b[39m \u001b[38;5;28mbool\u001b[39m \u001b[38;5;241m|\u001b[39m npt\u001b[38;5;241m.\u001b[39mNDArray[np\u001b[38;5;241m.\u001b[39mbool_] \u001b[38;5;241m|\u001b[39m NDFrame:\n\u001b[0;32m    109\u001b[0m \u001b[38;5;250m    \u001b[39m\u001b[38;5;124;03m\"\"\"\u001b[39;00m\n\u001b[0;32m    110\u001b[0m \u001b[38;5;124;03m    Detect missing values for an array-like object.\u001b[39;00m\n\u001b[0;32m    111\u001b[0m \n\u001b[1;32m   (...)\u001b[0m\n\u001b[0;32m    183\u001b[0m \u001b[38;5;124;03m    Name: 1, dtype: bool\u001b[39;00m\n\u001b[0;32m    184\u001b[0m \u001b[38;5;124;03m    \"\"\"\u001b[39;00m\n\u001b[1;32m--> 185\u001b[0m     \u001b[38;5;28;01mreturn\u001b[39;00m \u001b[43m_isna\u001b[49m\u001b[43m(\u001b[49m\u001b[43mobj\u001b[49m\u001b[43m)\u001b[49m\n",
      "File \u001b[1;32mc:\\Github\\ode-biomarker-project\\venv\\lib\\site-packages\\pandas\\core\\dtypes\\missing.py:225\u001b[0m, in \u001b[0;36m_isna\u001b[1;34m(obj, inf_as_na)\u001b[0m\n\u001b[0;32m    223\u001b[0m     result \u001b[38;5;241m=\u001b[39m _isna_array(obj\u001b[38;5;241m.\u001b[39m_values, inf_as_na\u001b[38;5;241m=\u001b[39minf_as_na)\n\u001b[0;32m    224\u001b[0m     \u001b[38;5;66;03m# box\u001b[39;00m\n\u001b[1;32m--> 225\u001b[0m     result \u001b[38;5;241m=\u001b[39m \u001b[43mobj\u001b[49m\u001b[38;5;241;43m.\u001b[39;49m\u001b[43m_constructor\u001b[49m\u001b[43m(\u001b[49m\u001b[43mresult\u001b[49m\u001b[43m,\u001b[49m\u001b[43m \u001b[49m\u001b[43mindex\u001b[49m\u001b[38;5;241;43m=\u001b[39;49m\u001b[43mobj\u001b[49m\u001b[38;5;241;43m.\u001b[39;49m\u001b[43mindex\u001b[49m\u001b[43m,\u001b[49m\u001b[43m \u001b[49m\u001b[43mname\u001b[49m\u001b[38;5;241;43m=\u001b[39;49m\u001b[43mobj\u001b[49m\u001b[38;5;241;43m.\u001b[39;49m\u001b[43mname\u001b[49m\u001b[43m,\u001b[49m\u001b[43m \u001b[49m\u001b[43mcopy\u001b[49m\u001b[38;5;241;43m=\u001b[39;49m\u001b[38;5;28;43;01mFalse\u001b[39;49;00m\u001b[43m)\u001b[49m\n\u001b[0;32m    226\u001b[0m     \u001b[38;5;28;01mreturn\u001b[39;00m result\n\u001b[0;32m    227\u001b[0m \u001b[38;5;28;01melif\u001b[39;00m \u001b[38;5;28misinstance\u001b[39m(obj, ABCDataFrame):\n",
      "File \u001b[1;32mc:\\Github\\ode-biomarker-project\\venv\\lib\\site-packages\\pandas\\core\\series.py:475\u001b[0m, in \u001b[0;36mSeries.__init__\u001b[1;34m(self, data, index, dtype, name, copy, fastpath)\u001b[0m\n\u001b[0;32m    473\u001b[0m manager \u001b[38;5;241m=\u001b[39m get_option(\u001b[38;5;124m\"\u001b[39m\u001b[38;5;124mmode.data_manager\u001b[39m\u001b[38;5;124m\"\u001b[39m)\n\u001b[0;32m    474\u001b[0m \u001b[38;5;28;01mif\u001b[39;00m manager \u001b[38;5;241m==\u001b[39m \u001b[38;5;124m\"\u001b[39m\u001b[38;5;124mblock\u001b[39m\u001b[38;5;124m\"\u001b[39m:\n\u001b[1;32m--> 475\u001b[0m     data \u001b[38;5;241m=\u001b[39m \u001b[43mSingleBlockManager\u001b[49m\u001b[38;5;241;43m.\u001b[39;49m\u001b[43mfrom_array\u001b[49m\u001b[43m(\u001b[49m\u001b[43mdata\u001b[49m\u001b[43m,\u001b[49m\u001b[43m \u001b[49m\u001b[43mindex\u001b[49m\u001b[43m)\u001b[49m\n\u001b[0;32m    476\u001b[0m \u001b[38;5;28;01melif\u001b[39;00m manager \u001b[38;5;241m==\u001b[39m \u001b[38;5;124m\"\u001b[39m\u001b[38;5;124marray\u001b[39m\u001b[38;5;124m\"\u001b[39m:\n\u001b[0;32m    477\u001b[0m     data \u001b[38;5;241m=\u001b[39m SingleArrayManager\u001b[38;5;241m.\u001b[39mfrom_array(data, index)\n",
      "File \u001b[1;32mc:\\Github\\ode-biomarker-project\\venv\\lib\\site-packages\\pandas\\core\\internals\\managers.py:1913\u001b[0m, in \u001b[0;36mSingleBlockManager.from_array\u001b[1;34m(cls, array, index)\u001b[0m\n\u001b[0;32m   1908\u001b[0m \u001b[38;5;129m@classmethod\u001b[39m\n\u001b[0;32m   1909\u001b[0m \u001b[38;5;28;01mdef\u001b[39;00m \u001b[38;5;21mfrom_array\u001b[39m(\u001b[38;5;28mcls\u001b[39m, array: ArrayLike, index: Index) \u001b[38;5;241m-\u001b[39m\u001b[38;5;241m>\u001b[39m SingleBlockManager:\n\u001b[0;32m   1910\u001b[0m \u001b[38;5;250m    \u001b[39m\u001b[38;5;124;03m\"\"\"\u001b[39;00m\n\u001b[0;32m   1911\u001b[0m \u001b[38;5;124;03m    Constructor for if we have an array that is not yet a Block.\u001b[39;00m\n\u001b[0;32m   1912\u001b[0m \u001b[38;5;124;03m    \"\"\"\u001b[39;00m\n\u001b[1;32m-> 1913\u001b[0m     block \u001b[38;5;241m=\u001b[39m \u001b[43mnew_block\u001b[49m\u001b[43m(\u001b[49m\u001b[43marray\u001b[49m\u001b[43m,\u001b[49m\u001b[43m \u001b[49m\u001b[43mplacement\u001b[49m\u001b[38;5;241;43m=\u001b[39;49m\u001b[38;5;28;43mslice\u001b[39;49m\u001b[43m(\u001b[49m\u001b[38;5;241;43m0\u001b[39;49m\u001b[43m,\u001b[49m\u001b[43m \u001b[49m\u001b[38;5;28;43mlen\u001b[39;49m\u001b[43m(\u001b[49m\u001b[43mindex\u001b[49m\u001b[43m)\u001b[49m\u001b[43m)\u001b[49m\u001b[43m,\u001b[49m\u001b[43m \u001b[49m\u001b[43mndim\u001b[49m\u001b[38;5;241;43m=\u001b[39;49m\u001b[38;5;241;43m1\u001b[39;49m\u001b[43m)\u001b[49m\n\u001b[0;32m   1914\u001b[0m     \u001b[38;5;28;01mreturn\u001b[39;00m \u001b[38;5;28mcls\u001b[39m(block, index)\n",
      "File \u001b[1;32mc:\\Github\\ode-biomarker-project\\venv\\lib\\site-packages\\pandas\\core\\internals\\blocks.py:2175\u001b[0m, in \u001b[0;36mnew_block\u001b[1;34m(values, placement, ndim)\u001b[0m\n\u001b[0;32m   2172\u001b[0m \u001b[38;5;28;01mif\u001b[39;00m \u001b[38;5;129;01mnot\u001b[39;00m \u001b[38;5;28misinstance\u001b[39m(placement, BlockPlacement):\n\u001b[0;32m   2173\u001b[0m     placement \u001b[38;5;241m=\u001b[39m BlockPlacement(placement)\n\u001b[1;32m-> 2175\u001b[0m \u001b[43mcheck_ndim\u001b[49m\u001b[43m(\u001b[49m\u001b[43mvalues\u001b[49m\u001b[43m,\u001b[49m\u001b[43m \u001b[49m\u001b[43mplacement\u001b[49m\u001b[43m,\u001b[49m\u001b[43m \u001b[49m\u001b[43mndim\u001b[49m\u001b[43m)\u001b[49m\n\u001b[0;32m   2177\u001b[0m klass \u001b[38;5;241m=\u001b[39m get_block_type(values\u001b[38;5;241m.\u001b[39mdtype)\n\u001b[0;32m   2179\u001b[0m values \u001b[38;5;241m=\u001b[39m maybe_coerce_values(values)\n",
      "File \u001b[1;32mc:\\Github\\ode-biomarker-project\\venv\\lib\\site-packages\\pandas\\core\\internals\\blocks.py:2208\u001b[0m, in \u001b[0;36mcheck_ndim\u001b[1;34m(values, placement, ndim)\u001b[0m\n\u001b[0;32m   2201\u001b[0m \u001b[38;5;28;01mif\u001b[39;00m values\u001b[38;5;241m.\u001b[39mndim \u001b[38;5;241m>\u001b[39m ndim:\n\u001b[0;32m   2202\u001b[0m     \u001b[38;5;66;03m# Check for both np.ndarray and ExtensionArray\u001b[39;00m\n\u001b[0;32m   2203\u001b[0m     \u001b[38;5;28;01mraise\u001b[39;00m \u001b[38;5;167;01mValueError\u001b[39;00m(\n\u001b[0;32m   2204\u001b[0m         \u001b[38;5;124m\"\u001b[39m\u001b[38;5;124mWrong number of dimensions. \u001b[39m\u001b[38;5;124m\"\u001b[39m\n\u001b[0;32m   2205\u001b[0m         \u001b[38;5;124mf\u001b[39m\u001b[38;5;124m\"\u001b[39m\u001b[38;5;124mvalues.ndim > ndim [\u001b[39m\u001b[38;5;132;01m{\u001b[39;00mvalues\u001b[38;5;241m.\u001b[39mndim\u001b[38;5;132;01m}\u001b[39;00m\u001b[38;5;124m > \u001b[39m\u001b[38;5;132;01m{\u001b[39;00mndim\u001b[38;5;132;01m}\u001b[39;00m\u001b[38;5;124m]\u001b[39m\u001b[38;5;124m\"\u001b[39m\n\u001b[0;32m   2206\u001b[0m     )\n\u001b[1;32m-> 2208\u001b[0m \u001b[38;5;28;01melif\u001b[39;00m \u001b[38;5;129;01mnot\u001b[39;00m \u001b[43mis_1d_only_ea_dtype\u001b[49m\u001b[43m(\u001b[49m\u001b[43mvalues\u001b[49m\u001b[38;5;241;43m.\u001b[39;49m\u001b[43mdtype\u001b[49m\u001b[43m)\u001b[49m:\n\u001b[0;32m   2209\u001b[0m     \u001b[38;5;66;03m# TODO(EA2D): special case not needed with 2D EAs\u001b[39;00m\n\u001b[0;32m   2210\u001b[0m     \u001b[38;5;28;01mif\u001b[39;00m values\u001b[38;5;241m.\u001b[39mndim \u001b[38;5;241m!=\u001b[39m ndim:\n\u001b[0;32m   2211\u001b[0m         \u001b[38;5;28;01mraise\u001b[39;00m \u001b[38;5;167;01mValueError\u001b[39;00m(\n\u001b[0;32m   2212\u001b[0m             \u001b[38;5;124m\"\u001b[39m\u001b[38;5;124mWrong number of dimensions. \u001b[39m\u001b[38;5;124m\"\u001b[39m\n\u001b[0;32m   2213\u001b[0m             \u001b[38;5;124mf\u001b[39m\u001b[38;5;124m\"\u001b[39m\u001b[38;5;124mvalues.ndim != ndim [\u001b[39m\u001b[38;5;132;01m{\u001b[39;00mvalues\u001b[38;5;241m.\u001b[39mndim\u001b[38;5;132;01m}\u001b[39;00m\u001b[38;5;124m != \u001b[39m\u001b[38;5;132;01m{\u001b[39;00mndim\u001b[38;5;132;01m}\u001b[39;00m\u001b[38;5;124m]\u001b[39m\u001b[38;5;124m\"\u001b[39m\n\u001b[0;32m   2214\u001b[0m         )\n",
      "File \u001b[1;32mc:\\Github\\ode-biomarker-project\\venv\\lib\\site-packages\\pandas\\core\\dtypes\\common.py:1421\u001b[0m, in \u001b[0;36mis_1d_only_ea_dtype\u001b[1;34m(dtype)\u001b[0m\n\u001b[0;32m   1409\u001b[0m     \u001b[38;5;28;01mfrom\u001b[39;00m \u001b[38;5;21;01mpandas\u001b[39;00m\u001b[38;5;21;01m.\u001b[39;00m\u001b[38;5;21;01mcore\u001b[39;00m\u001b[38;5;21;01m.\u001b[39;00m\u001b[38;5;21;01marrays\u001b[39;00m \u001b[38;5;28;01mimport\u001b[39;00m (\n\u001b[0;32m   1410\u001b[0m         DatetimeArray,\n\u001b[0;32m   1411\u001b[0m         ExtensionArray,\n\u001b[0;32m   1412\u001b[0m         PeriodArray,\n\u001b[0;32m   1413\u001b[0m         TimedeltaArray,\n\u001b[0;32m   1414\u001b[0m     )\n\u001b[0;32m   1416\u001b[0m     \u001b[38;5;28;01mreturn\u001b[39;00m \u001b[38;5;28misinstance\u001b[39m(obj, ExtensionArray) \u001b[38;5;129;01mand\u001b[39;00m \u001b[38;5;129;01mnot\u001b[39;00m \u001b[38;5;28misinstance\u001b[39m(\n\u001b[0;32m   1417\u001b[0m         obj, (DatetimeArray, TimedeltaArray, PeriodArray)\n\u001b[0;32m   1418\u001b[0m     )\n\u001b[1;32m-> 1421\u001b[0m \u001b[38;5;28;01mdef\u001b[39;00m \u001b[38;5;21mis_1d_only_ea_dtype\u001b[39m(dtype: DtypeObj \u001b[38;5;241m|\u001b[39m \u001b[38;5;28;01mNone\u001b[39;00m) \u001b[38;5;241m-\u001b[39m\u001b[38;5;241m>\u001b[39m \u001b[38;5;28mbool\u001b[39m:\n\u001b[0;32m   1422\u001b[0m \u001b[38;5;250m    \u001b[39m\u001b[38;5;124;03m\"\"\"\u001b[39;00m\n\u001b[0;32m   1423\u001b[0m \u001b[38;5;124;03m    Analogue to is_extension_array_dtype but excluding DatetimeTZDtype.\u001b[39;00m\n\u001b[0;32m   1424\u001b[0m \u001b[38;5;124;03m    \"\"\"\u001b[39;00m\n\u001b[0;32m   1425\u001b[0m     \u001b[38;5;66;03m# Note: if other EA dtypes are ever held in HybridBlock, exclude those\u001b[39;00m\n\u001b[0;32m   1426\u001b[0m     \u001b[38;5;66;03m#  here too.\u001b[39;00m\n\u001b[0;32m   1427\u001b[0m     \u001b[38;5;66;03m# NB: need to check DatetimeTZDtype and not is_datetime64tz_dtype\u001b[39;00m\n\u001b[0;32m   1428\u001b[0m     \u001b[38;5;66;03m#  to exclude ArrowTimestampUSDtype\u001b[39;00m\n",
      "\u001b[1;31mKeyboardInterrupt\u001b[0m: "
     ]
    }
   ],
   "source": [
    "for model_used in all_models:\n",
    "    print(f'Running {model_used}...')\n",
    "    df = powerkit.run_selected_condition(model_used, rngs, 16, True)\n",
    "    if save_data:\n",
    "        print(f'Saved {model_used} to path')\n",
    "        df.to_pickle(f'{file_save_path}{exp_id}_{model_used}_control_dynamic.pkl')"
   ]
  },
  {
   "cell_type": "markdown",
   "metadata": {},
   "source": [
    "## Combined (CCLE + Dyn)"
   ]
  },
  {
   "cell_type": "code",
   "execution_count": null,
   "metadata": {},
   "outputs": [],
   "source": [
    "powerkit = Powerkit(combined_feature_data, combined_label_data)\n",
    "rngs = list(range(100))"
   ]
  },
  {
   "cell_type": "code",
   "execution_count": null,
   "metadata": {},
   "outputs": [],
   "source": [
    "for model_used in all_models:\n",
    "    powerkit.add_condition(model_used, True, pipeline_func, {'model_used': model_used, 'normalised': normalised}, eval_func, {'normalised': normalised})"
   ]
  },
  {
   "cell_type": "code",
   "execution_count": null,
   "metadata": {},
   "outputs": [],
   "source": [
    "for model_used in all_models:\n",
    "    print(f'Running {model_used}...')\n",
    "    df = powerkit.run_selected_condition(model_used, rngs, 16, True)\n",
    "    if save_data:\n",
    "        print(f'Saved {model_used} to path')\n",
    "        df.to_pickle(f'{file_save_path}{exp_id}_{model_used}_combined.pkl')"
   ]
  },
  {
   "cell_type": "markdown",
   "metadata": {},
   "source": [
    "## Transformed Gene Only"
   ]
  },
  {
   "cell_type": "code",
   "execution_count": null,
   "metadata": {},
   "outputs": [],
   "source": [
    "sub_exp_id = 'specie_genes'"
   ]
  },
  {
   "cell_type": "code",
   "execution_count": null,
   "metadata": {},
   "outputs": [],
   "source": [
    "powerkit = Powerkit(combined_feature_data, combined_label_data)\n",
    "rngs = list(range(100))"
   ]
  },
  {
   "cell_type": "code",
   "execution_count": null,
   "metadata": {},
   "outputs": [],
   "source": [
    "\n",
    "for model_used in all_models:\n",
    "    pipeline_args = {'model_used': model_used, 'keep_features': transformed_gene_list, 'normalised': normalised}\n",
    "    powerkit.add_condition(model_used, True, pipeline_select_only, pipeline_args, eval_func, {'normalised': normalised})"
   ]
  },
  {
   "cell_type": "code",
   "execution_count": null,
   "metadata": {},
   "outputs": [],
   "source": [
    "for model_used in all_models:\n",
    "    print(f'Running {model_used}...')\n",
    "    df = powerkit.run_selected_condition(model_used, rngs, 16, True)\n",
    "    if save_data:\n",
    "        print(f'Saved {model_used} to path')\n",
    "        df.to_pickle(f'{file_save_path}{exp_id}_{model_used}_{sub_exp_id}.pkl')"
   ]
  },
  {
   "cell_type": "markdown",
   "metadata": {},
   "source": [
    "## Select Genes and Combine Dynamic Features"
   ]
  },
  {
   "cell_type": "code",
   "execution_count": 14,
   "metadata": {},
   "outputs": [],
   "source": [
    "sub_exp_id = 'select_gene_dynamic'"
   ]
  },
  {
   "cell_type": "code",
   "execution_count": 15,
   "metadata": {},
   "outputs": [],
   "source": [
    "powerkit = Powerkit(combined_feature_data, combined_label_data)\n",
    "rngs = list(range(100))"
   ]
  },
  {
   "cell_type": "code",
   "execution_count": 16,
   "metadata": {},
   "outputs": [],
   "source": [
    "\n",
    "for model_used in all_models:\n",
    "    pipeline_args = {'model_used': model_used, 'keep_features': dynamic_features}\n",
    "    powerkit.add_condition(model_used, True, pipeline_select_genes_only, pipeline_args, eval_func, {})"
   ]
  },
  {
   "cell_type": "code",
   "execution_count": 17,
   "metadata": {},
   "outputs": [
    {
     "name": "stdout",
     "output_type": "stream",
     "text": [
      "Running SVR...\n"
     ]
    },
    {
     "name": "stderr",
     "output_type": "stream",
     "text": [
      "  2%|▏         | 2/100 [01:08<55:40, 34.08s/it]\n"
     ]
    },
    {
     "ename": "KeyboardInterrupt",
     "evalue": "",
     "output_type": "error",
     "traceback": [
      "\u001b[1;31m---------------------------------------------------------------------------\u001b[0m",
      "\u001b[1;31mKeyboardInterrupt\u001b[0m                         Traceback (most recent call last)",
      "Cell \u001b[1;32mIn[17], line 3\u001b[0m\n\u001b[0;32m      1\u001b[0m \u001b[38;5;28;01mfor\u001b[39;00m model_used \u001b[38;5;129;01min\u001b[39;00m all_models:\n\u001b[0;32m      2\u001b[0m     \u001b[38;5;28mprint\u001b[39m(\u001b[38;5;124mf\u001b[39m\u001b[38;5;124m'\u001b[39m\u001b[38;5;124mRunning \u001b[39m\u001b[38;5;132;01m{\u001b[39;00mmodel_used\u001b[38;5;132;01m}\u001b[39;00m\u001b[38;5;124m...\u001b[39m\u001b[38;5;124m'\u001b[39m)\n\u001b[1;32m----> 3\u001b[0m     df \u001b[38;5;241m=\u001b[39m \u001b[43mpowerkit\u001b[49m\u001b[38;5;241;43m.\u001b[39;49m\u001b[43mrun_selected_condition\u001b[49m\u001b[43m(\u001b[49m\u001b[43mmodel_used\u001b[49m\u001b[43m,\u001b[49m\u001b[43m \u001b[49m\u001b[43mrngs\u001b[49m\u001b[43m,\u001b[49m\u001b[43m \u001b[49m\u001b[38;5;241;43m1\u001b[39;49m\u001b[43m,\u001b[49m\u001b[43m \u001b[49m\u001b[38;5;28;43;01mTrue\u001b[39;49;00m\u001b[43m)\u001b[49m\n\u001b[0;32m      4\u001b[0m     \u001b[38;5;28;01mif\u001b[39;00m save_data:\n\u001b[0;32m      5\u001b[0m         \u001b[38;5;28mprint\u001b[39m(\u001b[38;5;124mf\u001b[39m\u001b[38;5;124m'\u001b[39m\u001b[38;5;124mSaved \u001b[39m\u001b[38;5;132;01m{\u001b[39;00mmodel_used\u001b[38;5;132;01m}\u001b[39;00m\u001b[38;5;124m to path\u001b[39m\u001b[38;5;124m'\u001b[39m)\n",
      "File \u001b[1;32mc:\\Github\\ode-biomarker-project\\toolkit.py:315\u001b[0m, in \u001b[0;36mPowerkit.run_selected_condition\u001b[1;34m(self, condition, rng_list, n_jobs, verbose)\u001b[0m\n\u001b[0;32m    313\u001b[0m \u001b[38;5;28;01mif\u001b[39;00m condition \u001b[38;5;129;01mnot\u001b[39;00m \u001b[38;5;129;01min\u001b[39;00m \u001b[38;5;28mself\u001b[39m\u001b[38;5;241m.\u001b[39mconditions\u001b[38;5;241m.\u001b[39mkeys():\n\u001b[0;32m    314\u001b[0m     \u001b[38;5;28;01mraise\u001b[39;00m \u001b[38;5;167;01mValueError\u001b[39;00m(\u001b[38;5;124mf\u001b[39m\u001b[38;5;124m'\u001b[39m\u001b[38;5;124mcondition \u001b[39m\u001b[38;5;132;01m{\u001b[39;00mcondition\u001b[38;5;132;01m}\u001b[39;00m\u001b[38;5;124m does not exist\u001b[39m\u001b[38;5;124m'\u001b[39m)\n\u001b[1;32m--> 315\u001b[0m df \u001b[38;5;241m=\u001b[39m \u001b[38;5;28;43mself\u001b[39;49m\u001b[38;5;241;43m.\u001b[39;49m\u001b[43m_abstract_run\u001b[49m\u001b[43m(\u001b[49m\u001b[43mrng_list\u001b[49m\u001b[43m,\u001b[49m\u001b[43m \u001b[49m\u001b[43mn_jobs\u001b[49m\u001b[43m,\u001b[49m\u001b[43m \u001b[49m\u001b[43mverbose\u001b[49m\u001b[43m,\u001b[49m\u001b[43m \u001b[49m\u001b[43mconditions\u001b[49m\u001b[38;5;241;43m=\u001b[39;49m\u001b[43m[\u001b[49m\u001b[43mcondition\u001b[49m\u001b[43m]\u001b[49m\u001b[43m)\u001b[49m\n\u001b[0;32m    316\u001b[0m \u001b[38;5;28;01mreturn\u001b[39;00m df\n",
      "File \u001b[1;32mc:\\Github\\ode-biomarker-project\\toolkit.py:281\u001b[0m, in \u001b[0;36mPowerkit._abstract_run\u001b[1;34m(self, rng_list, n_jobs, verbose, conditions)\u001b[0m\n\u001b[0;32m    279\u001b[0m     \u001b[38;5;28;01mfor\u001b[39;00m rng \u001b[38;5;129;01min\u001b[39;00m tqdm(rng_list):\n\u001b[0;32m    280\u001b[0m         \u001b[38;5;28;01mfor\u001b[39;00m condition \u001b[38;5;129;01min\u001b[39;00m conditions:\n\u001b[1;32m--> 281\u001b[0m             data \u001b[38;5;241m=\u001b[39m \u001b[38;5;28;43mself\u001b[39;49m\u001b[38;5;241;43m.\u001b[39;49m\u001b[43m_abstract_run_single\u001b[49m\u001b[43m(\u001b[49m\u001b[43mcondition\u001b[49m\u001b[43m,\u001b[49m\n\u001b[0;32m    282\u001b[0m \u001b[43m                                            \u001b[49m\u001b[38;5;28;43mself\u001b[39;49m\u001b[38;5;241;43m.\u001b[39;49m\u001b[43mconditions\u001b[49m\u001b[43m[\u001b[49m\u001b[43mcondition\u001b[49m\u001b[43m]\u001b[49m\u001b[43m[\u001b[49m\u001b[38;5;124;43m'\u001b[39;49m\u001b[38;5;124;43mcondition_to_get_feature_importance\u001b[39;49m\u001b[38;5;124;43m'\u001b[39;49m\u001b[43m]\u001b[49m\u001b[43m,\u001b[49m\n\u001b[0;32m    283\u001b[0m \u001b[43m                                            \u001b[49m\u001b[43mrng\u001b[49m\u001b[43m,\u001b[49m\n\u001b[0;32m    284\u001b[0m \u001b[43m                                            \u001b[49m\u001b[38;5;28;43mself\u001b[39;49m\u001b[38;5;241;43m.\u001b[39;49m\u001b[43mconditions\u001b[49m\u001b[43m[\u001b[49m\u001b[43mcondition\u001b[49m\u001b[43m]\u001b[49m\u001b[43m[\u001b[49m\u001b[38;5;124;43m'\u001b[39;49m\u001b[38;5;124;43mpipeline_function\u001b[39;49m\u001b[38;5;124;43m'\u001b[39;49m\u001b[43m]\u001b[49m\u001b[43m,\u001b[49m\n\u001b[0;32m    285\u001b[0m \u001b[43m                                            \u001b[49m\u001b[38;5;28;43mself\u001b[39;49m\u001b[38;5;241;43m.\u001b[39;49m\u001b[43mconditions\u001b[49m\u001b[43m[\u001b[49m\u001b[43mcondition\u001b[49m\u001b[43m]\u001b[49m\u001b[43m[\u001b[49m\u001b[38;5;124;43m'\u001b[39;49m\u001b[38;5;124;43mpipeline_args\u001b[39;49m\u001b[38;5;124;43m'\u001b[39;49m\u001b[43m]\u001b[49m\u001b[43m,\u001b[49m\n\u001b[0;32m    286\u001b[0m \u001b[43m                                            \u001b[49m\u001b[38;5;28;43mself\u001b[39;49m\u001b[38;5;241;43m.\u001b[39;49m\u001b[43mconditions\u001b[49m\u001b[43m[\u001b[49m\u001b[43mcondition\u001b[49m\u001b[43m]\u001b[49m\u001b[43m[\u001b[49m\u001b[38;5;124;43m'\u001b[39;49m\u001b[38;5;124;43meval_function\u001b[39;49m\u001b[38;5;124;43m'\u001b[39;49m\u001b[43m]\u001b[49m\u001b[43m,\u001b[49m\n\u001b[0;32m    287\u001b[0m \u001b[43m                                            \u001b[49m\u001b[38;5;28;43mself\u001b[39;49m\u001b[38;5;241;43m.\u001b[39;49m\u001b[43mconditions\u001b[49m\u001b[43m[\u001b[49m\u001b[43mcondition\u001b[49m\u001b[43m]\u001b[49m\u001b[43m[\u001b[49m\u001b[38;5;124;43m'\u001b[39;49m\u001b[38;5;124;43meval_args\u001b[39;49m\u001b[38;5;124;43m'\u001b[39;49m\u001b[43m]\u001b[49m\u001b[43m,\u001b[49m\n\u001b[0;32m    288\u001b[0m \u001b[43m                                            \u001b[49m\u001b[43mverbose\u001b[49m\u001b[38;5;241;43m=\u001b[39;49m\u001b[43mverbose\u001b[49m\n\u001b[0;32m    289\u001b[0m \u001b[43m                                            \u001b[49m\u001b[43m)\u001b[49m\n\u001b[0;32m    290\u001b[0m             data_collector\u001b[38;5;241m.\u001b[39mappend(data)\n\u001b[0;32m    291\u001b[0m \u001b[38;5;28;01melse\u001b[39;00m:\n\u001b[0;32m    292\u001b[0m     \u001b[38;5;66;03m# use joblib to parallelize the process, disable verbose printing\u001b[39;00m\n",
      "File \u001b[1;32mc:\\Github\\ode-biomarker-project\\toolkit.py:261\u001b[0m, in \u001b[0;36mPowerkit._abstract_run_single\u001b[1;34m(self, condition, condition_to_get_feature_importance, rng, pipeline_function, pipeline_args, eval_function, eval_args, verbose)\u001b[0m\n\u001b[0;32m    259\u001b[0m \u001b[38;5;66;03m# split the data and go through the pipeline\u001b[39;00m\n\u001b[0;32m    260\u001b[0m X_train, X_test, y_train, y_test \u001b[38;5;241m=\u001b[39m train_test_split(\u001b[38;5;28mself\u001b[39m\u001b[38;5;241m.\u001b[39mfeature_data, \u001b[38;5;28mself\u001b[39m\u001b[38;5;241m.\u001b[39mlabel_data, test_size\u001b[38;5;241m=\u001b[39m\u001b[38;5;28mself\u001b[39m\u001b[38;5;241m.\u001b[39mcv_split_size, random_state\u001b[38;5;241m=\u001b[39mrng)\n\u001b[1;32m--> 261\u001b[0m pipeline_comps \u001b[38;5;241m=\u001b[39m \u001b[43mpipeline_function\u001b[49m\u001b[43m(\u001b[49m\u001b[43mX_train\u001b[49m\u001b[43m,\u001b[49m\u001b[43m \u001b[49m\u001b[43my_train\u001b[49m\u001b[43m,\u001b[49m\u001b[43m \u001b[49m\u001b[43mrng\u001b[49m\u001b[43m,\u001b[49m\u001b[43m \u001b[49m\u001b[38;5;241;43m*\u001b[39;49m\u001b[38;5;241;43m*\u001b[39;49m\u001b[43mpipeline_args\u001b[49m\u001b[43m)\u001b[49m\n\u001b[0;32m    262\u001b[0m eval_returns \u001b[38;5;241m=\u001b[39m eval_function(X_test, y_test, pipeline_components\u001b[38;5;241m=\u001b[39mpipeline_comps, \u001b[38;5;241m*\u001b[39m\u001b[38;5;241m*\u001b[39meval_args)\n\u001b[0;32m    264\u001b[0m \u001b[38;5;66;03m# update the final returns\u001b[39;00m\n",
      "Cell \u001b[1;32mIn[11], line 4\u001b[0m, in \u001b[0;36mpipeline_select_genes_only\u001b[1;34m(X_train, y_train, rng, model_used, keep_features, normalised, **kwargs)\u001b[0m\n\u001b[0;32m      2\u001b[0m \u001b[38;5;28;01mif\u001b[39;00m normalised:\n\u001b[0;32m      3\u001b[0m     X_train \u001b[38;5;241m=\u001b[39m normalise_data(X_train)\n\u001b[1;32m----> 4\u001b[0m X_train, _ \u001b[38;5;241m=\u001b[39m \u001b[43mimpute_by_first_quantile\u001b[49m\u001b[43m(\u001b[49m\u001b[43mX_train\u001b[49m\u001b[43m,\u001b[49m\u001b[43m \u001b[49m\u001b[43my_train\u001b[49m\u001b[43m)\u001b[49m\n\u001b[0;32m      5\u001b[0m final_selected_features \u001b[38;5;241m=\u001b[39m keep_features\n\u001b[0;32m      6\u001b[0m dynamic_X_train \u001b[38;5;241m=\u001b[39m X_train[final_selected_features]\n",
      "File \u001b[1;32mc:\\Github\\ode-biomarker-project\\toolkit.py:1279\u001b[0m, in \u001b[0;36mimpute_by_first_quantile\u001b[1;34m(X, y)\u001b[0m\n\u001b[0;32m   1277\u001b[0m imputer\u001b[38;5;241m.\u001b[39mfit(X)\n\u001b[0;32m   1278\u001b[0m \u001b[38;5;66;03m# transform the data\u001b[39;00m\n\u001b[1;32m-> 1279\u001b[0m X \u001b[38;5;241m=\u001b[39m \u001b[43mimputer\u001b[49m\u001b[38;5;241;43m.\u001b[39;49m\u001b[43mtransform\u001b[49m\u001b[43m(\u001b[49m\u001b[43mX\u001b[49m\u001b[43m,\u001b[49m\u001b[43m \u001b[49m\u001b[43mreturn_df\u001b[49m\u001b[38;5;241;43m=\u001b[39;49m\u001b[38;5;28;43;01mTrue\u001b[39;49;00m\u001b[43m)\u001b[49m\n\u001b[0;32m   1280\u001b[0m \u001b[38;5;28;01mreturn\u001b[39;00m X, y\n",
      "File \u001b[1;32mc:\\Github\\ode-biomarker-project\\venv\\lib\\site-packages\\sklearn\\utils\\_set_output.py:140\u001b[0m, in \u001b[0;36m_wrap_method_output.<locals>.wrapped\u001b[1;34m(self, X, *args, **kwargs)\u001b[0m\n\u001b[0;32m    138\u001b[0m \u001b[38;5;129m@wraps\u001b[39m(f)\n\u001b[0;32m    139\u001b[0m \u001b[38;5;28;01mdef\u001b[39;00m \u001b[38;5;21mwrapped\u001b[39m(\u001b[38;5;28mself\u001b[39m, X, \u001b[38;5;241m*\u001b[39margs, \u001b[38;5;241m*\u001b[39m\u001b[38;5;241m*\u001b[39mkwargs):\n\u001b[1;32m--> 140\u001b[0m     data_to_wrap \u001b[38;5;241m=\u001b[39m \u001b[43mf\u001b[49m\u001b[43m(\u001b[49m\u001b[38;5;28;43mself\u001b[39;49m\u001b[43m,\u001b[49m\u001b[43m \u001b[49m\u001b[43mX\u001b[49m\u001b[43m,\u001b[49m\u001b[43m \u001b[49m\u001b[38;5;241;43m*\u001b[39;49m\u001b[43margs\u001b[49m\u001b[43m,\u001b[49m\u001b[43m \u001b[49m\u001b[38;5;241;43m*\u001b[39;49m\u001b[38;5;241;43m*\u001b[39;49m\u001b[43mkwargs\u001b[49m\u001b[43m)\u001b[49m\n\u001b[0;32m    141\u001b[0m     \u001b[38;5;28;01mif\u001b[39;00m \u001b[38;5;28misinstance\u001b[39m(data_to_wrap, \u001b[38;5;28mtuple\u001b[39m):\n\u001b[0;32m    142\u001b[0m         \u001b[38;5;66;03m# only wrap the first output for cross decomposition\u001b[39;00m\n\u001b[0;32m    143\u001b[0m         \u001b[38;5;28;01mreturn\u001b[39;00m (\n\u001b[0;32m    144\u001b[0m             _wrap_data_with_container(method, data_to_wrap[\u001b[38;5;241m0\u001b[39m], X, \u001b[38;5;28mself\u001b[39m),\n\u001b[0;32m    145\u001b[0m             \u001b[38;5;241m*\u001b[39mdata_to_wrap[\u001b[38;5;241m1\u001b[39m:],\n\u001b[0;32m    146\u001b[0m         )\n",
      "File \u001b[1;32mc:\\Github\\ode-biomarker-project\\toolkit.py:85\u001b[0m, in \u001b[0;36mFirstQuantileImputer.transform\u001b[1;34m(self, X, y, return_df)\u001b[0m\n\u001b[0;32m     82\u001b[0m         hi_bound \u001b[38;5;241m=\u001b[39m q\u001b[38;5;241m.\u001b[39mdropna()\u001b[38;5;241m.\u001b[39mmin()\n\u001b[0;32m     84\u001b[0m     vals \u001b[38;5;241m=\u001b[39m np\u001b[38;5;241m.\u001b[39mrandom\u001b[38;5;241m.\u001b[39muniform(\u001b[38;5;241m0\u001b[39m, hi_bound, size\u001b[38;5;241m=\u001b[39mX[col]\u001b[38;5;241m.\u001b[39misna()\u001b[38;5;241m.\u001b[39msum())\n\u001b[1;32m---> 85\u001b[0m     X\u001b[38;5;241m.\u001b[39mloc[\u001b[43mX\u001b[49m\u001b[43m[\u001b[49m\u001b[43mcol\u001b[49m\u001b[43m]\u001b[49m\u001b[38;5;241;43m.\u001b[39;49m\u001b[43misna\u001b[49m\u001b[43m(\u001b[49m\u001b[43m)\u001b[49m, col] \u001b[38;5;241m=\u001b[39m vals\n\u001b[0;32m     87\u001b[0m \u001b[38;5;28;01mif\u001b[39;00m return_df:\n\u001b[0;32m     88\u001b[0m     \u001b[38;5;28;01mreturn\u001b[39;00m X\n",
      "File \u001b[1;32mc:\\Github\\ode-biomarker-project\\venv\\lib\\site-packages\\pandas\\core\\series.py:5712\u001b[0m, in \u001b[0;36mSeries.isna\u001b[1;34m(self)\u001b[0m\n\u001b[0;32m   5710\u001b[0m \u001b[38;5;129m@doc\u001b[39m(NDFrame\u001b[38;5;241m.\u001b[39misna, klass\u001b[38;5;241m=\u001b[39m_shared_doc_kwargs[\u001b[38;5;124m\"\u001b[39m\u001b[38;5;124mklass\u001b[39m\u001b[38;5;124m\"\u001b[39m])  \u001b[38;5;66;03m# type: ignore[has-type]\u001b[39;00m\n\u001b[0;32m   5711\u001b[0m \u001b[38;5;28;01mdef\u001b[39;00m \u001b[38;5;21misna\u001b[39m(\u001b[38;5;28mself\u001b[39m) \u001b[38;5;241m-\u001b[39m\u001b[38;5;241m>\u001b[39m Series:  \u001b[38;5;66;03m# type: ignore[override]\u001b[39;00m\n\u001b[1;32m-> 5712\u001b[0m     \u001b[38;5;28;01mreturn\u001b[39;00m \u001b[43mNDFrame\u001b[49m\u001b[38;5;241;43m.\u001b[39;49m\u001b[43misna\u001b[49m\u001b[43m(\u001b[49m\u001b[38;5;28;43mself\u001b[39;49m\u001b[43m)\u001b[49m\n",
      "File \u001b[1;32mc:\\Github\\ode-biomarker-project\\venv\\lib\\site-packages\\pandas\\core\\generic.py:7831\u001b[0m, in \u001b[0;36mNDFrame.isna\u001b[1;34m(self)\u001b[0m\n\u001b[0;32m   7770\u001b[0m \u001b[38;5;129m@doc\u001b[39m(klass\u001b[38;5;241m=\u001b[39m_shared_doc_kwargs[\u001b[38;5;124m\"\u001b[39m\u001b[38;5;124mklass\u001b[39m\u001b[38;5;124m\"\u001b[39m])\n\u001b[0;32m   7771\u001b[0m \u001b[38;5;28;01mdef\u001b[39;00m \u001b[38;5;21misna\u001b[39m(\u001b[38;5;28mself\u001b[39m: NDFrameT) \u001b[38;5;241m-\u001b[39m\u001b[38;5;241m>\u001b[39m NDFrameT:\n\u001b[0;32m   7772\u001b[0m \u001b[38;5;250m    \u001b[39m\u001b[38;5;124;03m\"\"\"\u001b[39;00m\n\u001b[0;32m   7773\u001b[0m \u001b[38;5;124;03m    Detect missing values.\u001b[39;00m\n\u001b[0;32m   7774\u001b[0m \n\u001b[1;32m   (...)\u001b[0m\n\u001b[0;32m   7829\u001b[0m \u001b[38;5;124;03m    dtype: bool\u001b[39;00m\n\u001b[0;32m   7830\u001b[0m \u001b[38;5;124;03m    \"\"\"\u001b[39;00m\n\u001b[1;32m-> 7831\u001b[0m     \u001b[38;5;28;01mreturn\u001b[39;00m \u001b[43misna\u001b[49m\u001b[43m(\u001b[49m\u001b[38;5;28;43mself\u001b[39;49m\u001b[43m)\u001b[49m\u001b[38;5;241m.\u001b[39m__finalize__(\u001b[38;5;28mself\u001b[39m, method\u001b[38;5;241m=\u001b[39m\u001b[38;5;124m\"\u001b[39m\u001b[38;5;124misna\u001b[39m\u001b[38;5;124m\"\u001b[39m)\n",
      "File \u001b[1;32mc:\\Github\\ode-biomarker-project\\venv\\lib\\site-packages\\pandas\\core\\dtypes\\missing.py:185\u001b[0m, in \u001b[0;36misna\u001b[1;34m(obj)\u001b[0m\n\u001b[0;32m    108\u001b[0m \u001b[38;5;28;01mdef\u001b[39;00m \u001b[38;5;21misna\u001b[39m(obj: \u001b[38;5;28mobject\u001b[39m) \u001b[38;5;241m-\u001b[39m\u001b[38;5;241m>\u001b[39m \u001b[38;5;28mbool\u001b[39m \u001b[38;5;241m|\u001b[39m npt\u001b[38;5;241m.\u001b[39mNDArray[np\u001b[38;5;241m.\u001b[39mbool_] \u001b[38;5;241m|\u001b[39m NDFrame:\n\u001b[0;32m    109\u001b[0m \u001b[38;5;250m    \u001b[39m\u001b[38;5;124;03m\"\"\"\u001b[39;00m\n\u001b[0;32m    110\u001b[0m \u001b[38;5;124;03m    Detect missing values for an array-like object.\u001b[39;00m\n\u001b[0;32m    111\u001b[0m \n\u001b[1;32m   (...)\u001b[0m\n\u001b[0;32m    183\u001b[0m \u001b[38;5;124;03m    Name: 1, dtype: bool\u001b[39;00m\n\u001b[0;32m    184\u001b[0m \u001b[38;5;124;03m    \"\"\"\u001b[39;00m\n\u001b[1;32m--> 185\u001b[0m     \u001b[38;5;28;01mreturn\u001b[39;00m \u001b[43m_isna\u001b[49m\u001b[43m(\u001b[49m\u001b[43mobj\u001b[49m\u001b[43m)\u001b[49m\n",
      "File \u001b[1;32mc:\\Github\\ode-biomarker-project\\venv\\lib\\site-packages\\pandas\\core\\dtypes\\missing.py:223\u001b[0m, in \u001b[0;36m_isna\u001b[1;34m(obj, inf_as_na)\u001b[0m\n\u001b[0;32m    220\u001b[0m     \u001b[38;5;28;01mreturn\u001b[39;00m _isna_array(obj\u001b[38;5;241m.\u001b[39m_values, inf_as_na\u001b[38;5;241m=\u001b[39minf_as_na)\n\u001b[0;32m    222\u001b[0m \u001b[38;5;28;01melif\u001b[39;00m \u001b[38;5;28misinstance\u001b[39m(obj, ABCSeries):\n\u001b[1;32m--> 223\u001b[0m     result \u001b[38;5;241m=\u001b[39m \u001b[43m_isna_array\u001b[49m\u001b[43m(\u001b[49m\u001b[43mobj\u001b[49m\u001b[38;5;241;43m.\u001b[39;49m\u001b[43m_values\u001b[49m\u001b[43m,\u001b[49m\u001b[43m \u001b[49m\u001b[43minf_as_na\u001b[49m\u001b[38;5;241;43m=\u001b[39;49m\u001b[43minf_as_na\u001b[49m\u001b[43m)\u001b[49m\n\u001b[0;32m    224\u001b[0m     \u001b[38;5;66;03m# box\u001b[39;00m\n\u001b[0;32m    225\u001b[0m     result \u001b[38;5;241m=\u001b[39m obj\u001b[38;5;241m.\u001b[39m_constructor(result, index\u001b[38;5;241m=\u001b[39mobj\u001b[38;5;241m.\u001b[39mindex, name\u001b[38;5;241m=\u001b[39mobj\u001b[38;5;241m.\u001b[39mname, copy\u001b[38;5;241m=\u001b[39m\u001b[38;5;28;01mFalse\u001b[39;00m)\n",
      "File \u001b[1;32mc:\\Github\\ode-biomarker-project\\venv\\lib\\site-packages\\pandas\\core\\dtypes\\missing.py:304\u001b[0m, in \u001b[0;36m_isna_array\u001b[1;34m(values, inf_as_na)\u001b[0m\n\u001b[0;32m    302\u001b[0m         result \u001b[38;5;241m=\u001b[39m \u001b[38;5;241m~\u001b[39mnp\u001b[38;5;241m.\u001b[39misfinite(values)\n\u001b[0;32m    303\u001b[0m     \u001b[38;5;28;01melse\u001b[39;00m:\n\u001b[1;32m--> 304\u001b[0m         result \u001b[38;5;241m=\u001b[39m \u001b[43mnp\u001b[49m\u001b[38;5;241;43m.\u001b[39;49m\u001b[43misnan\u001b[49m\u001b[43m(\u001b[49m\u001b[43mvalues\u001b[49m\u001b[43m)\u001b[49m\n\u001b[0;32m    306\u001b[0m \u001b[38;5;28;01mreturn\u001b[39;00m result\n",
      "\u001b[1;31mKeyboardInterrupt\u001b[0m: "
     ]
    }
   ],
   "source": [
    "for model_used in all_models:\n",
    "    print(f'Running {model_used}...')\n",
    "    df = powerkit.run_selected_condition(model_used, rngs, 16, True)\n",
    "    if save_data:\n",
    "        print(f'Saved {model_used} to path')\n",
    "        df.to_pickle(f'{file_save_path}{exp_id}_{model_used}_{sub_exp_id}.pkl')"
   ]
  },
  {
   "cell_type": "markdown",
   "metadata": {},
   "source": [
    "## Transformed Genes and Dynamic Features"
   ]
  },
  {
   "cell_type": "code",
   "execution_count": null,
   "metadata": {},
   "outputs": [],
   "source": [
    "sub_exp_id = 'specie_genes_dynamic'"
   ]
  },
  {
   "cell_type": "code",
   "execution_count": null,
   "metadata": {},
   "outputs": [],
   "source": [
    "powerkit = Powerkit(combined_feature_data, combined_label_data)\n",
    "rngs = list(range(100))"
   ]
  },
  {
   "cell_type": "code",
   "execution_count": null,
   "metadata": {},
   "outputs": [],
   "source": [
    "\n",
    "for model_used in all_models:\n",
    "    pipeline_args = {'model_used': model_used, 'keep_features': transformed_dynamic_features}\n",
    "    powerkit.add_condition(model_used, True, pipeline_select_only, pipeline_args, eval_func, {})"
   ]
  },
  {
   "cell_type": "code",
   "execution_count": null,
   "metadata": {},
   "outputs": [],
   "source": [
    "for model_used in all_models:\n",
    "    print(f'Running {model_used}...')\n",
    "    df = powerkit.run_selected_condition(model_used, rngs, 16, True)\n",
    "    if save_data:\n",
    "        print(f'Saved {model_used} to path')\n",
    "        df.to_pickle(f'{file_save_path}{exp_id}_{model_used}_{sub_exp_id}.pkl')"
   ]
  },
  {
   "cell_type": "markdown",
   "metadata": {},
   "source": [
    "## Visualise all results "
   ]
  },
  {
   "cell_type": "code",
   "execution_count": null,
   "metadata": {},
   "outputs": [],
   "source": [
    "exp_id = 'fgfr4_v2'\n",
    "experiments = ['control_negative', 'control_positive', 'control_dynamic',\n",
    "               'specie_genes', 'specie_genes_dynamic', \n",
    "               'control_ccle','select_gene_dynamic']\n",
    "\n",
    "import pickle \n",
    "\n",
    "\n",
    "df_list_total = []\n",
    "for exp in experiments:\n",
    "    df_list = []\n",
    "    for model_used in all_models:\n",
    "        df = pd.read_pickle(f'{file_save_path}{exp_id}_{model_used}_{exp}.pkl')\n",
    "        print(f'Loaded {model_used} for {exp}')\n",
    "        df_list.append(df)\n",
    "\n",
    "    # join all the dataframes\n",
    "    df_all = pd.concat(df_list, axis=0)\n",
    "    df_all['experiment'] = exp\n",
    "    df_list_total.append(df_all)\n",
    "    \n",
    "total_df = pd.concat(df_list_total, axis=0)\n",
    "total_df"
   ]
  },
  {
   "cell_type": "code",
   "execution_count": null,
   "metadata": {},
   "outputs": [],
   "source": [
    "import seaborn as sns\n",
    "sns.set_context(\"paper\", rc={\"font.size\":16,\"axes.titlesize\":14,\"axes.labelsize\":14, 'xtick.labelsize': 10, 'ytick.labelsize': 10}) \n",
    "sns.set_style(\"whitegrid\")\n",
    "sns.set_palette(\"colorblind\")\n",
    "\n",
    "\n",
    "\n",
    "g = sns.catplot(\n",
    "    data=total_df, x=\"experiment\", y=\"model_performance\", col=\"condition\",\n",
    "    kind=\"box\", height=4, aspect=1.2, sharey=True, sharex=True, col_wrap=3,\n",
    "    boxprops=dict(alpha=.5),\n",
    ")\n",
    "g.set_xticklabels(rotation=60)\n",
    "for ax in g.axes.flat:\n",
    "    # ax.axhline(0, color='black', linestyle='--')\n",
    "    condition_df = total_df[total_df['condition'] == ax.title.get_text().split('=')[1].strip(' ')]\n",
    "    # print(ax.title.get_text().split('=')[1].strip(' '))\n",
    "    sns.swarmplot(data=condition_df, x=\"experiment\", y=\"model_performance\", alpha=0.7, ax=ax, size=3)\n",
    "    \n",
    "g.despine(left=True)\n",
    "plt.show()"
   ]
  }
 ],
 "metadata": {
  "kernelspec": {
   "display_name": "venv",
   "language": "python",
   "name": "python3"
  },
  "language_info": {
   "codemirror_mode": {
    "name": "ipython",
    "version": 3
   },
   "file_extension": ".py",
   "mimetype": "text/x-python",
   "name": "python",
   "nbconvert_exporter": "python",
   "pygments_lexer": "ipython3",
   "version": "3.8.10"
  }
 },
 "nbformat": 4,
 "nbformat_minor": 2
}
