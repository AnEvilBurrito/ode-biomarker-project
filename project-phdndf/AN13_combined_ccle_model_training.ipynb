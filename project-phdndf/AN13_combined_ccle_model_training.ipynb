{
 "cells": [
  {
   "cell_type": "markdown",
   "metadata": {},
   "source": [
    "# Combined CCLE Model Training\n",
    "\n",
    "This notebook combines the CCLE gene expression dataset with dynamic features and then is trained together"
   ]
  },
  {
   "cell_type": "markdown",
   "metadata": {},
   "source": [
    "## Initialisation"
   ]
  },
  {
   "cell_type": "code",
   "execution_count": 18,
   "metadata": {},
   "outputs": [
    {
     "name": "stdout",
     "output_type": "stream",
     "text": [
      "Project path set to: c:\\Github\\ode-biomarker-project\n"
     ]
    }
   ],
   "source": [
    "import os\n",
    "\n",
    "import numpy as np\n",
    "import pandas as pd\n",
    "\n",
    "path = os.getcwd()\n",
    "# find the string 'project' in the path, return index\n",
    "index_project = path.find('project')\n",
    "# slice the path from the index of 'project' to the end\n",
    "project_path = path[:index_project+7]\n",
    "# set the working directory\n",
    "os.chdir(project_path)\n",
    "print(f'Project path set to: {os.getcwd()}')"
   ]
  },
  {
   "cell_type": "code",
   "execution_count": 19,
   "metadata": {},
   "outputs": [],
   "source": [
    "# Bring in CCLE data\n",
    "from PathLoader import PathLoader\n",
    "from DataLink import DataLink\n",
    "path_loader = PathLoader('data_config.env', 'current_user.env')\n",
    "data_link = DataLink(path_loader, 'data_codes.csv')"
   ]
  },
  {
   "cell_type": "code",
   "execution_count": 20,
   "metadata": {},
   "outputs": [],
   "source": [
    "core_used = 32\n",
    "normalised = True\n",
    "save_model = False\n",
    "fixed_random_seed = 42  # -1 for no seed, NOT IN USE\n",
    "save_figure = False\n",
    "save_data = True\n",
    "show_figure = False\n",
    "rngs = list(range(100)) # for stable rng, for pure random, a random set can be used"
   ]
  },
  {
   "cell_type": "code",
   "execution_count": 21,
   "metadata": {},
   "outputs": [],
   "source": [
    "# dynamic_data_code = 'fgfr4_ccle_dynamic_features_v2'\n",
    "# drug_code = 'gdsc-1-FGFR_0939'\n",
    "# match_rules_data_code = 'fgfr4_model_ccle_match_rules'\n",
    "# folder_name = \"FGFR4-combined-model-training\"\n",
    "# exp_id = \"fgfr4_v4\"  # experiment id, fgfr4_v1, cdk46_v1"
   ]
  },
  {
   "cell_type": "code",
   "execution_count": 22,
   "metadata": {},
   "outputs": [],
   "source": [
    "dynamic_data_code = 'cdk46_ccle_dynamic_features_v4_ccle_proteomics'\n",
    "drug_code = 'gdsc-2-Palbociclib'\n",
    "match_rules_data_code = 'cdk_model_match_rules'\n",
    "folder_name = \"CDK46-combined-model-training\"\n",
    "exp_id = \"cdk46_v2\" # experiment id, fgfr4_v1, cdk46_v1"
   ]
  },
  {
   "cell_type": "code",
   "execution_count": 23,
   "metadata": {},
   "outputs": [
    {
     "name": "stdout",
     "output_type": "stream",
     "text": [
      "Data loaded for code generic-gdsc-2-Palbociclib-LN_IC50-cdk46_ccle_dynamic_features_v4_ccle_proteomics-true-Unnamed: 0 Feature Shape (255, 590) Label Shape (255,)\n",
      "Data loaded for code ccle-gdsc-2-Palbociclib-LN_IC50 Feature Shape (584, 19221) Label Shape (584,)\n",
      "Data loaded for code generic-gdsc-2-Palbociclib-LN_IC50-ccle_protein_expression-true-Cell_Line Feature Shape (258, 12755) Label Shape (258,)\n"
     ]
    }
   ],
   "source": [
    "# load in dynamic features data \n",
    "loading_code = f'generic-{drug_code}-LN_IC50-{dynamic_data_code}-true-Unnamed: 0'\n",
    "# generic-gdsc-{number}-{drug_name}-{target_label}-{dataset_name}-{replace_index}-{row_index}\n",
    "dynamic_feature_data, dynamic_label_data = data_link.get_data_using_code(loading_code)\n",
    "print(f'Data loaded for code {loading_code} Feature Shape {dynamic_feature_data.shape} Label Shape {dynamic_label_data.shape}')\n",
    "\n",
    "# load in ccle static gene expression data\n",
    "loading_code = f'ccle-{drug_code}-LN_IC50'\n",
    "feature_data, label_data = data_link.get_data_using_code(loading_code)\n",
    "print(f'Data loaded for code {loading_code} Feature Shape {feature_data.shape} Label Shape {label_data.shape}')\n",
    "\n",
    "loading_code = f'generic-{drug_code}-LN_IC50-ccle_protein_expression-true-Cell_Line'\n",
    "proteomics_feature_data, proteomics_label_data = data_link.get_data_using_code(loading_code)\n",
    "print(f'Data loaded for code {loading_code} Feature Shape {proteomics_feature_data.shape} Label Shape {proteomics_label_data.shape}')\n",
    "\n",
    "match_rules = data_link.get_data_from_code(match_rules_data_code)"
   ]
  },
  {
   "cell_type": "code",
   "execution_count": 24,
   "metadata": {},
   "outputs": [],
   "source": [
    "from toolkit import *"
   ]
  },
  {
   "cell_type": "code",
   "execution_count": 35,
   "metadata": {},
   "outputs": [],
   "source": [
    "# all_models = ['SVR', 'RandomForestRegressor', 'XGBRegressor', 'MLPRegressor', 'KNeighborsRegressor', 'ElasticNet']\n",
    "all_models = ['RandomForestRegressor']\n",
    "\n",
    "if not os.path.exists(f'{path_loader.get_data_path()}data/results/{folder_name}'):\n",
    "    os.makedirs(f'{path_loader.get_data_path()}data/results/{folder_name}')\n",
    "\n",
    "file_save_path = f'{path_loader.get_data_path()}data/results/{folder_name}/'"
   ]
  },
  {
   "cell_type": "code",
   "execution_count": 26,
   "metadata": {},
   "outputs": [
    {
     "name": "stdout",
     "output_type": "stream",
     "text": [
      "(251, 19221)\n",
      "(251,)\n"
     ]
    }
   ],
   "source": [
    "# remove samples present in feature data but not in dynamic feature data\n",
    "new_feature_data = feature_data.loc[feature_data.index.isin(dynamic_feature_data.index)]\n",
    "new_label_data = label_data.loc[label_data.index.isin(dynamic_feature_data.index)]\n",
    "\n",
    "# check size \n",
    "print(new_feature_data.shape)\n",
    "print(new_label_data.shape)"
   ]
  },
  {
   "cell_type": "code",
   "execution_count": 27,
   "metadata": {},
   "outputs": [],
   "source": [
    "combined_feature_data = pd.concat([new_feature_data, dynamic_feature_data], axis=1)\n",
    "combined_label_data = new_label_data"
   ]
  },
  {
   "cell_type": "code",
   "execution_count": 28,
   "metadata": {},
   "outputs": [
    {
     "data": {
      "text/html": [
       "<div>\n",
       "<style scoped>\n",
       "    .dataframe tbody tr th:only-of-type {\n",
       "        vertical-align: middle;\n",
       "    }\n",
       "\n",
       "    .dataframe tbody tr th {\n",
       "        vertical-align: top;\n",
       "    }\n",
       "\n",
       "    .dataframe thead th {\n",
       "        text-align: right;\n",
       "    }\n",
       "</style>\n",
       "<table border=\"1\" class=\"dataframe\">\n",
       "  <thead>\n",
       "    <tr style=\"text-align: right;\">\n",
       "      <th></th>\n",
       "      <th>TSPAN6</th>\n",
       "      <th>TNMD</th>\n",
       "      <th>DPM1</th>\n",
       "      <th>SCYL3</th>\n",
       "      <th>C1orf112</th>\n",
       "      <th>FGR</th>\n",
       "      <th>CFH</th>\n",
       "      <th>FUCA2</th>\n",
       "      <th>GCLC</th>\n",
       "      <th>NFYA</th>\n",
       "      <th>...</th>\n",
       "      <th>CDK2ccCYCEccP27p_auc</th>\n",
       "      <th>CDK2ccCYCEccP27p_median</th>\n",
       "      <th>CDK2ccCYCEccP27p_tfc</th>\n",
       "      <th>CDK2ccCYCEccP27p_tmax</th>\n",
       "      <th>CDK2ccCYCEccP27p_max</th>\n",
       "      <th>CDK2ccCYCEccP27p_tmin</th>\n",
       "      <th>CDK2ccCYCEccP27p_min</th>\n",
       "      <th>CDK2ccCYCEccP27p_ttsv</th>\n",
       "      <th>CDK2ccCYCEccP27p_tsv</th>\n",
       "      <th>CDK2ccCYCEccP27p_init</th>\n",
       "    </tr>\n",
       "  </thead>\n",
       "  <tbody>\n",
       "    <tr>\n",
       "      <th>SIDM00872</th>\n",
       "      <td>5.296090</td>\n",
       "      <td>0.000000</td>\n",
       "      <td>6.794416</td>\n",
       "      <td>3.452859</td>\n",
       "      <td>5.260778</td>\n",
       "      <td>0.042644</td>\n",
       "      <td>4.339137</td>\n",
       "      <td>5.833143</td>\n",
       "      <td>7.313246</td>\n",
       "      <td>4.764474</td>\n",
       "      <td>...</td>\n",
       "      <td>0.000612</td>\n",
       "      <td>0.000696</td>\n",
       "      <td>8.180351</td>\n",
       "      <td>0.967742</td>\n",
       "      <td>0.000950</td>\n",
       "      <td>0.000000</td>\n",
       "      <td>0.000103</td>\n",
       "      <td>0.032258</td>\n",
       "      <td>0.000103</td>\n",
       "      <td>0.000103</td>\n",
       "    </tr>\n",
       "    <tr>\n",
       "      <th>SIDM00866</th>\n",
       "      <td>5.214125</td>\n",
       "      <td>0.000000</td>\n",
       "      <td>6.328047</td>\n",
       "      <td>3.168321</td>\n",
       "      <td>4.654206</td>\n",
       "      <td>0.042644</td>\n",
       "      <td>0.432959</td>\n",
       "      <td>6.574102</td>\n",
       "      <td>5.140779</td>\n",
       "      <td>5.114783</td>\n",
       "      <td>...</td>\n",
       "      <td>0.003028</td>\n",
       "      <td>0.003115</td>\n",
       "      <td>-1.552301</td>\n",
       "      <td>0.000000</td>\n",
       "      <td>0.005330</td>\n",
       "      <td>0.967742</td>\n",
       "      <td>0.002088</td>\n",
       "      <td>0.032258</td>\n",
       "      <td>0.005330</td>\n",
       "      <td>0.005330</td>\n",
       "    </tr>\n",
       "    <tr>\n",
       "      <th>SIDM00885</th>\n",
       "      <td>5.241840</td>\n",
       "      <td>0.201634</td>\n",
       "      <td>5.615299</td>\n",
       "      <td>3.090853</td>\n",
       "      <td>3.732269</td>\n",
       "      <td>0.084064</td>\n",
       "      <td>0.111031</td>\n",
       "      <td>4.026800</td>\n",
       "      <td>5.471513</td>\n",
       "      <td>6.019480</td>\n",
       "      <td>...</td>\n",
       "      <td>0.000897</td>\n",
       "      <td>0.000931</td>\n",
       "      <td>0.048640</td>\n",
       "      <td>0.967742</td>\n",
       "      <td>0.000949</td>\n",
       "      <td>0.032258</td>\n",
       "      <td>0.000904</td>\n",
       "      <td>0.032258</td>\n",
       "      <td>0.000905</td>\n",
       "      <td>0.000905</td>\n",
       "    </tr>\n",
       "    <tr>\n",
       "      <th>SIDM00884</th>\n",
       "      <td>3.481557</td>\n",
       "      <td>0.000000</td>\n",
       "      <td>7.070389</td>\n",
       "      <td>2.341986</td>\n",
       "      <td>3.679199</td>\n",
       "      <td>0.176323</td>\n",
       "      <td>3.420887</td>\n",
       "      <td>5.854494</td>\n",
       "      <td>5.976134</td>\n",
       "      <td>5.112283</td>\n",
       "      <td>...</td>\n",
       "      <td>0.003432</td>\n",
       "      <td>0.003638</td>\n",
       "      <td>0.521439</td>\n",
       "      <td>0.967742</td>\n",
       "      <td>0.003650</td>\n",
       "      <td>0.000000</td>\n",
       "      <td>0.002399</td>\n",
       "      <td>0.032258</td>\n",
       "      <td>0.002399</td>\n",
       "      <td>0.002399</td>\n",
       "    </tr>\n",
       "    <tr>\n",
       "      <th>SIDM00874</th>\n",
       "      <td>4.903038</td>\n",
       "      <td>0.000000</td>\n",
       "      <td>7.177719</td>\n",
       "      <td>2.744161</td>\n",
       "      <td>4.648465</td>\n",
       "      <td>0.150560</td>\n",
       "      <td>0.070389</td>\n",
       "      <td>5.819924</td>\n",
       "      <td>4.374344</td>\n",
       "      <td>3.814550</td>\n",
       "      <td>...</td>\n",
       "      <td>0.000063</td>\n",
       "      <td>0.000065</td>\n",
       "      <td>0.089798</td>\n",
       "      <td>0.967742</td>\n",
       "      <td>0.000068</td>\n",
       "      <td>0.032258</td>\n",
       "      <td>0.000062</td>\n",
       "      <td>0.032258</td>\n",
       "      <td>0.000062</td>\n",
       "      <td>0.000062</td>\n",
       "    </tr>\n",
       "    <tr>\n",
       "      <th>...</th>\n",
       "      <td>...</td>\n",
       "      <td>...</td>\n",
       "      <td>...</td>\n",
       "      <td>...</td>\n",
       "      <td>...</td>\n",
       "      <td>...</td>\n",
       "      <td>...</td>\n",
       "      <td>...</td>\n",
       "      <td>...</td>\n",
       "      <td>...</td>\n",
       "      <td>...</td>\n",
       "      <td>...</td>\n",
       "      <td>...</td>\n",
       "      <td>...</td>\n",
       "      <td>...</td>\n",
       "      <td>...</td>\n",
       "      <td>...</td>\n",
       "      <td>...</td>\n",
       "      <td>...</td>\n",
       "      <td>...</td>\n",
       "      <td>...</td>\n",
       "    </tr>\n",
       "    <tr>\n",
       "      <th>SIDM00194</th>\n",
       "      <td>4.229588</td>\n",
       "      <td>0.014355</td>\n",
       "      <td>6.664767</td>\n",
       "      <td>2.691534</td>\n",
       "      <td>3.454176</td>\n",
       "      <td>0.042644</td>\n",
       "      <td>0.739848</td>\n",
       "      <td>6.417009</td>\n",
       "      <td>4.442943</td>\n",
       "      <td>2.959770</td>\n",
       "      <td>...</td>\n",
       "      <td>0.000402</td>\n",
       "      <td>0.000430</td>\n",
       "      <td>3.887395</td>\n",
       "      <td>0.967742</td>\n",
       "      <td>0.000705</td>\n",
       "      <td>0.032258</td>\n",
       "      <td>0.000089</td>\n",
       "      <td>0.032258</td>\n",
       "      <td>0.000144</td>\n",
       "      <td>0.000144</td>\n",
       "    </tr>\n",
       "    <tr>\n",
       "      <th>SIDM00826</th>\n",
       "      <td>NaN</td>\n",
       "      <td>NaN</td>\n",
       "      <td>NaN</td>\n",
       "      <td>NaN</td>\n",
       "      <td>NaN</td>\n",
       "      <td>NaN</td>\n",
       "      <td>NaN</td>\n",
       "      <td>NaN</td>\n",
       "      <td>NaN</td>\n",
       "      <td>NaN</td>\n",
       "      <td>...</td>\n",
       "      <td>0.003669</td>\n",
       "      <td>0.003859</td>\n",
       "      <td>0.119713</td>\n",
       "      <td>0.967742</td>\n",
       "      <td>0.003993</td>\n",
       "      <td>0.032258</td>\n",
       "      <td>0.003408</td>\n",
       "      <td>0.032258</td>\n",
       "      <td>0.003566</td>\n",
       "      <td>0.003566</td>\n",
       "    </tr>\n",
       "    <tr>\n",
       "      <th>SIDM00120</th>\n",
       "      <td>NaN</td>\n",
       "      <td>NaN</td>\n",
       "      <td>NaN</td>\n",
       "      <td>NaN</td>\n",
       "      <td>NaN</td>\n",
       "      <td>NaN</td>\n",
       "      <td>NaN</td>\n",
       "      <td>NaN</td>\n",
       "      <td>NaN</td>\n",
       "      <td>NaN</td>\n",
       "      <td>...</td>\n",
       "      <td>0.000476</td>\n",
       "      <td>0.000493</td>\n",
       "      <td>0.041080</td>\n",
       "      <td>0.967742</td>\n",
       "      <td>0.000503</td>\n",
       "      <td>0.032258</td>\n",
       "      <td>0.000481</td>\n",
       "      <td>0.032258</td>\n",
       "      <td>0.000483</td>\n",
       "      <td>0.000483</td>\n",
       "    </tr>\n",
       "    <tr>\n",
       "      <th>SIDM01108</th>\n",
       "      <td>NaN</td>\n",
       "      <td>NaN</td>\n",
       "      <td>NaN</td>\n",
       "      <td>NaN</td>\n",
       "      <td>NaN</td>\n",
       "      <td>NaN</td>\n",
       "      <td>NaN</td>\n",
       "      <td>NaN</td>\n",
       "      <td>NaN</td>\n",
       "      <td>NaN</td>\n",
       "      <td>...</td>\n",
       "      <td>0.005402</td>\n",
       "      <td>0.005578</td>\n",
       "      <td>-0.009393</td>\n",
       "      <td>0.000000</td>\n",
       "      <td>0.005631</td>\n",
       "      <td>0.451613</td>\n",
       "      <td>0.005577</td>\n",
       "      <td>0.032258</td>\n",
       "      <td>0.005631</td>\n",
       "      <td>0.005631</td>\n",
       "    </tr>\n",
       "    <tr>\n",
       "      <th>SIDM00711</th>\n",
       "      <td>NaN</td>\n",
       "      <td>NaN</td>\n",
       "      <td>NaN</td>\n",
       "      <td>NaN</td>\n",
       "      <td>NaN</td>\n",
       "      <td>NaN</td>\n",
       "      <td>NaN</td>\n",
       "      <td>NaN</td>\n",
       "      <td>NaN</td>\n",
       "      <td>NaN</td>\n",
       "      <td>...</td>\n",
       "      <td>0.000177</td>\n",
       "      <td>0.000181</td>\n",
       "      <td>0.076786</td>\n",
       "      <td>0.967742</td>\n",
       "      <td>0.000194</td>\n",
       "      <td>0.193548</td>\n",
       "      <td>0.000178</td>\n",
       "      <td>0.032258</td>\n",
       "      <td>0.000180</td>\n",
       "      <td>0.000180</td>\n",
       "    </tr>\n",
       "  </tbody>\n",
       "</table>\n",
       "<p>255 rows × 19811 columns</p>\n",
       "</div>"
      ],
      "text/plain": [
       "             TSPAN6      TNMD      DPM1     SCYL3  C1orf112       FGR  \\\n",
       "SIDM00872  5.296090  0.000000  6.794416  3.452859  5.260778  0.042644   \n",
       "SIDM00866  5.214125  0.000000  6.328047  3.168321  4.654206  0.042644   \n",
       "SIDM00885  5.241840  0.201634  5.615299  3.090853  3.732269  0.084064   \n",
       "SIDM00884  3.481557  0.000000  7.070389  2.341986  3.679199  0.176323   \n",
       "SIDM00874  4.903038  0.000000  7.177719  2.744161  4.648465  0.150560   \n",
       "...             ...       ...       ...       ...       ...       ...   \n",
       "SIDM00194  4.229588  0.014355  6.664767  2.691534  3.454176  0.042644   \n",
       "SIDM00826       NaN       NaN       NaN       NaN       NaN       NaN   \n",
       "SIDM00120       NaN       NaN       NaN       NaN       NaN       NaN   \n",
       "SIDM01108       NaN       NaN       NaN       NaN       NaN       NaN   \n",
       "SIDM00711       NaN       NaN       NaN       NaN       NaN       NaN   \n",
       "\n",
       "                CFH     FUCA2      GCLC      NFYA  ...  CDK2ccCYCEccP27p_auc  \\\n",
       "SIDM00872  4.339137  5.833143  7.313246  4.764474  ...              0.000612   \n",
       "SIDM00866  0.432959  6.574102  5.140779  5.114783  ...              0.003028   \n",
       "SIDM00885  0.111031  4.026800  5.471513  6.019480  ...              0.000897   \n",
       "SIDM00884  3.420887  5.854494  5.976134  5.112283  ...              0.003432   \n",
       "SIDM00874  0.070389  5.819924  4.374344  3.814550  ...              0.000063   \n",
       "...             ...       ...       ...       ...  ...                   ...   \n",
       "SIDM00194  0.739848  6.417009  4.442943  2.959770  ...              0.000402   \n",
       "SIDM00826       NaN       NaN       NaN       NaN  ...              0.003669   \n",
       "SIDM00120       NaN       NaN       NaN       NaN  ...              0.000476   \n",
       "SIDM01108       NaN       NaN       NaN       NaN  ...              0.005402   \n",
       "SIDM00711       NaN       NaN       NaN       NaN  ...              0.000177   \n",
       "\n",
       "           CDK2ccCYCEccP27p_median  CDK2ccCYCEccP27p_tfc  \\\n",
       "SIDM00872                 0.000696              8.180351   \n",
       "SIDM00866                 0.003115             -1.552301   \n",
       "SIDM00885                 0.000931              0.048640   \n",
       "SIDM00884                 0.003638              0.521439   \n",
       "SIDM00874                 0.000065              0.089798   \n",
       "...                            ...                   ...   \n",
       "SIDM00194                 0.000430              3.887395   \n",
       "SIDM00826                 0.003859              0.119713   \n",
       "SIDM00120                 0.000493              0.041080   \n",
       "SIDM01108                 0.005578             -0.009393   \n",
       "SIDM00711                 0.000181              0.076786   \n",
       "\n",
       "           CDK2ccCYCEccP27p_tmax  CDK2ccCYCEccP27p_max  CDK2ccCYCEccP27p_tmin  \\\n",
       "SIDM00872               0.967742              0.000950               0.000000   \n",
       "SIDM00866               0.000000              0.005330               0.967742   \n",
       "SIDM00885               0.967742              0.000949               0.032258   \n",
       "SIDM00884               0.967742              0.003650               0.000000   \n",
       "SIDM00874               0.967742              0.000068               0.032258   \n",
       "...                          ...                   ...                    ...   \n",
       "SIDM00194               0.967742              0.000705               0.032258   \n",
       "SIDM00826               0.967742              0.003993               0.032258   \n",
       "SIDM00120               0.967742              0.000503               0.032258   \n",
       "SIDM01108               0.000000              0.005631               0.451613   \n",
       "SIDM00711               0.967742              0.000194               0.193548   \n",
       "\n",
       "           CDK2ccCYCEccP27p_min  CDK2ccCYCEccP27p_ttsv  CDK2ccCYCEccP27p_tsv  \\\n",
       "SIDM00872              0.000103               0.032258              0.000103   \n",
       "SIDM00866              0.002088               0.032258              0.005330   \n",
       "SIDM00885              0.000904               0.032258              0.000905   \n",
       "SIDM00884              0.002399               0.032258              0.002399   \n",
       "SIDM00874              0.000062               0.032258              0.000062   \n",
       "...                         ...                    ...                   ...   \n",
       "SIDM00194              0.000089               0.032258              0.000144   \n",
       "SIDM00826              0.003408               0.032258              0.003566   \n",
       "SIDM00120              0.000481               0.032258              0.000483   \n",
       "SIDM01108              0.005577               0.032258              0.005631   \n",
       "SIDM00711              0.000178               0.032258              0.000180   \n",
       "\n",
       "           CDK2ccCYCEccP27p_init  \n",
       "SIDM00872               0.000103  \n",
       "SIDM00866               0.005330  \n",
       "SIDM00885               0.000905  \n",
       "SIDM00884               0.002399  \n",
       "SIDM00874               0.000062  \n",
       "...                          ...  \n",
       "SIDM00194               0.000144  \n",
       "SIDM00826               0.003566  \n",
       "SIDM00120               0.000483  \n",
       "SIDM01108               0.005631  \n",
       "SIDM00711               0.000180  \n",
       "\n",
       "[255 rows x 19811 columns]"
      ]
     },
     "execution_count": 28,
     "metadata": {},
     "output_type": "execute_result"
    }
   ],
   "source": [
    "combined_feature_data"
   ]
  },
  {
   "cell_type": "code",
   "execution_count": 29,
   "metadata": {},
   "outputs": [],
   "source": [
    "def normalise_data(data): \n",
    "    data = (data - data.mean()) / data.std()\n",
    "    return data\n",
    "\n",
    "def pipeline_func(X_train, y_train, rng, model_used, normalised=False, **kwargs):\n",
    "    # impute missing values by first quantile first \n",
    "    # normalise X_train \n",
    "    if normalised:\n",
    "        X_train = normalise_data(X_train)\n",
    "    X_train, _ = impute_by_first_quantile(X_train, y_train)\n",
    "    k = X_train.shape[1]\n",
    "    if k > 500: \n",
    "        k = 500 # limit the number of features to 500\n",
    "    selected_features, scores = f_regression_select(X_train, y_train, k)\n",
    "    model = get_model_from_string(model_used, **kwargs)\n",
    "    selected_features, X_selected = select_preset_features(X_train, y_train, selected_features)\n",
    "    # print(f'{rng} {model_used}')\n",
    "    model.fit(X_selected, y_train)\n",
    "    return {'model': model,\n",
    "            'filter_selected_features': selected_features,\n",
    "            'filter_scores': scores}\n",
    "    \n",
    "def eval_func(X_test, y_test, pipeline_components=None, \n",
    "              normalised=False,\n",
    "              save_model=False, \n",
    "              **kwargs):\n",
    "    if normalised:\n",
    "        X_test = (X_test - X_test.mean()) / X_test.std()\n",
    "    X_test, _ = impute_by_first_quantile(X_test, y_test)\n",
    "    selected_features, X_selected = select_preset_features(X_test, y_test, pipeline_components['filter_selected_features'])\n",
    "    y_pred = pipeline_components['model'].predict(X_selected)\n",
    "    # assess performance by pearson correlation\n",
    "    corr, p_vals = pearsonr(y_test, y_pred)\n",
    "    feat_imp = (pipeline_components['filter_selected_features'], pipeline_components['filter_scores'])\n",
    "    returned_data = {'model_performance': corr, 'p_vals': p_vals, 'feature_importance': feat_imp}\n",
    "    if save_model:\n",
    "        returned_data['model'] = pipeline_components['model']\n",
    "    return returned_data\n",
    "\n",
    "def eval_func_best(X_test, y_test, pipeline_components=None, normalised=False, **kwargs):\n",
    "    if normalised:\n",
    "        X_test = (X_test - X_test.mean()) / X_test.std()\n",
    "    X_test, _ = impute_by_first_quantile(X_test, y_test)\n",
    "    selected_features, X_selected = select_preset_features(X_test, y_test, pipeline_components['filter_selected_features'])\n",
    "    y_pred = pipeline_components['model'].predict(X_selected)\n",
    "    # assess performance by pearson correlation\n",
    "    corr, p_vals = pearsonr(y_test, y_pred)\n",
    "    feat_imp = (pipeline_components['filter_selected_features'], pipeline_components['filter_scores'])\n",
    "    return {'model_performance': corr, 'p_vals': p_vals, 'feature_importance': feat_imp, 'y_test': y_test, 'y_pred': y_pred}"
   ]
  },
  {
   "cell_type": "markdown",
   "metadata": {},
   "source": [
    "#### custom pipelines"
   ]
  },
  {
   "cell_type": "code",
   "execution_count": 30,
   "metadata": {},
   "outputs": [],
   "source": [
    "def pipeline_select_genes_only(X_train, y_train, rng, model_used, keep_features, normalised=False, **kwargs):\n",
    "    if normalised:\n",
    "        X_train = normalise_data(X_train)\n",
    "    X_train, _ = impute_by_first_quantile(X_train, y_train)\n",
    "    final_selected_features = keep_features\n",
    "    dynamic_X_train = X_train[final_selected_features]\n",
    "    static_X_train = X_train.drop(final_selected_features, axis=1)\n",
    "    k = X_train.shape[1]\n",
    "    if k > 500:\n",
    "        k = 500  # limit the number of features to 500\n",
    "    selected_features, scores = f_regression_select(static_X_train, y_train, k)\n",
    "    for f in selected_features:\n",
    "        final_selected_features.append(f)\n",
    "    selected_X_train = X_train[final_selected_features]\n",
    "    model = get_model_from_string(model_used, **kwargs)\n",
    "    model.fit(selected_X_train, y_train)\n",
    "    return {'model': model,\n",
    "            'filter_selected_features': final_selected_features,\n",
    "            'filter_scores': scores}"
   ]
  },
  {
   "cell_type": "code",
   "execution_count": 31,
   "metadata": {},
   "outputs": [],
   "source": [
    "def pipeline_select_only(X_train, y_train, rng, model_used, \n",
    "                        keep_features, limit_features = False, \n",
    "                         normalised=False, **kwargs):\n",
    "    if normalised:\n",
    "        X_train = normalise_data(X_train)\n",
    "    X_train, _ = impute_by_first_quantile(X_train, y_train)\n",
    "    final_selected_features = keep_features\n",
    "    selected_X_train = X_train[final_selected_features]\n",
    "    # get the scores for the selected features using f_regression\n",
    "    k = selected_X_train.shape[1]\n",
    "    if limit_features:\n",
    "        if k > 500:\n",
    "            k = 500  # limit the number of features to 500\n",
    "    _, scores = f_regression_select(selected_X_train, y_train, k)\n",
    "    model = get_model_from_string(model_used, **kwargs)\n",
    "    model.fit(selected_X_train, y_train)\n",
    "    return {'model': model,\n",
    "            'filter_selected_features': final_selected_features,\n",
    "            'filter_scores': scores}"
   ]
  },
  {
   "cell_type": "code",
   "execution_count": 32,
   "metadata": {},
   "outputs": [],
   "source": [
    "from sklearn.feature_selection import SequentialFeatureSelector\n",
    "\n",
    "def pipeline_func_ffs(X_train, y_train, rng, model_used, k=25, normalised=False, **kwargs):\n",
    "    # impute missing values by first quantile first\n",
    "    # normalise X_train\n",
    "    if normalised:\n",
    "        X_train = normalise_data(X_train)\n",
    "    X_train, _ = impute_by_first_quantile(X_train, y_train)\n",
    "    ffs_model = get_model_from_string(model_used, **kwargs)\n",
    "    sfs_forward = SequentialFeatureSelector(\n",
    "        ffs_model, n_features_to_select=k, direction=\"forward\"\n",
    "    ).fit(X_train, y_train)\n",
    "    # unfortunately, scikit-learn does not provide the order of the features selected\n",
    "    selected_features = list(X_train.columns[sfs_forward.get_support()])\n",
    "    _, scores = f_regression_select(X_train, y_train, k) # use f_regression score as a substitute, not ideal \n",
    "    model = get_model_from_string(model_used, **kwargs)\n",
    "    selected_features, X_selected = select_preset_features(\n",
    "        X_train, y_train, selected_features)\n",
    "    model.fit(X_selected, y_train)\n",
    "    return {'model': model,\n",
    "            'filter_selected_features': selected_features,\n",
    "            'filter_scores': scores}"
   ]
  },
  {
   "cell_type": "code",
   "execution_count": 33,
   "metadata": {},
   "outputs": [],
   "source": [
    "def pipeline_func_filter_half(X_train, y_train, rng, model_used, normalised=False, **kwargs):\n",
    "    # impute missing values by first quantile first \n",
    "    # normalise X_train \n",
    "    if normalised:\n",
    "        X_train = normalise_data(X_train)\n",
    "    X_train, _ = impute_by_first_quantile(X_train, y_train)\n",
    "    k = X_train.shape[1]\n",
    "    filter_size = int(k // 2)\n",
    "    selected_features, scores = f_regression_select(X_train, y_train, filter_size)\n",
    "    model = get_model_from_string(model_used, **kwargs)\n",
    "    selected_features, X_selected = select_preset_features(X_train, y_train, selected_features)\n",
    "    # print(f'{rng} {model_used}')\n",
    "    model.fit(X_selected, y_train)\n",
    "    return {'model': model,\n",
    "            'filter_selected_features': selected_features,\n",
    "            'filter_scores': scores}"
   ]
  },
  {
   "cell_type": "code",
   "execution_count": 34,
   "metadata": {},
   "outputs": [
    {
     "name": "stdout",
     "output_type": "stream",
     "text": [
      "Length of transformed gene features: 39\n",
      "Length of transformed dynamic features: 629\n"
     ]
    }
   ],
   "source": [
    "transformed_gene_list = [] \n",
    "# we deduce these from the original match rules file\n",
    "\n",
    "gene_match_rules = match_rules.dropna(subset=['reference'])\n",
    "for index, row in gene_match_rules.iterrows():\n",
    "    gene = row['reference'].split(';')\n",
    "    for g in gene:\n",
    "        if g not in transformed_gene_list:\n",
    "            transformed_gene_list.append(g)    \n",
    "            \n",
    "dynamic_features = list(dynamic_feature_data.columns)\n",
    "transformed_dynamic_features = []\n",
    "for f in dynamic_features:\n",
    "    transformed_dynamic_features.append(f)\n",
    "for g in transformed_gene_list:\n",
    "    if g not in transformed_dynamic_features:\n",
    "        transformed_dynamic_features.append(g)\n",
    "        \n",
    "print(f'Length of transformed gene features: {len(transformed_gene_list)}')\n",
    "print(f'Length of transformed dynamic features: {len(transformed_dynamic_features)}')"
   ]
  },
  {
   "cell_type": "markdown",
   "metadata": {},
   "source": [
    "## Negative Control (random data)"
   ]
  },
  {
   "cell_type": "code",
   "execution_count": 16,
   "metadata": {},
   "outputs": [],
   "source": [
    "# generate a random dataset for testing\n",
    "import numpy as np\n",
    "\n",
    "# set random seed\n",
    "np.random.seed(42)\n",
    "\n",
    "X = np.random.rand(1000, 500)\n",
    "y = np.random.rand(1000)\n",
    "\n",
    "X = pd.DataFrame(X)\n",
    "y = pd.Series(y)"
   ]
  },
  {
   "cell_type": "code",
   "execution_count": 17,
   "metadata": {},
   "outputs": [],
   "source": [
    "powerkit = Powerkit(X, y)"
   ]
  },
  {
   "cell_type": "code",
   "execution_count": 18,
   "metadata": {},
   "outputs": [],
   "source": [
    "for model_used in all_models:\n",
    "    powerkit.add_condition(model_used, False, pipeline_func, {'model_used': model_used, 'normalised': normalised}, eval_func, {'normalised': normalised})"
   ]
  },
  {
   "cell_type": "code",
   "execution_count": 19,
   "metadata": {},
   "outputs": [
    {
     "name": "stdout",
     "output_type": "stream",
     "text": [
      "Running SVR...\n"
     ]
    },
    {
     "name": "stdout",
     "output_type": "stream",
     "text": [
      "Saved SVR to path\n",
      "Running RandomForestRegressor...\n",
      "Saved RandomForestRegressor to path\n",
      "Running XGBRegressor...\n",
      "Saved XGBRegressor to path\n",
      "Running MLPRegressor...\n",
      "Saved MLPRegressor to path\n",
      "Running KNeighborsRegressor...\n",
      "Saved KNeighborsRegressor to path\n",
      "Running ElasticNet...\n",
      "Saved ElasticNet to path\n"
     ]
    }
   ],
   "source": [
    "for model_used in all_models:\n",
    "    print(f'Running {model_used}...')\n",
    "    df = powerkit.run_selected_condition(model_used, rngs, core_used, True)\n",
    "    if save_data:\n",
    "        print(f'Saved {model_used} to path')\n",
    "        df.to_pickle(f'{file_save_path}{exp_id}_{model_used}_control_negative.pkl')"
   ]
  },
  {
   "cell_type": "markdown",
   "metadata": {},
   "source": [
    "## Positive Control (make_regression data)\n",
    "\n",
    "To ensure all models are working as intended"
   ]
  },
  {
   "cell_type": "markdown",
   "metadata": {},
   "source": [
    "### Training"
   ]
  },
  {
   "cell_type": "code",
   "execution_count": 20,
   "metadata": {},
   "outputs": [],
   "source": [
    "from sklearn.datasets import make_regression\n",
    "from sklearn.model_selection import train_test_split\n",
    "\n",
    "X, y = make_regression(n_samples=1000, n_features=500, noise=0.1)\n",
    "# make X,y into dataframes\n",
    "X = pd.DataFrame(X)\n",
    "y = pd.Series(y)"
   ]
  },
  {
   "cell_type": "code",
   "execution_count": 21,
   "metadata": {},
   "outputs": [],
   "source": [
    "powerkit = Powerkit(X, y)"
   ]
  },
  {
   "cell_type": "code",
   "execution_count": 22,
   "metadata": {},
   "outputs": [],
   "source": [
    "for model_used in all_models:\n",
    "    powerkit.add_condition(model_used, False, pipeline_func, {'model_used': model_used, 'normalised': normalised}, eval_func, {'normalised': normalised})"
   ]
  },
  {
   "cell_type": "code",
   "execution_count": 23,
   "metadata": {},
   "outputs": [
    {
     "name": "stdout",
     "output_type": "stream",
     "text": [
      "Running SVR...\n"
     ]
    },
    {
     "name": "stdout",
     "output_type": "stream",
     "text": [
      "Saved SVR to path\n",
      "Running RandomForestRegressor...\n",
      "Saved RandomForestRegressor to path\n",
      "Running XGBRegressor...\n",
      "Saved XGBRegressor to path\n",
      "Running MLPRegressor...\n",
      "Saved MLPRegressor to path\n",
      "Running KNeighborsRegressor...\n",
      "Saved KNeighborsRegressor to path\n",
      "Running ElasticNet...\n",
      "Saved ElasticNet to path\n"
     ]
    }
   ],
   "source": [
    "for model_used in all_models:\n",
    "    print(f'Running {model_used}...')\n",
    "    df = powerkit.run_selected_condition(model_used, rngs, core_used, True)\n",
    "    if save_data:\n",
    "        print(f'Saved {model_used} to path')\n",
    "        df.to_pickle(f'{file_save_path}{exp_id}_{model_used}_control_positive.pkl')"
   ]
  },
  {
   "cell_type": "markdown",
   "metadata": {},
   "source": [
    "### Visualisation"
   ]
  },
  {
   "cell_type": "code",
   "execution_count": 24,
   "metadata": {},
   "outputs": [],
   "source": [
    "import pickle \n",
    "\n",
    "df_list = []\n",
    "for model_used in all_models:\n",
    "    df = pd.read_pickle(f'{file_save_path}{exp_id}_{model_used}_control_positive.pkl')\n",
    "    df_list.append(df)\n"
   ]
  },
  {
   "cell_type": "code",
   "execution_count": 25,
   "metadata": {},
   "outputs": [
    {
     "data": {
      "text/html": [
       "<div>\n",
       "<style scoped>\n",
       "    .dataframe tbody tr th:only-of-type {\n",
       "        vertical-align: middle;\n",
       "    }\n",
       "\n",
       "    .dataframe tbody tr th {\n",
       "        vertical-align: top;\n",
       "    }\n",
       "\n",
       "    .dataframe thead th {\n",
       "        text-align: right;\n",
       "    }\n",
       "</style>\n",
       "<table border=\"1\" class=\"dataframe\">\n",
       "  <thead>\n",
       "    <tr style=\"text-align: right;\">\n",
       "      <th></th>\n",
       "      <th>rng</th>\n",
       "      <th>condition</th>\n",
       "      <th>model_performance</th>\n",
       "      <th>p_vals</th>\n",
       "    </tr>\n",
       "  </thead>\n",
       "  <tbody>\n",
       "    <tr>\n",
       "      <th>0</th>\n",
       "      <td>0</td>\n",
       "      <td>KNeighborsRegressor</td>\n",
       "      <td>0.192590</td>\n",
       "      <td>0.054897</td>\n",
       "    </tr>\n",
       "    <tr>\n",
       "      <th>1</th>\n",
       "      <td>1</td>\n",
       "      <td>KNeighborsRegressor</td>\n",
       "      <td>0.301041</td>\n",
       "      <td>0.002339</td>\n",
       "    </tr>\n",
       "    <tr>\n",
       "      <th>2</th>\n",
       "      <td>2</td>\n",
       "      <td>KNeighborsRegressor</td>\n",
       "      <td>0.236395</td>\n",
       "      <td>0.017890</td>\n",
       "    </tr>\n",
       "    <tr>\n",
       "      <th>3</th>\n",
       "      <td>3</td>\n",
       "      <td>KNeighborsRegressor</td>\n",
       "      <td>0.176298</td>\n",
       "      <td>0.079330</td>\n",
       "    </tr>\n",
       "    <tr>\n",
       "      <th>4</th>\n",
       "      <td>4</td>\n",
       "      <td>KNeighborsRegressor</td>\n",
       "      <td>0.252237</td>\n",
       "      <td>0.011350</td>\n",
       "    </tr>\n",
       "    <tr>\n",
       "      <th>...</th>\n",
       "      <td>...</td>\n",
       "      <td>...</td>\n",
       "      <td>...</td>\n",
       "      <td>...</td>\n",
       "    </tr>\n",
       "    <tr>\n",
       "      <th>95</th>\n",
       "      <td>95</td>\n",
       "      <td>KNeighborsRegressor</td>\n",
       "      <td>0.250156</td>\n",
       "      <td>0.012068</td>\n",
       "    </tr>\n",
       "    <tr>\n",
       "      <th>96</th>\n",
       "      <td>96</td>\n",
       "      <td>KNeighborsRegressor</td>\n",
       "      <td>0.133985</td>\n",
       "      <td>0.183847</td>\n",
       "    </tr>\n",
       "    <tr>\n",
       "      <th>97</th>\n",
       "      <td>97</td>\n",
       "      <td>KNeighborsRegressor</td>\n",
       "      <td>0.124816</td>\n",
       "      <td>0.215970</td>\n",
       "    </tr>\n",
       "    <tr>\n",
       "      <th>98</th>\n",
       "      <td>98</td>\n",
       "      <td>KNeighborsRegressor</td>\n",
       "      <td>0.393041</td>\n",
       "      <td>0.000052</td>\n",
       "    </tr>\n",
       "    <tr>\n",
       "      <th>99</th>\n",
       "      <td>99</td>\n",
       "      <td>KNeighborsRegressor</td>\n",
       "      <td>0.265662</td>\n",
       "      <td>0.007554</td>\n",
       "    </tr>\n",
       "  </tbody>\n",
       "</table>\n",
       "<p>100 rows × 4 columns</p>\n",
       "</div>"
      ],
      "text/plain": [
       "    rng            condition  model_performance    p_vals\n",
       "0     0  KNeighborsRegressor           0.192590  0.054897\n",
       "1     1  KNeighborsRegressor           0.301041  0.002339\n",
       "2     2  KNeighborsRegressor           0.236395  0.017890\n",
       "3     3  KNeighborsRegressor           0.176298  0.079330\n",
       "4     4  KNeighborsRegressor           0.252237  0.011350\n",
       "..  ...                  ...                ...       ...\n",
       "95   95  KNeighborsRegressor           0.250156  0.012068\n",
       "96   96  KNeighborsRegressor           0.133985  0.183847\n",
       "97   97  KNeighborsRegressor           0.124816  0.215970\n",
       "98   98  KNeighborsRegressor           0.393041  0.000052\n",
       "99   99  KNeighborsRegressor           0.265662  0.007554\n",
       "\n",
       "[100 rows x 4 columns]"
      ]
     },
     "execution_count": 25,
     "metadata": {},
     "output_type": "execute_result"
    }
   ],
   "source": [
    "df_list[4]"
   ]
  },
  {
   "cell_type": "code",
   "execution_count": 26,
   "metadata": {},
   "outputs": [
    {
     "data": {
      "text/html": [
       "<div>\n",
       "<style scoped>\n",
       "    .dataframe tbody tr th:only-of-type {\n",
       "        vertical-align: middle;\n",
       "    }\n",
       "\n",
       "    .dataframe tbody tr th {\n",
       "        vertical-align: top;\n",
       "    }\n",
       "\n",
       "    .dataframe thead th {\n",
       "        text-align: right;\n",
       "    }\n",
       "</style>\n",
       "<table border=\"1\" class=\"dataframe\">\n",
       "  <thead>\n",
       "    <tr style=\"text-align: right;\">\n",
       "      <th></th>\n",
       "      <th>rng</th>\n",
       "      <th>condition</th>\n",
       "      <th>model_performance</th>\n",
       "      <th>p_vals</th>\n",
       "    </tr>\n",
       "  </thead>\n",
       "  <tbody>\n",
       "    <tr>\n",
       "      <th>0</th>\n",
       "      <td>0</td>\n",
       "      <td>SVR</td>\n",
       "      <td>0.702744</td>\n",
       "      <td>3.662809e-16</td>\n",
       "    </tr>\n",
       "    <tr>\n",
       "      <th>1</th>\n",
       "      <td>1</td>\n",
       "      <td>SVR</td>\n",
       "      <td>0.784337</td>\n",
       "      <td>4.846148e-22</td>\n",
       "    </tr>\n",
       "    <tr>\n",
       "      <th>2</th>\n",
       "      <td>2</td>\n",
       "      <td>SVR</td>\n",
       "      <td>0.757370</td>\n",
       "      <td>7.644572e-20</td>\n",
       "    </tr>\n",
       "    <tr>\n",
       "      <th>3</th>\n",
       "      <td>3</td>\n",
       "      <td>SVR</td>\n",
       "      <td>0.713433</td>\n",
       "      <td>8.153465e-17</td>\n",
       "    </tr>\n",
       "    <tr>\n",
       "      <th>4</th>\n",
       "      <td>4</td>\n",
       "      <td>SVR</td>\n",
       "      <td>0.686209</td>\n",
       "      <td>3.296674e-15</td>\n",
       "    </tr>\n",
       "  </tbody>\n",
       "</table>\n",
       "</div>"
      ],
      "text/plain": [
       "   rng condition  model_performance        p_vals\n",
       "0    0       SVR           0.702744  3.662809e-16\n",
       "1    1       SVR           0.784337  4.846148e-22\n",
       "2    2       SVR           0.757370  7.644572e-20\n",
       "3    3       SVR           0.713433  8.153465e-17\n",
       "4    4       SVR           0.686209  3.296674e-15"
      ]
     },
     "execution_count": 26,
     "metadata": {},
     "output_type": "execute_result"
    }
   ],
   "source": [
    "# join all the dataframes\n",
    "df_all = pd.concat(df_list, axis=0)\n",
    "df_all.head()"
   ]
  },
  {
   "cell_type": "code",
   "execution_count": 27,
   "metadata": {},
   "outputs": [
    {
     "data": {
      "text/plain": [
       "<AxesSubplot: title={'center': 'Model Performance'}, xlabel='Model', ylabel='Pearson Correlation'>"
      ]
     },
     "execution_count": 27,
     "metadata": {},
     "output_type": "execute_result"
    },
    {
     "data": {
      "image/png": "[encoded data removed]",
      "text/plain": [
       "<Figure size 1600x800 with 1 Axes>"
      ]
     },
     "metadata": {},
     "output_type": "display_data"
    }
   ],
   "source": [
    "from Visualisation import plot_box_plot\n",
    "import matplotlib.pyplot as plt\n",
    "import seaborn as sns\n",
    "\n",
    "sns.set_style(\"whitegrid\")\n",
    "sns.set_context(\"talk\")\n",
    "\n",
    "fig, ax = plt.subplots(figsize=(16, 8))\n",
    "plot_box_plot(df_all, 'condition', 'model_performance', 'Model Performance', 'Model'\n",
    "              ,'Pearson Correlation', ax=ax, tick_fontsize=16)\n"
   ]
  },
  {
   "cell_type": "code",
   "execution_count": 28,
   "metadata": {},
   "outputs": [],
   "source": [
    "# check the best model for each model category \n",
    "best_models = df_all.groupby('condition')['model_performance'].idxmax()"
   ]
  },
  {
   "cell_type": "code",
   "execution_count": 29,
   "metadata": {},
   "outputs": [
    {
     "data": {
      "text/plain": [
       "condition\n",
       "ElasticNet                1\n",
       "KNeighborsRegressor      46\n",
       "MLPRegressor             49\n",
       "RandomForestRegressor     1\n",
       "SVR                      20\n",
       "XGBRegressor             85\n",
       "Name: model_performance, dtype: int64"
      ]
     },
     "execution_count": 29,
     "metadata": {},
     "output_type": "execute_result"
    }
   ],
   "source": [
    "best_models"
   ]
  },
  {
   "cell_type": "code",
   "execution_count": 30,
   "metadata": {},
   "outputs": [],
   "source": [
    "# for each best performing model, re-run the pipeline and plot model results\n",
    "for model_used in all_models:\n",
    "    powerkit.add_condition(f'{model_used}_best', False, pipeline_func, {'model_used': model_used, 'normalised': normalised}, eval_func_best, {'normalised': normalised})\n",
    "\n",
    "    "
   ]
  },
  {
   "cell_type": "code",
   "execution_count": 31,
   "metadata": {},
   "outputs": [
    {
     "name": "stdout",
     "output_type": "stream",
     "text": [
      "Running SVR...\n",
      "20 SVR\n"
     ]
    },
    {
     "name": "stderr",
     "output_type": "stream",
     "text": [
      "100%|██████████| 1/1 [00:00<00:00,  1.61it/s]\n"
     ]
    },
    {
     "name": "stdout",
     "output_type": "stream",
     "text": [
      "Running RandomForestRegressor...\n",
      "1 RandomForestRegressor\n"
     ]
    },
    {
     "name": "stderr",
     "output_type": "stream",
     "text": [
      "100%|██████████| 1/1 [00:37<00:00, 37.10s/it]\n"
     ]
    },
    {
     "name": "stdout",
     "output_type": "stream",
     "text": [
      "Running XGBRegressor...\n",
      "85 XGBRegressor\n"
     ]
    },
    {
     "name": "stderr",
     "output_type": "stream",
     "text": [
      "100%|██████████| 1/1 [00:02<00:00,  2.26s/it]\n"
     ]
    },
    {
     "name": "stdout",
     "output_type": "stream",
     "text": [
      "Running MLPRegressor...\n",
      "49 MLPRegressor\n"
     ]
    },
    {
     "name": "stderr",
     "output_type": "stream",
     "text": [
      "  0%|          | 0/1 [00:00<?, ?it/s]Stochastic Optimizer: Maximum iterations (200) reached and the optimization hasn't converged yet.\n",
      "100%|██████████| 1/1 [00:05<00:00,  5.87s/it]\n"
     ]
    },
    {
     "name": "stdout",
     "output_type": "stream",
     "text": [
      "Running KNeighborsRegressor...\n",
      "46 KNeighborsRegressor\n"
     ]
    },
    {
     "name": "stderr",
     "output_type": "stream",
     "text": [
      "100%|██████████| 1/1 [00:00<00:00,  1.62it/s]\n"
     ]
    },
    {
     "name": "stdout",
     "output_type": "stream",
     "text": [
      "Running ElasticNet...\n",
      "1 ElasticNet\n"
     ]
    },
    {
     "name": "stderr",
     "output_type": "stream",
     "text": [
      "100%|██████████| 1/1 [00:00<00:00,  2.17it/s]\n"
     ]
    }
   ],
   "source": [
    "df_list = []\n",
    "for model_used in all_models:\n",
    "    print(f'Running {model_used}...')\n",
    "    best_rng = df_all.loc[best_models[model_used]]['rng'].values[0]\n",
    "    print(best_rng, model_used)\n",
    "    # run pipeline with best rng\n",
    "    df = powerkit.run_selected_condition(f'{model_used}_best', [best_rng], 1, True)\n",
    "    df_list.append(df)"
   ]
  },
  {
   "cell_type": "code",
   "execution_count": 32,
   "metadata": {},
   "outputs": [
    {
     "data": {
      "image/png": "[encoded data removed]",
      "text/plain": [
       "<Figure size 1500x800 with 6 Axes>"
      ]
     },
     "metadata": {},
     "output_type": "display_data"
    }
   ],
   "source": [
    "import math\n",
    "\n",
    "plot_cols = 3\n",
    "plot_rows = math.ceil(len(df_list)/plot_cols)\n",
    "plt.subplots(plot_rows, plot_cols, figsize=(5*plot_cols, 4*plot_rows))\n",
    "\n",
    "normalise = True\n",
    "\n",
    "for i, df in enumerate(df_list):\n",
    "    plt.subplot(plot_rows, plot_cols, i+1)\n",
    "    # get y_test and y_pred\n",
    "    y_test = df['y_test'].values[0]\n",
    "    y_pred = df['y_pred'].values[0]\n",
    "    model_used = df['condition'].values[0].split('_')[0]\n",
    "    if normalise:\n",
    "        y_test = (y_test - y_test.mean()) / y_test.std()\n",
    "        y_pred = (y_pred - y_pred.mean()) / y_pred.std()\n",
    "    # plot y_test vs y_pred\n",
    "    plt.scatter(y_test, y_pred)\n",
    "    plt.xlabel('True Value')\n",
    "    plt.ylabel('Predicted Value')\n",
    "    plt.title(f'{model_used}')\n",
    "    # assess performance by pearson correlation\n",
    "    corr, p_vals = pearsonr(y_test, y_pred)\n",
    "    plt.text(0.1, 0.9, f'Corr: {corr:.2f}', ha='center', va='center', transform=plt.gca().transAxes)\n",
    "    plt.text(0.1, 0.8, f'p: {p_vals:.2f}', ha='center', va='center', transform=plt.gca().transAxes)\n",
    "    # plot y=x line\n",
    "    plt.plot([min(y_test), max(y_test)], [min(y_test), max(y_test)], color='red')\n",
    "    plt.grid()\n",
    "\n",
    "\n",
    "plt.tight_layout()\n",
    "plt.show()"
   ]
  },
  {
   "cell_type": "code",
   "execution_count": 33,
   "metadata": {},
   "outputs": [
    {
     "data": {
      "text/html": [
       "<div>\n",
       "<style scoped>\n",
       "    .dataframe tbody tr th:only-of-type {\n",
       "        vertical-align: middle;\n",
       "    }\n",
       "\n",
       "    .dataframe tbody tr th {\n",
       "        vertical-align: top;\n",
       "    }\n",
       "\n",
       "    .dataframe thead th {\n",
       "        text-align: right;\n",
       "    }\n",
       "</style>\n",
       "<table border=\"1\" class=\"dataframe\">\n",
       "  <thead>\n",
       "    <tr style=\"text-align: right;\">\n",
       "      <th></th>\n",
       "      <th>rng</th>\n",
       "      <th>condition</th>\n",
       "      <th>model_performance</th>\n",
       "      <th>p_vals</th>\n",
       "    </tr>\n",
       "  </thead>\n",
       "  <tbody>\n",
       "    <tr>\n",
       "      <th>0</th>\n",
       "      <td>0</td>\n",
       "      <td>SVR</td>\n",
       "      <td>0.702744</td>\n",
       "      <td>3.662809e-16</td>\n",
       "    </tr>\n",
       "    <tr>\n",
       "      <th>1</th>\n",
       "      <td>1</td>\n",
       "      <td>SVR</td>\n",
       "      <td>0.784337</td>\n",
       "      <td>4.846148e-22</td>\n",
       "    </tr>\n",
       "    <tr>\n",
       "      <th>2</th>\n",
       "      <td>2</td>\n",
       "      <td>SVR</td>\n",
       "      <td>0.757370</td>\n",
       "      <td>7.644572e-20</td>\n",
       "    </tr>\n",
       "    <tr>\n",
       "      <th>3</th>\n",
       "      <td>3</td>\n",
       "      <td>SVR</td>\n",
       "      <td>0.713433</td>\n",
       "      <td>8.153465e-17</td>\n",
       "    </tr>\n",
       "    <tr>\n",
       "      <th>4</th>\n",
       "      <td>4</td>\n",
       "      <td>SVR</td>\n",
       "      <td>0.686209</td>\n",
       "      <td>3.296674e-15</td>\n",
       "    </tr>\n",
       "    <tr>\n",
       "      <th>...</th>\n",
       "      <td>...</td>\n",
       "      <td>...</td>\n",
       "      <td>...</td>\n",
       "      <td>...</td>\n",
       "    </tr>\n",
       "    <tr>\n",
       "      <th>95</th>\n",
       "      <td>95</td>\n",
       "      <td>ElasticNet</td>\n",
       "      <td>0.961015</td>\n",
       "      <td>1.614064e-56</td>\n",
       "    </tr>\n",
       "    <tr>\n",
       "      <th>96</th>\n",
       "      <td>96</td>\n",
       "      <td>ElasticNet</td>\n",
       "      <td>0.966596</td>\n",
       "      <td>9.504258e-60</td>\n",
       "    </tr>\n",
       "    <tr>\n",
       "      <th>97</th>\n",
       "      <td>97</td>\n",
       "      <td>ElasticNet</td>\n",
       "      <td>0.965364</td>\n",
       "      <td>5.444938e-59</td>\n",
       "    </tr>\n",
       "    <tr>\n",
       "      <th>98</th>\n",
       "      <td>98</td>\n",
       "      <td>ElasticNet</td>\n",
       "      <td>0.969187</td>\n",
       "      <td>1.934893e-61</td>\n",
       "    </tr>\n",
       "    <tr>\n",
       "      <th>99</th>\n",
       "      <td>99</td>\n",
       "      <td>ElasticNet</td>\n",
       "      <td>0.953660</td>\n",
       "      <td>6.436900e-53</td>\n",
       "    </tr>\n",
       "  </tbody>\n",
       "</table>\n",
       "<p>600 rows × 4 columns</p>\n",
       "</div>"
      ],
      "text/plain": [
       "    rng   condition  model_performance        p_vals\n",
       "0     0         SVR           0.702744  3.662809e-16\n",
       "1     1         SVR           0.784337  4.846148e-22\n",
       "2     2         SVR           0.757370  7.644572e-20\n",
       "3     3         SVR           0.713433  8.153465e-17\n",
       "4     4         SVR           0.686209  3.296674e-15\n",
       "..  ...         ...                ...           ...\n",
       "95   95  ElasticNet           0.961015  1.614064e-56\n",
       "96   96  ElasticNet           0.966596  9.504258e-60\n",
       "97   97  ElasticNet           0.965364  5.444938e-59\n",
       "98   98  ElasticNet           0.969187  1.934893e-61\n",
       "99   99  ElasticNet           0.953660  6.436900e-53\n",
       "\n",
       "[600 rows x 4 columns]"
      ]
     },
     "execution_count": 33,
     "metadata": {},
     "output_type": "execute_result"
    }
   ],
   "source": [
    "df_all"
   ]
  },
  {
   "cell_type": "markdown",
   "metadata": {},
   "source": [
    "## Positive Control (CCLE Only)"
   ]
  },
  {
   "cell_type": "code",
   "execution_count": 34,
   "metadata": {},
   "outputs": [],
   "source": [
    "powerkit = Powerkit(new_feature_data, new_label_data)"
   ]
  },
  {
   "cell_type": "code",
   "execution_count": 35,
   "metadata": {},
   "outputs": [],
   "source": [
    "for model_used in all_models:\n",
    "    powerkit.add_condition(model_used, True, pipeline_func, {'model_used': model_used, 'normalised': normalised}, eval_func, {'normalised': normalised})"
   ]
  },
  {
   "cell_type": "code",
   "execution_count": 36,
   "metadata": {},
   "outputs": [
    {
     "name": "stdout",
     "output_type": "stream",
     "text": [
      "Running SVR...\n"
     ]
    },
    {
     "name": "stdout",
     "output_type": "stream",
     "text": [
      "Saved SVR to path\n",
      "Running RandomForestRegressor...\n",
      "Saved RandomForestRegressor to path\n",
      "Running XGBRegressor...\n",
      "Saved XGBRegressor to path\n",
      "Running MLPRegressor...\n",
      "Saved MLPRegressor to path\n",
      "Running KNeighborsRegressor...\n",
      "Saved KNeighborsRegressor to path\n",
      "Running ElasticNet...\n",
      "Saved ElasticNet to path\n"
     ]
    }
   ],
   "source": [
    "for model_used in all_models:\n",
    "    print(f'Running {model_used}...')\n",
    "    df = powerkit.run_selected_condition(model_used, rngs, core_used, True)\n",
    "    if save_data:\n",
    "        print(f'Saved {model_used} to path')\n",
    "        df.to_pickle(f'{file_save_path}{exp_id}_{model_used}_control_ccle.pkl')"
   ]
  },
  {
   "cell_type": "markdown",
   "metadata": {},
   "source": [
    "## Positive Control 2 (Dynamic Features Only)"
   ]
  },
  {
   "cell_type": "code",
   "execution_count": 37,
   "metadata": {},
   "outputs": [],
   "source": [
    "powerkit = Powerkit(dynamic_feature_data, dynamic_label_data)"
   ]
  },
  {
   "cell_type": "code",
   "execution_count": 38,
   "metadata": {},
   "outputs": [],
   "source": [
    "for model_used in all_models:\n",
    "    pipeline_args = {'model_used': model_used, 'normalised': normalised}\n",
    "    eval_args = {'save_model': save_model, 'normalised': normalised}\n",
    "    powerkit.add_condition(model_used, True, pipeline_func, pipeline_args, eval_func, eval_args)"
   ]
  },
  {
   "cell_type": "code",
   "execution_count": 39,
   "metadata": {},
   "outputs": [
    {
     "name": "stdout",
     "output_type": "stream",
     "text": [
      "Running SVR...\n"
     ]
    },
    {
     "name": "stdout",
     "output_type": "stream",
     "text": [
      "Saved SVR to path\n",
      "Running RandomForestRegressor...\n",
      "Saved RandomForestRegressor to path\n",
      "Running XGBRegressor...\n",
      "Saved XGBRegressor to path\n",
      "Running MLPRegressor...\n",
      "Saved MLPRegressor to path\n",
      "Running KNeighborsRegressor...\n",
      "Saved KNeighborsRegressor to path\n",
      "Running ElasticNet...\n",
      "Saved ElasticNet to path\n"
     ]
    }
   ],
   "source": [
    "for model_used in all_models:\n",
    "    print(f'Running {model_used}...')\n",
    "    df = powerkit.run_selected_condition(model_used, rngs, core_used, True)\n",
    "    if save_data:\n",
    "        print(f'Saved {model_used} to path')\n",
    "        df.to_pickle(f'{file_save_path}{exp_id}_{model_used}_control_dynamic.pkl')"
   ]
  },
  {
   "cell_type": "markdown",
   "metadata": {},
   "source": [
    "## Combined (CCLE + Dyn)"
   ]
  },
  {
   "cell_type": "code",
   "execution_count": 40,
   "metadata": {},
   "outputs": [],
   "source": [
    "powerkit = Powerkit(combined_feature_data, combined_label_data)"
   ]
  },
  {
   "cell_type": "code",
   "execution_count": 41,
   "metadata": {},
   "outputs": [],
   "source": [
    "for model_used in all_models:\n",
    "    pipeline_args = {'model_used': model_used, 'normalised': normalised}\n",
    "    eval_args = {'save_model': save_model, 'normalised': normalised}\n",
    "    powerkit.add_condition(model_used, True, pipeline_func, pipeline_args, eval_func, eval_args)"
   ]
  },
  {
   "cell_type": "code",
   "execution_count": 42,
   "metadata": {},
   "outputs": [
    {
     "name": "stdout",
     "output_type": "stream",
     "text": [
      "Running SVR...\n"
     ]
    },
    {
     "name": "stdout",
     "output_type": "stream",
     "text": [
      "Saved SVR to path\n",
      "Running RandomForestRegressor...\n",
      "Saved RandomForestRegressor to path\n",
      "Running XGBRegressor...\n",
      "Saved XGBRegressor to path\n",
      "Running MLPRegressor...\n",
      "Saved MLPRegressor to path\n",
      "Running KNeighborsRegressor...\n",
      "Saved KNeighborsRegressor to path\n",
      "Running ElasticNet...\n",
      "Saved ElasticNet to path\n"
     ]
    }
   ],
   "source": [
    "for model_used in all_models:\n",
    "    print(f'Running {model_used}...')\n",
    "    df = powerkit.run_selected_condition(model_used, rngs, core_used, True)\n",
    "    if save_data:\n",
    "        print(f'Saved {model_used} to path')\n",
    "        df.to_pickle(f'{file_save_path}{exp_id}_{model_used}_combined.pkl')"
   ]
  },
  {
   "cell_type": "markdown",
   "metadata": {},
   "source": [
    "## Transformed Gene Only"
   ]
  },
  {
   "cell_type": "code",
   "execution_count": 43,
   "metadata": {},
   "outputs": [],
   "source": [
    "sub_exp_id = 'specie_genes'"
   ]
  },
  {
   "cell_type": "code",
   "execution_count": 44,
   "metadata": {},
   "outputs": [],
   "source": [
    "powerkit = Powerkit(combined_feature_data, combined_label_data)"
   ]
  },
  {
   "cell_type": "code",
   "execution_count": 45,
   "metadata": {},
   "outputs": [],
   "source": [
    "\n",
    "for model_used in all_models:\n",
    "    pipeline_args = {'model_used': model_used, 'keep_features': transformed_gene_list, 'normalised': normalised}\n",
    "    eval_args = {'save_model': save_model, 'normalised': normalised}\n",
    "    powerkit.add_condition(model_used, True, pipeline_select_only, pipeline_args, eval_func, eval_args)"
   ]
  },
  {
   "cell_type": "code",
   "execution_count": 46,
   "metadata": {},
   "outputs": [
    {
     "name": "stdout",
     "output_type": "stream",
     "text": [
      "Running SVR...\n"
     ]
    },
    {
     "name": "stdout",
     "output_type": "stream",
     "text": [
      "Saved SVR to path\n",
      "Running RandomForestRegressor...\n",
      "Saved RandomForestRegressor to path\n",
      "Running XGBRegressor...\n",
      "Saved XGBRegressor to path\n",
      "Running MLPRegressor...\n",
      "Saved MLPRegressor to path\n",
      "Running KNeighborsRegressor...\n",
      "Saved KNeighborsRegressor to path\n",
      "Running ElasticNet...\n",
      "Saved ElasticNet to path\n"
     ]
    }
   ],
   "source": [
    "for model_used in all_models:\n",
    "    print(f'Running {model_used}...')\n",
    "    df = powerkit.run_selected_condition(model_used, rngs, core_used, True)\n",
    "    if save_data:\n",
    "        print(f'Saved {model_used} to path')\n",
    "        df.to_pickle(f'{file_save_path}{exp_id}_{model_used}_{sub_exp_id}.pkl')"
   ]
  },
  {
   "cell_type": "markdown",
   "metadata": {},
   "source": [
    "## Select Genes and Combine Dynamic Features"
   ]
  },
  {
   "cell_type": "code",
   "execution_count": 47,
   "metadata": {},
   "outputs": [],
   "source": [
    "sub_exp_id = 'select_gene_dynamic'"
   ]
  },
  {
   "cell_type": "code",
   "execution_count": 48,
   "metadata": {},
   "outputs": [],
   "source": [
    "powerkit = Powerkit(combined_feature_data, combined_label_data)"
   ]
  },
  {
   "cell_type": "code",
   "execution_count": 49,
   "metadata": {},
   "outputs": [],
   "source": [
    "\n",
    "for model_used in all_models:\n",
    "    pipeline_args = {'model_used': model_used, 'keep_features': dynamic_features}\n",
    "    eval_args = {'save_model': save_model, 'normalised': normalised}\n",
    "    powerkit.add_condition(model_used, True, pipeline_select_genes_only, pipeline_args, eval_func, eval_args)"
   ]
  },
  {
   "cell_type": "code",
   "execution_count": 50,
   "metadata": {},
   "outputs": [
    {
     "name": "stdout",
     "output_type": "stream",
     "text": [
      "Running SVR...\n"
     ]
    },
    {
     "name": "stdout",
     "output_type": "stream",
     "text": [
      "Saved SVR to path\n",
      "Running RandomForestRegressor...\n",
      "Saved RandomForestRegressor to path\n",
      "Running XGBRegressor...\n",
      "Saved XGBRegressor to path\n",
      "Running MLPRegressor...\n",
      "Saved MLPRegressor to path\n",
      "Running KNeighborsRegressor...\n",
      "Saved KNeighborsRegressor to path\n",
      "Running ElasticNet...\n",
      "Saved ElasticNet to path\n"
     ]
    }
   ],
   "source": [
    "for model_used in all_models:\n",
    "    print(f'Running {model_used}...')\n",
    "    df = powerkit.run_selected_condition(model_used, rngs, core_used, True)\n",
    "    if save_data:\n",
    "        print(f'Saved {model_used} to path')\n",
    "        df.to_pickle(f'{file_save_path}{exp_id}_{model_used}_{sub_exp_id}.pkl')"
   ]
  },
  {
   "cell_type": "markdown",
   "metadata": {},
   "source": [
    "## Transformed Genes and Dynamic Features"
   ]
  },
  {
   "cell_type": "code",
   "execution_count": 51,
   "metadata": {},
   "outputs": [],
   "source": [
    "sub_exp_id = 'specie_genes_dynamic'"
   ]
  },
  {
   "cell_type": "code",
   "execution_count": 52,
   "metadata": {},
   "outputs": [],
   "source": [
    "powerkit = Powerkit(combined_feature_data, combined_label_data)"
   ]
  },
  {
   "cell_type": "code",
   "execution_count": 53,
   "metadata": {},
   "outputs": [],
   "source": [
    "\n",
    "for model_used in all_models:\n",
    "    pipeline_args = {'model_used': model_used, 'keep_features': transformed_dynamic_features}\n",
    "    eval_args = {'save_model': save_model, 'normalised': normalised}\n",
    "    powerkit.add_condition(model_used, True, pipeline_select_only, pipeline_args, eval_func, eval_args)"
   ]
  },
  {
   "cell_type": "code",
   "execution_count": 54,
   "metadata": {},
   "outputs": [
    {
     "name": "stdout",
     "output_type": "stream",
     "text": [
      "Running SVR...\n"
     ]
    },
    {
     "name": "stdout",
     "output_type": "stream",
     "text": [
      "Saved SVR to path\n",
      "Running RandomForestRegressor...\n",
      "Saved RandomForestRegressor to path\n",
      "Running XGBRegressor...\n",
      "Saved XGBRegressor to path\n",
      "Running MLPRegressor...\n",
      "Saved MLPRegressor to path\n",
      "Running KNeighborsRegressor...\n",
      "Saved KNeighborsRegressor to path\n",
      "Running ElasticNet...\n",
      "Saved ElasticNet to path\n"
     ]
    }
   ],
   "source": [
    "for model_used in all_models:\n",
    "    print(f'Running {model_used}...')\n",
    "    df = powerkit.run_selected_condition(model_used, rngs, core_used, True)\n",
    "    if save_data:\n",
    "        print(f'Saved {model_used} to path')\n",
    "        df.to_pickle(f'{file_save_path}{exp_id}_{model_used}_{sub_exp_id}.pkl')"
   ]
  },
  {
   "cell_type": "markdown",
   "metadata": {},
   "source": [
    "## Filtered Dynamic Features"
   ]
  },
  {
   "cell_type": "code",
   "execution_count": null,
   "metadata": {},
   "outputs": [],
   "source": [
    "sub_exp_id = 'select_dynamic'"
   ]
  },
  {
   "cell_type": "code",
   "execution_count": null,
   "metadata": {},
   "outputs": [],
   "source": [
    "powerkit = Powerkit(dynamic_feature_data, dynamic_label_data)"
   ]
  },
  {
   "cell_type": "code",
   "execution_count": null,
   "metadata": {},
   "outputs": [],
   "source": [
    "\n",
    "for model_used in all_models:\n",
    "    pipeline_args = {'model_used': model_used}\n",
    "    eval_args = {'save_model': save_model, 'normalised': normalised}\n",
    "    powerkit.add_condition(model_used, True, pipeline_func_filter_half, pipeline_args, eval_func, eval_args)"
   ]
  },
  {
   "cell_type": "code",
   "execution_count": null,
   "metadata": {},
   "outputs": [
    {
     "name": "stdout",
     "output_type": "stream",
     "text": [
      "Running SVR...\n"
     ]
    },
    {
     "name": "stdout",
     "output_type": "stream",
     "text": [
      "Saved SVR to path\n",
      "Running RandomForestRegressor...\n",
      "Saved RandomForestRegressor to path\n",
      "Running XGBRegressor...\n",
      "Saved XGBRegressor to path\n",
      "Running MLPRegressor...\n",
      "Saved MLPRegressor to path\n",
      "Running KNeighborsRegressor...\n",
      "Saved KNeighborsRegressor to path\n",
      "Running ElasticNet...\n",
      "Saved ElasticNet to path\n"
     ]
    }
   ],
   "source": [
    "for model_used in all_models:\n",
    "    print(f'Running {model_used}...')\n",
    "    df = powerkit.run_selected_condition(model_used, rngs, core_used, True)\n",
    "    if save_data:\n",
    "        print(f'Saved {model_used} to path')\n",
    "        df.to_pickle(f'{file_save_path}{exp_id}_{model_used}_{sub_exp_id}.pkl')"
   ]
  },
  {
   "cell_type": "markdown",
   "metadata": {},
   "source": [
    "## Visualise all results "
   ]
  },
  {
   "cell_type": "markdown",
   "metadata": {},
   "source": [
    "### Data Loading"
   ]
  },
  {
   "cell_type": "code",
   "execution_count": 37,
   "metadata": {},
   "outputs": [
    {
     "name": "stdout",
     "output_type": "stream",
     "text": [
      "Loaded RandomForestRegressor for control_negative\n",
      "Loaded RandomForestRegressor for control_positive\n",
      "Loaded RandomForestRegressor for control_dynamic\n",
      "Loaded RandomForestRegressor for control_ccle\n",
      "Loaded RandomForestRegressor for combined\n"
     ]
    },
    {
     "data": {
      "text/html": [
       "<div>\n",
       "<style scoped>\n",
       "    .dataframe tbody tr th:only-of-type {\n",
       "        vertical-align: middle;\n",
       "    }\n",
       "\n",
       "    .dataframe tbody tr th {\n",
       "        vertical-align: top;\n",
       "    }\n",
       "\n",
       "    .dataframe thead th {\n",
       "        text-align: right;\n",
       "    }\n",
       "</style>\n",
       "<table border=\"1\" class=\"dataframe\">\n",
       "  <thead>\n",
       "    <tr style=\"text-align: right;\">\n",
       "      <th></th>\n",
       "      <th>rng</th>\n",
       "      <th>condition</th>\n",
       "      <th>model_performance</th>\n",
       "      <th>p_vals</th>\n",
       "      <th>experiment</th>\n",
       "      <th>feature_importance</th>\n",
       "    </tr>\n",
       "  </thead>\n",
       "  <tbody>\n",
       "    <tr>\n",
       "      <th>0</th>\n",
       "      <td>0</td>\n",
       "      <td>RandomForestRegressor</td>\n",
       "      <td>-0.041245</td>\n",
       "      <td>6.836831e-01</td>\n",
       "      <td>control_negative</td>\n",
       "      <td>NaN</td>\n",
       "    </tr>\n",
       "    <tr>\n",
       "      <th>1</th>\n",
       "      <td>1</td>\n",
       "      <td>RandomForestRegressor</td>\n",
       "      <td>-0.025804</td>\n",
       "      <td>7.988468e-01</td>\n",
       "      <td>control_negative</td>\n",
       "      <td>NaN</td>\n",
       "    </tr>\n",
       "    <tr>\n",
       "      <th>2</th>\n",
       "      <td>2</td>\n",
       "      <td>RandomForestRegressor</td>\n",
       "      <td>0.015276</td>\n",
       "      <td>8.800920e-01</td>\n",
       "      <td>control_negative</td>\n",
       "      <td>NaN</td>\n",
       "    </tr>\n",
       "    <tr>\n",
       "      <th>3</th>\n",
       "      <td>3</td>\n",
       "      <td>RandomForestRegressor</td>\n",
       "      <td>-0.067927</td>\n",
       "      <td>5.018982e-01</td>\n",
       "      <td>control_negative</td>\n",
       "      <td>NaN</td>\n",
       "    </tr>\n",
       "    <tr>\n",
       "      <th>4</th>\n",
       "      <td>4</td>\n",
       "      <td>RandomForestRegressor</td>\n",
       "      <td>-0.075509</td>\n",
       "      <td>4.552651e-01</td>\n",
       "      <td>control_negative</td>\n",
       "      <td>NaN</td>\n",
       "    </tr>\n",
       "    <tr>\n",
       "      <th>...</th>\n",
       "      <td>...</td>\n",
       "      <td>...</td>\n",
       "      <td>...</td>\n",
       "      <td>...</td>\n",
       "      <td>...</td>\n",
       "      <td>...</td>\n",
       "    </tr>\n",
       "    <tr>\n",
       "      <th>95</th>\n",
       "      <td>95</td>\n",
       "      <td>RandomForestRegressor</td>\n",
       "      <td>0.469125</td>\n",
       "      <td>1.783135e-04</td>\n",
       "      <td>combined</td>\n",
       "      <td>([TSPAN6, CD38, ITGAL, ITGA3, TMEM132A, TNFRSF...</td>\n",
       "    </tr>\n",
       "    <tr>\n",
       "      <th>96</th>\n",
       "      <td>96</td>\n",
       "      <td>RandomForestRegressor</td>\n",
       "      <td>0.667501</td>\n",
       "      <td>7.741325e-09</td>\n",
       "      <td>combined</td>\n",
       "      <td>([TSPAN6, CD38, ITGAL, ITGA3, TMEM132A, TNFRSF...</td>\n",
       "    </tr>\n",
       "    <tr>\n",
       "      <th>97</th>\n",
       "      <td>97</td>\n",
       "      <td>RandomForestRegressor</td>\n",
       "      <td>0.654099</td>\n",
       "      <td>1.933015e-08</td>\n",
       "      <td>combined</td>\n",
       "      <td>([TSPAN6, CD38, ITGAL, ITGA3, TMEM132A, TNFRSF...</td>\n",
       "    </tr>\n",
       "    <tr>\n",
       "      <th>98</th>\n",
       "      <td>98</td>\n",
       "      <td>RandomForestRegressor</td>\n",
       "      <td>0.621243</td>\n",
       "      <td>1.519661e-07</td>\n",
       "      <td>combined</td>\n",
       "      <td>([TSPAN6, CD38, ITGAL, ITGA3, TMEM132A, TNFRSF...</td>\n",
       "    </tr>\n",
       "    <tr>\n",
       "      <th>99</th>\n",
       "      <td>99</td>\n",
       "      <td>RandomForestRegressor</td>\n",
       "      <td>0.625251</td>\n",
       "      <td>1.196893e-07</td>\n",
       "      <td>combined</td>\n",
       "      <td>([TSPAN6, CD38, ITGAL, ITGA3, TMEM132A, TNFRSF...</td>\n",
       "    </tr>\n",
       "  </tbody>\n",
       "</table>\n",
       "<p>500 rows × 6 columns</p>\n",
       "</div>"
      ],
      "text/plain": [
       "    rng              condition  model_performance        p_vals  \\\n",
       "0     0  RandomForestRegressor          -0.041245  6.836831e-01   \n",
       "1     1  RandomForestRegressor          -0.025804  7.988468e-01   \n",
       "2     2  RandomForestRegressor           0.015276  8.800920e-01   \n",
       "3     3  RandomForestRegressor          -0.067927  5.018982e-01   \n",
       "4     4  RandomForestRegressor          -0.075509  4.552651e-01   \n",
       "..  ...                    ...                ...           ...   \n",
       "95   95  RandomForestRegressor           0.469125  1.783135e-04   \n",
       "96   96  RandomForestRegressor           0.667501  7.741325e-09   \n",
       "97   97  RandomForestRegressor           0.654099  1.933015e-08   \n",
       "98   98  RandomForestRegressor           0.621243  1.519661e-07   \n",
       "99   99  RandomForestRegressor           0.625251  1.196893e-07   \n",
       "\n",
       "          experiment                                 feature_importance  \n",
       "0   control_negative                                                NaN  \n",
       "1   control_negative                                                NaN  \n",
       "2   control_negative                                                NaN  \n",
       "3   control_negative                                                NaN  \n",
       "4   control_negative                                                NaN  \n",
       "..               ...                                                ...  \n",
       "95          combined  ([TSPAN6, CD38, ITGAL, ITGA3, TMEM132A, TNFRSF...  \n",
       "96          combined  ([TSPAN6, CD38, ITGAL, ITGA3, TMEM132A, TNFRSF...  \n",
       "97          combined  ([TSPAN6, CD38, ITGAL, ITGA3, TMEM132A, TNFRSF...  \n",
       "98          combined  ([TSPAN6, CD38, ITGAL, ITGA3, TMEM132A, TNFRSF...  \n",
       "99          combined  ([TSPAN6, CD38, ITGAL, ITGA3, TMEM132A, TNFRSF...  \n",
       "\n",
       "[500 rows x 6 columns]"
      ]
     },
     "execution_count": 37,
     "metadata": {},
     "output_type": "execute_result"
    }
   ],
   "source": [
    "exp_id = 'cdk46_v2'\n",
    "folder_name = \"CDK46-combined-model-training\"\n",
    "file_save_path = f'{path_loader.get_data_path()}data/results/{folder_name}/'\n",
    "experiments = ['control_negative', 'control_positive', 'control_dynamic',\n",
    "               'control_ccle', 'combined']\n",
    "\n",
    "import pickle \n",
    "\n",
    "\n",
    "df_list_total = []\n",
    "for exp in experiments:\n",
    "    df_list = []\n",
    "    for model_used in all_models:\n",
    "        df = pd.read_pickle(f'{file_save_path}{exp_id}_{model_used}_{exp}.pkl')\n",
    "        print(f'Loaded {model_used} for {exp}')\n",
    "        df_list.append(df)\n",
    "\n",
    "    # join all the dataframes\n",
    "    df_all = pd.concat(df_list, axis=0)\n",
    "    df_all['experiment'] = exp\n",
    "    df_list_total.append(df_all)\n",
    "    \n",
    "total_df = pd.concat(df_list_total, axis=0)\n",
    "total_df"
   ]
  },
  {
   "cell_type": "markdown",
   "metadata": {},
   "source": [
    "### Graphical Generation"
   ]
  },
  {
   "cell_type": "code",
   "execution_count": 39,
   "metadata": {},
   "outputs": [
    {
     "name": "stderr",
     "output_type": "stream",
     "text": [
      "15.0% of the points cannot be placed; you may want to decrease the size of the markers or use stripplot.\n"
     ]
    },
    {
     "data": {
      "image/png": "[encoded data removed]",
      "text/plain": [
       "<Figure size 1440x400 with 1 Axes>"
      ]
     },
     "metadata": {},
     "output_type": "display_data"
    }
   ],
   "source": [
    "import seaborn as sns\n",
    "sns.set_context(\"paper\", rc={\"font.size\":16,\"axes.titlesize\":14,\"axes.labelsize\":14, 'xtick.labelsize': 10, 'ytick.labelsize': 10}) \n",
    "sns.set_style(\"whitegrid\")\n",
    "sns.set_palette(\"colorblind\")\n",
    "\n",
    "\n",
    "\n",
    "g = sns.catplot(\n",
    "    data=total_df, x=\"experiment\", y=\"model_performance\", col=\"condition\",\n",
    "    kind=\"box\", height=4, aspect=1.2, sharey=True, sharex=True, col_wrap=3,\n",
    "    boxprops=dict(alpha=.5),\n",
    ")\n",
    "g.set_xticklabels(rotation=30)\n",
    "for ax in g.axes.flat:\n",
    "    # ax.axhline(0, color='black', linestyle='--')\n",
    "    condition_df = total_df[total_df['condition'] == ax.title.get_text().split('=')[1].strip(' ')]\n",
    "    # print(ax.title.get_text().split('=')[1].strip(' '))\n",
    "    sns.swarmplot(data=condition_df, x=\"experiment\", y=\"model_performance\", alpha=0.7, ax=ax, size=3)\n",
    "    \n",
    "g.despine(left=True)\n",
    "plt.show()"
   ]
  },
  {
   "cell_type": "code",
   "execution_count": 24,
   "metadata": {},
   "outputs": [
    {
     "data": {
      "text/html": [
       "<div>\n",
       "<style scoped>\n",
       "    .dataframe tbody tr th:only-of-type {\n",
       "        vertical-align: middle;\n",
       "    }\n",
       "\n",
       "    .dataframe tbody tr th {\n",
       "        vertical-align: top;\n",
       "    }\n",
       "\n",
       "    .dataframe thead th {\n",
       "        text-align: right;\n",
       "    }\n",
       "</style>\n",
       "<table border=\"1\" class=\"dataframe\">\n",
       "  <thead>\n",
       "    <tr style=\"text-align: right;\">\n",
       "      <th></th>\n",
       "      <th>rng</th>\n",
       "      <th>condition</th>\n",
       "      <th>model_performance</th>\n",
       "      <th>p_vals</th>\n",
       "      <th>experiment</th>\n",
       "      <th>feature_importance</th>\n",
       "      <th>model</th>\n",
       "    </tr>\n",
       "  </thead>\n",
       "  <tbody>\n",
       "    <tr>\n",
       "      <th>0</th>\n",
       "      <td>0</td>\n",
       "      <td>SVR</td>\n",
       "      <td>-0.055129</td>\n",
       "      <td>0.585906</td>\n",
       "      <td>control_negative</td>\n",
       "      <td>NaN</td>\n",
       "      <td>NaN</td>\n",
       "    </tr>\n",
       "    <tr>\n",
       "      <th>1</th>\n",
       "      <td>1</td>\n",
       "      <td>SVR</td>\n",
       "      <td>0.022244</td>\n",
       "      <td>0.826128</td>\n",
       "      <td>control_negative</td>\n",
       "      <td>NaN</td>\n",
       "      <td>NaN</td>\n",
       "    </tr>\n",
       "    <tr>\n",
       "      <th>2</th>\n",
       "      <td>2</td>\n",
       "      <td>SVR</td>\n",
       "      <td>-0.046308</td>\n",
       "      <td>0.647309</td>\n",
       "      <td>control_negative</td>\n",
       "      <td>NaN</td>\n",
       "      <td>NaN</td>\n",
       "    </tr>\n",
       "    <tr>\n",
       "      <th>3</th>\n",
       "      <td>3</td>\n",
       "      <td>SVR</td>\n",
       "      <td>-0.082188</td>\n",
       "      <td>0.416263</td>\n",
       "      <td>control_negative</td>\n",
       "      <td>NaN</td>\n",
       "      <td>NaN</td>\n",
       "    </tr>\n",
       "    <tr>\n",
       "      <th>4</th>\n",
       "      <td>4</td>\n",
       "      <td>SVR</td>\n",
       "      <td>0.035394</td>\n",
       "      <td>0.726641</td>\n",
       "      <td>control_negative</td>\n",
       "      <td>NaN</td>\n",
       "      <td>NaN</td>\n",
       "    </tr>\n",
       "    <tr>\n",
       "      <th>...</th>\n",
       "      <td>...</td>\n",
       "      <td>...</td>\n",
       "      <td>...</td>\n",
       "      <td>...</td>\n",
       "      <td>...</td>\n",
       "      <td>...</td>\n",
       "      <td>...</td>\n",
       "    </tr>\n",
       "    <tr>\n",
       "      <th>95</th>\n",
       "      <td>95</td>\n",
       "      <td>ElasticNet</td>\n",
       "      <td>0.083372</td>\n",
       "      <td>0.502375</td>\n",
       "      <td>select_dynamic</td>\n",
       "      <td>([pIGFR_tfc, pIGFR_ttsv, pIGFR_tsv, pFGFR4_tma...</td>\n",
       "      <td>ElasticNet()</td>\n",
       "    </tr>\n",
       "    <tr>\n",
       "      <th>96</th>\n",
       "      <td>96</td>\n",
       "      <td>ElasticNet</td>\n",
       "      <td>0.050183</td>\n",
       "      <td>0.686737</td>\n",
       "      <td>select_dynamic</td>\n",
       "      <td>([pIGFR_tfc, pIGFR_ttsv, pIGFR_tsv, pFGFR4_auc...</td>\n",
       "      <td>ElasticNet()</td>\n",
       "    </tr>\n",
       "    <tr>\n",
       "      <th>97</th>\n",
       "      <td>97</td>\n",
       "      <td>ElasticNet</td>\n",
       "      <td>0.195696</td>\n",
       "      <td>0.112494</td>\n",
       "      <td>select_dynamic</td>\n",
       "      <td>([pIGFR_ttsv, pIGFR_tsv, pFGFR4_tmax, pFGFR4_t...</td>\n",
       "      <td>ElasticNet()</td>\n",
       "    </tr>\n",
       "    <tr>\n",
       "      <th>98</th>\n",
       "      <td>98</td>\n",
       "      <td>ElasticNet</td>\n",
       "      <td>-0.052591</td>\n",
       "      <td>0.672541</td>\n",
       "      <td>select_dynamic</td>\n",
       "      <td>([pIGFR_ttsv, pIGFR_tsv, pFGFR4_max, pFGFR4_tm...</td>\n",
       "      <td>ElasticNet()</td>\n",
       "    </tr>\n",
       "    <tr>\n",
       "      <th>99</th>\n",
       "      <td>99</td>\n",
       "      <td>ElasticNet</td>\n",
       "      <td>0.171213</td>\n",
       "      <td>0.165956</td>\n",
       "      <td>select_dynamic</td>\n",
       "      <td>([pIGFR_tfc, pIGFR_ttsv, pIGFR_tsv, pFGFR4_tma...</td>\n",
       "      <td>ElasticNet()</td>\n",
       "    </tr>\n",
       "  </tbody>\n",
       "</table>\n",
       "<p>3000 rows × 7 columns</p>\n",
       "</div>"
      ],
      "text/plain": [
       "    rng   condition  model_performance    p_vals        experiment  \\\n",
       "0     0         SVR          -0.055129  0.585906  control_negative   \n",
       "1     1         SVR           0.022244  0.826128  control_negative   \n",
       "2     2         SVR          -0.046308  0.647309  control_negative   \n",
       "3     3         SVR          -0.082188  0.416263  control_negative   \n",
       "4     4         SVR           0.035394  0.726641  control_negative   \n",
       "..  ...         ...                ...       ...               ...   \n",
       "95   95  ElasticNet           0.083372  0.502375    select_dynamic   \n",
       "96   96  ElasticNet           0.050183  0.686737    select_dynamic   \n",
       "97   97  ElasticNet           0.195696  0.112494    select_dynamic   \n",
       "98   98  ElasticNet          -0.052591  0.672541    select_dynamic   \n",
       "99   99  ElasticNet           0.171213  0.165956    select_dynamic   \n",
       "\n",
       "                                   feature_importance         model  \n",
       "0                                                 NaN           NaN  \n",
       "1                                                 NaN           NaN  \n",
       "2                                                 NaN           NaN  \n",
       "3                                                 NaN           NaN  \n",
       "4                                                 NaN           NaN  \n",
       "..                                                ...           ...  \n",
       "95  ([pIGFR_tfc, pIGFR_ttsv, pIGFR_tsv, pFGFR4_tma...  ElasticNet()  \n",
       "96  ([pIGFR_tfc, pIGFR_ttsv, pIGFR_tsv, pFGFR4_auc...  ElasticNet()  \n",
       "97  ([pIGFR_ttsv, pIGFR_tsv, pFGFR4_tmax, pFGFR4_t...  ElasticNet()  \n",
       "98  ([pIGFR_ttsv, pIGFR_tsv, pFGFR4_max, pFGFR4_tm...  ElasticNet()  \n",
       "99  ([pIGFR_tfc, pIGFR_ttsv, pIGFR_tsv, pFGFR4_tma...  ElasticNet()  \n",
       "\n",
       "[3000 rows x 7 columns]"
      ]
     },
     "execution_count": 24,
     "metadata": {},
     "output_type": "execute_result"
    }
   ],
   "source": [
    "total_df"
   ]
  },
  {
   "cell_type": "markdown",
   "metadata": {},
   "source": [
    "### Tukey's test"
   ]
  },
  {
   "cell_type": "code",
   "execution_count": 25,
   "metadata": {},
   "outputs": [
    {
     "name": "stdout",
     "output_type": "stream",
     "text": [
      "Condition: ElasticNet\n",
      "        Multiple Comparison of Means - Tukey HSD, FWER=0.05        \n",
      "===================================================================\n",
      "     group1           group2      meandiff p-adj lower upper reject\n",
      "-------------------------------------------------------------------\n",
      "    control_ccle  control_dynamic      nan   nan   nan   nan  False\n",
      "    control_ccle control_negative      nan   nan   nan   nan  False\n",
      "    control_ccle control_positive      nan   nan   nan   nan  False\n",
      "    control_ccle   select_dynamic      nan   nan   nan   nan  False\n",
      " control_dynamic control_negative      nan   nan   nan   nan  False\n",
      " control_dynamic control_positive      nan   nan   nan   nan  False\n",
      " control_dynamic   select_dynamic      nan   nan   nan   nan  False\n",
      "control_negative control_positive      nan   nan   nan   nan  False\n",
      "control_negative   select_dynamic      nan   nan   nan   nan  False\n",
      "control_positive   select_dynamic   -0.889   nan   nan   nan  False\n",
      "-------------------------------------------------------------------\n",
      "Condition: KNeighborsRegressor\n",
      "        Multiple Comparison of Means - Tukey HSD, FWER=0.05        \n",
      "===================================================================\n",
      "     group1           group2      meandiff p-adj lower upper reject\n",
      "-------------------------------------------------------------------\n",
      "    control_ccle  control_dynamic  -0.1351   nan   nan   nan  False\n",
      "    control_ccle control_negative  -0.2819   nan   nan   nan  False\n",
      "    control_ccle control_positive  -0.0288   nan   nan   nan  False\n",
      "    control_ccle   select_dynamic      nan   nan   nan   nan  False\n",
      " control_dynamic control_negative  -0.1468   nan   nan   nan  False\n",
      " control_dynamic control_positive   0.1064   nan   nan   nan  False\n",
      " control_dynamic   select_dynamic      nan   nan   nan   nan  False\n",
      "control_negative control_positive   0.2532   nan   nan   nan  False\n",
      "control_negative   select_dynamic      nan   nan   nan   nan  False\n",
      "control_positive   select_dynamic      nan   nan   nan   nan  False\n",
      "-------------------------------------------------------------------\n",
      "Condition: MLPRegressor\n",
      "          Multiple Comparison of Means - Tukey HSD, FWER=0.05           \n",
      "========================================================================\n",
      "     group1           group2      meandiff p-adj   lower   upper  reject\n",
      "------------------------------------------------------------------------\n",
      "    control_ccle  control_dynamic  -0.0954    0.0 -0.1413 -0.0495   True\n",
      "    control_ccle control_negative  -0.2251    0.0  -0.271 -0.1792   True\n",
      "    control_ccle control_positive   0.4416    0.0  0.3957  0.4875   True\n",
      "    control_ccle   select_dynamic  -0.2109    0.0 -0.2568  -0.165   True\n",
      " control_dynamic control_negative  -0.1297    0.0 -0.1756 -0.0838   True\n",
      " control_dynamic control_positive    0.537    0.0   0.491  0.5829   True\n",
      " control_dynamic   select_dynamic  -0.1155    0.0 -0.1614 -0.0696   True\n",
      "control_negative control_positive   0.6666    0.0  0.6207  0.7126   True\n",
      "control_negative   select_dynamic   0.0142 0.9156 -0.0317  0.0601  False\n",
      "control_positive   select_dynamic  -0.6524    0.0 -0.6983 -0.6065   True\n",
      "------------------------------------------------------------------------\n",
      "Condition: RandomForestRegressor\n",
      "          Multiple Comparison of Means - Tukey HSD, FWER=0.05           \n",
      "========================================================================\n",
      "     group1           group2      meandiff p-adj   lower   upper  reject\n",
      "------------------------------------------------------------------------\n",
      "    control_ccle  control_dynamic  -0.2371    0.0 -0.2816 -0.1926   True\n",
      "    control_ccle control_negative  -0.3565    0.0  -0.401 -0.3121   True\n",
      "    control_ccle control_positive   0.4889    0.0  0.4444  0.5333   True\n",
      "    control_ccle   select_dynamic  -0.3637    0.0 -0.4081 -0.3192   True\n",
      " control_dynamic control_negative  -0.1194    0.0 -0.1639  -0.075   True\n",
      " control_dynamic control_positive    0.726    0.0  0.6815  0.7704   True\n",
      " control_dynamic   select_dynamic  -0.1266    0.0  -0.171 -0.0821   True\n",
      "control_negative control_positive   0.8454    0.0   0.801  0.8899   True\n",
      "control_negative   select_dynamic  -0.0071 0.9922 -0.0516  0.0373  False\n",
      "control_positive   select_dynamic  -0.8526    0.0  -0.897 -0.8081   True\n",
      "------------------------------------------------------------------------\n",
      "Condition: SVR\n",
      "          Multiple Comparison of Means - Tukey HSD, FWER=0.05          \n",
      "=======================================================================\n",
      "     group1           group2      meandiff p-adj  lower   upper  reject\n",
      "-----------------------------------------------------------------------\n",
      "    control_ccle  control_dynamic  -0.1636   0.0 -0.2005 -0.1267   True\n",
      "    control_ccle control_negative   -0.348   0.0 -0.3849 -0.3111   True\n",
      "    control_ccle control_positive   0.4014   0.0  0.3645  0.4383   True\n",
      "    control_ccle   select_dynamic  -0.2698   0.0 -0.3067 -0.2329   True\n",
      " control_dynamic control_negative  -0.1845   0.0 -0.2214 -0.1475   True\n",
      " control_dynamic control_positive   0.5649   0.0   0.528  0.6019   True\n",
      " control_dynamic   select_dynamic  -0.1063   0.0 -0.1432 -0.0693   True\n",
      "control_negative control_positive   0.7494   0.0  0.7125  0.7863   True\n",
      "control_negative   select_dynamic   0.0782   0.0  0.0413  0.1151   True\n",
      "control_positive   select_dynamic  -0.6712   0.0 -0.7081 -0.6343   True\n",
      "-----------------------------------------------------------------------\n",
      "Condition: XGBRegressor\n",
      "          Multiple Comparison of Means - Tukey HSD, FWER=0.05           \n",
      "========================================================================\n",
      "     group1           group2      meandiff p-adj   lower   upper  reject\n",
      "------------------------------------------------------------------------\n",
      "    control_ccle  control_dynamic  -0.1916    0.0 -0.2329 -0.1503   True\n",
      "    control_ccle control_negative  -0.2663    0.0 -0.3076  -0.225   True\n",
      "    control_ccle control_positive   0.5986    0.0  0.5572  0.6399   True\n",
      "    control_ccle   select_dynamic  -0.2937    0.0 -0.3351 -0.2524   True\n",
      " control_dynamic control_negative  -0.0747    0.0  -0.116 -0.0334   True\n",
      " control_dynamic control_positive   0.7902    0.0  0.7488  0.8315   True\n",
      " control_dynamic   select_dynamic  -0.1021    0.0 -0.1435 -0.0608   True\n",
      "control_negative control_positive   0.8649    0.0  0.8236  0.9062   True\n",
      "control_negative   select_dynamic  -0.0274 0.3648 -0.0687  0.0139  False\n",
      "control_positive   select_dynamic  -0.8923    0.0 -0.9336  -0.851   True\n",
      "------------------------------------------------------------------------\n"
     ]
    }
   ],
   "source": [
    "from statsmodels.stats.multicomp import pairwise_tukeyhsd\n",
    "\n",
    "for condition, df in total_df.groupby('condition'):\n",
    "    print(f'Condition: {condition}')\n",
    "    print(pairwise_tukeyhsd(df['model_performance'], df['experiment']))"
   ]
  }
 ],
 "metadata": {
  "kernelspec": {
   "display_name": "dynamic-marker",
   "language": "python",
   "name": "python3"
  },
  "language_info": {
   "codemirror_mode": {
    "name": "ipython",
    "version": 3
   },
   "file_extension": ".py",
   "mimetype": "text/x-python",
   "name": "python",
   "nbconvert_exporter": "python",
   "pygments_lexer": "ipython3",
   "version": "3.8.3"
  }
 },
 "nbformat": 4,
 "nbformat_minor": 2
}
