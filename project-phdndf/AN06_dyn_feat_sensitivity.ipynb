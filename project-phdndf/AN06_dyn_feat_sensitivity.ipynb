{
 "cells": [
  {
   "cell_type": "markdown",
   "metadata": {},
   "source": [
    "## Notebook Initialisation"
   ]
  },
  {
   "cell_type": "code",
   "execution_count": 1,
   "metadata": {},
   "outputs": [
    {
     "name": "stdout",
     "output_type": "stream",
     "text": [
      "Project path set to: c:\\Github\\ode-biomarker-project\n"
     ]
    }
   ],
   "source": [
    "import os\n",
    "\n",
    "import numpy as np\n",
    "import pandas as pd\n",
    "\n",
    "path = os.getcwd()\n",
    "# find the string 'project' in the path, return index\n",
    "index_project = path.find('project')\n",
    "# slice the path from the index of 'project' to the end\n",
    "project_path = path[:index_project+7]\n",
    "# set the working directory\n",
    "os.chdir(project_path)\n",
    "print(f'Project path set to: {os.getcwd()}')"
   ]
  },
  {
   "cell_type": "code",
   "execution_count": 2,
   "metadata": {},
   "outputs": [
    {
     "name": "stderr",
     "output_type": "stream",
     "text": [
      "c:\\Github\\ode-biomarker-project\\venv\\lib\\site-packages\\tqdm\\auto.py:21: TqdmWarning: IProgress not found. Please update jupyter and ipywidgets. See https://ipywidgets.readthedocs.io/en/stable/user_install.html\n",
      "  from .autonotebook import tqdm as notebook_tqdm\n"
     ]
    }
   ],
   "source": [
    "from sklearn.datasets import fetch_openml\n",
    "from sklearn.decomposition import PCA\n",
    "from sklearn import preprocessing\n",
    "from sklearn.feature_selection import f_classif\n",
    "import numpy as np\n",
    "\n",
    "# Dimension reduction and clustering libraries\n",
    "import umap\n",
    "import hdbscan\n",
    "import sklearn.cluster as cluster\n",
    "from sklearn.metrics import adjusted_rand_score, adjusted_mutual_info_score\n",
    "\n",
    "# Plotting \n",
    "import matplotlib.pyplot as plt\n",
    "%matplotlib inline\n",
    "import seaborn as sns\n",
    "\n",
    "sns.set_theme(style=\"whitegrid\")\n",
    "sns.set_context(\"talk\")"
   ]
  },
  {
   "cell_type": "code",
   "execution_count": 3,
   "metadata": {},
   "outputs": [],
   "source": [
    "# Bring in CCLE data\n",
    "from PathLoader import PathLoader\n",
    "from DataLink import DataLink\n",
    "path_loader = PathLoader('data_config.env', 'current_user.env')\n",
    "data_link = DataLink(path_loader, 'data_codes.csv')"
   ]
  },
  {
   "cell_type": "code",
   "execution_count": 4,
   "metadata": {},
   "outputs": [],
   "source": [
    "# attempt load from loading code\n",
    "\n",
    "loading_code = 'fgfr4_model_raw_simulation'\n",
    "simulation_data = data_link.get_data_from_code(loading_code)"
   ]
  },
  {
   "cell_type": "code",
   "execution_count": 5,
   "metadata": {},
   "outputs": [],
   "source": [
    "loading_code = 'fgfr4_ccle_dynamic_features'\n",
    "dynamic_features = data_link.get_data_from_code(loading_code)"
   ]
  },
  {
   "cell_type": "markdown",
   "metadata": {},
   "source": [
    "## Analysis Chain"
   ]
  },
  {
   "cell_type": "code",
   "execution_count": 35,
   "metadata": {},
   "outputs": [],
   "source": [
    "## CONFIG AREA \n",
    "### OPTIONS\n",
    "# aCbl vs. pSPRY2 vs. pMEK vs. SPRY2\n",
    "# OR \n",
    "# PTP vs aCbl \n",
    "\n",
    "# folder output\n",
    "folder_name = \"FGFR4_Dyn_Feats_Sensitivity_Analysis\"\n",
    "\n",
    "# MAIN DEFINITIONS\n",
    "target_proteins = ['aCbl', 'pSPRY2', 'pMEK', 'SPRY2']\n",
    "plot_colors = ['red', 'blue', 'green', 'purple']\n",
    "# file output options \n",
    "exp_id = \"PTP_control\"\n",
    "# plot options \n",
    "dynamic_plot_cols = 2\n",
    "ncluster_plot_cols = 2\n",
    "normalise_simulation_dynamics = False\n",
    "save_figure = True\n",
    "projection_show_legend = True\n",
    "## Technical parameters \n",
    "fixed_random_seed = 42 # -1 for no seed, not implemented yet\n",
    "umap_params = {\n",
    "    # ADD YOUR OWN HERE \n",
    "    'random_state': fixed_random_seed\n",
    "}\n",
    "\n",
    "hbd_params = {\n",
    "    # ADD YOUR OWN HERE \n",
    "    'min_cluster_size': 500,\n",
    "    'min_samples': 10,\n",
    "}\n",
    "\n",
    "# validation scripts\n",
    "assert len(target_proteins) >= dynamic_plot_cols, 'Not enough target proteins for the plot'\n",
    "assert len(target_proteins) >= ncluster_plot_cols, 'Not enough target proteins for the plot'\n",
    "assert len(target_proteins) == len(plot_colors), 'Not enough plot colors for the plot'\n",
    "if not os.path.exists(f'{path_loader.get_data_path()}data/results/{folder_name}'):\n",
    "    os.makedirs(f'{path_loader.get_data_path()}data/results/{folder_name}')\n",
    "\n",
    "file_save_path = f'{path_loader.get_data_path()}data/results/{folder_name}/'\n",
    "\n",
    "# save parameters in a text file\n",
    "with open(f'{file_save_path}{exp_id}_parameters.txt', 'w') as f:\n",
    "    f.write(f'Fixed random seed: {fixed_random_seed}\\n')\n",
    "    f.write(f'UMAP parameters: {umap_params}\\n')\n",
    "    f.write(f'HDBSCAN parameters: {hbd_params}\\n')\n",
    "    f.write(f'Target proteins: {target_proteins}\\n')\n",
    "    f.write(f'Plot colors: {plot_colors}\\n')\n",
    "    f.write(f'Normalise simulation dynamics: {normalise_simulation_dynamics}\\n')\n",
    "    f.write(f'Projection show legend: {projection_show_legend}\\n')\n",
    "        "
   ]
  },
  {
   "cell_type": "code",
   "execution_count": 36,
   "metadata": {},
   "outputs": [],
   "source": [
    "indexed_dyn_feats = dynamic_features.set_index('Row')\n",
    "columns = indexed_dyn_feats.columns\n",
    "\n",
    "dyn_feat_cols = ['auc', 'median', 'tfc', 'tmax', 'max', 'tmin', 'min', 'ttsv', 'tsv', 'init']\n",
    "\n",
    "joint_dyn_feat_data = []\n",
    "joint_labels = []\n",
    "joint_labels_id = []\n",
    "\n",
    "\n",
    "# dataFrame['column name'].str.match('string')\n",
    "\n",
    "\n",
    "dyn_feat_data = []\n",
    "for protein in target_proteins:\n",
    "    # filter data based on \"protein_\" in the column name\n",
    "    filtered_cols = [col for col in columns if col.startswith(protein)]\n",
    "    filtered_data = indexed_dyn_feats[filtered_cols]\n",
    "    dyn_feat_data.append(filtered_data)\n",
    "    \n",
    "for i, data in enumerate(dyn_feat_data):\n",
    "    label = target_proteins[i]\n",
    "    label_id = i\n",
    "    for row in range(data.shape[0]):\n",
    "        data_row = data.iloc[row].tolist()\n",
    "        # print(label,len(data_row))\n",
    "        joint_dyn_feat_data.append(data_row)\n",
    "        joint_labels.append(label)\n",
    "        joint_labels_id.append(label_id)\n",
    "        \n",
    "joint_dyn_feat_df = pd.DataFrame(joint_dyn_feat_data, columns=dyn_feat_cols) \n",
    "        \n",
    "        \n",
    "    "
   ]
  },
  {
   "cell_type": "code",
   "execution_count": 37,
   "metadata": {},
   "outputs": [],
   "source": [
    "# check f score for each dynamic feature\n",
    "f_scores = f_classif(joint_dyn_feat_df, joint_labels)\n",
    "\n",
    "f_score_df = pd.DataFrame(f_scores, columns=dyn_feat_cols)"
   ]
  },
  {
   "cell_type": "code",
   "execution_count": 38,
   "metadata": {},
   "outputs": [
    {
     "data": {
      "text/plain": [
       "(array([1.16636960e+03, 1.32108504e+03, 4.06942852e-01, 1.11361740e+07,\n",
       "        2.69640903e+03, 3.28725893e+04, 1.81609869e+01, 6.25433194e+04,\n",
       "        2.69667837e+03, 1.81244041e+01]),\n",
       " array([0.00000000e+00, 0.00000000e+00, 7.48018971e-01, 0.00000000e+00,\n",
       "        0.00000000e+00, 0.00000000e+00, 1.00467433e-11, 0.00000000e+00,\n",
       "        0.00000000e+00, 1.05976500e-11]))"
      ]
     },
     "execution_count": 38,
     "metadata": {},
     "output_type": "execute_result"
    }
   ],
   "source": [
    "f_scores"
   ]
  },
  {
   "cell_type": "code",
   "execution_count": 39,
   "metadata": {},
   "outputs": [
    {
     "data": {
      "text/html": [
       "<div>\n",
       "<style scoped>\n",
       "    .dataframe tbody tr th:only-of-type {\n",
       "        vertical-align: middle;\n",
       "    }\n",
       "\n",
       "    .dataframe tbody tr th {\n",
       "        vertical-align: top;\n",
       "    }\n",
       "\n",
       "    .dataframe thead th {\n",
       "        text-align: right;\n",
       "    }\n",
       "</style>\n",
       "<table border=\"1\" class=\"dataframe\">\n",
       "  <thead>\n",
       "    <tr style=\"text-align: right;\">\n",
       "      <th></th>\n",
       "      <th>F value</th>\n",
       "      <th>p value</th>\n",
       "    </tr>\n",
       "  </thead>\n",
       "  <tbody>\n",
       "    <tr>\n",
       "      <th>tmax</th>\n",
       "      <td>11136173.98</td>\n",
       "      <td>0.00</td>\n",
       "    </tr>\n",
       "    <tr>\n",
       "      <th>ttsv</th>\n",
       "      <td>62543.32</td>\n",
       "      <td>0.00</td>\n",
       "    </tr>\n",
       "    <tr>\n",
       "      <th>tmin</th>\n",
       "      <td>32872.59</td>\n",
       "      <td>0.00</td>\n",
       "    </tr>\n",
       "    <tr>\n",
       "      <th>tsv</th>\n",
       "      <td>2696.68</td>\n",
       "      <td>0.00</td>\n",
       "    </tr>\n",
       "    <tr>\n",
       "      <th>max</th>\n",
       "      <td>2696.41</td>\n",
       "      <td>0.00</td>\n",
       "    </tr>\n",
       "    <tr>\n",
       "      <th>median</th>\n",
       "      <td>1321.09</td>\n",
       "      <td>0.00</td>\n",
       "    </tr>\n",
       "    <tr>\n",
       "      <th>auc</th>\n",
       "      <td>1166.37</td>\n",
       "      <td>0.00</td>\n",
       "    </tr>\n",
       "    <tr>\n",
       "      <th>min</th>\n",
       "      <td>18.16</td>\n",
       "      <td>0.00</td>\n",
       "    </tr>\n",
       "    <tr>\n",
       "      <th>init</th>\n",
       "      <td>18.12</td>\n",
       "      <td>0.00</td>\n",
       "    </tr>\n",
       "    <tr>\n",
       "      <th>tfc</th>\n",
       "      <td>0.41</td>\n",
       "      <td>0.75</td>\n",
       "    </tr>\n",
       "  </tbody>\n",
       "</table>\n",
       "</div>"
      ],
      "text/plain": [
       "            F value  p value\n",
       "tmax    11136173.98     0.00\n",
       "ttsv       62543.32     0.00\n",
       "tmin       32872.59     0.00\n",
       "tsv         2696.68     0.00\n",
       "max         2696.41     0.00\n",
       "median      1321.09     0.00\n",
       "auc         1166.37     0.00\n",
       "min           18.16     0.00\n",
       "init          18.12     0.00\n",
       "tfc            0.41     0.75"
      ]
     },
     "execution_count": 39,
     "metadata": {},
     "output_type": "execute_result"
    }
   ],
   "source": [
    "# format the output such that it is easier to read\n",
    "f_score_df = f_score_df.T\n",
    "f_score_df.columns = ['F value', 'p value']\n",
    "f_score_df = f_score_df.sort_values(by='F value', ascending=False)\n",
    "# when displaying, show only 3 decimal places\n",
    "f_score_df = f_score_df.round(2)\n",
    "f_score_df.head(10)"
   ]
  },
  {
   "cell_type": "markdown",
   "metadata": {},
   "source": [
    "Perhaps when comparing between different dynamics, different dynamic features become better separators of data"
   ]
  },
  {
   "cell_type": "code",
   "execution_count": null,
   "metadata": {},
   "outputs": [],
   "source": []
  }
 ],
 "metadata": {
  "kernelspec": {
   "display_name": "venv",
   "language": "python",
   "name": "python3"
  },
  "language_info": {
   "codemirror_mode": {
    "name": "ipython",
    "version": 3
   },
   "file_extension": ".py",
   "mimetype": "text/x-python",
   "name": "python",
   "nbconvert_exporter": "python",
   "pygments_lexer": "ipython3",
   "version": "3.8.10"
  }
 },
 "nbformat": 4,
 "nbformat_minor": 2
}
