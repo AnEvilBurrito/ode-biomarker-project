{
 "cells": [
  {
   "cell_type": "markdown",
   "metadata": {},
   "source": [
    "## Notebook Initialisation"
   ]
  },
  {
   "cell_type": "code",
   "execution_count": null,
   "metadata": {},
   "outputs": [],
   "source": [
    "import os\n",
    "\n",
    "import numpy as np\n",
    "import pandas as pd\n",
    "\n",
    "path = os.getcwd()\n",
    "# find the string 'project' in the path, return index\n",
    "index_project = path.find('project')\n",
    "# slice the path from the index of 'project' to the end\n",
    "project_path = path[:index_project+7]\n",
    "# set the working directory\n",
    "os.chdir(project_path)\n",
    "print(f'Project path set to: {os.getcwd()}')"
   ]
  },
  {
   "cell_type": "code",
   "execution_count": null,
   "metadata": {},
   "outputs": [],
   "source": [
    "from sklearn.datasets import fetch_openml\n",
    "from sklearn.decomposition import PCA\n",
    "from sklearn import preprocessing\n",
    "import numpy as np\n",
    "import matplotlib.pyplot as plt\n",
    "%matplotlib inline\n",
    "\n",
    "# Dimension reduction and clustering libraries\n",
    "import umap\n",
    "import hdbscan\n",
    "import sklearn.cluster as cluster\n",
    "from sklearn.metrics import adjusted_rand_score, adjusted_mutual_info_score\n",
    "\n",
    "# Plotting \n",
    "import matplotlib.pyplot as plt\n",
    "import seaborn as sns\n",
    "\n",
    "sns.set_theme(style=\"whitegrid\")\n",
    "sns.set_context(\"talk\")"
   ]
  },
  {
   "cell_type": "code",
   "execution_count": null,
   "metadata": {},
   "outputs": [],
   "source": [
    "# Bring in CCLE data\n",
    "from PathLoader import PathLoader\n",
    "from DataLink import DataLink\n",
    "path_loader = PathLoader('data_config.env', 'current_user.env')\n",
    "data_link = DataLink(path_loader, 'data_codes.csv')"
   ]
  },
  {
   "cell_type": "code",
   "execution_count": null,
   "metadata": {},
   "outputs": [],
   "source": [
    "# attempt load from loading code\n",
    "\n",
    "loading_code = 'fgfr4_model_raw_simulation'\n",
    "simulation_data = data_link.get_data_from_code(loading_code)"
   ]
  },
  {
   "cell_type": "code",
   "execution_count": null,
   "metadata": {},
   "outputs": [],
   "source": [
    "loading_code = 'fgfr4_ccle_dynamic_features'\n",
    "dynamic_features = data_link.get_data_from_code(loading_code)"
   ]
  },
  {
   "cell_type": "markdown",
   "metadata": {},
   "source": [
    "## Analysis Chain"
   ]
  },
  {
   "cell_type": "code",
   "execution_count": null,
   "metadata": {},
   "outputs": [],
   "source": [
    "## CONFIG AREA \n",
    "### OPTIONS\n",
    "# aCbl vs. pSPRY2 vs. pMEK vs. SPRY2\n",
    "# OR \n",
    "# PTP vs aCbl \n",
    "\n",
    "# folder output\n",
    "folder_name = \"FGFR4_Dyn_Feats_Sensitivity_Analysis\"\n",
    "\n",
    "# MAIN DEFINITIONS\n",
    "target_proteins = ['aCbl', 'PTP']\n",
    "plot_colors = ['red', 'blue']\n",
    "# file output options \n",
    "exp_id = \"PTP_control\"\n",
    "# plot options \n",
    "dynamic_plot_cols = 2\n",
    "ncluster_plot_cols = 2\n",
    "normalise_simulation_dynamics = False\n",
    "save_figure = True\n",
    "projection_show_legend = True\n",
    "## Technical parameters \n",
    "fixed_random_seed = 42 # -1 for no seed, not implemented yet\n",
    "umap_params = {\n",
    "    # ADD YOUR OWN HERE \n",
    "    'random_state': fixed_random_seed\n",
    "}\n",
    "\n",
    "hbd_params = {\n",
    "    # ADD YOUR OWN HERE \n",
    "    'min_cluster_size': 500,\n",
    "    'min_samples': 10,\n",
    "}\n",
    "\n",
    "# validation scripts\n",
    "assert len(target_proteins) >= dynamic_plot_cols, 'Not enough target proteins for the plot'\n",
    "assert len(target_proteins) >= ncluster_plot_cols, 'Not enough target proteins for the plot'\n",
    "assert len(target_proteins) == len(plot_colors), 'Not enough plot colors for the plot'\n",
    "if not os.path.exists(f'{path_loader.get_data_path()}data/results/{folder_name}'):\n",
    "    os.makedirs(f'{path_loader.get_data_path()}data/results/{folder_name}')\n",
    "\n",
    "file_save_path = f'{path_loader.get_data_path()}data/results/{folder_name}/'\n",
    "\n",
    "# save parameters in a text file\n",
    "with open(f'{file_save_path}{exp_id}_parameters.txt', 'w') as f:\n",
    "    f.write(f'Fixed random seed: {fixed_random_seed}\\n')\n",
    "    f.write(f'UMAP parameters: {umap_params}\\n')\n",
    "    f.write(f'HDBSCAN parameters: {hbd_params}\\n')\n",
    "    f.write(f'Target proteins: {target_proteins}\\n')\n",
    "    f.write(f'Plot colors: {plot_colors}\\n')\n",
    "    f.write(f'Normalise simulation dynamics: {normalise_simulation_dynamics}\\n')\n",
    "    f.write(f'Projection show legend: {projection_show_legend}\\n')\n",
    "        "
   ]
  }
 ],
 "metadata": {
  "kernelspec": {
   "display_name": "venv",
   "language": "python",
   "name": "python3"
  },
  "language_info": {
   "codemirror_mode": {
    "name": "ipython",
    "version": 3
   },
   "file_extension": ".py",
   "mimetype": "text/x-python",
   "name": "python",
   "nbconvert_exporter": "python",
   "pygments_lexer": "ipython3",
   "version": "3.8.10"
  }
 },
 "nbformat": 4,
 "nbformat_minor": 2
}
