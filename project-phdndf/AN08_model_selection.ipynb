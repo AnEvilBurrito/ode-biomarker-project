{
 "cells": [
  {
   "cell_type": "markdown",
   "metadata": {},
   "source": [
    "# Model Selection\n",
    "\n",
    "The following scripts analyses the performance of different models on a given dataset. "
   ]
  },
  {
   "cell_type": "markdown",
   "metadata": {},
   "source": [
    "## Initialisation"
   ]
  },
  {
   "cell_type": "code",
   "execution_count": 1,
   "metadata": {},
   "outputs": [
    {
     "name": "stdout",
     "output_type": "stream",
     "text": [
      "Project path set to: c:\\Github\\ode-biomarker-project\n"
     ]
    }
   ],
   "source": [
    "import os\n",
    "\n",
    "import numpy as np\n",
    "import pandas as pd\n",
    "\n",
    "path = os.getcwd()\n",
    "# find the string 'project' in the path, return index\n",
    "index_project = path.find('project')\n",
    "# slice the path from the index of 'project' to the end\n",
    "project_path = path[:index_project+7]\n",
    "# set the working directory\n",
    "os.chdir(project_path)\n",
    "print(f'Project path set to: {os.getcwd()}')"
   ]
  },
  {
   "cell_type": "code",
   "execution_count": 2,
   "metadata": {},
   "outputs": [],
   "source": [
    "# Bring in CCLE data\n",
    "from PathLoader import PathLoader\n",
    "from DataLink import DataLink\n",
    "path_loader = PathLoader('data_config.env', 'current_user.env')\n",
    "data_link = DataLink(path_loader, 'data_codes.csv')"
   ]
  },
  {
   "cell_type": "code",
   "execution_count": 3,
   "metadata": {},
   "outputs": [],
   "source": [
    "# load in original ccle data\n",
    "loading_code = 'generic-gdsc-1-FGFR_0939-LN_IC50-fgfr4_ccle_dynamic_features-true-Row'\n",
    "# generic-gdsc-{number}-{drug_name}-{target_label}-{dataset_name}-{replace_index}-{row_index}\n",
    "feature_data, label_data = data_link.get_data_using_code(loading_code)"
   ]
  },
  {
   "cell_type": "code",
   "execution_count": 4,
   "metadata": {},
   "outputs": [
    {
     "name": "stderr",
     "output_type": "stream",
     "text": [
      "IProgress not found. Please update jupyter and ipywidgets. See https://ipywidgets.readthedocs.io/en/stable/user_install.html\n"
     ]
    }
   ],
   "source": [
    "from toolkit import *"
   ]
  },
  {
   "cell_type": "code",
   "execution_count": 5,
   "metadata": {},
   "outputs": [],
   "source": [
    "folder_name = \"ModelSelectionFGFR4\"\n",
    "exp_id = \"test\"\n",
    "fixed_random_seed = 42 # -1 for no seed\n",
    "save_figure = False\n",
    "save_data = False\n",
    "show_figure = False\n",
    "\n",
    "if not os.path.exists(f'{path_loader.get_data_path()}data/results/{folder_name}'):\n",
    "    os.makedirs(f'{path_loader.get_data_path()}data/results/{folder_name}')\n",
    "\n",
    "file_save_path = f'{path_loader.get_data_path()}data/results/{folder_name}/'"
   ]
  },
  {
   "cell_type": "markdown",
   "metadata": {},
   "source": [
    "## Analysis 1 "
   ]
  },
  {
   "cell_type": "code",
   "execution_count": 14,
   "metadata": {},
   "outputs": [],
   "source": [
    "powerkit = Powerkit(feature_data, label_data)\n",
    "rngs = list(range(100))"
   ]
  },
  {
   "cell_type": "code",
   "execution_count": 15,
   "metadata": {},
   "outputs": [],
   "source": [
    "def pipeline_func(X_train, y_train, rng, model_used, **kwargs):\n",
    "    k = X_train.shape[1]\n",
    "    selected_features, scores = f_regression_select(X_train, y_train, k)\n",
    "    model = get_model_from_string(model_used, **kwargs)\n",
    "    selected_features, X_selected = select_preset_features(X_train, y_train, selected_features)\n",
    "    model.fit(X_selected, y_train)\n",
    "    return {'model': model,\n",
    "            'filter_selected_features': selected_features,\n",
    "            'filter_scores': scores}\n",
    "\n",
    "\n",
    "def eval_func(X_test, y_test, pipeline_components=None, **kwargs):\n",
    "    selected_features, X_selected = select_preset_features(X_test, y_test, pipeline_components['filter_selected_features'])\n",
    "    y_pred = pipeline_components['model'].predict(X_selected)\n",
    "    # assess performance by pearson correlation\n",
    "    corr, p_vals = pearsonr(y_test, y_pred)\n",
    "    feat_imp = (pipeline_components['filter_selected_features'], pipeline_components['filter_scores'])\n",
    "    return {'model_performance': corr, 'p_vals': p_vals, 'feature_importance': feat_imp}"
   ]
  },
  {
   "cell_type": "code",
   "execution_count": 18,
   "metadata": {},
   "outputs": [],
   "source": [
    "all_models = ['SVR', 'RandomForestRegressor', 'XGBRegressor', 'MLPRegressor', 'KNeighborsRegressor', 'ElasticNet']"
   ]
  },
  {
   "cell_type": "code",
   "execution_count": 16,
   "metadata": {},
   "outputs": [],
   "source": [
    "model_used = 'SVR'\n",
    "powerkit.add_condition(model_used, False, pipeline_func, {'model_used': model_used}, eval_func, {})"
   ]
  },
  {
   "cell_type": "code",
   "execution_count": 17,
   "metadata": {},
   "outputs": [
    {
     "name": "stderr",
     "output_type": "stream",
     "text": [
      "invalid value encountered in sqrt\n",
      "invalid value encountered in sqrt\n",
      "invalid value encountered in sqrt\n",
      "invalid value encountered in sqrt\n"
     ]
    },
    {
     "name": "stderr",
     "output_type": "stream",
     "text": [
      "invalid value encountered in sqrt\n",
      "invalid value encountered in sqrt\n",
      "invalid value encountered in sqrt\n",
      "invalid value encountered in sqrt\n",
      "invalid value encountered in sqrt\n",
      "invalid value encountered in sqrt\n",
      "invalid value encountered in sqrt\n",
      "invalid value encountered in sqrt\n",
      "invalid value encountered in sqrt\n",
      "invalid value encountered in sqrt\n",
      "invalid value encountered in sqrt\n",
      "invalid value encountered in sqrt\n",
      "invalid value encountered in sqrt\n",
      "invalid value encountered in sqrt\n",
      "invalid value encountered in sqrt\n",
      "invalid value encountered in sqrt\n",
      "invalid value encountered in sqrt\n",
      "invalid value encountered in sqrt\n",
      "invalid value encountered in sqrt\n",
      "invalid value encountered in sqrt\n",
      "invalid value encountered in sqrt\n",
      "invalid value encountered in sqrt\n",
      "invalid value encountered in sqrt\n",
      "invalid value encountered in sqrt\n",
      "invalid value encountered in sqrt\n",
      "invalid value encountered in sqrt\n",
      "invalid value encountered in sqrt\n",
      "invalid value encountered in sqrt\n",
      "invalid value encountered in sqrt\n",
      "invalid value encountered in sqrt\n",
      "invalid value encountered in sqrt\n",
      "invalid value encountered in sqrt\n",
      "invalid value encountered in sqrt\n",
      "invalid value encountered in sqrt\n",
      "invalid value encountered in sqrt\n",
      "invalid value encountered in sqrt\n",
      "invalid value encountered in sqrt\n",
      "invalid value encountered in sqrt\n",
      "invalid value encountered in sqrt\n",
      "invalid value encountered in sqrt\n",
      "invalid value encountered in sqrt\n",
      "invalid value encountered in sqrt\n",
      "invalid value encountered in sqrt\n",
      "invalid value encountered in sqrt\n",
      "invalid value encountered in sqrt\n",
      "invalid value encountered in sqrt\n",
      "invalid value encountered in sqrt\n",
      "invalid value encountered in sqrt\n",
      "invalid value encountered in sqrt\n",
      "invalid value encountered in sqrt\n",
      "invalid value encountered in sqrt\n",
      "invalid value encountered in sqrt\n",
      "invalid value encountered in sqrt\n",
      "invalid value encountered in sqrt\n",
      "invalid value encountered in sqrt\n",
      "invalid value encountered in sqrt\n",
      "invalid value encountered in sqrt\n",
      "invalid value encountered in sqrt\n",
      "invalid value encountered in sqrt\n",
      "invalid value encountered in sqrt\n",
      "invalid value encountered in sqrt\n",
      "invalid value encountered in sqrt\n",
      "invalid value encountered in sqrt\n",
      "invalid value encountered in sqrt\n",
      "invalid value encountered in sqrt\n",
      "invalid value encountered in sqrt\n",
      "invalid value encountered in sqrt\n",
      "invalid value encountered in sqrt\n",
      "invalid value encountered in sqrt\n",
      "invalid value encountered in sqrt\n",
      "invalid value encountered in sqrt\n",
      "invalid value encountered in sqrt\n",
      "invalid value encountered in sqrt\n",
      "invalid value encountered in sqrt\n",
      "invalid value encountered in sqrt\n",
      "invalid value encountered in sqrt\n",
      "invalid value encountered in sqrt\n",
      "invalid value encountered in sqrt\n",
      "invalid value encountered in sqrt\n",
      "invalid value encountered in sqrt\n",
      "invalid value encountered in sqrt\n",
      "invalid value encountered in sqrt\n",
      "invalid value encountered in sqrt\n",
      "invalid value encountered in sqrt\n",
      "invalid value encountered in sqrt\n",
      "invalid value encountered in sqrt\n",
      "invalid value encountered in sqrt\n",
      "invalid value encountered in sqrt\n",
      "invalid value encountered in sqrt\n",
      "invalid value encountered in sqrt\n",
      "invalid value encountered in sqrt\n",
      "invalid value encountered in sqrt\n",
      "invalid value encountered in sqrt\n",
      "invalid value encountered in sqrt\n",
      "invalid value encountered in sqrt\n",
      "invalid value encountered in sqrt\n"
     ]
    },
    {
     "data": {
      "text/html": [
       "<div>\n",
       "<style scoped>\n",
       "    .dataframe tbody tr th:only-of-type {\n",
       "        vertical-align: middle;\n",
       "    }\n",
       "\n",
       "    .dataframe tbody tr th {\n",
       "        vertical-align: top;\n",
       "    }\n",
       "\n",
       "    .dataframe thead th {\n",
       "        text-align: right;\n",
       "    }\n",
       "</style>\n",
       "<table border=\"1\" class=\"dataframe\">\n",
       "  <thead>\n",
       "    <tr style=\"text-align: right;\">\n",
       "      <th></th>\n",
       "      <th>rng</th>\n",
       "      <th>condition</th>\n",
       "      <th>model_performance</th>\n",
       "      <th>p_vals</th>\n",
       "    </tr>\n",
       "  </thead>\n",
       "  <tbody>\n",
       "    <tr>\n",
       "      <th>70</th>\n",
       "      <td>70</td>\n",
       "      <td>SVR</td>\n",
       "      <td>0.293820</td>\n",
       "      <td>0.015809</td>\n",
       "    </tr>\n",
       "    <tr>\n",
       "      <th>6</th>\n",
       "      <td>6</td>\n",
       "      <td>SVR</td>\n",
       "      <td>0.278391</td>\n",
       "      <td>0.022540</td>\n",
       "    </tr>\n",
       "    <tr>\n",
       "      <th>91</th>\n",
       "      <td>91</td>\n",
       "      <td>SVR</td>\n",
       "      <td>0.250825</td>\n",
       "      <td>0.040628</td>\n",
       "    </tr>\n",
       "    <tr>\n",
       "      <th>17</th>\n",
       "      <td>17</td>\n",
       "      <td>SVR</td>\n",
       "      <td>0.250761</td>\n",
       "      <td>0.040681</td>\n",
       "    </tr>\n",
       "    <tr>\n",
       "      <th>67</th>\n",
       "      <td>67</td>\n",
       "      <td>SVR</td>\n",
       "      <td>0.249148</td>\n",
       "      <td>0.042036</td>\n",
       "    </tr>\n",
       "  </tbody>\n",
       "</table>\n",
       "</div>"
      ],
      "text/plain": [
       "    rng condition  model_performance    p_vals\n",
       "70   70       SVR           0.293820  0.015809\n",
       "6     6       SVR           0.278391  0.022540\n",
       "91   91       SVR           0.250825  0.040628\n",
       "17   17       SVR           0.250761  0.040681\n",
       "67   67       SVR           0.249148  0.042036"
      ]
     },
     "execution_count": 17,
     "metadata": {},
     "output_type": "execute_result"
    }
   ],
   "source": [
    "df = powerkit.run_selected_condition(model_used, rngs, 1, True)\n",
    "df.sort_values(by='model_performance', ascending=False, inplace=True)\n",
    "df.head()"
   ]
  }
 ],
 "metadata": {
  "kernelspec": {
   "display_name": "venv",
   "language": "python",
   "name": "python3"
  },
  "language_info": {
   "codemirror_mode": {
    "name": "ipython",
    "version": 3
   },
   "file_extension": ".py",
   "mimetype": "text/x-python",
   "name": "python",
   "nbconvert_exporter": "python",
   "pygments_lexer": "ipython3",
   "version": "3.8.10"
  }
 },
 "nbformat": 4,
 "nbformat_minor": 2
}
