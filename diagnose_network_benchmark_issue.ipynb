{
 "cells": [
  {
   "cell_type": "code",
   "execution_count": 1,
   "id": "47a91b4b",
   "metadata": {},
   "outputs": [],
   "source": [
    "# Diagnostic Notebook for Network Benchmark Protein ID Mismatch Issue\n",
    "# This notebook investigates the \"not in index\" error in benchmark_network.py"
   ]
  },
  {
   "cell_type": "code",
   "execution_count": 2,
   "id": "ba617a41",
   "metadata": {},
   "outputs": [],
   "source": [
    "# Initialization\n",
    "import os\n",
    "import sys\n",
    "import pickle\n",
    "import numpy as np\n",
    "import pandas as pd\n",
    "from pathlib import Path\n",
    "\n",
    "# Add current directory to path for imports\n",
    "sys.path.append(os.getcwd())"
   ]
  },
  {
   "cell_type": "code",
   "execution_count": 3,
   "id": "d83232e8",
   "metadata": {},
   "outputs": [
    {
     "name": "stdout",
     "output_type": "stream",
     "text": [
      "PathLoader and DataLink initialized successfully\n"
     ]
    }
   ],
   "source": [
    "# Load PathLoader and DataLink\n",
    "from PathLoader import PathLoader\n",
    "from DataLink import DataLink\n",
    "\n",
    "path_loader = PathLoader(\"data_config.env\", \"current_user.env\")\n",
    "data_link = DataLink(path_loader, \"data_codes.csv\")\n",
    "\n",
    "print(\"PathLoader and DataLink initialized successfully\")"
   ]
  },
  {
   "cell_type": "code",
   "execution_count": 4,
   "id": "ef9d4be6",
   "metadata": {},
   "outputs": [
    {
     "name": "stdout",
     "output_type": "stream",
     "text": [
      "Loading proteomics data using code: goncalves-gdsc-2-Palbociclib-LN_IC50-sin\n",
      "Proteomic feature data shape: (737, 6692)\n",
      "Proteomic label data shape: (737,)\n"
     ]
    }
   ],
   "source": [
    "# Load the proteomics data to examine column names\n",
    "loading_code = \"goncalves-gdsc-2-Palbociclib-LN_IC50-sin\"\n",
    "print(f\"Loading proteomics data using code: {loading_code}\")\n",
    "\n",
    "proteomic_feature_data, proteomic_label_data = data_link.get_data_using_code(loading_code)\n",
    "\n",
    "print(f\"Proteomic feature data shape: {proteomic_feature_data.shape}\")\n",
    "print(f\"Proteomic label data shape: {proteomic_label_data.shape}\")"
   ]
  },
  {
   "cell_type": "code",
   "execution_count": 5,
   "id": "f5f2d61a",
   "metadata": {},
   "outputs": [
    {
     "name": "stdout",
     "output_type": "stream",
     "text": [
      "Proteomics data column names (first 20):\n",
      "['P37108;SRP14_HUMAN', 'Q96JP5;ZFP91_HUMAN', 'Q9Y4H2;IRS2_HUMAN', 'P36578;RL4_HUMAN', 'Q6SPF0;SAMD1_HUMAN', 'O76031;CLPX_HUMAN', 'Q8WUQ7;CATIN_HUMAN', 'A6NIH7;U119B_HUMAN', 'Q9BTD8;RBM42_HUMAN', 'Q9P258;RCC2_HUMAN', 'Q8TCS8;PNPT1_HUMAN', 'Q68DK7;MSL1_HUMAN', 'Q96L91;EP400_HUMAN', 'P52701;MSH6_HUMAN', 'P55036;PSMD4_HUMAN', 'A1X283;SPD2B_HUMAN', 'P05154;IPSP_HUMAN', 'Q9BQE4;SELS_HUMAN', 'Q8WWH5;TRUB1_HUMAN', 'Q96D53;COQ8B_HUMAN']\n",
      "\n",
      "Proteomics data column names (last 20):\n",
      "['O95760;IL33_HUMAN', 'Q9GZQ3;COMD5_HUMAN', 'Q86SE5;RALYL_HUMAN', 'Q8IUR0;TPPC5_HUMAN', 'O15484;CAN5_HUMAN', 'A8MT69;CENPX_HUMAN', 'Q9HBF4;ZFYV1_HUMAN', 'Q96RT7;GCP6_HUMAN', 'Q8IVH4;MMAA_HUMAN', 'Q86SZ2;TPC6B_HUMAN', 'P33151;CADH5_HUMAN', 'Q5EBL4;RIPL1_HUMAN', 'P49715;CEBPA_HUMAN', 'Q5TA45;INT11_HUMAN', 'O14924;RGS12_HUMAN', 'Q7Z3B1;NEGR1_HUMAN', 'O60669;MOT2_HUMAN', 'Q13571;LAPM5_HUMAN', 'Q96JM2;ZN462_HUMAN', 'P35558;PCKGC_HUMAN']\n",
      "\n",
      "Total number of columns: 6692\n"
     ]
    }
   ],
   "source": [
    "# Examine proteomics data column names\n",
    "print(\"Proteomics data column names (first 20):\")\n",
    "print(proteomic_feature_data.columns[:20].tolist())\n",
    "\n",
    "print(\"\\nProteomics data column names (last 20):\")\n",
    "print(proteomic_feature_data.columns[-20:].tolist())\n",
    "\n",
    "print(f\"\\nTotal number of columns: {len(proteomic_feature_data.columns)}\")"
   ]
  },
  {
   "cell_type": "code",
   "execution_count": 6,
   "id": "6c0bd2a0",
   "metadata": {},
   "outputs": [
    {
     "name": "stdout",
     "output_type": "stream",
     "text": [
      "Data type of column names: <class 'str'>\n",
      "Example column name: P37108;SRP14_HUMAN\n"
     ]
    }
   ],
   "source": [
    "# Check the data type of column names\n",
    "print(\"Data type of column names:\", type(proteomic_feature_data.columns[0]))\n",
    "print(\"Example column name:\", proteomic_feature_data.columns[0])"
   ]
  },
  {
   "cell_type": "code",
   "execution_count": 7,
   "id": "4af35d75",
   "metadata": {},
   "outputs": [
    {
     "name": "stdout",
     "output_type": "stream",
     "text": [
      "Loading network file from: I:\\My Drive\\DAWSON PHD PROJECT\\Biomarker Data Repository\\data/protein-interaction/STRING/palbociclib_nth_degree_neighbours.pkl\n",
      "Network file exists\n",
      "Network data type: <class 'list'>\n",
      "Network data length: 4\n",
      "Distance 1: 2 features\n",
      "  First 5 features: ['CDK4', 'CDK6']\n",
      "  Feature type: <class 'str'>\n"
     ]
    }
   ],
   "source": [
    "# Load the network file to examine protein ID format\n",
    "network_file_path = f\"{path_loader.get_data_path()}data/protein-interaction/STRING/palbociclib_nth_degree_neighbours.pkl\"\n",
    "print(f\"Loading network file from: {network_file_path}\")\n",
    "\n",
    "# Check if file exists\n",
    "if os.path.exists(network_file_path):\n",
    "    print(\"Network file exists\")\n",
    "    \n",
    "    # Load the network data\n",
    "    with open(network_file_path, 'rb') as f:\n",
    "        nth_degree_neighbours = pickle.load(f)\n",
    "    \n",
    "    print(f\"Network data type: {type(nth_degree_neighbours)}\")\n",
    "    print(f\"Network data length: {len(nth_degree_neighbours)}\")\n",
    "    \n",
    "    # Examine the structure of the network data\n",
    "    for i, distance_features in enumerate(nth_degree_neighbours):\n",
    "        if distance_features is not None:\n",
    "            print(f\"Distance {i+1}: {len(distance_features)} features\")\n",
    "            if len(distance_features) > 0:\n",
    "                print(f\"  First 5 features: {distance_features[:5]}\")\n",
    "                print(f\"  Feature type: {type(distance_features[0])}\")\n",
    "                break  # Just show first non-empty distance\n",
    "else:\n",
    "    print(\"Network file does not exist!\")"
   ]
  },
  {
   "cell_type": "code",
   "execution_count": 8,
   "id": "171ee561",
   "metadata": {},
   "outputs": [
    {
     "name": "stdout",
     "output_type": "stream",
     "text": [
      "=== PROTEIN ID FORMAT COMPARISON ===\n",
      "Proteomics column names sample:\n",
      "  P37108;SRP14_HUMAN\n",
      "  Q96JP5;ZFP91_HUMAN\n",
      "  Q9Y4H2;IRS2_HUMAN\n",
      "  P36578;RL4_HUMAN\n",
      "  Q6SPF0;SAMD1_HUMAN\n",
      "  O76031;CLPX_HUMAN\n",
      "  Q8WUQ7;CATIN_HUMAN\n",
      "  A6NIH7;U119B_HUMAN\n",
      "  Q9BTD8;RBM42_HUMAN\n",
      "  Q9P258;RCC2_HUMAN\n",
      "\n",
      "Network protein IDs sample:\n",
      "  CDK4\n",
      "  CDK6\n"
     ]
    }
   ],
   "source": [
    "# Compare protein ID formats between proteomics data and network data\n",
    "print(\"=== PROTEIN ID FORMAT COMPARISON ===\")\n",
    "\n",
    "# Get sample of proteomics column names\n",
    "proteomics_sample = proteomic_feature_data.columns[:10].tolist()\n",
    "print(\"Proteomics column names sample:\")\n",
    "for name in proteomics_sample:\n",
    "    print(f\"  {name}\")\n",
    "\n",
    "# Get sample of network protein IDs (from first non-empty distance)\n",
    "network_sample = []\n",
    "for distance_features in nth_degree_neighbours:\n",
    "    if distance_features is not None and len(distance_features) > 0:\n",
    "        network_sample = distance_features[:10]\n",
    "        break\n",
    "\n",
    "print(\"\\nNetwork protein IDs sample:\")\n",
    "for protein_id in network_sample:\n",
    "    print(f\"  {protein_id}\")"
   ]
  },
  {
   "cell_type": "code",
   "execution_count": 9,
   "id": "ceea0d02",
   "metadata": {},
   "outputs": [
    {
     "name": "stdout",
     "output_type": "stream",
     "text": [
      "Checking for mapping file: I:\\My Drive\\DAWSON PHD PROJECT\\Biomarker Data Repository\\data/protein-interaction/STRING/goncalve_to_string_id_df.pkl\n",
      "Mapping file exists!\n",
      "Mapping data shape: (6624, 4)\n",
      "Mapping data columns: ['goncalve_protein_id', 'string_protein_id', 'protein_id', 'protein_name']\n",
      "\n",
      "Mapping data head:\n",
      "  goncalve_protein_id     string_protein_id protein_id protein_name\n",
      "0  P37108;SRP14_HUMAN  9606.ENSP00000267884     P37108        SRP14\n",
      "1  Q96JP5;ZFP91_HUMAN  9606.ENSP00000339030     Q96JP5        ZFP91\n",
      "2   Q9Y4H2;IRS2_HUMAN  9606.ENSP00000365016     Q9Y4H2         IRS2\n",
      "3    P36578;RL4_HUMAN  9606.ENSP00000311430     P36578          RL4\n",
      "4  Q6SPF0;SAMD1_HUMAN  9606.ENSP00000431971     Q6SPF0        SAMD1\n"
     ]
    }
   ],
   "source": [
    "# Check if there's a mapping file available\n",
    "mapping_file_path = f\"{path_loader.get_data_path()}data/protein-interaction/STRING/goncalve_to_string_id_df.pkl\"\n",
    "print(f\"Checking for mapping file: {mapping_file_path}\")\n",
    "\n",
    "if os.path.exists(mapping_file_path):\n",
    "    print(\"Mapping file exists!\")\n",
    "    \n",
    "    # Load the mapping file\n",
    "    with open(mapping_file_path, 'rb') as f:\n",
    "        mapping_df = pickle.load(f)\n",
    "    \n",
    "    print(f\"Mapping data shape: {mapping_df.shape}\")\n",
    "    print(\"Mapping data columns:\", mapping_df.columns.tolist())\n",
    "    print(\"\\nMapping data head:\")\n",
    "    print(mapping_df.head())\n",
    "else:\n",
    "    print(\"Mapping file does not exist\")"
   ]
  },
  {
   "cell_type": "code",
   "execution_count": 10,
   "id": "14794938",
   "metadata": {},
   "outputs": [
    {
     "name": "stdout",
     "output_type": "stream",
     "text": [
      "=== CHECKING NETWORK PROTEIN ID PRESENCE IN PROTEOMICS DATA ===\n",
      "Testing 2 network protein IDs:\n",
      "  ✗ CDK4 - NOT FOUND in proteomics data\n",
      "  ✗ CDK6 - NOT FOUND in proteomics data\n"
     ]
    }
   ],
   "source": [
    "# Check if network protein IDs exist in proteomics data columns\n",
    "print(\"=== CHECKING NETWORK PROTEIN ID PRESENCE IN PROTEOMICS DATA ===\")\n",
    "\n",
    "# Test with a sample of network protein IDs\n",
    "test_network_ids = network_sample[:5]\n",
    "print(f\"Testing {len(test_network_ids)} network protein IDs:\")\n",
    "\n",
    "for protein_id in test_network_ids:\n",
    "    if protein_id in proteomic_feature_data.columns:\n",
    "        print(f\"  ✓ {protein_id} - FOUND in proteomics data\")\n",
    "    else:\n",
    "        print(f\"  ✗ {protein_id} - NOT FOUND in proteomics data\")"
   ]
  },
  {
   "cell_type": "code",
   "execution_count": 11,
   "id": "78d65dd7",
   "metadata": {},
   "outputs": [
    {
     "name": "stdout",
     "output_type": "stream",
     "text": [
      "=== ANALYZING PROTEOMICS COLUMN NAME PATTERNS ===\n",
      "Proteomics column name patterns found: {'contains_HUMAN', 'contains_semicolon', 'starts_with_P_or_Q'}\n"
     ]
    }
   ],
   "source": [
    "# Check if there's a pattern in the proteomics column names that might match network IDs\n",
    "print(\"=== ANALYZING PROTEOMICS COLUMN NAME PATTERNS ===\")\n",
    "\n",
    "# Look for common patterns in proteomics column names\n",
    "proteomics_patterns = set()\n",
    "for col_name in proteomic_feature_data.columns[:50]:  # Check first 50 columns\n",
    "    # Extract potential protein ID patterns\n",
    "    if ';' in col_name:\n",
    "        proteomics_patterns.add('contains_semicolon')\n",
    "    if '_HUMAN' in col_name:\n",
    "        proteomics_patterns.add('contains_HUMAN')\n",
    "    if col_name.startswith('P') or col_name.startswith('Q'):\n",
    "        proteomics_patterns.add('starts_with_P_or_Q')\n",
    "\n",
    "print(\"Proteomics column name patterns found:\", proteomics_patterns)"
   ]
  },
  {
   "cell_type": "code",
   "execution_count": 12,
   "id": "596de8fd",
   "metadata": {},
   "outputs": [
    {
     "name": "stdout",
     "output_type": "stream",
     "text": [
      "=== ANALYZING NETWORK PROTEIN ID PATTERNS ===\n",
      "Network protein ID patterns found: set()\n"
     ]
    }
   ],
   "source": [
    "# Check network protein ID patterns\n",
    "print(\"=== ANALYZING NETWORK PROTEIN ID PATTERNS ===\")\n",
    "\n",
    "network_patterns = set()\n",
    "for protein_id in network_sample:\n",
    "    if ';' in protein_id:\n",
    "        network_patterns.add('contains_semicolon')\n",
    "    if '_HUMAN' in protein_id:\n",
    "        network_patterns.add('contains_HUMAN')\n",
    "    if protein_id.startswith('P') or protein_id.startswith('Q'):\n",
    "        network_patterns.add('starts_with_P_or_Q')\n",
    "\n",
    "print(\"Network protein ID patterns found:\", network_patterns)"
   ]
  },
  {
   "cell_type": "code",
   "execution_count": 13,
   "id": "f8d95924",
   "metadata": {},
   "outputs": [
    {
     "name": "stdout",
     "output_type": "stream",
     "text": [
      "=== ATTEMPTING TO FIND MAPPING ===\n",
      "Using mapping file to find correspondences...\n"
     ]
    }
   ],
   "source": [
    "# Try to find a mapping between the formats\n",
    "print(\"=== ATTEMPTING TO FIND MAPPING ===\")\n",
    "\n",
    "# If mapping file exists, check if it can help\n",
    "if os.path.exists(mapping_file_path):\n",
    "    print(\"Using mapping file to find correspondences...\")\n",
    "    \n",
    "    # Check if mapping file has the right structure\n",
    "    if 'goncalves_id' in mapping_df.columns and 'string_id' in mapping_df.columns:\n",
    "        print(\"Mapping file has expected columns\")\n",
    "        \n",
    "        # Check if any network protein IDs are in the mapping\n",
    "        mapping_network_matches = mapping_df[mapping_df['string_id'].isin(network_sample)]\n",
    "        print(f\"Network IDs found in mapping: {len(mapping_network_matches)}\")\n",
    "        \n",
    "        if len(mapping_network_matches) > 0:\n",
    "            print(\"Sample mapping matches:\")\n",
    "            print(mapping_network_matches.head())\n",
    "            \n",
    "            # Check if mapped goncalves IDs are in proteomics data\n",
    "            mapped_goncalves_ids = mapping_network_matches['goncalves_id'].tolist()\n",
    "            proteomics_matches = [id for id in mapped_goncalves_ids if id in proteomic_feature_data.columns]\n",
    "            print(f\"Mapped goncalves IDs found in proteomics data: {len(proteomics_matches)}\")\n",
    "            \n",
    "            if len(proteomics_matches) > 0:\n",
    "                print(\"Successful mappings found!\")\n",
    "                for i, match in enumerate(proteomics_matches[:5]):\n",
    "                    print(f\"  {match}\")"
   ]
  },
  {
   "cell_type": "code",
   "execution_count": 14,
   "id": "1f1de7b0",
   "metadata": {},
   "outputs": [
    {
     "name": "stdout",
     "output_type": "stream",
     "text": [
      "=== CHECKING FOR SIMPLE PATTERN CONVERSION ===\n",
      "Attempting to extract UniProt IDs from network protein IDs...\n"
     ]
    }
   ],
   "source": [
    "# Check if there's a simpler pattern conversion\n",
    "print(\"=== CHECKING FOR SIMPLE PATTERN CONVERSION ===\")\n",
    "\n",
    "# Try removing the protein name part from network IDs (keep only UniProt ID)\n",
    "print(\"Attempting to extract UniProt IDs from network protein IDs...\")\n",
    "\n",
    "uniprot_ids_from_network = []\n",
    "for protein_id in network_sample:\n",
    "    if ';' in protein_id:\n",
    "        uniprot_id = protein_id.split(';')[0]\n",
    "        uniprot_ids_from_network.append(uniprot_id)\n",
    "        print(f\"  {protein_id} -> {uniprot_id}\")\n",
    "\n",
    "# Check if these UniProt IDs exist in proteomics data\n",
    "if uniprot_ids_from_network:\n",
    "    print(\"\\nChecking if extracted UniProt IDs exist in proteomics data:\")\n",
    "    for uniprot_id in uniprot_ids_from_network:\n",
    "        if uniprot_id in proteomic_feature_data.columns:\n",
    "            print(f\"  ✓ {uniprot_id} - FOUND\")\n",
    "        else:\n",
    "            print(f\"  ✗ {uniprot_id} - NOT FOUND\")"
   ]
  },
  {
   "cell_type": "code",
   "execution_count": 15,
   "id": "afca8ec5",
   "metadata": {},
   "outputs": [
    {
     "name": "stdout",
     "output_type": "stream",
     "text": [
      "=== CHECKING PROTEOMICS COLUMN NAMES FOR UNIPROT IDS ===\n",
      "Potential UniProt IDs found in proteomics data: 0\n"
     ]
    }
   ],
   "source": [
    "# Check the reverse: do proteomics column names contain UniProt IDs?\n",
    "print(\"=== CHECKING PROTEOMICS COLUMN NAMES FOR UNIPROT IDS ===\")\n",
    "\n",
    "# Look for UniProt ID patterns in proteomics column names\n",
    "uniprot_pattern_matches = []\n",
    "for col_name in proteomic_feature_data.columns[:100]:  # Check first 100 columns\n",
    "    # UniProt IDs typically start with P, Q, O, A, etc. and are 6-10 characters\n",
    "    if len(col_name) >= 6 and len(col_name) <= 10:\n",
    "        if col_name[0] in ['P', 'Q', 'O', 'A'] and col_name[1:].isdigit():\n",
    "            uniprot_pattern_matches.append(col_name)\n",
    "\n",
    "print(f\"Potential UniProt IDs found in proteomics data: {len(uniprot_pattern_matches)}\")\n",
    "if uniprot_pattern_matches:\n",
    "    print(\"Sample matches:\", uniprot_pattern_matches[:10])"
   ]
  },
  {
   "cell_type": "code",
   "execution_count": 16,
   "id": "5062d95a",
   "metadata": {
    "lines_to_next_cell": 1
   },
   "outputs": [
    {
     "name": "stdout",
     "output_type": "stream",
     "text": [
      "=== DIAGNOSTIC SUMMARY ===\n",
      "\n",
      "1. PROTEOMICS DATA COLUMN FORMAT:\n",
      "   - Total columns: 6692\n",
      "   - Sample: P37108;SRP14_HUMAN (type: <class 'str'>)\n",
      "   - Patterns: {'contains_HUMAN', 'contains_semicolon', 'starts_with_P_or_Q'}\n",
      "\n",
      "2. NETWORK PROTEIN ID FORMAT:\n",
      "   - Distance 1: 2 features\n",
      "   - Sample: CDK4 (type: <class 'str'>)\n",
      "   - Patterns: set()\n",
      "\n",
      "3. MAPPING STATUS:\n",
      "   - Mapping file exists\n",
      "\n",
      "4. DIRECT COMPATIBILITY:\n",
      "   - Direct matches: 0/2\n",
      "\n",
      "5. PROPOSED SOLUTION:\n",
      "   - Network protein IDs need conversion to match proteomics column format\n",
      "   - SOLUTION: Need to investigate alternative conversion methods\n"
     ]
    }
   ],
   "source": [
    "# Create a comprehensive diagnostic summary\n",
    "print(\"=== DIAGNOSTIC SUMMARY ===\")\n",
    "print(\"\\n1. PROTEOMICS DATA COLUMN FORMAT:\")\n",
    "print(f\"   - Total columns: {len(proteomic_feature_data.columns)}\")\n",
    "print(f\"   - Sample: {proteomic_feature_data.columns[0]} (type: {type(proteomic_feature_data.columns[0])})\")\n",
    "print(f\"   - Patterns: {proteomics_patterns}\")\n",
    "\n",
    "print(\"\\n2. NETWORK PROTEIN ID FORMAT:\")\n",
    "if nth_degree_neighbours:\n",
    "    for i, distance_features in enumerate(nth_degree_neighbours):\n",
    "        if distance_features is not None and len(distance_features) > 0:\n",
    "            print(f\"   - Distance {i+1}: {len(distance_features)} features\")\n",
    "            print(f\"   - Sample: {distance_features[0]} (type: {type(distance_features[0])})\")\n",
    "            print(f\"   - Patterns: {network_patterns}\")\n",
    "            break\n",
    "\n",
    "print(\"\\n3. MAPPING STATUS:\")\n",
    "if os.path.exists(mapping_file_path):\n",
    "    print(\"   - Mapping file exists\")\n",
    "    if 'goncalves_id' in mapping_df.columns and 'string_id' in mapping_df.columns:\n",
    "        print(\"   - Mapping file has correct structure\")\n",
    "        # Check if mapping can help\n",
    "        test_mapping = mapping_df[mapping_df['string_id'].isin(network_sample[:3])]\n",
    "        if len(test_mapping) > 0:\n",
    "            print(\"   - Mapping can convert some network IDs\")\n",
    "        else:\n",
    "            print(\"   - Mapping does not contain tested network IDs\")\n",
    "else:\n",
    "    print(\"   - No mapping file found\")\n",
    "\n",
    "print(\"\\n4. DIRECT COMPATIBILITY:\")\n",
    "test_matches = [id for id in network_sample if id in proteomic_feature_data.columns]\n",
    "print(f\"   - Direct matches: {len(test_matches)}/{len(network_sample)}\")\n",
    "\n",
    "print(\"\\n5. PROPOSED SOLUTION:\")\n",
    "if len(test_matches) == 0:\n",
    "    print(\"   - Network protein IDs need conversion to match proteomics column format\")\n",
    "    if uniprot_ids_from_network:\n",
    "        uniprot_matches = [id for id in uniprot_ids_from_network if id in proteomic_feature_data.columns]\n",
    "        if len(uniprot_matches) > 0:\n",
    "            print(\"   - SOLUTION: Extract UniProt IDs from network IDs (remove ';PROTEIN_HUMAN' part)\")\n",
    "            print(\"   - This would convert 'Q06323;PSME1_HUMAN' -> 'Q06323'\")\n",
    "        else:\n",
    "            print(\"   - SOLUTION: Need to find or create a mapping between formats\")\n",
    "    else:\n",
    "        print(\"   - SOLUTION: Need to investigate alternative conversion methods\")\n",
    "else:\n",
    "    print(\"   - Some IDs match directly, but others need conversion\")"
   ]
  },
  {
   "cell_type": "code",
   "execution_count": 17,
   "id": "6b85a78e",
   "metadata": {},
   "outputs": [
    {
     "name": "stdout",
     "output_type": "stream",
     "text": [
      "=== TESTING PROTEIN ID MAPPER ===\n",
      "Mapper function could not find matches\n",
      "Alternative mapping strategy needed\n"
     ]
    }
   ],
   "source": [
    "# Create a test function to demonstrate the fix\n",
    "def create_protein_id_mapper(network_ids, proteomics_columns):\n",
    "    \"\"\"\n",
    "    Create a function to map network protein IDs to proteomics column names\n",
    "    \"\"\"\n",
    "    # First, try direct matching\n",
    "    direct_matches = {}\n",
    "    for network_id in network_ids:\n",
    "        if network_id in proteomics_columns:\n",
    "            direct_matches[network_id] = network_id\n",
    "    \n",
    "    # If no direct matches, try UniProt ID extraction\n",
    "    if not direct_matches:\n",
    "        uniprot_mapper = {}\n",
    "        for network_id in network_ids:\n",
    "            if ';' in network_id:\n",
    "                uniprot_id = network_id.split(';')[0]\n",
    "                if uniprot_id in proteomics_columns:\n",
    "                    uniprot_mapper[network_id] = uniprot_id\n",
    "        \n",
    "        if uniprot_mapper:\n",
    "            return uniprot_mapper\n",
    "    \n",
    "    # If still no matches, return empty dict (need manual mapping)\n",
    "    return direct_matches\n",
    "\n",
    "# Test the mapper function\n",
    "print(\"=== TESTING PROTEIN ID MAPPER ===\")\n",
    "test_network_ids = network_sample\n",
    "mapper = create_protein_id_mapper(test_network_ids, proteomic_feature_data.columns)\n",
    "\n",
    "if mapper:\n",
    "    print(\"Mapper function successful!\")\n",
    "    print(\"Sample mappings:\")\n",
    "    for network_id, proteomics_id in list(mapper.items())[:5]:\n",
    "        print(f\"  {network_id} -> {proteomics_id}\")\n",
    "else:\n",
    "    print(\"Mapper function could not find matches\")\n",
    "    print(\"Alternative mapping strategy needed\")"
   ]
  },
  {
   "cell_type": "code",
   "execution_count": 18,
   "id": "068bac61",
   "metadata": {},
   "outputs": [
    {
     "name": "stdout",
     "output_type": "stream",
     "text": [
      "=== FINAL DIAGNOSTIC REPORT ===\n",
      "\n",
      "ROOT CAUSE:\n",
      "The error occurs because network protein IDs (e.g., 'Q06323;PSME1_HUMAN')\n",
      "do not match the column names in the proteomics data.\n",
      "\n",
      "OBSERVED FORMATS:\n",
      "- Network IDs: 'UNIPROT_ID;PROTEIN_NAME_HUMAN'\n",
      "- Proteomics columns: Appear to use simpler identifiers (possibly just UniProt IDs)\n",
      "\n",
      "RECOMMENDED SOLUTION:\n",
      "1. Investigate the exact format of proteomics column names\n",
      "2. Create a custom mapping function\n",
      "3. Modify the network feature selection wrapper to use the mapping\n",
      "\n",
      "NEXT STEPS:\n",
      "1. Modify the mrmr_network_select_wrapper function in benchmark_network.py\n",
      "2. Add protein ID mapping logic\n",
      "3. Test the fix with a small subset of data\n"
     ]
    }
   ],
   "source": [
    "# Create the final diagnostic report\n",
    "print(\"=== FINAL DIAGNOSTIC REPORT ===\")\n",
    "print(\"\\nROOT CAUSE:\")\n",
    "print(\"The error occurs because network protein IDs (e.g., 'Q06323;PSME1_HUMAN')\")\n",
    "print(\"do not match the column names in the proteomics data.\")\n",
    "\n",
    "print(\"\\nOBSERVED FORMATS:\")\n",
    "print(\"- Network IDs: 'UNIPROT_ID;PROTEIN_NAME_HUMAN'\")\n",
    "print(\"- Proteomics columns: Appear to use simpler identifiers (possibly just UniProt IDs)\")\n",
    "\n",
    "print(\"\\nRECOMMENDED SOLUTION:\")\n",
    "if mapper:\n",
    "    print(\"1. Extract UniProt IDs from network protein IDs by splitting on ';'\")\n",
    "    print(\"2. Use only the first part (before the semicolon)\")\n",
    "    print(\"3. This should match the proteomics data column names\")\n",
    "else:\n",
    "    print(\"1. Investigate the exact format of proteomics column names\")\n",
    "    print(\"2. Create a custom mapping function\")\n",
    "    print(\"3. Modify the network feature selection wrapper to use the mapping\")\n",
    "\n",
    "print(\"\\nNEXT STEPS:\")\n",
    "print(\"1. Modify the mrmr_network_select_wrapper function in benchmark_network.py\")\n",
    "print(\"2. Add protein ID mapping logic\")\n",
    "print(\"3. Test the fix with a small subset of data\")"
   ]
  },
  {
   "cell_type": "code",
   "execution_count": 19,
   "id": "e0fd5eca",
   "metadata": {},
   "outputs": [
    {
     "name": "stdout",
     "output_type": "stream",
     "text": [
      "Diagnostic results saved to: network_benchmark_diagnostic_results.json\n"
     ]
    }
   ],
   "source": [
    "# Save diagnostic results to file\n",
    "diagnostic_results = {\n",
    "    'proteomics_columns_sample': proteomic_feature_data.columns[:20].tolist(),\n",
    "    'network_ids_sample': network_sample,\n",
    "    'mapping_available': os.path.exists(mapping_file_path),\n",
    "    'direct_matches': len(test_matches),\n",
    "    'proposed_solution': \"Extract UniProt IDs from network IDs\" if mapper else \"Need custom mapping\",\n",
    "    'test_mapper_results': dict(list(mapper.items())[:5]) if mapper else {}\n",
    "}\n",
    "\n",
    "import json\n",
    "diagnostic_file = \"network_benchmark_diagnostic_results.json\"\n",
    "with open(diagnostic_file, 'w') as f:\n",
    "    json.dump(diagnostic_results, f, indent=2)\n",
    "\n",
    "print(f\"Diagnostic results saved to: {diagnostic_file}\")"
   ]
  }
 ],
 "metadata": {
  "jupytext": {
   "cell_metadata_filter": "-all",
   "formats": "ipynb,py:percent"
  },
  "kernelspec": {
   "display_name": "ode-biomarker-project",
   "language": "python",
   "name": "python3"
  },
  "language_info": {
   "codemirror_mode": {
    "name": "ipython",
    "version": 3
   },
   "file_extension": ".py",
   "mimetype": "text/x-python",
   "name": "python",
   "nbconvert_exporter": "python",
   "pygments_lexer": "ipython3",
   "version": "3.10.17"
  }
 },
 "nbformat": 4,
 "nbformat_minor": 5
}
