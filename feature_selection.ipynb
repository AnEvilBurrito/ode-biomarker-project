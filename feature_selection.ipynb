{
 "cells": [
  {
   "attachments": {},
   "cell_type": "markdown",
   "metadata": {},
   "source": [
    "# Feature Selection"
   ]
  },
  {
   "attachments": {},
   "cell_type": "markdown",
   "metadata": {},
   "source": [
    "### DO not run"
   ]
  },
  {
   "cell_type": "code",
   "execution_count": 1,
   "metadata": {},
   "outputs": [
    {
     "name": "stdout",
     "output_type": "stream",
     "text": [
      "Features Count: 10, Time Taken: 0.4727134704589844, Sample Size: 1000, Feature Size: 100\n",
      "Features Count: 11, Time Taken: 0.5499444007873535, Sample Size: 1000, Feature Size: 100\n",
      "Features Count: 12, Time Taken: 0.6427302360534668, Sample Size: 1000, Feature Size: 100\n",
      "Features Count: 13, Time Taken: 0.739145040512085, Sample Size: 1000, Feature Size: 100\n",
      "Features Count: 14, Time Taken: 0.8765039443969727, Sample Size: 1000, Feature Size: 100\n",
      "Features Count: 15, Time Taken: 0.9761753082275391, Sample Size: 1000, Feature Size: 100\n",
      "Features Count: 16, Time Taken: 1.0809528827667236, Sample Size: 1000, Feature Size: 100\n",
      "Features Count: 17, Time Taken: 1.222367763519287, Sample Size: 1000, Feature Size: 100\n",
      "Features Count: 18, Time Taken: 1.329857349395752, Sample Size: 1000, Feature Size: 100\n",
      "Features Count: 19, Time Taken: 1.4787063598632812, Sample Size: 1000, Feature Size: 100\n",
      "Features Count: 20, Time Taken: 1.6409060955047607, Sample Size: 1000, Feature Size: 100\n",
      "Features Count: 21, Time Taken: 1.7600865364074707, Sample Size: 1000, Feature Size: 100\n",
      "Features Count: 22, Time Taken: 1.9147262573242188, Sample Size: 1000, Feature Size: 100\n",
      "Features Count: 23, Time Taken: 2.092534303665161, Sample Size: 1000, Feature Size: 100\n",
      "Features Count: 24, Time Taken: 2.2202773094177246, Sample Size: 1000, Feature Size: 100\n",
      "Features Count: 25, Time Taken: 2.3896090984344482, Sample Size: 1000, Feature Size: 100\n",
      "Features Count: 26, Time Taken: 2.562408208847046, Sample Size: 1000, Feature Size: 100\n",
      "Features Count: 27, Time Taken: 2.743692636489868, Sample Size: 1000, Feature Size: 100\n",
      "Features Count: 28, Time Taken: 2.8988447189331055, Sample Size: 1000, Feature Size: 100\n",
      "Features Count: 29, Time Taken: 3.052229404449463, Sample Size: 1000, Feature Size: 100\n",
      "Features Count: 30, Time Taken: 3.3357574939727783, Sample Size: 1000, Feature Size: 100\n",
      "Features Count: 31, Time Taken: 3.458597421646118, Sample Size: 1000, Feature Size: 100\n",
      "Features Count: 32, Time Taken: 3.66636323928833, Sample Size: 1000, Feature Size: 100\n",
      "Features Count: 33, Time Taken: 3.807196855545044, Sample Size: 1000, Feature Size: 100\n",
      "Features Count: 34, Time Taken: 4.113800287246704, Sample Size: 1000, Feature Size: 100\n",
      "Features Count: 35, Time Taken: 4.206179857254028, Sample Size: 1000, Feature Size: 100\n",
      "Features Count: 36, Time Taken: 4.432487726211548, Sample Size: 1000, Feature Size: 100\n",
      "Features Count: 37, Time Taken: 4.667004346847534, Sample Size: 1000, Feature Size: 100\n",
      "Features Count: 38, Time Taken: 4.857377290725708, Sample Size: 1000, Feature Size: 100\n",
      "Features Count: 39, Time Taken: 5.154555797576904, Sample Size: 1000, Feature Size: 100\n",
      "Features Count: 40, Time Taken: 5.279422998428345, Sample Size: 1000, Feature Size: 100\n",
      "Features Count: 41, Time Taken: 5.57293963432312, Sample Size: 1000, Feature Size: 100\n",
      "Features Count: 42, Time Taken: 5.697861671447754, Sample Size: 1000, Feature Size: 100\n",
      "Features Count: 43, Time Taken: 5.990844488143921, Sample Size: 1000, Feature Size: 100\n",
      "Features Count: 44, Time Taken: 6.143326044082642, Sample Size: 1000, Feature Size: 100\n",
      "Features Count: 45, Time Taken: 6.386937856674194, Sample Size: 1000, Feature Size: 100\n",
      "Features Count: 46, Time Taken: 6.590898275375366, Sample Size: 1000, Feature Size: 100\n",
      "Features Count: 47, Time Taken: 6.754346132278442, Sample Size: 1000, Feature Size: 100\n",
      "Features Count: 48, Time Taken: 7.06687593460083, Sample Size: 1000, Feature Size: 100\n",
      "Features Count: 49, Time Taken: 7.230886459350586, Sample Size: 1000, Feature Size: 100\n"
     ]
    },
    {
     "data": {
      "text/plain": [
       "[<matplotlib.lines.Line2D at 0x23734384400>]"
      ]
     },
     "execution_count": 1,
     "metadata": {},
     "output_type": "execute_result"
    },
    {
     "data": {
      "image/png": "[encoded data removed]",
      "text/plain": [
       "<Figure size 640x480 with 1 Axes>"
      ]
     },
     "metadata": {},
     "output_type": "display_data"
    }
   ],
   "source": [
    "import time \n",
    "\n",
    "# generate data using sklearn \n",
    "\n",
    "from sklearn.datasets import make_classification\n",
    "import pandas as pd\n",
    "import pymrmr \n",
    "\n",
    "n_samples = 1000\n",
    "n_features = 100\n",
    "n_informative = int(n_features * 0.15)\n",
    "n_redundant = int(n_features * 0.5)\n",
    "n_repeated = int(n_features * 0.1)\n",
    "mrmr_features = 10 \n",
    "\n",
    "X, y = make_classification(n_samples=n_samples, \n",
    "                           n_features=n_features, \n",
    "                           n_informative=n_informative, \n",
    "                           n_redundant=n_redundant, \n",
    "                           n_repeated=n_repeated, \n",
    "                           n_classes=2, n_clusters_per_class=2, weights=None, flip_y=0.01, class_sep=1.0, hypercube=True, shift=0.0, scale=1.0, shuffle=True, random_state=None)\n",
    "\n",
    "df = pd.DataFrame(X)\n",
    "# convert all the columns of X into string type\n",
    "df.columns = df.columns.astype(str)\n",
    "\n",
    "def measure_time(X, mrmr_features):\n",
    "    start_time = time.time()\n",
    "    mrmr_features = pymrmr.mRMR(df, 'MIQ', mrmr_features)\n",
    "    end_time = time.time()\n",
    "    return end_time - start_time\n",
    "\n",
    "# print the time taken to select the top 100 features using MRMR\n",
    "\n",
    "# print(f'Time taken to select the top {mrmr_features} features using MRMR: ', measure_time(X, mrmr_features))\n",
    "\n",
    "time_taken = []\n",
    "\n",
    "i = 10 \n",
    "max_sel = int(n_features/2) if int(n_features/2) else 100\n",
    "while i < max_sel:\n",
    "    t = measure_time(X, i)\n",
    "    time_taken.append(t)\n",
    "    print(f'Features Count: {i}, Time Taken: {t}, Sample Size: {n_samples}, Feature Size: {n_features}')\n",
    "    i += 1 \n",
    "\n",
    "import matplotlib.pyplot as plt \n",
    "\n",
    "plt.plot(time_taken)\n"
   ]
  },
  {
   "cell_type": "code",
   "execution_count": 6,
   "metadata": {},
   "outputs": [
    {
     "name": "stdout",
     "output_type": "stream",
     "text": [
      "Number of features with a variance greater than 0:  18992\n",
      "Features with a variance greater than 0:  Index(['TSPAN6', 'TNMD', 'DPM1', 'SCYL3', 'C1orf112', 'FGR', 'CFH', 'FUCA2',\n",
      "       'GCLC', 'NFYA',\n",
      "       ...\n",
      "       'H3C2', 'H3C3', 'AC098582.1', 'DUS4L-BCAP29', 'C8orf44-SGK3', 'ELOA3B',\n",
      "       'NPBWR1', 'ELOA3D', 'ELOA3', 'CDR1'],\n",
      "      dtype='object', length=18992)\n"
     ]
    }
   ],
   "source": [
    "# create a VarianceThreshold object\n",
    "\n",
    "varSel = VarianceThreshold(threshold=0)\n",
    "\n",
    "# fit the VarianceThreshold object to the feature data\n",
    "\n",
    "varSel.fit(features_np)\n",
    "\n",
    "# print the number of features that have a variance greater than 0\n",
    "\n",
    "print('Number of features with a variance greater than 0: ', varSel.get_support().sum())\n",
    "\n",
    "# print the names of the features that have a variance greater than 0\n",
    "\n",
    "print('Features with a variance greater than 0: ', col_index[varSel.get_support()])"
   ]
  },
  {
   "cell_type": "code",
   "execution_count": 7,
   "metadata": {},
   "outputs": [],
   "source": [
    "# Use MRMR and RFE to select features for the ribociclib dataset "
   ]
  },
  {
   "cell_type": "code",
   "execution_count": 6,
   "metadata": {},
   "outputs": [],
   "source": [
    "import pymrmr \n",
    "# generate data using sklearn \n",
    "\n",
    "from sklearn.datasets import make_classification\n",
    "import pandas as pd\n",
    "\n",
    "# generate a random dataset\n",
    "\n",
    "X, y = make_classification(n_samples=1000, n_features=1000, n_informative=150, n_redundant=500, n_repeated=0, n_classes=2, n_clusters_per_class=2, weights=None, flip_y=0.01, class_sep=1.0, hypercube=True, shift=0.0, scale=1.0, shuffle=True, random_state=None)\n",
    "\n",
    "# print the shape of the feature data\n",
    "\n",
    "print(X.shape, y.shape)\n",
    "\n",
    "# convert X into pandas dataframe\n",
    "\n",
    "df = pd.DataFrame(X)\n",
    "\n",
    "# convert all the columns of X into string type\n",
    "\n",
    "df.columns = df.columns.astype(str)\n",
    "mrmr_fn = 100 \n",
    "\n",
    "# use MRMR to select the top 100 features\n",
    "\n",
    "mrmr_features = pymrmr.mRMR(df, 'MIQ', mrmr_fn)\n",
    "\n",
    "# print the selected features\n",
    "\n",
    "print(mrmr_features)"
   ]
  },
  {
   "cell_type": "code",
   "execution_count": 12,
   "metadata": {},
   "outputs": [
    {
     "name": "stdout",
     "output_type": "stream",
     "text": [
      "Features Count: 10, Time Taken: 0.0469965934753418, Feature Size: 20\n",
      "Features Count: 10, Time Taken: 0.14049172401428223, Feature Size: 40\n",
      "Features Count: 10, Time Taken: 0.36102771759033203, Feature Size: 80\n",
      "Features Count: 10, Time Taken: 0.8814668655395508, Feature Size: 160\n",
      "Features Count: 10, Time Taken: 2.2891926765441895, Feature Size: 320\n",
      "Features Count: 10, Time Taken: 7.556275129318237, Feature Size: 640\n",
      "Features Count: 10, Time Taken: 60.10821747779846, Feature Size: 1280\n"
     ]
    }
   ],
   "source": [
    "import time \n",
    "\n",
    "# generate data using sklearn \n",
    "\n",
    "from sklearn.datasets import make_classification\n",
    "import pandas as pd\n",
    "import pymrmr \n",
    "\n",
    "\n",
    "def measure_time(mrmr_features, n_features):\n",
    "    n_samples = 1000\n",
    "    n_informative = int(n_features * 0.15)\n",
    "    n_redundant = int(n_features * 0.5)\n",
    "    n_repeated = int(n_features * 0.1)\n",
    "    mrmr_features = 10 \n",
    "\n",
    "    X, y = make_classification(n_samples=n_samples, \n",
    "                            n_features=n_features, \n",
    "                            n_informative=n_informative, \n",
    "                            n_redundant=n_redundant, \n",
    "                            n_repeated=n_repeated, \n",
    "                            n_classes=2, n_clusters_per_class=2, weights=None, flip_y=0.01, class_sep=1.0, hypercube=True, shift=0.0, scale=1.0, shuffle=True, random_state=None)\n",
    "    df = pd.DataFrame(X)\n",
    "    # convert all the columns of X into string type\n",
    "    df.columns = df.columns.astype(str)\n",
    "    start_time = time.time()\n",
    "    mrmr_features = pymrmr.mRMR(df, 'MIQ', mrmr_features)\n",
    "    end_time = time.time()\n",
    "    return end_time - start_time\n",
    "\n",
    "# print the time taken to select the top 100 features using MRMR\n",
    "\n",
    "# print(f'Time taken to select the top {mrmr_features} features using MRMR: ', measure_time(X, mrmr_features))\n",
    "\n",
    "time_taken = []\n",
    "\n",
    "i = 20\n",
    "max_sel = 2000\n",
    "while i < max_sel:\n",
    "    t = measure_time(10, i)\n",
    "    time_taken.append(t)\n",
    "    print(f'Features Count: 10, Time Taken: {t}, Feature Size: {i}')\n",
    "    i = i * 2\n",
    "\n",
    "\n"
   ]
  },
  {
   "cell_type": "code",
   "execution_count": 8,
   "metadata": {},
   "outputs": [],
   "source": [
    "# Use MRMR to select the top 10 features\n",
    "\n",
    "mrmr_feature_number = 10\n",
    "\n",
    "mrmr_features = pymrmr.mRMR(feature_data, 'MIQ', mrmr_feature_number)\n",
    "\n",
    "# print the names of the features selected by MRMR\n",
    "\n",
    "print('Features selected by MRMR: ', mrmr_features)"
   ]
  },
  {
   "cell_type": "code",
   "execution_count": 14,
   "metadata": {},
   "outputs": [
    {
     "data": {
      "text/plain": [
       "[<matplotlib.lines.Line2D at 0x2213d78d580>]"
      ]
     },
     "execution_count": 14,
     "metadata": {},
     "output_type": "execute_result"
    },
    {
     "data": {
      "image/png": "[encoded data removed]",
      "text/plain": [
       "<Figure size 640x480 with 1 Axes>"
      ]
     },
     "metadata": {},
     "output_type": "display_data"
    }
   ],
   "source": [
    "import matplotlib.pyplot as plt \n",
    "\n",
    "plt.title('Feature Count vs Time for PyMRMR Performance (Selecting 10 features)')\n",
    "plt.xlabel('Feature Size')\n",
    "plt.ylabel('Time (seconds)')\n",
    "plt.plot([20,40,80,160,320,640,1280], time_taken)\n"
   ]
  },
  {
   "cell_type": "code",
   "execution_count": 24,
   "metadata": {},
   "outputs": [],
   "source": [
    "# using both MRMR and RFE to select features \n",
    "\n",
    "import pymrmr \n",
    "from sklearn.feature_selection import RFECV\n",
    "from sklearn.svm import LinearSVR\n",
    "\n",
    "# Use MRMR to select the top 100 features\n",
    "\n",
    "mrmr_feature_number = 100\n",
    "\n",
    "mrmr_features = pymrmr.mRMR(feature_data, 'MIQ', mrmr_feature_number)\n",
    "\n",
    "mrmr_selected_feature_data = feature_data[mrmr_features]\n",
    "\n",
    "print(mrmr_selected_feature_data.shape)\n",
    "\n",
    "# Use RFE to select the top 10 features from MRMR features\n",
    "\n",
    "rfe_feature_number = 10\n",
    "\n",
    "rfe_estimator = LinearSVR()\n",
    "\n",
    "rfe_selector = RFECV(rfe_estimator, n_features_to_select=rfe_feature_number, step=1, verbose=1, cv=5)\n",
    "\n",
    "rfe_selector = rfe_selector.fit(mrmr_selected_feature_data, labels_np)\n",
    "\n",
    "# print the names of the features selected by RFE\n",
    "\n",
    "print('Features selected by RFE: ', feature_data[rfe_selector.support_])\n",
    "\n",
    "# refine the feature data using the features selected by MRMR and RFE\n",
    "\n",
    "rfe_features = feature_data[rfe_selector.support_]"
   ]
  },
  {
   "cell_type": "code",
   "execution_count": 10,
   "metadata": {},
   "outputs": [],
   "source": [
    "# refine the feature data using the features selected by MRMR and RFE\n",
    "\n",
    "rfe_features = col_index[rfe_selector.support_]\n",
    "\n",
    "# print(rfe_features)\n",
    "\n",
    "# print(feature_data.shape)\n",
    "\n",
    "selected_feature_data = feature_data[rfe_features]"
   ]
  },
  {
   "cell_type": "code",
   "execution_count": 19,
   "metadata": {},
   "outputs": [
    {
     "name": "stdout",
     "output_type": "stream",
     "text": [
      "Fitting estimator with 19221 features.\n",
      "Fitting estimator with 19220 features.\n",
      "Fitting estimator with 19219 features.\n",
      "Fitting estimator with 19218 features.\n",
      "Fitting estimator with 19217 features.\n",
      "Fitting estimator with 19216 features.\n",
      "Fitting estimator with 19215 features.\n",
      "Fitting estimator with 19214 features.\n",
      "Fitting estimator with 19213 features.\n",
      "Fitting estimator with 19212 features.\n",
      "Fitting estimator with 19211 features.\n",
      "Fitting estimator with 19210 features.\n"
     ]
    },
    {
     "ename": "KeyboardInterrupt",
     "evalue": "",
     "output_type": "error",
     "traceback": [
      "\u001b[1;31m---------------------------------------------------------------------------\u001b[0m",
      "\u001b[1;31mKeyboardInterrupt\u001b[0m                         Traceback (most recent call last)",
      "Cell \u001b[1;32mIn [19], line 16\u001b[0m\n\u001b[0;32m     12\u001b[0m rfe_estimator\u001b[39m.\u001b[39mfit(features_np, labels_np)\n\u001b[0;32m     14\u001b[0m rfe_selector \u001b[39m=\u001b[39m RFE(rfe_estimator, n_features_to_select\u001b[39m=\u001b[39mrfe_feature_number, step\u001b[39m=\u001b[39m\u001b[39m1\u001b[39m, verbose\u001b[39m=\u001b[39m\u001b[39m3\u001b[39m)\n\u001b[1;32m---> 16\u001b[0m rfe_selector \u001b[39m=\u001b[39m rfe_selector\u001b[39m.\u001b[39mfit(features_np, labels_np)\n\u001b[0;32m     18\u001b[0m \u001b[39m# print the names of the features selected by RFE\u001b[39;00m\n\u001b[0;32m     20\u001b[0m \u001b[39mprint\u001b[39m(\u001b[39m'\u001b[39m\u001b[39mFeatures selected by RFE: \u001b[39m\u001b[39m'\u001b[39m, col_index[rfe_selector\u001b[39m.\u001b[39msupport_])\n",
      "File \u001b[1;32mc:\\Github\\ode-biomarker-project\\dynamic-marker\\lib\\site-packages\\sklearn\\feature_selection\\_rfe.py:235\u001b[0m, in \u001b[0;36mRFE.fit\u001b[1;34m(self, X, y, **fit_params)\u001b[0m\n\u001b[0;32m    215\u001b[0m \u001b[39mdef\u001b[39;00m \u001b[39mfit\u001b[39m(\u001b[39mself\u001b[39m, X, y, \u001b[39m*\u001b[39m\u001b[39m*\u001b[39mfit_params):\n\u001b[0;32m    216\u001b[0m     \u001b[39m\"\"\"Fit the RFE model and then the underlying estimator on the selected features.\u001b[39;00m\n\u001b[0;32m    217\u001b[0m \n\u001b[0;32m    218\u001b[0m \u001b[39m    Parameters\u001b[39;00m\n\u001b[1;32m   (...)\u001b[0m\n\u001b[0;32m    233\u001b[0m \u001b[39m        Fitted estimator.\u001b[39;00m\n\u001b[0;32m    234\u001b[0m \u001b[39m    \"\"\"\u001b[39;00m\n\u001b[1;32m--> 235\u001b[0m     \u001b[39mreturn\u001b[39;00m \u001b[39mself\u001b[39;49m\u001b[39m.\u001b[39;49m_fit(X, y, \u001b[39m*\u001b[39;49m\u001b[39m*\u001b[39;49mfit_params)\n",
      "File \u001b[1;32mc:\\Github\\ode-biomarker-project\\dynamic-marker\\lib\\site-packages\\sklearn\\feature_selection\\_rfe.py:296\u001b[0m, in \u001b[0;36mRFE._fit\u001b[1;34m(self, X, y, step_score, **fit_params)\u001b[0m\n\u001b[0;32m    293\u001b[0m \u001b[39mif\u001b[39;00m \u001b[39mself\u001b[39m\u001b[39m.\u001b[39mverbose \u001b[39m>\u001b[39m \u001b[39m0\u001b[39m:\n\u001b[0;32m    294\u001b[0m     \u001b[39mprint\u001b[39m(\u001b[39m\"\u001b[39m\u001b[39mFitting estimator with \u001b[39m\u001b[39m%d\u001b[39;00m\u001b[39m features.\u001b[39m\u001b[39m\"\u001b[39m \u001b[39m%\u001b[39m np\u001b[39m.\u001b[39msum(support_))\n\u001b[1;32m--> 296\u001b[0m estimator\u001b[39m.\u001b[39;49mfit(X[:, features], y, \u001b[39m*\u001b[39;49m\u001b[39m*\u001b[39;49mfit_params)\n\u001b[0;32m    298\u001b[0m \u001b[39m# Get importance and rank them\u001b[39;00m\n\u001b[0;32m    299\u001b[0m importances \u001b[39m=\u001b[39m _get_feature_importances(\n\u001b[0;32m    300\u001b[0m     estimator,\n\u001b[0;32m    301\u001b[0m     \u001b[39mself\u001b[39m\u001b[39m.\u001b[39mimportance_getter,\n\u001b[0;32m    302\u001b[0m     transform_func\u001b[39m=\u001b[39m\u001b[39m\"\u001b[39m\u001b[39msquare\u001b[39m\u001b[39m\"\u001b[39m,\n\u001b[0;32m    303\u001b[0m )\n",
      "File \u001b[1;32mc:\\Github\\ode-biomarker-project\\dynamic-marker\\lib\\site-packages\\sklearn\\svm\\_classes.py:489\u001b[0m, in \u001b[0;36mLinearSVR.fit\u001b[1;34m(self, X, y, sample_weight)\u001b[0m\n\u001b[0;32m    480\u001b[0m X, y \u001b[39m=\u001b[39m \u001b[39mself\u001b[39m\u001b[39m.\u001b[39m_validate_data(\n\u001b[0;32m    481\u001b[0m     X,\n\u001b[0;32m    482\u001b[0m     y,\n\u001b[1;32m   (...)\u001b[0m\n\u001b[0;32m    486\u001b[0m     accept_large_sparse\u001b[39m=\u001b[39m\u001b[39mFalse\u001b[39;00m,\n\u001b[0;32m    487\u001b[0m )\n\u001b[0;32m    488\u001b[0m penalty \u001b[39m=\u001b[39m \u001b[39m\"\u001b[39m\u001b[39ml2\u001b[39m\u001b[39m\"\u001b[39m  \u001b[39m# SVR only accepts l2 penalty\u001b[39;00m\n\u001b[1;32m--> 489\u001b[0m \u001b[39mself\u001b[39m\u001b[39m.\u001b[39mcoef_, \u001b[39mself\u001b[39m\u001b[39m.\u001b[39mintercept_, n_iter_ \u001b[39m=\u001b[39m _fit_liblinear(\n\u001b[0;32m    490\u001b[0m     X,\n\u001b[0;32m    491\u001b[0m     y,\n\u001b[0;32m    492\u001b[0m     \u001b[39mself\u001b[39;49m\u001b[39m.\u001b[39;49mC,\n\u001b[0;32m    493\u001b[0m     \u001b[39mself\u001b[39;49m\u001b[39m.\u001b[39;49mfit_intercept,\n\u001b[0;32m    494\u001b[0m     \u001b[39mself\u001b[39;49m\u001b[39m.\u001b[39;49mintercept_scaling,\n\u001b[0;32m    495\u001b[0m     \u001b[39mNone\u001b[39;49;00m,\n\u001b[0;32m    496\u001b[0m     penalty,\n\u001b[0;32m    497\u001b[0m     \u001b[39mself\u001b[39;49m\u001b[39m.\u001b[39;49mdual,\n\u001b[0;32m    498\u001b[0m     \u001b[39mself\u001b[39;49m\u001b[39m.\u001b[39;49mverbose,\n\u001b[0;32m    499\u001b[0m     \u001b[39mself\u001b[39;49m\u001b[39m.\u001b[39;49mmax_iter,\n\u001b[0;32m    500\u001b[0m     \u001b[39mself\u001b[39;49m\u001b[39m.\u001b[39;49mtol,\n\u001b[0;32m    501\u001b[0m     \u001b[39mself\u001b[39;49m\u001b[39m.\u001b[39;49mrandom_state,\n\u001b[0;32m    502\u001b[0m     loss\u001b[39m=\u001b[39;49m\u001b[39mself\u001b[39;49m\u001b[39m.\u001b[39;49mloss,\n\u001b[0;32m    503\u001b[0m     epsilon\u001b[39m=\u001b[39;49m\u001b[39mself\u001b[39;49m\u001b[39m.\u001b[39;49mepsilon,\n\u001b[0;32m    504\u001b[0m     sample_weight\u001b[39m=\u001b[39;49msample_weight,\n\u001b[0;32m    505\u001b[0m )\n\u001b[0;32m    506\u001b[0m \u001b[39mself\u001b[39m\u001b[39m.\u001b[39mcoef_ \u001b[39m=\u001b[39m \u001b[39mself\u001b[39m\u001b[39m.\u001b[39mcoef_\u001b[39m.\u001b[39mravel()\n\u001b[0;32m    507\u001b[0m \u001b[39m# Backward compatibility: _fit_liblinear is used both by LinearSVC/R\u001b[39;00m\n\u001b[0;32m    508\u001b[0m \u001b[39m# and LogisticRegression but LogisticRegression sets a structured\u001b[39;00m\n\u001b[0;32m    509\u001b[0m \u001b[39m# `n_iter_` attribute with information about the underlying OvR fits\u001b[39;00m\n\u001b[0;32m    510\u001b[0m \u001b[39m# while LinearSVC/R only reports the maximum value.\u001b[39;00m\n",
      "File \u001b[1;32mc:\\Github\\ode-biomarker-project\\dynamic-marker\\lib\\site-packages\\sklearn\\svm\\_base.py:1205\u001b[0m, in \u001b[0;36m_fit_liblinear\u001b[1;34m(X, y, C, fit_intercept, intercept_scaling, class_weight, penalty, dual, verbose, max_iter, tol, random_state, multi_class, loss, epsilon, sample_weight)\u001b[0m\n\u001b[0;32m   1202\u001b[0m sample_weight \u001b[39m=\u001b[39m _check_sample_weight(sample_weight, X, dtype\u001b[39m=\u001b[39mnp\u001b[39m.\u001b[39mfloat64)\n\u001b[0;32m   1204\u001b[0m solver_type \u001b[39m=\u001b[39m _get_liblinear_solver_type(multi_class, penalty, loss, dual)\n\u001b[1;32m-> 1205\u001b[0m raw_coef_, n_iter_ \u001b[39m=\u001b[39m liblinear\u001b[39m.\u001b[39;49mtrain_wrap(\n\u001b[0;32m   1206\u001b[0m     X,\n\u001b[0;32m   1207\u001b[0m     y_ind,\n\u001b[0;32m   1208\u001b[0m     sp\u001b[39m.\u001b[39;49misspmatrix(X),\n\u001b[0;32m   1209\u001b[0m     solver_type,\n\u001b[0;32m   1210\u001b[0m     tol,\n\u001b[0;32m   1211\u001b[0m     bias,\n\u001b[0;32m   1212\u001b[0m     C,\n\u001b[0;32m   1213\u001b[0m     class_weight_,\n\u001b[0;32m   1214\u001b[0m     max_iter,\n\u001b[0;32m   1215\u001b[0m     rnd\u001b[39m.\u001b[39;49mrandint(np\u001b[39m.\u001b[39;49miinfo(\u001b[39m\"\u001b[39;49m\u001b[39mi\u001b[39;49m\u001b[39m\"\u001b[39;49m)\u001b[39m.\u001b[39;49mmax),\n\u001b[0;32m   1216\u001b[0m     epsilon,\n\u001b[0;32m   1217\u001b[0m     sample_weight,\n\u001b[0;32m   1218\u001b[0m )\n\u001b[0;32m   1219\u001b[0m \u001b[39m# Regarding rnd.randint(..) in the above signature:\u001b[39;00m\n\u001b[0;32m   1220\u001b[0m \u001b[39m# seed for srand in range [0..INT_MAX); due to limitations in Numpy\u001b[39;00m\n\u001b[0;32m   1221\u001b[0m \u001b[39m# on 32-bit platforms, we can't get to the UINT_MAX limit that\u001b[39;00m\n\u001b[0;32m   1222\u001b[0m \u001b[39m# srand supports\u001b[39;00m\n\u001b[0;32m   1223\u001b[0m n_iter_max \u001b[39m=\u001b[39m \u001b[39mmax\u001b[39m(n_iter_)\n",
      "\u001b[1;31mKeyboardInterrupt\u001b[0m: "
     ]
    }
   ],
   "source": [
    "from sklearn.feature_selection import RFE\n",
    "from sklearn.svm import LinearSVR\n",
    "\n",
    "# import svm\n",
    "\n",
    "\n",
    "# Use RFE to select the top 10 features\n",
    "\n",
    "rfe_feature_number = 100\n",
    "\n",
    "rfe_estimator = LinearSVR()\n",
    "rfe_estimator.fit(features_np, labels_np)\n",
    "\n",
    "rfe_selector = RFE(rfe_estimator, n_features_to_select=rfe_feature_number, step=1, verbose=1)\n",
    "\n",
    "rfe_selector = rfe_selector.fit(features_np, labels_np)\n",
    "\n",
    "# print the names of the features selected by RFE\n",
    "\n",
    "print('Features selected by RFE: ', col_index[rfe_selector.support_])\n"
   ]
  },
  {
   "attachments": {},
   "cell_type": "markdown",
   "metadata": {},
   "source": [
    "## Playground"
   ]
  },
  {
   "cell_type": "code",
   "execution_count": 1,
   "metadata": {},
   "outputs": [],
   "source": [
    "from sklearn.feature_selection import VarianceThreshold\n",
    "import pickle\n",
    "\n",
    "# Load ribociclib data from data/preprocessed \n",
    "\n",
    "with open('data/preprocessed/ribociclib_data.pkl', 'rb') as f:\n",
    "    ribociclib_data = pickle.load(f)"
   ]
  },
  {
   "cell_type": "code",
   "execution_count": 2,
   "metadata": {},
   "outputs": [
    {
     "name": "stdout",
     "output_type": "stream",
     "text": [
      "                  LN_IC50    CELLLINE    TSPAN6      TNMD      DPM1     SCYL3  \\\n",
      "SANGER_MODEL_ID                                                                 \n",
      "SIDM00872        4.254618  ACH-000859  5.296090  0.000000  6.794416  3.452859   \n",
      "SIDM00866        3.583018  ACH-000374  5.214125  0.000000  6.328047  3.168321   \n",
      "SIDM00885        4.023289  ACH-000111  5.241840  0.201634  5.615299  3.090853   \n",
      "SIDM00884        3.146215  ACH-000699  3.481557  0.000000  7.070389  2.341986   \n",
      "SIDM00877        6.135124  ACH-000196  4.349082  0.000000  6.479942  2.790772   \n",
      "\n",
      "                 C1orf112       FGR       CFH     FUCA2  ...      H3C2  \\\n",
      "SANGER_MODEL_ID                                          ...             \n",
      "SIDM00872        5.260778  0.042644  4.339137  5.833143  ...  1.827819   \n",
      "SIDM00866        4.654206  0.042644  0.432959  6.574102  ...  0.000000   \n",
      "SIDM00885        3.732269  0.084064  0.111031  4.026800  ...  0.632268   \n",
      "SIDM00884        3.679199  0.176323  3.420887  5.854494  ...  2.327687   \n",
      "SIDM00877        4.031219  0.070389  0.070389  4.682011  ...  0.400538   \n",
      "\n",
      "                     H3C3  AC098582.1  DUS4L-BCAP29  C8orf44-SGK3    ELOA3B  \\\n",
      "SANGER_MODEL_ID                                                               \n",
      "SIDM00872        0.000000    0.847997      1.704872      0.411426  0.000000   \n",
      "SIDM00866        0.000000    0.298658      1.584963      0.695994  0.000000   \n",
      "SIDM00885        0.000000    0.422233      1.250962      0.505891  0.111031   \n",
      "SIDM00884        0.226509    0.650765      2.477677      0.000000  0.000000   \n",
      "SIDM00877        0.084064    0.150560      1.823749      0.163499  0.042644   \n",
      "\n",
      "                   NPBWR1    ELOA3D     ELOA3      CDR1  \n",
      "SANGER_MODEL_ID                                          \n",
      "SIDM00872        1.063503  0.000000  0.000000  0.000000  \n",
      "SIDM00866        2.693766  0.000000  0.000000  0.000000  \n",
      "SIDM00885        0.070389  0.000000  0.111031  0.000000  \n",
      "SIDM00884        0.042644  0.000000  0.084064  0.000000  \n",
      "SIDM00877        0.097611  0.084064  0.042644  0.475085  \n",
      "\n",
      "[5 rows x 19223 columns]\n"
     ]
    }
   ],
   "source": [
    "print(ribociclib_data.head())"
   ]
  },
  {
   "cell_type": "code",
   "execution_count": 3,
   "metadata": {},
   "outputs": [],
   "source": [
    "# extract the feature data from the joined dataset\n",
    "\n",
    "feature_data = ribociclib_data.drop(columns=['LN_IC50'])\n",
    "feature_data.drop(columns=['CELLLINE'], inplace=True)\n",
    "\n",
    "# extract the label data from the joined dataset\n",
    "\n",
    "label_data = ribociclib_data['LN_IC50']"
   ]
  },
  {
   "cell_type": "code",
   "execution_count": 4,
   "metadata": {},
   "outputs": [
    {
     "name": "stdout",
     "output_type": "stream",
     "text": [
      "SIDM00872\n",
      "TSPAN6\n"
     ]
    }
   ],
   "source": [
    "# extract feature data index and column names\n",
    "\n",
    "row_index = feature_data.index\n",
    "\n",
    "print(row_index[0])\n",
    "\n",
    "col_index = feature_data.columns\n",
    "\n",
    "print(col_index[0])"
   ]
  },
  {
   "cell_type": "code",
   "execution_count": 29,
   "metadata": {},
   "outputs": [
    {
     "name": "stdout",
     "output_type": "stream",
     "text": [
      "4.157641840909092\n",
      "1.0169617839067444\n"
     ]
    }
   ],
   "source": [
    "# find out the mean and std of label data\n",
    "\n",
    "print(label_data.mean())\n",
    "\n",
    "print(label_data.std())"
   ]
  },
  {
   "cell_type": "code",
   "execution_count": 5,
   "metadata": {},
   "outputs": [],
   "source": [
    "# convert feature data and label data to numpy array\n",
    "\n",
    "features_np = feature_data.to_numpy()\n",
    "labels_np = label_data.to_numpy()"
   ]
  },
  {
   "cell_type": "code",
   "execution_count": 6,
   "metadata": {},
   "outputs": [
    {
     "name": "stdout",
     "output_type": "stream",
     "text": [
      "Linear Regression\n",
      "4.451429393747138e-30\n",
      "2.0311474200761888\n",
      "Linear SVR\n",
      "1.4889217354759448e-08\n",
      "2.1188357274897585\n"
     ]
    }
   ],
   "source": [
    "# A quick prediction using the all features\n",
    "\n",
    "# get prediction accuracy for the ribociclib dataset using the selected features\n",
    "\n",
    "from sklearn.model_selection import train_test_split\n",
    "from sklearn.linear_model import LinearRegression\n",
    "from sklearn.svm import LinearSVR\n",
    "\n",
    "# split the data into training and testing sets\n",
    "\n",
    "X_train, X_test, y_train, y_test = train_test_split(feature_data, label_data, test_size=0.2, random_state=42)\n",
    "\n",
    "# create a LinearSVR object\n",
    "\n",
    "svr = LinearRegression()\n",
    "\n",
    "# fit the LinearSVR object to the training data\n",
    "\n",
    "svr.fit(X_train, y_train)\n",
    "\n",
    "# print the prediction accuracy for the training data via MSE \n",
    "\n",
    "from sklearn.metrics import mean_squared_error\n",
    "\n",
    "score = mean_squared_error(y_train, svr.predict(X_train))\n",
    "\n",
    "print('Linear Regression')\n",
    "print(score)\n",
    "\n",
    "# print the prediction accuracy for the testing data via MSE\n",
    "\n",
    "score_test = mean_squared_error(y_test, svr.predict(X_test))\n",
    "\n",
    "print(score_test)\n",
    "\n",
    "# use linearsvr\n",
    "\n",
    "# create a LinearSVR object\n",
    "\n",
    "svr = LinearSVR()\n",
    "\n",
    "# fit the LinearSVR object to the training data\n",
    "\n",
    "svr.fit(X_train, y_train)\n",
    "\n",
    "# print the prediction accuracy for the training data via MSE\n",
    "\n",
    "score = mean_squared_error(y_train, svr.predict(X_train))\n",
    "\n",
    "print('Linear SVR')\n",
    "\n",
    "print(score)\n",
    "\n",
    "# print the prediction accuracy for the testing data via MSE\n",
    "\n",
    "score_test = mean_squared_error(y_test, svr.predict(X_test))\n",
    "\n",
    "print(score_test)\n"
   ]
  },
  {
   "attachments": {},
   "cell_type": "markdown",
   "metadata": {},
   "source": [
    "Implementing GFFS (Greedy Forward Feature Selection) - A re-implementation in Python"
   ]
  },
  {
   "cell_type": "code",
   "execution_count": 7,
   "metadata": {},
   "outputs": [
    {
     "name": "stdout",
     "output_type": "stream",
     "text": [
      "(44, 100)\n",
      "[(24.05328882360086, 1.4510926691883484e-05, 3720), (23.207173495967876, 1.921849929605232e-05, 8182), (22.020571410849886, 2.869524981265973e-05, 6183), (19.75970754702939, 6.304283091607342e-05, 1368), (17.192091044386316, 0.00016045758767997334, 16792), (16.919628286532426, 0.00017766118823806648, 13848), (15.928446630034077, 0.00025854174736616764, 59), (15.160676990890257, 0.0003475399450918896, 18564), (15.142134563075588, 0.00035005210610856855, 11230), (14.981899368910724, 0.00037257480577790515, 11563), (14.844940365354287, 0.00039303603350314745, 11092), (14.812841521347588, 0.00039800065306130834, 14748), (14.72834766256964, 0.00041138756011616535, 10752), (14.11271045584335, 0.0005244629661054672, 11308), (13.759096305091722, 0.0006038443858196774, 10604), (13.71697481533636, 0.0006141120521452955, 307), (13.58738927135404, 0.0006468710443885048, 12543), (13.402769352547756, 0.00069676198407257, 16881), (13.243065909941743, 0.0007431952038174733, 10627), (13.162929309987577, 0.0007677143173920992, 13882), (12.707504817706164, 0.0009242643535976386, 6625), (12.414475855896228, 0.0010425477837449695, 8949), (12.341580286597432, 0.0010743879529624787, 8108), (12.337048682364866, 0.0010764009223038487, 1840), (12.264231966363065, 0.0011092985860182121, 18955), (12.231887174774302, 0.0011242505768032016, 17831), (12.172109604639896, 0.0011524468617281995, 18835), (12.155525668896939, 0.001160400931327587, 16720), (12.13242575338953, 0.0011715769936410905, 1118), (11.999251701049962, 0.0012382650186013426, 4557), (11.905868569887584, 0.0012874119049020422, 1469), (11.905822739140051, 0.0012874365250534535, 19146), (11.87784104453981, 0.001302561482515674, 16674), (11.723894226237958, 0.0013892013360413565, 12361), (11.652221727268548, 0.001431596390107162, 15615), (11.52191748770604, 0.0015122141335525098, 15758), (11.482274858363725, 0.0015376820098680789, 15709), (11.355481110134223, 0.001622228377966555, 6629), (11.322379009804127, 0.0016451004876857278, 13001), (11.304954252357184, 0.0016572769832388116, 5642), (11.231826187696148, 0.0017094280064923358, 12147), (11.22664202830475, 0.0017131903519987796, 1789), (11.003898155771024, 0.0018834084869387652, 5827), (10.930717522050287, 0.001943164577107907, 11436), (10.898724456259952, 0.001969915793686775, 10040), (10.842474351359154, 0.0020178988534626774, 16305), (10.826276780270849, 0.002031944039692471, 25), (10.811336457538257, 0.0020449907667462698, 2806), (10.799883638049332, 0.00205505201517126, 13971), (10.792234816300935, 0.0020618006308992525, 16745), (10.702928413267697, 0.0021423549456923174, 16653), (10.677194995400857, 0.002166179662848928, 6290), (10.508868926076639, 0.002329102740738732, 12068), (10.40267396665789, 0.0024385237257625414, 12753), (10.191949206837377, 0.0026720910908079117, 15788), (10.178157348801983, 0.0026881821653886875, 15484), (10.035197640196076, 0.0028611520164008694, 6561), (10.029644151361019, 0.0028681047633515137, 12623), (10.020797876187121, 0.0028792169410550433, 1273), (9.995484881055285, 0.002911266403796278, 19198), (9.97512080985554, 0.0029373242327908446, 12917), (9.953073546248785, 0.002965814720738288, 492), (9.937722954070512, 0.0029858242909847365, 11086), (9.84155790219941, 0.003114476168719096, 2650), (9.782454354055364, 0.00319645097429433, 4817), (9.765271424639485, 0.0032207099827837927, 9767), (9.751463947967716, 0.0032403449060020156, 12449), (9.751071913485678, 0.003240904247840177, 8424), (9.715793002661167, 0.0032916604955730384, 5463), (9.714523092260867, 0.003293503172547198, 6043), (9.689551928026518, 0.003329960115043776, 18241), (9.678793095761185, 0.0033457992563095578, 2868), (9.646481546738611, 0.0033938503175526586, 7350), (9.645905806911687, 0.0033947131160551656, 10070), (9.608841427855436, 0.0034507498581917, 17987), (9.604005792311991, 0.0034581327559910654, 8850), (9.600637896220503, 0.0034632846490867124, 14604), (9.592443570249285, 0.0034758535858903997, 5339), (9.575596961776697, 0.0035018460994557295, 19096), (9.540490668161754, 0.003556675990431186, 12833), (9.531293803953105, 0.003571189877735215, 9735), (9.509600259822395, 0.003605674614495069, 18443), (9.490454372639329, 0.0036364029626782006, 12538), (9.486038551606281, 0.0036435295130232185, 1926), (9.481219405970837, 0.0036513238840332903, 12546), (9.453740381962866, 0.00369610705707831, 17773), (9.45111478277861, 0.00370041644449674, 8593), (9.43377426682392, 0.0037290115489912157, 13696), (9.376402482179746, 0.003825302300556074, 2862), (9.357047275175216, 0.0038583796096608083, 18139), (9.336090352725158, 0.003894536623803982, 17726), (9.319686507815371, 0.003923088985896452, 12610), (9.31145858822728, 0.003937493982987469, 9171), (9.283248631927476, 0.0039873100538880095, 12584), (9.232853223002714, 0.004077975584332307, 12541), (9.218770192154109, 0.004103701415280846, 12650), (9.208378804921809, 0.0041227940329654905, 4275), (9.20248742355878, 0.004133660420672382, 10439), (9.177597709124296, 0.004179904991289695, 18269), (9.16664524596664, 0.004200428131490154, 15190)]\n"
     ]
    }
   ],
   "source": [
    "# First apply filter based strategy, Shin et al 2023 used ANOVA based strategy for categorical label variables. \n",
    "# Here we are interested in numerical label variables, therefore we use Pearson's correlation coefficient \n",
    "# via f_regression\n",
    "\n",
    "from sklearn.feature_selection import SelectKBest\n",
    "from sklearn.feature_selection import f_regression, mutual_info_regression\n",
    "\n",
    "# define feature selection\n",
    "fs = SelectKBest(score_func=f_regression, k=100)\n",
    "# apply feature selection\n",
    "pearson_fs_feature = fs.fit_transform(feature_data, label_data)\n",
    "print(pearson_fs_feature.shape)\n",
    "\n",
    "scores, pval = fs.scores_, fs.pvalues_\n",
    "support = fs.get_support(indices=True)\n",
    "\n",
    "selected_scores, selected_pval = scores[support], pval[support]\n",
    "\n",
    "# rank selected features by highest score\n",
    "\n",
    "ranked_features = sorted(zip(selected_scores, selected_pval, support), reverse=True)\n",
    "\n",
    "# selected features \n",
    "\n",
    "selected_feature_data = feature_data.iloc[:, support]\n",
    "\n",
    "print(ranked_features)"
   ]
  },
  {
   "cell_type": "code",
   "execution_count": 8,
   "metadata": {},
   "outputs": [
    {
     "name": "stdout",
     "output_type": "stream",
     "text": [
      "[-0.53971326 -1.40648788 -0.47004955 -1.07140763 -2.22445163]\n",
      "-1.1424219899216896\n"
     ]
    },
    {
     "name": "stderr",
     "output_type": "stream",
     "text": [
      "c:\\Github\\ode-biomarker-project\\dynamic-marker\\lib\\site-packages\\sklearn\\svm\\_base.py:1225: ConvergenceWarning: Liblinear failed to converge, increase the number of iterations.\n",
      "  warnings.warn(\n",
      "c:\\Github\\ode-biomarker-project\\dynamic-marker\\lib\\site-packages\\sklearn\\svm\\_base.py:1225: ConvergenceWarning: Liblinear failed to converge, increase the number of iterations.\n",
      "  warnings.warn(\n",
      "c:\\Github\\ode-biomarker-project\\dynamic-marker\\lib\\site-packages\\sklearn\\svm\\_base.py:1225: ConvergenceWarning: Liblinear failed to converge, increase the number of iterations.\n",
      "  warnings.warn(\n",
      "c:\\Github\\ode-biomarker-project\\dynamic-marker\\lib\\site-packages\\sklearn\\svm\\_base.py:1225: ConvergenceWarning: Liblinear failed to converge, increase the number of iterations.\n",
      "  warnings.warn(\n",
      "c:\\Github\\ode-biomarker-project\\dynamic-marker\\lib\\site-packages\\sklearn\\svm\\_base.py:1225: ConvergenceWarning: Liblinear failed to converge, increase the number of iterations.\n",
      "  warnings.warn(\n"
     ]
    }
   ],
   "source": [
    "from sklearn.svm import LinearSVR\n",
    "from sklearn.metrics import mean_squared_error\n",
    "from sklearn.model_selection import cross_val_score\n",
    "\n",
    "# test training with selected features using f_regression\n",
    "\n",
    "score = cross_val_score(LinearSVR(), selected_feature_data, label_data, cv=5, scoring='neg_mean_squared_error')\n",
    "\n",
    "print(score)\n",
    "print(score.mean())"
   ]
  },
  {
   "cell_type": "code",
   "execution_count": 9,
   "metadata": {},
   "outputs": [
    {
     "name": "stdout",
     "output_type": "stream",
     "text": [
      "Feature Selected: 18955, Score: -0.5116638355391141, Feature Size: 2\n",
      "Feature Selected: 8850, Score: -0.37283977220036235, Feature Size: 3\n",
      "Feature Selected: 17831, Score: -0.35412940153984135, Feature Size: 4\n",
      "Feature Selected: 1368, Score: -0.3228751114378957, Feature Size: 5\n",
      "Feature Selected: 12541, Score: -0.27993413251222027, Feature Size: 6\n",
      "Feature Selected: 15484, Score: -0.23809721085334606, Feature Size: 7\n",
      "Feature Selected: 4275, Score: -0.21807896665755813, Feature Size: 8\n",
      "Feature Selected: 492, Score: -0.18794161160994866, Feature Size: 9\n",
      "Feature Selected: 9171, Score: -0.17051618258785892, Feature Size: 10\n",
      "Feature Selected: 15615, Score: -0.16966435496630436, Feature Size: 11\n",
      "Feature Selected: 12610, Score: -0.16707269633349023, Feature Size: 12\n",
      "Feature Selected: 15758, Score: -0.165065087638465, Feature Size: 13\n",
      "Feature Selected: 11308, Score: -0.1650663811654739, Feature Size: 14\n",
      "Feature Selected: 1118, Score: -0.1661855453785585, Feature Size: 15\n",
      "Feature Selected: 10439, Score: -0.16858542154457828, Feature Size: 16\n",
      "Feature Selected: 8949, Score: -0.16681299311098471, Feature Size: 17\n",
      "Feature Selected: 18564, Score: -0.16888534638484584, Feature Size: 18\n",
      "Feature Selected: 4817, Score: -0.16911457013000408, Feature Size: 19\n",
      "Feature Selected: 12917, Score: -0.17083237614900923, Feature Size: 20\n"
     ]
    }
   ],
   "source": [
    "# perform greedy forward feature selection (GFFS) using the importance score (IS) of the features\n",
    "# here, the importance score is the f-statistic of the feature\n",
    "\n",
    "from sklearn.svm import LinearSVR\n",
    "# from sklearn.feature_selection import SequentialFeatureSelector # SFS lacks verbosity and step-by-step outputs\n",
    "\n",
    "from sklearn.metrics import mean_squared_error\n",
    "from sklearn.model_selection import cross_val_score\n",
    "\n",
    "# disable warnings\n",
    "import warnings\n",
    "warnings.filterwarnings(\"ignore\")\n",
    "\n",
    "# ------------ Input\n",
    "# K: number of features to be selected\n",
    "# X: feature data\n",
    "# y: label data\n",
    "# model: model to be used for feature selection\n",
    "# verbose[Int] = 0: reporting information for each iteration\n",
    "# ------------ Output\n",
    "# feature_selected[List[Int]]: list of selected features index format \n",
    "# successive_scores[List[Float]]: list of successive scores\n",
    "\n",
    "feature_selected = []\n",
    "feature_selected.append(ranked_features[0][2])\n",
    "# print(feature_selected)\n",
    "\n",
    "selected_feature_data_gffs = feature_data.iloc[:,feature_selected]\n",
    "model = LinearSVR()\n",
    "score = cross_val_score(model, selected_feature_data_gffs, label_data, cv=5, scoring='neg_mean_squared_error').mean()\n",
    "max_num_features = 20 \n",
    "successive_scores = []\n",
    "successive_scores.append(score)\n",
    "\n",
    "while len(feature_selected) < max_num_features:\n",
    "    max_score = -10000\n",
    "    max_feature = 0\n",
    "    for i in range(len(ranked_features)):\n",
    "        if ranked_features[i][2] not in feature_selected:\n",
    "            feature_selected.append(ranked_features[i][2])\n",
    "            selected_feature_data_gffs = feature_data.iloc[:,feature_selected]\n",
    "\n",
    "            # cross validation 5 times and get average score\n",
    "\n",
    "            score = cross_val_score(model, selected_feature_data_gffs, label_data, cv=5, scoring='neg_mean_squared_error').mean()\n",
    "\n",
    "            # model.fit(selected_feature_data_gffs, label_data)\n",
    "            # score = mean_squared_error(label_data, model.predict(selected_feature_data_gffs))\n",
    "            if score > max_score:\n",
    "                max_score = score\n",
    "                max_feature = ranked_features[i][2]\n",
    "            feature_selected.pop()\n",
    "    feature_selected.append(max_feature)\n",
    "    successive_scores.append(max_score)\n",
    "    print(f'Feature Selected: {max_feature}, Score: {max_score}, Feature Size: {len(feature_selected)}')\n"
   ]
  },
  {
   "cell_type": "code",
   "execution_count": 10,
   "metadata": {},
   "outputs": [
    {
     "name": "stdout",
     "output_type": "stream",
     "text": [
      "Final Score: -0.1742291807709548\n"
     ]
    }
   ],
   "source": [
    "# test the selected features with a final go through of cross validation\n",
    "\n",
    "selected_feature_data_gffs = feature_data.iloc[:,feature_selected]\n",
    "\n",
    "score = cross_val_score(model, selected_feature_data_gffs, label_data, cv=5, scoring='neg_mean_squared_error').mean()\n",
    "\n",
    "print(f'Final Score: {score}')"
   ]
  },
  {
   "cell_type": "code",
   "execution_count": 11,
   "metadata": {},
   "outputs": [
    {
     "name": "stdout",
     "output_type": "stream",
     "text": [
      "Index(['FOLR3', 'TBC1D3I', 'GOLGA7', 'C1GALT1C1L', 'PAK3', 'B3GNT2', 'RGS7BP',\n",
      "       'HEMK1', 'ALG1', 'SPATA4', 'VSTM2B', 'SLC26A5', 'CLEC17A', 'PRKACG',\n",
      "       'CHAT', 'HCRT', 'IDI2', 'MTRNR2L10', 'FGF23', 'FOXB1'],\n",
      "      dtype='object') [3720, 18955, 8850, 17831, 1368, 12541, 15484, 4275, 492, 9171, 15615, 12610, 15758, 11308, 1118, 10439, 8949, 18564, 4817, 12917]\n"
     ]
    }
   ],
   "source": [
    "# select feature names using col_index \n",
    "\n",
    "gffs_feature_names = feature_data.columns[feature_selected]\n",
    "\n",
    "print(gffs_feature_names, feature_selected)\n",
    "# print(col_index[3720]) # verify the feature name at index 3720\n",
    "\n",
    "# make successive_scores positive\n",
    "\n",
    "pos_successive_scores = [abs(x) for x in successive_scores]"
   ]
  },
  {
   "cell_type": "code",
   "execution_count": 12,
   "metadata": {},
   "outputs": [
    {
     "data": {
      "image/png": "[encoded data removed]",
      "text/plain": [
       "<Figure size 640x480 with 1 Axes>"
      ]
     },
     "metadata": {},
     "output_type": "display_data"
    }
   ],
   "source": [
    "# create bar chart for the successive scores associated with gffs feature names \n",
    "\n",
    "import matplotlib.pyplot as plt\n",
    "\n",
    "plt.bar(gffs_feature_names, pos_successive_scores)\n",
    "plt.title('GFFS Feature Selection on MSE with ribociclib data (n=44)')\n",
    "plt.xticks(rotation=90)\n",
    "\n",
    "# show each bar value\n",
    "\n",
    "for i, v in enumerate(pos_successive_scores):\n",
    "    # change v to 2 decimal places\n",
    "    v = round(v, 2)\n",
    "    plt.text(i, v, str(v), color='black', fontweight='bold', fontsize=6, ha='center', va='bottom', rotation=0)\n",
    "\n",
    "plt.show()\n"
   ]
  },
  {
   "attachments": {},
   "cell_type": "markdown",
   "metadata": {},
   "source": [
    "Implementing the MRMR (Minimum Redundancy Maximum Relevance) Algorithm \n",
    "\n",
    "MRMR does not conflict with the GFFS algorithm. It can even possibly complement GFFS by providing a more objective way of selecting features as a filtering step before GFFS."
   ]
  },
  {
   "cell_type": "code",
   "execution_count": 13,
   "metadata": {},
   "outputs": [],
   "source": [
    "# Code adapted from: \n",
    "# https://towardsdatascience.com/mrmr-explained-exactly-how-you-wished-someone-explained-to-you-9cf4ed27458b\n",
    "\n",
    "import pandas as pd\n",
    "from sklearn.feature_selection import f_regression\n",
    "\n",
    "\n",
    "def mrmr(X, y, K, verbose=0):\n",
    "\n",
    "    # inputs:\n",
    "    #    X: pandas.DataFrame, features\n",
    "    #    y: pandas.Series, target variable\n",
    "    #    K: number of features to select\n",
    "\n",
    "    # compute F-statistics and initialize correlation matrix\n",
    "    F = pd.Series(f_regression(X, y)[0], index = X.columns)\n",
    "    corr = pd.DataFrame(.00001, index = X.columns, columns = X.columns)\n",
    "\n",
    "    # initialize list of selected features and list of excluded features\n",
    "    selected = []\n",
    "    successive_scores = []\n",
    "    not_selected = X.columns.to_list()\n",
    "\n",
    "    # repeat K times\n",
    "    for i in range(K):\n",
    "    \n",
    "        # compute (absolute) correlations between the last selected feature and all the (currently) excluded features\n",
    "        if i > 0:\n",
    "            last_selected = selected[-1]\n",
    "            corr.loc[not_selected, last_selected] = X[not_selected].corrwith(X[last_selected]).abs().clip(.00001)\n",
    "            \n",
    "        # compute FCQ score for all the (currently) excluded features (this is Formula 2)\n",
    "        score = F.loc[not_selected] / corr.loc[not_selected, selected].mean(axis = 1).fillna(.00001)\n",
    "        \n",
    "        # find best feature, add it to selected and remove it from not_selected\n",
    "        best = score.index[score.argmax()]\n",
    "        selected.append(best)\n",
    "        not_selected.remove(best)\n",
    "        successive_scores.append(score.max())\n",
    "\n",
    "        if verbose == 1: \n",
    "            print('Iteration', i+1, 'selected', best, 'score', score.max(), 'remaining', len(not_selected), 'features')\n",
    "    \n",
    "    return selected, successive_scores"
   ]
  },
  {
   "cell_type": "code",
   "execution_count": 22,
   "metadata": {},
   "outputs": [
    {
     "name": "stdout",
     "output_type": "stream",
     "text": [
      "Iteration 1 selected FOLR3 score 2405328.882360086 remaining 19220 features\n",
      "Iteration 2 selected KIAA1841 score 56175.64972741656 remaining 19219 features\n",
      "Iteration 3 selected COX6A2 score 929.9799119433212 remaining 19218 features\n",
      "Iteration 4 selected PGA5 score 243.06331156021403 remaining 19217 features\n",
      "Iteration 5 selected L3MBTL2 score 245.8932639037736 remaining 19216 features\n",
      "Iteration 6 selected PAK3 score 150.1157165100612 remaining 19215 features\n",
      "Iteration 7 selected OR2T33 score 101.4555849361786 remaining 19214 features\n",
      "Iteration 8 selected SYPL2 score 85.52732482067111 remaining 19213 features\n",
      "Iteration 9 selected CACNG6 score 73.9764396367321 remaining 19212 features\n",
      "Iteration 10 selected TBC1D3I score 74.62674289019189 remaining 19211 features\n",
      "Iteration 11 selected SLC8A1 score 63.80905537603905 remaining 19210 features\n",
      "Iteration 12 selected UVRAG score 63.31609411855542 remaining 19209 features\n",
      "Iteration 13 selected PDK4 score 62.796959241539774 remaining 19208 features\n",
      "Iteration 14 selected TMED10 score 64.57596466742415 remaining 19207 features\n",
      "Iteration 15 selected CSNKA2IP score 60.83331499465835 remaining 19206 features\n",
      "Iteration 16 selected LRRTM3 score 61.00957316602132 remaining 19205 features\n",
      "Iteration 17 selected CNGA1 score 63.45532952070848 remaining 19204 features\n",
      "Iteration 18 selected VSTM2B score 56.24660114863442 remaining 19203 features\n",
      "Iteration 19 selected RNF180 score 54.59941931671732 remaining 19202 features\n",
      "Iteration 20 selected CLEC17A score 54.38243991052062 remaining 19201 features\n",
      "['FOLR3', 'KIAA1841', 'COX6A2', 'PGA5', 'L3MBTL2', 'PAK3', 'OR2T33', 'SYPL2', 'CACNG6', 'TBC1D3I', 'SLC8A1', 'UVRAG', 'PDK4', 'TMED10', 'CSNKA2IP', 'LRRTM3', 'CNGA1', 'VSTM2B', 'RNF180', 'CLEC17A']\n",
      "[3720, 10684, 9874, 18589, 2274, 1368, 13848, 8182, 6183, 18955, 14748, 16691, 59, 12543, 19146, 16792, 16720, 15615, 11092, 15758]\n"
     ]
    }
   ],
   "source": [
    "import warnings\n",
    "\n",
    "warnings.filterwarnings(\"ignore\")\n",
    "\n",
    "mrmr_selected_features, mrmr_scores = mrmr(feature_data, label_data, 20, verbose=1)\n",
    "\n",
    "print(mrmr_selected_features)\n",
    "\n",
    "mrmr_selected_features_index = [feature_data.columns.get_loc(c) for c in mrmr_selected_features]\n",
    "\n",
    "print(mrmr_selected_features_index)"
   ]
  },
  {
   "cell_type": "code",
   "execution_count": 23,
   "metadata": {},
   "outputs": [
    {
     "name": "stdout",
     "output_type": "stream",
     "text": [
      "Final Score: 0.41822749504293044\n"
     ]
    }
   ],
   "source": [
    "from sklearn.svm import LinearSVR\n",
    "# from sklearn.feature_selection import SequentialFeatureSelector # SFS lacks verbosity and step-by-step outputs\n",
    "\n",
    "from sklearn.metrics import mean_squared_error\n",
    "from sklearn.model_selection import cross_val_score\n",
    "\n",
    "import warnings\n",
    "\n",
    "warnings.filterwarnings(\"ignore\")\n",
    "\n",
    "selected_feature_data_mrmr = feature_data.iloc[:,mrmr_selected_features_index]\n",
    "model = LinearSVR()\n",
    "score = cross_val_score(model, selected_feature_data_mrmr, label_data, cv=5, scoring='neg_mean_squared_error').mean()\n",
    "\n",
    "print(f'Final Score: {-score}')"
   ]
  },
  {
   "cell_type": "code",
   "execution_count": 25,
   "metadata": {},
   "outputs": [
    {
     "name": "stdout",
     "output_type": "stream",
     "text": [
      "Iteration 1 selected FOLR3 score 2405328.882360086 remaining 19220 features\n",
      "Iteration 2 selected KIAA1841 score 56175.64972741656 remaining 19219 features\n",
      "Iteration 3 selected COX6A2 score 929.9799119433212 remaining 19218 features\n",
      "Iteration 4 selected PGA5 score 243.06331156021403 remaining 19217 features\n",
      "Iteration 5 selected L3MBTL2 score 245.8932639037736 remaining 19216 features\n",
      "Iteration 6 selected PAK3 score 150.1157165100612 remaining 19215 features\n",
      "Iteration 7 selected OR2T33 score 101.4555849361786 remaining 19214 features\n",
      "Iteration 8 selected SYPL2 score 85.52732482067111 remaining 19213 features\n",
      "Iteration 9 selected CACNG6 score 73.9764396367321 remaining 19212 features\n",
      "Iteration 10 selected TBC1D3I score 74.62674289019189 remaining 19211 features\n",
      "Iteration 11 selected SLC8A1 score 63.80905537603905 remaining 19210 features\n",
      "Iteration 12 selected UVRAG score 63.31609411855542 remaining 19209 features\n",
      "Iteration 13 selected PDK4 score 62.796959241539774 remaining 19208 features\n",
      "Iteration 14 selected TMED10 score 64.57596466742415 remaining 19207 features\n",
      "Iteration 15 selected CSNKA2IP score 60.83331499465835 remaining 19206 features\n",
      "Iteration 16 selected LRRTM3 score 61.00957316602132 remaining 19205 features\n",
      "Iteration 17 selected CNGA1 score 63.45532952070848 remaining 19204 features\n",
      "Iteration 18 selected VSTM2B score 56.24660114863442 remaining 19203 features\n",
      "Iteration 19 selected RNF180 score 54.59941931671732 remaining 19202 features\n",
      "Iteration 20 selected CLEC17A score 54.38243991052062 remaining 19201 features\n",
      "Iteration 21 selected B3GNT2 score 52.975112480598334 remaining 19200 features\n",
      "Iteration 22 selected C8orf48 score 54.613112488904605 remaining 19199 features\n",
      "Iteration 23 selected NOMO1 score 54.51404534088066 remaining 19198 features\n",
      "Iteration 24 selected GABRA3 score 52.75458419891033 remaining 19197 features\n",
      "Iteration 25 selected NTNG1 score 53.19621792746347 remaining 19196 features\n",
      "Iteration 26 selected PAX1 score 52.87252902891229 remaining 19195 features\n",
      "Iteration 27 selected BHLHB9 score 52.24132089637976 remaining 19194 features\n",
      "Iteration 28 selected BEX2 score 51.249408250025276 remaining 19193 features\n",
      "Iteration 29 selected MTRNR2L10 score 50.48222387025467 remaining 19192 features\n",
      "Iteration 30 selected MFN2 score 49.59884927652856 remaining 19191 features\n",
      "Iteration 31 selected NOS1AP score 47.90817211273366 remaining 19190 features\n",
      "Iteration 32 selected TRIM58 score 49.05420122617638 remaining 19189 features\n",
      "Iteration 33 selected ZSWIM3 score 49.71451779105618 remaining 19188 features\n",
      "Iteration 34 selected TESC score 48.417750844209294 remaining 19187 features\n",
      "Iteration 35 selected AVPR1A score 47.40287710171965 remaining 19186 features\n",
      "Iteration 36 selected PPP1R9A score 47.8197039241826 remaining 19185 features\n",
      "Iteration 37 selected MPDU1 score 47.74131933174556 remaining 19184 features\n",
      "Iteration 38 selected HEMK1 score 47.61927017471084 remaining 19183 features\n",
      "Iteration 39 selected ZIM2 score 47.28549511018011 remaining 19182 features\n",
      "Iteration 40 selected GYG2 score 46.720664153477664 remaining 19181 features\n",
      "Iteration 41 selected SMCP score 47.370926869565935 remaining 19180 features\n",
      "Iteration 42 selected ALG5 score 46.31694263664971 remaining 19179 features\n",
      "Iteration 43 selected ARHGAP4 score 46.225079973125496 remaining 19178 features\n",
      "Iteration 44 selected TSPAN6 score 46.52895305647698 remaining 19177 features\n",
      "Iteration 45 selected AC113348.1 score 47.276576137759335 remaining 19176 features\n",
      "Iteration 46 selected FGF23 score 47.22559196659852 remaining 19175 features\n",
      "Iteration 47 selected CACNG8 score 47.269474662232035 remaining 19174 features\n",
      "Iteration 48 selected MOXD1 score 46.22636478212108 remaining 19173 features\n",
      "Iteration 49 selected PRKACG score 45.94442788552863 remaining 19172 features\n",
      "Iteration 50 selected HCRT score 45.108026050921985 remaining 19171 features\n",
      "Iteration 51 selected ALG1 score 45.183339687832735 remaining 19170 features\n",
      "Iteration 52 selected ZFP28 score 45.21181107629639 remaining 19169 features\n",
      "Iteration 53 selected FZD3 score 45.283528877603416 remaining 19168 features\n",
      "Iteration 54 selected ATF5 score 45.18295370173527 remaining 19167 features\n",
      "Iteration 55 selected IDI2 score 45.560683655677686 remaining 19166 features\n",
      "Iteration 56 selected C1GALT1C1L score 44.510817164630105 remaining 19165 features\n",
      "Iteration 57 selected BEX1 score 43.93821838692337 remaining 19164 features\n",
      "Iteration 58 selected SLC26A5 score 44.28881858714467 remaining 19163 features\n",
      "Iteration 59 selected SAMM50 score 44.264613231611925 remaining 19162 features\n",
      "Iteration 60 selected TMEM221 score 44.755094930360485 remaining 19161 features\n",
      "Iteration 61 selected OR2T8 score 44.43840571758812 remaining 19160 features\n",
      "Iteration 62 selected FABP4 score 43.946178821053124 remaining 19159 features\n",
      "Iteration 63 selected ELOVL7 score 43.860375050336565 remaining 19158 features\n",
      "Iteration 64 selected RHOBTB1 score 44.12898231856809 remaining 19157 features\n",
      "Iteration 65 selected ZNF534 score 44.04898098422999 remaining 19156 features\n",
      "Iteration 66 selected ADAMTSL4 score 44.25189328123166 remaining 19155 features\n",
      "Iteration 67 selected PEG3 score 44.55438761131775 remaining 19154 features\n",
      "Iteration 68 selected RAB3IP score 44.02594786340809 remaining 19153 features\n",
      "Iteration 69 selected OR4D2 score 43.78057024980003 remaining 19152 features\n",
      "Iteration 70 selected MCM5 score 43.87194515611664 remaining 19151 features\n",
      "Iteration 71 selected BEX4 score 43.616229068269675 remaining 19150 features\n",
      "Iteration 72 selected ST6GALNAC6 score 43.595367986372935 remaining 19149 features\n",
      "Iteration 73 selected CHAT score 43.17103731986549 remaining 19148 features\n",
      "Iteration 74 selected VARS2 score 43.05132609115953 remaining 19147 features\n",
      "Iteration 75 selected ZNF345 score 43.08968853435882 remaining 19146 features\n",
      "Iteration 76 selected FNTA score 42.58748266609172 remaining 19145 features\n",
      "Iteration 77 selected TXK score 42.569097804299695 remaining 19144 features\n",
      "Iteration 78 selected NOMO2 score 42.5963287839855 remaining 19143 features\n",
      "Iteration 79 selected ZNF334 score 42.04481518496485 remaining 19142 features\n",
      "Iteration 80 selected DPY19L2 score 42.14086775277227 remaining 19141 features\n",
      "Iteration 81 selected ABHD16B score 42.203304793990625 remaining 19140 features\n",
      "Iteration 82 selected CLSTN1 score 42.30091248732387 remaining 19139 features\n",
      "Iteration 83 selected FUS score 42.48498567232442 remaining 19138 features\n",
      "Iteration 84 selected ZNF536 score 42.279924660588286 remaining 19137 features\n",
      "Iteration 85 selected CST5 score 42.35761906501361 remaining 19136 features\n",
      "Iteration 86 selected HOOK3 score 42.31834009082058 remaining 19135 features\n",
      "Iteration 87 selected HTRA4 score 41.764255805462724 remaining 19134 features\n",
      "Iteration 88 selected POMT2 score 41.80503094346358 remaining 19133 features\n",
      "Iteration 89 selected MEPCE score 41.25208916445667 remaining 19132 features\n",
      "Iteration 90 selected GPRASP2 score 41.338030758260146 remaining 19131 features\n",
      "Iteration 91 selected SMIM10L2B score 40.86024384214796 remaining 19130 features\n",
      "Iteration 92 selected WNT16 score 41.06282800022341 remaining 19129 features\n",
      "Iteration 93 selected INPP4A score 41.06584429578769 remaining 19128 features\n",
      "Iteration 94 selected TMEM147 score 40.85200081406422 remaining 19127 features\n",
      "Iteration 95 selected SULT1A3 score 40.89582894087258 remaining 19126 features\n",
      "Iteration 96 selected BEND7 score 40.80048408075694 remaining 19125 features\n",
      "Iteration 97 selected CSN1S1 score 41.18585267391975 remaining 19124 features\n",
      "Iteration 98 selected ZNF385B score 40.60610495761232 remaining 19123 features\n",
      "Iteration 99 selected CSDC2 score 40.20666382228988 remaining 19122 features\n",
      "Iteration 100 selected IFI30 score 40.204190232619574 remaining 19121 features\n",
      "['FOLR3', 'KIAA1841', 'COX6A2', 'PGA5', 'L3MBTL2', 'PAK3', 'OR2T33', 'SYPL2', 'CACNG6', 'TBC1D3I', 'SLC8A1', 'UVRAG', 'PDK4', 'TMED10', 'CSNKA2IP', 'LRRTM3', 'CNGA1', 'VSTM2B', 'RNF180', 'CLEC17A', 'B3GNT2', 'C8orf48', 'NOMO1', 'GABRA3', 'NTNG1', 'PAX1', 'BHLHB9', 'BEX2', 'MTRNR2L10', 'MFN2', 'NOS1AP', 'TRIM58', 'ZSWIM3', 'TESC', 'AVPR1A', 'PPP1R9A', 'MPDU1', 'HEMK1', 'ZIM2', 'GYG2', 'SMCP', 'ALG5', 'ARHGAP4', 'TSPAN6', 'AC113348.1', 'FGF23', 'CACNG8', 'MOXD1', 'PRKACG', 'HCRT', 'ALG1', 'ZFP28', 'FZD3', 'ATF5', 'IDI2', 'C1GALT1C1L', 'BEX1', 'SLC26A5', 'SAMM50', 'TMEM221', 'OR2T8', 'FABP4', 'ELOVL7', 'RHOBTB1', 'ZNF534', 'ADAMTSL4', 'PEG3', 'RAB3IP', 'OR4D2', 'MCM5', 'BEX4', 'ST6GALNAC6', 'CHAT', 'VARS2', 'ZNF345', 'FNTA', 'TXK', 'NOMO2', 'ZNF334', 'DPY19L2', 'ABHD16B', 'CLSTN1', 'FUS', 'ZNF536', 'CST5', 'HOOK3', 'HTRA4', 'POMT2', 'MEPCE', 'GPRASP2', 'SMIM10L2B', 'WNT16', 'INPP4A', 'TMEM147', 'SULT1A3', 'BEND7', 'CSN1S1', 'ZNF385B', 'CSDC2', 'IFI30']\n",
      "[3720, 10684, 9874, 18589, 2274, 1368, 13848, 8182, 6183, 18955, 14748, 16691, 59, 12543, 19146, 16792, 16720, 15615, 11092, 15758, 12541, 11230, 2806, 307, 10604, 5642, 16881, 6625, 18564, 4557, 16894, 10627, 6561, 1789, 11563, 10070, 6043, 4275, 18835, 762, 10752, 5033, 1840, 0, 19198, 4817, 8108, 1469, 11308, 10439, 492, 16305, 2868, 12281, 8949, 17831, 6629, 12610, 2254, 15788, 13882, 12538, 11086, 1184, 16754, 8260, 16674, 5827, 18557, 2230, 2650, 10316, 1118, 7350, 18443, 12147, 1273, 15190, 16653, 13971, 14794, 12833, 1820, 16745, 12546, 12068, 12361, 239, 8754, 10040, 16329, 25, 568, 3139, 18686, 11436, 5753, 8424, 13001, 17726]\n"
     ]
    }
   ],
   "source": [
    "# select K from 1 to 100 and plot cross validation scores for each \n",
    "\n",
    "import warnings\n",
    "\n",
    "warnings.filterwarnings(\"ignore\")\n",
    "mrmr_selected_features, mrmr_scores = mrmr(feature_data, label_data, 100, verbose=1)\n",
    "print(mrmr_selected_features)\n",
    "mrmr_selected_features_index = [feature_data.columns.get_loc(c) for c in mrmr_selected_features]\n",
    "print(mrmr_selected_features_index)"
   ]
  },
  {
   "cell_type": "code",
   "execution_count": 28,
   "metadata": {},
   "outputs": [
    {
     "data": {
      "image/png": "[encoded data removed]",
      "text/plain": [
       "<Figure size 640x480 with 1 Axes>"
      ]
     },
     "metadata": {},
     "output_type": "display_data"
    }
   ],
   "source": [
    "import matplotlib.pyplot as plt\n",
    "\n",
    "K = range(1,100,1)\n",
    "total_scores = []\n",
    "total_std = []\n",
    "model = LinearSVR()\n",
    "\n",
    "for k in K:\n",
    "    # print(f'K = {k}')\n",
    "    selected_feature_data_mrmr = feature_data.iloc[:,mrmr_selected_features_index[:k]]\n",
    "    score = cross_val_score(model, selected_feature_data_mrmr, label_data, cv=5, scoring='neg_mean_squared_error')\n",
    "    total_scores.append(-score.mean())\n",
    "    total_std.append(score.std())\n",
    "\n",
    "# plot with error bars\n",
    "\n",
    "plt.plot(K, total_scores)\n",
    "plt.fill_between(K, [x - y for x, y in zip(total_scores, total_std)], [x + y for x, y in zip(total_scores, total_std)], alpha=0.2)\n",
    "plt.title('MRMR Feature Selection on MSE with ribociclib data (n=44)')\n",
    "plt.xlabel('Number of Features')\n",
    "# y axis begin at 0\n",
    "plt.ylim(bottom=0)\n",
    "plt.ylabel('Mean Squared Error')\n",
    "plt.grid(True)\n",
    "plt.show()"
   ]
  },
  {
   "attachments": {},
   "cell_type": "markdown",
   "metadata": {},
   "source": [
    "### Nested Cross-validation for when wrapper methods are used \n",
    "\n",
    "In the case of using cross-validation within wrapper methods, the inner loop is used to select the best model (given a set of features) and the outer loop is used to estimate the generalization error of the selected model.\n",
    "\n",
    "Papers which support the use of nested cross-validation: \n",
    "\n"
   ]
  },
  {
   "cell_type": "code",
   "execution_count": null,
   "metadata": {},
   "outputs": [],
   "source": []
  },
  {
   "attachments": {},
   "cell_type": "markdown",
   "metadata": {},
   "source": [
    "## Streamline\n",
    "\n",
    "Streamlined code needs to be a set of functions, with proper imports and documentation. Each code block must be independent of the others.\n",
    "\n",
    "- Step 1. Filter-based feature selection toolkit \n",
    "- Step 2. Wrapper-based feature selection toolkit \n",
    "- Step 3. Visualisation"
   ]
  },
  {
   "cell_type": "code",
   "execution_count": 6,
   "metadata": {},
   "outputs": [],
   "source": [
    "# extract GDSC2 data into feature and labels\n",
    "import pandas as pd\n",
    "\n",
    "def create_feature_and_label(df: pd.DataFrame, label_name: str = 'LN_IC50'):\n",
    "    # extract the feature data from the joined dataset\n",
    "\n",
    "    feature_data = df.drop(columns=[label_name])\n",
    "    feature_data.drop(columns=['CELLLINE'], inplace=True)\n",
    "\n",
    "    # extract the label data from the joined dataset\n",
    "\n",
    "    label_data = df[label_name]\n",
    "\n",
    "    return feature_data, label_data"
   ]
  },
  {
   "cell_type": "code",
   "execution_count": 7,
   "metadata": {},
   "outputs": [],
   "source": [
    "from sklearn.model_selection import cross_val_score\n",
    "from sklearn.linear_model import LinearRegression\n",
    "from sklearn.svm import LinearSVR\n",
    "\n",
    "def naive_test_regression(feature_data, label_data):\n",
    "\n",
    "    # test the model with the naive feature selection\n",
    "    print('------ Naive test - linear regression')\n",
    "    score = cross_val_score(LinearRegression(), feature_data, label_data, cv=5, scoring='neg_mean_squared_error')\n",
    "    print(f'linear regression, score: {-score.mean()}, std: {score.std()}')\n",
    "\n",
    "    print('------ Naive test - linear SVR')\n",
    "    score = cross_val_score(LinearSVR(), feature_data, label_data, cv=5, scoring='neg_mean_squared_error')\n",
    "    print(f'linear SVR, score: {-score.mean()}, std: {score.std()}')"
   ]
  },
  {
   "cell_type": "code",
   "execution_count": 8,
   "metadata": {},
   "outputs": [],
   "source": [
    "from sklearn.feature_selection import SelectKBest\n",
    "\n",
    "def filter_feature_selection(feature_data, label_data, method, K, get_selected_data=False):\n",
    "    # define feature selection\n",
    "    fs = SelectKBest(score_func=method, k=K)\n",
    "    # apply feature selection\n",
    "    pearson_fs_feature = fs.fit_transform(feature_data, label_data)\n",
    "    print(pearson_fs_feature.shape)\n",
    "\n",
    "    scores, pval = fs.scores_, fs.pvalues_\n",
    "    support = fs.get_support(indices=True)\n",
    "\n",
    "    selected_scores, selected_pval = scores[support], pval[support]\n",
    "\n",
    "    # rank selected features by highest score\n",
    "\n",
    "    ranked_features = sorted(zip(selected_scores, support), reverse=True)\n",
    "\n",
    "    # selected features \n",
    "    if get_selected_data:\n",
    "        selected_feature_data = feature_data.iloc[:, support]\n",
    "        return selected_feature_data, support\n",
    "    \n",
    "    # print(ranked_features)\n",
    "    return selected_scores, support"
   ]
  },
  {
   "cell_type": "code",
   "execution_count": 9,
   "metadata": {},
   "outputs": [],
   "source": [
    "from sklearn.linear_model import LogisticRegression, RidgeClassifier, SGDClassifier\n",
    "\n",
    "def naive_test_classification(feature_data, label_data, models=None):\n",
    "\n",
    "    if models is None:\n",
    "        # default model set \n",
    "        models = [LogisticRegression()]\n",
    "\n",
    "    # test the model with the naive feature selection\n",
    "    score = cross_val_score(model, feature_data, label_data, cv=5, scoring='neg_mean_squared_error').mean()\n",
    "    print(f'Naive Score: {-score}')"
   ]
  },
  {
   "cell_type": "code",
   "execution_count": 10,
   "metadata": {},
   "outputs": [],
   "source": [
    "from sklearn.feature_selection import f_regression, mutual_info_regression\n",
    "\n",
    "def mrmr_select_fcq(X, y, K, verbose=0, return_index=True):\n",
    "\n",
    "    # ------------ Input\n",
    "    # X: pandas.DataFrame, features\n",
    "    # y: pandas.Series, target variable\n",
    "    # K: number of features to select\n",
    "    \n",
    "    # ------------ Output\n",
    "    # feature_selected[List[Int]]: list of selected features index format \n",
    "    # successive_scores[List[Float]]: list of successive scores\n",
    "\n",
    "    # compute F-statistics and initialize correlation matrix\n",
    "    F = pd.Series(f_regression(X, y)[0], index = X.columns)\n",
    "    corr = pd.DataFrame(.00001, index = X.columns, columns = X.columns)\n",
    "\n",
    "    # initialize list of selected features and list of excluded features\n",
    "    selected = []\n",
    "    successive_scores = []\n",
    "    not_selected = X.columns.to_list()\n",
    "\n",
    "    # repeat K times\n",
    "    for i in range(K):\n",
    "    \n",
    "        # compute (absolute) correlations between the last selected feature and all the (currently) excluded features\n",
    "        if i > 0:\n",
    "            last_selected = selected[-1]\n",
    "            corr.loc[not_selected, last_selected] = X[not_selected].corrwith(X[last_selected]).abs().clip(.00001)\n",
    "            \n",
    "        # compute FCQ score for all the (currently) excluded features\n",
    "        score = F.loc[not_selected] / corr.loc[not_selected, selected].mean(axis = 1).fillna(.00001)\n",
    "        \n",
    "        # find best feature, add it to selected and remove it from not_selected\n",
    "        best = score.index[score.argmax()]\n",
    "        successive_scores.append(score.max())\n",
    "        selected.append(best)\n",
    "        not_selected.remove(best)\n",
    "\n",
    "        if verbose == 1: \n",
    "            print('Iteration', i+1, 'selected', best, 'score', score.max(), 'remaining', len(not_selected), 'features')\n",
    "    \n",
    "    if return_index:\n",
    "        return [X.columns.get_loc(c) for c in selected], successive_scores\n",
    "\n",
    "    return selected, successive_scores"
   ]
  },
  {
   "cell_type": "code",
   "execution_count": 26,
   "metadata": {},
   "outputs": [],
   "source": [
    "from sklearn.model_selection import cross_val_score\n",
    "\n",
    "def greedy_forward_select(X, y, K, model, ranked_features, scoring_method, cv_num=5, verbose=0):\n",
    "    # ------------ Input\n",
    "    # K[Int]: number of features to be selected\n",
    "    # X[pd.Dataframe]: feature data\n",
    "    # y[pd.Series]: label data\n",
    "    # model: model to be used for feature selection\n",
    "    # ranked_features[List[Tuple]]: list of tuples of (feature score, feature index)\n",
    "    # scoring_method[String]: scoring method for cross validation\n",
    "    # verbose[Int] = 0: reporting information for each iteration\n",
    "\n",
    "\n",
    "    # ------------ Output\n",
    "    # feature_selected[List[Int]]: list of selected features index format \n",
    "    # successive_scores[List[Float]]: list of successive scores\n",
    "\n",
    "    feature_selected = []\n",
    "    # select the first feature\n",
    "    feature_selected.append(ranked_features[0][1])\n",
    "\n",
    "    selected_feature_data_gffs = X.iloc[:,feature_selected]\n",
    "    score = cross_val_score(model, selected_feature_data_gffs, y, cv=cv_num, scoring=scoring_method).mean()\n",
    "    successive_scores = []\n",
    "    successive_scores.append(score)\n",
    "\n",
    "    while len(feature_selected) < K:\n",
    "        max_score = -10000\n",
    "        max_feature = 0\n",
    "        for i in range(len(ranked_features)):\n",
    "            if ranked_features[i][1] not in feature_selected:\n",
    "                feature_selected.append(ranked_features[i][1])\n",
    "                selected_feature_data_gffs = X.iloc[:,feature_selected]\n",
    "\n",
    "                # cross validation 5 times and get average score\n",
    "                score = cross_val_score(model, selected_feature_data_gffs, y, cv=cv_num, scoring=scoring_method).mean()\n",
    "                if score > max_score:\n",
    "                    max_score = score\n",
    "                    max_feature = ranked_features[i][1]\n",
    "                feature_selected.pop()\n",
    "        feature_selected.append(max_feature)\n",
    "        successive_scores.append(max_score)\n",
    "        if verbose == 1:\n",
    "            print(f'Feature Selected: {max_feature}, Score: {max_score}, Feature Size: {len(feature_selected)}')\n",
    "\n",
    "    return feature_selected, successive_scores"
   ]
  },
  {
   "attachments": {},
   "cell_type": "markdown",
   "metadata": {},
   "source": [
    "## Production\n",
    "\n",
    "Uses streamlined code to produce the final outcomes. The final outcome can be an image, a report, a set of figures, an exportable model, a set of data files, a short script that is easy to use, GUI or finally, a complete software/package. This means that, production code in fact are unlikely to be still contained in a jupyter notebook."
   ]
  },
  {
   "attachments": {},
   "cell_type": "markdown",
   "metadata": {},
   "source": [
    "In this case, feature-selection.ipynb is used to produce a list of selected features to act as predictive biomarkers, a final model and a set of supporting figures."
   ]
  },
  {
   "attachments": {},
   "cell_type": "markdown",
   "metadata": {},
   "source": [
    "### Palbociclib"
   ]
  },
  {
   "cell_type": "code",
   "execution_count": 12,
   "metadata": {},
   "outputs": [],
   "source": [
    "import pickle\n",
    "\n",
    "# Load ribociclib data from data/preprocessed \n",
    "\n",
    "with open('data/preprocessed/palbociclib_data.pkl', 'rb') as f:\n",
    "    palbociclib_data = pickle.load(f)"
   ]
  },
  {
   "cell_type": "code",
   "execution_count": 16,
   "metadata": {},
   "outputs": [
    {
     "name": "stdout",
     "output_type": "stream",
     "text": [
      "3.6774345119863017 1.5952913449402224\n"
     ]
    }
   ],
   "source": [
    "feature_data, label_data = create_feature_and_label(palbociclib_data)\n",
    "\n",
    "print(label_data.mean(), label_data.std())"
   ]
  },
  {
   "cell_type": "code",
   "execution_count": 21,
   "metadata": {},
   "outputs": [
    {
     "name": "stdout",
     "output_type": "stream",
     "text": [
      "------ Naive test - linear regression\n",
      "linear regression, score: 1.7582581535115611, std: 0.21158982038668867\n",
      "------ Naive test - linear SVR\n",
      "linear SVR, score: 1.7825290602489843, std: 0.2098584429712049\n"
     ]
    }
   ],
   "source": [
    "# naive test on all features\n",
    "\n",
    "naive_test_regression(feature_data, label_data)"
   ]
  },
  {
   "cell_type": "code",
   "execution_count": 14,
   "metadata": {},
   "outputs": [
    {
     "name": "stdout",
     "output_type": "stream",
     "text": [
      "(584, 100)\n",
      "(221.21132165451527, 12238)\n",
      "(217.78554224170708, 7560)\n",
      "(207.1460576593157, 356)\n",
      "(207.00033344442434, 5398)\n",
      "(204.70066422439191, 4206)\n",
      "(192.04434925054503, 8252)\n",
      "(191.30639475468982, 8356)\n",
      "(191.06700962966102, 5310)\n",
      "(190.61158013732046, 15325)\n",
      "(190.20996045025623, 6226)\n",
      "(190.1644769699162, 2240)\n",
      "(183.90856269724765, 2846)\n",
      "(175.736475833332, 1317)\n",
      "(172.83615310045602, 14578)\n",
      "(170.09846385912567, 8175)\n",
      "(169.60955524373287, 3006)\n",
      "(169.44686309101954, 825)\n",
      "(168.7187729654294, 12248)\n",
      "(167.56099081093726, 682)\n",
      "(167.5200072091631, 8194)\n",
      "(166.48680547436106, 10573)\n",
      "(165.46723686531539, 130)\n",
      "(164.69359402515414, 15601)\n",
      "(163.50432188210627, 2831)\n",
      "(161.0114338989097, 5309)\n",
      "(160.2926985836165, 5180)\n",
      "(160.0946860974605, 9902)\n",
      "(159.7460809461203, 5316)\n",
      "(159.05287363301449, 0)\n",
      "(158.96157441499147, 8168)\n",
      "(158.29368504472933, 7461)\n",
      "(157.66283462793558, 1520)\n",
      "(157.46748524463106, 13933)\n",
      "(157.19705336248865, 13624)\n",
      "(157.00752424613074, 12017)\n",
      "(154.9563437684709, 16456)\n",
      "(154.45112701097884, 1655)\n",
      "(153.20946218892948, 1227)\n",
      "(152.7943517983472, 5233)\n",
      "(152.03564889813836, 2102)\n",
      "(151.8927948108571, 6245)\n",
      "(150.0654067138885, 7134)\n",
      "(149.21708719891888, 10740)\n",
      "(148.83664588960855, 1759)\n",
      "(148.66128247725533, 16735)\n",
      "(148.56672698545597, 7232)\n",
      "(147.379107258302, 16797)\n",
      "(147.08389462395283, 4468)\n",
      "(145.84231121414896, 12232)\n",
      "(145.75536466406777, 1207)\n",
      "(145.74781480014474, 5204)\n",
      "(145.69396126881685, 13015)\n",
      "(145.14333478623973, 6388)\n",
      "(144.75325743194443, 16807)\n",
      "(144.06533847212768, 12934)\n",
      "(143.62020234303938, 238)\n",
      "(143.47168828514134, 8090)\n",
      "(142.65246893630948, 859)\n",
      "(142.51616946398852, 13210)\n",
      "(142.4588119976587, 6973)\n",
      "(141.67856194451213, 5694)\n",
      "(141.18009395404403, 12122)\n",
      "(140.59912213055492, 2941)\n",
      "(140.41745777315643, 1295)\n",
      "(140.39068730986156, 16800)\n",
      "(140.3275912668193, 2589)\n",
      "(140.08492835806373, 8734)\n",
      "(140.02027727323642, 8140)\n",
      "(139.73350543519487, 134)\n",
      "(139.3357745586616, 7124)\n",
      "(139.16489023400337, 7397)\n",
      "(138.92427051949952, 106)\n",
      "(138.92153049882378, 5793)\n",
      "(138.69619199566435, 4623)\n",
      "(138.5364094519231, 6970)\n",
      "(138.11149975106332, 15639)\n",
      "(137.85731665041442, 13058)\n",
      "(136.47610194275168, 7147)\n",
      "(136.16254753759688, 15493)\n",
      "(135.580045810333, 10359)\n",
      "(135.12288857859957, 9180)\n",
      "(135.08315248850263, 108)\n",
      "(134.54321322803045, 1198)\n",
      "(134.5380604584431, 1567)\n",
      "(134.3668494369533, 2156)\n",
      "(134.19989475479207, 340)\n",
      "(134.05427364133595, 1631)\n",
      "(133.6858630742141, 4776)\n",
      "(133.642687284623, 4678)\n",
      "(133.52310853974882, 4172)\n",
      "(132.8662917295381, 11831)\n",
      "(132.8634707707941, 9704)\n",
      "(132.65800564397168, 8592)\n",
      "(132.22384101014933, 19139)\n",
      "(132.1361886194537, 14792)\n",
      "(131.8298974880254, 5390)\n",
      "(131.81440236432587, 885)\n",
      "(131.789532379769, 16507)\n",
      "(131.0924461561378, 15807)\n",
      "(131.08830113389087, 15494)\n"
     ]
    }
   ],
   "source": [
    "from sklearn.feature_selection import f_regression\n",
    "\n",
    "ranked_features = filter_feature_selection(feature_data, label_data, f_regression, 100)\n",
    "\n",
    "for x in ranked_features:\n",
    "    print(x)\n"
   ]
  },
  {
   "cell_type": "code",
   "execution_count": 20,
   "metadata": {},
   "outputs": [
    {
     "name": "stdout",
     "output_type": "stream",
     "text": [
      "(584, 100)\n",
      "------ Naive test - linear regression\n",
      "linear regression, score: 1.9276840104908544, std: 0.07776665504279263\n",
      "------ Naive test - linear SVR\n",
      "linear SVR, score: 2.739236364710183, std: 0.5132604309760966\n"
     ]
    }
   ],
   "source": [
    "# separate ranked features into scores and indices\n",
    "\n",
    "# disable warnings\n",
    "import warnings\n",
    "warnings.filterwarnings(\"ignore\")\n",
    "\n",
    "ranked_scores = [x[0] for x in ranked_features]\n",
    "ranked_indices = [x[1] for x in ranked_features]\n",
    "\n",
    "filter_selected_feature_data = feature_data.iloc[:, ranked_indices]\n",
    "\n",
    "print(filter_selected_feature_data.shape)\n",
    "\n",
    "naive_test_regression(filter_selected_feature_data, label_data)"
   ]
  },
  {
   "cell_type": "code",
   "execution_count": 22,
   "metadata": {},
   "outputs": [
    {
     "name": "stdout",
     "output_type": "stream",
     "text": [
      "Iteration 1 selected PPIC score 22121132.165451527 remaining 19220 features\n",
      "Iteration 2 selected CELA2A score 83980.20393559842 remaining 19219 features\n",
      "Iteration 3 selected NWD1 score 4595.222986770851 remaining 19218 features\n",
      "Iteration 4 selected GLI1 score 1195.3388663691114 remaining 19217 features\n",
      "Iteration 5 selected SLC49A4 score 1023.787911536718 remaining 19216 features\n",
      "Iteration 6 selected RPL3 score 700.2496622792282 remaining 19215 features\n",
      "Iteration 7 selected AMOTL2 score 620.9156116941508 remaining 19214 features\n",
      "Iteration 8 selected LAMA5 score 537.1574529477324 remaining 19213 features\n",
      "Iteration 9 selected CARNMT1 score 505.52523237115287 remaining 19212 features\n",
      "Iteration 10 selected SDC4 score 537.4862732811785 remaining 19211 features\n",
      "Iteration 11 selected TUFT1 score 498.06030969716284 remaining 19210 features\n",
      "Iteration 12 selected WAS score 473.376975851769 remaining 19209 features\n",
      "Iteration 13 selected PXDC1 score 446.2845514086713 remaining 19208 features\n",
      "Iteration 14 selected PTPN7 score 421.2046146087348 remaining 19207 features\n",
      "Iteration 15 selected RPL10A score 399.66923640750844 remaining 19206 features\n",
      "Iteration 16 selected NCKAP1L score 397.50530098654394 remaining 19205 features\n",
      "Iteration 17 selected FCHO2 score 377.97855302044957 remaining 19204 features\n",
      "Iteration 18 selected SETDB2 score 377.0975544252021 remaining 19203 features\n",
      "Iteration 19 selected ARHGAP29 score 369.33339634953506 remaining 19202 features\n",
      "Iteration 20 selected CDKN2A score 358.49677311272205 remaining 19201 features\n",
      "Iteration 21 selected IKZF1 score 376.38642090209134 remaining 19200 features\n",
      "Iteration 22 selected BAIAP2 score 362.2009522543614 remaining 19199 features\n",
      "Iteration 23 selected PPP2R3A score 353.3823107271773 remaining 19198 features\n",
      "Iteration 24 selected TJP1 score 351.0737213479909 remaining 19197 features\n",
      "Iteration 25 selected GRAMD2B score 343.6599513665456 remaining 19196 features\n",
      "Iteration 26 selected PTPRF score 343.5297324131327 remaining 19195 features\n",
      "Iteration 27 selected ARHGAP15 score 336.4801157582052 remaining 19194 features\n",
      "Iteration 28 selected EIF3L score 335.25937508331936 remaining 19193 features\n",
      "Iteration 29 selected CCN1 score 338.4639441754448 remaining 19192 features\n",
      "Iteration 30 selected KIAA1522 score 335.4590476329799 remaining 19191 features\n",
      "Iteration 31 selected TEAD1 score 331.15468696652624 remaining 19190 features\n",
      "Iteration 32 selected RPL17 score 328.42105386544756 remaining 19189 features\n",
      "Iteration 33 selected CD276 score 328.7585930228044 remaining 19188 features\n",
      "Iteration 34 selected TSPAN6 score 325.178050785613 remaining 19187 features\n",
      "Iteration 35 selected SNX24 score 324.46670873330635 remaining 19186 features\n",
      "Iteration 36 selected EEF1B2 score 322.93249741781926 remaining 19185 features\n",
      "Iteration 37 selected NLRC3 score 324.87799150513416 remaining 19184 features\n",
      "Iteration 38 selected KDELR2 score 322.08069839182707 remaining 19183 features\n",
      "Iteration 39 selected BCL2L1 score 320.97093489272095 remaining 19182 features\n",
      "Iteration 40 selected RNASEH2B score 322.1065992280105 remaining 19181 features\n",
      "Iteration 41 selected PDE1B score 321.74640660235474 remaining 19180 features\n",
      "Iteration 42 selected CD59 score 319.63292285955305 remaining 19179 features\n",
      "Iteration 43 selected PRR18 score 322.6863850777485 remaining 19178 features\n",
      "Iteration 44 selected EPB41L1 score 327.9455370909689 remaining 19177 features\n",
      "Iteration 45 selected APLP2 score 325.17204581857686 remaining 19176 features\n",
      "Iteration 46 selected DHODH score 328.22927310086806 remaining 19175 features\n",
      "Iteration 47 selected BCAM score 329.11166871073544 remaining 19174 features\n",
      "Iteration 48 selected CD151 score 326.8538698185346 remaining 19173 features\n",
      "Iteration 49 selected SPN score 324.3340954786709 remaining 19172 features\n",
      "Iteration 50 selected RPL18A score 323.33186763198603 remaining 19171 features\n",
      "Iteration 51 selected SNX21 score 322.3811262305357 remaining 19170 features\n",
      "Iteration 52 selected P2RY8 score 321.76677696779535 remaining 19169 features\n",
      "Iteration 53 selected PTTG1IP score 318.5974735554168 remaining 19168 features\n",
      "Iteration 54 selected KLC3 score 318.58606757449417 remaining 19167 features\n",
      "Iteration 55 selected MARCKS score 320.3232194158257 remaining 19166 features\n",
      "Iteration 56 selected BCAR1 score 320.1316291985356 remaining 19165 features\n",
      "Iteration 57 selected EEF2 score 320.17186264469325 remaining 19164 features\n",
      "Iteration 58 selected PTPRC score 319.79229280737906 remaining 19163 features\n",
      "Iteration 59 selected SAPCD1 score 317.05781274828973 remaining 19162 features\n",
      "Iteration 60 selected ARHGEF17 score 318.6151527274303 remaining 19161 features\n",
      "Iteration 61 selected TNFRSF12A score 318.89819547329176 remaining 19160 features\n",
      "Iteration 62 selected IL13RA1 score 316.17066253504663 remaining 19159 features\n",
      "Iteration 63 selected ARHGAP9 score 315.0678735399295 remaining 19158 features\n",
      "Iteration 64 selected C1QBP score 314.60513870599465 remaining 19157 features\n",
      "Iteration 65 selected RASAL3 score 316.59110607036604 remaining 19156 features\n",
      "Iteration 66 selected ZNF185 score 315.0305324950211 remaining 19155 features\n",
      "Iteration 67 selected RPL21 score 314.9156058109853 remaining 19154 features\n",
      "Iteration 68 selected ID1 score 315.0714462412198 remaining 19153 features\n",
      "Iteration 69 selected SEC31B score 315.1756354964575 remaining 19152 features\n",
      "Iteration 70 selected MID2 score 315.1221974081999 remaining 19151 features\n",
      "Iteration 71 selected NCKAP1 score 315.6933531145907 remaining 19150 features\n",
      "Iteration 72 selected IQCJ-SCHIP1 score 310.6292902326961 remaining 19149 features\n",
      "Iteration 73 selected TNFAIP8L2 score 309.66811308127524 remaining 19148 features\n",
      "Iteration 74 selected HNRNPA1 score 309.46173277106914 remaining 19147 features\n",
      "Iteration 75 selected GPRC5A score 309.3490729834204 remaining 19146 features\n",
      "Iteration 76 selected INPP5D score 310.32653300955985 remaining 19145 features\n",
      "Iteration 77 selected CEP170B score 308.35496074738757 remaining 19144 features\n",
      "Iteration 78 selected TIMP2 score 308.23554247629613 remaining 19143 features\n",
      "Iteration 79 selected AGAP2 score 307.8588635847566 remaining 19142 features\n",
      "Iteration 80 selected NANOS1 score 309.0964028232985 remaining 19141 features\n",
      "Iteration 81 selected SASH3 score 309.05977169818993 remaining 19140 features\n",
      "Iteration 82 selected BAIAP2L1 score 308.197473754967 remaining 19139 features\n",
      "Iteration 83 selected TSC22D2 score 306.98278345183587 remaining 19138 features\n",
      "Iteration 84 selected APP score 308.1072243496339 remaining 19137 features\n",
      "Iteration 85 selected RPL4 score 307.6306438620019 remaining 19136 features\n",
      "Iteration 86 selected CD53 score 306.39528446449725 remaining 19135 features\n",
      "Iteration 87 selected RND3 score 304.9142478714207 remaining 19134 features\n",
      "Iteration 88 selected CABYR score 304.7822014112894 remaining 19133 features\n",
      "Iteration 89 selected CETN2 score 304.7176711538467 remaining 19132 features\n",
      "Iteration 90 selected MTARC2 score 304.836547195096 remaining 19131 features\n",
      "Iteration 91 selected NAV2 score 304.300120098194 remaining 19130 features\n",
      "Iteration 92 selected ALPP score 305.1170071789294 remaining 19129 features\n",
      "Iteration 93 selected TBC1D9 score 306.08606366464045 remaining 19128 features\n",
      "Iteration 94 selected EGFR score 306.53902757852273 remaining 19127 features\n",
      "Iteration 95 selected GMFG score 306.21113839427164 remaining 19126 features\n",
      "Iteration 96 selected RPLP0 score 305.87484526013526 remaining 19125 features\n",
      "Iteration 97 selected ZNF205 score 305.8523881936949 remaining 19124 features\n",
      "Iteration 98 selected SCLY score 304.8956535710404 remaining 19123 features\n",
      "Iteration 99 selected WWC1 score 306.42425889823625 remaining 19122 features\n",
      "Iteration 100 selected CDC42BPB score 305.7193024408352 remaining 19121 features\n"
     ]
    }
   ],
   "source": [
    "mrmr_feature_selected, successive_scores = mrmr_select_fcq(feature_data, label_data, 100, verbose=1)"
   ]
  },
  {
   "cell_type": "code",
   "execution_count": 24,
   "metadata": {},
   "outputs": [
    {
     "data": {
      "image/png": "[encoded data removed]",
      "text/plain": [
       "<Figure size 432x288 with 1 Axes>"
      ]
     },
     "metadata": {
      "needs_background": "light"
     },
     "output_type": "display_data"
    }
   ],
   "source": [
    "import matplotlib.pyplot as plt\n",
    "\n",
    "K = range(1,100,1)\n",
    "total_scores = []\n",
    "total_std = []\n",
    "model = LinearSVR()\n",
    "\n",
    "for k in K:\n",
    "    # print(f'K = {k}')\n",
    "    selected_feature_data_mrmr = feature_data.iloc[:,mrmr_feature_selected[:k]]\n",
    "    score = cross_val_score(model, selected_feature_data_mrmr, label_data, cv=5, scoring='neg_mean_squared_error')\n",
    "    total_scores.append(-score.mean())\n",
    "    total_std.append(score.std())\n",
    "\n",
    "# plot with error bars\n",
    "\n",
    "plt.plot(K, total_scores)\n",
    "plt.fill_between(K, [x - y for x, y in zip(total_scores, total_std)], [x + y for x, y in zip(total_scores, total_std)], alpha=0.2)\n",
    "plt.title('MRMR Feature Selection on MSE with palbociclib data (n=584)')\n",
    "plt.xlabel('Number of Features')\n",
    "# y axis begin at 0\n",
    "plt.ylim(bottom=0)\n",
    "plt.ylabel('Mean Squared Error')\n",
    "plt.grid(True)\n",
    "plt.show()"
   ]
  },
  {
   "cell_type": "code",
   "execution_count": 29,
   "metadata": {},
   "outputs": [
    {
     "name": "stdout",
     "output_type": "stream",
     "text": [
      "Feature Selected: 7560, Score: -1.706606339741647, Feature Size: 2\n",
      "Feature Selected: 7124, Score: -1.6436120929423201, Feature Size: 3\n",
      "Feature Selected: 5398, Score: -1.6009912581715167, Feature Size: 4\n",
      "Feature Selected: 6226, Score: -1.576551308628586, Feature Size: 5\n",
      "Feature Selected: 14792, Score: -1.5545310543271633, Feature Size: 6\n",
      "Feature Selected: 13058, Score: -1.5254470403849638, Feature Size: 7\n",
      "Feature Selected: 16507, Score: -1.5119628460589234, Feature Size: 8\n",
      "Feature Selected: 6970, Score: -1.505740588302098, Feature Size: 9\n",
      "Feature Selected: 8194, Score: -1.4899378940367674, Feature Size: 10\n",
      "Feature Selected: 2240, Score: -1.4832473798833261, Feature Size: 11\n",
      "Feature Selected: 8140, Score: -1.4739835476464502, Feature Size: 12\n",
      "Feature Selected: 15807, Score: -1.459629143540999, Feature Size: 13\n",
      "Feature Selected: 8090, Score: -1.4655012197493595, Feature Size: 14\n",
      "Feature Selected: 12122, Score: -1.458487648695942, Feature Size: 15\n",
      "Feature Selected: 1655, Score: -1.4633602622088016, Feature Size: 16\n",
      "Feature Selected: 8734, Score: -1.4671859863458634, Feature Size: 17\n",
      "Feature Selected: 16735, Score: -1.4741048081274708, Feature Size: 18\n",
      "Feature Selected: 6245, Score: -1.475412138086017, Feature Size: 19\n",
      "Feature Selected: 8168, Score: -1.4662011716321497, Feature Size: 20\n"
     ]
    }
   ],
   "source": [
    "# run greedy forward feature selection on filter based selected features\n",
    "\n",
    "gffs_feature_selected, successive_scores = greedy_forward_select(feature_data, label_data, 20, LinearSVR(), ranked_features, 'neg_mean_squared_error', cv_num=5, verbose=1)"
   ]
  },
  {
   "cell_type": "code",
   "execution_count": 30,
   "metadata": {},
   "outputs": [
    {
     "data": {
      "image/png": "[encoded data removed]",
      "text/plain": [
       "<Figure size 432x288 with 1 Axes>"
      ]
     },
     "metadata": {
      "needs_background": "light"
     },
     "output_type": "display_data"
    }
   ],
   "source": [
    "# plot with error bars\n",
    "\n",
    "import matplotlib.pyplot as plt\n",
    "\n",
    "gffs_feature_names = [feature_data.columns[i] for i in gffs_feature_selected]\n",
    "\n",
    "# invert successive_scores\n",
    "successive_scores = [-x for x in successive_scores]\n",
    "\n",
    "plt.bar(gffs_feature_names, successive_scores)\n",
    "plt.title('GFFS Feature Selection on MSE with palbociclib data (n=584)')\n",
    "plt.xticks(rotation=90)\n",
    "\n",
    "# show each bar value\n",
    "\n",
    "for i, v in enumerate(successive_scores):\n",
    "    # change v to 2 decimal places\n",
    "    v = round(v, 2)\n",
    "    plt.text(i, v, str(v), color='black', fontweight='bold', fontsize=6, ha='center', va='bottom', rotation=0)\n",
    "\n",
    "plt.show()"
   ]
  },
  {
   "cell_type": "code",
   "execution_count": 31,
   "metadata": {},
   "outputs": [
    {
     "name": "stdout",
     "output_type": "stream",
     "text": [
      "Iteration 1 selected PPIC score 22121132.165451527 remaining 19220 features\n",
      "Iteration 2 selected CELA2A score 83980.20393559842 remaining 19219 features\n",
      "Iteration 3 selected NWD1 score 4595.222986770851 remaining 19218 features\n",
      "Iteration 4 selected GLI1 score 1195.3388663691114 remaining 19217 features\n",
      "Iteration 5 selected SLC49A4 score 1023.787911536718 remaining 19216 features\n",
      "Iteration 6 selected RPL3 score 700.2496622792282 remaining 19215 features\n",
      "Iteration 7 selected AMOTL2 score 620.9156116941508 remaining 19214 features\n",
      "Iteration 8 selected LAMA5 score 537.1574529477324 remaining 19213 features\n",
      "Iteration 9 selected CARNMT1 score 505.52523237115287 remaining 19212 features\n",
      "Iteration 10 selected SDC4 score 537.4862732811785 remaining 19211 features\n",
      "Iteration 11 selected TUFT1 score 498.06030969716284 remaining 19210 features\n",
      "Iteration 12 selected WAS score 473.376975851769 remaining 19209 features\n",
      "Iteration 13 selected PXDC1 score 446.2845514086713 remaining 19208 features\n",
      "Iteration 14 selected PTPN7 score 421.2046146087348 remaining 19207 features\n",
      "Iteration 15 selected RPL10A score 399.66923640750844 remaining 19206 features\n",
      "Iteration 16 selected NCKAP1L score 397.50530098654394 remaining 19205 features\n",
      "Iteration 17 selected FCHO2 score 377.97855302044957 remaining 19204 features\n",
      "Iteration 18 selected SETDB2 score 377.0975544252021 remaining 19203 features\n",
      "Iteration 19 selected ARHGAP29 score 369.33339634953506 remaining 19202 features\n",
      "Iteration 20 selected CDKN2A score 358.49677311272205 remaining 19201 features\n"
     ]
    }
   ],
   "source": [
    "mrmr_feature_selected20, successive_scores = mrmr_select_fcq(feature_data, label_data, 20, verbose=1)"
   ]
  },
  {
   "cell_type": "code",
   "execution_count": 32,
   "metadata": {},
   "outputs": [
    {
     "name": "stdout",
     "output_type": "stream",
     "text": [
      "------ Naive test - linear regression\n",
      "linear regression, score: 1.4461633652373238, std: 0.14293487268732272\n",
      "------ Naive test - linear SVR\n",
      "linear SVR, score: 1.5176088621429449, std: 0.10135446338172095\n"
     ]
    }
   ],
   "source": [
    "# test on 20 features with naive test\n",
    "\n",
    "mrmr_feature_selected20_data = feature_data.iloc[:, mrmr_feature_selected20]\n",
    "\n",
    "naive_test_regression(mrmr_feature_selected20_data, label_data)"
   ]
  },
  {
   "cell_type": "code",
   "execution_count": 33,
   "metadata": {},
   "outputs": [
    {
     "name": "stdout",
     "output_type": "stream",
     "text": [
      "------ Naive test - linear regression\n",
      "linear regression, score: 1.494157425185024, std: 0.1917886010982544\n",
      "------ Naive test - linear SVR\n",
      "linear SVR, score: 1.5714571107857744, std: 0.27412238430052754\n"
     ]
    }
   ],
   "source": [
    "gffs_feature_selected_data = feature_data.iloc[:, gffs_feature_selected]\n",
    "\n",
    "naive_test_regression(gffs_feature_selected_data, label_data)"
   ]
  },
  {
   "attachments": {},
   "cell_type": "markdown",
   "metadata": {},
   "source": [
    "### Test 2"
   ]
  },
  {
   "cell_type": "code",
   "execution_count": null,
   "metadata": {},
   "outputs": [],
   "source": []
  }
 ],
 "metadata": {
  "kernelspec": {
   "display_name": "Python 3",
   "language": "python",
   "name": "python3"
  },
  "language_info": {
   "codemirror_mode": {
    "name": "ipython",
    "version": 3
   },
   "file_extension": ".py",
   "mimetype": "text/x-python",
   "name": "python",
   "nbconvert_exporter": "python",
   "pygments_lexer": "ipython3",
   "version": "3.8.10"
  },
  "orig_nbformat": 4,
  "vscode": {
   "interpreter": {
    "hash": "89988afa352c605b780a66809297c0ee01ffb47acd0679a8e47d11adec9ecd73"
   }
  }
 },
 "nbformat": 4,
 "nbformat_minor": 2
}
