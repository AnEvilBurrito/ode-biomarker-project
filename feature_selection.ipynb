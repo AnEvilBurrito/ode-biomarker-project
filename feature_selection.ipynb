{
 "cells": [
  {
   "attachments": {},
   "cell_type": "markdown",
   "metadata": {},
   "source": [
    "# Feature Selection"
   ]
  },
  {
   "attachments": {},
   "cell_type": "markdown",
   "metadata": {},
   "source": [
    "## Playground"
   ]
  },
  {
   "cell_type": "code",
   "execution_count": 1,
   "metadata": {},
   "outputs": [],
   "source": [
    "from sklearn.feature_selection import VarianceThreshold\n",
    "import pickle\n",
    "\n",
    "# Load ribociclib data from data/preprocessed \n",
    "\n",
    "with open('data/preprocessed/ribociclib_data.pkl', 'rb') as f:\n",
    "    ribociclib_data = pickle.load(f)"
   ]
  },
  {
   "cell_type": "code",
   "execution_count": 2,
   "metadata": {},
   "outputs": [
    {
     "name": "stdout",
     "output_type": "stream",
     "text": [
      "                  LN_IC50    CELLLINE    TSPAN6      TNMD      DPM1     SCYL3  \\\n",
      "SANGER_MODEL_ID                                                                 \n",
      "SIDM00872        4.254618  ACH-000859  5.296090  0.000000  6.794416  3.452859   \n",
      "SIDM00866        3.583018  ACH-000374  5.214125  0.000000  6.328047  3.168321   \n",
      "SIDM00885        4.023289  ACH-000111  5.241840  0.201634  5.615299  3.090853   \n",
      "SIDM00884        3.146215  ACH-000699  3.481557  0.000000  7.070389  2.341986   \n",
      "SIDM00877        6.135124  ACH-000196  4.349082  0.000000  6.479942  2.790772   \n",
      "\n",
      "                 C1orf112       FGR       CFH     FUCA2  ...      H3C2  \\\n",
      "SANGER_MODEL_ID                                          ...             \n",
      "SIDM00872        5.260778  0.042644  4.339137  5.833143  ...  1.827819   \n",
      "SIDM00866        4.654206  0.042644  0.432959  6.574102  ...  0.000000   \n",
      "SIDM00885        3.732269  0.084064  0.111031  4.026800  ...  0.632268   \n",
      "SIDM00884        3.679199  0.176323  3.420887  5.854494  ...  2.327687   \n",
      "SIDM00877        4.031219  0.070389  0.070389  4.682011  ...  0.400538   \n",
      "\n",
      "                     H3C3  AC098582.1  DUS4L-BCAP29  C8orf44-SGK3    ELOA3B  \\\n",
      "SANGER_MODEL_ID                                                               \n",
      "SIDM00872        0.000000    0.847997      1.704872      0.411426  0.000000   \n",
      "SIDM00866        0.000000    0.298658      1.584963      0.695994  0.000000   \n",
      "SIDM00885        0.000000    0.422233      1.250962      0.505891  0.111031   \n",
      "SIDM00884        0.226509    0.650765      2.477677      0.000000  0.000000   \n",
      "SIDM00877        0.084064    0.150560      1.823749      0.163499  0.042644   \n",
      "\n",
      "                   NPBWR1    ELOA3D     ELOA3      CDR1  \n",
      "SANGER_MODEL_ID                                          \n",
      "SIDM00872        1.063503  0.000000  0.000000  0.000000  \n",
      "SIDM00866        2.693766  0.000000  0.000000  0.000000  \n",
      "SIDM00885        0.070389  0.000000  0.111031  0.000000  \n",
      "SIDM00884        0.042644  0.000000  0.084064  0.000000  \n",
      "SIDM00877        0.097611  0.084064  0.042644  0.475085  \n",
      "\n",
      "[5 rows x 19223 columns]\n"
     ]
    }
   ],
   "source": [
    "print(ribociclib_data.head())"
   ]
  },
  {
   "cell_type": "code",
   "execution_count": 4,
   "metadata": {},
   "outputs": [],
   "source": [
    "# extract the feature data from the joined dataset\n",
    "\n",
    "feature_data = ribociclib_data.drop(columns=['LN_IC50'])\n",
    "feature_data.drop(columns=['CELLLINE'], inplace=True)\n",
    "\n",
    "# extract the label data from the joined dataset\n",
    "\n",
    "label_data = ribociclib_data['LN_IC50']"
   ]
  },
  {
   "cell_type": "code",
   "execution_count": 5,
   "metadata": {},
   "outputs": [
    {
     "name": "stdout",
     "output_type": "stream",
     "text": [
      "SIDM00872\n",
      "TSPAN6\n"
     ]
    }
   ],
   "source": [
    "# extract feature data index and column names\n",
    "\n",
    "row_index = feature_data.index\n",
    "\n",
    "print(row_index[0])\n",
    "\n",
    "col_index = feature_data.columns\n",
    "\n",
    "print(col_index[0])"
   ]
  },
  {
   "cell_type": "code",
   "execution_count": 6,
   "metadata": {},
   "outputs": [],
   "source": [
    "# convert feature data and label data to numpy array\n",
    "\n",
    "features_np = feature_data.to_numpy()\n",
    "labels_np = label_data.to_numpy()"
   ]
  },
  {
   "cell_type": "code",
   "execution_count": 6,
   "metadata": {},
   "outputs": [
    {
     "name": "stdout",
     "output_type": "stream",
     "text": [
      "Number of features with a variance greater than 0:  18992\n",
      "Features with a variance greater than 0:  Index(['TSPAN6', 'TNMD', 'DPM1', 'SCYL3', 'C1orf112', 'FGR', 'CFH', 'FUCA2',\n",
      "       'GCLC', 'NFYA',\n",
      "       ...\n",
      "       'H3C2', 'H3C3', 'AC098582.1', 'DUS4L-BCAP29', 'C8orf44-SGK3', 'ELOA3B',\n",
      "       'NPBWR1', 'ELOA3D', 'ELOA3', 'CDR1'],\n",
      "      dtype='object', length=18992)\n"
     ]
    }
   ],
   "source": [
    "# create a VarianceThreshold object\n",
    "\n",
    "varSel = VarianceThreshold(threshold=0)\n",
    "\n",
    "# fit the VarianceThreshold object to the feature data\n",
    "\n",
    "varSel.fit(features_np)\n",
    "\n",
    "# print the number of features that have a variance greater than 0\n",
    "\n",
    "print('Number of features with a variance greater than 0: ', varSel.get_support().sum())\n",
    "\n",
    "# print the names of the features that have a variance greater than 0\n",
    "\n",
    "print('Features with a variance greater than 0: ', col_index[varSel.get_support()])"
   ]
  },
  {
   "cell_type": "code",
   "execution_count": 7,
   "metadata": {},
   "outputs": [],
   "source": [
    "# Use MRMR and RFE to select features for the ribociclib dataset "
   ]
  },
  {
   "cell_type": "code",
   "execution_count": 6,
   "metadata": {},
   "outputs": [],
   "source": [
    "import pymrmr "
   ]
  },
  {
   "cell_type": "code",
   "execution_count": 16,
   "metadata": {},
   "outputs": [
    {
     "name": "stdout",
     "output_type": "stream",
     "text": [
      "(1000, 1000) (1000,)\n"
     ]
    }
   ],
   "source": [
    "# generate data using sklearn \n",
    "\n",
    "from sklearn.datasets import make_classification\n",
    "import pandas as pd\n",
    "\n",
    "# generate a random dataset\n",
    "\n",
    "X, y = make_classification(n_samples=1000, n_features=1000, n_informative=150, n_redundant=500, n_repeated=0, n_classes=2, n_clusters_per_class=2, weights=None, flip_y=0.01, class_sep=1.0, hypercube=True, shift=0.0, scale=1.0, shuffle=True, random_state=None)\n",
    "\n",
    "# print the shape of the feature data\n",
    "\n",
    "print(X.shape, y.shape)\n",
    "\n",
    "# convert X into pandas dataframe\n",
    "\n",
    "df = pd.DataFrame(X)\n",
    "\n",
    "# convert all the columns of X into string type\n",
    "\n",
    "df.columns = df.columns.astype(str)"
   ]
  },
  {
   "cell_type": "code",
   "execution_count": 17,
   "metadata": {},
   "outputs": [],
   "source": [
    "mrmr_fn = 100 \n",
    "\n",
    "# use MRMR to select the top 100 features\n",
    "\n",
    "mrmr_features = pymrmr.mRMR(df, 'MIQ', mrmr_fn)\n",
    "\n",
    "# print the selected features\n",
    "\n",
    "print(mrmr_features)"
   ]
  },
  {
   "cell_type": "code",
   "execution_count": 1,
   "metadata": {},
   "outputs": [
    {
     "name": "stdout",
     "output_type": "stream",
     "text": [
      "Features Count: 10, Time Taken: 0.4727134704589844, Sample Size: 1000, Feature Size: 100\n",
      "Features Count: 11, Time Taken: 0.5499444007873535, Sample Size: 1000, Feature Size: 100\n",
      "Features Count: 12, Time Taken: 0.6427302360534668, Sample Size: 1000, Feature Size: 100\n",
      "Features Count: 13, Time Taken: 0.739145040512085, Sample Size: 1000, Feature Size: 100\n",
      "Features Count: 14, Time Taken: 0.8765039443969727, Sample Size: 1000, Feature Size: 100\n",
      "Features Count: 15, Time Taken: 0.9761753082275391, Sample Size: 1000, Feature Size: 100\n",
      "Features Count: 16, Time Taken: 1.0809528827667236, Sample Size: 1000, Feature Size: 100\n",
      "Features Count: 17, Time Taken: 1.222367763519287, Sample Size: 1000, Feature Size: 100\n",
      "Features Count: 18, Time Taken: 1.329857349395752, Sample Size: 1000, Feature Size: 100\n",
      "Features Count: 19, Time Taken: 1.4787063598632812, Sample Size: 1000, Feature Size: 100\n",
      "Features Count: 20, Time Taken: 1.6409060955047607, Sample Size: 1000, Feature Size: 100\n",
      "Features Count: 21, Time Taken: 1.7600865364074707, Sample Size: 1000, Feature Size: 100\n",
      "Features Count: 22, Time Taken: 1.9147262573242188, Sample Size: 1000, Feature Size: 100\n",
      "Features Count: 23, Time Taken: 2.092534303665161, Sample Size: 1000, Feature Size: 100\n",
      "Features Count: 24, Time Taken: 2.2202773094177246, Sample Size: 1000, Feature Size: 100\n",
      "Features Count: 25, Time Taken: 2.3896090984344482, Sample Size: 1000, Feature Size: 100\n",
      "Features Count: 26, Time Taken: 2.562408208847046, Sample Size: 1000, Feature Size: 100\n",
      "Features Count: 27, Time Taken: 2.743692636489868, Sample Size: 1000, Feature Size: 100\n",
      "Features Count: 28, Time Taken: 2.8988447189331055, Sample Size: 1000, Feature Size: 100\n",
      "Features Count: 29, Time Taken: 3.052229404449463, Sample Size: 1000, Feature Size: 100\n",
      "Features Count: 30, Time Taken: 3.3357574939727783, Sample Size: 1000, Feature Size: 100\n",
      "Features Count: 31, Time Taken: 3.458597421646118, Sample Size: 1000, Feature Size: 100\n",
      "Features Count: 32, Time Taken: 3.66636323928833, Sample Size: 1000, Feature Size: 100\n",
      "Features Count: 33, Time Taken: 3.807196855545044, Sample Size: 1000, Feature Size: 100\n",
      "Features Count: 34, Time Taken: 4.113800287246704, Sample Size: 1000, Feature Size: 100\n",
      "Features Count: 35, Time Taken: 4.206179857254028, Sample Size: 1000, Feature Size: 100\n",
      "Features Count: 36, Time Taken: 4.432487726211548, Sample Size: 1000, Feature Size: 100\n",
      "Features Count: 37, Time Taken: 4.667004346847534, Sample Size: 1000, Feature Size: 100\n",
      "Features Count: 38, Time Taken: 4.857377290725708, Sample Size: 1000, Feature Size: 100\n",
      "Features Count: 39, Time Taken: 5.154555797576904, Sample Size: 1000, Feature Size: 100\n",
      "Features Count: 40, Time Taken: 5.279422998428345, Sample Size: 1000, Feature Size: 100\n",
      "Features Count: 41, Time Taken: 5.57293963432312, Sample Size: 1000, Feature Size: 100\n",
      "Features Count: 42, Time Taken: 5.697861671447754, Sample Size: 1000, Feature Size: 100\n",
      "Features Count: 43, Time Taken: 5.990844488143921, Sample Size: 1000, Feature Size: 100\n",
      "Features Count: 44, Time Taken: 6.143326044082642, Sample Size: 1000, Feature Size: 100\n",
      "Features Count: 45, Time Taken: 6.386937856674194, Sample Size: 1000, Feature Size: 100\n",
      "Features Count: 46, Time Taken: 6.590898275375366, Sample Size: 1000, Feature Size: 100\n",
      "Features Count: 47, Time Taken: 6.754346132278442, Sample Size: 1000, Feature Size: 100\n",
      "Features Count: 48, Time Taken: 7.06687593460083, Sample Size: 1000, Feature Size: 100\n",
      "Features Count: 49, Time Taken: 7.230886459350586, Sample Size: 1000, Feature Size: 100\n"
     ]
    },
    {
     "data": {
      "text/plain": [
       "[<matplotlib.lines.Line2D at 0x23734384400>]"
      ]
     },
     "execution_count": 1,
     "metadata": {},
     "output_type": "execute_result"
    },
    {
     "data": {
      "image/png": "[encoded data removed]",
      "text/plain": [
       "<Figure size 640x480 with 1 Axes>"
      ]
     },
     "metadata": {},
     "output_type": "display_data"
    }
   ],
   "source": [
    "import time \n",
    "\n",
    "# generate data using sklearn \n",
    "\n",
    "from sklearn.datasets import make_classification\n",
    "import pandas as pd\n",
    "import pymrmr \n",
    "\n",
    "n_samples = 1000\n",
    "n_features = 100\n",
    "n_informative = int(n_features * 0.15)\n",
    "n_redundant = int(n_features * 0.5)\n",
    "n_repeated = int(n_features * 0.1)\n",
    "mrmr_features = 10 \n",
    "\n",
    "X, y = make_classification(n_samples=n_samples, \n",
    "                           n_features=n_features, \n",
    "                           n_informative=n_informative, \n",
    "                           n_redundant=n_redundant, \n",
    "                           n_repeated=n_repeated, \n",
    "                           n_classes=2, n_clusters_per_class=2, weights=None, flip_y=0.01, class_sep=1.0, hypercube=True, shift=0.0, scale=1.0, shuffle=True, random_state=None)\n",
    "\n",
    "df = pd.DataFrame(X)\n",
    "# convert all the columns of X into string type\n",
    "df.columns = df.columns.astype(str)\n",
    "\n",
    "def measure_time(X, mrmr_features):\n",
    "    start_time = time.time()\n",
    "    mrmr_features = pymrmr.mRMR(df, 'MIQ', mrmr_features)\n",
    "    end_time = time.time()\n",
    "    return end_time - start_time\n",
    "\n",
    "# print the time taken to select the top 100 features using MRMR\n",
    "\n",
    "# print(f'Time taken to select the top {mrmr_features} features using MRMR: ', measure_time(X, mrmr_features))\n",
    "\n",
    "time_taken = []\n",
    "\n",
    "i = 10 \n",
    "max_sel = int(n_features/2) if int(n_features/2) else 100\n",
    "while i < max_sel:\n",
    "    t = measure_time(X, i)\n",
    "    time_taken.append(t)\n",
    "    print(f'Features Count: {i}, Time Taken: {t}, Sample Size: {n_samples}, Feature Size: {n_features}')\n",
    "    i += 1 \n",
    "\n",
    "import matplotlib.pyplot as plt \n",
    "\n",
    "plt.plot(time_taken)\n"
   ]
  },
  {
   "cell_type": "code",
   "execution_count": 12,
   "metadata": {},
   "outputs": [
    {
     "name": "stdout",
     "output_type": "stream",
     "text": [
      "Features Count: 10, Time Taken: 0.0469965934753418, Feature Size: 20\n",
      "Features Count: 10, Time Taken: 0.14049172401428223, Feature Size: 40\n",
      "Features Count: 10, Time Taken: 0.36102771759033203, Feature Size: 80\n",
      "Features Count: 10, Time Taken: 0.8814668655395508, Feature Size: 160\n",
      "Features Count: 10, Time Taken: 2.2891926765441895, Feature Size: 320\n",
      "Features Count: 10, Time Taken: 7.556275129318237, Feature Size: 640\n",
      "Features Count: 10, Time Taken: 60.10821747779846, Feature Size: 1280\n"
     ]
    }
   ],
   "source": [
    "import time \n",
    "\n",
    "# generate data using sklearn \n",
    "\n",
    "from sklearn.datasets import make_classification\n",
    "import pandas as pd\n",
    "import pymrmr \n",
    "\n",
    "\n",
    "def measure_time(mrmr_features, n_features):\n",
    "    n_samples = 1000\n",
    "    n_informative = int(n_features * 0.15)\n",
    "    n_redundant = int(n_features * 0.5)\n",
    "    n_repeated = int(n_features * 0.1)\n",
    "    mrmr_features = 10 \n",
    "\n",
    "    X, y = make_classification(n_samples=n_samples, \n",
    "                            n_features=n_features, \n",
    "                            n_informative=n_informative, \n",
    "                            n_redundant=n_redundant, \n",
    "                            n_repeated=n_repeated, \n",
    "                            n_classes=2, n_clusters_per_class=2, weights=None, flip_y=0.01, class_sep=1.0, hypercube=True, shift=0.0, scale=1.0, shuffle=True, random_state=None)\n",
    "    df = pd.DataFrame(X)\n",
    "    # convert all the columns of X into string type\n",
    "    df.columns = df.columns.astype(str)\n",
    "    start_time = time.time()\n",
    "    mrmr_features = pymrmr.mRMR(df, 'MIQ', mrmr_features)\n",
    "    end_time = time.time()\n",
    "    return end_time - start_time\n",
    "\n",
    "# print the time taken to select the top 100 features using MRMR\n",
    "\n",
    "# print(f'Time taken to select the top {mrmr_features} features using MRMR: ', measure_time(X, mrmr_features))\n",
    "\n",
    "time_taken = []\n",
    "\n",
    "i = 20\n",
    "max_sel = 2000\n",
    "while i < max_sel:\n",
    "    t = measure_time(10, i)\n",
    "    time_taken.append(t)\n",
    "    print(f'Features Count: 10, Time Taken: {t}, Feature Size: {i}')\n",
    "    i = i * 2\n",
    "\n",
    "\n"
   ]
  },
  {
   "cell_type": "code",
   "execution_count": 14,
   "metadata": {},
   "outputs": [
    {
     "data": {
      "text/plain": [
       "[<matplotlib.lines.Line2D at 0x2213d78d580>]"
      ]
     },
     "execution_count": 14,
     "metadata": {},
     "output_type": "execute_result"
    },
    {
     "data": {
      "image/png": "[encoded data removed]",
      "text/plain": [
       "<Figure size 640x480 with 1 Axes>"
      ]
     },
     "metadata": {},
     "output_type": "display_data"
    }
   ],
   "source": [
    "import matplotlib.pyplot as plt \n",
    "\n",
    "plt.title('Feature Count vs Time for PyMRMR Performance (Selecting 10 features)')\n",
    "plt.xlabel('Feature Size')\n",
    "plt.ylabel('Time (seconds)')\n",
    "plt.plot([20,40,80,160,320,640,1280], time_taken)\n"
   ]
  },
  {
   "cell_type": "code",
   "execution_count": 8,
   "metadata": {},
   "outputs": [],
   "source": [
    "# Use MRMR to select the top 10 features\n",
    "\n",
    "mrmr_feature_number = 10\n",
    "\n",
    "mrmr_features = pymrmr.mRMR(feature_data, 'MIQ', mrmr_feature_number)\n",
    "\n",
    "# print the names of the features selected by MRMR\n",
    "\n",
    "print('Features selected by MRMR: ', mrmr_features)"
   ]
  },
  {
   "cell_type": "code",
   "execution_count": null,
   "metadata": {},
   "outputs": [],
   "source": []
  },
  {
   "cell_type": "code",
   "execution_count": 19,
   "metadata": {},
   "outputs": [
    {
     "name": "stdout",
     "output_type": "stream",
     "text": [
      "Fitting estimator with 19221 features.\n",
      "Fitting estimator with 19220 features.\n",
      "Fitting estimator with 19219 features.\n",
      "Fitting estimator with 19218 features.\n",
      "Fitting estimator with 19217 features.\n",
      "Fitting estimator with 19216 features.\n",
      "Fitting estimator with 19215 features.\n",
      "Fitting estimator with 19214 features.\n",
      "Fitting estimator with 19213 features.\n",
      "Fitting estimator with 19212 features.\n",
      "Fitting estimator with 19211 features.\n",
      "Fitting estimator with 19210 features.\n"
     ]
    },
    {
     "ename": "KeyboardInterrupt",
     "evalue": "",
     "output_type": "error",
     "traceback": [
      "\u001b[1;31m---------------------------------------------------------------------------\u001b[0m",
      "\u001b[1;31mKeyboardInterrupt\u001b[0m                         Traceback (most recent call last)",
      "Cell \u001b[1;32mIn [19], line 16\u001b[0m\n\u001b[0;32m     12\u001b[0m rfe_estimator\u001b[39m.\u001b[39mfit(features_np, labels_np)\n\u001b[0;32m     14\u001b[0m rfe_selector \u001b[39m=\u001b[39m RFE(rfe_estimator, n_features_to_select\u001b[39m=\u001b[39mrfe_feature_number, step\u001b[39m=\u001b[39m\u001b[39m1\u001b[39m, verbose\u001b[39m=\u001b[39m\u001b[39m3\u001b[39m)\n\u001b[1;32m---> 16\u001b[0m rfe_selector \u001b[39m=\u001b[39m rfe_selector\u001b[39m.\u001b[39mfit(features_np, labels_np)\n\u001b[0;32m     18\u001b[0m \u001b[39m# print the names of the features selected by RFE\u001b[39;00m\n\u001b[0;32m     20\u001b[0m \u001b[39mprint\u001b[39m(\u001b[39m'\u001b[39m\u001b[39mFeatures selected by RFE: \u001b[39m\u001b[39m'\u001b[39m, col_index[rfe_selector\u001b[39m.\u001b[39msupport_])\n",
      "File \u001b[1;32mc:\\Github\\ode-biomarker-project\\dynamic-marker\\lib\\site-packages\\sklearn\\feature_selection\\_rfe.py:235\u001b[0m, in \u001b[0;36mRFE.fit\u001b[1;34m(self, X, y, **fit_params)\u001b[0m\n\u001b[0;32m    215\u001b[0m \u001b[39mdef\u001b[39;00m \u001b[39mfit\u001b[39m(\u001b[39mself\u001b[39m, X, y, \u001b[39m*\u001b[39m\u001b[39m*\u001b[39mfit_params):\n\u001b[0;32m    216\u001b[0m     \u001b[39m\"\"\"Fit the RFE model and then the underlying estimator on the selected features.\u001b[39;00m\n\u001b[0;32m    217\u001b[0m \n\u001b[0;32m    218\u001b[0m \u001b[39m    Parameters\u001b[39;00m\n\u001b[1;32m   (...)\u001b[0m\n\u001b[0;32m    233\u001b[0m \u001b[39m        Fitted estimator.\u001b[39;00m\n\u001b[0;32m    234\u001b[0m \u001b[39m    \"\"\"\u001b[39;00m\n\u001b[1;32m--> 235\u001b[0m     \u001b[39mreturn\u001b[39;00m \u001b[39mself\u001b[39;49m\u001b[39m.\u001b[39;49m_fit(X, y, \u001b[39m*\u001b[39;49m\u001b[39m*\u001b[39;49mfit_params)\n",
      "File \u001b[1;32mc:\\Github\\ode-biomarker-project\\dynamic-marker\\lib\\site-packages\\sklearn\\feature_selection\\_rfe.py:296\u001b[0m, in \u001b[0;36mRFE._fit\u001b[1;34m(self, X, y, step_score, **fit_params)\u001b[0m\n\u001b[0;32m    293\u001b[0m \u001b[39mif\u001b[39;00m \u001b[39mself\u001b[39m\u001b[39m.\u001b[39mverbose \u001b[39m>\u001b[39m \u001b[39m0\u001b[39m:\n\u001b[0;32m    294\u001b[0m     \u001b[39mprint\u001b[39m(\u001b[39m\"\u001b[39m\u001b[39mFitting estimator with \u001b[39m\u001b[39m%d\u001b[39;00m\u001b[39m features.\u001b[39m\u001b[39m\"\u001b[39m \u001b[39m%\u001b[39m np\u001b[39m.\u001b[39msum(support_))\n\u001b[1;32m--> 296\u001b[0m estimator\u001b[39m.\u001b[39;49mfit(X[:, features], y, \u001b[39m*\u001b[39;49m\u001b[39m*\u001b[39;49mfit_params)\n\u001b[0;32m    298\u001b[0m \u001b[39m# Get importance and rank them\u001b[39;00m\n\u001b[0;32m    299\u001b[0m importances \u001b[39m=\u001b[39m _get_feature_importances(\n\u001b[0;32m    300\u001b[0m     estimator,\n\u001b[0;32m    301\u001b[0m     \u001b[39mself\u001b[39m\u001b[39m.\u001b[39mimportance_getter,\n\u001b[0;32m    302\u001b[0m     transform_func\u001b[39m=\u001b[39m\u001b[39m\"\u001b[39m\u001b[39msquare\u001b[39m\u001b[39m\"\u001b[39m,\n\u001b[0;32m    303\u001b[0m )\n",
      "File \u001b[1;32mc:\\Github\\ode-biomarker-project\\dynamic-marker\\lib\\site-packages\\sklearn\\svm\\_classes.py:489\u001b[0m, in \u001b[0;36mLinearSVR.fit\u001b[1;34m(self, X, y, sample_weight)\u001b[0m\n\u001b[0;32m    480\u001b[0m X, y \u001b[39m=\u001b[39m \u001b[39mself\u001b[39m\u001b[39m.\u001b[39m_validate_data(\n\u001b[0;32m    481\u001b[0m     X,\n\u001b[0;32m    482\u001b[0m     y,\n\u001b[1;32m   (...)\u001b[0m\n\u001b[0;32m    486\u001b[0m     accept_large_sparse\u001b[39m=\u001b[39m\u001b[39mFalse\u001b[39;00m,\n\u001b[0;32m    487\u001b[0m )\n\u001b[0;32m    488\u001b[0m penalty \u001b[39m=\u001b[39m \u001b[39m\"\u001b[39m\u001b[39ml2\u001b[39m\u001b[39m\"\u001b[39m  \u001b[39m# SVR only accepts l2 penalty\u001b[39;00m\n\u001b[1;32m--> 489\u001b[0m \u001b[39mself\u001b[39m\u001b[39m.\u001b[39mcoef_, \u001b[39mself\u001b[39m\u001b[39m.\u001b[39mintercept_, n_iter_ \u001b[39m=\u001b[39m _fit_liblinear(\n\u001b[0;32m    490\u001b[0m     X,\n\u001b[0;32m    491\u001b[0m     y,\n\u001b[0;32m    492\u001b[0m     \u001b[39mself\u001b[39;49m\u001b[39m.\u001b[39;49mC,\n\u001b[0;32m    493\u001b[0m     \u001b[39mself\u001b[39;49m\u001b[39m.\u001b[39;49mfit_intercept,\n\u001b[0;32m    494\u001b[0m     \u001b[39mself\u001b[39;49m\u001b[39m.\u001b[39;49mintercept_scaling,\n\u001b[0;32m    495\u001b[0m     \u001b[39mNone\u001b[39;49;00m,\n\u001b[0;32m    496\u001b[0m     penalty,\n\u001b[0;32m    497\u001b[0m     \u001b[39mself\u001b[39;49m\u001b[39m.\u001b[39;49mdual,\n\u001b[0;32m    498\u001b[0m     \u001b[39mself\u001b[39;49m\u001b[39m.\u001b[39;49mverbose,\n\u001b[0;32m    499\u001b[0m     \u001b[39mself\u001b[39;49m\u001b[39m.\u001b[39;49mmax_iter,\n\u001b[0;32m    500\u001b[0m     \u001b[39mself\u001b[39;49m\u001b[39m.\u001b[39;49mtol,\n\u001b[0;32m    501\u001b[0m     \u001b[39mself\u001b[39;49m\u001b[39m.\u001b[39;49mrandom_state,\n\u001b[0;32m    502\u001b[0m     loss\u001b[39m=\u001b[39;49m\u001b[39mself\u001b[39;49m\u001b[39m.\u001b[39;49mloss,\n\u001b[0;32m    503\u001b[0m     epsilon\u001b[39m=\u001b[39;49m\u001b[39mself\u001b[39;49m\u001b[39m.\u001b[39;49mepsilon,\n\u001b[0;32m    504\u001b[0m     sample_weight\u001b[39m=\u001b[39;49msample_weight,\n\u001b[0;32m    505\u001b[0m )\n\u001b[0;32m    506\u001b[0m \u001b[39mself\u001b[39m\u001b[39m.\u001b[39mcoef_ \u001b[39m=\u001b[39m \u001b[39mself\u001b[39m\u001b[39m.\u001b[39mcoef_\u001b[39m.\u001b[39mravel()\n\u001b[0;32m    507\u001b[0m \u001b[39m# Backward compatibility: _fit_liblinear is used both by LinearSVC/R\u001b[39;00m\n\u001b[0;32m    508\u001b[0m \u001b[39m# and LogisticRegression but LogisticRegression sets a structured\u001b[39;00m\n\u001b[0;32m    509\u001b[0m \u001b[39m# `n_iter_` attribute with information about the underlying OvR fits\u001b[39;00m\n\u001b[0;32m    510\u001b[0m \u001b[39m# while LinearSVC/R only reports the maximum value.\u001b[39;00m\n",
      "File \u001b[1;32mc:\\Github\\ode-biomarker-project\\dynamic-marker\\lib\\site-packages\\sklearn\\svm\\_base.py:1205\u001b[0m, in \u001b[0;36m_fit_liblinear\u001b[1;34m(X, y, C, fit_intercept, intercept_scaling, class_weight, penalty, dual, verbose, max_iter, tol, random_state, multi_class, loss, epsilon, sample_weight)\u001b[0m\n\u001b[0;32m   1202\u001b[0m sample_weight \u001b[39m=\u001b[39m _check_sample_weight(sample_weight, X, dtype\u001b[39m=\u001b[39mnp\u001b[39m.\u001b[39mfloat64)\n\u001b[0;32m   1204\u001b[0m solver_type \u001b[39m=\u001b[39m _get_liblinear_solver_type(multi_class, penalty, loss, dual)\n\u001b[1;32m-> 1205\u001b[0m raw_coef_, n_iter_ \u001b[39m=\u001b[39m liblinear\u001b[39m.\u001b[39;49mtrain_wrap(\n\u001b[0;32m   1206\u001b[0m     X,\n\u001b[0;32m   1207\u001b[0m     y_ind,\n\u001b[0;32m   1208\u001b[0m     sp\u001b[39m.\u001b[39;49misspmatrix(X),\n\u001b[0;32m   1209\u001b[0m     solver_type,\n\u001b[0;32m   1210\u001b[0m     tol,\n\u001b[0;32m   1211\u001b[0m     bias,\n\u001b[0;32m   1212\u001b[0m     C,\n\u001b[0;32m   1213\u001b[0m     class_weight_,\n\u001b[0;32m   1214\u001b[0m     max_iter,\n\u001b[0;32m   1215\u001b[0m     rnd\u001b[39m.\u001b[39;49mrandint(np\u001b[39m.\u001b[39;49miinfo(\u001b[39m\"\u001b[39;49m\u001b[39mi\u001b[39;49m\u001b[39m\"\u001b[39;49m)\u001b[39m.\u001b[39;49mmax),\n\u001b[0;32m   1216\u001b[0m     epsilon,\n\u001b[0;32m   1217\u001b[0m     sample_weight,\n\u001b[0;32m   1218\u001b[0m )\n\u001b[0;32m   1219\u001b[0m \u001b[39m# Regarding rnd.randint(..) in the above signature:\u001b[39;00m\n\u001b[0;32m   1220\u001b[0m \u001b[39m# seed for srand in range [0..INT_MAX); due to limitations in Numpy\u001b[39;00m\n\u001b[0;32m   1221\u001b[0m \u001b[39m# on 32-bit platforms, we can't get to the UINT_MAX limit that\u001b[39;00m\n\u001b[0;32m   1222\u001b[0m \u001b[39m# srand supports\u001b[39;00m\n\u001b[0;32m   1223\u001b[0m n_iter_max \u001b[39m=\u001b[39m \u001b[39mmax\u001b[39m(n_iter_)\n",
      "\u001b[1;31mKeyboardInterrupt\u001b[0m: "
     ]
    }
   ],
   "source": [
    "from sklearn.feature_selection import RFE\n",
    "from sklearn.svm import LinearSVR\n",
    "\n",
    "# import svm\n",
    "\n",
    "\n",
    "# Use RFE to select the top 10 features\n",
    "\n",
    "rfe_feature_number = 100\n",
    "\n",
    "rfe_estimator = LinearSVR()\n",
    "rfe_estimator.fit(features_np, labels_np)\n",
    "\n",
    "rfe_selector = RFE(rfe_estimator, n_features_to_select=rfe_feature_number, step=1, verbose=1)\n",
    "\n",
    "rfe_selector = rfe_selector.fit(features_np, labels_np)\n",
    "\n",
    "# print the names of the features selected by RFE\n",
    "\n",
    "print('Features selected by RFE: ', col_index[rfe_selector.support_])\n"
   ]
  },
  {
   "cell_type": "code",
   "execution_count": 10,
   "metadata": {},
   "outputs": [],
   "source": [
    "# refine the feature data using the features selected by MRMR and RFE\n",
    "\n",
    "rfe_features = col_index[rfe_selector.support_]\n",
    "\n",
    "# print(rfe_features)\n",
    "\n",
    "# print(feature_data.shape)\n",
    "\n",
    "selected_feature_data = feature_data[rfe_features]"
   ]
  },
  {
   "cell_type": "code",
   "execution_count": 24,
   "metadata": {},
   "outputs": [],
   "source": [
    "# using both MRMR and RFE to select features \n",
    "\n",
    "import pymrmr \n",
    "from sklearn.feature_selection import RFECV\n",
    "from sklearn.svm import LinearSVR\n",
    "\n",
    "# Use MRMR to select the top 100 features\n",
    "\n",
    "mrmr_feature_number = 100\n",
    "\n",
    "mrmr_features = pymrmr.mRMR(feature_data, 'MIQ', mrmr_feature_number)\n",
    "\n",
    "mrmr_selected_feature_data = feature_data[mrmr_features]\n",
    "\n",
    "print(mrmr_selected_feature_data.shape)\n",
    "\n",
    "# Use RFE to select the top 10 features from MRMR features\n",
    "\n",
    "rfe_feature_number = 10\n",
    "\n",
    "rfe_estimator = LinearSVR()\n",
    "\n",
    "rfe_selector = RFECV(rfe_estimator, n_features_to_select=rfe_feature_number, step=1, verbose=1, cv=5)\n",
    "\n",
    "rfe_selector = rfe_selector.fit(mrmr_selected_feature_data, labels_np)\n",
    "\n",
    "# print the names of the features selected by RFE\n",
    "\n",
    "print('Features selected by RFE: ', feature_data[rfe_selector.support_])\n",
    "\n",
    "# refine the feature data using the features selected by MRMR and RFE\n",
    "\n",
    "rfe_features = feature_data[rfe_selector.support_]"
   ]
  },
  {
   "cell_type": "code",
   "execution_count": 7,
   "metadata": {},
   "outputs": [
    {
     "name": "stdout",
     "output_type": "stream",
     "text": [
      "5.2064819744586776e-30\n",
      "2.031417993992855\n"
     ]
    }
   ],
   "source": [
    "# A quick prediction using the all features\n",
    "\n",
    "# get prediction accuracy for the ribociclib dataset using the selected features\n",
    "\n",
    "from sklearn.model_selection import train_test_split\n",
    "from sklearn.linear_model import LinearRegression\n",
    "\n",
    "# split the data into training and testing sets\n",
    "\n",
    "X_train, X_test, y_train, y_test = train_test_split(feature_data, label_data, test_size=0.2, random_state=42)\n",
    "\n",
    "# create a LinearSVR object\n",
    "\n",
    "svr = LinearRegression()\n",
    "\n",
    "# fit the LinearSVR object to the training data\n",
    "\n",
    "svr.fit(X_train, y_train)\n",
    "\n",
    "# print the prediction accuracy for the training data via MSE \n",
    "\n",
    "from sklearn.metrics import mean_squared_error\n",
    "\n",
    "score = mean_squared_error(y_train, svr.predict(X_train))\n",
    "\n",
    "print(score)\n",
    "\n",
    "# print the prediction accuracy for the testing data via MSE\n",
    "\n",
    "score_test = mean_squared_error(y_test, svr.predict(X_test))\n",
    "\n",
    "print(score_test)"
   ]
  },
  {
   "attachments": {},
   "cell_type": "markdown",
   "metadata": {},
   "source": [
    "Implementing GFFS (Greedy Forward Feature Selection) - A re-implementation in Python"
   ]
  },
  {
   "cell_type": "code",
   "execution_count": 14,
   "metadata": {},
   "outputs": [
    {
     "name": "stdout",
     "output_type": "stream",
     "text": [
      "(44, 100)\n",
      "[10.82627678 15.92844663 13.71697482  9.95307355 12.13242575 10.02079788\n",
      " 19.75970755 11.90586857 11.22664203 12.33704868  9.48603855  9.8415579\n",
      " 10.81133646  9.37640248  9.6787931  24.05328882  9.2083788  11.9992517\n",
      "  9.78245435  9.59244357  9.715793   11.30495425 11.00389816  9.71452309\n",
      " 22.02057141 10.677195   10.03519764 12.70750482 11.35548111  9.64648155\n",
      " 12.34158029 23.2071735   9.75107191  9.45111478  9.60400579 12.41447586\n",
      "  9.31145859  9.5312938   9.76527142 10.89872446  9.64590581  9.20248742\n",
      " 13.75909631 13.24306591 14.72834766  9.93772295 14.84494037 15.14213456\n",
      " 14.11271046 10.93071752 14.98189937 10.50886893 11.23182619 11.72389423\n",
      "  9.75146395  9.49045437  9.23285322 13.58738927  9.48121941  9.28324863\n",
      "  9.31968651 10.02964415  9.21877019 10.40267397  9.54049067  9.97512081\n",
      " 11.32237901  9.43377427 16.91962829 13.16292931 10.79988364  9.6006379\n",
      " 14.81284152  9.16664525 10.17815735 11.65222173 11.48227486 11.52191749\n",
      " 10.19194921 10.84247435 10.70292841 11.87784104 12.15552567 10.79223482\n",
      " 17.19209104 13.40276935  9.33609035  9.45374038 12.23188717  9.60884143\n",
      "  9.35704728  9.68955193  9.17759771  9.50960026 15.16067699 12.1721096\n",
      " 12.26423197  9.57559696 11.90582274  9.99548488]\n",
      "[2.03194404e-03 2.58541747e-04 6.14112052e-04 2.96581472e-03\n",
      " 1.17157699e-03 2.87921694e-03 6.30428309e-05 1.28741190e-03\n",
      " 1.71319035e-03 1.07640092e-03 3.64352951e-03 3.11447617e-03\n",
      " 2.04499077e-03 3.82530230e-03 3.34579926e-03 1.45109267e-05\n",
      " 4.12279403e-03 1.23826502e-03 3.19645097e-03 3.47585359e-03\n",
      " 3.29166050e-03 1.65727698e-03 1.88340849e-03 3.29350317e-03\n",
      " 2.86952498e-05 2.16617966e-03 2.86115202e-03 9.24264354e-04\n",
      " 1.62222838e-03 3.39385032e-03 1.07438795e-03 1.92184993e-05\n",
      " 3.24090425e-03 3.70041644e-03 3.45813276e-03 1.04254778e-03\n",
      " 3.93749398e-03 3.57118988e-03 3.22070998e-03 1.96991579e-03\n",
      " 3.39471312e-03 4.13366042e-03 6.03844386e-04 7.43195204e-04\n",
      " 4.11387560e-04 2.98582429e-03 3.93036034e-04 3.50052106e-04\n",
      " 5.24462966e-04 1.94316458e-03 3.72574806e-04 2.32910274e-03\n",
      " 1.70942801e-03 1.38920134e-03 3.24034491e-03 3.63640296e-03\n",
      " 4.07797558e-03 6.46871044e-04 3.65132388e-03 3.98731005e-03\n",
      " 3.92308899e-03 2.86810476e-03 4.10370142e-03 2.43852373e-03\n",
      " 3.55667599e-03 2.93732423e-03 1.64510049e-03 3.72901155e-03\n",
      " 1.77661188e-04 7.67714317e-04 2.05505202e-03 3.46328465e-03\n",
      " 3.98000653e-04 4.20042813e-03 2.68818217e-03 1.43159639e-03\n",
      " 1.53768201e-03 1.51221413e-03 2.67209109e-03 2.01789885e-03\n",
      " 2.14235495e-03 1.30256148e-03 1.16040093e-03 2.06180063e-03\n",
      " 1.60457588e-04 6.96761984e-04 3.89453662e-03 3.69610706e-03\n",
      " 1.12425058e-03 3.45074986e-03 3.85837961e-03 3.32996012e-03\n",
      " 4.17990499e-03 3.60567461e-03 3.47539945e-04 1.15244686e-03\n",
      " 1.10929859e-03 3.50184610e-03 1.28743653e-03 2.91126640e-03]\n",
      "[   25    59   307   492  1118  1273  1368  1469  1789  1840  1926  2650\n",
      "  2806  2862  2868  3720  4275  4557  4817  5339  5463  5642  5827  6043\n",
      "  6183  6290  6561  6625  6629  7350  8108  8182  8424  8593  8850  8949\n",
      "  9171  9735  9767 10040 10070 10439 10604 10627 10752 11086 11092 11230\n",
      " 11308 11436 11563 12068 12147 12361 12449 12538 12541 12543 12546 12584\n",
      " 12610 12623 12650 12753 12833 12917 13001 13696 13848 13882 13971 14604\n",
      " 14748 15190 15484 15615 15709 15758 15788 16305 16653 16674 16720 16745\n",
      " 16792 16881 17726 17773 17831 17987 18139 18241 18269 18443 18564 18835\n",
      " 18955 19096 19146 19198]\n"
     ]
    }
   ],
   "source": [
    "# First apply filter based strategy, Shin et al 2023 used ANOVA based strategy for categorical label variables. \n",
    "# Here we are interested in numerical label variables, therefore we use Pearson's correlation coefficient \n",
    "# via f_regression\n",
    "\n",
    "from sklearn.feature_selection import SelectKBest\n",
    "from sklearn.feature_selection import f_regression\n",
    "\n",
    "# define feature selection\n",
    "fs = SelectKBest(score_func=f_regression, k=100)\n",
    "# apply feature selection\n",
    "pearson_fs_feature = fs.fit_transform(feature_data, label_data)\n",
    "print(pearson_fs_feature.shape)\n",
    "\n",
    "scores, pval = fs.scores_, fs.pvalues_\n",
    "support = fs.get_support(indices=True)\n",
    "print(scores[support])\n",
    "print(pval[support])\n",
    "print(support)"
   ]
  },
  {
   "cell_type": "code",
   "execution_count": null,
   "metadata": {},
   "outputs": [],
   "source": []
  },
  {
   "attachments": {},
   "cell_type": "markdown",
   "metadata": {},
   "source": [
    "Implementing the MRMR Algorithm "
   ]
  },
  {
   "cell_type": "code",
   "execution_count": null,
   "metadata": {},
   "outputs": [],
   "source": []
  },
  {
   "attachments": {},
   "cell_type": "markdown",
   "metadata": {},
   "source": [
    "## Streamline"
   ]
  },
  {
   "cell_type": "code",
   "execution_count": null,
   "metadata": {},
   "outputs": [],
   "source": []
  }
 ],
 "metadata": {
  "kernelspec": {
   "display_name": "Python 3",
   "language": "python",
   "name": "python3"
  },
  "language_info": {
   "codemirror_mode": {
    "name": "ipython",
    "version": 3
   },
   "file_extension": ".py",
   "mimetype": "text/x-python",
   "name": "python",
   "nbconvert_exporter": "python",
   "pygments_lexer": "ipython3",
   "version": "3.8.10"
  },
  "orig_nbformat": 4,
  "vscode": {
   "interpreter": {
    "hash": "89988afa352c605b780a66809297c0ee01ffb47acd0679a8e47d11adec9ecd73"
   }
  }
 },
 "nbformat": 4,
 "nbformat_minor": 2
}
