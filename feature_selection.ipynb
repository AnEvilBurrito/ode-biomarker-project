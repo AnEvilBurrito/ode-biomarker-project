{
 "cells": [
  {
   "attachments": {},
   "cell_type": "markdown",
   "metadata": {},
   "source": [
    "# Feature Selection"
   ]
  },
  {
   "attachments": {},
   "cell_type": "markdown",
   "metadata": {},
   "source": [
    "## Playground"
   ]
  },
  {
   "cell_type": "code",
   "execution_count": 1,
   "metadata": {},
   "outputs": [],
   "source": [
    "from sklearn.feature_selection import VarianceThreshold\n",
    "import pickle\n",
    "\n",
    "# Load ribociclib data from data/preprocessed \n",
    "\n",
    "with open('data/preprocessed/ribociclib_data.pkl', 'rb') as f:\n",
    "    ribociclib_data = pickle.load(f)"
   ]
  },
  {
   "cell_type": "code",
   "execution_count": 2,
   "metadata": {},
   "outputs": [
    {
     "name": "stdout",
     "output_type": "stream",
     "text": [
      "                  LN_IC50    CELLLINE    TSPAN6      TNMD      DPM1     SCYL3  \\\n",
      "SANGER_MODEL_ID                                                                 \n",
      "SIDM00872        4.254618  ACH-000859  5.296090  0.000000  6.794416  3.452859   \n",
      "SIDM00866        3.583018  ACH-000374  5.214125  0.000000  6.328047  3.168321   \n",
      "SIDM00885        4.023289  ACH-000111  5.241840  0.201634  5.615299  3.090853   \n",
      "SIDM00884        3.146215  ACH-000699  3.481557  0.000000  7.070389  2.341986   \n",
      "SIDM00877        6.135124  ACH-000196  4.349082  0.000000  6.479942  2.790772   \n",
      "\n",
      "                 C1orf112       FGR       CFH     FUCA2  ...      H3C2  \\\n",
      "SANGER_MODEL_ID                                          ...             \n",
      "SIDM00872        5.260778  0.042644  4.339137  5.833143  ...  1.827819   \n",
      "SIDM00866        4.654206  0.042644  0.432959  6.574102  ...  0.000000   \n",
      "SIDM00885        3.732269  0.084064  0.111031  4.026800  ...  0.632268   \n",
      "SIDM00884        3.679199  0.176323  3.420887  5.854494  ...  2.327687   \n",
      "SIDM00877        4.031219  0.070389  0.070389  4.682011  ...  0.400538   \n",
      "\n",
      "                     H3C3  AC098582.1  DUS4L-BCAP29  C8orf44-SGK3    ELOA3B  \\\n",
      "SANGER_MODEL_ID                                                               \n",
      "SIDM00872        0.000000    0.847997      1.704872      0.411426  0.000000   \n",
      "SIDM00866        0.000000    0.298658      1.584963      0.695994  0.000000   \n",
      "SIDM00885        0.000000    0.422233      1.250962      0.505891  0.111031   \n",
      "SIDM00884        0.226509    0.650765      2.477677      0.000000  0.000000   \n",
      "SIDM00877        0.084064    0.150560      1.823749      0.163499  0.042644   \n",
      "\n",
      "                   NPBWR1    ELOA3D     ELOA3      CDR1  \n",
      "SANGER_MODEL_ID                                          \n",
      "SIDM00872        1.063503  0.000000  0.000000  0.000000  \n",
      "SIDM00866        2.693766  0.000000  0.000000  0.000000  \n",
      "SIDM00885        0.070389  0.000000  0.111031  0.000000  \n",
      "SIDM00884        0.042644  0.000000  0.084064  0.000000  \n",
      "SIDM00877        0.097611  0.084064  0.042644  0.475085  \n",
      "\n",
      "[5 rows x 19223 columns]\n"
     ]
    }
   ],
   "source": [
    "print(ribociclib_data.head())"
   ]
  },
  {
   "cell_type": "code",
   "execution_count": 3,
   "metadata": {},
   "outputs": [],
   "source": [
    "# extract the feature data from the joined dataset\n",
    "\n",
    "feature_data = ribociclib_data.drop(columns=['LN_IC50'])\n",
    "feature_data.drop(columns=['CELLLINE'], inplace=True)\n",
    "\n",
    "# extract the label data from the joined dataset\n",
    "\n",
    "label_data = ribociclib_data['LN_IC50']"
   ]
  },
  {
   "cell_type": "code",
   "execution_count": 4,
   "metadata": {},
   "outputs": [
    {
     "name": "stdout",
     "output_type": "stream",
     "text": [
      "SIDM00872\n",
      "TSPAN6\n"
     ]
    }
   ],
   "source": [
    "# extract feature data index and column names\n",
    "\n",
    "row_index = feature_data.index\n",
    "\n",
    "print(row_index[0])\n",
    "\n",
    "col_index = feature_data.columns\n",
    "\n",
    "print(col_index[0])"
   ]
  },
  {
   "cell_type": "code",
   "execution_count": 5,
   "metadata": {},
   "outputs": [],
   "source": [
    "# convert feature data and label data to numpy array\n",
    "\n",
    "features_np = feature_data.to_numpy()\n",
    "labels_np = label_data.to_numpy()"
   ]
  },
  {
   "cell_type": "code",
   "execution_count": 6,
   "metadata": {},
   "outputs": [
    {
     "name": "stdout",
     "output_type": "stream",
     "text": [
      "Number of features with a variance greater than 0:  18992\n",
      "Features with a variance greater than 0:  Index(['TSPAN6', 'TNMD', 'DPM1', 'SCYL3', 'C1orf112', 'FGR', 'CFH', 'FUCA2',\n",
      "       'GCLC', 'NFYA',\n",
      "       ...\n",
      "       'H3C2', 'H3C3', 'AC098582.1', 'DUS4L-BCAP29', 'C8orf44-SGK3', 'ELOA3B',\n",
      "       'NPBWR1', 'ELOA3D', 'ELOA3', 'CDR1'],\n",
      "      dtype='object', length=18992)\n"
     ]
    }
   ],
   "source": [
    "# create a VarianceThreshold object\n",
    "\n",
    "varSel = VarianceThreshold(threshold=0)\n",
    "\n",
    "# fit the VarianceThreshold object to the feature data\n",
    "\n",
    "varSel.fit(features_np)\n",
    "\n",
    "# print the number of features that have a variance greater than 0\n",
    "\n",
    "print('Number of features with a variance greater than 0: ', varSel.get_support().sum())\n",
    "\n",
    "# print the names of the features that have a variance greater than 0\n",
    "\n",
    "print('Features with a variance greater than 0: ', col_index[varSel.get_support()])"
   ]
  },
  {
   "cell_type": "code",
   "execution_count": 7,
   "metadata": {},
   "outputs": [],
   "source": [
    "# Use MRMR and RFE to select features for the ribociclib dataset "
   ]
  },
  {
   "cell_type": "code",
   "execution_count": 6,
   "metadata": {},
   "outputs": [],
   "source": [
    "import pymrmr "
   ]
  },
  {
   "cell_type": "code",
   "execution_count": 16,
   "metadata": {},
   "outputs": [
    {
     "name": "stdout",
     "output_type": "stream",
     "text": [
      "(1000, 1000) (1000,)\n"
     ]
    }
   ],
   "source": [
    "# generate data using sklearn \n",
    "\n",
    "from sklearn.datasets import make_classification\n",
    "import pandas as pd\n",
    "\n",
    "# generate a random dataset\n",
    "\n",
    "X, y = make_classification(n_samples=1000, n_features=1000, n_informative=150, n_redundant=500, n_repeated=0, n_classes=2, n_clusters_per_class=2, weights=None, flip_y=0.01, class_sep=1.0, hypercube=True, shift=0.0, scale=1.0, shuffle=True, random_state=None)\n",
    "\n",
    "# print the shape of the feature data\n",
    "\n",
    "print(X.shape, y.shape)\n",
    "\n",
    "# convert X into pandas dataframe\n",
    "\n",
    "df = pd.DataFrame(X)\n",
    "\n",
    "# convert all the columns of X into string type\n",
    "\n",
    "df.columns = df.columns.astype(str)"
   ]
  },
  {
   "cell_type": "code",
   "execution_count": 17,
   "metadata": {},
   "outputs": [],
   "source": [
    "mrmr_fn = 100 \n",
    "\n",
    "# use MRMR to select the top 100 features\n",
    "\n",
    "mrmr_features = pymrmr.mRMR(df, 'MIQ', mrmr_fn)\n",
    "\n",
    "# print the selected features\n",
    "\n",
    "print(mrmr_features)"
   ]
  },
  {
   "cell_type": "code",
   "execution_count": 1,
   "metadata": {},
   "outputs": [
    {
     "name": "stdout",
     "output_type": "stream",
     "text": [
      "Features Count: 10, Time Taken: 0.4727134704589844, Sample Size: 1000, Feature Size: 100\n",
      "Features Count: 11, Time Taken: 0.5499444007873535, Sample Size: 1000, Feature Size: 100\n",
      "Features Count: 12, Time Taken: 0.6427302360534668, Sample Size: 1000, Feature Size: 100\n",
      "Features Count: 13, Time Taken: 0.739145040512085, Sample Size: 1000, Feature Size: 100\n",
      "Features Count: 14, Time Taken: 0.8765039443969727, Sample Size: 1000, Feature Size: 100\n",
      "Features Count: 15, Time Taken: 0.9761753082275391, Sample Size: 1000, Feature Size: 100\n",
      "Features Count: 16, Time Taken: 1.0809528827667236, Sample Size: 1000, Feature Size: 100\n",
      "Features Count: 17, Time Taken: 1.222367763519287, Sample Size: 1000, Feature Size: 100\n",
      "Features Count: 18, Time Taken: 1.329857349395752, Sample Size: 1000, Feature Size: 100\n",
      "Features Count: 19, Time Taken: 1.4787063598632812, Sample Size: 1000, Feature Size: 100\n",
      "Features Count: 20, Time Taken: 1.6409060955047607, Sample Size: 1000, Feature Size: 100\n",
      "Features Count: 21, Time Taken: 1.7600865364074707, Sample Size: 1000, Feature Size: 100\n",
      "Features Count: 22, Time Taken: 1.9147262573242188, Sample Size: 1000, Feature Size: 100\n",
      "Features Count: 23, Time Taken: 2.092534303665161, Sample Size: 1000, Feature Size: 100\n",
      "Features Count: 24, Time Taken: 2.2202773094177246, Sample Size: 1000, Feature Size: 100\n",
      "Features Count: 25, Time Taken: 2.3896090984344482, Sample Size: 1000, Feature Size: 100\n",
      "Features Count: 26, Time Taken: 2.562408208847046, Sample Size: 1000, Feature Size: 100\n",
      "Features Count: 27, Time Taken: 2.743692636489868, Sample Size: 1000, Feature Size: 100\n",
      "Features Count: 28, Time Taken: 2.8988447189331055, Sample Size: 1000, Feature Size: 100\n",
      "Features Count: 29, Time Taken: 3.052229404449463, Sample Size: 1000, Feature Size: 100\n",
      "Features Count: 30, Time Taken: 3.3357574939727783, Sample Size: 1000, Feature Size: 100\n",
      "Features Count: 31, Time Taken: 3.458597421646118, Sample Size: 1000, Feature Size: 100\n",
      "Features Count: 32, Time Taken: 3.66636323928833, Sample Size: 1000, Feature Size: 100\n",
      "Features Count: 33, Time Taken: 3.807196855545044, Sample Size: 1000, Feature Size: 100\n",
      "Features Count: 34, Time Taken: 4.113800287246704, Sample Size: 1000, Feature Size: 100\n",
      "Features Count: 35, Time Taken: 4.206179857254028, Sample Size: 1000, Feature Size: 100\n",
      "Features Count: 36, Time Taken: 4.432487726211548, Sample Size: 1000, Feature Size: 100\n",
      "Features Count: 37, Time Taken: 4.667004346847534, Sample Size: 1000, Feature Size: 100\n",
      "Features Count: 38, Time Taken: 4.857377290725708, Sample Size: 1000, Feature Size: 100\n",
      "Features Count: 39, Time Taken: 5.154555797576904, Sample Size: 1000, Feature Size: 100\n",
      "Features Count: 40, Time Taken: 5.279422998428345, Sample Size: 1000, Feature Size: 100\n",
      "Features Count: 41, Time Taken: 5.57293963432312, Sample Size: 1000, Feature Size: 100\n",
      "Features Count: 42, Time Taken: 5.697861671447754, Sample Size: 1000, Feature Size: 100\n",
      "Features Count: 43, Time Taken: 5.990844488143921, Sample Size: 1000, Feature Size: 100\n",
      "Features Count: 44, Time Taken: 6.143326044082642, Sample Size: 1000, Feature Size: 100\n",
      "Features Count: 45, Time Taken: 6.386937856674194, Sample Size: 1000, Feature Size: 100\n",
      "Features Count: 46, Time Taken: 6.590898275375366, Sample Size: 1000, Feature Size: 100\n",
      "Features Count: 47, Time Taken: 6.754346132278442, Sample Size: 1000, Feature Size: 100\n",
      "Features Count: 48, Time Taken: 7.06687593460083, Sample Size: 1000, Feature Size: 100\n",
      "Features Count: 49, Time Taken: 7.230886459350586, Sample Size: 1000, Feature Size: 100\n"
     ]
    },
    {
     "data": {
      "text/plain": [
       "[<matplotlib.lines.Line2D at 0x23734384400>]"
      ]
     },
     "execution_count": 1,
     "metadata": {},
     "output_type": "execute_result"
    },
    {
     "data": {
      "image/png": "[encoded data removed]",
      "text/plain": [
       "<Figure size 640x480 with 1 Axes>"
      ]
     },
     "metadata": {},
     "output_type": "display_data"
    }
   ],
   "source": [
    "import time \n",
    "\n",
    "# generate data using sklearn \n",
    "\n",
    "from sklearn.datasets import make_classification\n",
    "import pandas as pd\n",
    "import pymrmr \n",
    "\n",
    "n_samples = 1000\n",
    "n_features = 100\n",
    "n_informative = int(n_features * 0.15)\n",
    "n_redundant = int(n_features * 0.5)\n",
    "n_repeated = int(n_features * 0.1)\n",
    "mrmr_features = 10 \n",
    "\n",
    "X, y = make_classification(n_samples=n_samples, \n",
    "                           n_features=n_features, \n",
    "                           n_informative=n_informative, \n",
    "                           n_redundant=n_redundant, \n",
    "                           n_repeated=n_repeated, \n",
    "                           n_classes=2, n_clusters_per_class=2, weights=None, flip_y=0.01, class_sep=1.0, hypercube=True, shift=0.0, scale=1.0, shuffle=True, random_state=None)\n",
    "\n",
    "df = pd.DataFrame(X)\n",
    "# convert all the columns of X into string type\n",
    "df.columns = df.columns.astype(str)\n",
    "\n",
    "def measure_time(X, mrmr_features):\n",
    "    start_time = time.time()\n",
    "    mrmr_features = pymrmr.mRMR(df, 'MIQ', mrmr_features)\n",
    "    end_time = time.time()\n",
    "    return end_time - start_time\n",
    "\n",
    "# print the time taken to select the top 100 features using MRMR\n",
    "\n",
    "# print(f'Time taken to select the top {mrmr_features} features using MRMR: ', measure_time(X, mrmr_features))\n",
    "\n",
    "time_taken = []\n",
    "\n",
    "i = 10 \n",
    "max_sel = int(n_features/2) if int(n_features/2) else 100\n",
    "while i < max_sel:\n",
    "    t = measure_time(X, i)\n",
    "    time_taken.append(t)\n",
    "    print(f'Features Count: {i}, Time Taken: {t}, Sample Size: {n_samples}, Feature Size: {n_features}')\n",
    "    i += 1 \n",
    "\n",
    "import matplotlib.pyplot as plt \n",
    "\n",
    "plt.plot(time_taken)\n"
   ]
  },
  {
   "cell_type": "code",
   "execution_count": 12,
   "metadata": {},
   "outputs": [
    {
     "name": "stdout",
     "output_type": "stream",
     "text": [
      "Features Count: 10, Time Taken: 0.0469965934753418, Feature Size: 20\n",
      "Features Count: 10, Time Taken: 0.14049172401428223, Feature Size: 40\n",
      "Features Count: 10, Time Taken: 0.36102771759033203, Feature Size: 80\n",
      "Features Count: 10, Time Taken: 0.8814668655395508, Feature Size: 160\n",
      "Features Count: 10, Time Taken: 2.2891926765441895, Feature Size: 320\n",
      "Features Count: 10, Time Taken: 7.556275129318237, Feature Size: 640\n",
      "Features Count: 10, Time Taken: 60.10821747779846, Feature Size: 1280\n"
     ]
    }
   ],
   "source": [
    "import time \n",
    "\n",
    "# generate data using sklearn \n",
    "\n",
    "from sklearn.datasets import make_classification\n",
    "import pandas as pd\n",
    "import pymrmr \n",
    "\n",
    "\n",
    "def measure_time(mrmr_features, n_features):\n",
    "    n_samples = 1000\n",
    "    n_informative = int(n_features * 0.15)\n",
    "    n_redundant = int(n_features * 0.5)\n",
    "    n_repeated = int(n_features * 0.1)\n",
    "    mrmr_features = 10 \n",
    "\n",
    "    X, y = make_classification(n_samples=n_samples, \n",
    "                            n_features=n_features, \n",
    "                            n_informative=n_informative, \n",
    "                            n_redundant=n_redundant, \n",
    "                            n_repeated=n_repeated, \n",
    "                            n_classes=2, n_clusters_per_class=2, weights=None, flip_y=0.01, class_sep=1.0, hypercube=True, shift=0.0, scale=1.0, shuffle=True, random_state=None)\n",
    "    df = pd.DataFrame(X)\n",
    "    # convert all the columns of X into string type\n",
    "    df.columns = df.columns.astype(str)\n",
    "    start_time = time.time()\n",
    "    mrmr_features = pymrmr.mRMR(df, 'MIQ', mrmr_features)\n",
    "    end_time = time.time()\n",
    "    return end_time - start_time\n",
    "\n",
    "# print the time taken to select the top 100 features using MRMR\n",
    "\n",
    "# print(f'Time taken to select the top {mrmr_features} features using MRMR: ', measure_time(X, mrmr_features))\n",
    "\n",
    "time_taken = []\n",
    "\n",
    "i = 20\n",
    "max_sel = 2000\n",
    "while i < max_sel:\n",
    "    t = measure_time(10, i)\n",
    "    time_taken.append(t)\n",
    "    print(f'Features Count: 10, Time Taken: {t}, Feature Size: {i}')\n",
    "    i = i * 2\n",
    "\n",
    "\n"
   ]
  },
  {
   "cell_type": "code",
   "execution_count": 14,
   "metadata": {},
   "outputs": [
    {
     "data": {
      "text/plain": [
       "[<matplotlib.lines.Line2D at 0x2213d78d580>]"
      ]
     },
     "execution_count": 14,
     "metadata": {},
     "output_type": "execute_result"
    },
    {
     "data": {
      "image/png": "[encoded data removed]",
      "text/plain": [
       "<Figure size 640x480 with 1 Axes>"
      ]
     },
     "metadata": {},
     "output_type": "display_data"
    }
   ],
   "source": [
    "import matplotlib.pyplot as plt \n",
    "\n",
    "plt.title('Feature Count vs Time for PyMRMR Performance (Selecting 10 features)')\n",
    "plt.xlabel('Feature Size')\n",
    "plt.ylabel('Time (seconds)')\n",
    "plt.plot([20,40,80,160,320,640,1280], time_taken)\n"
   ]
  },
  {
   "cell_type": "code",
   "execution_count": 8,
   "metadata": {},
   "outputs": [],
   "source": [
    "# Use MRMR to select the top 10 features\n",
    "\n",
    "mrmr_feature_number = 10\n",
    "\n",
    "mrmr_features = pymrmr.mRMR(feature_data, 'MIQ', mrmr_feature_number)\n",
    "\n",
    "# print the names of the features selected by MRMR\n",
    "\n",
    "print('Features selected by MRMR: ', mrmr_features)"
   ]
  },
  {
   "cell_type": "code",
   "execution_count": null,
   "metadata": {},
   "outputs": [],
   "source": []
  },
  {
   "cell_type": "code",
   "execution_count": 19,
   "metadata": {},
   "outputs": [
    {
     "name": "stdout",
     "output_type": "stream",
     "text": [
      "Fitting estimator with 19221 features.\n",
      "Fitting estimator with 19220 features.\n",
      "Fitting estimator with 19219 features.\n",
      "Fitting estimator with 19218 features.\n",
      "Fitting estimator with 19217 features.\n",
      "Fitting estimator with 19216 features.\n",
      "Fitting estimator with 19215 features.\n",
      "Fitting estimator with 19214 features.\n",
      "Fitting estimator with 19213 features.\n",
      "Fitting estimator with 19212 features.\n",
      "Fitting estimator with 19211 features.\n",
      "Fitting estimator with 19210 features.\n"
     ]
    },
    {
     "ename": "KeyboardInterrupt",
     "evalue": "",
     "output_type": "error",
     "traceback": [
      "\u001b[1;31m---------------------------------------------------------------------------\u001b[0m",
      "\u001b[1;31mKeyboardInterrupt\u001b[0m                         Traceback (most recent call last)",
      "Cell \u001b[1;32mIn [19], line 16\u001b[0m\n\u001b[0;32m     12\u001b[0m rfe_estimator\u001b[39m.\u001b[39mfit(features_np, labels_np)\n\u001b[0;32m     14\u001b[0m rfe_selector \u001b[39m=\u001b[39m RFE(rfe_estimator, n_features_to_select\u001b[39m=\u001b[39mrfe_feature_number, step\u001b[39m=\u001b[39m\u001b[39m1\u001b[39m, verbose\u001b[39m=\u001b[39m\u001b[39m3\u001b[39m)\n\u001b[1;32m---> 16\u001b[0m rfe_selector \u001b[39m=\u001b[39m rfe_selector\u001b[39m.\u001b[39mfit(features_np, labels_np)\n\u001b[0;32m     18\u001b[0m \u001b[39m# print the names of the features selected by RFE\u001b[39;00m\n\u001b[0;32m     20\u001b[0m \u001b[39mprint\u001b[39m(\u001b[39m'\u001b[39m\u001b[39mFeatures selected by RFE: \u001b[39m\u001b[39m'\u001b[39m, col_index[rfe_selector\u001b[39m.\u001b[39msupport_])\n",
      "File \u001b[1;32mc:\\Github\\ode-biomarker-project\\dynamic-marker\\lib\\site-packages\\sklearn\\feature_selection\\_rfe.py:235\u001b[0m, in \u001b[0;36mRFE.fit\u001b[1;34m(self, X, y, **fit_params)\u001b[0m\n\u001b[0;32m    215\u001b[0m \u001b[39mdef\u001b[39;00m \u001b[39mfit\u001b[39m(\u001b[39mself\u001b[39m, X, y, \u001b[39m*\u001b[39m\u001b[39m*\u001b[39mfit_params):\n\u001b[0;32m    216\u001b[0m     \u001b[39m\"\"\"Fit the RFE model and then the underlying estimator on the selected features.\u001b[39;00m\n\u001b[0;32m    217\u001b[0m \n\u001b[0;32m    218\u001b[0m \u001b[39m    Parameters\u001b[39;00m\n\u001b[1;32m   (...)\u001b[0m\n\u001b[0;32m    233\u001b[0m \u001b[39m        Fitted estimator.\u001b[39;00m\n\u001b[0;32m    234\u001b[0m \u001b[39m    \"\"\"\u001b[39;00m\n\u001b[1;32m--> 235\u001b[0m     \u001b[39mreturn\u001b[39;00m \u001b[39mself\u001b[39;49m\u001b[39m.\u001b[39;49m_fit(X, y, \u001b[39m*\u001b[39;49m\u001b[39m*\u001b[39;49mfit_params)\n",
      "File \u001b[1;32mc:\\Github\\ode-biomarker-project\\dynamic-marker\\lib\\site-packages\\sklearn\\feature_selection\\_rfe.py:296\u001b[0m, in \u001b[0;36mRFE._fit\u001b[1;34m(self, X, y, step_score, **fit_params)\u001b[0m\n\u001b[0;32m    293\u001b[0m \u001b[39mif\u001b[39;00m \u001b[39mself\u001b[39m\u001b[39m.\u001b[39mverbose \u001b[39m>\u001b[39m \u001b[39m0\u001b[39m:\n\u001b[0;32m    294\u001b[0m     \u001b[39mprint\u001b[39m(\u001b[39m\"\u001b[39m\u001b[39mFitting estimator with \u001b[39m\u001b[39m%d\u001b[39;00m\u001b[39m features.\u001b[39m\u001b[39m\"\u001b[39m \u001b[39m%\u001b[39m np\u001b[39m.\u001b[39msum(support_))\n\u001b[1;32m--> 296\u001b[0m estimator\u001b[39m.\u001b[39;49mfit(X[:, features], y, \u001b[39m*\u001b[39;49m\u001b[39m*\u001b[39;49mfit_params)\n\u001b[0;32m    298\u001b[0m \u001b[39m# Get importance and rank them\u001b[39;00m\n\u001b[0;32m    299\u001b[0m importances \u001b[39m=\u001b[39m _get_feature_importances(\n\u001b[0;32m    300\u001b[0m     estimator,\n\u001b[0;32m    301\u001b[0m     \u001b[39mself\u001b[39m\u001b[39m.\u001b[39mimportance_getter,\n\u001b[0;32m    302\u001b[0m     transform_func\u001b[39m=\u001b[39m\u001b[39m\"\u001b[39m\u001b[39msquare\u001b[39m\u001b[39m\"\u001b[39m,\n\u001b[0;32m    303\u001b[0m )\n",
      "File \u001b[1;32mc:\\Github\\ode-biomarker-project\\dynamic-marker\\lib\\site-packages\\sklearn\\svm\\_classes.py:489\u001b[0m, in \u001b[0;36mLinearSVR.fit\u001b[1;34m(self, X, y, sample_weight)\u001b[0m\n\u001b[0;32m    480\u001b[0m X, y \u001b[39m=\u001b[39m \u001b[39mself\u001b[39m\u001b[39m.\u001b[39m_validate_data(\n\u001b[0;32m    481\u001b[0m     X,\n\u001b[0;32m    482\u001b[0m     y,\n\u001b[1;32m   (...)\u001b[0m\n\u001b[0;32m    486\u001b[0m     accept_large_sparse\u001b[39m=\u001b[39m\u001b[39mFalse\u001b[39;00m,\n\u001b[0;32m    487\u001b[0m )\n\u001b[0;32m    488\u001b[0m penalty \u001b[39m=\u001b[39m \u001b[39m\"\u001b[39m\u001b[39ml2\u001b[39m\u001b[39m\"\u001b[39m  \u001b[39m# SVR only accepts l2 penalty\u001b[39;00m\n\u001b[1;32m--> 489\u001b[0m \u001b[39mself\u001b[39m\u001b[39m.\u001b[39mcoef_, \u001b[39mself\u001b[39m\u001b[39m.\u001b[39mintercept_, n_iter_ \u001b[39m=\u001b[39m _fit_liblinear(\n\u001b[0;32m    490\u001b[0m     X,\n\u001b[0;32m    491\u001b[0m     y,\n\u001b[0;32m    492\u001b[0m     \u001b[39mself\u001b[39;49m\u001b[39m.\u001b[39;49mC,\n\u001b[0;32m    493\u001b[0m     \u001b[39mself\u001b[39;49m\u001b[39m.\u001b[39;49mfit_intercept,\n\u001b[0;32m    494\u001b[0m     \u001b[39mself\u001b[39;49m\u001b[39m.\u001b[39;49mintercept_scaling,\n\u001b[0;32m    495\u001b[0m     \u001b[39mNone\u001b[39;49;00m,\n\u001b[0;32m    496\u001b[0m     penalty,\n\u001b[0;32m    497\u001b[0m     \u001b[39mself\u001b[39;49m\u001b[39m.\u001b[39;49mdual,\n\u001b[0;32m    498\u001b[0m     \u001b[39mself\u001b[39;49m\u001b[39m.\u001b[39;49mverbose,\n\u001b[0;32m    499\u001b[0m     \u001b[39mself\u001b[39;49m\u001b[39m.\u001b[39;49mmax_iter,\n\u001b[0;32m    500\u001b[0m     \u001b[39mself\u001b[39;49m\u001b[39m.\u001b[39;49mtol,\n\u001b[0;32m    501\u001b[0m     \u001b[39mself\u001b[39;49m\u001b[39m.\u001b[39;49mrandom_state,\n\u001b[0;32m    502\u001b[0m     loss\u001b[39m=\u001b[39;49m\u001b[39mself\u001b[39;49m\u001b[39m.\u001b[39;49mloss,\n\u001b[0;32m    503\u001b[0m     epsilon\u001b[39m=\u001b[39;49m\u001b[39mself\u001b[39;49m\u001b[39m.\u001b[39;49mepsilon,\n\u001b[0;32m    504\u001b[0m     sample_weight\u001b[39m=\u001b[39;49msample_weight,\n\u001b[0;32m    505\u001b[0m )\n\u001b[0;32m    506\u001b[0m \u001b[39mself\u001b[39m\u001b[39m.\u001b[39mcoef_ \u001b[39m=\u001b[39m \u001b[39mself\u001b[39m\u001b[39m.\u001b[39mcoef_\u001b[39m.\u001b[39mravel()\n\u001b[0;32m    507\u001b[0m \u001b[39m# Backward compatibility: _fit_liblinear is used both by LinearSVC/R\u001b[39;00m\n\u001b[0;32m    508\u001b[0m \u001b[39m# and LogisticRegression but LogisticRegression sets a structured\u001b[39;00m\n\u001b[0;32m    509\u001b[0m \u001b[39m# `n_iter_` attribute with information about the underlying OvR fits\u001b[39;00m\n\u001b[0;32m    510\u001b[0m \u001b[39m# while LinearSVC/R only reports the maximum value.\u001b[39;00m\n",
      "File \u001b[1;32mc:\\Github\\ode-biomarker-project\\dynamic-marker\\lib\\site-packages\\sklearn\\svm\\_base.py:1205\u001b[0m, in \u001b[0;36m_fit_liblinear\u001b[1;34m(X, y, C, fit_intercept, intercept_scaling, class_weight, penalty, dual, verbose, max_iter, tol, random_state, multi_class, loss, epsilon, sample_weight)\u001b[0m\n\u001b[0;32m   1202\u001b[0m sample_weight \u001b[39m=\u001b[39m _check_sample_weight(sample_weight, X, dtype\u001b[39m=\u001b[39mnp\u001b[39m.\u001b[39mfloat64)\n\u001b[0;32m   1204\u001b[0m solver_type \u001b[39m=\u001b[39m _get_liblinear_solver_type(multi_class, penalty, loss, dual)\n\u001b[1;32m-> 1205\u001b[0m raw_coef_, n_iter_ \u001b[39m=\u001b[39m liblinear\u001b[39m.\u001b[39;49mtrain_wrap(\n\u001b[0;32m   1206\u001b[0m     X,\n\u001b[0;32m   1207\u001b[0m     y_ind,\n\u001b[0;32m   1208\u001b[0m     sp\u001b[39m.\u001b[39;49misspmatrix(X),\n\u001b[0;32m   1209\u001b[0m     solver_type,\n\u001b[0;32m   1210\u001b[0m     tol,\n\u001b[0;32m   1211\u001b[0m     bias,\n\u001b[0;32m   1212\u001b[0m     C,\n\u001b[0;32m   1213\u001b[0m     class_weight_,\n\u001b[0;32m   1214\u001b[0m     max_iter,\n\u001b[0;32m   1215\u001b[0m     rnd\u001b[39m.\u001b[39;49mrandint(np\u001b[39m.\u001b[39;49miinfo(\u001b[39m\"\u001b[39;49m\u001b[39mi\u001b[39;49m\u001b[39m\"\u001b[39;49m)\u001b[39m.\u001b[39;49mmax),\n\u001b[0;32m   1216\u001b[0m     epsilon,\n\u001b[0;32m   1217\u001b[0m     sample_weight,\n\u001b[0;32m   1218\u001b[0m )\n\u001b[0;32m   1219\u001b[0m \u001b[39m# Regarding rnd.randint(..) in the above signature:\u001b[39;00m\n\u001b[0;32m   1220\u001b[0m \u001b[39m# seed for srand in range [0..INT_MAX); due to limitations in Numpy\u001b[39;00m\n\u001b[0;32m   1221\u001b[0m \u001b[39m# on 32-bit platforms, we can't get to the UINT_MAX limit that\u001b[39;00m\n\u001b[0;32m   1222\u001b[0m \u001b[39m# srand supports\u001b[39;00m\n\u001b[0;32m   1223\u001b[0m n_iter_max \u001b[39m=\u001b[39m \u001b[39mmax\u001b[39m(n_iter_)\n",
      "\u001b[1;31mKeyboardInterrupt\u001b[0m: "
     ]
    }
   ],
   "source": [
    "from sklearn.feature_selection import RFE\n",
    "from sklearn.svm import LinearSVR\n",
    "\n",
    "# import svm\n",
    "\n",
    "\n",
    "# Use RFE to select the top 10 features\n",
    "\n",
    "rfe_feature_number = 100\n",
    "\n",
    "rfe_estimator = LinearSVR()\n",
    "rfe_estimator.fit(features_np, labels_np)\n",
    "\n",
    "rfe_selector = RFE(rfe_estimator, n_features_to_select=rfe_feature_number, step=1, verbose=1)\n",
    "\n",
    "rfe_selector = rfe_selector.fit(features_np, labels_np)\n",
    "\n",
    "# print the names of the features selected by RFE\n",
    "\n",
    "print('Features selected by RFE: ', col_index[rfe_selector.support_])\n"
   ]
  },
  {
   "cell_type": "code",
   "execution_count": 10,
   "metadata": {},
   "outputs": [],
   "source": [
    "# refine the feature data using the features selected by MRMR and RFE\n",
    "\n",
    "rfe_features = col_index[rfe_selector.support_]\n",
    "\n",
    "# print(rfe_features)\n",
    "\n",
    "# print(feature_data.shape)\n",
    "\n",
    "selected_feature_data = feature_data[rfe_features]"
   ]
  },
  {
   "cell_type": "code",
   "execution_count": 24,
   "metadata": {},
   "outputs": [],
   "source": [
    "# using both MRMR and RFE to select features \n",
    "\n",
    "import pymrmr \n",
    "from sklearn.feature_selection import RFECV\n",
    "from sklearn.svm import LinearSVR\n",
    "\n",
    "# Use MRMR to select the top 100 features\n",
    "\n",
    "mrmr_feature_number = 100\n",
    "\n",
    "mrmr_features = pymrmr.mRMR(feature_data, 'MIQ', mrmr_feature_number)\n",
    "\n",
    "mrmr_selected_feature_data = feature_data[mrmr_features]\n",
    "\n",
    "print(mrmr_selected_feature_data.shape)\n",
    "\n",
    "# Use RFE to select the top 10 features from MRMR features\n",
    "\n",
    "rfe_feature_number = 10\n",
    "\n",
    "rfe_estimator = LinearSVR()\n",
    "\n",
    "rfe_selector = RFECV(rfe_estimator, n_features_to_select=rfe_feature_number, step=1, verbose=1, cv=5)\n",
    "\n",
    "rfe_selector = rfe_selector.fit(mrmr_selected_feature_data, labels_np)\n",
    "\n",
    "# print the names of the features selected by RFE\n",
    "\n",
    "print('Features selected by RFE: ', feature_data[rfe_selector.support_])\n",
    "\n",
    "# refine the feature data using the features selected by MRMR and RFE\n",
    "\n",
    "rfe_features = feature_data[rfe_selector.support_]"
   ]
  },
  {
   "cell_type": "code",
   "execution_count": 25,
   "metadata": {},
   "outputs": [
    {
     "name": "stdout",
     "output_type": "stream",
     "text": [
      "Linear Regression\n",
      "5.2064819744586776e-30\n",
      "2.031417993992855\n",
      "Linear SVR\n",
      "8.599917311861061e-09\n",
      "2.1188642277017404\n"
     ]
    }
   ],
   "source": [
    "# A quick prediction using the all features\n",
    "\n",
    "# get prediction accuracy for the ribociclib dataset using the selected features\n",
    "\n",
    "from sklearn.model_selection import train_test_split\n",
    "from sklearn.linear_model import LinearRegression\n",
    "from sklearn.svm import LinearSVR\n",
    "\n",
    "# split the data into training and testing sets\n",
    "\n",
    "X_train, X_test, y_train, y_test = train_test_split(feature_data, label_data, test_size=0.2, random_state=42)\n",
    "\n",
    "# create a LinearSVR object\n",
    "\n",
    "svr = LinearRegression()\n",
    "\n",
    "# fit the LinearSVR object to the training data\n",
    "\n",
    "svr.fit(X_train, y_train)\n",
    "\n",
    "# print the prediction accuracy for the training data via MSE \n",
    "\n",
    "from sklearn.metrics import mean_squared_error\n",
    "\n",
    "score = mean_squared_error(y_train, svr.predict(X_train))\n",
    "\n",
    "print('Linear Regression')\n",
    "print(score)\n",
    "\n",
    "# print the prediction accuracy for the testing data via MSE\n",
    "\n",
    "score_test = mean_squared_error(y_test, svr.predict(X_test))\n",
    "\n",
    "print(score_test)\n",
    "\n",
    "# use linearsvr\n",
    "\n",
    "# create a LinearSVR object\n",
    "\n",
    "svr = LinearSVR()\n",
    "\n",
    "# fit the LinearSVR object to the training data\n",
    "\n",
    "svr.fit(X_train, y_train)\n",
    "\n",
    "# print the prediction accuracy for the training data via MSE\n",
    "\n",
    "score = mean_squared_error(y_train, svr.predict(X_train))\n",
    "\n",
    "print('Linear SVR')\n",
    "\n",
    "print(score)\n",
    "\n",
    "# print the prediction accuracy for the testing data via MSE\n",
    "\n",
    "score_test = mean_squared_error(y_test, svr.predict(X_test))\n",
    "\n",
    "print(score_test)\n"
   ]
  },
  {
   "attachments": {},
   "cell_type": "markdown",
   "metadata": {},
   "source": [
    "Implementing GFFS (Greedy Forward Feature Selection) - A re-implementation in Python"
   ]
  },
  {
   "cell_type": "code",
   "execution_count": 9,
   "metadata": {},
   "outputs": [
    {
     "name": "stdout",
     "output_type": "stream",
     "text": [
      "(44, 100)\n",
      "[(24.05328882360086, 1.4510926691883489e-05, 3720), (23.207173495967876, 1.9218499296052333e-05, 8182), (22.020571410849886, 2.869524981265973e-05, 6183), (19.75970754702939, 6.30428309160734e-05, 1368), (17.192091044386316, 0.00016045758767997323, 16792), (16.919628286532426, 0.0001776611882380663, 13848), (15.928446630034077, 0.0002585417473661678, 59), (15.160676990890257, 0.00034753994509188925, 18564), (15.142134563075588, 0.0003500521061085685, 11230), (14.981899368910724, 0.000372574805777905, 11563), (14.844940365354287, 0.0003930360335031469, 11092), (14.812841521347588, 0.0003980006530613084, 14748), (14.72834766256964, 0.00041138756011616567, 10752), (14.11271045584335, 0.0005244629661054665, 11308), (13.759096305091722, 0.0006038443858196778, 10604), (13.71697481533636, 0.0006141120521452957, 307), (13.58738927135404, 0.0006468710443885047, 12543), (13.402769352547756, 0.000696761984072569, 16881), (13.243065909941743, 0.0007431952038174727, 10627), (13.162929309987577, 0.0007677143173920986, 13882), (12.707504817706164, 0.0009242643535976398, 6625), (12.414475855896228, 0.0010425477837449689, 8949), (12.341580286597432, 0.00107438795296248, 8108), (12.337048682364866, 0.0010764009223038487, 1840), (12.264231966363065, 0.001109298586018213, 18955), (12.231887174774302, 0.0011242505768032018, 17831), (12.172109604639896, 0.0011524468617282006, 18835), (12.155525668896939, 0.0011604009313275867, 16720), (12.13242575338953, 0.0011715769936410908, 1118), (11.999251701049962, 0.0012382650186013421, 4557), (11.905868569887584, 0.0012874119049020418, 1469), (11.905822739140051, 0.0012874365250534537, 19146), (11.87784104453981, 0.0013025614825156752, 16674), (11.723894226237958, 0.0013892013360413567, 12361), (11.652221727268548, 0.001431596390107161, 15615), (11.52191748770604, 0.0015122141335525106, 15758), (11.482274858363725, 0.0015376820098680784, 15709), (11.355481110134223, 0.0016222283779665542, 6629), (11.322379009804127, 0.0016451004876857297, 13001), (11.304954252357184, 0.001657276983238812, 5642), (11.231826187696148, 0.0017094280064923347, 12147), (11.22664202830475, 0.0017131903519987794, 1789), (11.003898155771024, 0.0018834084869387658, 5827), (10.930717522050287, 0.001943164577107906, 11436), (10.898724456259952, 0.001969915793686777, 10040), (10.842474351359154, 0.0020178988534626783, 16305), (10.826276780270849, 0.0020319440396924728, 25), (10.811336457538257, 0.0020449907667462698, 2806), (10.799883638049332, 0.002055052015171259, 13971), (10.792234816300935, 0.002061800630899252, 16745), (10.702928413267697, 0.0021423549456923165, 16653), (10.677194995400857, 0.0021661796628489258, 6290), (10.508868926076639, 0.0023291027407387334, 12068), (10.40267396665789, 0.002438523725762543, 12753), (10.191949206837377, 0.0026720910908079143, 15788), (10.178157348801983, 0.0026881821653886853, 15484), (10.035197640196076, 0.002861152016400868, 6561), (10.029644151361019, 0.002868104763351514, 12623), (10.020797876187121, 0.0028792169410550455, 1273), (9.995484881055285, 0.0029112664037962764, 19198), (9.97512080985554, 0.002937324232790847, 12917), (9.953073546248785, 0.0029658147207382887, 492), (9.937722954070512, 0.002985824290984737, 11086), (9.84155790219941, 0.0031144761687190957, 2650), (9.782454354055364, 0.0031964509742943275, 4817), (9.765271424639485, 0.00322070998278379, 9767), (9.751463947967716, 0.0032403449060020182, 12449), (9.751071913485678, 0.003240904247840177, 8424), (9.715793002661167, 0.003291660495573038, 5463), (9.714523092260867, 0.003293503172547199, 6043), (9.689551928026518, 0.003329960115043777, 18241), (9.678793095761185, 0.0033457992563095595, 2868), (9.646481546738611, 0.003393850317552656, 7350), (9.645905806911687, 0.003394713116055164, 10070), (9.608841427855436, 0.0034507498581916995, 17987), (9.604005792311991, 0.0034581327559910667, 8850), (9.600637896220503, 0.0034632846490867133, 14604), (9.592443570249285, 0.0034758535858904005, 5339), (9.575596961776697, 0.00350184609945573, 19096), (9.540490668161754, 0.003556675990431188, 12833), (9.531293803953105, 0.0035711898777352133, 9735), (9.509600259822395, 0.003605674614495069, 18443), (9.490454372639329, 0.0036364029626782006, 12538), (9.486038551606281, 0.0036435295130232193, 1926), (9.481219405970837, 0.0036513238840332877, 12546), (9.453740381962866, 0.003696107057078308, 17773), (9.45111478277861, 0.0037004164444967382, 8593), (9.43377426682392, 0.003729011548991215, 13696), (9.376402482179746, 0.0038253023005560723, 2862), (9.357047275175216, 0.003858379609660808, 18139), (9.336090352725158, 0.003894536623803987, 17726), (9.319686507815371, 0.003923088985896453, 12610), (9.31145858822728, 0.0039374939829874694, 9171), (9.283248631927476, 0.003987310053888008, 12584), (9.232853223002714, 0.004077975584332309, 12541), (9.218770192154109, 0.004103701415280846, 12650), (9.208378804921809, 0.00412279403296549, 4275), (9.20248742355878, 0.0041336604206723805, 10439), (9.177597709124296, 0.004179904991289697, 18269), (9.16664524596664, 0.004200428131490153, 15190)]\n"
     ]
    }
   ],
   "source": [
    "# First apply filter based strategy, Shin et al 2023 used ANOVA based strategy for categorical label variables. \n",
    "# Here we are interested in numerical label variables, therefore we use Pearson's correlation coefficient \n",
    "# via f_regression\n",
    "\n",
    "from sklearn.feature_selection import SelectKBest\n",
    "from sklearn.feature_selection import f_regression, mutual_info_regression\n",
    "\n",
    "# define feature selection\n",
    "fs = SelectKBest(score_func=f_regression, k=100)\n",
    "# apply feature selection\n",
    "pearson_fs_feature = fs.fit_transform(feature_data, label_data)\n",
    "print(pearson_fs_feature.shape)\n",
    "\n",
    "scores, pval = fs.scores_, fs.pvalues_\n",
    "support = fs.get_support(indices=True)\n",
    "\n",
    "selected_scores, selected_pval = scores[support], pval[support]\n",
    "\n",
    "# rank selected features by highest score\n",
    "\n",
    "ranked_features = sorted(zip(selected_scores, selected_pval, support), reverse=True)\n",
    "\n",
    "# selected features \n",
    "\n",
    "selected_feature_data = feature_data.iloc[:, support]\n",
    "\n",
    "print(ranked_features)"
   ]
  },
  {
   "cell_type": "code",
   "execution_count": 24,
   "metadata": {},
   "outputs": [
    {
     "name": "stdout",
     "output_type": "stream",
     "text": [
      "[-0.53654115 -1.4076112  -0.46994407 -1.07097609 -2.21852868]\n",
      "-1.140720236579119\n"
     ]
    }
   ],
   "source": [
    "from sklearn.svm import LinearSVR\n",
    "from sklearn.metrics import mean_squared_error\n",
    "from sklearn.model_selection import cross_val_score\n",
    "\n",
    "# test training with selected features using f_regression\n",
    "\n",
    "score = cross_val_score(LinearSVR(), selected_feature_data, label_data, cv=5, scoring='neg_mean_squared_error')\n",
    "\n",
    "print(score)\n",
    "print(score.mean())"
   ]
  },
  {
   "cell_type": "code",
   "execution_count": 35,
   "metadata": {},
   "outputs": [
    {
     "name": "stdout",
     "output_type": "stream",
     "text": [
      "Feature Selected: 18955, Score: -0.5116145640700005, Feature Size: 2\n",
      "Feature Selected: 8850, Score: -0.3717605435694349, Feature Size: 3\n",
      "Feature Selected: 17831, Score: -0.3536559215228895, Feature Size: 4\n",
      "Feature Selected: 1368, Score: -0.32293242559570867, Feature Size: 5\n",
      "Feature Selected: 12541, Score: -0.2809737962041899, Feature Size: 6\n",
      "Feature Selected: 12650, Score: -0.24255841147646393, Feature Size: 7\n",
      "Feature Selected: 4275, Score: -0.21196375307988888, Feature Size: 8\n",
      "Feature Selected: 2806, Score: -0.18089071993594202, Feature Size: 9\n",
      "Feature Selected: 14604, Score: -0.1665347755490518, Feature Size: 10\n",
      "Feature Selected: 11086, Score: -0.162410954551306, Feature Size: 11\n",
      "Feature Selected: 12610, Score: -0.1599146461641539, Feature Size: 12\n",
      "Feature Selected: 10040, Score: -0.1506190672080162, Feature Size: 13\n",
      "Feature Selected: 13882, Score: -0.14386895711419886, Feature Size: 14\n",
      "Feature Selected: 10439, Score: -0.14413589055750803, Feature Size: 15\n",
      "Feature Selected: 18443, Score: -0.14529696479993737, Feature Size: 16\n",
      "Feature Selected: 5642, Score: -0.1401650216566778, Feature Size: 17\n",
      "Feature Selected: 18564, Score: -0.13684016772827928, Feature Size: 18\n",
      "Feature Selected: 6561, Score: -0.13485626341207452, Feature Size: 19\n",
      "Feature Selected: 59, Score: -0.11395994504014888, Feature Size: 20\n"
     ]
    }
   ],
   "source": [
    "# perform greedy forward feature selection (GFFS) using the importance score (IS) of the features\n",
    "# here, the importance score is the f-statistic of the feature\n",
    "\n",
    "from sklearn.svm import LinearSVR\n",
    "# from sklearn.feature_selection import SequentialFeatureSelector # SFS lacks verbosity and step-by-step outputs\n",
    "\n",
    "from sklearn.metrics import mean_squared_error\n",
    "from sklearn.model_selection import cross_val_score\n",
    "\n",
    "# disable warnings\n",
    "import warnings\n",
    "warnings.filterwarnings(\"ignore\")\n",
    "\n",
    "feature_selected = []\n",
    "feature_selected.append(ranked_features[0][2])\n",
    "# print(feature_selected)\n",
    "\n",
    "selected_feature_data_gffs = feature_data.iloc[:,feature_selected]\n",
    "model = LinearSVR()\n",
    "score = cross_val_score(model, selected_feature_data_gffs, label_data, cv=5, scoring='neg_mean_squared_error').mean()\n",
    "max_num_features = 20 \n",
    "successive_scores = []\n",
    "successive_scores.append(score)\n",
    "\n",
    "while len(feature_selected) < max_num_features:\n",
    "    max_score = -10000\n",
    "    max_feature = 0\n",
    "    for i in range(len(ranked_features)):\n",
    "        if ranked_features[i][2] not in feature_selected:\n",
    "            feature_selected.append(ranked_features[i][2])\n",
    "            selected_feature_data_gffs = feature_data.iloc[:,feature_selected]\n",
    "\n",
    "            # cross validation 5 times and get average score\n",
    "\n",
    "            score = cross_val_score(model, selected_feature_data_gffs, label_data, cv=5, scoring='neg_mean_squared_error').mean()\n",
    "\n",
    "            # model.fit(selected_feature_data_gffs, label_data)\n",
    "            # score = mean_squared_error(label_data, model.predict(selected_feature_data_gffs))\n",
    "            if score > max_score:\n",
    "                max_score = score\n",
    "                max_feature = ranked_features[i][2]\n",
    "            feature_selected.pop()\n",
    "    feature_selected.append(max_feature)\n",
    "    successive_scores.append(max_score)\n",
    "    print(f'Feature Selected: {max_feature}, Score: {max_score}, Feature Size: {len(feature_selected)}')\n"
   ]
  },
  {
   "cell_type": "code",
   "execution_count": 36,
   "metadata": {},
   "outputs": [
    {
     "name": "stdout",
     "output_type": "stream",
     "text": [
      "Final Score: -0.1133615759762208\n"
     ]
    }
   ],
   "source": [
    "# test the selected features with a final go through of cross validation\n",
    "\n",
    "selected_feature_data_gffs = feature_data.iloc[:,feature_selected]\n",
    "\n",
    "score = cross_val_score(model, selected_feature_data_gffs, label_data, cv=5, scoring='neg_mean_squared_error').mean()\n",
    "\n",
    "print(f'Final Score: {score}')"
   ]
  },
  {
   "cell_type": "code",
   "execution_count": 43,
   "metadata": {},
   "outputs": [
    {
     "name": "stdout",
     "output_type": "stream",
     "text": [
      "Index(['FOLR3', 'TBC1D3I', 'GOLGA7', 'C1GALT1C1L', 'PAK3', 'B3GNT2', 'PSG6',\n",
      "       'HEMK1', 'NOMO1', 'NLRP10', 'ELOVL7', 'SLC26A5', 'GPRASP2', 'OR2T8',\n",
      "       'HCRT', 'ZNF345', 'PAX1', 'MTRNR2L10', 'ZSWIM3', 'PDK4'],\n",
      "      dtype='object') [3720, 18955, 8850, 17831, 1368, 12541, 12650, 4275, 2806, 14604, 11086, 12610, 10040, 13882, 10439, 18443, 5642, 18564, 6561, 59]\n"
     ]
    }
   ],
   "source": [
    "# select feature names using col_index \n",
    "\n",
    "gffs_feature_names = feature_data.columns[feature_selected]\n",
    "\n",
    "print(gffs_feature_names, feature_selected)\n",
    "# print(col_index[3720]) # verify the feature name at index 3720\n",
    "\n",
    "# make successive_scores positive\n",
    "\n",
    "pos_successive_scores = [abs(x) for x in successive_scores]"
   ]
  },
  {
   "cell_type": "code",
   "execution_count": 46,
   "metadata": {},
   "outputs": [
    {
     "data": {
      "image/png": "[encoded data removed]",
      "text/plain": [
       "<Figure size 432x288 with 1 Axes>"
      ]
     },
     "metadata": {
      "needs_background": "light"
     },
     "output_type": "display_data"
    }
   ],
   "source": [
    "# create bar chart for the successive scores associated with gffs feature names \n",
    "\n",
    "import matplotlib.pyplot as plt\n",
    "\n",
    "plt.bar(gffs_feature_names, pos_successive_scores)\n",
    "plt.title('GFFS Feature Selection on MSE with ribociclib data (n=44)')\n",
    "plt.xticks(rotation=90)\n",
    "plt.show()\n"
   ]
  },
  {
   "attachments": {},
   "cell_type": "markdown",
   "metadata": {},
   "source": [
    "Implementing the MRMR (Minimum Redundancy Maximum Relevance) Algorithm \n",
    "\n",
    "MRMR does not conflict with the GFFS algorithm. It can even possibly complement GFFS by providing a more objective way of selecting features as a filtering step before GFFS."
   ]
  },
  {
   "cell_type": "code",
   "execution_count": 6,
   "metadata": {},
   "outputs": [],
   "source": [
    "# Code adapted from: \n",
    "# https://towardsdatascience.com/mrmr-explained-exactly-how-you-wished-someone-explained-to-you-9cf4ed27458b\n",
    "\n",
    "import pandas as pd\n",
    "from sklearn.feature_selection import f_regression\n",
    "\n",
    "\n",
    "def mrmr(X, y, K, verbose=0):\n",
    "\n",
    "    # inputs:\n",
    "    #    X: pandas.DataFrame, features\n",
    "    #    y: pandas.Series, target variable\n",
    "    #    K: number of features to select\n",
    "\n",
    "    # compute F-statistics and initialize correlation matrix\n",
    "    F = pd.Series(f_regression(X, y)[0], index = X.columns)\n",
    "    corr = pd.DataFrame(.00001, index = X.columns, columns = X.columns)\n",
    "\n",
    "    # initialize list of selected features and list of excluded features\n",
    "    selected = []\n",
    "    not_selected = X.columns.to_list()\n",
    "\n",
    "    # repeat K times\n",
    "    for i in range(K):\n",
    "    \n",
    "        # compute (absolute) correlations between the last selected feature and all the (currently) excluded features\n",
    "        if i > 0:\n",
    "            last_selected = selected[-1]\n",
    "            corr.loc[not_selected, last_selected] = X[not_selected].corrwith(X[last_selected]).abs().clip(.00001)\n",
    "            \n",
    "        # compute FCQ score for all the (currently) excluded features (this is Formula 2)\n",
    "        score = F.loc[not_selected] / corr.loc[not_selected, selected].mean(axis = 1).fillna(.00001)\n",
    "        \n",
    "        # find best feature, add it to selected and remove it from not_selected\n",
    "        best = score.index[score.argmax()]\n",
    "        selected.append(best)\n",
    "        not_selected.remove(best)\n",
    "\n",
    "        if verbose: \n",
    "            print('Iteration', i+1, 'selected', best, 'score', score.max(), 'remaining', len(not_selected), 'features')\n",
    "    \n",
    "    return selected"
   ]
  },
  {
   "cell_type": "code",
   "execution_count": 9,
   "metadata": {},
   "outputs": [
    {
     "name": "stdout",
     "output_type": "stream",
     "text": [
      "['FOLR3', 'KIAA1841', 'COX6A2', 'PGA5', 'L3MBTL2', 'PAK3', 'OR2T33', 'SYPL2', 'CACNG6', 'TBC1D3I', 'SLC8A1', 'UVRAG', 'PDK4', 'TMED10', 'CSNKA2IP', 'LRRTM3', 'CNGA1', 'VSTM2B', 'RNF180', 'CLEC17A']\n",
      "[3720, 10684, 9874, 18589, 2274, 1368, 13848, 8182, 6183, 18955, 14748, 16691, 59, 12543, 19146, 16792, 16720, 15615, 11092, 15758]\n"
     ]
    }
   ],
   "source": [
    "mrmr_selected_features = mrmr(feature_data, label_data, 20)\n",
    "\n",
    "print(mrmr_selected_features)\n",
    "\n",
    "mrmr_selected_features_index = [feature_data.columns.get_loc(c) for c in mrmr_selected_features]\n",
    "\n",
    "print(mrmr_selected_features_index)"
   ]
  },
  {
   "cell_type": "code",
   "execution_count": 15,
   "metadata": {},
   "outputs": [
    {
     "name": "stdout",
     "output_type": "stream",
     "text": [
      "Final Score: -0.4198638896503953\n"
     ]
    }
   ],
   "source": [
    "from sklearn.svm import LinearSVR\n",
    "# from sklearn.feature_selection import SequentialFeatureSelector # SFS lacks verbosity and step-by-step outputs\n",
    "\n",
    "from sklearn.metrics import mean_squared_error\n",
    "from sklearn.model_selection import cross_val_score\n",
    "\n",
    "import warnings\n",
    "\n",
    "warnings.filterwarnings(\"ignore\")\n",
    "\n",
    "selected_feature_data_mrmr = feature_data.iloc[:,mrmr_selected_features_index]\n",
    "\n",
    "model = LinearSVR()\n",
    "\n",
    "score = cross_val_score(model, selected_feature_data_mrmr, label_data, cv=5, scoring='neg_mean_squared_error').mean()\n",
    "\n",
    "print(f'Final Score: {score}')"
   ]
  },
  {
   "attachments": {},
   "cell_type": "markdown",
   "metadata": {},
   "source": [
    "### Nested Cross-validation for when wrapper methods are used "
   ]
  },
  {
   "cell_type": "code",
   "execution_count": null,
   "metadata": {},
   "outputs": [],
   "source": []
  },
  {
   "attachments": {},
   "cell_type": "markdown",
   "metadata": {},
   "source": [
    "## Streamline"
   ]
  },
  {
   "cell_type": "code",
   "execution_count": null,
   "metadata": {},
   "outputs": [],
   "source": []
  }
 ],
 "metadata": {
  "kernelspec": {
   "display_name": "Python 3",
   "language": "python",
   "name": "python3"
  },
  "language_info": {
   "codemirror_mode": {
    "name": "ipython",
    "version": 3
   },
   "file_extension": ".py",
   "mimetype": "text/x-python",
   "name": "python",
   "nbconvert_exporter": "python",
   "pygments_lexer": "ipython3",
   "version": "3.8.10"
  },
  "orig_nbformat": 4,
  "vscode": {
   "interpreter": {
    "hash": "89988afa352c605b780a66809297c0ee01ffb47acd0679a8e47d11adec9ecd73"
   }
  }
 },
 "nbformat": 4,
 "nbformat_minor": 2
}
