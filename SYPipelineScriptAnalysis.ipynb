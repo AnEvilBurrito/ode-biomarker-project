{
 "cells": [
  {
   "cell_type": "code",
   "execution_count": 2,
   "metadata": {},
   "outputs": [],
   "source": [
    "from toolkit import *\n",
    "\n",
    "from PathLoader import PathLoader\n",
    "\n",
    "path_loader = PathLoader('data_config.env', 'current_user.env')\n",
    "\n",
    "folder_name = 'SYPipelineScript'\n",
    "condition = 'SY_test'\n",
    "\n",
    "# open pickle files\n",
    "with open(f'{path_loader.get_data_path()}data/results/{folder_name}/total_df_{condition}.pkl', 'rb') as f:\n",
    "    total_df = pickle.load(f)\n",
    "    \n",
    "with open(f'{path_loader.get_data_path()}data/results/{folder_name}/meta_df_{condition}.pkl', 'rb') as f:\n",
    "    meta_df = pickle.load(f)\n",
    "    \n",
    "with open(f'{path_loader.get_data_path()}data/results/{folder_name}/rngs_list_{condition}.pkl', 'rb') as f:\n",
    "    rngs_list = pickle.load(f)"
   ]
  },
  {
   "cell_type": "code",
   "execution_count": 3,
   "metadata": {},
   "outputs": [],
   "source": [
    "adjust_for_accuracy = True\n",
    "df = total_df\n",
    "\n",
    "# filter the dataframe by condition\n",
    "df = df[df['condition'] == condition]\n",
    "\n",
    "feature_importance = df['feature_importance']\n",
    "rngs = df['rng']\n",
    "accuracies = df['model_performance']\n",
    "\n",
    "data_collector = []\n",
    "\n",
    "# for each row in the feature importance column, append tuple (feature_name, score) to a list\n",
    "accuracy_tuples = []\n",
    "for fi_row, rng_row, accuracies in zip(feature_importance, rngs, accuracies):\n",
    "    for feature_name, score in zip(fi_row[0], fi_row[1]):\n",
    "        data_collector.append({'iteration_no': rng_row, 'feature_names': feature_name, 'scores': score})\n",
    "        if adjust_for_accuracy:\n",
    "            accuracy_tuples.append((feature_name, accuracies))\n",
    "\n",
    "# convert the list to a dataframe\n",
    "feature_importance_df = pd.DataFrame(data_collector)\n",
    "\n",
    "# if adjust_for_accuracy is False, set accuracy_tuples to None\n",
    "if not adjust_for_accuracy:\n",
    "    accuracy_tuples = None"
   ]
  },
  {
   "cell_type": "code",
   "execution_count": 8,
   "metadata": {},
   "outputs": [],
   "source": [
    "new_kit = Powerkit(None,None)\n",
    "\n",
    "mean_contribution = new_kit.get_mean_contribution(total_df, condition, strict_mean=0.25)"
   ]
  },
  {
   "cell_type": "code",
   "execution_count": 10,
   "metadata": {},
   "outputs": [],
   "source": [
    "mean_variation = get_variation(total_df, condition, use_iqr=True, strict_mean=0.25)"
   ]
  },
  {
   "cell_type": "code",
   "execution_count": 11,
   "metadata": {},
   "outputs": [
    {
     "data": {
      "text/plain": [
       "0.555500652806487"
      ]
     },
     "execution_count": 11,
     "metadata": {},
     "output_type": "execute_result"
    }
   ],
   "source": [
    "mean_performance = total_df.groupby('condition')['model_performance'].mean()[condition]\n",
    "\n",
    "mean_performance"
   ]
  }
 ],
 "metadata": {
  "kernelspec": {
   "display_name": "venv",
   "language": "python",
   "name": "python3"
  },
  "language_info": {
   "codemirror_mode": {
    "name": "ipython",
    "version": 3
   },
   "file_extension": ".py",
   "mimetype": "text/x-python",
   "name": "python",
   "nbconvert_exporter": "python",
   "pygments_lexer": "ipython3",
   "version": "3.8.10"
  },
  "orig_nbformat": 4
 },
 "nbformat": 4,
 "nbformat_minor": 2
}
