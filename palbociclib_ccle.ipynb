{
 "cells": [
  {
   "cell_type": "code",
   "execution_count": 1,
   "metadata": {},
   "outputs": [],
   "source": [
    "## LOADING DATA\n",
    "\n",
    "import pickle\n",
    "\n",
    "# Load ribociclib data from data/preprocessed \n",
    "\n",
    "with open('data/preprocessed/palbociclib_data.pkl', 'rb') as f:\n",
    "    palbociclib_data = pickle.load(f)"
   ]
  },
  {
   "cell_type": "code",
   "execution_count": 2,
   "metadata": {},
   "outputs": [],
   "source": [
    "import dynmarker.FeatureSelection as fs \n",
    "\n",
    "feature_data, label_data = fs.create_feature_and_label(palbociclib_data)"
   ]
  },
  {
   "cell_type": "code",
   "execution_count": 3,
   "metadata": {},
   "outputs": [],
   "source": [
    "from sklearn.preprocessing import StandardScaler, MinMaxScaler, RobustScaler, Normalizer\n",
    "from sklearn.pipeline import Pipeline\n",
    "\n",
    "from sklearn.linear_model import LinearRegression, Ridge, Lasso, ElasticNet\n",
    "from sklearn.ensemble import RandomForestRegressor\n",
    "from sklearn.svm import LinearSVR\n",
    "from sklearn.neighbors import KNeighborsRegressor\n",
    "from sklearn.neural_network import MLPRegressor\n",
    "from sklearn.model_selection import cross_val_score, KFold, train_test_split\n",
    "from sklearn.feature_selection import f_regression, SelectKBest\n",
    "# from sklearn import set_config\n",
    "# set_config(transform_output = \"pandas\")\n",
    "\n",
    "import pandas as pd \n",
    "\n",
    "from functools import partial\n",
    "\n",
    "scaler = Normalizer()\n",
    "feature_selector = SelectKBest(score_func=f_regression, k=20)\n",
    "model = ElasticNet()\n",
    "\n",
    "scores, pval = f_regression(feature_data, label_data)\n",
    "scores # score for each feature at their respective index\n",
    "\n",
    "K = 20\n",
    "mrmr_score_func = partial(fs.mrmr_select_fcq_sklearn, K=K)\n",
    "mrmr_selector = SelectKBest(mrmr_score_func, k=K)\n"
   ]
  },
  {
   "cell_type": "code",
   "execution_count": 4,
   "metadata": {},
   "outputs": [
    {
     "name": "stdout",
     "output_type": "stream",
     "text": [
      "NORM mean: 1.7761, std: 0.0980\n"
     ]
    }
   ],
   "source": [
    "pipe = Pipeline([('feature_selector', feature_selector), ('regressor', model)])\n",
    "\n",
    "scores = cross_val_score(pipe, feature_data, label_data, cv=5, scoring='neg_mean_squared_error')\n",
    "\n",
    "print(f'NORM mean: {-scores.mean():.4f}, std: {scores.std():.4f}')"
   ]
  }
 ],
 "metadata": {
  "kernelspec": {
   "display_name": "Python 3",
   "language": "python",
   "name": "python3"
  },
  "language_info": {
   "codemirror_mode": {
    "name": "ipython",
    "version": 3
   },
   "file_extension": ".py",
   "mimetype": "text/x-python",
   "name": "python",
   "nbconvert_exporter": "python",
   "pygments_lexer": "ipython3",
   "version": "3.8.10"
  },
  "orig_nbformat": 4
 },
 "nbformat": 4,
 "nbformat_minor": 2
}
