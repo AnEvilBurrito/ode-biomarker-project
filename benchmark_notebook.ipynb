{
 "cells": [
  {
   "attachments": {},
   "cell_type": "markdown",
   "metadata": {},
   "source": [
    "# Benchmark Notebook\n",
    "\n",
    "This notebook is used to benchmark the existing pipeline for feature selection using multiple benchmark datasets"
   ]
  },
  {
   "cell_type": "code",
   "execution_count": 3,
   "metadata": {},
   "outputs": [
    {
     "data": {
      "text/plain": [
       "((569, 30), (569,))"
      ]
     },
     "execution_count": 3,
     "metadata": {},
     "output_type": "execute_result"
    }
   ],
   "source": [
    "from sklearn.datasets import load_breast_cancer\n",
    "from shap.datasets import adult\n",
    "\n",
    "benchmark_breast_cancer_X, benchmark_breast_cancer_y = load_breast_cancer(as_frame=True, return_X_y=True)\n",
    "\n",
    "benchmark_breast_cancer_X.shape, benchmark_breast_cancer_y.shape"
   ]
  },
  {
   "cell_type": "code",
   "execution_count": 4,
   "metadata": {},
   "outputs": [
    {
     "data": {
      "text/plain": [
       "((32561, 12), (32561,))"
      ]
     },
     "execution_count": 4,
     "metadata": {},
     "output_type": "execute_result"
    }
   ],
   "source": [
    "# load the adult dataset\n",
    "\n",
    "benchmark_adult_X, benchmark_adult_y = adult()\n",
    "\n",
    "benchmark_adult_X.shape, benchmark_adult_y.shape"
   ]
  },
  {
   "cell_type": "code",
   "execution_count": 2,
   "metadata": {},
   "outputs": [],
   "source": [
    "from sklearn.datasets import make_regression\n",
    "\n",
    "benchmark_regression_X, benchmark_regression_y = make_regression(n_samples=1000, n_features=1000, n_informative=10, random_state=0)\n",
    "\n",
    "# turn X and Y into dataframes\n",
    "\n",
    "import pandas as pd\n",
    "\n",
    "benchmark_regression_X = pd.DataFrame(benchmark_regression_X)\n",
    "\n",
    "# turn to pd.series\n",
    "\n",
    "benchmark_regression_y = pd.Series(benchmark_regression_y)\n",
    "\n",
    "\n",
    "\n"
   ]
  },
  {
   "cell_type": "code",
   "execution_count": 5,
   "metadata": {},
   "outputs": [
    {
     "data": {
      "text/html": [
       "<div>\n",
       "<style scoped>\n",
       "    .dataframe tbody tr th:only-of-type {\n",
       "        vertical-align: middle;\n",
       "    }\n",
       "\n",
       "    .dataframe tbody tr th {\n",
       "        vertical-align: top;\n",
       "    }\n",
       "\n",
       "    .dataframe thead th {\n",
       "        text-align: right;\n",
       "    }\n",
       "</style>\n",
       "<table border=\"1\" class=\"dataframe\">\n",
       "  <thead>\n",
       "    <tr style=\"text-align: right;\">\n",
       "      <th></th>\n",
       "      <th>0</th>\n",
       "      <th>1</th>\n",
       "      <th>2</th>\n",
       "      <th>3</th>\n",
       "      <th>4</th>\n",
       "      <th>5</th>\n",
       "      <th>6</th>\n",
       "      <th>7</th>\n",
       "      <th>8</th>\n",
       "      <th>9</th>\n",
       "      <th>...</th>\n",
       "      <th>990</th>\n",
       "      <th>991</th>\n",
       "      <th>992</th>\n",
       "      <th>993</th>\n",
       "      <th>994</th>\n",
       "      <th>995</th>\n",
       "      <th>996</th>\n",
       "      <th>997</th>\n",
       "      <th>998</th>\n",
       "      <th>999</th>\n",
       "    </tr>\n",
       "  </thead>\n",
       "  <tbody>\n",
       "    <tr>\n",
       "      <th>0</th>\n",
       "      <td>-1.084765</td>\n",
       "      <td>1.237148</td>\n",
       "      <td>0.130101</td>\n",
       "      <td>0.154898</td>\n",
       "      <td>-0.676024</td>\n",
       "      <td>-0.081947</td>\n",
       "      <td>0.641238</td>\n",
       "      <td>-0.154788</td>\n",
       "      <td>0.765215</td>\n",
       "      <td>-0.606001</td>\n",
       "      <td>...</td>\n",
       "      <td>-0.870153</td>\n",
       "      <td>1.194708</td>\n",
       "      <td>0.722042</td>\n",
       "      <td>-0.795280</td>\n",
       "      <td>-0.023182</td>\n",
       "      <td>-1.350349</td>\n",
       "      <td>-0.223828</td>\n",
       "      <td>0.510706</td>\n",
       "      <td>2.040819</td>\n",
       "      <td>0.941756</td>\n",
       "    </tr>\n",
       "    <tr>\n",
       "      <th>1</th>\n",
       "      <td>0.593602</td>\n",
       "      <td>0.486436</td>\n",
       "      <td>-0.325602</td>\n",
       "      <td>0.153472</td>\n",
       "      <td>-0.685815</td>\n",
       "      <td>0.490864</td>\n",
       "      <td>0.335730</td>\n",
       "      <td>-0.124691</td>\n",
       "      <td>-1.610125</td>\n",
       "      <td>-0.275904</td>\n",
       "      <td>...</td>\n",
       "      <td>-0.731246</td>\n",
       "      <td>-0.768045</td>\n",
       "      <td>0.236065</td>\n",
       "      <td>0.856283</td>\n",
       "      <td>-2.426735</td>\n",
       "      <td>-0.016661</td>\n",
       "      <td>-0.314094</td>\n",
       "      <td>1.894548</td>\n",
       "      <td>-0.800644</td>\n",
       "      <td>0.260231</td>\n",
       "    </tr>\n",
       "    <tr>\n",
       "      <th>2</th>\n",
       "      <td>0.506191</td>\n",
       "      <td>-1.735148</td>\n",
       "      <td>-2.781958</td>\n",
       "      <td>0.149985</td>\n",
       "      <td>0.116998</td>\n",
       "      <td>0.963722</td>\n",
       "      <td>-0.651163</td>\n",
       "      <td>-0.050181</td>\n",
       "      <td>0.458096</td>\n",
       "      <td>-0.026627</td>\n",
       "      <td>...</td>\n",
       "      <td>0.563683</td>\n",
       "      <td>-0.342342</td>\n",
       "      <td>-0.789264</td>\n",
       "      <td>0.304380</td>\n",
       "      <td>0.543953</td>\n",
       "      <td>1.375889</td>\n",
       "      <td>0.149494</td>\n",
       "      <td>-0.770951</td>\n",
       "      <td>0.333372</td>\n",
       "      <td>0.292224</td>\n",
       "    </tr>\n",
       "    <tr>\n",
       "      <th>3</th>\n",
       "      <td>-0.891875</td>\n",
       "      <td>-0.529014</td>\n",
       "      <td>-2.173289</td>\n",
       "      <td>0.312993</td>\n",
       "      <td>0.244659</td>\n",
       "      <td>-0.342185</td>\n",
       "      <td>0.360855</td>\n",
       "      <td>-1.891031</td>\n",
       "      <td>1.153390</td>\n",
       "      <td>1.866242</td>\n",
       "      <td>...</td>\n",
       "      <td>-0.483675</td>\n",
       "      <td>-0.083471</td>\n",
       "      <td>1.354622</td>\n",
       "      <td>0.565601</td>\n",
       "      <td>0.745887</td>\n",
       "      <td>1.329062</td>\n",
       "      <td>-1.343778</td>\n",
       "      <td>-0.043938</td>\n",
       "      <td>1.039362</td>\n",
       "      <td>1.638842</td>\n",
       "    </tr>\n",
       "    <tr>\n",
       "      <th>4</th>\n",
       "      <td>0.757861</td>\n",
       "      <td>0.372349</td>\n",
       "      <td>-1.505053</td>\n",
       "      <td>1.187030</td>\n",
       "      <td>0.158975</td>\n",
       "      <td>-0.384438</td>\n",
       "      <td>0.271868</td>\n",
       "      <td>-1.531922</td>\n",
       "      <td>2.476336</td>\n",
       "      <td>1.560857</td>\n",
       "      <td>...</td>\n",
       "      <td>-0.906083</td>\n",
       "      <td>-2.311178</td>\n",
       "      <td>0.506005</td>\n",
       "      <td>-1.466585</td>\n",
       "      <td>1.776045</td>\n",
       "      <td>-0.406498</td>\n",
       "      <td>0.520906</td>\n",
       "      <td>1.568772</td>\n",
       "      <td>-0.318681</td>\n",
       "      <td>1.505933</td>\n",
       "    </tr>\n",
       "  </tbody>\n",
       "</table>\n",
       "<p>5 rows × 1000 columns</p>\n",
       "</div>"
      ],
      "text/plain": [
       "          0         1         2         3         4         5         6  \\\n",
       "0 -1.084765  1.237148  0.130101  0.154898 -0.676024 -0.081947  0.641238   \n",
       "1  0.593602  0.486436 -0.325602  0.153472 -0.685815  0.490864  0.335730   \n",
       "2  0.506191 -1.735148 -2.781958  0.149985  0.116998  0.963722 -0.651163   \n",
       "3 -0.891875 -0.529014 -2.173289  0.312993  0.244659 -0.342185  0.360855   \n",
       "4  0.757861  0.372349 -1.505053  1.187030  0.158975 -0.384438  0.271868   \n",
       "\n",
       "          7         8         9  ...       990       991       992       993  \\\n",
       "0 -0.154788  0.765215 -0.606001  ... -0.870153  1.194708  0.722042 -0.795280   \n",
       "1 -0.124691 -1.610125 -0.275904  ... -0.731246 -0.768045  0.236065  0.856283   \n",
       "2 -0.050181  0.458096 -0.026627  ...  0.563683 -0.342342 -0.789264  0.304380   \n",
       "3 -1.891031  1.153390  1.866242  ... -0.483675 -0.083471  1.354622  0.565601   \n",
       "4 -1.531922  2.476336  1.560857  ... -0.906083 -2.311178  0.506005 -1.466585   \n",
       "\n",
       "        994       995       996       997       998       999  \n",
       "0 -0.023182 -1.350349 -0.223828  0.510706  2.040819  0.941756  \n",
       "1 -2.426735 -0.016661 -0.314094  1.894548 -0.800644  0.260231  \n",
       "2  0.543953  1.375889  0.149494 -0.770951  0.333372  0.292224  \n",
       "3  0.745887  1.329062 -1.343778 -0.043938  1.039362  1.638842  \n",
       "4  1.776045 -0.406498  0.520906  1.568772 -0.318681  1.505933  \n",
       "\n",
       "[5 rows x 1000 columns]"
      ]
     },
     "execution_count": 5,
     "metadata": {},
     "output_type": "execute_result"
    }
   ],
   "source": [
    "# turn columns into strings\n",
    "\n",
    "benchmark_regression_X.columns = [str(i) for i in range(benchmark_regression_X.shape[1])]\n",
    "\n",
    "benchmark_regression_X.head()"
   ]
  },
  {
   "cell_type": "code",
   "execution_count": 6,
   "metadata": {},
   "outputs": [
    {
     "data": {
      "text/plain": [
       "0   -174.503553\n",
       "1     44.361147\n",
       "2    -34.902099\n",
       "3    106.707707\n",
       "4    -18.504495\n",
       "dtype: float64"
      ]
     },
     "execution_count": 6,
     "metadata": {},
     "output_type": "execute_result"
    }
   ],
   "source": [
    "benchmark_regression_y.head()"
   ]
  },
  {
   "cell_type": "code",
   "execution_count": 10,
   "metadata": {},
   "outputs": [],
   "source": [
    "## Import all the models\n",
    "\n",
    "from sklearn.ensemble import RandomForestClassifier, RandomForestRegressor\n",
    "\n",
    "from sklearn.linear_model import LogisticRegression, LinearRegression, Ridge, Lasso, ElasticNet\n",
    "\n",
    "from sklearn.svm import SVC, SVR, LinearSVC, LinearSVR\n",
    "\n",
    "from sklearn.tree import DecisionTreeClassifier, DecisionTreeRegressor\n",
    "\n",
    "from sklearn.ensemble import GradientBoostingClassifier, GradientBoostingRegressor\n",
    "\n",
    "from sklearn.ensemble import AdaBoostClassifier, AdaBoostRegressor\n",
    "\n",
    "from sklearn.ensemble import ExtraTreesClassifier, ExtraTreesRegressor\n",
    "\n",
    "from sklearn.ensemble import BaggingClassifier, BaggingRegressor\n",
    "\n",
    "from sklearn.neighbors import KNeighborsClassifier, KNeighborsRegressor\n",
    "\n",
    "from sklearn.neural_network import MLPClassifier, MLPRegressor\n",
    "\n"
   ]
  },
  {
   "cell_type": "code",
   "execution_count": 17,
   "metadata": {},
   "outputs": [
    {
     "name": "stdout",
     "output_type": "stream",
     "text": [
      "MSE = 13530.9535, Correlation = 0.8837, p-value = 0.0000\n"
     ]
    }
   ],
   "source": [
    "# perform a simple train test split fitting \n",
    "\n",
    "from sklearn.datasets import make_regression\n",
    "from sklearn.metrics import mean_squared_error\n",
    "from scipy.stats import pearsonr\n",
    "import pandas as pd\n",
    "from sklearn.model_selection import train_test_split\n",
    "\n",
    "n_samples = 1000\n",
    "n_features = 1000\n",
    "n_informative = 10\n",
    "random_state = 0\n",
    "model = ElasticNet()\n",
    "\n",
    "benchmark_regression_X, benchmark_regression_y = make_regression(n_samples=n_samples, \n",
    "                                                                 n_features=n_features, \n",
    "                                                                 n_informative=n_informative, \n",
    "                                                                 random_state=random_state)\n",
    "\n",
    "# turn X and Y into dataframes\n",
    "benchmark_regression_X = pd.DataFrame(benchmark_regression_X)\n",
    "benchmark_regression_y = pd.Series(benchmark_regression_y)\n",
    "\n",
    "X = benchmark_regression_X\n",
    "y = benchmark_regression_y\n",
    "\n",
    "X_train, X_test, y_train, y_test = train_test_split(X, y, test_size=0.2, random_state=random_state)\n",
    "\n",
    "model.fit(X_train, y_train)\n",
    "\n",
    "y_pred = model.predict(X_test)\n",
    "\n",
    "# calculate the error\n",
    "\n",
    "mse = mean_squared_error(y_test, y_pred)\n",
    "\n",
    "# pearson correlation coefficient and p-value\n",
    "corr, pval = pearsonr(y_test, y_pred)\n",
    "\n",
    "print(f'MSE = {mse:.4f}, Correlation = {corr:.4f}, p-value = {pval:.4f}')\n",
    "\n"
   ]
  },
  {
   "cell_type": "code",
   "execution_count": 15,
   "metadata": {},
   "outputs": [
    {
     "data": {
      "image/png": "[encoded data removed]",
      "text/plain": [
       "<Figure size 432x288 with 1 Axes>"
      ]
     },
     "metadata": {
      "needs_background": "light"
     },
     "output_type": "display_data"
    }
   ],
   "source": [
    "## plot y_test vs y_pred\n",
    "\n",
    "import matplotlib.pyplot as plt\n",
    "\n",
    "plt.scatter(y_test, y_pred)\n",
    "# plot a line y=x\n",
    "\n",
    "plt.plot([y_test.min(), y_test.max()], [y_test.min(), y_test.max()], 'k--', lw=4)\n",
    "plt.xlabel('Measured')\n",
    "plt.ylabel('Predicted')\n",
    "plt.show()"
   ]
  },
  {
   "cell_type": "code",
   "execution_count": null,
   "metadata": {},
   "outputs": [],
   "source": [
    "collection_df = pd.DataFrame(columns=['model_name', 'mse', 'corr', 'pval', 'ypred', 'ytest'])\n",
    "\n",
    "# n_samples = 1000\n",
    "# n_features = 1000\n",
    "# n_informative = 10\n",
    "# random_state = 0\n",
    "# model = ElasticNet()\n",
    "\n",
    "# generate ranges of samples, features, informative features\n",
    "\n",
    "sample_size = 1000\n",
    "feature_to_sample_ratio = 10\n",
    "n_informative_to_feature_ratio = 0.01"
   ]
  }
 ],
 "metadata": {
  "kernelspec": {
   "display_name": "Python 3",
   "language": "python",
   "name": "python3"
  },
  "language_info": {
   "codemirror_mode": {
    "name": "ipython",
    "version": 3
   },
   "file_extension": ".py",
   "mimetype": "text/x-python",
   "name": "python",
   "nbconvert_exporter": "python",
   "pygments_lexer": "ipython3",
   "version": "3.8.10"
  },
  "orig_nbformat": 4
 },
 "nbformat": 4,
 "nbformat_minor": 2
}
