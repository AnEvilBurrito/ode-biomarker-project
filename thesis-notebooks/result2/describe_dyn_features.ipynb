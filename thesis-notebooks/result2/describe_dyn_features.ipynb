{
 "cells": [
  {
   "cell_type": "code",
   "execution_count": 1,
   "id": "1cac06e9",
   "metadata": {},
   "outputs": [],
   "source": [
    "# Jupyter notebook in Jupytext format"
   ]
  },
  {
   "cell_type": "markdown",
   "id": "03ed2b0e",
   "metadata": {},
   "source": [
    "## Initialisation"
   ]
  },
  {
   "cell_type": "code",
   "execution_count": 2,
   "id": "e183b932",
   "metadata": {},
   "outputs": [
    {
     "name": "stdout",
     "output_type": "stream",
     "text": [
      "Project path set to: c:\\Github\\ode-biomarker-project\n"
     ]
    }
   ],
   "source": [
    "import os\n",
    "\n",
    "path = os.getcwd()\n",
    "# find the string 'project' in the path, return index\n",
    "index_project = path.find(\"project\")\n",
    "# slice the path from the index of 'project' to the end\n",
    "project_path = path[: index_project + 7]\n",
    "# set the working directory\n",
    "os.chdir(project_path)\n",
    "print(f\"Project path set to: {os.getcwd()}\")"
   ]
  },
  {
   "cell_type": "code",
   "execution_count": 3,
   "id": "97dd7691",
   "metadata": {},
   "outputs": [],
   "source": [
    "from PathLoader import PathLoader #noqa: E402\n",
    "\n",
    "path_loader = PathLoader(\"data_config.env\", \"current_user.env\")"
   ]
  },
  {
   "cell_type": "code",
   "execution_count": 4,
   "id": "d4b33e97",
   "metadata": {},
   "outputs": [],
   "source": [
    "from DataLink import DataLink #noqa: E402\n",
    "\n",
    "data_link = DataLink(path_loader, \"data_codes.csv\")"
   ]
  },
  {
   "cell_type": "code",
   "execution_count": 5,
   "id": "75632a27",
   "metadata": {},
   "outputs": [],
   "source": [
    "folder_name = \"ThesisResult2-1-DynamicFeatures\"\n",
    "exp_id = \"v1\"\n",
    "\n",
    "if not os.path.exists(f\"{path_loader.get_data_path()}data/results/{folder_name}/{exp_id}\"):\n",
    "    os.makedirs(f\"{path_loader.get_data_path()}data/results/{folder_name}/{exp_id}\")\n",
    "\n",
    "file_save_path = f\"{path_loader.get_data_path()}data/results/{folder_name}/{exp_id}/\""
   ]
  },
  {
   "cell_type": "code",
   "execution_count": 6,
   "id": "534fd64a",
   "metadata": {},
   "outputs": [
    {
     "name": "stdout",
     "output_type": "stream",
     "text": [
      "Proteomic feature data shape: (737, 6692)\n",
      "Proteomic label data shape: (737,)\n"
     ]
    }
   ],
   "source": [
    "# Load Proteomics Palbociclib dataset\n",
    "loading_code = \"goncalves-gdsc-2-Palbociclib-LN_IC50-sin\"\n",
    "proteomic_feature_data, proteomic_label_data = data_link.get_data_using_code(\n",
    "    loading_code\n",
    ")\n",
    "\n",
    "print(f\"Proteomic feature data shape: {proteomic_feature_data.shape}\")\n",
    "print(f\"Proteomic label data shape: {proteomic_label_data.shape}\")"
   ]
  },
  {
   "cell_type": "code",
   "execution_count": 7,
   "id": "ffdf217f",
   "metadata": {},
   "outputs": [
    {
     "name": "stdout",
     "output_type": "stream",
     "text": [
      "Final aligned dataset shape: (737, 6692)\n",
      "Final aligned label shape: (737,)\n"
     ]
    }
   ],
   "source": [
    "# Data preparation and alignment\n",
    "import numpy as np #noqa: E402\n",
    "\n",
    "# Ensure numeric only\n",
    "proteomic_feature_data = proteomic_feature_data.select_dtypes(include=[np.number])\n",
    "\n",
    "# Align indices\n",
    "common_indices = sorted(\n",
    "    set(proteomic_feature_data.index) & set(proteomic_label_data.index)\n",
    ")\n",
    "feature_data = proteomic_feature_data.loc[common_indices]\n",
    "label_data = proteomic_label_data.loc[common_indices]\n",
    "\n",
    "print(f\"Final aligned dataset shape: {feature_data.shape}\")\n",
    "print(f\"Final aligned label shape: {label_data.shape}\")"
   ]
  },
  {
   "cell_type": "code",
   "execution_count": 8,
   "id": "d551c921",
   "metadata": {},
   "outputs": [
    {
     "name": "stdout",
     "output_type": "stream",
     "text": [
      "Dynamic dataset shape: (665, 260)\n",
      "Dynamic label shape: (665,)\n"
     ]
    }
   ],
   "source": [
    "\n",
    "feature_data_dynamic, label_data_dynamic = data_link.get_data_using_code('generic-gdsc-1-FGFR_0939-LN_IC50-fgfr4_ccle_dynamic_features-true-Row')\n",
    "print(f\"Dynamic dataset shape: {feature_data_dynamic.shape}\")\n",
    "print(f\"Dynamic label shape: {label_data_dynamic.shape}\")"
   ]
  },
  {
   "cell_type": "markdown",
   "id": "96b7e049",
   "metadata": {
    "lines_to_next_cell": 3
   },
   "source": [
    "## Functions"
   ]
  }
 ],
 "metadata": {
  "jupytext": {
   "cell_metadata_filter": "-all",
   "formats": "ipynb,py:percent"
  },
  "kernelspec": {
   "display_name": "ode-biomarker-project",
   "language": "python",
   "name": "python3"
  },
  "language_info": {
   "codemirror_mode": {
    "name": "ipython",
    "version": 3
   },
   "file_extension": ".py",
   "mimetype": "text/x-python",
   "name": "python",
   "nbconvert_exporter": "python",
   "pygments_lexer": "ipython3",
   "version": "3.10.17"
  }
 },
 "nbformat": 4,
 "nbformat_minor": 5
}
