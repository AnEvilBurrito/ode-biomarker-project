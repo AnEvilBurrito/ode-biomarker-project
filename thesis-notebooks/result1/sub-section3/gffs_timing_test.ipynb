{
 "cells": [
  {
   "cell_type": "code",
   "execution_count": 1,
   "id": "5eb858ca",
   "metadata": {},
   "outputs": [],
   "source": [
    "# Jupyter notebook in Jupytext format"
   ]
  },
  {
   "cell_type": "markdown",
   "id": "71608e02",
   "metadata": {},
   "source": [
    "## Initialisation"
   ]
  },
  {
   "cell_type": "code",
   "execution_count": 2,
   "id": "a6b10150",
   "metadata": {},
   "outputs": [
    {
     "name": "stdout",
     "output_type": "stream",
     "text": [
      "Project path set to: c:\\Github\\ode-biomarker-project\n"
     ]
    }
   ],
   "source": [
    "import os\n",
    "\n",
    "path = os.getcwd()\n",
    "# find the string 'project' in the path, return index\n",
    "index_project = path.find(\"project\")\n",
    "# slice the path from the index of 'project' to the end\n",
    "project_path = path[: index_project + 7]\n",
    "# set the working directory\n",
    "os.chdir(project_path)\n",
    "print(f\"Project path set to: {os.getcwd()}\")"
   ]
  },
  {
   "cell_type": "code",
   "execution_count": 3,
   "id": "0090dd13",
   "metadata": {},
   "outputs": [],
   "source": [
    "from PathLoader import PathLoader  # noqa: E402\n",
    "\n",
    "path_loader = PathLoader(\"data_config.env\", \"current_user.env\")"
   ]
  },
  {
   "cell_type": "code",
   "execution_count": 4,
   "id": "301e5f7c",
   "metadata": {},
   "outputs": [],
   "source": [
    "from DataLink import DataLink  # noqa: E402\n",
    "\n",
    "data_link = DataLink(path_loader, \"data_codes.csv\")"
   ]
  },
  {
   "cell_type": "code",
   "execution_count": 5,
   "id": "50c93f26",
   "metadata": {
    "lines_to_next_cell": 2
   },
   "outputs": [],
   "source": [
    "folder_name = \"ThesisResult4-FeatureSelectionBenchmark\"\n",
    "exp_id = \"v1\"\n",
    "\n",
    "if not os.path.exists(f\"{path_loader.get_data_path()}data/results/{folder_name}\"):\n",
    "    os.makedirs(f\"{path_loader.get_data_path()}data/results/{folder_name}\")\n",
    "\n",
    "file_save_path = f\"{path_loader.get_data_path()}data/results/{folder_name}/\""
   ]
  },
  {
   "cell_type": "markdown",
   "id": "155ec7b7",
   "metadata": {},
   "source": [
    "## GFFS Timing Test"
   ]
  },
  {
   "cell_type": "code",
   "execution_count": 6,
   "id": "c95f4d81",
   "metadata": {},
   "outputs": [],
   "source": [
    "import time # noqa: F811, E402\n",
    "import numpy as np # noqa: E402\n",
    "import pandas as pd # noqa: E402\n",
    "import matplotlib.pyplot as plt # noqa: E402\n",
    "from scipy.optimize import curve_fit # noqa: E402\n",
    "from sklearn.svm import SVR # noqa: E402\n",
    "from sklearn.feature_selection import f_regression # noqa: E402\n",
    "from toolkit import greedy_feedforward_select # noqa: E402"
   ]
  },
  {
   "cell_type": "code",
   "execution_count": 7,
   "id": "f01e8f7e",
   "metadata": {},
   "outputs": [],
   "source": [
    "def get_most_correlated_feature(X: pd.DataFrame, y: pd.Series) -> str:\n",
    "    \"\"\"Find the feature with highest correlation to target\"\"\"\n",
    "    correlations = []\n",
    "    for col in X.columns:\n",
    "        corr = np.corrcoef(X[col], y)[0, 1]\n",
    "        correlations.append((col, abs(corr)))\n",
    "    \n",
    "    # Return feature with highest absolute correlation\n",
    "    most_correlated = max(correlations, key=lambda x: x[1])\n",
    "    return most_correlated[0]"
   ]
  },
  {
   "cell_type": "code",
   "execution_count": 8,
   "id": "1008148f",
   "metadata": {},
   "outputs": [],
   "source": [
    "def time_gffs_selection(X, y, k_values, iterations=3):\n",
    "    \"\"\"Time GFFS feature selection for different k values\"\"\"\n",
    "    timing_results = []\n",
    "\n",
    "    # Create SVR model with linear kernel\n",
    "    svr_model = SVR(kernel='linear', C=1.0)\n",
    "    \n",
    "    for k in k_values:\n",
    "        iteration_times = []\n",
    "\n",
    "        for i in range(iterations):\n",
    "            start_time = time.time()\n",
    "\n",
    "            # Find starting feature (most correlated with target)\n",
    "            start_feature = get_most_correlated_feature(X, y)\n",
    "            \n",
    "            # Pure GFFS selection without any other processing\n",
    "            selected_features = greedy_feedforward_select(\n",
    "                X, y, k, svr_model, start_feature, cv=5, scoring_method='r2', verbose=0\n",
    "            )\n",
    "\n",
    "            end_time = time.time()\n",
    "            selection_time = end_time - start_time\n",
    "            iteration_times.append(selection_time)\n",
    "\n",
    "            print(f\"k={k}, iteration {i + 1}: {selection_time:.4f}s\")\n",
    "\n",
    "        # Calculate statistics\n",
    "        mean_time = np.mean(iteration_times)\n",
    "        std_time = np.std(iteration_times)\n",
    "\n",
    "        timing_results.append(\n",
    "            {\n",
    "                \"k_value\": k,\n",
    "                \"mean_time\": mean_time,\n",
    "                \"std_time\": std_time,\n",
    "                \"min_time\": min(iteration_times),\n",
    "                \"max_time\": max(iteration_times),\n",
    "                \"n_features_selected\": len(selected_features),\n",
    "            }\n",
    "        )\n",
    "\n",
    "        print(f\"k={k}: Mean time = {mean_time:.4f}s ± {std_time:.4f}s\")\n",
    "\n",
    "    return pd.DataFrame(timing_results)"
   ]
  },
  {
   "cell_type": "code",
   "execution_count": 9,
   "id": "26b1d2ba",
   "metadata": {},
   "outputs": [],
   "source": [
    "def analyze_gffs_complexity(timing_df):\n",
    "    \"\"\"Analyze time complexity of GFFS feature selection\"\"\"\n",
    "    \n",
    "    def quadratic_func(x, a, b, c):\n",
    "        return a * x**2 + b * x + c\n",
    "\n",
    "    def linear_func(x, a, b):\n",
    "        return a * x + b\n",
    "\n",
    "    # Fit different complexity models\n",
    "    x_data = timing_df[\"k_value\"]\n",
    "    y_data = timing_df[\"mean_time\"]\n",
    "\n",
    "    try:\n",
    "        # Quadratic fit (O(n²) complexity)\n",
    "        popt_quad, _ = curve_fit(quadratic_func, x_data, y_data)\n",
    "        y_pred_quad = quadratic_func(x_data, *popt_quad)\n",
    "\n",
    "        # Linear fit (O(n) complexity)\n",
    "        popt_lin, _ = curve_fit(linear_func, x_data, y_data)\n",
    "        y_pred_lin = linear_func(x_data, *popt_lin)\n",
    "\n",
    "        # Calculate R² for both fits\n",
    "        ss_res_quad = np.sum((y_data - y_pred_quad) ** 2)\n",
    "        ss_tot_quad = np.sum((y_data - np.mean(y_data)) ** 2)\n",
    "        r2_quad = 1 - (ss_res_quad / ss_tot_quad)\n",
    "\n",
    "        ss_res_lin = np.sum((y_data - y_pred_lin) ** 2)\n",
    "        ss_tot_lin = np.sum((y_data - np.mean(y_data)) ** 2)\n",
    "        r2_lin = 1 - (ss_res_lin / ss_tot_lin)\n",
    "\n",
    "        print(f\"Quadratic fit R²: {r2_quad:.4f}\")\n",
    "        print(f\"Linear fit R²: {r2_lin:.4f}\")\n",
    "\n",
    "        # Plot fits\n",
    "        plt.figure(figsize=(10, 6))\n",
    "        plt.plot(x_data, y_data, \"bo-\", label=\"Actual Data\")\n",
    "        plt.plot(x_data, y_pred_quad, \"r--\", label=f\"Quadratic Fit (R²={r2_quad:.3f})\")\n",
    "        plt.plot(x_data, y_pred_lin, \"g--\", label=f\"Linear Fit (R²={r2_lin:.3f})\")\n",
    "        plt.title(\"GFFS Time Complexity Analysis\")\n",
    "        plt.xlabel(\"Number of Features Selected (k)\")\n",
    "        plt.ylabel(\"Time (seconds)\")\n",
    "        plt.legend()\n",
    "        plt.grid(True, alpha=0.3)\n",
    "        plt.tight_layout()\n",
    "        plt.show()\n",
    "        \n",
    "        return {\n",
    "            \"quadratic_r2\": r2_quad,\n",
    "            \"linear_r2\": r2_lin,\n",
    "            \"quadratic_params\": popt_quad,\n",
    "            \"linear_params\": popt_lin\n",
    "        }\n",
    "\n",
    "    except Exception as e:\n",
    "        print(f\"Complexity analysis failed: {e}\")\n",
    "        return None"
   ]
  },
  {
   "cell_type": "code",
   "execution_count": 10,
   "id": "3f185355",
   "metadata": {},
   "outputs": [],
   "source": [
    "def plot_gffs_timing(timing_df):\n",
    "    \"\"\"Plot GFFS timing results\"\"\"\n",
    "    plt.figure(figsize=(10, 6))\n",
    "    plt.errorbar(\n",
    "        timing_df[\"k_value\"],\n",
    "        timing_df[\"mean_time\"],\n",
    "        yerr=timing_df[\"std_time\"],\n",
    "        fmt=\"o-\",\n",
    "        capsize=5,\n",
    "    )\n",
    "    plt.title(\"GFFS Feature Selection Time vs Number of Features\")\n",
    "    plt.xlabel(\"Number of Features Selected (k)\")\n",
    "    plt.ylabel(\"Time (seconds)\")\n",
    "    plt.grid(True, alpha=0.3)\n",
    "    plt.tight_layout()\n",
    "    plt.show()"
   ]
  },
  {
   "cell_type": "code",
   "execution_count": 11,
   "id": "41e4796e",
   "metadata": {},
   "outputs": [],
   "source": [
    "def run_gffs_timing_test(feature_data, label_data, k_values=None, iterations=3, feature_subset_size=100):\n",
    "    \"\"\"Run complete GFFS timing test\"\"\"\n",
    "    \n",
    "    if k_values is None:\n",
    "        k_values = list(range(1, 21))  # k=1 to 20\n",
    "    \n",
    "    # Prepare data subset for faster testing (GFFS is computationally intensive)\n",
    "    feature_subset = feature_data.iloc[:, :feature_subset_size]\n",
    "    print(f\"Testing GFFS on subset: {feature_subset.shape}\")\n",
    "    \n",
    "    # Run timing test\n",
    "    print(\"Starting isolated GFFS timing test...\")\n",
    "    gffs_timing_df = time_gffs_selection(\n",
    "        feature_subset, label_data, k_values, iterations\n",
    "    )\n",
    "    \n",
    "    # Display results\n",
    "    print(\"\\nGFFS Timing Results:\")\n",
    "    print(gffs_timing_df.round(4))\n",
    "    \n",
    "    # Plot results\n",
    "    plot_gffs_timing(gffs_timing_df)\n",
    "    \n",
    "    # Analyze complexity\n",
    "    complexity_results = analyze_gffs_complexity(gffs_timing_df)\n",
    "    \n",
    "    return gffs_timing_df, complexity_results"
   ]
  },
  {
   "cell_type": "code",
   "execution_count": 12,
   "id": "a3dd2c3d",
   "metadata": {},
   "outputs": [],
   "source": [
    "def test_gffs_scalability(feature_data, label_data, k_values, feature_subset_size=100):\n",
    "    \"\"\"\n",
    "    Test GFFS scalability with different k values\n",
    "    \"\"\"\n",
    "    # Use small subset for scalability testing (GFFS is computationally intensive)\n",
    "    feature_subset = feature_data.iloc[:, :feature_subset_size]\n",
    "    print(f\"Testing GFFS scalability on subset: {feature_subset.shape}\")\n",
    "    print(f\"Testing k values: {k_values}\")\n",
    "    \n",
    "    scalability_results = []\n",
    "    \n",
    "    # Create SVR model with linear kernel\n",
    "    svr_model = SVR(kernel='linear', C=1.0)\n",
    "    \n",
    "    for k in k_values:\n",
    "        print(f\"\\n--- Testing k={k} ---\")\n",
    "        \n",
    "        # Find starting feature\n",
    "        start_feature = get_most_correlated_feature(feature_subset, label_data)\n",
    "        \n",
    "        # Test GFFS\n",
    "        start_time = time.time()\n",
    "        selected_features = greedy_feedforward_select(\n",
    "            feature_subset, label_data, k, svr_model, start_feature, cv=5, scoring_method='r2', verbose=0\n",
    "        )\n",
    "        gffs_time = time.time() - start_time\n",
    "        \n",
    "        print(f\"GFFS time: {gffs_time:.4f}s\")\n",
    "        print(f\"GFFS selected (first 10): {selected_features[:10]}\")\n",
    "        \n",
    "        scalability_results.append({\n",
    "            \"k\": k,\n",
    "            \"gffs_time\": gffs_time,\n",
    "            \"gffs_selected\": selected_features,\n",
    "            \"start_feature\": start_feature\n",
    "        })\n",
    "    \n",
    "    return pd.DataFrame(scalability_results)"
   ]
  },
  {
   "cell_type": "markdown",
   "id": "a51b17fd",
   "metadata": {},
   "source": [
    "## Execution"
   ]
  },
  {
   "cell_type": "markdown",
   "id": "f1ffcfb9",
   "metadata": {},
   "source": [
    "### Loading data"
   ]
  },
  {
   "cell_type": "code",
   "execution_count": 13,
   "id": "0776389b",
   "metadata": {},
   "outputs": [
    {
     "name": "stdout",
     "output_type": "stream",
     "text": [
      "Proteomic feature data shape: (737, 6692)\n",
      "Proteomic label data shape: (737,)\n"
     ]
    }
   ],
   "source": [
    "# Load Proteomics Palbociclib dataset for GFFS timing test\n",
    "loading_code = \"goncalves-gdsc-2-Palbociclib-LN_IC50-sin\"\n",
    "proteomic_feature_data, proteomic_label_data = data_link.get_data_using_code(\n",
    "    loading_code\n",
    ")\n",
    "\n",
    "print(f\"Proteomic feature data shape: {proteomic_feature_data.shape}\")\n",
    "print(f\"Proteomic label data shape: {proteomic_label_data.shape}\")"
   ]
  },
  {
   "cell_type": "code",
   "execution_count": 14,
   "id": "da0cd554",
   "metadata": {},
   "outputs": [
    {
     "name": "stdout",
     "output_type": "stream",
     "text": [
      "Final aligned dataset shape: (737, 6692)\n",
      "Final aligned label shape: (737,)\n"
     ]
    }
   ],
   "source": [
    "# Data preparation and alignment\n",
    "import numpy as np #noqa: E402\n",
    "\n",
    "# Ensure numeric only\n",
    "proteomic_feature_data = proteomic_feature_data.select_dtypes(include=[np.number])\n",
    "\n",
    "# Align indices\n",
    "common_indices = sorted(\n",
    "    set(proteomic_feature_data.index) & set(proteomic_label_data.index)\n",
    ")\n",
    "feature_data = proteomic_feature_data.loc[common_indices]\n",
    "label_data = proteomic_label_data.loc[common_indices]\n",
    "\n",
    "print(f\"Final aligned dataset shape: {feature_data.shape}\")\n",
    "print(f\"Final aligned label shape: {label_data.shape}\")"
   ]
  },
  {
   "cell_type": "markdown",
   "id": "cc4cd654",
   "metadata": {},
   "source": [
    "### Test 1: Basic GFFS Timing Test"
   ]
  },
  {
   "cell_type": "code",
   "execution_count": 17,
   "id": "303ee0ed",
   "metadata": {},
   "outputs": [],
   "source": [
    "# Setup test parameters\n",
    "k_values_to_test = list(range(1, 21))  # k=1 to 20\n",
    "n_iterations = 3  # Fewer iterations due to GFFS computational intensity\n",
    "feature_subset_size = 500  # Use first 100 features for faster testing"
   ]
  },
  {
   "cell_type": "code",
   "execution_count": 18,
   "id": "f3d3c8d0",
   "metadata": {},
   "outputs": [
    {
     "name": "stdout",
     "output_type": "stream",
     "text": [
      "Executing GFFS timing test...\n",
      "Testing GFFS on subset: (737, 500)\n",
      "Starting isolated GFFS timing test...\n",
      "k=1, iteration 1: 0.1640s\n",
      "k=1, iteration 2: 0.1350s\n",
      "k=1, iteration 3: 0.1150s\n",
      "k=1: Mean time = 0.1380s ± 0.0201s\n",
      "k=2, iteration 1: 43.1632s\n"
     ]
    },
    {
     "ename": "KeyboardInterrupt",
     "evalue": "",
     "output_type": "error",
     "traceback": [
      "\u001b[1;31m---------------------------------------------------------------------------\u001b[0m",
      "\u001b[1;31mKeyboardInterrupt\u001b[0m                         Traceback (most recent call last)",
      "Cell \u001b[1;32mIn[18], line 3\u001b[0m\n\u001b[0;32m      1\u001b[0m \u001b[38;5;66;03m# Run the GFFS timing test\u001b[39;00m\n\u001b[0;32m      2\u001b[0m \u001b[38;5;28mprint\u001b[39m(\u001b[38;5;124m\"\u001b[39m\u001b[38;5;124mExecuting GFFS timing test...\u001b[39m\u001b[38;5;124m\"\u001b[39m)\n\u001b[1;32m----> 3\u001b[0m gffs_timing_df, complexity_results \u001b[38;5;241m=\u001b[39m \u001b[43mrun_gffs_timing_test\u001b[49m\u001b[43m(\u001b[49m\n\u001b[0;32m      4\u001b[0m \u001b[43m    \u001b[49m\u001b[43mfeature_data\u001b[49m\u001b[43m,\u001b[49m\u001b[43m \u001b[49m\n\u001b[0;32m      5\u001b[0m \u001b[43m    \u001b[49m\u001b[43mlabel_data\u001b[49m\u001b[43m,\u001b[49m\u001b[43m \u001b[49m\n\u001b[0;32m      6\u001b[0m \u001b[43m    \u001b[49m\u001b[43mk_values\u001b[49m\u001b[38;5;241;43m=\u001b[39;49m\u001b[43mk_values_to_test\u001b[49m\u001b[43m,\u001b[49m\u001b[43m \u001b[49m\n\u001b[0;32m      7\u001b[0m \u001b[43m    \u001b[49m\u001b[43miterations\u001b[49m\u001b[38;5;241;43m=\u001b[39;49m\u001b[43mn_iterations\u001b[49m\u001b[43m,\u001b[49m\u001b[43m \u001b[49m\n\u001b[0;32m      8\u001b[0m \u001b[43m    \u001b[49m\u001b[43mfeature_subset_size\u001b[49m\u001b[38;5;241;43m=\u001b[39;49m\u001b[43mfeature_subset_size\u001b[49m\n\u001b[0;32m      9\u001b[0m \u001b[43m)\u001b[49m\n",
      "Cell \u001b[1;32mIn[11], line 13\u001b[0m, in \u001b[0;36mrun_gffs_timing_test\u001b[1;34m(feature_data, label_data, k_values, iterations, feature_subset_size)\u001b[0m\n\u001b[0;32m     11\u001b[0m \u001b[38;5;66;03m# Run timing test\u001b[39;00m\n\u001b[0;32m     12\u001b[0m \u001b[38;5;28mprint\u001b[39m(\u001b[38;5;124m\"\u001b[39m\u001b[38;5;124mStarting isolated GFFS timing test...\u001b[39m\u001b[38;5;124m\"\u001b[39m)\n\u001b[1;32m---> 13\u001b[0m gffs_timing_df \u001b[38;5;241m=\u001b[39m \u001b[43mtime_gffs_selection\u001b[49m\u001b[43m(\u001b[49m\n\u001b[0;32m     14\u001b[0m \u001b[43m    \u001b[49m\u001b[43mfeature_subset\u001b[49m\u001b[43m,\u001b[49m\u001b[43m \u001b[49m\u001b[43mlabel_data\u001b[49m\u001b[43m,\u001b[49m\u001b[43m \u001b[49m\u001b[43mk_values\u001b[49m\u001b[43m,\u001b[49m\u001b[43m \u001b[49m\u001b[43miterations\u001b[49m\n\u001b[0;32m     15\u001b[0m \u001b[43m\u001b[49m\u001b[43m)\u001b[49m\n\u001b[0;32m     17\u001b[0m \u001b[38;5;66;03m# Display results\u001b[39;00m\n\u001b[0;32m     18\u001b[0m \u001b[38;5;28mprint\u001b[39m(\u001b[38;5;124m\"\u001b[39m\u001b[38;5;130;01m\\n\u001b[39;00m\u001b[38;5;124mGFFS Timing Results:\u001b[39m\u001b[38;5;124m\"\u001b[39m)\n",
      "Cell \u001b[1;32mIn[8], line 18\u001b[0m, in \u001b[0;36mtime_gffs_selection\u001b[1;34m(X, y, k_values, iterations)\u001b[0m\n\u001b[0;32m     15\u001b[0m start_feature \u001b[38;5;241m=\u001b[39m get_most_correlated_feature(X, y)\n\u001b[0;32m     17\u001b[0m \u001b[38;5;66;03m# Pure GFFS selection without any other processing\u001b[39;00m\n\u001b[1;32m---> 18\u001b[0m selected_features \u001b[38;5;241m=\u001b[39m \u001b[43mgreedy_feedforward_select\u001b[49m\u001b[43m(\u001b[49m\n\u001b[0;32m     19\u001b[0m \u001b[43m    \u001b[49m\u001b[43mX\u001b[49m\u001b[43m,\u001b[49m\u001b[43m \u001b[49m\u001b[43my\u001b[49m\u001b[43m,\u001b[49m\u001b[43m \u001b[49m\u001b[43mk\u001b[49m\u001b[43m,\u001b[49m\u001b[43m \u001b[49m\u001b[43msvr_model\u001b[49m\u001b[43m,\u001b[49m\u001b[43m \u001b[49m\u001b[43mstart_feature\u001b[49m\u001b[43m,\u001b[49m\u001b[43m \u001b[49m\u001b[43mcv\u001b[49m\u001b[38;5;241;43m=\u001b[39;49m\u001b[38;5;241;43m5\u001b[39;49m\u001b[43m,\u001b[49m\u001b[43m \u001b[49m\u001b[43mscoring_method\u001b[49m\u001b[38;5;241;43m=\u001b[39;49m\u001b[38;5;124;43m'\u001b[39;49m\u001b[38;5;124;43mr2\u001b[39;49m\u001b[38;5;124;43m'\u001b[39;49m\u001b[43m,\u001b[49m\u001b[43m \u001b[49m\u001b[43mverbose\u001b[49m\u001b[38;5;241;43m=\u001b[39;49m\u001b[38;5;241;43m0\u001b[39;49m\n\u001b[0;32m     20\u001b[0m \u001b[43m\u001b[49m\u001b[43m)\u001b[49m\n\u001b[0;32m     22\u001b[0m end_time \u001b[38;5;241m=\u001b[39m time\u001b[38;5;241m.\u001b[39mtime()\n\u001b[0;32m     23\u001b[0m selection_time \u001b[38;5;241m=\u001b[39m end_time \u001b[38;5;241m-\u001b[39m start_time\n",
      "File \u001b[1;32mc:\\Github\\ode-biomarker-project\\toolkit.py:1237\u001b[0m, in \u001b[0;36mgreedy_feedforward_select\u001b[1;34m(X, y, k, model, start_feature, cv, scoring_method, verbose)\u001b[0m\n\u001b[0;32m   1235\u001b[0m \u001b[38;5;28;01mfor\u001b[39;00m f \u001b[38;5;129;01min\u001b[39;00m remaining_features: \n\u001b[0;32m   1236\u001b[0m     selected\u001b[38;5;241m.\u001b[39mappend(f)\n\u001b[1;32m-> 1237\u001b[0m     score \u001b[38;5;241m=\u001b[39m \u001b[43mcross_val_score\u001b[49m\u001b[43m(\u001b[49m\u001b[43mmodel\u001b[49m\u001b[43m,\u001b[49m\u001b[43m \u001b[49m\u001b[43mX\u001b[49m\u001b[43m[\u001b[49m\u001b[43mselected\u001b[49m\u001b[43m]\u001b[49m\u001b[43m,\u001b[49m\u001b[43m \u001b[49m\u001b[43my\u001b[49m\u001b[43m,\u001b[49m\u001b[43m \u001b[49m\u001b[43mcv\u001b[49m\u001b[38;5;241;43m=\u001b[39;49m\u001b[43mcv\u001b[49m\u001b[43m,\u001b[49m\u001b[43m \u001b[49m\u001b[43mscoring\u001b[49m\u001b[38;5;241;43m=\u001b[39;49m\u001b[43mscoring_method\u001b[49m\u001b[43m)\u001b[49m\u001b[38;5;241m.\u001b[39mmean()\n\u001b[0;32m   1238\u001b[0m     \u001b[38;5;28;01mif\u001b[39;00m score \u001b[38;5;241m>\u001b[39m max_score:\n\u001b[0;32m   1239\u001b[0m         max_score \u001b[38;5;241m=\u001b[39m score\n",
      "File \u001b[1;32mc:\\Github\\ode-biomarker-project\\.venv\\lib\\site-packages\\sklearn\\utils\\_param_validation.py:218\u001b[0m, in \u001b[0;36mvalidate_params.<locals>.decorator.<locals>.wrapper\u001b[1;34m(*args, **kwargs)\u001b[0m\n\u001b[0;32m    212\u001b[0m \u001b[38;5;28;01mtry\u001b[39;00m:\n\u001b[0;32m    213\u001b[0m     \u001b[38;5;28;01mwith\u001b[39;00m config_context(\n\u001b[0;32m    214\u001b[0m         skip_parameter_validation\u001b[38;5;241m=\u001b[39m(\n\u001b[0;32m    215\u001b[0m             prefer_skip_nested_validation \u001b[38;5;129;01mor\u001b[39;00m global_skip_validation\n\u001b[0;32m    216\u001b[0m         )\n\u001b[0;32m    217\u001b[0m     ):\n\u001b[1;32m--> 218\u001b[0m         \u001b[38;5;28;01mreturn\u001b[39;00m func(\u001b[38;5;241m*\u001b[39margs, \u001b[38;5;241m*\u001b[39m\u001b[38;5;241m*\u001b[39mkwargs)\n\u001b[0;32m    219\u001b[0m \u001b[38;5;28;01mexcept\u001b[39;00m InvalidParameterError \u001b[38;5;28;01mas\u001b[39;00m e:\n\u001b[0;32m    220\u001b[0m     \u001b[38;5;66;03m# When the function is just a wrapper around an estimator, we allow\u001b[39;00m\n\u001b[0;32m    221\u001b[0m     \u001b[38;5;66;03m# the function to delegate validation to the estimator, but we replace\u001b[39;00m\n\u001b[0;32m    222\u001b[0m     \u001b[38;5;66;03m# the name of the estimator by the name of the function in the error\u001b[39;00m\n\u001b[0;32m    223\u001b[0m     \u001b[38;5;66;03m# message to avoid confusion.\u001b[39;00m\n\u001b[0;32m    224\u001b[0m     msg \u001b[38;5;241m=\u001b[39m re\u001b[38;5;241m.\u001b[39msub(\n\u001b[0;32m    225\u001b[0m         \u001b[38;5;124mr\u001b[39m\u001b[38;5;124m\"\u001b[39m\u001b[38;5;124mparameter of \u001b[39m\u001b[38;5;124m\\\u001b[39m\u001b[38;5;124mw+ must be\u001b[39m\u001b[38;5;124m\"\u001b[39m,\n\u001b[0;32m    226\u001b[0m         \u001b[38;5;124mf\u001b[39m\u001b[38;5;124m\"\u001b[39m\u001b[38;5;124mparameter of \u001b[39m\u001b[38;5;132;01m{\u001b[39;00mfunc\u001b[38;5;241m.\u001b[39m\u001b[38;5;18m__qualname__\u001b[39m\u001b[38;5;132;01m}\u001b[39;00m\u001b[38;5;124m must be\u001b[39m\u001b[38;5;124m\"\u001b[39m,\n\u001b[0;32m    227\u001b[0m         \u001b[38;5;28mstr\u001b[39m(e),\n\u001b[0;32m    228\u001b[0m     )\n",
      "File \u001b[1;32mc:\\Github\\ode-biomarker-project\\.venv\\lib\\site-packages\\sklearn\\model_selection\\_validation.py:677\u001b[0m, in \u001b[0;36mcross_val_score\u001b[1;34m(estimator, X, y, groups, scoring, cv, n_jobs, verbose, params, pre_dispatch, error_score)\u001b[0m\n\u001b[0;32m    674\u001b[0m \u001b[38;5;66;03m# To ensure multimetric format is not supported\u001b[39;00m\n\u001b[0;32m    675\u001b[0m scorer \u001b[38;5;241m=\u001b[39m check_scoring(estimator, scoring\u001b[38;5;241m=\u001b[39mscoring)\n\u001b[1;32m--> 677\u001b[0m cv_results \u001b[38;5;241m=\u001b[39m \u001b[43mcross_validate\u001b[49m\u001b[43m(\u001b[49m\n\u001b[0;32m    678\u001b[0m \u001b[43m    \u001b[49m\u001b[43mestimator\u001b[49m\u001b[38;5;241;43m=\u001b[39;49m\u001b[43mestimator\u001b[49m\u001b[43m,\u001b[49m\n\u001b[0;32m    679\u001b[0m \u001b[43m    \u001b[49m\u001b[43mX\u001b[49m\u001b[38;5;241;43m=\u001b[39;49m\u001b[43mX\u001b[49m\u001b[43m,\u001b[49m\n\u001b[0;32m    680\u001b[0m \u001b[43m    \u001b[49m\u001b[43my\u001b[49m\u001b[38;5;241;43m=\u001b[39;49m\u001b[43my\u001b[49m\u001b[43m,\u001b[49m\n\u001b[0;32m    681\u001b[0m \u001b[43m    \u001b[49m\u001b[43mgroups\u001b[49m\u001b[38;5;241;43m=\u001b[39;49m\u001b[43mgroups\u001b[49m\u001b[43m,\u001b[49m\n\u001b[0;32m    682\u001b[0m \u001b[43m    \u001b[49m\u001b[43mscoring\u001b[49m\u001b[38;5;241;43m=\u001b[39;49m\u001b[43m{\u001b[49m\u001b[38;5;124;43m\"\u001b[39;49m\u001b[38;5;124;43mscore\u001b[39;49m\u001b[38;5;124;43m\"\u001b[39;49m\u001b[43m:\u001b[49m\u001b[43m \u001b[49m\u001b[43mscorer\u001b[49m\u001b[43m}\u001b[49m\u001b[43m,\u001b[49m\n\u001b[0;32m    683\u001b[0m \u001b[43m    \u001b[49m\u001b[43mcv\u001b[49m\u001b[38;5;241;43m=\u001b[39;49m\u001b[43mcv\u001b[49m\u001b[43m,\u001b[49m\n\u001b[0;32m    684\u001b[0m \u001b[43m    \u001b[49m\u001b[43mn_jobs\u001b[49m\u001b[38;5;241;43m=\u001b[39;49m\u001b[43mn_jobs\u001b[49m\u001b[43m,\u001b[49m\n\u001b[0;32m    685\u001b[0m \u001b[43m    \u001b[49m\u001b[43mverbose\u001b[49m\u001b[38;5;241;43m=\u001b[39;49m\u001b[43mverbose\u001b[49m\u001b[43m,\u001b[49m\n\u001b[0;32m    686\u001b[0m \u001b[43m    \u001b[49m\u001b[43mparams\u001b[49m\u001b[38;5;241;43m=\u001b[39;49m\u001b[43mparams\u001b[49m\u001b[43m,\u001b[49m\n\u001b[0;32m    687\u001b[0m \u001b[43m    \u001b[49m\u001b[43mpre_dispatch\u001b[49m\u001b[38;5;241;43m=\u001b[39;49m\u001b[43mpre_dispatch\u001b[49m\u001b[43m,\u001b[49m\n\u001b[0;32m    688\u001b[0m \u001b[43m    \u001b[49m\u001b[43merror_score\u001b[49m\u001b[38;5;241;43m=\u001b[39;49m\u001b[43merror_score\u001b[49m\u001b[43m,\u001b[49m\n\u001b[0;32m    689\u001b[0m \u001b[43m\u001b[49m\u001b[43m)\u001b[49m\n\u001b[0;32m    690\u001b[0m \u001b[38;5;28;01mreturn\u001b[39;00m cv_results[\u001b[38;5;124m\"\u001b[39m\u001b[38;5;124mtest_score\u001b[39m\u001b[38;5;124m\"\u001b[39m]\n",
      "File \u001b[1;32mc:\\Github\\ode-biomarker-project\\.venv\\lib\\site-packages\\sklearn\\utils\\_param_validation.py:218\u001b[0m, in \u001b[0;36mvalidate_params.<locals>.decorator.<locals>.wrapper\u001b[1;34m(*args, **kwargs)\u001b[0m\n\u001b[0;32m    212\u001b[0m \u001b[38;5;28;01mtry\u001b[39;00m:\n\u001b[0;32m    213\u001b[0m     \u001b[38;5;28;01mwith\u001b[39;00m config_context(\n\u001b[0;32m    214\u001b[0m         skip_parameter_validation\u001b[38;5;241m=\u001b[39m(\n\u001b[0;32m    215\u001b[0m             prefer_skip_nested_validation \u001b[38;5;129;01mor\u001b[39;00m global_skip_validation\n\u001b[0;32m    216\u001b[0m         )\n\u001b[0;32m    217\u001b[0m     ):\n\u001b[1;32m--> 218\u001b[0m         \u001b[38;5;28;01mreturn\u001b[39;00m func(\u001b[38;5;241m*\u001b[39margs, \u001b[38;5;241m*\u001b[39m\u001b[38;5;241m*\u001b[39mkwargs)\n\u001b[0;32m    219\u001b[0m \u001b[38;5;28;01mexcept\u001b[39;00m InvalidParameterError \u001b[38;5;28;01mas\u001b[39;00m e:\n\u001b[0;32m    220\u001b[0m     \u001b[38;5;66;03m# When the function is just a wrapper around an estimator, we allow\u001b[39;00m\n\u001b[0;32m    221\u001b[0m     \u001b[38;5;66;03m# the function to delegate validation to the estimator, but we replace\u001b[39;00m\n\u001b[0;32m    222\u001b[0m     \u001b[38;5;66;03m# the name of the estimator by the name of the function in the error\u001b[39;00m\n\u001b[0;32m    223\u001b[0m     \u001b[38;5;66;03m# message to avoid confusion.\u001b[39;00m\n\u001b[0;32m    224\u001b[0m     msg \u001b[38;5;241m=\u001b[39m re\u001b[38;5;241m.\u001b[39msub(\n\u001b[0;32m    225\u001b[0m         \u001b[38;5;124mr\u001b[39m\u001b[38;5;124m\"\u001b[39m\u001b[38;5;124mparameter of \u001b[39m\u001b[38;5;124m\\\u001b[39m\u001b[38;5;124mw+ must be\u001b[39m\u001b[38;5;124m\"\u001b[39m,\n\u001b[0;32m    226\u001b[0m         \u001b[38;5;124mf\u001b[39m\u001b[38;5;124m\"\u001b[39m\u001b[38;5;124mparameter of \u001b[39m\u001b[38;5;132;01m{\u001b[39;00mfunc\u001b[38;5;241m.\u001b[39m\u001b[38;5;18m__qualname__\u001b[39m\u001b[38;5;132;01m}\u001b[39;00m\u001b[38;5;124m must be\u001b[39m\u001b[38;5;124m\"\u001b[39m,\n\u001b[0;32m    227\u001b[0m         \u001b[38;5;28mstr\u001b[39m(e),\n\u001b[0;32m    228\u001b[0m     )\n",
      "File \u001b[1;32mc:\\Github\\ode-biomarker-project\\.venv\\lib\\site-packages\\sklearn\\model_selection\\_validation.py:399\u001b[0m, in \u001b[0;36mcross_validate\u001b[1;34m(estimator, X, y, groups, scoring, cv, n_jobs, verbose, params, pre_dispatch, return_train_score, return_estimator, return_indices, error_score)\u001b[0m\n\u001b[0;32m    396\u001b[0m \u001b[38;5;66;03m# We clone the estimator to make sure that all the folds are\u001b[39;00m\n\u001b[0;32m    397\u001b[0m \u001b[38;5;66;03m# independent, and that it is pickle-able.\u001b[39;00m\n\u001b[0;32m    398\u001b[0m parallel \u001b[38;5;241m=\u001b[39m Parallel(n_jobs\u001b[38;5;241m=\u001b[39mn_jobs, verbose\u001b[38;5;241m=\u001b[39mverbose, pre_dispatch\u001b[38;5;241m=\u001b[39mpre_dispatch)\n\u001b[1;32m--> 399\u001b[0m results \u001b[38;5;241m=\u001b[39m \u001b[43mparallel\u001b[49m\u001b[43m(\u001b[49m\n\u001b[0;32m    400\u001b[0m \u001b[43m    \u001b[49m\u001b[43mdelayed\u001b[49m\u001b[43m(\u001b[49m\u001b[43m_fit_and_score\u001b[49m\u001b[43m)\u001b[49m\u001b[43m(\u001b[49m\n\u001b[0;32m    401\u001b[0m \u001b[43m        \u001b[49m\u001b[43mclone\u001b[49m\u001b[43m(\u001b[49m\u001b[43mestimator\u001b[49m\u001b[43m)\u001b[49m\u001b[43m,\u001b[49m\n\u001b[0;32m    402\u001b[0m \u001b[43m        \u001b[49m\u001b[43mX\u001b[49m\u001b[43m,\u001b[49m\n\u001b[0;32m    403\u001b[0m \u001b[43m        \u001b[49m\u001b[43my\u001b[49m\u001b[43m,\u001b[49m\n\u001b[0;32m    404\u001b[0m \u001b[43m        \u001b[49m\u001b[43mscorer\u001b[49m\u001b[38;5;241;43m=\u001b[39;49m\u001b[43mscorers\u001b[49m\u001b[43m,\u001b[49m\n\u001b[0;32m    405\u001b[0m \u001b[43m        \u001b[49m\u001b[43mtrain\u001b[49m\u001b[38;5;241;43m=\u001b[39;49m\u001b[43mtrain\u001b[49m\u001b[43m,\u001b[49m\n\u001b[0;32m    406\u001b[0m \u001b[43m        \u001b[49m\u001b[43mtest\u001b[49m\u001b[38;5;241;43m=\u001b[39;49m\u001b[43mtest\u001b[49m\u001b[43m,\u001b[49m\n\u001b[0;32m    407\u001b[0m \u001b[43m        \u001b[49m\u001b[43mverbose\u001b[49m\u001b[38;5;241;43m=\u001b[39;49m\u001b[43mverbose\u001b[49m\u001b[43m,\u001b[49m\n\u001b[0;32m    408\u001b[0m \u001b[43m        \u001b[49m\u001b[43mparameters\u001b[49m\u001b[38;5;241;43m=\u001b[39;49m\u001b[38;5;28;43;01mNone\u001b[39;49;00m\u001b[43m,\u001b[49m\n\u001b[0;32m    409\u001b[0m \u001b[43m        \u001b[49m\u001b[43mfit_params\u001b[49m\u001b[38;5;241;43m=\u001b[39;49m\u001b[43mrouted_params\u001b[49m\u001b[38;5;241;43m.\u001b[39;49m\u001b[43mestimator\u001b[49m\u001b[38;5;241;43m.\u001b[39;49m\u001b[43mfit\u001b[49m\u001b[43m,\u001b[49m\n\u001b[0;32m    410\u001b[0m \u001b[43m        \u001b[49m\u001b[43mscore_params\u001b[49m\u001b[38;5;241;43m=\u001b[39;49m\u001b[43mrouted_params\u001b[49m\u001b[38;5;241;43m.\u001b[39;49m\u001b[43mscorer\u001b[49m\u001b[38;5;241;43m.\u001b[39;49m\u001b[43mscore\u001b[49m\u001b[43m,\u001b[49m\n\u001b[0;32m    411\u001b[0m \u001b[43m        \u001b[49m\u001b[43mreturn_train_score\u001b[49m\u001b[38;5;241;43m=\u001b[39;49m\u001b[43mreturn_train_score\u001b[49m\u001b[43m,\u001b[49m\n\u001b[0;32m    412\u001b[0m \u001b[43m        \u001b[49m\u001b[43mreturn_times\u001b[49m\u001b[38;5;241;43m=\u001b[39;49m\u001b[38;5;28;43;01mTrue\u001b[39;49;00m\u001b[43m,\u001b[49m\n\u001b[0;32m    413\u001b[0m \u001b[43m        \u001b[49m\u001b[43mreturn_estimator\u001b[49m\u001b[38;5;241;43m=\u001b[39;49m\u001b[43mreturn_estimator\u001b[49m\u001b[43m,\u001b[49m\n\u001b[0;32m    414\u001b[0m \u001b[43m        \u001b[49m\u001b[43merror_score\u001b[49m\u001b[38;5;241;43m=\u001b[39;49m\u001b[43merror_score\u001b[49m\u001b[43m,\u001b[49m\n\u001b[0;32m    415\u001b[0m \u001b[43m    \u001b[49m\u001b[43m)\u001b[49m\n\u001b[0;32m    416\u001b[0m \u001b[43m    \u001b[49m\u001b[38;5;28;43;01mfor\u001b[39;49;00m\u001b[43m \u001b[49m\u001b[43mtrain\u001b[49m\u001b[43m,\u001b[49m\u001b[43m \u001b[49m\u001b[43mtest\u001b[49m\u001b[43m \u001b[49m\u001b[38;5;129;43;01min\u001b[39;49;00m\u001b[43m \u001b[49m\u001b[43mindices\u001b[49m\n\u001b[0;32m    417\u001b[0m \u001b[43m\u001b[49m\u001b[43m)\u001b[49m\n\u001b[0;32m    419\u001b[0m _warn_or_raise_about_fit_failures(results, error_score)\n\u001b[0;32m    421\u001b[0m \u001b[38;5;66;03m# For callable scoring, the return type is only know after calling. If the\u001b[39;00m\n\u001b[0;32m    422\u001b[0m \u001b[38;5;66;03m# return type is a dictionary, the error scores can now be inserted with\u001b[39;00m\n\u001b[0;32m    423\u001b[0m \u001b[38;5;66;03m# the correct key.\u001b[39;00m\n",
      "File \u001b[1;32mc:\\Github\\ode-biomarker-project\\.venv\\lib\\site-packages\\sklearn\\utils\\parallel.py:82\u001b[0m, in \u001b[0;36mParallel.__call__\u001b[1;34m(self, iterable)\u001b[0m\n\u001b[0;32m     73\u001b[0m warning_filters \u001b[38;5;241m=\u001b[39m warnings\u001b[38;5;241m.\u001b[39mfilters\n\u001b[0;32m     74\u001b[0m iterable_with_config_and_warning_filters \u001b[38;5;241m=\u001b[39m (\n\u001b[0;32m     75\u001b[0m     (\n\u001b[0;32m     76\u001b[0m         _with_config_and_warning_filters(delayed_func, config, warning_filters),\n\u001b[1;32m   (...)\u001b[0m\n\u001b[0;32m     80\u001b[0m     \u001b[38;5;28;01mfor\u001b[39;00m delayed_func, args, kwargs \u001b[38;5;129;01min\u001b[39;00m iterable\n\u001b[0;32m     81\u001b[0m )\n\u001b[1;32m---> 82\u001b[0m \u001b[38;5;28;01mreturn\u001b[39;00m \u001b[38;5;28;43msuper\u001b[39;49m\u001b[43m(\u001b[49m\u001b[43m)\u001b[49m\u001b[38;5;241;43m.\u001b[39;49m\u001b[38;5;21;43m__call__\u001b[39;49m\u001b[43m(\u001b[49m\u001b[43miterable_with_config_and_warning_filters\u001b[49m\u001b[43m)\u001b[49m\n",
      "File \u001b[1;32mc:\\Github\\ode-biomarker-project\\.venv\\lib\\site-packages\\joblib\\parallel.py:1986\u001b[0m, in \u001b[0;36mParallel.__call__\u001b[1;34m(self, iterable)\u001b[0m\n\u001b[0;32m   1984\u001b[0m     output \u001b[38;5;241m=\u001b[39m \u001b[38;5;28mself\u001b[39m\u001b[38;5;241m.\u001b[39m_get_sequential_output(iterable)\n\u001b[0;32m   1985\u001b[0m     \u001b[38;5;28mnext\u001b[39m(output)\n\u001b[1;32m-> 1986\u001b[0m     \u001b[38;5;28;01mreturn\u001b[39;00m output \u001b[38;5;28;01mif\u001b[39;00m \u001b[38;5;28mself\u001b[39m\u001b[38;5;241m.\u001b[39mreturn_generator \u001b[38;5;28;01melse\u001b[39;00m \u001b[38;5;28;43mlist\u001b[39;49m\u001b[43m(\u001b[49m\u001b[43moutput\u001b[49m\u001b[43m)\u001b[49m\n\u001b[0;32m   1988\u001b[0m \u001b[38;5;66;03m# Let's create an ID that uniquely identifies the current call. If the\u001b[39;00m\n\u001b[0;32m   1989\u001b[0m \u001b[38;5;66;03m# call is interrupted early and that the same instance is immediately\u001b[39;00m\n\u001b[0;32m   1990\u001b[0m \u001b[38;5;66;03m# reused, this id will be used to prevent workers that were\u001b[39;00m\n\u001b[0;32m   1991\u001b[0m \u001b[38;5;66;03m# concurrently finalizing a task from the previous call to run the\u001b[39;00m\n\u001b[0;32m   1992\u001b[0m \u001b[38;5;66;03m# callback.\u001b[39;00m\n\u001b[0;32m   1993\u001b[0m \u001b[38;5;28;01mwith\u001b[39;00m \u001b[38;5;28mself\u001b[39m\u001b[38;5;241m.\u001b[39m_lock:\n",
      "File \u001b[1;32mc:\\Github\\ode-biomarker-project\\.venv\\lib\\site-packages\\joblib\\parallel.py:1914\u001b[0m, in \u001b[0;36mParallel._get_sequential_output\u001b[1;34m(self, iterable)\u001b[0m\n\u001b[0;32m   1912\u001b[0m \u001b[38;5;28mself\u001b[39m\u001b[38;5;241m.\u001b[39mn_dispatched_batches \u001b[38;5;241m+\u001b[39m\u001b[38;5;241m=\u001b[39m \u001b[38;5;241m1\u001b[39m\n\u001b[0;32m   1913\u001b[0m \u001b[38;5;28mself\u001b[39m\u001b[38;5;241m.\u001b[39mn_dispatched_tasks \u001b[38;5;241m+\u001b[39m\u001b[38;5;241m=\u001b[39m \u001b[38;5;241m1\u001b[39m\n\u001b[1;32m-> 1914\u001b[0m res \u001b[38;5;241m=\u001b[39m func(\u001b[38;5;241m*\u001b[39margs, \u001b[38;5;241m*\u001b[39m\u001b[38;5;241m*\u001b[39mkwargs)\n\u001b[0;32m   1915\u001b[0m \u001b[38;5;28mself\u001b[39m\u001b[38;5;241m.\u001b[39mn_completed_tasks \u001b[38;5;241m+\u001b[39m\u001b[38;5;241m=\u001b[39m \u001b[38;5;241m1\u001b[39m\n\u001b[0;32m   1916\u001b[0m \u001b[38;5;28mself\u001b[39m\u001b[38;5;241m.\u001b[39mprint_progress()\n",
      "File \u001b[1;32mc:\\Github\\ode-biomarker-project\\.venv\\lib\\site-packages\\sklearn\\utils\\parallel.py:147\u001b[0m, in \u001b[0;36m_FuncWrapper.__call__\u001b[1;34m(self, *args, **kwargs)\u001b[0m\n\u001b[0;32m    145\u001b[0m \u001b[38;5;28;01mwith\u001b[39;00m config_context(\u001b[38;5;241m*\u001b[39m\u001b[38;5;241m*\u001b[39mconfig), warnings\u001b[38;5;241m.\u001b[39mcatch_warnings():\n\u001b[0;32m    146\u001b[0m     warnings\u001b[38;5;241m.\u001b[39mfilters \u001b[38;5;241m=\u001b[39m warning_filters\n\u001b[1;32m--> 147\u001b[0m     \u001b[38;5;28;01mreturn\u001b[39;00m \u001b[38;5;28mself\u001b[39m\u001b[38;5;241m.\u001b[39mfunction(\u001b[38;5;241m*\u001b[39margs, \u001b[38;5;241m*\u001b[39m\u001b[38;5;241m*\u001b[39mkwargs)\n",
      "File \u001b[1;32mc:\\Github\\ode-biomarker-project\\.venv\\lib\\site-packages\\sklearn\\model_selection\\_validation.py:859\u001b[0m, in \u001b[0;36m_fit_and_score\u001b[1;34m(estimator, X, y, scorer, train, test, verbose, parameters, fit_params, score_params, return_train_score, return_parameters, return_n_test_samples, return_times, return_estimator, split_progress, candidate_progress, error_score)\u001b[0m\n\u001b[0;32m    857\u001b[0m         estimator\u001b[38;5;241m.\u001b[39mfit(X_train, \u001b[38;5;241m*\u001b[39m\u001b[38;5;241m*\u001b[39mfit_params)\n\u001b[0;32m    858\u001b[0m     \u001b[38;5;28;01melse\u001b[39;00m:\n\u001b[1;32m--> 859\u001b[0m         estimator\u001b[38;5;241m.\u001b[39mfit(X_train, y_train, \u001b[38;5;241m*\u001b[39m\u001b[38;5;241m*\u001b[39mfit_params)\n\u001b[0;32m    861\u001b[0m \u001b[38;5;28;01mexcept\u001b[39;00m \u001b[38;5;167;01mException\u001b[39;00m:\n\u001b[0;32m    862\u001b[0m     \u001b[38;5;66;03m# Note fit time as time until error\u001b[39;00m\n\u001b[0;32m    863\u001b[0m     fit_time \u001b[38;5;241m=\u001b[39m time\u001b[38;5;241m.\u001b[39mtime() \u001b[38;5;241m-\u001b[39m start_time\n",
      "File \u001b[1;32mc:\\Github\\ode-biomarker-project\\.venv\\lib\\site-packages\\sklearn\\base.py:1365\u001b[0m, in \u001b[0;36m_fit_context.<locals>.decorator.<locals>.wrapper\u001b[1;34m(estimator, *args, **kwargs)\u001b[0m\n\u001b[0;32m   1358\u001b[0m     estimator\u001b[38;5;241m.\u001b[39m_validate_params()\n\u001b[0;32m   1360\u001b[0m \u001b[38;5;28;01mwith\u001b[39;00m config_context(\n\u001b[0;32m   1361\u001b[0m     skip_parameter_validation\u001b[38;5;241m=\u001b[39m(\n\u001b[0;32m   1362\u001b[0m         prefer_skip_nested_validation \u001b[38;5;129;01mor\u001b[39;00m global_skip_validation\n\u001b[0;32m   1363\u001b[0m     )\n\u001b[0;32m   1364\u001b[0m ):\n\u001b[1;32m-> 1365\u001b[0m     \u001b[38;5;28;01mreturn\u001b[39;00m fit_method(estimator, \u001b[38;5;241m*\u001b[39margs, \u001b[38;5;241m*\u001b[39m\u001b[38;5;241m*\u001b[39mkwargs)\n",
      "File \u001b[1;32mc:\\Github\\ode-biomarker-project\\.venv\\lib\\site-packages\\sklearn\\svm\\_base.py:258\u001b[0m, in \u001b[0;36mBaseLibSVM.fit\u001b[1;34m(self, X, y, sample_weight)\u001b[0m\n\u001b[0;32m    255\u001b[0m     \u001b[38;5;28mprint\u001b[39m(\u001b[38;5;124m\"\u001b[39m\u001b[38;5;124m[LibSVM]\u001b[39m\u001b[38;5;124m\"\u001b[39m, end\u001b[38;5;241m=\u001b[39m\u001b[38;5;124m\"\u001b[39m\u001b[38;5;124m\"\u001b[39m)\n\u001b[0;32m    257\u001b[0m seed \u001b[38;5;241m=\u001b[39m rnd\u001b[38;5;241m.\u001b[39mrandint(np\u001b[38;5;241m.\u001b[39miinfo(\u001b[38;5;124m\"\u001b[39m\u001b[38;5;124mi\u001b[39m\u001b[38;5;124m\"\u001b[39m)\u001b[38;5;241m.\u001b[39mmax)\n\u001b[1;32m--> 258\u001b[0m \u001b[43mfit\u001b[49m\u001b[43m(\u001b[49m\u001b[43mX\u001b[49m\u001b[43m,\u001b[49m\u001b[43m \u001b[49m\u001b[43my\u001b[49m\u001b[43m,\u001b[49m\u001b[43m \u001b[49m\u001b[43msample_weight\u001b[49m\u001b[43m,\u001b[49m\u001b[43m \u001b[49m\u001b[43msolver_type\u001b[49m\u001b[43m,\u001b[49m\u001b[43m \u001b[49m\u001b[43mkernel\u001b[49m\u001b[43m,\u001b[49m\u001b[43m \u001b[49m\u001b[43mrandom_seed\u001b[49m\u001b[38;5;241;43m=\u001b[39;49m\u001b[43mseed\u001b[49m\u001b[43m)\u001b[49m\n\u001b[0;32m    259\u001b[0m \u001b[38;5;66;03m# see comment on the other call to np.iinfo in this file\u001b[39;00m\n\u001b[0;32m    261\u001b[0m \u001b[38;5;28mself\u001b[39m\u001b[38;5;241m.\u001b[39mshape_fit_ \u001b[38;5;241m=\u001b[39m X\u001b[38;5;241m.\u001b[39mshape \u001b[38;5;28;01mif\u001b[39;00m \u001b[38;5;28mhasattr\u001b[39m(X, \u001b[38;5;124m\"\u001b[39m\u001b[38;5;124mshape\u001b[39m\u001b[38;5;124m\"\u001b[39m) \u001b[38;5;28;01melse\u001b[39;00m (n_samples,)\n",
      "File \u001b[1;32mc:\\Github\\ode-biomarker-project\\.venv\\lib\\site-packages\\sklearn\\svm\\_base.py:336\u001b[0m, in \u001b[0;36mBaseLibSVM._dense_fit\u001b[1;34m(self, X, y, sample_weight, solver_type, kernel, random_seed)\u001b[0m\n\u001b[0;32m    322\u001b[0m libsvm\u001b[38;5;241m.\u001b[39mset_verbosity_wrap(\u001b[38;5;28mself\u001b[39m\u001b[38;5;241m.\u001b[39mverbose)\n\u001b[0;32m    324\u001b[0m \u001b[38;5;66;03m# we don't pass **self.get_params() to allow subclasses to\u001b[39;00m\n\u001b[0;32m    325\u001b[0m \u001b[38;5;66;03m# add other parameters to __init__\u001b[39;00m\n\u001b[0;32m    326\u001b[0m (\n\u001b[0;32m    327\u001b[0m     \u001b[38;5;28mself\u001b[39m\u001b[38;5;241m.\u001b[39msupport_,\n\u001b[0;32m    328\u001b[0m     \u001b[38;5;28mself\u001b[39m\u001b[38;5;241m.\u001b[39msupport_vectors_,\n\u001b[0;32m    329\u001b[0m     \u001b[38;5;28mself\u001b[39m\u001b[38;5;241m.\u001b[39m_n_support,\n\u001b[0;32m    330\u001b[0m     \u001b[38;5;28mself\u001b[39m\u001b[38;5;241m.\u001b[39mdual_coef_,\n\u001b[0;32m    331\u001b[0m     \u001b[38;5;28mself\u001b[39m\u001b[38;5;241m.\u001b[39mintercept_,\n\u001b[0;32m    332\u001b[0m     \u001b[38;5;28mself\u001b[39m\u001b[38;5;241m.\u001b[39m_probA,\n\u001b[0;32m    333\u001b[0m     \u001b[38;5;28mself\u001b[39m\u001b[38;5;241m.\u001b[39m_probB,\n\u001b[0;32m    334\u001b[0m     \u001b[38;5;28mself\u001b[39m\u001b[38;5;241m.\u001b[39mfit_status_,\n\u001b[0;32m    335\u001b[0m     \u001b[38;5;28mself\u001b[39m\u001b[38;5;241m.\u001b[39m_num_iter,\n\u001b[1;32m--> 336\u001b[0m ) \u001b[38;5;241m=\u001b[39m \u001b[43mlibsvm\u001b[49m\u001b[38;5;241;43m.\u001b[39;49m\u001b[43mfit\u001b[49m\u001b[43m(\u001b[49m\n\u001b[0;32m    337\u001b[0m \u001b[43m    \u001b[49m\u001b[43mX\u001b[49m\u001b[43m,\u001b[49m\n\u001b[0;32m    338\u001b[0m \u001b[43m    \u001b[49m\u001b[43my\u001b[49m\u001b[43m,\u001b[49m\n\u001b[0;32m    339\u001b[0m \u001b[43m    \u001b[49m\u001b[43msvm_type\u001b[49m\u001b[38;5;241;43m=\u001b[39;49m\u001b[43msolver_type\u001b[49m\u001b[43m,\u001b[49m\n\u001b[0;32m    340\u001b[0m \u001b[43m    \u001b[49m\u001b[43msample_weight\u001b[49m\u001b[38;5;241;43m=\u001b[39;49m\u001b[43msample_weight\u001b[49m\u001b[43m,\u001b[49m\n\u001b[0;32m    341\u001b[0m \u001b[43m    \u001b[49m\u001b[43mclass_weight\u001b[49m\u001b[38;5;241;43m=\u001b[39;49m\u001b[38;5;28;43mgetattr\u001b[39;49m\u001b[43m(\u001b[49m\u001b[38;5;28;43mself\u001b[39;49m\u001b[43m,\u001b[49m\u001b[43m \u001b[49m\u001b[38;5;124;43m\"\u001b[39;49m\u001b[38;5;124;43mclass_weight_\u001b[39;49m\u001b[38;5;124;43m\"\u001b[39;49m\u001b[43m,\u001b[49m\u001b[43m \u001b[49m\u001b[43mnp\u001b[49m\u001b[38;5;241;43m.\u001b[39;49m\u001b[43mempty\u001b[49m\u001b[43m(\u001b[49m\u001b[38;5;241;43m0\u001b[39;49m\u001b[43m)\u001b[49m\u001b[43m)\u001b[49m\u001b[43m,\u001b[49m\n\u001b[0;32m    342\u001b[0m \u001b[43m    \u001b[49m\u001b[43mkernel\u001b[49m\u001b[38;5;241;43m=\u001b[39;49m\u001b[43mkernel\u001b[49m\u001b[43m,\u001b[49m\n\u001b[0;32m    343\u001b[0m \u001b[43m    \u001b[49m\u001b[43mC\u001b[49m\u001b[38;5;241;43m=\u001b[39;49m\u001b[38;5;28;43mself\u001b[39;49m\u001b[38;5;241;43m.\u001b[39;49m\u001b[43mC\u001b[49m\u001b[43m,\u001b[49m\n\u001b[0;32m    344\u001b[0m \u001b[43m    \u001b[49m\u001b[43mnu\u001b[49m\u001b[38;5;241;43m=\u001b[39;49m\u001b[38;5;28;43mself\u001b[39;49m\u001b[38;5;241;43m.\u001b[39;49m\u001b[43mnu\u001b[49m\u001b[43m,\u001b[49m\n\u001b[0;32m    345\u001b[0m \u001b[43m    \u001b[49m\u001b[43mprobability\u001b[49m\u001b[38;5;241;43m=\u001b[39;49m\u001b[38;5;28;43mself\u001b[39;49m\u001b[38;5;241;43m.\u001b[39;49m\u001b[43mprobability\u001b[49m\u001b[43m,\u001b[49m\n\u001b[0;32m    346\u001b[0m \u001b[43m    \u001b[49m\u001b[43mdegree\u001b[49m\u001b[38;5;241;43m=\u001b[39;49m\u001b[38;5;28;43mself\u001b[39;49m\u001b[38;5;241;43m.\u001b[39;49m\u001b[43mdegree\u001b[49m\u001b[43m,\u001b[49m\n\u001b[0;32m    347\u001b[0m \u001b[43m    \u001b[49m\u001b[43mshrinking\u001b[49m\u001b[38;5;241;43m=\u001b[39;49m\u001b[38;5;28;43mself\u001b[39;49m\u001b[38;5;241;43m.\u001b[39;49m\u001b[43mshrinking\u001b[49m\u001b[43m,\u001b[49m\n\u001b[0;32m    348\u001b[0m \u001b[43m    \u001b[49m\u001b[43mtol\u001b[49m\u001b[38;5;241;43m=\u001b[39;49m\u001b[38;5;28;43mself\u001b[39;49m\u001b[38;5;241;43m.\u001b[39;49m\u001b[43mtol\u001b[49m\u001b[43m,\u001b[49m\n\u001b[0;32m    349\u001b[0m \u001b[43m    \u001b[49m\u001b[43mcache_size\u001b[49m\u001b[38;5;241;43m=\u001b[39;49m\u001b[38;5;28;43mself\u001b[39;49m\u001b[38;5;241;43m.\u001b[39;49m\u001b[43mcache_size\u001b[49m\u001b[43m,\u001b[49m\n\u001b[0;32m    350\u001b[0m \u001b[43m    \u001b[49m\u001b[43mcoef0\u001b[49m\u001b[38;5;241;43m=\u001b[39;49m\u001b[38;5;28;43mself\u001b[39;49m\u001b[38;5;241;43m.\u001b[39;49m\u001b[43mcoef0\u001b[49m\u001b[43m,\u001b[49m\n\u001b[0;32m    351\u001b[0m \u001b[43m    \u001b[49m\u001b[43mgamma\u001b[49m\u001b[38;5;241;43m=\u001b[39;49m\u001b[38;5;28;43mself\u001b[39;49m\u001b[38;5;241;43m.\u001b[39;49m\u001b[43m_gamma\u001b[49m\u001b[43m,\u001b[49m\n\u001b[0;32m    352\u001b[0m \u001b[43m    \u001b[49m\u001b[43mepsilon\u001b[49m\u001b[38;5;241;43m=\u001b[39;49m\u001b[38;5;28;43mself\u001b[39;49m\u001b[38;5;241;43m.\u001b[39;49m\u001b[43mepsilon\u001b[49m\u001b[43m,\u001b[49m\n\u001b[0;32m    353\u001b[0m \u001b[43m    \u001b[49m\u001b[43mmax_iter\u001b[49m\u001b[38;5;241;43m=\u001b[39;49m\u001b[38;5;28;43mself\u001b[39;49m\u001b[38;5;241;43m.\u001b[39;49m\u001b[43mmax_iter\u001b[49m\u001b[43m,\u001b[49m\n\u001b[0;32m    354\u001b[0m \u001b[43m    \u001b[49m\u001b[43mrandom_seed\u001b[49m\u001b[38;5;241;43m=\u001b[39;49m\u001b[43mrandom_seed\u001b[49m\u001b[43m,\u001b[49m\n\u001b[0;32m    355\u001b[0m \u001b[43m\u001b[49m\u001b[43m)\u001b[49m\n\u001b[0;32m    357\u001b[0m \u001b[38;5;28mself\u001b[39m\u001b[38;5;241m.\u001b[39m_warn_from_fit_status()\n",
      "File \u001b[1;32mc:\\Github\\ode-biomarker-project\\.venv\\lib\\site-packages\\sklearn\\svm\\_libsvm.pyx:263\u001b[0m, in \u001b[0;36msklearn.svm._libsvm.fit\u001b[1;34m()\u001b[0m\n",
      "\u001b[1;31mKeyboardInterrupt\u001b[0m: "
     ]
    }
   ],
   "source": [
    "# Run the GFFS timing test\n",
    "print(\"Executing GFFS timing test...\")\n",
    "gffs_timing_df, complexity_results = run_gffs_timing_test(\n",
    "    feature_data, \n",
    "    label_data, \n",
    "    k_values=k_values_to_test, \n",
    "    iterations=n_iterations, \n",
    "    feature_subset_size=feature_subset_size\n",
    ")"
   ]
  },
  {
   "cell_type": "code",
   "execution_count": null,
   "id": "525e66b1",
   "metadata": {},
   "outputs": [],
   "source": [
    "# Save GFFS timing results\n",
    "gffs_timing_df.to_csv(f\"{file_save_path}gffs_timing_test_{exp_id}.csv\")\n",
    "print(f\"GFFS timing results saved to: {file_save_path}gffs_timing_test_{exp_id}.csv\")"
   ]
  },
  {
   "cell_type": "code",
   "execution_count": null,
   "id": "31c6b340",
   "metadata": {},
   "outputs": [],
   "source": [
    "# Display final summary\n",
    "print(\"\\nGFFS Timing Test Summary:\")\n",
    "print(f\"Tested k values: {k_values_to_test}\")\n",
    "print(f\"Number of iterations per k: {n_iterations}\")\n",
    "print(f\"Feature subset size: {feature_subset_size}\")\n",
    "print(f\"Total timing runs: {len(k_values_to_test) * n_iterations}\")\n",
    "print(f\"Total execution time: {gffs_timing_df['mean_time'].sum():.2f}s\")"
   ]
  },
  {
   "cell_type": "markdown",
   "id": "3a4fe415",
   "metadata": {},
   "source": [
    "### Test 2: GFFS Scalability Test"
   ]
  },
  {
   "cell_type": "code",
   "execution_count": null,
   "id": "25264f6c",
   "metadata": {
    "lines_to_next_cell": 1
   },
   "outputs": [],
   "source": [
    "# GFFS Scalability Test\n",
    "print(\"\\n\" + \"=\"*60)\n",
    "print(\"GFFS SCALABILITY TEST\")\n",
    "print(\"=\"*60)\n",
    "\n",
    "# Test with different k values and small feature set\n",
    "k_values_scalability = [5, 10, 15, 20]  # Test with these k values\n",
    "feature_subset_scalability = 100  # Use first 100 features\n",
    "\n",
    "print(f\"Running GFFS scalability test with {feature_subset_scalability} features\")\n",
    "print(f\"Testing k values: {k_values_scalability}\")\n",
    "\n",
    "# Run the scalability test\n",
    "scalability_df = test_gffs_scalability(\n",
    "    feature_data, \n",
    "    label_data, \n",
    "    k_values=k_values_scalability,\n",
    "    feature_subset_size=feature_subset_scalability\n",
    ")\n",
    "\n",
    "# Save scalability results\n",
    "scalability_df.to_csv(f\"{file_save_path}gffs_scalability_test_{exp_id}.csv\")\n",
    "print(f\"\\nGFFS scalability results saved to: {file_save_path}gffs_scalability_test_{exp_id}.csv\")\n",
    "\n",
    "# Display scalability summary\n",
    "print(\"\\nScalability Results Summary:\")\n",
    "print(f\"GFFS tested with {feature_subset_scalability} features\")\n",
    "print(f\"Tested k values: {k_values_scalability}\")\n",
    "\n",
    "# Show timing progression\n",
    "print(\"\\nTiming Progression:\")\n",
    "for _, row in scalability_df.iterrows():\n",
    "    print(f\"k={row['k']}: GFFS={row['gffs_time']:.4f}s\")\n",
    "\n",
    "# Analyze time complexity\n",
    "print(\"\\nTime Complexity Analysis:\")\n",
    "k_values = scalability_df['k'].values\n",
    "gffs_times = scalability_df['gffs_time'].values\n",
    "\n",
    "# Simple linear regression to understand scaling\n",
    "if len(k_values) > 1:\n",
    "    from scipy.stats import linregress\n",
    "    slope, intercept, r_value, p_value, std_err = linregress(k_values, gffs_times)\n",
    "    print(f\"Time vs k linear fit: time = {slope:.4f} * k + {intercept:.4f}\")\n",
    "    print(f\"R² = {r_value**2:.4f}\")\n",
    "    print(f\"Approximate time per feature: {slope:.4f}s\")"
   ]
  },
  {
   "cell_type": "code",
   "execution_count": null,
   "id": "cf3fafd4",
   "metadata": {
    "lines_to_next_cell": 1
   },
   "outputs": [],
   "source": [
    "def plot_gffs_scalability_results(scalability_df, feature_subset_size=100):\n",
    "    \"\"\"\n",
    "    Plot scalability results for GFFS\n",
    "    \"\"\"\n",
    "    fig, (ax1, ax2) = plt.subplots(1, 2, figsize=(15, 6))\n",
    "    \n",
    "    # Plot 1: Time vs k\n",
    "    k_values = scalability_df['k'].values\n",
    "    gffs_times = scalability_df['gffs_time'].values\n",
    "    \n",
    "    ax1.plot(k_values, gffs_times, 'bo-', linewidth=2, markersize=8)\n",
    "    ax1.set_title(f'GFFS Execution Time vs k\\n({feature_subset_size} features)')\n",
    "    ax1.set_xlabel('Number of Features Selected (k)')\n",
    "    ax1.set_ylabel('Time (seconds)')\n",
    "    ax1.grid(True, alpha=0.3)\n",
    "    \n",
    "    # Add linear regression line\n",
    "    if len(k_values) > 1:\n",
    "        slope, intercept, r_value, p_value, std_err = linregress(k_values, gffs_times)\n",
    "        x_fit = np.linspace(min(k_values), max(k_values), 100)\n",
    "        y_fit = slope * x_fit + intercept\n",
    "        ax1.plot(x_fit, y_fit, 'r--', label=f'Linear fit (R²={r_value**2:.3f})')\n",
    "        ax1.legend()\n",
    "    \n",
    "    # Plot 2: Time per feature vs k\n",
    "    time_per_feature = gffs_times / k_values\n",
    "    \n",
    "    ax2.plot(k_values, time_per_feature, 'go-', linewidth=2, markersize=8)\n",
    "    ax2.set_title('GFFS Time per Feature vs k')\n",
    "    ax2.set_xlabel('Number of Features Selected (k)')\n",
    "    ax2.set_ylabel('Time per Feature (seconds)')\n",
    "    ax2.grid(True, alpha=0.3)\n",
    "    \n",
    "    plt.tight_layout()\n",
    "    plt.show()\n",
    "    \n",
    "    # Save the plot\n",
    "    plot_filename = f\"{file_save_path}gffs_scalability_plot_{exp_id}.png\"\n",
    "    plt.savefig(plot_filename, dpi=300, bbox_inches='tight')\n",
    "    print(f\"GFFS scalability plot saved to: {plot_filename}\")"
   ]
  },
  {
   "cell_type": "code",
   "execution_count": null,
   "id": "c0110483",
   "metadata": {
    "lines_to_next_cell": 1
   },
   "outputs": [],
   "source": [
    "# Plot scalability results\n",
    "print(\"\\n\" + \"=\"*60)\n",
    "print(\"PLOTTING GFFS SCALABILITY RESULTS\")\n",
    "print(\"=\"*60)\n",
    "\n",
    "plot_gffs_scalability_results(scalability_df, feature_subset_size=feature_subset_scalability)\n",
    "\n",
    "# Additional analysis\n",
    "print(\"\\nAdditional Scalability Analysis:\")\n",
    "print(f\"Fastest execution: k={scalability_df.loc[scalability_df['gffs_time'].idxmin(), 'k']} \"\n",
    "      f\"({scalability_df['gffs_time'].min():.4f}s)\")\n",
    "print(f\"Slowest execution: k={scalability_df.loc[scalability_df['gffs_time'].idxmax(), 'k']} \"\n",
    "      f\"({scalability_df['gffs_time'].max():.4f}s)\")\n",
    "print(f\"Total time for all k values: {scalability_df['gffs_time'].sum():.4f}s\")\n",
    "\n",
    "# Calculate efficiency metrics\n",
    "if len(k_values) > 1:\n",
    "    efficiency_ratio = scalability_df['gffs_time'].iloc[-1] / scalability_df['gffs_time'].iloc[0]\n",
    "    print(f\"Efficiency ratio (k=20 vs k=5): {efficiency_ratio:.2f}x\")"
   ]
  },
  {
   "cell_type": "markdown",
   "id": "5e61a06c",
   "metadata": {},
   "source": [
    "### Test 3: GFFS Performance Comparison"
   ]
  },
  {
   "cell_type": "code",
   "execution_count": null,
   "id": "5037480e",
   "metadata": {
    "lines_to_next_cell": 1
   },
   "outputs": [],
   "source": [
    "def compare_gffs_with_other_methods(feature_data, label_data, k_values, feature_subset_size=50):\n",
    "    \"\"\"\n",
    "    Compare GFFS with other feature selection methods on small dataset\n",
    "    \"\"\"\n",
    "    from toolkit import f_regression_select, mrmr_select_fcq_fast, mutual_information_select\n",
    "    \n",
    "    # Use very small subset for comparison (GFFS is slow)\n",
    "    feature_subset = feature_data.iloc[:, :feature_subset_size]\n",
    "    print(f\"Comparing methods on subset: {feature_subset.shape}\")\n",
    "    \n",
    "    comparison_results = []\n",
    "    \n",
    "    # Create SVR model for GFFS\n",
    "    svr_model = SVR(kernel='linear', C=1.0)\n",
    "    \n",
    "    for k in k_values:\n",
    "        print(f\"\\n--- Testing k={k} ---\")\n",
    "        \n",
    "        # Test ANOVA (F-regression)\n",
    "        start_time = time.time()\n",
    "        anova_selected, anova_scores = f_regression_select(feature_subset, label_data, k)\n",
    "        anova_time = time.time() - start_time\n",
    "        \n",
    "        # Test MRMR\n",
    "        start_time = time.time()\n",
    "        mrmr_selected, mrmr_scores = mrmr_select_fcq_fast(feature_subset, label_data, k)\n",
    "        mrmr_time = time.time() - start_time\n",
    "        \n",
    "        # Test Mutual Information\n",
    "        start_time = time.time()\n",
    "        mi_selected, mi_scores = mutual_information_select(feature_subset, label_data, k)\n",
    "        mi_time = time.time() - start_time\n",
    "        \n",
    "        # Test GFFS\n",
    "        start_feature = get_most_correlated_feature(feature_subset, label_data)\n",
    "        start_time = time.time()\n",
    "        gffs_selected = greedy_feedforward_select(\n",
    "            feature_subset, label_data, k, svr_model, start_feature, cv=5, scoring_method='r2', verbose=0\n",
    "        )\n",
    "        gffs_time = time.time() - start_time\n",
    "        \n",
    "        print(f\"ANOVA time: {anova_time:.4f}s\")\n",
    "        print(f\"MRMR time: {mrmr_time:.4f}s\")\n",
    "        print(f\"MI time: {mi_time:.4f}s\")\n",
    "        print(f\"GFFS time: {gffs_time:.4f}s\")\n",
    "        print(f\"GFFS is {gffs_time/anova_time:.1f}x slower than ANOVA\")\n",
    "        \n",
    "        comparison_results.append({\n",
    "            \"k\": k,\n",
    "            \"anova_time\": anova_time,\n",
    "            \"mrmr_time\": mrmr_time,\n",
    "            \"mi_time\": mi_time,\n",
    "            \"gffs_time\": gffs_time,\n",
    "            \"gffs_vs_anova_ratio\": gffs_time / anova_time\n",
    "        })\n",
    "    \n",
    "    return pd.DataFrame(comparison_results)"
   ]
  },
  {
   "cell_type": "code",
   "execution_count": null,
   "id": "3bb7c5ea",
   "metadata": {},
   "outputs": [],
   "source": [
    "# Method Comparison Test\n",
    "print(\"\\n\" + \"=\"*60)\n",
    "print(\"METHOD COMPARISON TEST\")\n",
    "print(\"=\"*60)\n",
    "\n",
    "# Test with very small k values and feature set\n",
    "k_values_comparison = [5, 10]  # Small k values only\n",
    "feature_subset_comparison = 500  # Very small feature set\n",
    "\n",
    "print(f\"Running method comparison with {feature_subset_comparison} features\")\n",
    "print(f\"Testing k values: {k_values_comparison}\")\n",
    "\n",
    "# Run the comparison\n",
    "comparison_df = compare_gffs_with_other_methods(\n",
    "    feature_data, \n",
    "    label_data, \n",
    "    k_values=k_values_comparison,\n",
    "    feature_subset_size=feature_subset_comparison\n",
    ")\n",
    "\n",
    "# Save comparison results\n",
    "comparison_df.to_csv(f\"{file_save_path}gffs_comparison_test_{exp_id}.csv\")\n",
    "print(f\"\\nMethod comparison results saved to: {file_save_path}gffs_comparison_test_{exp_id}.csv\")\n",
    "\n",
    "# Display comparison summary\n",
    "print(\"\\nComparison Results Summary:\")\n",
    "print(f\"Average GFFS vs ANOVA time ratio: {comparison_df['gffs_vs_anova_ratio'].mean():.1f}x\")\n",
    "print(f\"GFFS is significantly slower than other methods as expected\")\n",
    "\n",
    "# Show detailed results\n",
    "print(\"\\nDetailed Results:\")\n",
    "for _, row in comparison_df.iterrows():\n",
    "    print(f\"k={row['k']}: \"\n",
    "          f\"ANOVA={row['anova_time']:.4f}s, \"\n",
    "          f\"MRMR={row['mrmr_time']:.4f}s, \"\n",
    "          f\"MI={row['mi_time']:.4f}s, \"\n",
    "          f\"GFFS={row['gffs_time']:.4f}s, \"\n",
    "          f\"GFFS/ANOVA={row['gffs_vs_anova_ratio']:.1f}x\")"
   ]
  }
 ],
 "metadata": {
  "jupytext": {
   "cell_metadata_filter": "-all",
   "formats": "ipynb,py:percent"
  },
  "kernelspec": {
   "display_name": "ode-biomarker-project",
   "language": "python",
   "name": "python3"
  },
  "language_info": {
   "codemirror_mode": {
    "name": "ipython",
    "version": 3
   },
   "file_extension": ".py",
   "mimetype": "text/x-python",
   "name": "python",
   "nbconvert_exporter": "python",
   "pygments_lexer": "ipython3",
   "version": "3.10.17"
  }
 },
 "nbformat": 4,
 "nbformat_minor": 5
}
