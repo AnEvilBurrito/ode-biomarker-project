{
 "cells": [
  {
   "cell_type": "code",
   "execution_count": null,
   "id": "a8874370",
   "metadata": {},
   "outputs": [],
   "source": [
    "# Jupyter notebook in Jupytext format"
   ]
  },
  {
   "cell_type": "markdown",
   "id": "ed8319e8",
   "metadata": {},
   "source": [
    "## Initialisation"
   ]
  },
  {
   "cell_type": "code",
   "execution_count": 1,
   "id": "e5ccfa8a",
   "metadata": {},
   "outputs": [
    {
     "name": "stdout",
     "output_type": "stream",
     "text": [
      "Project path set to: c:\\Github\\ode-biomarker-project\n"
     ]
    }
   ],
   "source": [
    "import os\n",
    "\n",
    "path = os.getcwd()\n",
    "# find the string 'project' in the path, return index\n",
    "index_project = path.find(\"project\")\n",
    "# slice the path from the index of 'project' to the end\n",
    "project_path = path[: index_project + 7]\n",
    "# set the working directory\n",
    "os.chdir(project_path)\n",
    "print(f\"Project path set to: {os.getcwd()}\")"
   ]
  },
  {
   "cell_type": "code",
   "execution_count": 2,
   "id": "ec90a7b0",
   "metadata": {},
   "outputs": [],
   "source": [
    "from PathLoader import PathLoader  # noqa: E402\n",
    "\n",
    "path_loader = PathLoader(\"data_config.env\", \"current_user.env\")"
   ]
  },
  {
   "cell_type": "code",
   "execution_count": 3,
   "id": "a4f51a13",
   "metadata": {},
   "outputs": [],
   "source": [
    "from DataLink import DataLink  # noqa: E402\n",
    "\n",
    "data_link = DataLink(path_loader, \"data_codes.csv\")"
   ]
  },
  {
   "cell_type": "code",
   "execution_count": 4,
   "id": "3d71084d",
   "metadata": {
    "lines_to_next_cell": 2
   },
   "outputs": [],
   "source": [
    "folder_name = \"ThesisResult4-FeatureSelectionBenchmark\"\n",
    "exp_id = \"v1\"\n",
    "\n",
    "if not os.path.exists(f\"{path_loader.get_data_path()}data/results/{folder_name}\"):\n",
    "    os.makedirs(f\"{path_loader.get_data_path()}data/results/{folder_name}\")\n",
    "\n",
    "file_save_path = f\"{path_loader.get_data_path()}data/results/{folder_name}/\""
   ]
  },
  {
   "cell_type": "markdown",
   "id": "be181f1b",
   "metadata": {},
   "source": [
    "## MRMR Timing Test"
   ]
  },
  {
   "cell_type": "code",
   "execution_count": 5,
   "id": "107905ae",
   "metadata": {},
   "outputs": [],
   "source": [
    "import time # noqa: F811, E402\n",
    "import numpy as np # noqa: E402\n",
    "import pandas as pd # noqa: E402\n",
    "import matplotlib.pyplot as plt # noqa: E402\n",
    "from scipy.optimize import curve_fit # noqa: E402\n",
    "from toolkit import mrmr_select_fcq # noqa: E402"
   ]
  },
  {
   "cell_type": "code",
   "execution_count": 6,
   "id": "823d2cf6",
   "metadata": {},
   "outputs": [],
   "source": [
    "def time_mrmr_selection(X, y, k_values, iterations=5):\n",
    "    \"\"\"Time MRMR feature selection for different k values\"\"\"\n",
    "    timing_results = []\n",
    "\n",
    "    for k in k_values:\n",
    "        iteration_times = []\n",
    "\n",
    "        for i in range(iterations):\n",
    "            start_time = time.time()\n",
    "\n",
    "            # Pure MRMR selection without any other processing\n",
    "            selected_features, selector_scores = mrmr_select_fcq(X, y, k)\n",
    "\n",
    "            end_time = time.time()\n",
    "            selection_time = end_time - start_time\n",
    "            iteration_times.append(selection_time)\n",
    "\n",
    "            print(f\"k={k}, iteration {i + 1}: {selection_time:.4f}s\")\n",
    "\n",
    "        # Calculate statistics\n",
    "        mean_time = np.mean(iteration_times)\n",
    "        std_time = np.std(iteration_times)\n",
    "\n",
    "        timing_results.append(\n",
    "            {\n",
    "                \"k_value\": k,\n",
    "                \"mean_time\": mean_time,\n",
    "                \"std_time\": std_time,\n",
    "                \"min_time\": min(iteration_times),\n",
    "                \"max_time\": max(iteration_times),\n",
    "                \"n_features_selected\": len(selected_features),\n",
    "            }\n",
    "        )\n",
    "\n",
    "        print(f\"k={k}: Mean time = {mean_time:.4f}s ± {std_time:.4f}s\")\n",
    "\n",
    "    return pd.DataFrame(timing_results)"
   ]
  },
  {
   "cell_type": "code",
   "execution_count": 7,
   "id": "bed30bf1",
   "metadata": {},
   "outputs": [],
   "source": [
    "def analyze_mrmr_complexity(timing_df):\n",
    "    \"\"\"Analyze time complexity of MRMR feature selection\"\"\"\n",
    "    \n",
    "    def quadratic_func(x, a, b, c):\n",
    "        return a * x**2 + b * x + c\n",
    "\n",
    "    def linear_func(x, a, b):\n",
    "        return a * x + b\n",
    "\n",
    "    # Fit different complexity models\n",
    "    x_data = timing_df[\"k_value\"]\n",
    "    y_data = timing_df[\"mean_time\"]\n",
    "\n",
    "    try:\n",
    "        # Quadratic fit (O(n²) complexity)\n",
    "        popt_quad, _ = curve_fit(quadratic_func, x_data, y_data)\n",
    "        y_pred_quad = quadratic_func(x_data, *popt_quad)\n",
    "\n",
    "        # Linear fit (O(n) complexity)\n",
    "        popt_lin, _ = curve_fit(linear_func, x_data, y_data)\n",
    "        y_pred_lin = linear_func(x_data, *popt_lin)\n",
    "\n",
    "        # Calculate R² for both fits\n",
    "        ss_res_quad = np.sum((y_data - y_pred_quad) ** 2)\n",
    "        ss_tot_quad = np.sum((y_data - np.mean(y_data)) ** 2)\n",
    "        r2_quad = 1 - (ss_res_quad / ss_tot_quad)\n",
    "\n",
    "        ss_res_lin = np.sum((y_data - y_pred_lin) ** 2)\n",
    "        ss_tot_lin = np.sum((y_data - np.mean(y_data)) ** 2)\n",
    "        r2_lin = 1 - (ss_res_lin / ss_tot_lin)\n",
    "\n",
    "        print(f\"Quadratic fit R²: {r2_quad:.4f}\")\n",
    "        print(f\"Linear fit R²: {r2_lin:.4f}\")\n",
    "\n",
    "        # Plot fits\n",
    "        plt.figure(figsize=(10, 6))\n",
    "        plt.plot(x_data, y_data, \"bo-\", label=\"Actual Data\")\n",
    "        plt.plot(x_data, y_pred_quad, \"r--\", label=f\"Quadratic Fit (R²={r2_quad:.3f})\")\n",
    "        plt.plot(x_data, y_pred_lin, \"g--\", label=f\"Linear Fit (R²={r2_lin:.3f})\")\n",
    "        plt.title(\"MRMR Time Complexity Analysis\")\n",
    "        plt.xlabel(\"Number of Features Selected (k)\")\n",
    "        plt.ylabel(\"Time (seconds)\")\n",
    "        plt.legend()\n",
    "        plt.grid(True, alpha=0.3)\n",
    "        plt.tight_layout()\n",
    "        plt.show()\n",
    "        \n",
    "        return {\n",
    "            \"quadratic_r2\": r2_quad,\n",
    "            \"linear_r2\": r2_lin,\n",
    "            \"quadratic_params\": popt_quad,\n",
    "            \"linear_params\": popt_lin\n",
    "        }\n",
    "\n",
    "    except Exception as e:\n",
    "        print(f\"Complexity analysis failed: {e}\")\n",
    "        return None"
   ]
  },
  {
   "cell_type": "code",
   "execution_count": 8,
   "id": "cfbdecd8",
   "metadata": {},
   "outputs": [],
   "source": [
    "def plot_mrmr_timing(timing_df):\n",
    "    \"\"\"Plot MRMR timing results\"\"\"\n",
    "    plt.figure(figsize=(10, 6))\n",
    "    plt.errorbar(\n",
    "        timing_df[\"k_value\"],\n",
    "        timing_df[\"mean_time\"],\n",
    "        yerr=timing_df[\"std_time\"],\n",
    "        fmt=\"o-\",\n",
    "        capsize=5,\n",
    "    )\n",
    "    plt.title(\"MRMR Feature Selection Time vs Number of Features\")\n",
    "    plt.xlabel(\"Number of Features Selected (k)\")\n",
    "    plt.ylabel(\"Time (seconds)\")\n",
    "    plt.grid(True, alpha=0.3)\n",
    "    plt.tight_layout()\n",
    "    plt.show()"
   ]
  },
  {
   "cell_type": "code",
   "execution_count": 9,
   "id": "90fb0ad9",
   "metadata": {},
   "outputs": [],
   "source": [
    "def run_mrmr_timing_test(feature_data, label_data, k_values=None, iterations=5, feature_subset_size=5000):\n",
    "    \"\"\"Run complete MRMR timing test\"\"\"\n",
    "    \n",
    "    if k_values is None:\n",
    "        k_values = list(range(1, 11))  # k=1 to 10\n",
    "    \n",
    "    # Prepare data subset for faster testing\n",
    "    feature_subset = feature_data.iloc[:, :feature_subset_size]\n",
    "    print(f\"Testing MRMR on subset: {feature_subset.shape}\")\n",
    "    \n",
    "    # Run timing test\n",
    "    print(\"Starting isolated MRMR timing test...\")\n",
    "    mrmr_timing_df = time_mrmr_selection(\n",
    "        feature_subset, label_data, k_values, iterations\n",
    "    )\n",
    "    \n",
    "    # Display results\n",
    "    print(\"\\nMRMR Timing Results:\")\n",
    "    print(mrmr_timing_df.round(4))\n",
    "    \n",
    "    # Plot results\n",
    "    plot_mrmr_timing(mrmr_timing_df)\n",
    "    \n",
    "    # Analyze complexity\n",
    "    complexity_results = analyze_mrmr_complexity(mrmr_timing_df)\n",
    "    \n",
    "    return mrmr_timing_df, complexity_results"
   ]
  },
  {
   "cell_type": "code",
   "execution_count": 10,
   "id": "5667cf38",
   "metadata": {},
   "outputs": [],
   "source": [
    "# Optimized MRMR versions for comparison\n",
    "\n",
    "def mrmr_select_fcq_optimized(X: pd.DataFrame, y: pd.Series, K: int, verbose=0, return_index=True):\n",
    "    \"\"\"\n",
    "    Optimized mRMR-FCQ feature selection\n",
    "    Precomputes correlation matrix for efficiency\n",
    "    \"\"\"\n",
    "    n_features = X.shape[1]\n",
    "    feature_names = X.columns.tolist()\n",
    "    \n",
    "    # Convert to numpy for faster operations\n",
    "    X_np = X.values\n",
    "    y_np = y.values\n",
    "    \n",
    "    # Precompute full correlation matrix - O(n² * m) once vs O(m*n*K) repeated\n",
    "    corr_matrix = np.corrcoef(X_np, rowvar=False)\n",
    "    np.fill_diagonal(corr_matrix, 1.0)  # Self-correlation = 1\n",
    "    corr_matrix = np.abs(corr_matrix)\n",
    "    \n",
    "    # Precompute F-statistics - O(m*n)\n",
    "    from sklearn.feature_selection import f_regression\n",
    "    if n_features > 0:\n",
    "        F, _ = f_regression(X_np, y_np)\n",
    "        F = np.array(F)\n",
    "    else:\n",
    "        F = np.array([])\n",
    "    \n",
    "    # Initialize\n",
    "    selected = []\n",
    "    not_selected = list(range(n_features))\n",
    "    successive_scores = []\n",
    "    \n",
    "    for i in range(K):\n",
    "        if i == 0:\n",
    "            # First iteration: select feature with highest F-score\n",
    "            scores = F[not_selected]\n",
    "        else:\n",
    "            # Compute mean correlation with selected features for each remaining feature\n",
    "            scores = np.zeros(len(not_selected))\n",
    "            \n",
    "            for j, feat_idx in enumerate(not_selected):\n",
    "                # Calculate mean correlation with all selected features\n",
    "                mean_corr = np.mean(corr_matrix[feat_idx, selected])\n",
    "                # FCQ score: F / mean correlation\n",
    "                scores[j] = F[feat_idx] / max(mean_corr, 1e-8)\n",
    "        \n",
    "        # Find best feature\n",
    "        best_idx_in_remaining = np.argmax(scores)\n",
    "        best_feature_idx = not_selected[best_idx_in_remaining]\n",
    "        \n",
    "        successive_scores.append(scores[best_idx_in_remaining])\n",
    "        selected.append(best_feature_idx)\n",
    "        \n",
    "        # Remove selected feature\n",
    "        not_selected.remove(best_feature_idx)\n",
    "        \n",
    "        if verbose:\n",
    "            feat_name = feature_names[best_feature_idx]\n",
    "            print(f'Iteration {i+1}: selected {feat_name}, score {scores[best_idx_in_remaining]:.4f}')\n",
    "    \n",
    "    if return_index:\n",
    "        return selected, successive_scores\n",
    "    else:\n",
    "        return [feature_names[i] for i in selected], successive_scores\n",
    "\n",
    "\n",
    "def mrmr_select_fcq_fast(X: pd.DataFrame, y: pd.Series, K: int, verbose=0, return_index=True):\n",
    "    \"\"\"\n",
    "    Fast mRMR-FCQ feature selection with further optimizations\n",
    "    May have minor differences from original but much faster\n",
    "    \"\"\"\n",
    "    n_features = X.shape[1]\n",
    "    feature_names = X.columns.tolist()\n",
    "    X_np = X.values\n",
    "    y_np = y.values\n",
    "    \n",
    "    # Precompute everything upfront\n",
    "    corr_matrix = np.abs(np.corrcoef(X_np, rowvar=False))\n",
    "    from sklearn.feature_selection import f_regression\n",
    "    F, _ = f_regression(X_np, y_np)\n",
    "    \n",
    "    selected = []\n",
    "    remaining = set(range(n_features))\n",
    "    successive_scores = []\n",
    "    \n",
    "    for i in range(min(K, n_features)):\n",
    "        if i == 0:\n",
    "            # Select most relevant feature\n",
    "            scores = F\n",
    "        else:\n",
    "            # Compute redundancy for each remaining feature\n",
    "            redundancy = np.zeros(n_features)\n",
    "            for feat in remaining:\n",
    "                if i == 1:\n",
    "                    redundancy[feat] = corr_matrix[feat, selected[0]]\n",
    "                else:\n",
    "                    # Use vectorized mean calculation\n",
    "                    redundancy[feat] = np.mean(corr_matrix[feat, selected])\n",
    "            \n",
    "            # FCQ score: relevance / redundancy\n",
    "            scores = np.divide(F, redundancy, \n",
    "                             out=np.full_like(F, -np.inf), \n",
    "                             where=redundancy>1e-8)\n",
    "        \n",
    "        # Find best among remaining features\n",
    "        best_score = -np.inf\n",
    "        best_feature = None\n",
    "        \n",
    "        for feat in remaining:\n",
    "            if scores[feat] > best_score:\n",
    "                best_score = scores[feat]\n",
    "                best_feature = feat\n",
    "        \n",
    "        if best_feature is None:\n",
    "            break\n",
    "            \n",
    "        selected.append(best_feature)\n",
    "        remaining.remove(best_feature)\n",
    "        successive_scores.append(best_score)\n",
    "        \n",
    "        if verbose:\n",
    "            print(f'Iteration {i+1}: selected {feature_names[best_feature]}, score {best_score:.4f}')\n",
    "    \n",
    "    if return_index:\n",
    "        return selected, successive_scores\n",
    "    else:\n",
    "        return [feature_names[i] for i in selected], successive_scores"
   ]
  },
  {
   "cell_type": "code",
   "execution_count": 11,
   "id": "6d4f5a88",
   "metadata": {},
   "outputs": [],
   "source": [
    "def compare_mrmr_versions(feature_data, label_data, k_values, feature_subset_size=500):\n",
    "    \"\"\"\n",
    "    Compare original, optimized, and fast MRMR versions\n",
    "    \"\"\"\n",
    "    # Use smaller subset for faster testing\n",
    "    feature_subset = feature_data.iloc[:, :feature_subset_size]\n",
    "    print(f\"Comparing MRMR versions on subset: {feature_subset.shape}\")\n",
    "    \n",
    "    comparison_results = []\n",
    "    \n",
    "    for k in k_values:\n",
    "        print(f\"\\n--- Testing k={k} ---\")\n",
    "        \n",
    "        # Test original version\n",
    "        start_time = time.time()\n",
    "        orig_selected, orig_scores = mrmr_select_fcq(feature_subset, label_data, k)\n",
    "        orig_time = time.time() - start_time\n",
    "        \n",
    "        # Test optimized version\n",
    "        start_time = time.time()\n",
    "        opt_selected, opt_scores = mrmr_select_fcq_optimized(feature_subset, label_data, k)\n",
    "        opt_time = time.time() - start_time\n",
    "        \n",
    "        # Test fast version\n",
    "        start_time = time.time()\n",
    "        fast_selected, fast_scores = mrmr_select_fcq_fast(feature_subset, label_data, k)\n",
    "        fast_time = time.time() - start_time\n",
    "        \n",
    "        # Compare selected features\n",
    "        orig_set = set(orig_selected)\n",
    "        opt_set = set(opt_selected)\n",
    "        fast_set = set(fast_selected)\n",
    "        \n",
    "        orig_opt_match = len(orig_set & opt_set) / k * 100\n",
    "        orig_fast_match = len(orig_set & fast_set) / k * 100\n",
    "        opt_fast_match = len(opt_set & fast_set) / k * 100\n",
    "        \n",
    "        print(f\"Original time: {orig_time:.4f}s\")\n",
    "        print(f\"Optimized time: {opt_time:.4f}s ({(orig_time/opt_time):.2f}x faster)\")\n",
    "        print(f\"Fast time: {fast_time:.4f}s ({(orig_time/fast_time):.2f}x faster)\")\n",
    "        print(f\"Original vs Optimized match: {orig_opt_match:.1f}%\")\n",
    "        print(f\"Original vs Fast match: {orig_fast_match:.1f}%\")\n",
    "        print(f\"Optimized vs Fast match: {opt_fast_match:.1f}%\")\n",
    "        print(f\"Original selected: {orig_selected}\")\n",
    "        print(f\"Optimized selected: {opt_selected}\")\n",
    "        print(f\"Fast selected: {fast_selected}\")\n",
    "        \n",
    "        comparison_results.append({\n",
    "            \"k\": k,\n",
    "            \"original_time\": orig_time,\n",
    "            \"optimized_time\": opt_time,\n",
    "            \"fast_time\": fast_time,\n",
    "            \"orig_opt_match\": orig_opt_match,\n",
    "            \"orig_fast_match\": orig_fast_match,\n",
    "            \"opt_fast_match\": opt_fast_match,\n",
    "            \"original_selected\": orig_selected,\n",
    "            \"optimized_selected\": opt_selected,\n",
    "            \"fast_selected\": fast_selected\n",
    "        })\n",
    "    \n",
    "    return pd.DataFrame(comparison_results)"
   ]
  },
  {
   "cell_type": "markdown",
   "id": "c1c4fc05",
   "metadata": {},
   "source": [
    "## Execution"
   ]
  },
  {
   "cell_type": "markdown",
   "id": "ca881f8b",
   "metadata": {},
   "source": [
    "### Loading data"
   ]
  },
  {
   "cell_type": "code",
   "execution_count": 12,
   "id": "b7e74dfe",
   "metadata": {},
   "outputs": [
    {
     "name": "stdout",
     "output_type": "stream",
     "text": [
      "Proteomic feature data shape: (737, 6692)\n",
      "Proteomic label data shape: (737,)\n"
     ]
    }
   ],
   "source": [
    "# Load Proteomics Palbociclib dataset for MRMR timing test\n",
    "loading_code = \"goncalves-gdsc-2-Palbociclib-LN_IC50-sin\"\n",
    "proteomic_feature_data, proteomic_label_data = data_link.get_data_using_code(\n",
    "    loading_code\n",
    ")\n",
    "\n",
    "print(f\"Proteomic feature data shape: {proteomic_feature_data.shape}\")\n",
    "print(f\"Proteomic label data shape: {proteomic_label_data.shape}\")"
   ]
  },
  {
   "cell_type": "code",
   "execution_count": 13,
   "id": "e24c2119",
   "metadata": {},
   "outputs": [
    {
     "name": "stdout",
     "output_type": "stream",
     "text": [
      "Final aligned dataset shape: (737, 6692)\n",
      "Final aligned label shape: (737,)\n"
     ]
    }
   ],
   "source": [
    "# Data preparation and alignment\n",
    "import numpy as np #noqa: E402\n",
    "\n",
    "# Ensure numeric only\n",
    "proteomic_feature_data = proteomic_feature_data.select_dtypes(include=[np.number])\n",
    "\n",
    "# Align indices\n",
    "common_indices = sorted(\n",
    "    set(proteomic_feature_data.index) & set(proteomic_label_data.index)\n",
    ")\n",
    "feature_data = proteomic_feature_data.loc[common_indices]\n",
    "label_data = proteomic_label_data.loc[common_indices]\n",
    "\n",
    "print(f\"Final aligned dataset shape: {feature_data.shape}\")\n",
    "print(f\"Final aligned label shape: {label_data.shape}\")"
   ]
  },
  {
   "cell_type": "markdown",
   "id": "827bfacf",
   "metadata": {},
   "source": [
    "### Test 1"
   ]
  },
  {
   "cell_type": "code",
   "execution_count": null,
   "id": "772e3d7c",
   "metadata": {},
   "outputs": [],
   "source": [
    "# Setup test parameters\n",
    "k_values_to_test = list(range(1, 11))  # k=1 to 10\n",
    "n_iterations = 5  # Number of iterations for timing\n",
    "feature_subset_size = 50  # Use first 5000 features for faster testing"
   ]
  },
  {
   "cell_type": "code",
   "execution_count": null,
   "id": "946bf435",
   "metadata": {},
   "outputs": [],
   "source": [
    "# Run the MRMR timing test\n",
    "print(\"Executing MRMR timing test...\")\n",
    "mrmr_timing_df, complexity_results = run_mrmr_timing_test(\n",
    "    feature_data, \n",
    "    label_data, \n",
    "    k_values=k_values_to_test, \n",
    "    iterations=n_iterations, \n",
    "    feature_subset_size=feature_subset_size\n",
    ")"
   ]
  },
  {
   "cell_type": "code",
   "execution_count": null,
   "id": "d741513b",
   "metadata": {},
   "outputs": [],
   "source": [
    "# Save MRMR timing results\n",
    "folder_name = \"ThesisResult4-FeatureSelectionBenchmark\"\n",
    "exp_id = \"v1\"\n",
    "\n",
    "if not os.path.exists(f\"{path_loader.get_data_path()}data/results/{folder_name}\"):\n",
    "    os.makedirs(f\"{path_loader.get_data_path()}data/results/{folder_name}\")\n",
    "\n",
    "file_save_path = f\"{path_loader.get_data_path()}data/results/{folder_name}/\"\n",
    "\n",
    "mrmr_timing_df.to_csv(f\"{file_save_path}mrmr_timing_test_{exp_id}.csv\")\n",
    "print(f\"MRMR timing results saved to: {file_save_path}mrmr_timing_test_{exp_id}.csv\")"
   ]
  },
  {
   "cell_type": "code",
   "execution_count": null,
   "id": "d6059adf",
   "metadata": {
    "lines_to_next_cell": 2
   },
   "outputs": [],
   "source": [
    "# Display final summary\n",
    "print(\"\\nMRMR Timing Test Summary:\")\n",
    "print(f\"Tested k values: {k_values_to_test}\")\n",
    "print(f\"Number of iterations per k: {n_iterations}\")\n",
    "print(f\"Feature subset size: {feature_subset_size}\")\n",
    "print(f\"Total timing runs: {len(k_values_to_test) * n_iterations}\")"
   ]
  },
  {
   "cell_type": "markdown",
   "id": "5f0706d2",
   "metadata": {},
   "source": [
    "### Test 2 "
   ]
  },
  {
   "cell_type": "code",
   "execution_count": null,
   "id": "d08da68b",
   "metadata": {},
   "outputs": [],
   "source": [
    "# MRMR Version Comparison Test\n",
    "print(\"\\n\" + \"=\"*60)\n",
    "print(\"MRMR VERSION COMPARISON TEST\")\n",
    "print(\"=\"*60)\n",
    "\n",
    "# Test with smaller k values and 5000 features for faster comparison\n",
    "k_values_comparison = [5, 10, 20]  # Test with these k values\n",
    "feature_subset_comparison = 5000  # Use first 500 features\n",
    "\n",
    "print(f\"Running MRMR version comparison with {feature_subset_comparison} features\")\n",
    "print(f\"Testing k values: {k_values_comparison}\")\n",
    "\n",
    "# Run the comparison\n",
    "comparison_df = compare_mrmr_versions(\n",
    "    feature_data, \n",
    "    label_data, \n",
    "    k_values=k_values_comparison,\n",
    "    feature_subset_size=feature_subset_comparison\n",
    ")\n",
    "\n",
    "# Save comparison results\n",
    "comparison_df.to_csv(f\"{file_save_path}mrmr_comparison_test_{exp_id}.csv\")\n",
    "print(f\"\\nMRMR comparison results saved to: {file_save_path}mrmr_comparison_test_{exp_id}.csv\")\n",
    "\n",
    "# Display summary of comparison results\n",
    "print(\"\\nComparison Results Summary:\")\n",
    "print(f\"Average Original vs Optimized match: {comparison_df['orig_opt_match'].mean():.1f}%\")\n",
    "print(f\"Average Original vs Fast match: {comparison_df['orig_fast_match'].mean():.1f}%\")\n",
    "print(f\"Average speedup (Optimized): {comparison_df['original_time'].mean() / comparison_df['optimized_time'].mean():.2f}x\")\n",
    "print(f\"Average speedup (Fast): {comparison_df['original_time'].mean() / comparison_df['fast_time'].mean():.2f}x\")\n",
    "\n",
    "# Show detailed results for each k value\n",
    "print(\"\\nDetailed Results:\")\n",
    "for _, row in comparison_df.iterrows():\n",
    "    print(f\"k={row['k']}: \"\n",
    "          f\"Orig={row['original_time']:.4f}s, \"\n",
    "          f\"Opt={row['optimized_time']:.4f}s ({row['original_time']/row['optimized_time']:.2f}x), \"\n",
    "          f\"Fast={row['fast_time']:.4f}s ({row['original_time']/row['fast_time']:.2f}x), \"\n",
    "          f\"Match(Orig/Opt)={row['orig_opt_match']:.1f}%\")"
   ]
  },
  {
   "cell_type": "markdown",
   "id": "26d4e116",
   "metadata": {},
   "source": [
    "### Test 3"
   ]
  },
  {
   "cell_type": "code",
   "execution_count": 14,
   "id": "938edb06",
   "metadata": {},
   "outputs": [],
   "source": [
    "def test_fast_version_scalability(feature_data, label_data, k_values, feature_subset_size=5000):\n",
    "    \"\"\"\n",
    "    Test the fast MRMR version scalability with larger k values and feature sets\n",
    "    Focuses only on fast version to avoid long execution times\n",
    "    \"\"\"\n",
    "    # Use larger subset for scalability testing\n",
    "    feature_subset = feature_data.iloc[:, :feature_subset_size]\n",
    "    print(f\"Testing Fast MRMR scalability on subset: {feature_subset.shape}\")\n",
    "    print(f\"Testing k values: {k_values}\")\n",
    "    \n",
    "    scalability_results = []\n",
    "    \n",
    "    for k in k_values:\n",
    "        print(f\"\\n--- Testing k={k} ---\")\n",
    "        \n",
    "        # Test only fast version (proven stable, much faster)\n",
    "        start_time = time.time()\n",
    "        fast_selected, fast_scores = mrmr_select_fcq_fast(feature_subset, label_data, k)\n",
    "        fast_time = time.time() - start_time\n",
    "        \n",
    "        print(f\"Fast time: {fast_time:.4f}s\")\n",
    "        print(f\"Fast selected (first 20): {fast_selected[:20]}\")\n",
    "        \n",
    "        scalability_results.append({\n",
    "            \"k\": k,\n",
    "            \"fast_time\": fast_time,\n",
    "            \"fast_selected\": fast_selected,\n",
    "            \"fast_scores\": fast_scores\n",
    "        })\n",
    "    \n",
    "    return pd.DataFrame(scalability_results)"
   ]
  },
  {
   "cell_type": "code",
   "execution_count": 16,
   "id": "d90ce555",
   "metadata": {},
   "outputs": [
    {
     "name": "stdout",
     "output_type": "stream",
     "text": [
      "\n",
      "============================================================\n",
      "FAST MRMR VERSION SCALABILITY TEST\n",
      "============================================================\n",
      "Running Fast MRMR scalability test with 5000 features\n",
      "Testing k values: [10, 20, 50, 80, 100, 250, 500]\n",
      "Testing Fast MRMR scalability on subset: (737, 5000)\n",
      "Testing k values: [10, 20, 50, 80, 100, 250, 500]\n",
      "\n",
      "--- Testing k=10 ---\n"
     ]
    },
    {
     "name": "stderr",
     "output_type": "stream",
     "text": [
      "c:\\Github\\ode-biomarker-project\\.venv\\lib\\site-packages\\numpy\\lib\\_function_base_impl.py:3045: RuntimeWarning: invalid value encountered in divide\n",
      "  c /= stddev[:, None]\n",
      "c:\\Github\\ode-biomarker-project\\.venv\\lib\\site-packages\\numpy\\lib\\_function_base_impl.py:3046: RuntimeWarning: invalid value encountered in divide\n",
      "  c /= stddev[None, :]\n"
     ]
    },
    {
     "name": "stdout",
     "output_type": "stream",
     "text": [
      "Fast time: 0.9493s\n",
      "Fast selected (first 20): [3771, 3775, 2213, 1214, 2355, 2598, 2525, 800, 2939, 3308]\n",
      "\n",
      "--- Testing k=20 ---\n"
     ]
    },
    {
     "name": "stderr",
     "output_type": "stream",
     "text": [
      "c:\\Github\\ode-biomarker-project\\.venv\\lib\\site-packages\\numpy\\lib\\_function_base_impl.py:3045: RuntimeWarning: invalid value encountered in divide\n",
      "  c /= stddev[:, None]\n",
      "c:\\Github\\ode-biomarker-project\\.venv\\lib\\site-packages\\numpy\\lib\\_function_base_impl.py:3046: RuntimeWarning: invalid value encountered in divide\n",
      "  c /= stddev[None, :]\n"
     ]
    },
    {
     "name": "stdout",
     "output_type": "stream",
     "text": [
      "Fast time: 1.5482s\n",
      "Fast selected (first 20): [3771, 3775, 2213, 1214, 2355, 2598, 2525, 800, 2939, 3308, 4138, 57, 4320, 240, 552, 4127, 2612, 4563, 4407, 3143]\n",
      "\n",
      "--- Testing k=50 ---\n"
     ]
    },
    {
     "name": "stderr",
     "output_type": "stream",
     "text": [
      "c:\\Github\\ode-biomarker-project\\.venv\\lib\\site-packages\\numpy\\lib\\_function_base_impl.py:3045: RuntimeWarning: invalid value encountered in divide\n",
      "  c /= stddev[:, None]\n",
      "c:\\Github\\ode-biomarker-project\\.venv\\lib\\site-packages\\numpy\\lib\\_function_base_impl.py:3046: RuntimeWarning: invalid value encountered in divide\n",
      "  c /= stddev[None, :]\n"
     ]
    },
    {
     "name": "stdout",
     "output_type": "stream",
     "text": [
      "Fast time: 3.6141s\n",
      "Fast selected (first 20): [3771, 3775, 2213, 1214, 2355, 2598, 2525, 800, 2939, 3308, 4138, 57, 4320, 240, 552, 4127, 2612, 4563, 4407, 3143]\n",
      "\n",
      "--- Testing k=80 ---\n"
     ]
    },
    {
     "name": "stderr",
     "output_type": "stream",
     "text": [
      "c:\\Github\\ode-biomarker-project\\.venv\\lib\\site-packages\\numpy\\lib\\_function_base_impl.py:3045: RuntimeWarning: invalid value encountered in divide\n",
      "  c /= stddev[:, None]\n",
      "c:\\Github\\ode-biomarker-project\\.venv\\lib\\site-packages\\numpy\\lib\\_function_base_impl.py:3046: RuntimeWarning: invalid value encountered in divide\n",
      "  c /= stddev[None, :]\n"
     ]
    },
    {
     "name": "stdout",
     "output_type": "stream",
     "text": [
      "Fast time: 6.6329s\n",
      "Fast selected (first 20): [3771, 3775, 2213, 1214, 2355, 2598, 2525, 800, 2939, 3308, 4138, 57, 4320, 240, 552, 4127, 2612, 4563, 4407, 3143]\n",
      "\n",
      "--- Testing k=100 ---\n"
     ]
    },
    {
     "name": "stderr",
     "output_type": "stream",
     "text": [
      "c:\\Github\\ode-biomarker-project\\.venv\\lib\\site-packages\\numpy\\lib\\_function_base_impl.py:3045: RuntimeWarning: invalid value encountered in divide\n",
      "  c /= stddev[:, None]\n",
      "c:\\Github\\ode-biomarker-project\\.venv\\lib\\site-packages\\numpy\\lib\\_function_base_impl.py:3046: RuntimeWarning: invalid value encountered in divide\n",
      "  c /= stddev[None, :]\n"
     ]
    },
    {
     "name": "stdout",
     "output_type": "stream",
     "text": [
      "Fast time: 7.6912s\n",
      "Fast selected (first 20): [3771, 3775, 2213, 1214, 2355, 2598, 2525, 800, 2939, 3308, 4138, 57, 4320, 240, 552, 4127, 2612, 4563, 4407, 3143]\n",
      "\n",
      "--- Testing k=250 ---\n"
     ]
    },
    {
     "name": "stderr",
     "output_type": "stream",
     "text": [
      "c:\\Github\\ode-biomarker-project\\.venv\\lib\\site-packages\\numpy\\lib\\_function_base_impl.py:3045: RuntimeWarning: invalid value encountered in divide\n",
      "  c /= stddev[:, None]\n",
      "c:\\Github\\ode-biomarker-project\\.venv\\lib\\site-packages\\numpy\\lib\\_function_base_impl.py:3046: RuntimeWarning: invalid value encountered in divide\n",
      "  c /= stddev[None, :]\n"
     ]
    },
    {
     "name": "stdout",
     "output_type": "stream",
     "text": [
      "Fast time: 23.3052s\n",
      "Fast selected (first 20): [3771, 3775, 2213, 1214, 2355, 2598, 2525, 800, 2939, 3308, 4138, 57, 4320, 240, 552, 4127, 2612, 4563, 4407, 3143]\n",
      "\n",
      "--- Testing k=500 ---\n"
     ]
    },
    {
     "name": "stderr",
     "output_type": "stream",
     "text": [
      "c:\\Github\\ode-biomarker-project\\.venv\\lib\\site-packages\\numpy\\lib\\_function_base_impl.py:3045: RuntimeWarning: invalid value encountered in divide\n",
      "  c /= stddev[:, None]\n",
      "c:\\Github\\ode-biomarker-project\\.venv\\lib\\site-packages\\numpy\\lib\\_function_base_impl.py:3046: RuntimeWarning: invalid value encountered in divide\n",
      "  c /= stddev[None, :]\n"
     ]
    },
    {
     "name": "stdout",
     "output_type": "stream",
     "text": [
      "Fast time: 61.4853s\n",
      "Fast selected (first 20): [3771, 3775, 2213, 1214, 2355, 2598, 2525, 800, 2939, 3308, 4138, 57, 4320, 240, 552, 4127, 2612, 4563, 4407, 3143]\n",
      "\n",
      "Fast MRMR scalability results saved to: G:\\My Drive\\DAWSON PHD PROJECT\\Biomarker Data Repository\\data/results/ThesisResult4-FeatureSelectionBenchmark/mrmr_fast_scalability_test_v1.csv\n",
      "\n",
      "Scalability Results Summary:\n",
      "Fast version tested with 5000 features\n",
      "Tested k values: [10, 20, 50, 80, 100, 250, 500]\n",
      "\n",
      "Timing Progression:\n",
      "k=10: Fast=0.9493s\n",
      "k=20: Fast=1.5482s\n",
      "k=50: Fast=3.6141s\n",
      "k=80: Fast=6.6329s\n",
      "k=100: Fast=7.6912s\n",
      "k=250: Fast=23.3052s\n",
      "k=500: Fast=61.4853s\n",
      "\n",
      "Time Complexity Analysis:\n",
      "Time vs k linear fit: time = 0.1230 * k + -2.7211\n",
      "R² = 0.9851\n",
      "Approximate time per feature: 0.1230s\n"
     ]
    }
   ],
   "source": [
    "# Fast Version Scalability Test\n",
    "print(\"\\n\" + \"=\"*60)\n",
    "print(\"FAST MRMR VERSION SCALABILITY TEST\")\n",
    "print(\"=\"*60)\n",
    "\n",
    "# Test with larger k values and 5000 features\n",
    "k_values_scalability = [10, 20, 50, 80, 100, 250, 500]  # Test up to k=100\n",
    "feature_subset_scalability = 5000  # Use first 5000 features\n",
    "\n",
    "print(f\"Running Fast MRMR scalability test with {feature_subset_scalability} features\")\n",
    "print(f\"Testing k values: {k_values_scalability}\")\n",
    "\n",
    "# Run the scalability test\n",
    "scalability_df = test_fast_version_scalability(\n",
    "    feature_data, \n",
    "    label_data, \n",
    "    k_values=k_values_scalability,\n",
    "    feature_subset_size=feature_subset_scalability\n",
    ")\n",
    "\n",
    "# Save scalability results\n",
    "scalability_df.to_csv(f\"{file_save_path}mrmr_fast_scalability_test_{exp_id}.csv\")\n",
    "print(f\"\\nFast MRMR scalability results saved to: {file_save_path}mrmr_fast_scalability_test_{exp_id}.csv\")\n",
    "\n",
    "# Display scalability summary\n",
    "print(\"\\nScalability Results Summary:\")\n",
    "print(f\"Fast version tested with {feature_subset_scalability} features\")\n",
    "print(f\"Tested k values: {k_values_scalability}\")\n",
    "\n",
    "# Show timing progression\n",
    "print(\"\\nTiming Progression:\")\n",
    "for _, row in scalability_df.iterrows():\n",
    "    print(f\"k={row['k']}: Fast={row['fast_time']:.4f}s\")\n",
    "\n",
    "# Analyze time complexity\n",
    "print(\"\\nTime Complexity Analysis:\")\n",
    "k_values = scalability_df['k'].values\n",
    "fast_times = scalability_df['fast_time'].values\n",
    "\n",
    "# Simple linear regression to understand scaling\n",
    "if len(k_values) > 1:\n",
    "    from scipy.stats import linregress\n",
    "    slope, intercept, r_value, p_value, std_err = linregress(k_values, fast_times)\n",
    "    print(f\"Time vs k linear fit: time = {slope:.4f} * k + {intercept:.4f}\")\n",
    "    print(f\"R² = {r_value**2:.4f}\")\n",
    "    print(f\"Approximate time per feature: {slope:.4f}s\")"
   ]
  },
  {
   "cell_type": "code",
   "execution_count": null,
   "id": "338974ab",
   "metadata": {},
   "outputs": [],
   "source": [
    "def plot_scalability_results(scalability_df, feature_subset_size=5000):\n",
    "    \"\"\"\n",
    "    Plot scalability results for the fast MRMR version\n",
    "    \"\"\"\n",
    "    fig, (ax1, ax2) = plt.subplots(1, 2, figsize=(15, 6))\n",
    "    \n",
    "    # Plot 1: Time vs k\n",
    "    k_values = scalability_df['k'].values\n",
    "    fast_times = scalability_df['fast_time'].values\n",
    "    \n",
    "    ax1.plot(k_values, fast_times, 'bo-', linewidth=2, markersize=8)\n",
    "    ax1.set_title(f'Fast MRMR Execution Time vs k\\n({feature_subset_size} features)')\n",
    "    ax1.set_xlabel('Number of Features Selected (k)')\n",
    "    ax1.set_ylabel('Time (seconds)')\n",
    "    ax1.grid(True, alpha=0.3)\n",
    "    \n",
    "    # Add linear regression line\n",
    "    if len(k_values) > 1:\n",
    "        slope, intercept, r_value, p_value, std_err = linregress(k_values, fast_times)\n",
    "        x_fit = np.linspace(min(k_values), max(k_values), 100)\n",
    "        y_fit = slope * x_fit + intercept\n",
    "        ax1.plot(x_fit, y_fit, 'r--', label=f'Linear fit (R²={r_value**2:.3f})')\n",
    "        ax1.legend()\n",
    "    \n",
    "    # Plot 2: Time per feature vs k\n",
    "    time_per_feature = fast_times / k_values\n",
    "    \n",
    "    ax2.plot(k_values, time_per_feature, 'go-', linewidth=2, markersize=8)\n",
    "    ax2.set_title('Time per Feature vs k')\n",
    "    ax2.set_xlabel('Number of Features Selected (k)')\n",
    "    ax2.set_ylabel('Time per Feature (seconds)')\n",
    "    ax2.grid(True, alpha=0.3)\n",
    "    \n",
    "    plt.tight_layout()\n",
    "    \n",
    "    # Save the plot\n",
    "    plot_filename = f\"{file_save_path}mrmr_fast_scalability_plot_{exp_id}.png\"\n",
    "    plt.savefig(plot_filename, dpi=300, bbox_inches='tight')\n",
    "    plt.show()\n",
    "    print(f\"Scalability plot saved to: {plot_filename}\")"
   ]
  },
  {
   "cell_type": "code",
   "execution_count": 18,
   "id": "e34f7b39",
   "metadata": {},
   "outputs": [
    {
     "name": "stdout",
     "output_type": "stream",
     "text": [
      "\n",
      "============================================================\n",
      "PLOTTING SCALABILITY RESULTS\n",
      "============================================================\n"
     ]
    },
    {
     "data": {
      "image/png": "[encoded data removed]",
      "text/plain": [
       "<Figure size 1500x600 with 2 Axes>"
      ]
     },
     "metadata": {},
     "output_type": "display_data"
    },
    {
     "name": "stdout",
     "output_type": "stream",
     "text": [
      "Scalability plot saved to: G:\\My Drive\\DAWSON PHD PROJECT\\Biomarker Data Repository\\data/results/ThesisResult4-FeatureSelectionBenchmark/mrmr_fast_scalability_plot_v1.png\n",
      "\n",
      "Additional Scalability Analysis:\n",
      "Fastest execution: k=10 (0.9493s)\n",
      "Slowest execution: k=500 (61.4853s)\n",
      "Total time for all k values: 105.2262s\n",
      "Efficiency ratio (k=100 vs k=10): 64.77x\n"
     ]
    },
    {
     "data": {
      "text/plain": [
       "<Figure size 640x480 with 0 Axes>"
      ]
     },
     "metadata": {},
     "output_type": "display_data"
    }
   ],
   "source": [
    "# Plot scalability results\n",
    "print(\"\\n\" + \"=\"*60)\n",
    "print(\"PLOTTING SCALABILITY RESULTS\")\n",
    "print(\"=\"*60)\n",
    "\n",
    "plot_scalability_results(scalability_df, feature_subset_size=feature_subset_scalability)\n",
    "\n",
    "# Additional analysis\n",
    "print(\"\\nAdditional Scalability Analysis:\")\n",
    "print(f\"Fastest execution: k={scalability_df.loc[scalability_df['fast_time'].idxmin(), 'k']} \"\n",
    "      f\"({scalability_df['fast_time'].min():.4f}s)\")\n",
    "print(f\"Slowest execution: k={scalability_df.loc[scalability_df['fast_time'].idxmax(), 'k']} \"\n",
    "      f\"({scalability_df['fast_time'].max():.4f}s)\")\n",
    "print(f\"Total time for all k values: {scalability_df['fast_time'].sum():.4f}s\")\n",
    "\n",
    "# Calculate efficiency metrics\n",
    "if len(k_values) > 1:\n",
    "    efficiency_ratio = scalability_df['fast_time'].iloc[-1] / scalability_df['fast_time'].iloc[0]\n",
    "    print(f\"Efficiency ratio (k=100 vs k=10): {efficiency_ratio:.2f}x\")"
   ]
  }
 ],
 "metadata": {
  "jupytext": {
   "cell_metadata_filter": "-all",
   "formats": "ipynb,py:percent"
  },
  "kernelspec": {
   "display_name": "ode-biomarker-project",
   "language": "python",
   "name": "python3"
  },
  "language_info": {
   "codemirror_mode": {
    "name": "ipython",
    "version": 3
   },
   "file_extension": ".py",
   "mimetype": "text/x-python",
   "name": "python",
   "nbconvert_exporter": "python",
   "pygments_lexer": "ipython3",
   "version": "3.10.17"
  }
 },
 "nbformat": 4,
 "nbformat_minor": 5
}
