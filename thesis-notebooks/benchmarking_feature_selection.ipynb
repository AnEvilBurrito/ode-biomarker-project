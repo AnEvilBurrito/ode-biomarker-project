{
 "cells": [
  {
   "cell_type": "code",
   "execution_count": null,
   "id": "34d4f2d5",
   "metadata": {},
   "outputs": [],
   "source": [
    "# Jupyter notebook in Jupytext format"
   ]
  },
  {
   "cell_type": "markdown",
   "id": "4ab02b3e",
   "metadata": {},
   "source": [
    "## Initialisation"
   ]
  },
  {
   "cell_type": "code",
   "execution_count": 1,
   "id": "81c9c302",
   "metadata": {},
   "outputs": [
    {
     "name": "stdout",
     "output_type": "stream",
     "text": [
      "Project path set to: c:\\Github\\ode-biomarker-project\n"
     ]
    }
   ],
   "source": [
    "import os\n",
    "\n",
    "path = os.getcwd()\n",
    "# find the string 'project' in the path, return index\n",
    "index_project = path.find(\"project\")\n",
    "# slice the path from the index of 'project' to the end\n",
    "project_path = path[: index_project + 7]\n",
    "# set the working directory\n",
    "os.chdir(project_path)\n",
    "print(f\"Project path set to: {os.getcwd()}\")"
   ]
  },
  {
   "cell_type": "code",
   "execution_count": 2,
   "id": "e128c9f3",
   "metadata": {},
   "outputs": [],
   "source": [
    "from PathLoader import PathLoader #noqa: E402\n",
    "\n",
    "path_loader = PathLoader(\"data_config.env\", \"current_user.env\")"
   ]
  },
  {
   "cell_type": "code",
   "execution_count": 3,
   "id": "07d82e14",
   "metadata": {},
   "outputs": [],
   "source": [
    "from DataLink import DataLink #noqa: E402\n",
    "\n",
    "data_link = DataLink(path_loader, \"data_codes.csv\")"
   ]
  },
  {
   "cell_type": "code",
   "execution_count": 4,
   "id": "ac1b589f",
   "metadata": {},
   "outputs": [],
   "source": [
    "folder_name = \"ThesisResult4-FeatureSelectionBenchmark\"\n",
    "exp_id = \"v1\"\n",
    "\n",
    "if not os.path.exists(f\"{path_loader.get_data_path()}data/results/{folder_name}\"):\n",
    "    os.makedirs(f\"{path_loader.get_data_path()}data/results/{folder_name}\")\n",
    "\n",
    "file_save_path = f\"{path_loader.get_data_path()}data/results/{folder_name}/\""
   ]
  },
  {
   "cell_type": "code",
   "execution_count": 5,
   "id": "8d787584",
   "metadata": {},
   "outputs": [
    {
     "name": "stdout",
     "output_type": "stream",
     "text": [
      "Proteomic feature data shape: (737, 6692)\n",
      "Proteomic label data shape: (737,)\n"
     ]
    }
   ],
   "source": [
    "# Load Proteomics Palbociclib dataset\n",
    "loading_code = \"goncalves-gdsc-2-Palbociclib-LN_IC50-sin\"\n",
    "proteomic_feature_data, proteomic_label_data = data_link.get_data_using_code(\n",
    "    loading_code\n",
    ")\n",
    "\n",
    "print(f\"Proteomic feature data shape: {proteomic_feature_data.shape}\")\n",
    "print(f\"Proteomic label data shape: {proteomic_label_data.shape}\")"
   ]
  },
  {
   "cell_type": "code",
   "execution_count": 6,
   "id": "98baa56a",
   "metadata": {},
   "outputs": [
    {
     "name": "stdout",
     "output_type": "stream",
     "text": [
      "Final aligned dataset shape: (737, 6692)\n",
      "Final aligned label shape: (737,)\n"
     ]
    }
   ],
   "source": [
    "# Data preparation and alignment\n",
    "import numpy as np #noqa: E402\n",
    "\n",
    "# Ensure numeric only\n",
    "proteomic_feature_data = proteomic_feature_data.select_dtypes(include=[np.number])\n",
    "\n",
    "# Align indices\n",
    "common_indices = sorted(\n",
    "    set(proteomic_feature_data.index) & set(proteomic_label_data.index)\n",
    ")\n",
    "feature_data = proteomic_feature_data.loc[common_indices]\n",
    "label_data = proteomic_label_data.loc[common_indices]\n",
    "\n",
    "print(f\"Final aligned dataset shape: {feature_data.shape}\")\n",
    "print(f\"Final aligned label shape: {label_data.shape}\")"
   ]
  },
  {
   "cell_type": "markdown",
   "id": "95d621fb",
   "metadata": {},
   "source": [
    "## Functions"
   ]
  },
  {
   "cell_type": "code",
   "execution_count": 7,
   "id": "0fbd0c86",
   "metadata": {},
   "outputs": [],
   "source": [
    "from typing import Dict, List, Literal #noqa: E402\n",
    "import numpy as np #noqa: E402\n",
    "import pandas as pd #noqa: E402\n",
    "from scipy.stats import pearsonr, spearmanr #noqa: E402\n",
    "from sklearn.metrics import r2_score #noqa: E402\n",
    "from sklearn.dummy import DummyRegressor #noqa: E402\n",
    "from sklearn.preprocessing import StandardScaler #noqa: E402\n",
    "from toolkit import FirstQuantileImputer, f_regression_select, get_model_from_string #noqa: E402\n",
    "from toolkit import (\n",
    "    mrmr_select_fcq, \n",
    "    mrmr_select_fcq_fast,\n",
    "    mutual_information_select,\n",
    "    select_random_features,\n",
    ") #noqa: E402\n",
    "import time #noqa: E402"
   ]
  },
  {
   "cell_type": "code",
   "execution_count": 8,
   "id": "361b36b0",
   "metadata": {},
   "outputs": [],
   "source": [
    "def random_select_wrapper(X: pd.DataFrame, y: pd.Series, k: int) -> tuple:\n",
    "    \"\"\"Wrapper function for random feature selection that returns dummy scores\"\"\"\n",
    "    selected_features, _ = select_random_features(X, y, k)\n",
    "    # Return dummy scores (all zeros) since random selection has no meaningful scores\n",
    "    dummy_scores = np.zeros(len(selected_features))\n",
    "    return selected_features, dummy_scores"
   ]
  },
  {
   "cell_type": "code",
   "execution_count": 9,
   "id": "34919b58",
   "metadata": {},
   "outputs": [],
   "source": [
    "def _drop_correlated_columns(X: pd.DataFrame, threshold: float = 0.95) -> List[str]:\n",
    "    \"\"\"Drop highly correlated columns to reduce redundancy\"\"\"\n",
    "    corr = X.corr().abs()\n",
    "    upper = corr.where(np.triu(np.ones(corr.shape), k=1).astype(bool))\n",
    "    to_drop = set()\n",
    "    for col in sorted(upper.columns):\n",
    "        if col in to_drop:\n",
    "            continue\n",
    "        high_corr = upper.index[upper[col] > threshold].tolist()\n",
    "        to_drop.update(high_corr)\n",
    "    return [c for c in X.columns if c not in to_drop]"
   ]
  },
  {
   "cell_type": "code",
   "execution_count": 10,
   "id": "140eb7ce",
   "metadata": {},
   "outputs": [],
   "source": [
    "def create_feature_selection_pipeline(\n",
    "    selection_method: callable, k: int, method_name: str, model_name: str\n",
    "):\n",
    "    \"\"\"Create pipeline for feature selection methods\"\"\"\n",
    "\n",
    "    def pipeline_function(X_train: pd.DataFrame, y_train: pd.Series, rng: int):\n",
    "        # 1) Sanitize inputs and imputation\n",
    "        X_train = X_train.replace([np.inf, -np.inf], np.nan)\n",
    "        y_train = pd.Series(y_train).replace([np.inf, -np.inf], np.nan)\n",
    "        mask = ~y_train.isna()\n",
    "        X_train, y_train = X_train.loc[mask], y_train.loc[mask]\n",
    "\n",
    "        # 2) Imputation\n",
    "        imputer = FirstQuantileImputer().fit(X_train)\n",
    "        Xtr = imputer.transform(X_train, return_df=True).astype(float)\n",
    "        Xtr = Xtr.fillna(0.0)\n",
    "\n",
    "        # 3) Correlation filtering (applied to both train and test)\n",
    "        # Use the working function from your baseline code [1]\n",
    "        corr_keep_cols = _drop_correlated_columns(Xtr, threshold=0.95)\n",
    "        Xtr_filtered = Xtr[corr_keep_cols]\n",
    "\n",
    "        # 4) Feature selection\n",
    "        k_sel = min(k, Xtr_filtered.shape[1]) if Xtr_filtered.shape[1] > 0 else 0\n",
    "        if k_sel == 0:\n",
    "            selected_features, selector_scores = [], np.array([])\n",
    "            no_features = True\n",
    "        else:\n",
    "            selected_features, selector_scores = selection_method(\n",
    "                Xtr_filtered, y_train, k_sel\n",
    "            )\n",
    "            no_features = False\n",
    "\n",
    "        # 5) Standardization and model training\n",
    "        if no_features or len(selected_features) == 0:\n",
    "            model = DummyRegressor(strategy=\"mean\")\n",
    "            model_type = \"DummyRegressor(mean)\"\n",
    "            model_params = {\"strategy\": \"mean\"}\n",
    "            sel_train = Xtr_filtered.iloc[:, :0]\n",
    "        else:\n",
    "            sel_train = Xtr_filtered[selected_features]\n",
    "            scaler = StandardScaler()\n",
    "            sel_train_scaled = scaler.fit_transform(sel_train)\n",
    "            sel_train_scaled = pd.DataFrame(\n",
    "                sel_train_scaled, index=sel_train.index, columns=selected_features\n",
    "            )\n",
    "\n",
    "            # Train model\n",
    "            if model_name == \"LinearRegression\":\n",
    "                model = get_model_from_string(\"LinearRegression\")\n",
    "            elif model_name == \"KNeighborsRegressor\":\n",
    "                model = get_model_from_string(\n",
    "                    \"KNeighborsRegressor\", n_neighbors=5, weights=\"distance\", p=2\n",
    "                )\n",
    "            elif model_name == \"SVR\":\n",
    "                model = get_model_from_string(\"SVR\", kernel=\"linear\", C=1.0)\n",
    "            else:\n",
    "                raise ValueError(f\"Unsupported model: {model_name}\")\n",
    "\n",
    "            model.fit(sel_train_scaled, y_train)\n",
    "            model_type = model_name\n",
    "            model_params = (\n",
    "                model.get_params(deep=False) if hasattr(model, \"get_params\") else {}\n",
    "            )\n",
    "\n",
    "        return {\n",
    "            \"imputer\": imputer,\n",
    "            \"corr_keep_cols\": corr_keep_cols,\n",
    "            \"selected_features\": list(selected_features),\n",
    "            \"selector_scores\": np.array(selector_scores),\n",
    "            \"model\": model,\n",
    "            \"model_type\": model_type,\n",
    "            \"model_params\": model_params,\n",
    "            \"scaler\": scaler if not no_features else None,\n",
    "            \"no_features\": no_features,\n",
    "            \"rng\": rng,\n",
    "        }\n",
    "\n",
    "    return pipeline_function"
   ]
  },
  {
   "cell_type": "code",
   "execution_count": 11,
   "id": "f6b8f5ff",
   "metadata": {},
   "outputs": [],
   "source": [
    "def feature_selection_eval(\n",
    "    X_test: pd.DataFrame,\n",
    "    y_test: pd.Series,\n",
    "    *,\n",
    "    pipeline_components: Dict,\n",
    "    metric_primary: Literal[\"r2\", \"pearson_r\", \"spearman_r\"] = \"r2\",\n",
    ") -> Dict:\n",
    "    \"\"\"Evaluation function for feature selection benchmarking\"\"\"\n",
    "\n",
    "    # Unpack components following the structure from working baseline code [1]\n",
    "    imputer = pipeline_components[\"imputer\"]\n",
    "    corr_keep = set(pipeline_components[\"corr_keep_cols\"])\n",
    "    selected = list(pipeline_components[\"selected_features\"])\n",
    "    selector_scores = pipeline_components[\"selector_scores\"]\n",
    "    model = pipeline_components[\"model\"]\n",
    "    model_name = pipeline_components[\"model_type\"]\n",
    "    scaler = pipeline_components.get(\"scaler\", None)\n",
    "    no_features = pipeline_components.get(\"no_features\", False)\n",
    "\n",
    "    # Apply identical transforms as training\n",
    "    X_test = X_test.replace([np.inf, -np.inf], np.nan)\n",
    "    y_test = pd.Series(y_test).replace([np.inf, -np.inf], np.nan)\n",
    "    mask_y = ~y_test.isna()\n",
    "    X_test, y_test = X_test.loc[mask_y], y_test.loc[mask_y]\n",
    "\n",
    "    Xti = imputer.transform(X_test, return_df=True).astype(float).fillna(0.0)\n",
    "\n",
    "    # Apply same correlation filtering as training [1]\n",
    "    cols_after_corr = [c for c in Xti.columns if c in corr_keep]\n",
    "    Xti = Xti[cols_after_corr]\n",
    "\n",
    "    # Select features\n",
    "    Xsel = Xti[selected] if len(selected) > 0 else Xti.iloc[:, :0]\n",
    "\n",
    "    # Standardize if scaler exists (i.e., features were selected)\n",
    "    if scaler is not None and len(selected) > 0:\n",
    "        Xsel_scaled = scaler.transform(Xsel)\n",
    "        Xsel_scaled = pd.DataFrame(Xsel_scaled, index=Xsel.index, columns=selected)\n",
    "    else:\n",
    "        Xsel_scaled = Xsel\n",
    "\n",
    "    # Predict\n",
    "    if no_features or Xsel.shape[1] == 0:\n",
    "        y_pred = np.full_like(\n",
    "            y_test.values, fill_value=float(y_test.mean()), dtype=float\n",
    "        )\n",
    "    else:\n",
    "        y_pred = np.asarray(model.predict(Xsel_scaled), dtype=float)\n",
    "\n",
    "    # Calculate metrics (following the exact structure from baseline_eval [1])\n",
    "    mask_fin = np.isfinite(y_test.values) & np.isfinite(y_pred)\n",
    "    y_t = y_test.values[mask_fin]\n",
    "    y_p = y_pred[mask_fin]\n",
    "\n",
    "    if len(y_t) < 2:\n",
    "        r2 = np.nan\n",
    "        pearson_r = pearson_p = np.nan\n",
    "        spearman_rho = spearman_p = np.nan\n",
    "    else:\n",
    "        r2 = r2_score(y_t, y_p)\n",
    "        pearson_r, pearson_p = pearsonr(y_t, y_p)\n",
    "        spearman_rho, spearman_p = spearmanr(y_t, y_p)\n",
    "\n",
    "    metrics = {\n",
    "        \"r2\": float(r2) if np.isfinite(r2) else np.nan,\n",
    "        \"pearson_r\": float(pearson_r) if np.isfinite(pearson_r) else np.nan,\n",
    "        \"pearson_p\": float(pearson_p) if np.isfinite(pearson_p) else np.nan,\n",
    "        \"spearman_rho\": float(spearman_rho) if np.isfinite(spearman_rho) else np.nan,\n",
    "        \"spearman_p\": float(spearman_p) if np.isfinite(spearman_p) else np.nan,\n",
    "        \"n_test_samples_used\": len(y_t),\n",
    "    }\n",
    "\n",
    "    # Feature importance\n",
    "    if not no_features and hasattr(model, \"feature_importances_\") and len(selected) > 0:\n",
    "        fi = (np.array(selected), model.feature_importances_)\n",
    "    elif not no_features and model_name in (\"LinearRegression\",) and len(selected) > 0:\n",
    "        coef = getattr(model, \"coef_\", np.zeros(len(selected)))\n",
    "        fi = (np.array(selected), np.abs(coef))\n",
    "    else:\n",
    "        fi = (np.array(selected), np.zeros(len(selected)))\n",
    "\n",
    "    primary = metrics.get(metric_primary, metrics[\"r2\"])\n",
    "\n",
    "    return {\n",
    "        \"feature_importance\": fi,\n",
    "        \"feature_importance_from\": \"model\",\n",
    "        \"model_performance\": float(primary) if primary is not None else np.nan,\n",
    "        \"metrics\": metrics,\n",
    "        \"selected_features\": selected,\n",
    "        \"model_name\": model_name,\n",
    "        \"selected_scores\": selector_scores,\n",
    "        \"k\": len(selected),\n",
    "        \"rng\": pipeline_components.get(\"rng\", None),\n",
    "        \"y_pred\": y_p,\n",
    "        \"y_true_index\": y_test.index[mask_fin],\n",
    "    }"
   ]
  },
  {
   "cell_type": "markdown",
   "id": "99161ff2",
   "metadata": {
    "lines_to_next_cell": 0
   },
   "source": [
    "## Execution "
   ]
  },
  {
   "cell_type": "code",
   "execution_count": null,
   "id": "e25969b8",
   "metadata": {},
   "outputs": [],
   "source": [
    "# Setup experiment parameters - using only the three requested methods\n",
    "feature_set_sizes = [10, 20, 40, 80, 160, 320, 640, 1280]\n",
    "models = [\"KNeighborsRegressor\", \"LinearRegression\", \"SVR\"]\n",
    "\n",
    "# Define the feature selection methods including random selection as negative control\n",
    "feature_selection_methods = {\n",
    "    \"anova_filter\": f_regression_select,        # Renamed as ANOVA-filter\n",
    "    \"mrmr\": mrmr_select_fcq_fast,                    # MRMR method [2]\n",
    "    \"mutual_info\": mutual_information_select,   # Mutual Information method [2]\n",
    "    \"random_select\": random_select_wrapper      # Random selection as negative control\n",
    "}\n",
    "\n",
    "print(f\"Benchmarking {len(feature_selection_methods)} methods across {len(feature_set_sizes)} feature sizes and {len(models)} models\")\n",
    "print(f\"Total conditions: {len(feature_selection_methods) * len(feature_set_sizes) * len(models)}\")\n",
    "print(\"Methods: ANOVA-filter, MRMR, Mutual Information, and Random Selection (negative control)\")"
   ]
  },
  {
   "cell_type": "code",
   "execution_count": null,
   "id": "2bd9c8c2",
   "metadata": {},
   "outputs": [],
   "source": [
    "from toolkit import Powerkit #noqa: E402\n",
    "import numpy as np #noqa: E402\n",
    "import time #noqa: F811, E402\n",
    "\n",
    "# Initialize Powerkit with proteomics data\n",
    "pk = Powerkit(feature_data, label_data)\n",
    "\n",
    "# Register all conditions (method × size × model combinations)\n",
    "rngs = np.random.RandomState(42).randint(0, 100000, size=1)  # 50 repeats for robustness\n",
    "\n",
    "start_time = time.time()\n",
    "\n",
    "for method_name, selection_method in feature_selection_methods.items():\n",
    "    for k in feature_set_sizes:\n",
    "        for model_name in models:\n",
    "            # Create condition name using the requested naming convention\n",
    "            condition = f\"{method_name}_k{k}_{model_name}\"\n",
    "            \n",
    "            # Create pipeline for this method and size\n",
    "            pipeline_func = create_feature_selection_pipeline(selection_method, k, method_name, model_name)\n",
    "            \n",
    "            # Add condition to Powerkit following the structure from previous notebook [1]\n",
    "            pk.add_condition(\n",
    "                condition=condition,\n",
    "                get_importance=True,\n",
    "                pipeline_function=pipeline_func,\n",
    "                pipeline_args={},\n",
    "                eval_function=feature_selection_eval,\n",
    "                eval_args={\"metric_primary\": \"r2\"}\n",
    "            )\n",
    "\n",
    "print(f\"Registered {len(pk.conditions)} conditions in {time.time() - start_time:.2f} seconds\")"
   ]
  },
  {
   "cell_type": "code",
   "execution_count": null,
   "id": "6409db97",
   "metadata": {},
   "outputs": [],
   "source": [
    "# Run all conditions using Powerkit's parallel processing [1]\n",
    "print(\"Starting feature selection benchmark (ANOVA-filter, MRMR, Mutual Information, Random Selection)...\")\n",
    "print(f\"Running with {len(rngs)} random seeds and -1 n_jobs for maximum parallelization\")\n",
    "\n",
    "benchmark_start = time.time()\n",
    "df_benchmark = pk.run_all_conditions(rng_list=rngs, n_jobs=-1, verbose=True)\n",
    "benchmark_time = time.time() - benchmark_start\n",
    "\n",
    "print(f\"Benchmark completed in {benchmark_time:.2f} seconds\")\n",
    "print(f\"Results shape: {df_benchmark.shape}\")"
   ]
  },
  {
   "cell_type": "code",
   "execution_count": null,
   "id": "4941bf63",
   "metadata": {},
   "outputs": [],
   "source": [
    "# Extract k value and model name from condition for easier analysis\n",
    "df_benchmark[\"k_value\"] = df_benchmark[\"condition\"].str.extract(r'k(\\d+)').astype(int)\n",
    "df_benchmark[\"method\"] = df_benchmark[\"condition\"].str.split('_').str[0]\n",
    "df_benchmark[\"model_name\"] = df_benchmark[\"condition\"].str.split('_').str[2]\n",
    "\n",
    "print(\"Condition breakdown:\")\n",
    "print(df_benchmark[[\"condition\", \"method\", \"k_value\", \"model_name\"]].head(10))"
   ]
  },
  {
   "cell_type": "code",
   "execution_count": null,
   "id": "4ec7dad1",
   "metadata": {},
   "outputs": [],
   "source": [
    "# Save initial results\n",
    "df_benchmark.to_pickle(f\"{file_save_path}feature_selection_benchmark_{exp_id}.pkl\")\n",
    "print(f\"Initial results saved to: {file_save_path}feature_selection_benchmark_{exp_id}.pkl\")"
   ]
  },
  {
   "cell_type": "code",
   "execution_count": null,
   "id": "53ff27a8",
   "metadata": {},
   "outputs": [],
   "source": [
    "# Quick summary of results\n",
    "print(\"Benchmark Summary:\")\n",
    "print(f\"Total runs: {len(df_benchmark)}\")\n",
    "print(f\"Unique conditions: {df_benchmark['condition'].nunique()}\")\n",
    "print(f\"Performance range (R²): {df_benchmark['model_performance'].min():.4f} to {df_benchmark['model_performance'].max():.4f}\")\n",
    "\n",
    "# Show performance by method (including random selection as negative control)\n",
    "method_summary = df_benchmark.groupby(\"method\")[\"model_performance\"].agg([\"mean\", \"std\", \"count\"])\n",
    "print(\"\\nPerformance by method (ANOVA-filter, MRMR, Mutual Information, Random Selection):\")\n",
    "print(method_summary.round(4))"
   ]
  },
  {
   "cell_type": "markdown",
   "id": "9c8cdb08",
   "metadata": {},
   "source": [
    "## Results and Visualisation"
   ]
  },
  {
   "cell_type": "markdown",
   "id": "b5fab246",
   "metadata": {},
   "source": [
    "### Load data"
   ]
  },
  {
   "cell_type": "code",
   "execution_count": 12,
   "id": "efb7e6ef",
   "metadata": {},
   "outputs": [
    {
     "name": "stdout",
     "output_type": "stream",
     "text": [
      "Loaded df_benchmark with shape: (48, 14)\n"
     ]
    },
    {
     "data": {
      "application/vnd.microsoft.datawrangler.viewer.v0+json": {
       "columns": [
        {
         "name": "index",
         "rawType": "int64",
         "type": "integer"
        },
        {
         "name": "rng",
         "rawType": "int64",
         "type": "integer"
        },
        {
         "name": "condition",
         "rawType": "object",
         "type": "string"
        },
        {
         "name": "feature_importance",
         "rawType": "object",
         "type": "unknown"
        },
        {
         "name": "feature_importance_from",
         "rawType": "object",
         "type": "string"
        },
        {
         "name": "model_performance",
         "rawType": "float64",
         "type": "float"
        },
        {
         "name": "metrics",
         "rawType": "object",
         "type": "unknown"
        },
        {
         "name": "selected_features",
         "rawType": "object",
         "type": "unknown"
        },
        {
         "name": "model_name",
         "rawType": "object",
         "type": "string"
        },
        {
         "name": "selected_scores",
         "rawType": "object",
         "type": "unknown"
        },
        {
         "name": "k",
         "rawType": "int64",
         "type": "integer"
        },
        {
         "name": "y_pred",
         "rawType": "object",
         "type": "unknown"
        },
        {
         "name": "y_true_index",
         "rawType": "object",
         "type": "unknown"
        },
        {
         "name": "k_value",
         "rawType": "int64",
         "type": "integer"
        },
        {
         "name": "method",
         "rawType": "object",
         "type": "string"
        }
       ],
       "ref": "9cb64603-4995-4d22-ace9-0880d241864e",
       "rows": [
        [
         "0",
         "15795",
         "anova_filter_k10_KNeighborsRegressor",
         "(array(['O60716;CTND1_HUMAN', 'P35222;CTNB1_HUMAN', 'Q13422;IKZF1_HUMAN',\n       'Q07157;ZO1_HUMAN', 'Q92556;ELMO1_HUMAN', 'Q9UBI6;GBG12_HUMAN',\n       'O95292;VAPB_HUMAN', 'Q92608;DOCK2_HUMAN', 'O95302;FKBP9_HUMAN',\n       'P15151;PVR_HUMAN'], dtype='<U18'), array([0., 0., 0., 0., 0., 0., 0., 0., 0., 0.]))",
         "model",
         "0.10381494465544672",
         "{'r2': 0.10381494465544672, 'pearson_r': 0.42304127948746, 'pearson_p': 0.00017325880838767657, 'spearman_rho': 0.3389115142539799, 'spearman_p': 0.0031394643700829758, 'n_test_samples_used': 74}",
         "['O60716;CTND1_HUMAN', 'P35222;CTNB1_HUMAN', 'Q13422;IKZF1_HUMAN', 'Q07157;ZO1_HUMAN', 'Q92556;ELMO1_HUMAN', 'Q9UBI6;GBG12_HUMAN', 'O95292;VAPB_HUMAN', 'Q92608;DOCK2_HUMAN', 'O95302;FKBP9_HUMAN', 'P15151;PVR_HUMAN']",
         "k10",
         "[223.4334326  194.44901444 215.39545801 212.58973975 213.77542281\n 214.97224177 222.74349335 209.50316598 196.91363469 217.50863138]",
         "10",
         "[3.62135574 4.48062708 5.61486283 3.36188798 1.38925643 4.33673344\n 3.34643147 4.50268782 4.73524432 4.05044881 1.32953652 2.56262943\n 5.42934893 3.89153473 3.75073867 1.44058971 4.62720229 2.90469957\n 3.51042148 5.18467845 0.86487961 3.9231829  5.10921297 4.9413795\n 3.1908685  5.13549465 3.70928025 1.94306236 2.7791146  5.01118055\n 3.95498565 4.42413273 3.58692591 4.62769215 2.74350409 3.48832725\n 5.01737895 4.43327938 3.74896895 2.07326213 3.75757048 4.21908585\n 3.13576297 1.38176565 5.4648958  3.93157203 3.77411977 3.4728796\n 1.84587375 4.47651898 3.82142761 5.07822271 4.68680808 3.29054673\n 4.40915598 2.34755533 4.25969703 2.77897222 3.71462668 5.11754886\n 4.29863266 3.26851397 4.51945346 3.89845694 3.46064388 3.07043662\n 3.63393518 4.22313547 3.7946119  3.51959519 1.18427656 1.97841747\n 4.52572951 3.9222031 ]",
         "Index(['SIDM00879', 'SIDM00213', 'SIDM00542', 'SIDM00930', 'SIDM00907',\n       'SIDM01097', 'SIDM00678', 'SIDM00085', 'SIDM00347', 'SIDM01041',\n       'SIDM00407', 'SIDM00384', 'SIDM00224', 'SIDM00250', 'SIDM01149',\n       'SIDM01076', 'SIDM00943', 'SIDM00877', 'SIDM00940', 'SIDM00249',\n       'SIDM00863', 'SIDM00256', 'SIDM01110', 'SIDM00328', 'SIDM00146',\n       'SIDM00953', 'SIDM01027', 'SIDM00211', 'SIDM00389', 'SIDM00354',\n       'SIDM00475', 'SIDM01120', 'SIDM00203', 'SIDM01081', 'SIDM00230',\n       'SIDM00290', 'SIDM00681', 'SIDM01109', 'SIDM00274', 'SIDM00808',\n       'SIDM00882', 'SIDM00545', 'SIDM00771', 'SIDM00994', 'SIDM00225',\n       'SIDM00306', 'SIDM00321', 'SIDM01055', 'SIDM00403', 'SIDM00316',\n       'SIDM00853', 'SIDM00135', 'SIDM00932', 'SIDM01124', 'SIDM00266',\n       'SIDM01205', 'SIDM01087', 'SIDM00455', 'SIDM01067', 'SIDM00136',\n       'SIDM00699', 'SIDM00197', 'SIDM00099', 'SIDM01085', 'SIDM00417',\n       'SIDM00535', 'SIDM01060', 'SIDM00278', 'SIDM00156', 'SIDM00747',\n       'SIDM00388', 'SIDM01017', 'SIDM00633', 'SIDM00302'],\n      dtype='object')",
         "10",
         "anova"
        ],
        [
         "1",
         "15795",
         "anova_filter_k10_LinearRegression",
         "(array(['O60716;CTND1_HUMAN', 'P35222;CTNB1_HUMAN', 'Q13422;IKZF1_HUMAN',\n       'Q07157;ZO1_HUMAN', 'Q92556;ELMO1_HUMAN', 'Q9UBI6;GBG12_HUMAN',\n       'O95292;VAPB_HUMAN', 'Q92608;DOCK2_HUMAN', 'O95302;FKBP9_HUMAN',\n       'P15151;PVR_HUMAN'], dtype='<U18'), array([0.11051034, 0.01069713, 0.07084564, 0.10175188, 0.03619177,\n       0.15406903, 0.32411463, 0.08675949, 0.06356101, 0.17277323]))",
         "model",
         "0.323972112571398",
         "{'r2': 0.323972112571398, 'pearson_r': 0.5750090252893966, 'pearson_p': 8.40950794546311e-08, 'spearman_rho': 0.5131877082562013, 'spearman_p': 2.934397314294932e-06, 'n_test_samples_used': 74}",
         "['O60716;CTND1_HUMAN', 'P35222;CTNB1_HUMAN', 'Q13422;IKZF1_HUMAN', 'Q07157;ZO1_HUMAN', 'Q92556;ELMO1_HUMAN', 'Q9UBI6;GBG12_HUMAN', 'O95292;VAPB_HUMAN', 'Q92608;DOCK2_HUMAN', 'O95302;FKBP9_HUMAN', 'P15151;PVR_HUMAN']",
         "k10",
         "[223.4334326  194.44901444 215.39545801 212.58973975 213.77542281\n 214.97224177 222.74349335 209.50316598 196.91363469 217.50863138]",
         "10",
         "[4.2139381  4.2426323  4.22229606 3.90361681 1.65280995 3.49558097\n 4.10470986 4.15513299 4.32487201 3.92024183 1.442267   2.37982858\n 4.0359905  4.01415158 3.31833444 1.6557993  4.193753   2.80023665\n 3.75852673 4.09915067 1.63434609 3.5982191  3.9974663  4.18208823\n 3.69750384 3.62355293 4.17259369 2.00737627 1.25416473 4.19366685\n 4.05924979 3.26018533 3.09758472 4.51142675 3.20912431 3.41519377\n 4.21409891 4.25589845 3.92557826 1.6398842  4.21265199 3.76993053\n 3.7702093  1.62757198 4.29975762 3.92289999 3.97990314 3.97880642\n 1.60801419 4.01198978 4.25406989 4.54821872 4.19381269 3.54393281\n 3.5355927  1.90006283 4.10037853 4.22678157 4.43161741 4.47656511\n 3.22842564 3.4315716  4.22147436 3.52769633 3.0853292  3.43350968\n 3.77490678 4.20179572 4.08503066 3.95693952 1.41944034 1.75581239\n 4.43654654 4.02423225]",
         "Index(['SIDM00879', 'SIDM00213', 'SIDM00542', 'SIDM00930', 'SIDM00907',\n       'SIDM01097', 'SIDM00678', 'SIDM00085', 'SIDM00347', 'SIDM01041',\n       'SIDM00407', 'SIDM00384', 'SIDM00224', 'SIDM00250', 'SIDM01149',\n       'SIDM01076', 'SIDM00943', 'SIDM00877', 'SIDM00940', 'SIDM00249',\n       'SIDM00863', 'SIDM00256', 'SIDM01110', 'SIDM00328', 'SIDM00146',\n       'SIDM00953', 'SIDM01027', 'SIDM00211', 'SIDM00389', 'SIDM00354',\n       'SIDM00475', 'SIDM01120', 'SIDM00203', 'SIDM01081', 'SIDM00230',\n       'SIDM00290', 'SIDM00681', 'SIDM01109', 'SIDM00274', 'SIDM00808',\n       'SIDM00882', 'SIDM00545', 'SIDM00771', 'SIDM00994', 'SIDM00225',\n       'SIDM00306', 'SIDM00321', 'SIDM01055', 'SIDM00403', 'SIDM00316',\n       'SIDM00853', 'SIDM00135', 'SIDM00932', 'SIDM01124', 'SIDM00266',\n       'SIDM01205', 'SIDM01087', 'SIDM00455', 'SIDM01067', 'SIDM00136',\n       'SIDM00699', 'SIDM00197', 'SIDM00099', 'SIDM01085', 'SIDM00417',\n       'SIDM00535', 'SIDM01060', 'SIDM00278', 'SIDM00156', 'SIDM00747',\n       'SIDM00388', 'SIDM01017', 'SIDM00633', 'SIDM00302'],\n      dtype='object')",
         "10",
         "anova"
        ],
        [
         "2",
         "15795",
         "anova_filter_k10_SVR",
         "(array(['O60716;CTND1_HUMAN', 'P35222;CTNB1_HUMAN', 'Q13422;IKZF1_HUMAN',\n       'Q07157;ZO1_HUMAN', 'Q92556;ELMO1_HUMAN', 'Q9UBI6;GBG12_HUMAN',\n       'O95292;VAPB_HUMAN', 'Q92608;DOCK2_HUMAN', 'O95302;FKBP9_HUMAN',\n       'P15151;PVR_HUMAN'], dtype='<U18'), array([0., 0., 0., 0., 0., 0., 0., 0., 0., 0.]))",
         "model",
         "0.30409167349439437",
         "{'r2': 0.30409167349439437, 'pearson_r': 0.5592501406280358, 'pearson_p': 2.2282825900842795e-07, 'spearman_rho': 0.49900037023324684, 'spearman_p': 6.031927275297554e-06, 'n_test_samples_used': 74}",
         "['O60716;CTND1_HUMAN', 'P35222;CTNB1_HUMAN', 'Q13422;IKZF1_HUMAN', 'Q07157;ZO1_HUMAN', 'Q92556;ELMO1_HUMAN', 'Q9UBI6;GBG12_HUMAN', 'O95292;VAPB_HUMAN', 'Q92608;DOCK2_HUMAN', 'O95302;FKBP9_HUMAN', 'P15151;PVR_HUMAN']",
         "k10",
         "[223.4334326  194.44901444 215.39545801 212.58973975 213.77542281\n 214.97224177 222.74349335 209.50316598 196.91363469 217.50863138]",
         "10",
         "[4.20743613 4.33995297 4.32016156 4.00055208 1.44672276 3.52881186\n 4.19893791 4.26637304 4.35165517 4.02565787 1.50139655 2.2430995\n 4.16080026 4.17561392 3.39694515 1.63466656 4.27739038 3.05087325\n 3.87904225 4.25486028 1.47209168 3.62027109 4.04249153 4.29815136\n 3.86044416 3.67546339 4.22563239 1.94615824 1.2595673  4.25771881\n 4.10995837 3.25688251 2.96529926 4.5278027  3.37658946 3.63303099\n 4.27891439 4.29384027 3.99299422 1.49514708 3.89688641 3.93206907\n 4.02042155 1.51397394 4.35154525 3.96964547 4.07928895 4.10603113\n 1.73624823 4.21426609 4.21125155 4.61924773 4.23989629 3.55309792\n 3.60326129 1.81932325 4.14392242 4.234252   4.51199588 4.46903816\n 3.25915777 3.23188078 4.34999828 3.71158977 2.97511624 3.39879679\n 3.8466664  4.27448215 4.15652367 4.03016643 1.33210022 1.5684021\n 4.34254047 4.16287202]",
         "Index(['SIDM00879', 'SIDM00213', 'SIDM00542', 'SIDM00930', 'SIDM00907',\n       'SIDM01097', 'SIDM00678', 'SIDM00085', 'SIDM00347', 'SIDM01041',\n       'SIDM00407', 'SIDM00384', 'SIDM00224', 'SIDM00250', 'SIDM01149',\n       'SIDM01076', 'SIDM00943', 'SIDM00877', 'SIDM00940', 'SIDM00249',\n       'SIDM00863', 'SIDM00256', 'SIDM01110', 'SIDM00328', 'SIDM00146',\n       'SIDM00953', 'SIDM01027', 'SIDM00211', 'SIDM00389', 'SIDM00354',\n       'SIDM00475', 'SIDM01120', 'SIDM00203', 'SIDM01081', 'SIDM00230',\n       'SIDM00290', 'SIDM00681', 'SIDM01109', 'SIDM00274', 'SIDM00808',\n       'SIDM00882', 'SIDM00545', 'SIDM00771', 'SIDM00994', 'SIDM00225',\n       'SIDM00306', 'SIDM00321', 'SIDM01055', 'SIDM00403', 'SIDM00316',\n       'SIDM00853', 'SIDM00135', 'SIDM00932', 'SIDM01124', 'SIDM00266',\n       'SIDM01205', 'SIDM01087', 'SIDM00455', 'SIDM01067', 'SIDM00136',\n       'SIDM00699', 'SIDM00197', 'SIDM00099', 'SIDM01085', 'SIDM00417',\n       'SIDM00535', 'SIDM01060', 'SIDM00278', 'SIDM00156', 'SIDM00747',\n       'SIDM00388', 'SIDM01017', 'SIDM00633', 'SIDM00302'],\n      dtype='object')",
         "10",
         "anova"
        ],
        [
         "3",
         "15795",
         "anova_filter_k20_KNeighborsRegressor",
         "(array(['O60716;CTND1_HUMAN', 'P26006;ITA3_HUMAN', 'P14317;HCLS1_HUMAN',\n       'P35222;CTNB1_HUMAN', 'Q13422;IKZF1_HUMAN', 'Q6WCQ1;MPRIP_HUMAN',\n       'P42768;WASP_HUMAN', 'Q07157;ZO1_HUMAN', 'Q92835;SHIP1_HUMAN',\n       'P06756;ITAV_HUMAN', 'Q92556;ELMO1_HUMAN', 'Q6JBY9;CPZIP_HUMAN',\n       'Q9UBI6;GBG12_HUMAN', 'O95292;VAPB_HUMAN', 'Q92608;DOCK2_HUMAN',\n       'O94901;SUN1_HUMAN', 'O95302;FKBP9_HUMAN', 'P15151;PVR_HUMAN',\n       'O60234;GMFG_HUMAN', 'P16150;LEUK_HUMAN'], dtype='<U18'), array([0., 0., 0., 0., 0., 0., 0., 0., 0., 0., 0., 0., 0., 0., 0., 0., 0.,\n       0., 0., 0.]))",
         "model",
         "0.33532095969963516",
         "{'r2': 0.33532095969963516, 'pearson_r': 0.5969804421441203, 'pearson_p': 1.9783244827846338e-08, 'spearman_rho': 0.5293002591632727, 'spearman_p': 1.2433854723650192e-06, 'n_test_samples_used': 74}",
         "['O60716;CTND1_HUMAN', 'P26006;ITA3_HUMAN', 'P14317;HCLS1_HUMAN', 'P35222;CTNB1_HUMAN', 'Q13422;IKZF1_HUMAN', 'Q6WCQ1;MPRIP_HUMAN', 'P42768;WASP_HUMAN', 'Q07157;ZO1_HUMAN', 'Q92835;SHIP1_HUMAN', 'P06756;ITAV_HUMAN', 'Q92556;ELMO1_HUMAN', 'Q6JBY9;CPZIP_HUMAN', 'Q9UBI6;GBG12_HUMAN', 'O95292;VAPB_HUMAN', 'Q92608;DOCK2_HUMAN', 'O94901;SUN1_HUMAN', 'O95302;FKBP9_HUMAN', 'P15151;PVR_HUMAN', 'O60234;GMFG_HUMAN', 'P16150;LEUK_HUMAN']",
         "k20",
         "[223.4334326  185.29426354 187.41755427 194.44901444 215.39545801\n 189.60157069 194.13206554 212.58973975 186.53167054 187.26486793\n 213.77542281 193.98160509 214.97224177 222.74349335 209.50316598\n 185.90376997 196.91363469 217.50863138 190.26122021 184.42446092]",
         "20",
         "[3.66907352 3.80710028 4.92117404 2.84390647 0.61259428 3.76636227\n 4.69592672 4.60881196 3.9240718  3.6826091  1.42523891 2.28161144\n 4.64338305 5.35698657 3.90592059 0.80972122 4.84357188 3.33188156\n 3.97182706 4.40912477 1.81999127 3.98240248 4.37739042 4.39035578\n 4.20616957 4.15245806 5.66732995 2.29907354 1.43898353 4.14375122\n 3.71650278 3.87726524 3.5282028  5.14010584 3.15045264 4.43669127\n 2.93345296 4.47346382 3.82439629 1.49905267 3.20497783 4.14378822\n 4.3553783  1.04049034 4.68713642 4.02641814 3.84323464 4.64016022\n 1.94027604 4.12006093 3.83950894 4.78955667 3.19062456 3.56055321\n 3.08328237 2.57277229 4.16409787 4.1996401  4.35217544 4.05261488\n 4.857065   2.56788065 4.229742   4.53483337 2.95061174 3.57778842\n 3.66902886 4.69750065 5.13814781 4.41058539 1.28553229 2.04760524\n 3.75785124 3.06879157]",
         "Index(['SIDM00879', 'SIDM00213', 'SIDM00542', 'SIDM00930', 'SIDM00907',\n       'SIDM01097', 'SIDM00678', 'SIDM00085', 'SIDM00347', 'SIDM01041',\n       'SIDM00407', 'SIDM00384', 'SIDM00224', 'SIDM00250', 'SIDM01149',\n       'SIDM01076', 'SIDM00943', 'SIDM00877', 'SIDM00940', 'SIDM00249',\n       'SIDM00863', 'SIDM00256', 'SIDM01110', 'SIDM00328', 'SIDM00146',\n       'SIDM00953', 'SIDM01027', 'SIDM00211', 'SIDM00389', 'SIDM00354',\n       'SIDM00475', 'SIDM01120', 'SIDM00203', 'SIDM01081', 'SIDM00230',\n       'SIDM00290', 'SIDM00681', 'SIDM01109', 'SIDM00274', 'SIDM00808',\n       'SIDM00882', 'SIDM00545', 'SIDM00771', 'SIDM00994', 'SIDM00225',\n       'SIDM00306', 'SIDM00321', 'SIDM01055', 'SIDM00403', 'SIDM00316',\n       'SIDM00853', 'SIDM00135', 'SIDM00932', 'SIDM01124', 'SIDM00266',\n       'SIDM01205', 'SIDM01087', 'SIDM00455', 'SIDM01067', 'SIDM00136',\n       'SIDM00699', 'SIDM00197', 'SIDM00099', 'SIDM01085', 'SIDM00417',\n       'SIDM00535', 'SIDM01060', 'SIDM00278', 'SIDM00156', 'SIDM00747',\n       'SIDM00388', 'SIDM01017', 'SIDM00633', 'SIDM00302'],\n      dtype='object')",
         "20",
         "anova"
        ],
        [
         "4",
         "15795",
         "anova_filter_k20_LinearRegression",
         "(array(['O60716;CTND1_HUMAN', 'P26006;ITA3_HUMAN', 'P14317;HCLS1_HUMAN',\n       'P35222;CTNB1_HUMAN', 'Q13422;IKZF1_HUMAN', 'Q6WCQ1;MPRIP_HUMAN',\n       'P42768;WASP_HUMAN', 'Q07157;ZO1_HUMAN', 'Q92835;SHIP1_HUMAN',\n       'P06756;ITAV_HUMAN', 'Q92556;ELMO1_HUMAN', 'Q6JBY9;CPZIP_HUMAN',\n       'Q9UBI6;GBG12_HUMAN', 'O95292;VAPB_HUMAN', 'Q92608;DOCK2_HUMAN',\n       'O94901;SUN1_HUMAN', 'O95302;FKBP9_HUMAN', 'P15151;PVR_HUMAN',\n       'O60234;GMFG_HUMAN', 'P16150;LEUK_HUMAN'], dtype='<U18'), array([0.1068016 , 0.25057785, 0.04274617, 0.01742884, 0.25649881,\n       0.20284634, 0.36901303, 0.09163729, 0.025512  , 0.15919063,\n       0.08172343, 0.15848284, 0.02945665, 0.30876098, 0.14925906,\n       0.04723713, 0.08905567, 0.05899456, 0.35710916, 0.2608081 ]))",
         "model",
         "0.34665560638468795",
         "{'r2': 0.34665560638468795, 'pearson_r': 0.5936155449645751, 'pearson_p': 2.486575099111426e-08, 'spearman_rho': 0.5466567937800814, 'spearman_p': 4.685611242981977e-07, 'n_test_samples_used': 74}",
         "['O60716;CTND1_HUMAN', 'P26006;ITA3_HUMAN', 'P14317;HCLS1_HUMAN', 'P35222;CTNB1_HUMAN', 'Q13422;IKZF1_HUMAN', 'Q6WCQ1;MPRIP_HUMAN', 'P42768;WASP_HUMAN', 'Q07157;ZO1_HUMAN', 'Q92835;SHIP1_HUMAN', 'P06756;ITAV_HUMAN', 'Q92556;ELMO1_HUMAN', 'Q6JBY9;CPZIP_HUMAN', 'Q9UBI6;GBG12_HUMAN', 'O95292;VAPB_HUMAN', 'Q92608;DOCK2_HUMAN', 'O94901;SUN1_HUMAN', 'O95302;FKBP9_HUMAN', 'P15151;PVR_HUMAN', 'O60234;GMFG_HUMAN', 'P16150;LEUK_HUMAN']",
         "k20",
         "[223.4334326  185.29426354 187.41755427 194.44901444 215.39545801\n 189.60157069 194.13206554 212.58973975 186.53167054 187.26486793\n 213.77542281 193.98160509 214.97224177 222.74349335 209.50316598\n 185.90376997 196.91363469 217.50863138 190.26122021 184.42446092]",
         "20",
         "[3.97935384 4.27559478 4.17854485 4.05945172 1.49074677 2.98320314\n 4.28521127 4.30569667 4.38351671 3.87290077 1.47407192 2.19861472\n 4.14248623 4.19318878 3.47760993 1.97393533 4.27866728 3.05246731\n 3.82477183 4.84387333 1.89859497 3.16703261 4.26942896 4.50085001\n 4.38431792 3.77199173 4.34309554 1.98961629 1.45169764 3.64854677\n 4.04220402 3.21349677 3.00486722 4.89590649 2.95431469 3.36594974\n 3.5224901  4.30116821 3.81364082 1.71326827 3.99397451 3.77433832\n 3.52368575 1.57413836 4.34397643 3.77621012 3.47206283 3.9806162\n 1.42042475 4.11948978 4.22096441 4.46663865 4.31445734 3.75038484\n 3.29484819 2.03331571 4.1954323  4.3186602  4.76173786 4.0765864\n 3.64240505 3.21343635 4.3913099  3.80080447 3.63164022 3.15118306\n 3.32072374 4.45616003 4.24470606 4.01665513 0.74819032 1.17297241\n 4.21045126 4.1553726 ]",
         "Index(['SIDM00879', 'SIDM00213', 'SIDM00542', 'SIDM00930', 'SIDM00907',\n       'SIDM01097', 'SIDM00678', 'SIDM00085', 'SIDM00347', 'SIDM01041',\n       'SIDM00407', 'SIDM00384', 'SIDM00224', 'SIDM00250', 'SIDM01149',\n       'SIDM01076', 'SIDM00943', 'SIDM00877', 'SIDM00940', 'SIDM00249',\n       'SIDM00863', 'SIDM00256', 'SIDM01110', 'SIDM00328', 'SIDM00146',\n       'SIDM00953', 'SIDM01027', 'SIDM00211', 'SIDM00389', 'SIDM00354',\n       'SIDM00475', 'SIDM01120', 'SIDM00203', 'SIDM01081', 'SIDM00230',\n       'SIDM00290', 'SIDM00681', 'SIDM01109', 'SIDM00274', 'SIDM00808',\n       'SIDM00882', 'SIDM00545', 'SIDM00771', 'SIDM00994', 'SIDM00225',\n       'SIDM00306', 'SIDM00321', 'SIDM01055', 'SIDM00403', 'SIDM00316',\n       'SIDM00853', 'SIDM00135', 'SIDM00932', 'SIDM01124', 'SIDM00266',\n       'SIDM01205', 'SIDM01087', 'SIDM00455', 'SIDM01067', 'SIDM00136',\n       'SIDM00699', 'SIDM00197', 'SIDM00099', 'SIDM01085', 'SIDM00417',\n       'SIDM00535', 'SIDM01060', 'SIDM00278', 'SIDM00156', 'SIDM00747',\n       'SIDM00388', 'SIDM01017', 'SIDM00633', 'SIDM00302'],\n      dtype='object')",
         "20",
         "anova"
        ]
       ],
       "shape": {
        "columns": 14,
        "rows": 5
       }
      },
      "text/html": [
       "<div>\n",
       "<style scoped>\n",
       "    .dataframe tbody tr th:only-of-type {\n",
       "        vertical-align: middle;\n",
       "    }\n",
       "\n",
       "    .dataframe tbody tr th {\n",
       "        vertical-align: top;\n",
       "    }\n",
       "\n",
       "    .dataframe thead th {\n",
       "        text-align: right;\n",
       "    }\n",
       "</style>\n",
       "<table border=\"1\" class=\"dataframe\">\n",
       "  <thead>\n",
       "    <tr style=\"text-align: right;\">\n",
       "      <th></th>\n",
       "      <th>rng</th>\n",
       "      <th>condition</th>\n",
       "      <th>feature_importance</th>\n",
       "      <th>feature_importance_from</th>\n",
       "      <th>model_performance</th>\n",
       "      <th>metrics</th>\n",
       "      <th>selected_features</th>\n",
       "      <th>model_name</th>\n",
       "      <th>selected_scores</th>\n",
       "      <th>k</th>\n",
       "      <th>y_pred</th>\n",
       "      <th>y_true_index</th>\n",
       "      <th>k_value</th>\n",
       "      <th>method</th>\n",
       "    </tr>\n",
       "  </thead>\n",
       "  <tbody>\n",
       "    <tr>\n",
       "      <th>0</th>\n",
       "      <td>15795</td>\n",
       "      <td>anova_filter_k10_KNeighborsRegressor</td>\n",
       "      <td>([O60716;CTND1_HUMAN, P35222;CTNB1_HUMAN, Q134...</td>\n",
       "      <td>model</td>\n",
       "      <td>0.103815</td>\n",
       "      <td>{'r2': 0.10381494465544672, 'pearson_r': 0.423...</td>\n",
       "      <td>[O60716;CTND1_HUMAN, P35222;CTNB1_HUMAN, Q1342...</td>\n",
       "      <td>k10</td>\n",
       "      <td>[223.43343259944592, 194.44901443737032, 215.3...</td>\n",
       "      <td>10</td>\n",
       "      <td>[3.621355735605322, 4.480627084698676, 5.61486...</td>\n",
       "      <td>Index(['SIDM00879', 'SIDM00213', 'SIDM00542', ...</td>\n",
       "      <td>10</td>\n",
       "      <td>anova</td>\n",
       "    </tr>\n",
       "    <tr>\n",
       "      <th>1</th>\n",
       "      <td>15795</td>\n",
       "      <td>anova_filter_k10_LinearRegression</td>\n",
       "      <td>([O60716;CTND1_HUMAN, P35222;CTNB1_HUMAN, Q134...</td>\n",
       "      <td>model</td>\n",
       "      <td>0.323972</td>\n",
       "      <td>{'r2': 0.323972112571398, 'pearson_r': 0.57500...</td>\n",
       "      <td>[O60716;CTND1_HUMAN, P35222;CTNB1_HUMAN, Q1342...</td>\n",
       "      <td>k10</td>\n",
       "      <td>[223.43343259944592, 194.44901443737032, 215.3...</td>\n",
       "      <td>10</td>\n",
       "      <td>[4.213938101070182, 4.2426323046908285, 4.2222...</td>\n",
       "      <td>Index(['SIDM00879', 'SIDM00213', 'SIDM00542', ...</td>\n",
       "      <td>10</td>\n",
       "      <td>anova</td>\n",
       "    </tr>\n",
       "    <tr>\n",
       "      <th>2</th>\n",
       "      <td>15795</td>\n",
       "      <td>anova_filter_k10_SVR</td>\n",
       "      <td>([O60716;CTND1_HUMAN, P35222;CTNB1_HUMAN, Q134...</td>\n",
       "      <td>model</td>\n",
       "      <td>0.304092</td>\n",
       "      <td>{'r2': 0.30409167349439437, 'pearson_r': 0.559...</td>\n",
       "      <td>[O60716;CTND1_HUMAN, P35222;CTNB1_HUMAN, Q1342...</td>\n",
       "      <td>k10</td>\n",
       "      <td>[223.43343259944592, 194.44901443737032, 215.3...</td>\n",
       "      <td>10</td>\n",
       "      <td>[4.207436132006373, 4.339952966739021, 4.32016...</td>\n",
       "      <td>Index(['SIDM00879', 'SIDM00213', 'SIDM00542', ...</td>\n",
       "      <td>10</td>\n",
       "      <td>anova</td>\n",
       "    </tr>\n",
       "    <tr>\n",
       "      <th>3</th>\n",
       "      <td>15795</td>\n",
       "      <td>anova_filter_k20_KNeighborsRegressor</td>\n",
       "      <td>([O60716;CTND1_HUMAN, P26006;ITA3_HUMAN, P1431...</td>\n",
       "      <td>model</td>\n",
       "      <td>0.335321</td>\n",
       "      <td>{'r2': 0.33532095969963516, 'pearson_r': 0.596...</td>\n",
       "      <td>[O60716;CTND1_HUMAN, P26006;ITA3_HUMAN, P14317...</td>\n",
       "      <td>k20</td>\n",
       "      <td>[223.43343259944592, 185.29426354100713, 187.4...</td>\n",
       "      <td>20</td>\n",
       "      <td>[3.6690735172225457, 3.8071002751890766, 4.921...</td>\n",
       "      <td>Index(['SIDM00879', 'SIDM00213', 'SIDM00542', ...</td>\n",
       "      <td>20</td>\n",
       "      <td>anova</td>\n",
       "    </tr>\n",
       "    <tr>\n",
       "      <th>4</th>\n",
       "      <td>15795</td>\n",
       "      <td>anova_filter_k20_LinearRegression</td>\n",
       "      <td>([O60716;CTND1_HUMAN, P26006;ITA3_HUMAN, P1431...</td>\n",
       "      <td>model</td>\n",
       "      <td>0.346656</td>\n",
       "      <td>{'r2': 0.34665560638468795, 'pearson_r': 0.593...</td>\n",
       "      <td>[O60716;CTND1_HUMAN, P26006;ITA3_HUMAN, P14317...</td>\n",
       "      <td>k20</td>\n",
       "      <td>[223.43343259944592, 185.29426354100713, 187.4...</td>\n",
       "      <td>20</td>\n",
       "      <td>[3.979353837676647, 4.275594780595496, 4.17854...</td>\n",
       "      <td>Index(['SIDM00879', 'SIDM00213', 'SIDM00542', ...</td>\n",
       "      <td>20</td>\n",
       "      <td>anova</td>\n",
       "    </tr>\n",
       "  </tbody>\n",
       "</table>\n",
       "</div>"
      ],
      "text/plain": [
       "     rng                             condition  \\\n",
       "0  15795  anova_filter_k10_KNeighborsRegressor   \n",
       "1  15795     anova_filter_k10_LinearRegression   \n",
       "2  15795                  anova_filter_k10_SVR   \n",
       "3  15795  anova_filter_k20_KNeighborsRegressor   \n",
       "4  15795     anova_filter_k20_LinearRegression   \n",
       "\n",
       "                                  feature_importance feature_importance_from  \\\n",
       "0  ([O60716;CTND1_HUMAN, P35222;CTNB1_HUMAN, Q134...                   model   \n",
       "1  ([O60716;CTND1_HUMAN, P35222;CTNB1_HUMAN, Q134...                   model   \n",
       "2  ([O60716;CTND1_HUMAN, P35222;CTNB1_HUMAN, Q134...                   model   \n",
       "3  ([O60716;CTND1_HUMAN, P26006;ITA3_HUMAN, P1431...                   model   \n",
       "4  ([O60716;CTND1_HUMAN, P26006;ITA3_HUMAN, P1431...                   model   \n",
       "\n",
       "   model_performance                                            metrics  \\\n",
       "0           0.103815  {'r2': 0.10381494465544672, 'pearson_r': 0.423...   \n",
       "1           0.323972  {'r2': 0.323972112571398, 'pearson_r': 0.57500...   \n",
       "2           0.304092  {'r2': 0.30409167349439437, 'pearson_r': 0.559...   \n",
       "3           0.335321  {'r2': 0.33532095969963516, 'pearson_r': 0.596...   \n",
       "4           0.346656  {'r2': 0.34665560638468795, 'pearson_r': 0.593...   \n",
       "\n",
       "                                   selected_features model_name  \\\n",
       "0  [O60716;CTND1_HUMAN, P35222;CTNB1_HUMAN, Q1342...        k10   \n",
       "1  [O60716;CTND1_HUMAN, P35222;CTNB1_HUMAN, Q1342...        k10   \n",
       "2  [O60716;CTND1_HUMAN, P35222;CTNB1_HUMAN, Q1342...        k10   \n",
       "3  [O60716;CTND1_HUMAN, P26006;ITA3_HUMAN, P14317...        k20   \n",
       "4  [O60716;CTND1_HUMAN, P26006;ITA3_HUMAN, P14317...        k20   \n",
       "\n",
       "                                     selected_scores   k  \\\n",
       "0  [223.43343259944592, 194.44901443737032, 215.3...  10   \n",
       "1  [223.43343259944592, 194.44901443737032, 215.3...  10   \n",
       "2  [223.43343259944592, 194.44901443737032, 215.3...  10   \n",
       "3  [223.43343259944592, 185.29426354100713, 187.4...  20   \n",
       "4  [223.43343259944592, 185.29426354100713, 187.4...  20   \n",
       "\n",
       "                                              y_pred  \\\n",
       "0  [3.621355735605322, 4.480627084698676, 5.61486...   \n",
       "1  [4.213938101070182, 4.2426323046908285, 4.2222...   \n",
       "2  [4.207436132006373, 4.339952966739021, 4.32016...   \n",
       "3  [3.6690735172225457, 3.8071002751890766, 4.921...   \n",
       "4  [3.979353837676647, 4.275594780595496, 4.17854...   \n",
       "\n",
       "                                        y_true_index  k_value method  \n",
       "0  Index(['SIDM00879', 'SIDM00213', 'SIDM00542', ...       10  anova  \n",
       "1  Index(['SIDM00879', 'SIDM00213', 'SIDM00542', ...       10  anova  \n",
       "2  Index(['SIDM00879', 'SIDM00213', 'SIDM00542', ...       10  anova  \n",
       "3  Index(['SIDM00879', 'SIDM00213', 'SIDM00542', ...       20  anova  \n",
       "4  Index(['SIDM00879', 'SIDM00213', 'SIDM00542', ...       20  anova  "
      ]
     },
     "metadata": {},
     "output_type": "display_data"
    }
   ],
   "source": [
    "# Load saved feature selection benchmark (feature_selection_benchmark_v1.pkl)\n",
    "import os\n",
    "import pandas as pd\n",
    "\n",
    "pkl_path = f\"{path_loader.get_data_path()}data/results/{folder_name}/feature_selection_benchmark_{exp_id}.pkl\"\n",
    "if not os.path.exists(pkl_path):\n",
    "    raise FileNotFoundError(f\"Pickle not found: {pkl_path}\")\n",
    "\n",
    "df_benchmark = pd.read_pickle(pkl_path)\n",
    "print(f\"Loaded df_benchmark with shape: {df_benchmark.shape}\")\n",
    "# Display first rows (works in notebook)\n",
    "try:\n",
    "    from IPython.display import display\n",
    "\n",
    "    display(df_benchmark.head())\n",
    "except Exception:\n",
    "    print(df_benchmark.head().to_string())\n"
   ]
  },
  {
   "cell_type": "code",
   "execution_count": null,
   "id": "9012e614",
   "metadata": {},
   "outputs": [],
   "source": []
  },
  {
   "cell_type": "markdown",
   "id": "14c1fff9",
   "metadata": {},
   "source": [
    "### Heatmaps"
   ]
  }
 ],
 "metadata": {
  "jupytext": {
   "cell_metadata_filter": "-all",
   "formats": "ipynb,py:percent"
  },
  "kernelspec": {
   "display_name": "ode-biomarker-project",
   "language": "python",
   "name": "python3"
  },
  "language_info": {
   "codemirror_mode": {
    "name": "ipython",
    "version": 3
   },
   "file_extension": ".py",
   "mimetype": "text/x-python",
   "name": "python",
   "nbconvert_exporter": "python",
   "pygments_lexer": "ipython3",
   "version": "3.10.17"
  }
 },
 "nbformat": 4,
 "nbformat_minor": 5
}
