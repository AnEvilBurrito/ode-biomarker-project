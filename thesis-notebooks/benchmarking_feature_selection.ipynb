{
 "cells": [
  {
   "cell_type": "code",
   "execution_count": null,
   "id": "34d4f2d5",
   "metadata": {},
   "outputs": [],
   "source": [
    "# Jupyter notebook in Jupytext format"
   ]
  },
  {
   "cell_type": "markdown",
   "id": "4ab02b3e",
   "metadata": {},
   "source": [
    "## Initialisation"
   ]
  },
  {
   "cell_type": "code",
   "execution_count": 1,
   "id": "81c9c302",
   "metadata": {},
   "outputs": [
    {
     "name": "stdout",
     "output_type": "stream",
     "text": [
      "Project path set to: c:\\Github\\ode-biomarker-project\n"
     ]
    }
   ],
   "source": [
    "import os\n",
    "\n",
    "path = os.getcwd()\n",
    "# find the string 'project' in the path, return index\n",
    "index_project = path.find(\"project\")\n",
    "# slice the path from the index of 'project' to the end\n",
    "project_path = path[: index_project + 7]\n",
    "# set the working directory\n",
    "os.chdir(project_path)\n",
    "print(f\"Project path set to: {os.getcwd()}\")"
   ]
  },
  {
   "cell_type": "code",
   "execution_count": 2,
   "id": "e128c9f3",
   "metadata": {},
   "outputs": [],
   "source": [
    "from PathLoader import PathLoader #noqa: E402\n",
    "\n",
    "path_loader = PathLoader(\"data_config.env\", \"current_user.env\")"
   ]
  },
  {
   "cell_type": "code",
   "execution_count": 3,
   "id": "07d82e14",
   "metadata": {},
   "outputs": [],
   "source": [
    "from DataLink import DataLink #noqa: E402\n",
    "\n",
    "data_link = DataLink(path_loader, \"data_codes.csv\")"
   ]
  },
  {
   "cell_type": "code",
   "execution_count": 4,
   "id": "ac1b589f",
   "metadata": {},
   "outputs": [],
   "source": [
    "folder_name = \"ThesisResult4-FeatureSelectionBenchmark\"\n",
    "exp_id = \"v1\"\n",
    "\n",
    "if not os.path.exists(f\"{path_loader.get_data_path()}data/results/{folder_name}\"):\n",
    "    os.makedirs(f\"{path_loader.get_data_path()}data/results/{folder_name}\")\n",
    "\n",
    "file_save_path = f\"{path_loader.get_data_path()}data/results/{folder_name}/\""
   ]
  },
  {
   "cell_type": "code",
   "execution_count": 5,
   "id": "8d787584",
   "metadata": {},
   "outputs": [
    {
     "name": "stdout",
     "output_type": "stream",
     "text": [
      "Proteomic feature data shape: (737, 6692)\n",
      "Proteomic label data shape: (737,)\n"
     ]
    }
   ],
   "source": [
    "# Load Proteomics Palbociclib dataset\n",
    "loading_code = \"goncalves-gdsc-2-Palbociclib-LN_IC50-sin\"\n",
    "proteomic_feature_data, proteomic_label_data = data_link.get_data_using_code(\n",
    "    loading_code\n",
    ")\n",
    "\n",
    "print(f\"Proteomic feature data shape: {proteomic_feature_data.shape}\")\n",
    "print(f\"Proteomic label data shape: {proteomic_label_data.shape}\")"
   ]
  },
  {
   "cell_type": "code",
   "execution_count": 6,
   "id": "98baa56a",
   "metadata": {},
   "outputs": [
    {
     "name": "stdout",
     "output_type": "stream",
     "text": [
      "Final aligned dataset shape: (737, 6692)\n",
      "Final aligned label shape: (737,)\n"
     ]
    }
   ],
   "source": [
    "# Data preparation and alignment\n",
    "import numpy as np #noqa: E402\n",
    "\n",
    "# Ensure numeric only\n",
    "proteomic_feature_data = proteomic_feature_data.select_dtypes(include=[np.number])\n",
    "\n",
    "# Align indices\n",
    "common_indices = sorted(\n",
    "    set(proteomic_feature_data.index) & set(proteomic_label_data.index)\n",
    ")\n",
    "feature_data = proteomic_feature_data.loc[common_indices]\n",
    "label_data = proteomic_label_data.loc[common_indices]\n",
    "\n",
    "print(f\"Final aligned dataset shape: {feature_data.shape}\")\n",
    "print(f\"Final aligned label shape: {label_data.shape}\")"
   ]
  },
  {
   "cell_type": "markdown",
   "id": "95d621fb",
   "metadata": {},
   "source": [
    "## Functions"
   ]
  },
  {
   "cell_type": "code",
   "execution_count": 7,
   "id": "0fbd0c86",
   "metadata": {},
   "outputs": [],
   "source": [
    "from typing import Dict, List, Literal #noqa: E402\n",
    "import numpy as np #noqa: E402\n",
    "import pandas as pd #noqa: E402\n",
    "from scipy.stats import pearsonr, spearmanr #noqa: E402\n",
    "from sklearn.metrics import r2_score #noqa: E402\n",
    "from sklearn.dummy import DummyRegressor #noqa: E402\n",
    "from sklearn.preprocessing import StandardScaler #noqa: E402\n",
    "from toolkit import FirstQuantileImputer, f_regression_select, get_model_from_string #noqa: E402\n",
    "from toolkit import (\n",
    "    mrmr_select_fcq, \n",
    "    mutual_information_select, \n",
    ") #noqa: E402\n",
    "import time #noqa: E402"
   ]
  },
  {
   "cell_type": "code",
   "execution_count": 8,
   "id": "34919b58",
   "metadata": {},
   "outputs": [],
   "source": [
    "def _drop_correlated_columns(X: pd.DataFrame, threshold: float = 0.95) -> List[str]:\n",
    "    \"\"\"Drop highly correlated columns to reduce redundancy\"\"\"\n",
    "    corr = X.corr().abs()\n",
    "    upper = corr.where(np.triu(np.ones(corr.shape), k=1).astype(bool))\n",
    "    to_drop = set()\n",
    "    for col in sorted(upper.columns):\n",
    "        if col in to_drop:\n",
    "            continue\n",
    "        high_corr = upper.index[upper[col] > threshold].tolist()\n",
    "        to_drop.update(high_corr)\n",
    "    return [c for c in X.columns if c not in to_drop]"
   ]
  },
  {
   "cell_type": "code",
   "execution_count": 9,
   "id": "140eb7ce",
   "metadata": {},
   "outputs": [],
   "source": [
    "def create_feature_selection_pipeline(\n",
    "    selection_method: callable, k: int, method_name: str, model_name: str\n",
    "):\n",
    "    \"\"\"Create pipeline for feature selection methods\"\"\"\n",
    "\n",
    "    def pipeline_function(X_train: pd.DataFrame, y_train: pd.Series, rng: int):\n",
    "        # 1) Sanitize inputs and imputation\n",
    "        X_train = X_train.replace([np.inf, -np.inf], np.nan)\n",
    "        y_train = pd.Series(y_train).replace([np.inf, -np.inf], np.nan)\n",
    "        mask = ~y_train.isna()\n",
    "        X_train, y_train = X_train.loc[mask], y_train.loc[mask]\n",
    "\n",
    "        # 2) Imputation\n",
    "        imputer = FirstQuantileImputer().fit(X_train)\n",
    "        Xtr = imputer.transform(X_train, return_df=True).astype(float)\n",
    "        Xtr = Xtr.fillna(0.0)\n",
    "\n",
    "        # 3) Correlation filtering (applied to both train and test)\n",
    "        # Use the working function from your baseline code [1]\n",
    "        corr_keep_cols = _drop_correlated_columns(Xtr, threshold=0.95)\n",
    "        Xtr_filtered = Xtr[corr_keep_cols]\n",
    "\n",
    "        # 4) Feature selection\n",
    "        k_sel = min(k, Xtr_filtered.shape[1]) if Xtr_filtered.shape[1] > 0 else 0\n",
    "        if k_sel == 0:\n",
    "            selected_features, selector_scores = [], np.array([])\n",
    "            no_features = True\n",
    "        else:\n",
    "            selected_features, selector_scores = selection_method(\n",
    "                Xtr_filtered, y_train, k_sel\n",
    "            )\n",
    "            no_features = False\n",
    "\n",
    "        # 5) Standardization and model training\n",
    "        if no_features or len(selected_features) == 0:\n",
    "            model = DummyRegressor(strategy=\"mean\")\n",
    "            model_type = \"DummyRegressor(mean)\"\n",
    "            model_params = {\"strategy\": \"mean\"}\n",
    "            sel_train = Xtr_filtered.iloc[:, :0]\n",
    "        else:\n",
    "            sel_train = Xtr_filtered[selected_features]\n",
    "            scaler = StandardScaler()\n",
    "            sel_train_scaled = scaler.fit_transform(sel_train)\n",
    "            sel_train_scaled = pd.DataFrame(\n",
    "                sel_train_scaled, index=sel_train.index, columns=selected_features\n",
    "            )\n",
    "\n",
    "            # Train model\n",
    "            if model_name == \"LinearRegression\":\n",
    "                model = get_model_from_string(\"LinearRegression\")\n",
    "            elif model_name == \"KNeighborsRegressor\":\n",
    "                model = get_model_from_string(\n",
    "                    \"KNeighborsRegressor\", n_neighbors=5, weights=\"distance\", p=2\n",
    "                )\n",
    "            elif model_name == \"SVR\":\n",
    "                model = get_model_from_string(\"SVR\", kernel=\"linear\", C=1.0)\n",
    "            else:\n",
    "                raise ValueError(f\"Unsupported model: {model_name}\")\n",
    "\n",
    "            model.fit(sel_train_scaled, y_train)\n",
    "            model_type = model_name\n",
    "            model_params = (\n",
    "                model.get_params(deep=False) if hasattr(model, \"get_params\") else {}\n",
    "            )\n",
    "\n",
    "        return {\n",
    "            \"imputer\": imputer,\n",
    "            \"corr_keep_cols\": corr_keep_cols,\n",
    "            \"selected_features\": list(selected_features),\n",
    "            \"selector_scores\": np.array(selector_scores),\n",
    "            \"model\": model,\n",
    "            \"model_type\": model_type,\n",
    "            \"model_params\": model_params,\n",
    "            \"scaler\": scaler if not no_features else None,\n",
    "            \"no_features\": no_features,\n",
    "            \"rng\": rng,\n",
    "        }\n",
    "\n",
    "    return pipeline_function"
   ]
  },
  {
   "cell_type": "code",
   "execution_count": null,
   "id": "f6b8f5ff",
   "metadata": {},
   "outputs": [],
   "source": [
    "def feature_selection_eval(\n",
    "    X_test: pd.DataFrame,\n",
    "    y_test: pd.Series,\n",
    "    *,\n",
    "    pipeline_components: Dict,\n",
    "    metric_primary: Literal[\"r2\", \"pearson_r\", \"spearman_r\"] = \"r2\",\n",
    ") -> Dict:\n",
    "    \"\"\"Evaluation function for feature selection benchmarking\"\"\"\n",
    "\n",
    "    # Unpack components following the structure from working baseline code [1]\n",
    "    imputer = pipeline_components[\"imputer\"]\n",
    "    corr_keep = set(pipeline_components[\"corr_keep_cols\"])\n",
    "    selected = list(pipeline_components[\"selected_features\"])\n",
    "    selector_scores = pipeline_components[\"selector_scores\"]\n",
    "    model = pipeline_components[\"model\"]\n",
    "    model_name = pipeline_components[\"model_type\"]\n",
    "    scaler = pipeline_components.get(\"scaler\", None)\n",
    "    no_features = pipeline_components.get(\"no_features\", False)\n",
    "\n",
    "    # Apply identical transforms as training\n",
    "    X_test = X_test.replace([np.inf, -np.inf], np.nan)\n",
    "    y_test = pd.Series(y_test).replace([np.inf, -np.inf], np.nan)\n",
    "    mask_y = ~y_test.isna()\n",
    "    X_test, y_test = X_test.loc[mask_y], y_test.loc[mask_y]\n",
    "\n",
    "    Xti = imputer.transform(X_test, return_df=True).astype(float).fillna(0.0)\n",
    "\n",
    "    # Apply same correlation filtering as training [1]\n",
    "    cols_after_corr = [c for c in Xti.columns if c in corr_keep]\n",
    "    Xti = Xti[cols_after_corr]\n",
    "\n",
    "    # Select features\n",
    "    Xsel = Xti[selected] if len(selected) > 0 else Xti.iloc[:, :0]\n",
    "\n",
    "    # Standardize if scaler exists (i.e., features were selected)\n",
    "    if scaler is not None and len(selected) > 0:\n",
    "        Xsel_scaled = scaler.transform(Xsel)\n",
    "        Xsel_scaled = pd.DataFrame(Xsel_scaled, index=Xsel.index, columns=selected)\n",
    "    else:\n",
    "        Xsel_scaled = Xsel\n",
    "\n",
    "    # Predict\n",
    "    if no_features or Xsel.shape[1] == 0:\n",
    "        y_pred = np.full_like(\n",
    "            y_test.values, fill_value=float(y_test.mean()), dtype=float\n",
    "        )\n",
    "    else:\n",
    "        y_pred = np.asarray(model.predict(Xsel_scaled), dtype=float)\n",
    "\n",
    "    # Calculate metrics (following the exact structure from baseline_eval [1])\n",
    "    mask_fin = np.isfinite(y_test.values) & np.isfinite(y_pred)\n",
    "    y_t = y_test.values[mask_fin]\n",
    "    y_p = y_pred[mask_fin]\n",
    "\n",
    "    if len(y_t) < 2:\n",
    "        r2 = np.nan\n",
    "        pearson_r = pearson_p = np.nan\n",
    "        spearman_rho = spearman_p = np.nan\n",
    "    else:\n",
    "        r2 = r2_score(y_t, y_p)\n",
    "        pearson_r, pearson_p = pearsonr(y_t, y_p)\n",
    "        spearman_rho, spearman_p = spearmanr(y_t, y_p)\n",
    "\n",
    "    metrics = {\n",
    "        \"r2\": float(r2) if np.isfinite(r2) else np.nan,\n",
    "        \"pearson_r\": float(pearson_r) if np.isfinite(pearson_r) else np.nan,\n",
    "        \"pearson_p\": float(pearson_p) if np.isfinite(pearson_p) else np.nan,\n",
    "        \"spearman_rho\": float(spearman_rho) if np.isfinite(spearman_rho) else np.nan,\n",
    "        \"spearman_p\": float(spearman_p) if np.isfinite(spearman_p) else np.nan,\n",
    "        \"n_test_samples_used\": len(y_t),\n",
    "    }\n",
    "\n",
    "    # Feature importance\n",
    "    if not no_features and hasattr(model, \"feature_importances_\") and len(selected) > 0:\n",
    "        fi = (np.array(selected), model.feature_importances_)\n",
    "    elif not no_features and model_name in (\"LinearRegression\",) and len(selected) > 0:\n",
    "        coef = getattr(model, \"coef_\", np.zeros(len(selected)))\n",
    "        fi = (np.array(selected), np.abs(coef))\n",
    "    else:\n",
    "        fi = (np.array(selected), np.zeros(len(selected)))\n",
    "\n",
    "    primary = metrics.get(metric_primary, metrics[\"r2\"])\n",
    "\n",
    "    return {\n",
    "        \"feature_importance\": fi,\n",
    "        \"feature_importance_from\": \"model\",\n",
    "        \"model_performance\": float(primary) if primary is not None else np.nan,\n",
    "        \"metrics\": metrics,\n",
    "        \"selected_features\": selected,\n",
    "        \"model_name\": model_name,\n",
    "        \"selected_scores\": selector_scores,\n",
    "        \"k\": len(selected),\n",
    "        \"rng\": pipeline_components.get(\"rng\", None),\n",
    "        \"y_pred\": y_p,\n",
    "        \"y_true_index\": y_test.index[mask_fin],\n",
    "    }"
   ]
  },
  {
   "cell_type": "markdown",
   "id": "651e6f3b",
   "metadata": {},
   "source": [
    "## Execution "
   ]
  },
  {
   "cell_type": "markdown",
   "id": "7457830f",
   "metadata": {},
   "source": [
    "# Isolated MRMR Timing Test"
   ]
  },
  {
   "cell_type": "code",
   "execution_count": 19,
   "id": "32929262",
   "metadata": {},
   "outputs": [
    {
     "name": "stdout",
     "output_type": "stream",
     "text": [
      "Testing MRMR on subset: (737, 5000)\n"
     ]
    }
   ],
   "source": [
    "import time\n",
    "import numpy as np\n",
    "import pandas as pd\n",
    "from toolkit import mrmr_select_fcq\n",
    "\n",
    "# Setup focused test parameters\n",
    "k_values_to_test = list(range(1, 11))  # k=1 to 10\n",
    "n_iterations = 5  # Reduce iterations for quick testing\n",
    "\n",
    "# Prepare data subset for faster testing\n",
    "feature_subset = feature_data.iloc[:, :5000]  # Use first 500 features for quick testing\n",
    "print(f\"Testing MRMR on subset: {feature_subset.shape}\")"
   ]
  },
  {
   "cell_type": "code",
   "execution_count": 20,
   "id": "e0090c61",
   "metadata": {},
   "outputs": [],
   "source": [
    "def time_mrmr_selection(X, y, k_values, iterations=5):\n",
    "    \"\"\"Time MRMR feature selection for different k values\"\"\"\n",
    "    timing_results = []\n",
    "\n",
    "    for k in k_values:\n",
    "        iteration_times = []\n",
    "\n",
    "        for i in range(iterations):\n",
    "            start_time = time.time()\n",
    "\n",
    "            # Pure MRMR selection without any other processing\n",
    "            selected_features, selector_scores = mrmr_select_fcq(X, y, k)\n",
    "\n",
    "            end_time = time.time()\n",
    "            selection_time = end_time - start_time\n",
    "            iteration_times.append(selection_time)\n",
    "\n",
    "            print(f\"k={k}, iteration {i + 1}: {selection_time:.4f}s\")\n",
    "\n",
    "        # Calculate statistics\n",
    "        mean_time = np.mean(iteration_times)\n",
    "        std_time = np.std(iteration_times)\n",
    "\n",
    "        timing_results.append(\n",
    "            {\n",
    "                \"k_value\": k,\n",
    "                \"mean_time\": mean_time,\n",
    "                \"std_time\": std_time,\n",
    "                \"min_time\": min(iteration_times),\n",
    "                \"max_time\": max(iteration_times),\n",
    "                \"n_features_selected\": len(selected_features),\n",
    "            }\n",
    "        )\n",
    "\n",
    "        print(f\"k={k}: Mean time = {mean_time:.4f}s ± {std_time:.4f}s\")\n",
    "\n",
    "    return pd.DataFrame(timing_results)"
   ]
  },
  {
   "cell_type": "code",
   "execution_count": 21,
   "id": "1d1e802f",
   "metadata": {},
   "outputs": [
    {
     "name": "stdout",
     "output_type": "stream",
     "text": [
      "Starting isolated MRMR timing test...\n",
      "k=1, iteration 1: 0.2776s\n",
      "k=1, iteration 2: 0.2390s\n",
      "k=1, iteration 3: 0.1578s\n",
      "k=1, iteration 4: 0.2285s\n",
      "k=1, iteration 5: 0.3153s\n",
      "k=1: Mean time = 0.2436s ± 0.0527s\n"
     ]
    },
    {
     "name": "stderr",
     "output_type": "stream",
     "text": [
      "c:\\Github\\ode-biomarker-project\\.venv\\lib\\site-packages\\numpy\\lib\\_function_base_impl.py:3045: RuntimeWarning: invalid value encountered in divide\n",
      "  c /= stddev[:, None]\n",
      "c:\\Github\\ode-biomarker-project\\.venv\\lib\\site-packages\\numpy\\lib\\_function_base_impl.py:3046: RuntimeWarning: invalid value encountered in divide\n",
      "  c /= stddev[None, :]\n"
     ]
    },
    {
     "name": "stdout",
     "output_type": "stream",
     "text": [
      "k=2, iteration 1: 1.6546s\n"
     ]
    },
    {
     "name": "stderr",
     "output_type": "stream",
     "text": [
      "c:\\Github\\ode-biomarker-project\\.venv\\lib\\site-packages\\numpy\\lib\\_function_base_impl.py:3045: RuntimeWarning: invalid value encountered in divide\n",
      "  c /= stddev[:, None]\n",
      "c:\\Github\\ode-biomarker-project\\.venv\\lib\\site-packages\\numpy\\lib\\_function_base_impl.py:3046: RuntimeWarning: invalid value encountered in divide\n",
      "  c /= stddev[None, :]\n"
     ]
    },
    {
     "name": "stdout",
     "output_type": "stream",
     "text": [
      "k=2, iteration 2: 1.5536s\n"
     ]
    },
    {
     "name": "stderr",
     "output_type": "stream",
     "text": [
      "c:\\Github\\ode-biomarker-project\\.venv\\lib\\site-packages\\numpy\\lib\\_function_base_impl.py:3045: RuntimeWarning: invalid value encountered in divide\n",
      "  c /= stddev[:, None]\n",
      "c:\\Github\\ode-biomarker-project\\.venv\\lib\\site-packages\\numpy\\lib\\_function_base_impl.py:3046: RuntimeWarning: invalid value encountered in divide\n",
      "  c /= stddev[None, :]\n"
     ]
    },
    {
     "name": "stdout",
     "output_type": "stream",
     "text": [
      "k=2, iteration 3: 1.3682s\n"
     ]
    },
    {
     "name": "stderr",
     "output_type": "stream",
     "text": [
      "c:\\Github\\ode-biomarker-project\\.venv\\lib\\site-packages\\numpy\\lib\\_function_base_impl.py:3045: RuntimeWarning: invalid value encountered in divide\n",
      "  c /= stddev[:, None]\n",
      "c:\\Github\\ode-biomarker-project\\.venv\\lib\\site-packages\\numpy\\lib\\_function_base_impl.py:3046: RuntimeWarning: invalid value encountered in divide\n",
      "  c /= stddev[None, :]\n"
     ]
    },
    {
     "name": "stdout",
     "output_type": "stream",
     "text": [
      "k=2, iteration 4: 2.3959s\n"
     ]
    },
    {
     "name": "stderr",
     "output_type": "stream",
     "text": [
      "c:\\Github\\ode-biomarker-project\\.venv\\lib\\site-packages\\numpy\\lib\\_function_base_impl.py:3045: RuntimeWarning: invalid value encountered in divide\n",
      "  c /= stddev[:, None]\n",
      "c:\\Github\\ode-biomarker-project\\.venv\\lib\\site-packages\\numpy\\lib\\_function_base_impl.py:3046: RuntimeWarning: invalid value encountered in divide\n",
      "  c /= stddev[None, :]\n"
     ]
    },
    {
     "name": "stdout",
     "output_type": "stream",
     "text": [
      "k=2, iteration 5: 1.8620s\n",
      "k=2: Mean time = 1.7669s ± 0.3526s\n"
     ]
    },
    {
     "name": "stderr",
     "output_type": "stream",
     "text": [
      "c:\\Github\\ode-biomarker-project\\.venv\\lib\\site-packages\\numpy\\lib\\_function_base_impl.py:3045: RuntimeWarning: invalid value encountered in divide\n",
      "  c /= stddev[:, None]\n",
      "c:\\Github\\ode-biomarker-project\\.venv\\lib\\site-packages\\numpy\\lib\\_function_base_impl.py:3046: RuntimeWarning: invalid value encountered in divide\n",
      "  c /= stddev[None, :]\n",
      "c:\\Github\\ode-biomarker-project\\.venv\\lib\\site-packages\\numpy\\lib\\_function_base_impl.py:3045: RuntimeWarning: invalid value encountered in divide\n",
      "  c /= stddev[:, None]\n",
      "c:\\Github\\ode-biomarker-project\\.venv\\lib\\site-packages\\numpy\\lib\\_function_base_impl.py:3046: RuntimeWarning: invalid value encountered in divide\n",
      "  c /= stddev[None, :]\n"
     ]
    },
    {
     "name": "stdout",
     "output_type": "stream",
     "text": [
      "k=3, iteration 1: 3.5446s\n"
     ]
    },
    {
     "name": "stderr",
     "output_type": "stream",
     "text": [
      "c:\\Github\\ode-biomarker-project\\.venv\\lib\\site-packages\\numpy\\lib\\_function_base_impl.py:3045: RuntimeWarning: invalid value encountered in divide\n",
      "  c /= stddev[:, None]\n",
      "c:\\Github\\ode-biomarker-project\\.venv\\lib\\site-packages\\numpy\\lib\\_function_base_impl.py:3046: RuntimeWarning: invalid value encountered in divide\n",
      "  c /= stddev[None, :]\n",
      "c:\\Github\\ode-biomarker-project\\.venv\\lib\\site-packages\\numpy\\lib\\_function_base_impl.py:3045: RuntimeWarning: invalid value encountered in divide\n",
      "  c /= stddev[:, None]\n",
      "c:\\Github\\ode-biomarker-project\\.venv\\lib\\site-packages\\numpy\\lib\\_function_base_impl.py:3046: RuntimeWarning: invalid value encountered in divide\n",
      "  c /= stddev[None, :]\n"
     ]
    },
    {
     "name": "stdout",
     "output_type": "stream",
     "text": [
      "k=3, iteration 2: 3.9318s\n"
     ]
    },
    {
     "name": "stderr",
     "output_type": "stream",
     "text": [
      "c:\\Github\\ode-biomarker-project\\.venv\\lib\\site-packages\\numpy\\lib\\_function_base_impl.py:3045: RuntimeWarning: invalid value encountered in divide\n",
      "  c /= stddev[:, None]\n",
      "c:\\Github\\ode-biomarker-project\\.venv\\lib\\site-packages\\numpy\\lib\\_function_base_impl.py:3046: RuntimeWarning: invalid value encountered in divide\n",
      "  c /= stddev[None, :]\n",
      "c:\\Github\\ode-biomarker-project\\.venv\\lib\\site-packages\\numpy\\lib\\_function_base_impl.py:3045: RuntimeWarning: invalid value encountered in divide\n",
      "  c /= stddev[:, None]\n",
      "c:\\Github\\ode-biomarker-project\\.venv\\lib\\site-packages\\numpy\\lib\\_function_base_impl.py:3046: RuntimeWarning: invalid value encountered in divide\n",
      "  c /= stddev[None, :]\n"
     ]
    },
    {
     "name": "stdout",
     "output_type": "stream",
     "text": [
      "k=3, iteration 3: 3.1220s\n"
     ]
    },
    {
     "name": "stderr",
     "output_type": "stream",
     "text": [
      "c:\\Github\\ode-biomarker-project\\.venv\\lib\\site-packages\\numpy\\lib\\_function_base_impl.py:3045: RuntimeWarning: invalid value encountered in divide\n",
      "  c /= stddev[:, None]\n",
      "c:\\Github\\ode-biomarker-project\\.venv\\lib\\site-packages\\numpy\\lib\\_function_base_impl.py:3046: RuntimeWarning: invalid value encountered in divide\n",
      "  c /= stddev[None, :]\n",
      "c:\\Github\\ode-biomarker-project\\.venv\\lib\\site-packages\\numpy\\lib\\_function_base_impl.py:3045: RuntimeWarning: invalid value encountered in divide\n",
      "  c /= stddev[:, None]\n",
      "c:\\Github\\ode-biomarker-project\\.venv\\lib\\site-packages\\numpy\\lib\\_function_base_impl.py:3046: RuntimeWarning: invalid value encountered in divide\n",
      "  c /= stddev[None, :]\n"
     ]
    },
    {
     "name": "stdout",
     "output_type": "stream",
     "text": [
      "k=3, iteration 4: 3.5007s\n"
     ]
    },
    {
     "name": "stderr",
     "output_type": "stream",
     "text": [
      "c:\\Github\\ode-biomarker-project\\.venv\\lib\\site-packages\\numpy\\lib\\_function_base_impl.py:3045: RuntimeWarning: invalid value encountered in divide\n",
      "  c /= stddev[:, None]\n",
      "c:\\Github\\ode-biomarker-project\\.venv\\lib\\site-packages\\numpy\\lib\\_function_base_impl.py:3046: RuntimeWarning: invalid value encountered in divide\n",
      "  c /= stddev[None, :]\n",
      "c:\\Github\\ode-biomarker-project\\.venv\\lib\\site-packages\\numpy\\lib\\_function_base_impl.py:3045: RuntimeWarning: invalid value encountered in divide\n",
      "  c /= stddev[:, None]\n",
      "c:\\Github\\ode-biomarker-project\\.venv\\lib\\site-packages\\numpy\\lib\\_function_base_impl.py:3046: RuntimeWarning: invalid value encountered in divide\n",
      "  c /= stddev[None, :]\n"
     ]
    },
    {
     "name": "stdout",
     "output_type": "stream",
     "text": [
      "k=3, iteration 5: 2.9986s\n",
      "k=3: Mean time = 3.4195s ± 0.3318s\n"
     ]
    },
    {
     "name": "stderr",
     "output_type": "stream",
     "text": [
      "c:\\Github\\ode-biomarker-project\\.venv\\lib\\site-packages\\numpy\\lib\\_function_base_impl.py:3045: RuntimeWarning: invalid value encountered in divide\n",
      "  c /= stddev[:, None]\n",
      "c:\\Github\\ode-biomarker-project\\.venv\\lib\\site-packages\\numpy\\lib\\_function_base_impl.py:3046: RuntimeWarning: invalid value encountered in divide\n",
      "  c /= stddev[None, :]\n",
      "c:\\Github\\ode-biomarker-project\\.venv\\lib\\site-packages\\numpy\\lib\\_function_base_impl.py:3045: RuntimeWarning: invalid value encountered in divide\n",
      "  c /= stddev[:, None]\n",
      "c:\\Github\\ode-biomarker-project\\.venv\\lib\\site-packages\\numpy\\lib\\_function_base_impl.py:3046: RuntimeWarning: invalid value encountered in divide\n",
      "  c /= stddev[None, :]\n",
      "c:\\Github\\ode-biomarker-project\\.venv\\lib\\site-packages\\numpy\\lib\\_function_base_impl.py:3045: RuntimeWarning: invalid value encountered in divide\n",
      "  c /= stddev[:, None]\n",
      "c:\\Github\\ode-biomarker-project\\.venv\\lib\\site-packages\\numpy\\lib\\_function_base_impl.py:3046: RuntimeWarning: invalid value encountered in divide\n",
      "  c /= stddev[None, :]\n"
     ]
    },
    {
     "name": "stdout",
     "output_type": "stream",
     "text": [
      "k=4, iteration 1: 5.0960s\n"
     ]
    },
    {
     "name": "stderr",
     "output_type": "stream",
     "text": [
      "c:\\Github\\ode-biomarker-project\\.venv\\lib\\site-packages\\numpy\\lib\\_function_base_impl.py:3045: RuntimeWarning: invalid value encountered in divide\n",
      "  c /= stddev[:, None]\n",
      "c:\\Github\\ode-biomarker-project\\.venv\\lib\\site-packages\\numpy\\lib\\_function_base_impl.py:3046: RuntimeWarning: invalid value encountered in divide\n",
      "  c /= stddev[None, :]\n",
      "c:\\Github\\ode-biomarker-project\\.venv\\lib\\site-packages\\numpy\\lib\\_function_base_impl.py:3045: RuntimeWarning: invalid value encountered in divide\n",
      "  c /= stddev[:, None]\n",
      "c:\\Github\\ode-biomarker-project\\.venv\\lib\\site-packages\\numpy\\lib\\_function_base_impl.py:3046: RuntimeWarning: invalid value encountered in divide\n",
      "  c /= stddev[None, :]\n",
      "c:\\Github\\ode-biomarker-project\\.venv\\lib\\site-packages\\numpy\\lib\\_function_base_impl.py:3045: RuntimeWarning: invalid value encountered in divide\n",
      "  c /= stddev[:, None]\n",
      "c:\\Github\\ode-biomarker-project\\.venv\\lib\\site-packages\\numpy\\lib\\_function_base_impl.py:3046: RuntimeWarning: invalid value encountered in divide\n",
      "  c /= stddev[None, :]\n"
     ]
    },
    {
     "name": "stdout",
     "output_type": "stream",
     "text": [
      "k=4, iteration 2: 4.4614s\n"
     ]
    },
    {
     "name": "stderr",
     "output_type": "stream",
     "text": [
      "c:\\Github\\ode-biomarker-project\\.venv\\lib\\site-packages\\numpy\\lib\\_function_base_impl.py:3045: RuntimeWarning: invalid value encountered in divide\n",
      "  c /= stddev[:, None]\n",
      "c:\\Github\\ode-biomarker-project\\.venv\\lib\\site-packages\\numpy\\lib\\_function_base_impl.py:3046: RuntimeWarning: invalid value encountered in divide\n",
      "  c /= stddev[None, :]\n",
      "c:\\Github\\ode-biomarker-project\\.venv\\lib\\site-packages\\numpy\\lib\\_function_base_impl.py:3045: RuntimeWarning: invalid value encountered in divide\n",
      "  c /= stddev[:, None]\n",
      "c:\\Github\\ode-biomarker-project\\.venv\\lib\\site-packages\\numpy\\lib\\_function_base_impl.py:3046: RuntimeWarning: invalid value encountered in divide\n",
      "  c /= stddev[None, :]\n",
      "c:\\Github\\ode-biomarker-project\\.venv\\lib\\site-packages\\numpy\\lib\\_function_base_impl.py:3045: RuntimeWarning: invalid value encountered in divide\n",
      "  c /= stddev[:, None]\n",
      "c:\\Github\\ode-biomarker-project\\.venv\\lib\\site-packages\\numpy\\lib\\_function_base_impl.py:3046: RuntimeWarning: invalid value encountered in divide\n",
      "  c /= stddev[None, :]\n"
     ]
    },
    {
     "name": "stdout",
     "output_type": "stream",
     "text": [
      "k=4, iteration 3: 4.4941s\n"
     ]
    },
    {
     "name": "stderr",
     "output_type": "stream",
     "text": [
      "c:\\Github\\ode-biomarker-project\\.venv\\lib\\site-packages\\numpy\\lib\\_function_base_impl.py:3045: RuntimeWarning: invalid value encountered in divide\n",
      "  c /= stddev[:, None]\n",
      "c:\\Github\\ode-biomarker-project\\.venv\\lib\\site-packages\\numpy\\lib\\_function_base_impl.py:3046: RuntimeWarning: invalid value encountered in divide\n",
      "  c /= stddev[None, :]\n",
      "c:\\Github\\ode-biomarker-project\\.venv\\lib\\site-packages\\numpy\\lib\\_function_base_impl.py:3045: RuntimeWarning: invalid value encountered in divide\n",
      "  c /= stddev[:, None]\n",
      "c:\\Github\\ode-biomarker-project\\.venv\\lib\\site-packages\\numpy\\lib\\_function_base_impl.py:3046: RuntimeWarning: invalid value encountered in divide\n",
      "  c /= stddev[None, :]\n",
      "c:\\Github\\ode-biomarker-project\\.venv\\lib\\site-packages\\numpy\\lib\\_function_base_impl.py:3045: RuntimeWarning: invalid value encountered in divide\n",
      "  c /= stddev[:, None]\n",
      "c:\\Github\\ode-biomarker-project\\.venv\\lib\\site-packages\\numpy\\lib\\_function_base_impl.py:3046: RuntimeWarning: invalid value encountered in divide\n",
      "  c /= stddev[None, :]\n"
     ]
    },
    {
     "name": "stdout",
     "output_type": "stream",
     "text": [
      "k=4, iteration 4: 4.6350s\n"
     ]
    },
    {
     "name": "stderr",
     "output_type": "stream",
     "text": [
      "c:\\Github\\ode-biomarker-project\\.venv\\lib\\site-packages\\numpy\\lib\\_function_base_impl.py:3045: RuntimeWarning: invalid value encountered in divide\n",
      "  c /= stddev[:, None]\n",
      "c:\\Github\\ode-biomarker-project\\.venv\\lib\\site-packages\\numpy\\lib\\_function_base_impl.py:3046: RuntimeWarning: invalid value encountered in divide\n",
      "  c /= stddev[None, :]\n",
      "c:\\Github\\ode-biomarker-project\\.venv\\lib\\site-packages\\numpy\\lib\\_function_base_impl.py:3045: RuntimeWarning: invalid value encountered in divide\n",
      "  c /= stddev[:, None]\n",
      "c:\\Github\\ode-biomarker-project\\.venv\\lib\\site-packages\\numpy\\lib\\_function_base_impl.py:3046: RuntimeWarning: invalid value encountered in divide\n",
      "  c /= stddev[None, :]\n",
      "c:\\Github\\ode-biomarker-project\\.venv\\lib\\site-packages\\numpy\\lib\\_function_base_impl.py:3045: RuntimeWarning: invalid value encountered in divide\n",
      "  c /= stddev[:, None]\n",
      "c:\\Github\\ode-biomarker-project\\.venv\\lib\\site-packages\\numpy\\lib\\_function_base_impl.py:3046: RuntimeWarning: invalid value encountered in divide\n",
      "  c /= stddev[None, :]\n"
     ]
    },
    {
     "name": "stdout",
     "output_type": "stream",
     "text": [
      "k=4, iteration 5: 4.0346s\n",
      "k=4: Mean time = 4.5442s ± 0.3411s\n"
     ]
    },
    {
     "name": "stderr",
     "output_type": "stream",
     "text": [
      "c:\\Github\\ode-biomarker-project\\.venv\\lib\\site-packages\\numpy\\lib\\_function_base_impl.py:3045: RuntimeWarning: invalid value encountered in divide\n",
      "  c /= stddev[:, None]\n",
      "c:\\Github\\ode-biomarker-project\\.venv\\lib\\site-packages\\numpy\\lib\\_function_base_impl.py:3046: RuntimeWarning: invalid value encountered in divide\n",
      "  c /= stddev[None, :]\n",
      "c:\\Github\\ode-biomarker-project\\.venv\\lib\\site-packages\\numpy\\lib\\_function_base_impl.py:3045: RuntimeWarning: invalid value encountered in divide\n",
      "  c /= stddev[:, None]\n",
      "c:\\Github\\ode-biomarker-project\\.venv\\lib\\site-packages\\numpy\\lib\\_function_base_impl.py:3046: RuntimeWarning: invalid value encountered in divide\n",
      "  c /= stddev[None, :]\n",
      "c:\\Github\\ode-biomarker-project\\.venv\\lib\\site-packages\\numpy\\lib\\_function_base_impl.py:3045: RuntimeWarning: invalid value encountered in divide\n",
      "  c /= stddev[:, None]\n",
      "c:\\Github\\ode-biomarker-project\\.venv\\lib\\site-packages\\numpy\\lib\\_function_base_impl.py:3046: RuntimeWarning: invalid value encountered in divide\n",
      "  c /= stddev[None, :]\n",
      "c:\\Github\\ode-biomarker-project\\.venv\\lib\\site-packages\\numpy\\lib\\_function_base_impl.py:3045: RuntimeWarning: invalid value encountered in divide\n",
      "  c /= stddev[:, None]\n",
      "c:\\Github\\ode-biomarker-project\\.venv\\lib\\site-packages\\numpy\\lib\\_function_base_impl.py:3046: RuntimeWarning: invalid value encountered in divide\n",
      "  c /= stddev[None, :]\n"
     ]
    },
    {
     "name": "stdout",
     "output_type": "stream",
     "text": [
      "k=5, iteration 1: 5.7117s\n"
     ]
    },
    {
     "name": "stderr",
     "output_type": "stream",
     "text": [
      "c:\\Github\\ode-biomarker-project\\.venv\\lib\\site-packages\\numpy\\lib\\_function_base_impl.py:3045: RuntimeWarning: invalid value encountered in divide\n",
      "  c /= stddev[:, None]\n",
      "c:\\Github\\ode-biomarker-project\\.venv\\lib\\site-packages\\numpy\\lib\\_function_base_impl.py:3046: RuntimeWarning: invalid value encountered in divide\n",
      "  c /= stddev[None, :]\n",
      "c:\\Github\\ode-biomarker-project\\.venv\\lib\\site-packages\\numpy\\lib\\_function_base_impl.py:3045: RuntimeWarning: invalid value encountered in divide\n",
      "  c /= stddev[:, None]\n",
      "c:\\Github\\ode-biomarker-project\\.venv\\lib\\site-packages\\numpy\\lib\\_function_base_impl.py:3046: RuntimeWarning: invalid value encountered in divide\n",
      "  c /= stddev[None, :]\n",
      "c:\\Github\\ode-biomarker-project\\.venv\\lib\\site-packages\\numpy\\lib\\_function_base_impl.py:3045: RuntimeWarning: invalid value encountered in divide\n",
      "  c /= stddev[:, None]\n",
      "c:\\Github\\ode-biomarker-project\\.venv\\lib\\site-packages\\numpy\\lib\\_function_base_impl.py:3046: RuntimeWarning: invalid value encountered in divide\n",
      "  c /= stddev[None, :]\n",
      "c:\\Github\\ode-biomarker-project\\.venv\\lib\\site-packages\\numpy\\lib\\_function_base_impl.py:3045: RuntimeWarning: invalid value encountered in divide\n",
      "  c /= stddev[:, None]\n",
      "c:\\Github\\ode-biomarker-project\\.venv\\lib\\site-packages\\numpy\\lib\\_function_base_impl.py:3046: RuntimeWarning: invalid value encountered in divide\n",
      "  c /= stddev[None, :]\n"
     ]
    },
    {
     "name": "stdout",
     "output_type": "stream",
     "text": [
      "k=5, iteration 2: 5.9061s\n"
     ]
    },
    {
     "name": "stderr",
     "output_type": "stream",
     "text": [
      "c:\\Github\\ode-biomarker-project\\.venv\\lib\\site-packages\\numpy\\lib\\_function_base_impl.py:3045: RuntimeWarning: invalid value encountered in divide\n",
      "  c /= stddev[:, None]\n",
      "c:\\Github\\ode-biomarker-project\\.venv\\lib\\site-packages\\numpy\\lib\\_function_base_impl.py:3046: RuntimeWarning: invalid value encountered in divide\n",
      "  c /= stddev[None, :]\n",
      "c:\\Github\\ode-biomarker-project\\.venv\\lib\\site-packages\\numpy\\lib\\_function_base_impl.py:3045: RuntimeWarning: invalid value encountered in divide\n",
      "  c /= stddev[:, None]\n",
      "c:\\Github\\ode-biomarker-project\\.venv\\lib\\site-packages\\numpy\\lib\\_function_base_impl.py:3046: RuntimeWarning: invalid value encountered in divide\n",
      "  c /= stddev[None, :]\n",
      "c:\\Github\\ode-biomarker-project\\.venv\\lib\\site-packages\\numpy\\lib\\_function_base_impl.py:3045: RuntimeWarning: invalid value encountered in divide\n",
      "  c /= stddev[:, None]\n",
      "c:\\Github\\ode-biomarker-project\\.venv\\lib\\site-packages\\numpy\\lib\\_function_base_impl.py:3046: RuntimeWarning: invalid value encountered in divide\n",
      "  c /= stddev[None, :]\n",
      "c:\\Github\\ode-biomarker-project\\.venv\\lib\\site-packages\\numpy\\lib\\_function_base_impl.py:3045: RuntimeWarning: invalid value encountered in divide\n",
      "  c /= stddev[:, None]\n",
      "c:\\Github\\ode-biomarker-project\\.venv\\lib\\site-packages\\numpy\\lib\\_function_base_impl.py:3046: RuntimeWarning: invalid value encountered in divide\n",
      "  c /= stddev[None, :]\n"
     ]
    },
    {
     "name": "stdout",
     "output_type": "stream",
     "text": [
      "k=5, iteration 3: 6.0568s\n"
     ]
    },
    {
     "name": "stderr",
     "output_type": "stream",
     "text": [
      "c:\\Github\\ode-biomarker-project\\.venv\\lib\\site-packages\\numpy\\lib\\_function_base_impl.py:3045: RuntimeWarning: invalid value encountered in divide\n",
      "  c /= stddev[:, None]\n",
      "c:\\Github\\ode-biomarker-project\\.venv\\lib\\site-packages\\numpy\\lib\\_function_base_impl.py:3046: RuntimeWarning: invalid value encountered in divide\n",
      "  c /= stddev[None, :]\n",
      "c:\\Github\\ode-biomarker-project\\.venv\\lib\\site-packages\\numpy\\lib\\_function_base_impl.py:3045: RuntimeWarning: invalid value encountered in divide\n",
      "  c /= stddev[:, None]\n",
      "c:\\Github\\ode-biomarker-project\\.venv\\lib\\site-packages\\numpy\\lib\\_function_base_impl.py:3046: RuntimeWarning: invalid value encountered in divide\n",
      "  c /= stddev[None, :]\n",
      "c:\\Github\\ode-biomarker-project\\.venv\\lib\\site-packages\\numpy\\lib\\_function_base_impl.py:3045: RuntimeWarning: invalid value encountered in divide\n",
      "  c /= stddev[:, None]\n",
      "c:\\Github\\ode-biomarker-project\\.venv\\lib\\site-packages\\numpy\\lib\\_function_base_impl.py:3046: RuntimeWarning: invalid value encountered in divide\n",
      "  c /= stddev[None, :]\n",
      "c:\\Github\\ode-biomarker-project\\.venv\\lib\\site-packages\\numpy\\lib\\_function_base_impl.py:3045: RuntimeWarning: invalid value encountered in divide\n",
      "  c /= stddev[:, None]\n",
      "c:\\Github\\ode-biomarker-project\\.venv\\lib\\site-packages\\numpy\\lib\\_function_base_impl.py:3046: RuntimeWarning: invalid value encountered in divide\n",
      "  c /= stddev[None, :]\n"
     ]
    },
    {
     "name": "stdout",
     "output_type": "stream",
     "text": [
      "k=5, iteration 4: 9.7824s\n"
     ]
    },
    {
     "name": "stderr",
     "output_type": "stream",
     "text": [
      "c:\\Github\\ode-biomarker-project\\.venv\\lib\\site-packages\\numpy\\lib\\_function_base_impl.py:3045: RuntimeWarning: invalid value encountered in divide\n",
      "  c /= stddev[:, None]\n",
      "c:\\Github\\ode-biomarker-project\\.venv\\lib\\site-packages\\numpy\\lib\\_function_base_impl.py:3046: RuntimeWarning: invalid value encountered in divide\n",
      "  c /= stddev[None, :]\n",
      "c:\\Github\\ode-biomarker-project\\.venv\\lib\\site-packages\\numpy\\lib\\_function_base_impl.py:3045: RuntimeWarning: invalid value encountered in divide\n",
      "  c /= stddev[:, None]\n",
      "c:\\Github\\ode-biomarker-project\\.venv\\lib\\site-packages\\numpy\\lib\\_function_base_impl.py:3046: RuntimeWarning: invalid value encountered in divide\n",
      "  c /= stddev[None, :]\n",
      "c:\\Github\\ode-biomarker-project\\.venv\\lib\\site-packages\\numpy\\lib\\_function_base_impl.py:3045: RuntimeWarning: invalid value encountered in divide\n",
      "  c /= stddev[:, None]\n",
      "c:\\Github\\ode-biomarker-project\\.venv\\lib\\site-packages\\numpy\\lib\\_function_base_impl.py:3046: RuntimeWarning: invalid value encountered in divide\n",
      "  c /= stddev[None, :]\n",
      "c:\\Github\\ode-biomarker-project\\.venv\\lib\\site-packages\\numpy\\lib\\_function_base_impl.py:3045: RuntimeWarning: invalid value encountered in divide\n",
      "  c /= stddev[:, None]\n",
      "c:\\Github\\ode-biomarker-project\\.venv\\lib\\site-packages\\numpy\\lib\\_function_base_impl.py:3046: RuntimeWarning: invalid value encountered in divide\n",
      "  c /= stddev[None, :]\n"
     ]
    },
    {
     "name": "stdout",
     "output_type": "stream",
     "text": [
      "k=5, iteration 5: 7.3447s\n",
      "k=5: Mean time = 6.9603s ± 1.5231s\n"
     ]
    },
    {
     "name": "stderr",
     "output_type": "stream",
     "text": [
      "c:\\Github\\ode-biomarker-project\\.venv\\lib\\site-packages\\numpy\\lib\\_function_base_impl.py:3045: RuntimeWarning: invalid value encountered in divide\n",
      "  c /= stddev[:, None]\n",
      "c:\\Github\\ode-biomarker-project\\.venv\\lib\\site-packages\\numpy\\lib\\_function_base_impl.py:3046: RuntimeWarning: invalid value encountered in divide\n",
      "  c /= stddev[None, :]\n",
      "c:\\Github\\ode-biomarker-project\\.venv\\lib\\site-packages\\numpy\\lib\\_function_base_impl.py:3045: RuntimeWarning: invalid value encountered in divide\n",
      "  c /= stddev[:, None]\n",
      "c:\\Github\\ode-biomarker-project\\.venv\\lib\\site-packages\\numpy\\lib\\_function_base_impl.py:3046: RuntimeWarning: invalid value encountered in divide\n",
      "  c /= stddev[None, :]\n",
      "c:\\Github\\ode-biomarker-project\\.venv\\lib\\site-packages\\numpy\\lib\\_function_base_impl.py:3045: RuntimeWarning: invalid value encountered in divide\n",
      "  c /= stddev[:, None]\n",
      "c:\\Github\\ode-biomarker-project\\.venv\\lib\\site-packages\\numpy\\lib\\_function_base_impl.py:3046: RuntimeWarning: invalid value encountered in divide\n",
      "  c /= stddev[None, :]\n",
      "c:\\Github\\ode-biomarker-project\\.venv\\lib\\site-packages\\numpy\\lib\\_function_base_impl.py:3045: RuntimeWarning: invalid value encountered in divide\n",
      "  c /= stddev[:, None]\n",
      "c:\\Github\\ode-biomarker-project\\.venv\\lib\\site-packages\\numpy\\lib\\_function_base_impl.py:3046: RuntimeWarning: invalid value encountered in divide\n",
      "  c /= stddev[None, :]\n",
      "c:\\Github\\ode-biomarker-project\\.venv\\lib\\site-packages\\numpy\\lib\\_function_base_impl.py:3045: RuntimeWarning: invalid value encountered in divide\n",
      "  c /= stddev[:, None]\n",
      "c:\\Github\\ode-biomarker-project\\.venv\\lib\\site-packages\\numpy\\lib\\_function_base_impl.py:3046: RuntimeWarning: invalid value encountered in divide\n",
      "  c /= stddev[None, :]\n"
     ]
    },
    {
     "name": "stdout",
     "output_type": "stream",
     "text": [
      "k=6, iteration 1: 7.2482s\n"
     ]
    },
    {
     "name": "stderr",
     "output_type": "stream",
     "text": [
      "c:\\Github\\ode-biomarker-project\\.venv\\lib\\site-packages\\numpy\\lib\\_function_base_impl.py:3045: RuntimeWarning: invalid value encountered in divide\n",
      "  c /= stddev[:, None]\n",
      "c:\\Github\\ode-biomarker-project\\.venv\\lib\\site-packages\\numpy\\lib\\_function_base_impl.py:3046: RuntimeWarning: invalid value encountered in divide\n",
      "  c /= stddev[None, :]\n",
      "c:\\Github\\ode-biomarker-project\\.venv\\lib\\site-packages\\numpy\\lib\\_function_base_impl.py:3045: RuntimeWarning: invalid value encountered in divide\n",
      "  c /= stddev[:, None]\n",
      "c:\\Github\\ode-biomarker-project\\.venv\\lib\\site-packages\\numpy\\lib\\_function_base_impl.py:3046: RuntimeWarning: invalid value encountered in divide\n",
      "  c /= stddev[None, :]\n",
      "c:\\Github\\ode-biomarker-project\\.venv\\lib\\site-packages\\numpy\\lib\\_function_base_impl.py:3045: RuntimeWarning: invalid value encountered in divide\n",
      "  c /= stddev[:, None]\n",
      "c:\\Github\\ode-biomarker-project\\.venv\\lib\\site-packages\\numpy\\lib\\_function_base_impl.py:3046: RuntimeWarning: invalid value encountered in divide\n",
      "  c /= stddev[None, :]\n",
      "c:\\Github\\ode-biomarker-project\\.venv\\lib\\site-packages\\numpy\\lib\\_function_base_impl.py:3045: RuntimeWarning: invalid value encountered in divide\n",
      "  c /= stddev[:, None]\n",
      "c:\\Github\\ode-biomarker-project\\.venv\\lib\\site-packages\\numpy\\lib\\_function_base_impl.py:3046: RuntimeWarning: invalid value encountered in divide\n",
      "  c /= stddev[None, :]\n",
      "c:\\Github\\ode-biomarker-project\\.venv\\lib\\site-packages\\numpy\\lib\\_function_base_impl.py:3045: RuntimeWarning: invalid value encountered in divide\n",
      "  c /= stddev[:, None]\n",
      "c:\\Github\\ode-biomarker-project\\.venv\\lib\\site-packages\\numpy\\lib\\_function_base_impl.py:3046: RuntimeWarning: invalid value encountered in divide\n",
      "  c /= stddev[None, :]\n"
     ]
    },
    {
     "name": "stdout",
     "output_type": "stream",
     "text": [
      "k=6, iteration 2: 7.1585s\n"
     ]
    },
    {
     "name": "stderr",
     "output_type": "stream",
     "text": [
      "c:\\Github\\ode-biomarker-project\\.venv\\lib\\site-packages\\numpy\\lib\\_function_base_impl.py:3045: RuntimeWarning: invalid value encountered in divide\n",
      "  c /= stddev[:, None]\n",
      "c:\\Github\\ode-biomarker-project\\.venv\\lib\\site-packages\\numpy\\lib\\_function_base_impl.py:3046: RuntimeWarning: invalid value encountered in divide\n",
      "  c /= stddev[None, :]\n",
      "c:\\Github\\ode-biomarker-project\\.venv\\lib\\site-packages\\numpy\\lib\\_function_base_impl.py:3045: RuntimeWarning: invalid value encountered in divide\n",
      "  c /= stddev[:, None]\n",
      "c:\\Github\\ode-biomarker-project\\.venv\\lib\\site-packages\\numpy\\lib\\_function_base_impl.py:3046: RuntimeWarning: invalid value encountered in divide\n",
      "  c /= stddev[None, :]\n",
      "c:\\Github\\ode-biomarker-project\\.venv\\lib\\site-packages\\numpy\\lib\\_function_base_impl.py:3045: RuntimeWarning: invalid value encountered in divide\n",
      "  c /= stddev[:, None]\n",
      "c:\\Github\\ode-biomarker-project\\.venv\\lib\\site-packages\\numpy\\lib\\_function_base_impl.py:3046: RuntimeWarning: invalid value encountered in divide\n",
      "  c /= stddev[None, :]\n",
      "c:\\Github\\ode-biomarker-project\\.venv\\lib\\site-packages\\numpy\\lib\\_function_base_impl.py:3045: RuntimeWarning: invalid value encountered in divide\n",
      "  c /= stddev[:, None]\n",
      "c:\\Github\\ode-biomarker-project\\.venv\\lib\\site-packages\\numpy\\lib\\_function_base_impl.py:3046: RuntimeWarning: invalid value encountered in divide\n",
      "  c /= stddev[None, :]\n",
      "c:\\Github\\ode-biomarker-project\\.venv\\lib\\site-packages\\numpy\\lib\\_function_base_impl.py:3045: RuntimeWarning: invalid value encountered in divide\n",
      "  c /= stddev[:, None]\n",
      "c:\\Github\\ode-biomarker-project\\.venv\\lib\\site-packages\\numpy\\lib\\_function_base_impl.py:3046: RuntimeWarning: invalid value encountered in divide\n",
      "  c /= stddev[None, :]\n"
     ]
    },
    {
     "name": "stdout",
     "output_type": "stream",
     "text": [
      "k=6, iteration 3: 8.9217s\n"
     ]
    },
    {
     "name": "stderr",
     "output_type": "stream",
     "text": [
      "c:\\Github\\ode-biomarker-project\\.venv\\lib\\site-packages\\numpy\\lib\\_function_base_impl.py:3045: RuntimeWarning: invalid value encountered in divide\n",
      "  c /= stddev[:, None]\n",
      "c:\\Github\\ode-biomarker-project\\.venv\\lib\\site-packages\\numpy\\lib\\_function_base_impl.py:3046: RuntimeWarning: invalid value encountered in divide\n",
      "  c /= stddev[None, :]\n",
      "c:\\Github\\ode-biomarker-project\\.venv\\lib\\site-packages\\numpy\\lib\\_function_base_impl.py:3045: RuntimeWarning: invalid value encountered in divide\n",
      "  c /= stddev[:, None]\n",
      "c:\\Github\\ode-biomarker-project\\.venv\\lib\\site-packages\\numpy\\lib\\_function_base_impl.py:3046: RuntimeWarning: invalid value encountered in divide\n",
      "  c /= stddev[None, :]\n",
      "c:\\Github\\ode-biomarker-project\\.venv\\lib\\site-packages\\numpy\\lib\\_function_base_impl.py:3045: RuntimeWarning: invalid value encountered in divide\n",
      "  c /= stddev[:, None]\n",
      "c:\\Github\\ode-biomarker-project\\.venv\\lib\\site-packages\\numpy\\lib\\_function_base_impl.py:3046: RuntimeWarning: invalid value encountered in divide\n",
      "  c /= stddev[None, :]\n",
      "c:\\Github\\ode-biomarker-project\\.venv\\lib\\site-packages\\numpy\\lib\\_function_base_impl.py:3045: RuntimeWarning: invalid value encountered in divide\n",
      "  c /= stddev[:, None]\n",
      "c:\\Github\\ode-biomarker-project\\.venv\\lib\\site-packages\\numpy\\lib\\_function_base_impl.py:3046: RuntimeWarning: invalid value encountered in divide\n",
      "  c /= stddev[None, :]\n",
      "c:\\Github\\ode-biomarker-project\\.venv\\lib\\site-packages\\numpy\\lib\\_function_base_impl.py:3045: RuntimeWarning: invalid value encountered in divide\n",
      "  c /= stddev[:, None]\n",
      "c:\\Github\\ode-biomarker-project\\.venv\\lib\\site-packages\\numpy\\lib\\_function_base_impl.py:3046: RuntimeWarning: invalid value encountered in divide\n",
      "  c /= stddev[None, :]\n"
     ]
    },
    {
     "name": "stdout",
     "output_type": "stream",
     "text": [
      "k=6, iteration 4: 7.4955s\n"
     ]
    },
    {
     "name": "stderr",
     "output_type": "stream",
     "text": [
      "c:\\Github\\ode-biomarker-project\\.venv\\lib\\site-packages\\numpy\\lib\\_function_base_impl.py:3045: RuntimeWarning: invalid value encountered in divide\n",
      "  c /= stddev[:, None]\n",
      "c:\\Github\\ode-biomarker-project\\.venv\\lib\\site-packages\\numpy\\lib\\_function_base_impl.py:3046: RuntimeWarning: invalid value encountered in divide\n",
      "  c /= stddev[None, :]\n",
      "c:\\Github\\ode-biomarker-project\\.venv\\lib\\site-packages\\numpy\\lib\\_function_base_impl.py:3045: RuntimeWarning: invalid value encountered in divide\n",
      "  c /= stddev[:, None]\n",
      "c:\\Github\\ode-biomarker-project\\.venv\\lib\\site-packages\\numpy\\lib\\_function_base_impl.py:3046: RuntimeWarning: invalid value encountered in divide\n",
      "  c /= stddev[None, :]\n",
      "c:\\Github\\ode-biomarker-project\\.venv\\lib\\site-packages\\numpy\\lib\\_function_base_impl.py:3045: RuntimeWarning: invalid value encountered in divide\n",
      "  c /= stddev[:, None]\n",
      "c:\\Github\\ode-biomarker-project\\.venv\\lib\\site-packages\\numpy\\lib\\_function_base_impl.py:3046: RuntimeWarning: invalid value encountered in divide\n",
      "  c /= stddev[None, :]\n",
      "c:\\Github\\ode-biomarker-project\\.venv\\lib\\site-packages\\numpy\\lib\\_function_base_impl.py:3045: RuntimeWarning: invalid value encountered in divide\n",
      "  c /= stddev[:, None]\n",
      "c:\\Github\\ode-biomarker-project\\.venv\\lib\\site-packages\\numpy\\lib\\_function_base_impl.py:3046: RuntimeWarning: invalid value encountered in divide\n",
      "  c /= stddev[None, :]\n",
      "c:\\Github\\ode-biomarker-project\\.venv\\lib\\site-packages\\numpy\\lib\\_function_base_impl.py:3045: RuntimeWarning: invalid value encountered in divide\n",
      "  c /= stddev[:, None]\n",
      "c:\\Github\\ode-biomarker-project\\.venv\\lib\\site-packages\\numpy\\lib\\_function_base_impl.py:3046: RuntimeWarning: invalid value encountered in divide\n",
      "  c /= stddev[None, :]\n"
     ]
    },
    {
     "name": "stdout",
     "output_type": "stream",
     "text": [
      "k=6, iteration 5: 7.8435s\n",
      "k=6: Mean time = 7.7335s ± 0.6398s\n"
     ]
    },
    {
     "name": "stderr",
     "output_type": "stream",
     "text": [
      "c:\\Github\\ode-biomarker-project\\.venv\\lib\\site-packages\\numpy\\lib\\_function_base_impl.py:3045: RuntimeWarning: invalid value encountered in divide\n",
      "  c /= stddev[:, None]\n",
      "c:\\Github\\ode-biomarker-project\\.venv\\lib\\site-packages\\numpy\\lib\\_function_base_impl.py:3046: RuntimeWarning: invalid value encountered in divide\n",
      "  c /= stddev[None, :]\n",
      "c:\\Github\\ode-biomarker-project\\.venv\\lib\\site-packages\\numpy\\lib\\_function_base_impl.py:3045: RuntimeWarning: invalid value encountered in divide\n",
      "  c /= stddev[:, None]\n",
      "c:\\Github\\ode-biomarker-project\\.venv\\lib\\site-packages\\numpy\\lib\\_function_base_impl.py:3046: RuntimeWarning: invalid value encountered in divide\n",
      "  c /= stddev[None, :]\n",
      "c:\\Github\\ode-biomarker-project\\.venv\\lib\\site-packages\\numpy\\lib\\_function_base_impl.py:3045: RuntimeWarning: invalid value encountered in divide\n",
      "  c /= stddev[:, None]\n",
      "c:\\Github\\ode-biomarker-project\\.venv\\lib\\site-packages\\numpy\\lib\\_function_base_impl.py:3046: RuntimeWarning: invalid value encountered in divide\n",
      "  c /= stddev[None, :]\n",
      "c:\\Github\\ode-biomarker-project\\.venv\\lib\\site-packages\\numpy\\lib\\_function_base_impl.py:3045: RuntimeWarning: invalid value encountered in divide\n",
      "  c /= stddev[:, None]\n",
      "c:\\Github\\ode-biomarker-project\\.venv\\lib\\site-packages\\numpy\\lib\\_function_base_impl.py:3046: RuntimeWarning: invalid value encountered in divide\n",
      "  c /= stddev[None, :]\n",
      "c:\\Github\\ode-biomarker-project\\.venv\\lib\\site-packages\\numpy\\lib\\_function_base_impl.py:3045: RuntimeWarning: invalid value encountered in divide\n",
      "  c /= stddev[:, None]\n",
      "c:\\Github\\ode-biomarker-project\\.venv\\lib\\site-packages\\numpy\\lib\\_function_base_impl.py:3046: RuntimeWarning: invalid value encountered in divide\n",
      "  c /= stddev[None, :]\n"
     ]
    },
    {
     "name": "stdout",
     "output_type": "stream",
     "text": [
      "k=7, iteration 1: 8.3156s\n"
     ]
    },
    {
     "name": "stderr",
     "output_type": "stream",
     "text": [
      "c:\\Github\\ode-biomarker-project\\.venv\\lib\\site-packages\\numpy\\lib\\_function_base_impl.py:3045: RuntimeWarning: invalid value encountered in divide\n",
      "  c /= stddev[:, None]\n",
      "c:\\Github\\ode-biomarker-project\\.venv\\lib\\site-packages\\numpy\\lib\\_function_base_impl.py:3046: RuntimeWarning: invalid value encountered in divide\n",
      "  c /= stddev[None, :]\n",
      "c:\\Github\\ode-biomarker-project\\.venv\\lib\\site-packages\\numpy\\lib\\_function_base_impl.py:3045: RuntimeWarning: invalid value encountered in divide\n",
      "  c /= stddev[:, None]\n",
      "c:\\Github\\ode-biomarker-project\\.venv\\lib\\site-packages\\numpy\\lib\\_function_base_impl.py:3046: RuntimeWarning: invalid value encountered in divide\n",
      "  c /= stddev[None, :]\n",
      "c:\\Github\\ode-biomarker-project\\.venv\\lib\\site-packages\\numpy\\lib\\_function_base_impl.py:3045: RuntimeWarning: invalid value encountered in divide\n",
      "  c /= stddev[:, None]\n",
      "c:\\Github\\ode-biomarker-project\\.venv\\lib\\site-packages\\numpy\\lib\\_function_base_impl.py:3046: RuntimeWarning: invalid value encountered in divide\n",
      "  c /= stddev[None, :]\n",
      "c:\\Github\\ode-biomarker-project\\.venv\\lib\\site-packages\\numpy\\lib\\_function_base_impl.py:3045: RuntimeWarning: invalid value encountered in divide\n",
      "  c /= stddev[:, None]\n",
      "c:\\Github\\ode-biomarker-project\\.venv\\lib\\site-packages\\numpy\\lib\\_function_base_impl.py:3046: RuntimeWarning: invalid value encountered in divide\n",
      "  c /= stddev[None, :]\n",
      "c:\\Github\\ode-biomarker-project\\.venv\\lib\\site-packages\\numpy\\lib\\_function_base_impl.py:3045: RuntimeWarning: invalid value encountered in divide\n",
      "  c /= stddev[:, None]\n",
      "c:\\Github\\ode-biomarker-project\\.venv\\lib\\site-packages\\numpy\\lib\\_function_base_impl.py:3046: RuntimeWarning: invalid value encountered in divide\n",
      "  c /= stddev[None, :]\n",
      "c:\\Github\\ode-biomarker-project\\.venv\\lib\\site-packages\\numpy\\lib\\_function_base_impl.py:3045: RuntimeWarning: invalid value encountered in divide\n",
      "  c /= stddev[:, None]\n",
      "c:\\Github\\ode-biomarker-project\\.venv\\lib\\site-packages\\numpy\\lib\\_function_base_impl.py:3046: RuntimeWarning: invalid value encountered in divide\n",
      "  c /= stddev[None, :]\n"
     ]
    },
    {
     "name": "stdout",
     "output_type": "stream",
     "text": [
      "k=7, iteration 2: 9.6873s\n"
     ]
    },
    {
     "name": "stderr",
     "output_type": "stream",
     "text": [
      "c:\\Github\\ode-biomarker-project\\.venv\\lib\\site-packages\\numpy\\lib\\_function_base_impl.py:3045: RuntimeWarning: invalid value encountered in divide\n",
      "  c /= stddev[:, None]\n",
      "c:\\Github\\ode-biomarker-project\\.venv\\lib\\site-packages\\numpy\\lib\\_function_base_impl.py:3046: RuntimeWarning: invalid value encountered in divide\n",
      "  c /= stddev[None, :]\n",
      "c:\\Github\\ode-biomarker-project\\.venv\\lib\\site-packages\\numpy\\lib\\_function_base_impl.py:3045: RuntimeWarning: invalid value encountered in divide\n",
      "  c /= stddev[:, None]\n",
      "c:\\Github\\ode-biomarker-project\\.venv\\lib\\site-packages\\numpy\\lib\\_function_base_impl.py:3046: RuntimeWarning: invalid value encountered in divide\n",
      "  c /= stddev[None, :]\n",
      "c:\\Github\\ode-biomarker-project\\.venv\\lib\\site-packages\\numpy\\lib\\_function_base_impl.py:3045: RuntimeWarning: invalid value encountered in divide\n",
      "  c /= stddev[:, None]\n",
      "c:\\Github\\ode-biomarker-project\\.venv\\lib\\site-packages\\numpy\\lib\\_function_base_impl.py:3046: RuntimeWarning: invalid value encountered in divide\n",
      "  c /= stddev[None, :]\n",
      "c:\\Github\\ode-biomarker-project\\.venv\\lib\\site-packages\\numpy\\lib\\_function_base_impl.py:3045: RuntimeWarning: invalid value encountered in divide\n",
      "  c /= stddev[:, None]\n",
      "c:\\Github\\ode-biomarker-project\\.venv\\lib\\site-packages\\numpy\\lib\\_function_base_impl.py:3046: RuntimeWarning: invalid value encountered in divide\n",
      "  c /= stddev[None, :]\n",
      "c:\\Github\\ode-biomarker-project\\.venv\\lib\\site-packages\\numpy\\lib\\_function_base_impl.py:3045: RuntimeWarning: invalid value encountered in divide\n",
      "  c /= stddev[:, None]\n",
      "c:\\Github\\ode-biomarker-project\\.venv\\lib\\site-packages\\numpy\\lib\\_function_base_impl.py:3046: RuntimeWarning: invalid value encountered in divide\n",
      "  c /= stddev[None, :]\n",
      "c:\\Github\\ode-biomarker-project\\.venv\\lib\\site-packages\\numpy\\lib\\_function_base_impl.py:3045: RuntimeWarning: invalid value encountered in divide\n",
      "  c /= stddev[:, None]\n",
      "c:\\Github\\ode-biomarker-project\\.venv\\lib\\site-packages\\numpy\\lib\\_function_base_impl.py:3046: RuntimeWarning: invalid value encountered in divide\n",
      "  c /= stddev[None, :]\n"
     ]
    },
    {
     "name": "stdout",
     "output_type": "stream",
     "text": [
      "k=7, iteration 3: 8.0719s\n"
     ]
    },
    {
     "name": "stderr",
     "output_type": "stream",
     "text": [
      "c:\\Github\\ode-biomarker-project\\.venv\\lib\\site-packages\\numpy\\lib\\_function_base_impl.py:3045: RuntimeWarning: invalid value encountered in divide\n",
      "  c /= stddev[:, None]\n",
      "c:\\Github\\ode-biomarker-project\\.venv\\lib\\site-packages\\numpy\\lib\\_function_base_impl.py:3046: RuntimeWarning: invalid value encountered in divide\n",
      "  c /= stddev[None, :]\n",
      "c:\\Github\\ode-biomarker-project\\.venv\\lib\\site-packages\\numpy\\lib\\_function_base_impl.py:3045: RuntimeWarning: invalid value encountered in divide\n",
      "  c /= stddev[:, None]\n",
      "c:\\Github\\ode-biomarker-project\\.venv\\lib\\site-packages\\numpy\\lib\\_function_base_impl.py:3046: RuntimeWarning: invalid value encountered in divide\n",
      "  c /= stddev[None, :]\n",
      "c:\\Github\\ode-biomarker-project\\.venv\\lib\\site-packages\\numpy\\lib\\_function_base_impl.py:3045: RuntimeWarning: invalid value encountered in divide\n",
      "  c /= stddev[:, None]\n",
      "c:\\Github\\ode-biomarker-project\\.venv\\lib\\site-packages\\numpy\\lib\\_function_base_impl.py:3046: RuntimeWarning: invalid value encountered in divide\n",
      "  c /= stddev[None, :]\n",
      "c:\\Github\\ode-biomarker-project\\.venv\\lib\\site-packages\\numpy\\lib\\_function_base_impl.py:3045: RuntimeWarning: invalid value encountered in divide\n",
      "  c /= stddev[:, None]\n",
      "c:\\Github\\ode-biomarker-project\\.venv\\lib\\site-packages\\numpy\\lib\\_function_base_impl.py:3046: RuntimeWarning: invalid value encountered in divide\n",
      "  c /= stddev[None, :]\n",
      "c:\\Github\\ode-biomarker-project\\.venv\\lib\\site-packages\\numpy\\lib\\_function_base_impl.py:3045: RuntimeWarning: invalid value encountered in divide\n",
      "  c /= stddev[:, None]\n",
      "c:\\Github\\ode-biomarker-project\\.venv\\lib\\site-packages\\numpy\\lib\\_function_base_impl.py:3046: RuntimeWarning: invalid value encountered in divide\n",
      "  c /= stddev[None, :]\n",
      "c:\\Github\\ode-biomarker-project\\.venv\\lib\\site-packages\\numpy\\lib\\_function_base_impl.py:3045: RuntimeWarning: invalid value encountered in divide\n",
      "  c /= stddev[:, None]\n",
      "c:\\Github\\ode-biomarker-project\\.venv\\lib\\site-packages\\numpy\\lib\\_function_base_impl.py:3046: RuntimeWarning: invalid value encountered in divide\n",
      "  c /= stddev[None, :]\n"
     ]
    },
    {
     "name": "stdout",
     "output_type": "stream",
     "text": [
      "k=7, iteration 4: 8.4980s\n"
     ]
    },
    {
     "name": "stderr",
     "output_type": "stream",
     "text": [
      "c:\\Github\\ode-biomarker-project\\.venv\\lib\\site-packages\\numpy\\lib\\_function_base_impl.py:3045: RuntimeWarning: invalid value encountered in divide\n",
      "  c /= stddev[:, None]\n",
      "c:\\Github\\ode-biomarker-project\\.venv\\lib\\site-packages\\numpy\\lib\\_function_base_impl.py:3046: RuntimeWarning: invalid value encountered in divide\n",
      "  c /= stddev[None, :]\n",
      "c:\\Github\\ode-biomarker-project\\.venv\\lib\\site-packages\\numpy\\lib\\_function_base_impl.py:3045: RuntimeWarning: invalid value encountered in divide\n",
      "  c /= stddev[:, None]\n",
      "c:\\Github\\ode-biomarker-project\\.venv\\lib\\site-packages\\numpy\\lib\\_function_base_impl.py:3046: RuntimeWarning: invalid value encountered in divide\n",
      "  c /= stddev[None, :]\n",
      "c:\\Github\\ode-biomarker-project\\.venv\\lib\\site-packages\\numpy\\lib\\_function_base_impl.py:3045: RuntimeWarning: invalid value encountered in divide\n",
      "  c /= stddev[:, None]\n",
      "c:\\Github\\ode-biomarker-project\\.venv\\lib\\site-packages\\numpy\\lib\\_function_base_impl.py:3046: RuntimeWarning: invalid value encountered in divide\n",
      "  c /= stddev[None, :]\n",
      "c:\\Github\\ode-biomarker-project\\.venv\\lib\\site-packages\\numpy\\lib\\_function_base_impl.py:3045: RuntimeWarning: invalid value encountered in divide\n",
      "  c /= stddev[:, None]\n",
      "c:\\Github\\ode-biomarker-project\\.venv\\lib\\site-packages\\numpy\\lib\\_function_base_impl.py:3046: RuntimeWarning: invalid value encountered in divide\n",
      "  c /= stddev[None, :]\n",
      "c:\\Github\\ode-biomarker-project\\.venv\\lib\\site-packages\\numpy\\lib\\_function_base_impl.py:3045: RuntimeWarning: invalid value encountered in divide\n",
      "  c /= stddev[:, None]\n",
      "c:\\Github\\ode-biomarker-project\\.venv\\lib\\site-packages\\numpy\\lib\\_function_base_impl.py:3046: RuntimeWarning: invalid value encountered in divide\n",
      "  c /= stddev[None, :]\n",
      "c:\\Github\\ode-biomarker-project\\.venv\\lib\\site-packages\\numpy\\lib\\_function_base_impl.py:3045: RuntimeWarning: invalid value encountered in divide\n",
      "  c /= stddev[:, None]\n",
      "c:\\Github\\ode-biomarker-project\\.venv\\lib\\site-packages\\numpy\\lib\\_function_base_impl.py:3046: RuntimeWarning: invalid value encountered in divide\n",
      "  c /= stddev[None, :]\n"
     ]
    },
    {
     "name": "stdout",
     "output_type": "stream",
     "text": [
      "k=7, iteration 5: 9.2174s\n",
      "k=7: Mean time = 8.7580s ± 0.6014s\n"
     ]
    },
    {
     "name": "stderr",
     "output_type": "stream",
     "text": [
      "c:\\Github\\ode-biomarker-project\\.venv\\lib\\site-packages\\numpy\\lib\\_function_base_impl.py:3045: RuntimeWarning: invalid value encountered in divide\n",
      "  c /= stddev[:, None]\n",
      "c:\\Github\\ode-biomarker-project\\.venv\\lib\\site-packages\\numpy\\lib\\_function_base_impl.py:3046: RuntimeWarning: invalid value encountered in divide\n",
      "  c /= stddev[None, :]\n",
      "c:\\Github\\ode-biomarker-project\\.venv\\lib\\site-packages\\numpy\\lib\\_function_base_impl.py:3045: RuntimeWarning: invalid value encountered in divide\n",
      "  c /= stddev[:, None]\n",
      "c:\\Github\\ode-biomarker-project\\.venv\\lib\\site-packages\\numpy\\lib\\_function_base_impl.py:3046: RuntimeWarning: invalid value encountered in divide\n",
      "  c /= stddev[None, :]\n",
      "c:\\Github\\ode-biomarker-project\\.venv\\lib\\site-packages\\numpy\\lib\\_function_base_impl.py:3045: RuntimeWarning: invalid value encountered in divide\n",
      "  c /= stddev[:, None]\n",
      "c:\\Github\\ode-biomarker-project\\.venv\\lib\\site-packages\\numpy\\lib\\_function_base_impl.py:3046: RuntimeWarning: invalid value encountered in divide\n",
      "  c /= stddev[None, :]\n",
      "c:\\Github\\ode-biomarker-project\\.venv\\lib\\site-packages\\numpy\\lib\\_function_base_impl.py:3045: RuntimeWarning: invalid value encountered in divide\n",
      "  c /= stddev[:, None]\n",
      "c:\\Github\\ode-biomarker-project\\.venv\\lib\\site-packages\\numpy\\lib\\_function_base_impl.py:3046: RuntimeWarning: invalid value encountered in divide\n",
      "  c /= stddev[None, :]\n",
      "c:\\Github\\ode-biomarker-project\\.venv\\lib\\site-packages\\numpy\\lib\\_function_base_impl.py:3045: RuntimeWarning: invalid value encountered in divide\n",
      "  c /= stddev[:, None]\n",
      "c:\\Github\\ode-biomarker-project\\.venv\\lib\\site-packages\\numpy\\lib\\_function_base_impl.py:3046: RuntimeWarning: invalid value encountered in divide\n",
      "  c /= stddev[None, :]\n",
      "c:\\Github\\ode-biomarker-project\\.venv\\lib\\site-packages\\numpy\\lib\\_function_base_impl.py:3045: RuntimeWarning: invalid value encountered in divide\n",
      "  c /= stddev[:, None]\n",
      "c:\\Github\\ode-biomarker-project\\.venv\\lib\\site-packages\\numpy\\lib\\_function_base_impl.py:3046: RuntimeWarning: invalid value encountered in divide\n",
      "  c /= stddev[None, :]\n"
     ]
    },
    {
     "name": "stdout",
     "output_type": "stream",
     "text": [
      "k=8, iteration 2: 11.0480s\n"
     ]
    },
    {
     "name": "stderr",
     "output_type": "stream",
     "text": [
      "c:\\Github\\ode-biomarker-project\\.venv\\lib\\site-packages\\numpy\\lib\\_function_base_impl.py:3045: RuntimeWarning: invalid value encountered in divide\n",
      "  c /= stddev[:, None]\n",
      "c:\\Github\\ode-biomarker-project\\.venv\\lib\\site-packages\\numpy\\lib\\_function_base_impl.py:3046: RuntimeWarning: invalid value encountered in divide\n",
      "  c /= stddev[None, :]\n",
      "c:\\Github\\ode-biomarker-project\\.venv\\lib\\site-packages\\numpy\\lib\\_function_base_impl.py:3045: RuntimeWarning: invalid value encountered in divide\n",
      "  c /= stddev[:, None]\n",
      "c:\\Github\\ode-biomarker-project\\.venv\\lib\\site-packages\\numpy\\lib\\_function_base_impl.py:3046: RuntimeWarning: invalid value encountered in divide\n",
      "  c /= stddev[None, :]\n",
      "c:\\Github\\ode-biomarker-project\\.venv\\lib\\site-packages\\numpy\\lib\\_function_base_impl.py:3045: RuntimeWarning: invalid value encountered in divide\n",
      "  c /= stddev[:, None]\n",
      "c:\\Github\\ode-biomarker-project\\.venv\\lib\\site-packages\\numpy\\lib\\_function_base_impl.py:3046: RuntimeWarning: invalid value encountered in divide\n",
      "  c /= stddev[None, :]\n",
      "c:\\Github\\ode-biomarker-project\\.venv\\lib\\site-packages\\numpy\\lib\\_function_base_impl.py:3045: RuntimeWarning: invalid value encountered in divide\n",
      "  c /= stddev[:, None]\n",
      "c:\\Github\\ode-biomarker-project\\.venv\\lib\\site-packages\\numpy\\lib\\_function_base_impl.py:3046: RuntimeWarning: invalid value encountered in divide\n",
      "  c /= stddev[None, :]\n",
      "c:\\Github\\ode-biomarker-project\\.venv\\lib\\site-packages\\numpy\\lib\\_function_base_impl.py:3045: RuntimeWarning: invalid value encountered in divide\n",
      "  c /= stddev[:, None]\n",
      "c:\\Github\\ode-biomarker-project\\.venv\\lib\\site-packages\\numpy\\lib\\_function_base_impl.py:3046: RuntimeWarning: invalid value encountered in divide\n",
      "  c /= stddev[None, :]\n",
      "c:\\Github\\ode-biomarker-project\\.venv\\lib\\site-packages\\numpy\\lib\\_function_base_impl.py:3045: RuntimeWarning: invalid value encountered in divide\n",
      "  c /= stddev[:, None]\n",
      "c:\\Github\\ode-biomarker-project\\.venv\\lib\\site-packages\\numpy\\lib\\_function_base_impl.py:3046: RuntimeWarning: invalid value encountered in divide\n",
      "  c /= stddev[None, :]\n",
      "c:\\Github\\ode-biomarker-project\\.venv\\lib\\site-packages\\numpy\\lib\\_function_base_impl.py:3045: RuntimeWarning: invalid value encountered in divide\n",
      "  c /= stddev[:, None]\n",
      "c:\\Github\\ode-biomarker-project\\.venv\\lib\\site-packages\\numpy\\lib\\_function_base_impl.py:3046: RuntimeWarning: invalid value encountered in divide\n",
      "  c /= stddev[None, :]\n"
     ]
    },
    {
     "name": "stdout",
     "output_type": "stream",
     "text": [
      "k=8, iteration 3: 11.3597s\n"
     ]
    },
    {
     "name": "stderr",
     "output_type": "stream",
     "text": [
      "c:\\Github\\ode-biomarker-project\\.venv\\lib\\site-packages\\numpy\\lib\\_function_base_impl.py:3045: RuntimeWarning: invalid value encountered in divide\n",
      "  c /= stddev[:, None]\n",
      "c:\\Github\\ode-biomarker-project\\.venv\\lib\\site-packages\\numpy\\lib\\_function_base_impl.py:3046: RuntimeWarning: invalid value encountered in divide\n",
      "  c /= stddev[None, :]\n",
      "c:\\Github\\ode-biomarker-project\\.venv\\lib\\site-packages\\numpy\\lib\\_function_base_impl.py:3045: RuntimeWarning: invalid value encountered in divide\n",
      "  c /= stddev[:, None]\n",
      "c:\\Github\\ode-biomarker-project\\.venv\\lib\\site-packages\\numpy\\lib\\_function_base_impl.py:3046: RuntimeWarning: invalid value encountered in divide\n",
      "  c /= stddev[None, :]\n",
      "c:\\Github\\ode-biomarker-project\\.venv\\lib\\site-packages\\numpy\\lib\\_function_base_impl.py:3045: RuntimeWarning: invalid value encountered in divide\n",
      "  c /= stddev[:, None]\n",
      "c:\\Github\\ode-biomarker-project\\.venv\\lib\\site-packages\\numpy\\lib\\_function_base_impl.py:3046: RuntimeWarning: invalid value encountered in divide\n",
      "  c /= stddev[None, :]\n",
      "c:\\Github\\ode-biomarker-project\\.venv\\lib\\site-packages\\numpy\\lib\\_function_base_impl.py:3045: RuntimeWarning: invalid value encountered in divide\n",
      "  c /= stddev[:, None]\n",
      "c:\\Github\\ode-biomarker-project\\.venv\\lib\\site-packages\\numpy\\lib\\_function_base_impl.py:3046: RuntimeWarning: invalid value encountered in divide\n",
      "  c /= stddev[None, :]\n",
      "c:\\Github\\ode-biomarker-project\\.venv\\lib\\site-packages\\numpy\\lib\\_function_base_impl.py:3045: RuntimeWarning: invalid value encountered in divide\n",
      "  c /= stddev[:, None]\n",
      "c:\\Github\\ode-biomarker-project\\.venv\\lib\\site-packages\\numpy\\lib\\_function_base_impl.py:3046: RuntimeWarning: invalid value encountered in divide\n",
      "  c /= stddev[None, :]\n",
      "c:\\Github\\ode-biomarker-project\\.venv\\lib\\site-packages\\numpy\\lib\\_function_base_impl.py:3045: RuntimeWarning: invalid value encountered in divide\n",
      "  c /= stddev[:, None]\n",
      "c:\\Github\\ode-biomarker-project\\.venv\\lib\\site-packages\\numpy\\lib\\_function_base_impl.py:3046: RuntimeWarning: invalid value encountered in divide\n",
      "  c /= stddev[None, :]\n",
      "c:\\Github\\ode-biomarker-project\\.venv\\lib\\site-packages\\numpy\\lib\\_function_base_impl.py:3045: RuntimeWarning: invalid value encountered in divide\n",
      "  c /= stddev[:, None]\n",
      "c:\\Github\\ode-biomarker-project\\.venv\\lib\\site-packages\\numpy\\lib\\_function_base_impl.py:3046: RuntimeWarning: invalid value encountered in divide\n",
      "  c /= stddev[None, :]\n"
     ]
    },
    {
     "name": "stdout",
     "output_type": "stream",
     "text": [
      "k=8, iteration 4: 12.7309s\n"
     ]
    },
    {
     "name": "stderr",
     "output_type": "stream",
     "text": [
      "c:\\Github\\ode-biomarker-project\\.venv\\lib\\site-packages\\numpy\\lib\\_function_base_impl.py:3045: RuntimeWarning: invalid value encountered in divide\n",
      "  c /= stddev[:, None]\n",
      "c:\\Github\\ode-biomarker-project\\.venv\\lib\\site-packages\\numpy\\lib\\_function_base_impl.py:3046: RuntimeWarning: invalid value encountered in divide\n",
      "  c /= stddev[None, :]\n",
      "c:\\Github\\ode-biomarker-project\\.venv\\lib\\site-packages\\numpy\\lib\\_function_base_impl.py:3045: RuntimeWarning: invalid value encountered in divide\n",
      "  c /= stddev[:, None]\n",
      "c:\\Github\\ode-biomarker-project\\.venv\\lib\\site-packages\\numpy\\lib\\_function_base_impl.py:3046: RuntimeWarning: invalid value encountered in divide\n",
      "  c /= stddev[None, :]\n",
      "c:\\Github\\ode-biomarker-project\\.venv\\lib\\site-packages\\numpy\\lib\\_function_base_impl.py:3045: RuntimeWarning: invalid value encountered in divide\n",
      "  c /= stddev[:, None]\n",
      "c:\\Github\\ode-biomarker-project\\.venv\\lib\\site-packages\\numpy\\lib\\_function_base_impl.py:3046: RuntimeWarning: invalid value encountered in divide\n",
      "  c /= stddev[None, :]\n",
      "c:\\Github\\ode-biomarker-project\\.venv\\lib\\site-packages\\numpy\\lib\\_function_base_impl.py:3045: RuntimeWarning: invalid value encountered in divide\n",
      "  c /= stddev[:, None]\n",
      "c:\\Github\\ode-biomarker-project\\.venv\\lib\\site-packages\\numpy\\lib\\_function_base_impl.py:3046: RuntimeWarning: invalid value encountered in divide\n",
      "  c /= stddev[None, :]\n",
      "c:\\Github\\ode-biomarker-project\\.venv\\lib\\site-packages\\numpy\\lib\\_function_base_impl.py:3045: RuntimeWarning: invalid value encountered in divide\n",
      "  c /= stddev[:, None]\n",
      "c:\\Github\\ode-biomarker-project\\.venv\\lib\\site-packages\\numpy\\lib\\_function_base_impl.py:3046: RuntimeWarning: invalid value encountered in divide\n",
      "  c /= stddev[None, :]\n",
      "c:\\Github\\ode-biomarker-project\\.venv\\lib\\site-packages\\numpy\\lib\\_function_base_impl.py:3045: RuntimeWarning: invalid value encountered in divide\n",
      "  c /= stddev[:, None]\n",
      "c:\\Github\\ode-biomarker-project\\.venv\\lib\\site-packages\\numpy\\lib\\_function_base_impl.py:3046: RuntimeWarning: invalid value encountered in divide\n",
      "  c /= stddev[None, :]\n",
      "c:\\Github\\ode-biomarker-project\\.venv\\lib\\site-packages\\numpy\\lib\\_function_base_impl.py:3045: RuntimeWarning: invalid value encountered in divide\n",
      "  c /= stddev[:, None]\n",
      "c:\\Github\\ode-biomarker-project\\.venv\\lib\\site-packages\\numpy\\lib\\_function_base_impl.py:3046: RuntimeWarning: invalid value encountered in divide\n",
      "  c /= stddev[None, :]\n"
     ]
    },
    {
     "name": "stdout",
     "output_type": "stream",
     "text": [
      "k=8, iteration 5: 14.8483s\n",
      "k=8: Mean time = 12.4250s ± 1.3475s\n"
     ]
    },
    {
     "name": "stderr",
     "output_type": "stream",
     "text": [
      "c:\\Github\\ode-biomarker-project\\.venv\\lib\\site-packages\\numpy\\lib\\_function_base_impl.py:3045: RuntimeWarning: invalid value encountered in divide\n",
      "  c /= stddev[:, None]\n",
      "c:\\Github\\ode-biomarker-project\\.venv\\lib\\site-packages\\numpy\\lib\\_function_base_impl.py:3046: RuntimeWarning: invalid value encountered in divide\n",
      "  c /= stddev[None, :]\n",
      "c:\\Github\\ode-biomarker-project\\.venv\\lib\\site-packages\\numpy\\lib\\_function_base_impl.py:3045: RuntimeWarning: invalid value encountered in divide\n",
      "  c /= stddev[:, None]\n",
      "c:\\Github\\ode-biomarker-project\\.venv\\lib\\site-packages\\numpy\\lib\\_function_base_impl.py:3046: RuntimeWarning: invalid value encountered in divide\n",
      "  c /= stddev[None, :]\n",
      "c:\\Github\\ode-biomarker-project\\.venv\\lib\\site-packages\\numpy\\lib\\_function_base_impl.py:3045: RuntimeWarning: invalid value encountered in divide\n",
      "  c /= stddev[:, None]\n",
      "c:\\Github\\ode-biomarker-project\\.venv\\lib\\site-packages\\numpy\\lib\\_function_base_impl.py:3046: RuntimeWarning: invalid value encountered in divide\n",
      "  c /= stddev[None, :]\n",
      "c:\\Github\\ode-biomarker-project\\.venv\\lib\\site-packages\\numpy\\lib\\_function_base_impl.py:3045: RuntimeWarning: invalid value encountered in divide\n",
      "  c /= stddev[:, None]\n",
      "c:\\Github\\ode-biomarker-project\\.venv\\lib\\site-packages\\numpy\\lib\\_function_base_impl.py:3046: RuntimeWarning: invalid value encountered in divide\n",
      "  c /= stddev[None, :]\n",
      "c:\\Github\\ode-biomarker-project\\.venv\\lib\\site-packages\\numpy\\lib\\_function_base_impl.py:3045: RuntimeWarning: invalid value encountered in divide\n",
      "  c /= stddev[:, None]\n",
      "c:\\Github\\ode-biomarker-project\\.venv\\lib\\site-packages\\numpy\\lib\\_function_base_impl.py:3046: RuntimeWarning: invalid value encountered in divide\n",
      "  c /= stddev[None, :]\n",
      "c:\\Github\\ode-biomarker-project\\.venv\\lib\\site-packages\\numpy\\lib\\_function_base_impl.py:3045: RuntimeWarning: invalid value encountered in divide\n",
      "  c /= stddev[:, None]\n",
      "c:\\Github\\ode-biomarker-project\\.venv\\lib\\site-packages\\numpy\\lib\\_function_base_impl.py:3046: RuntimeWarning: invalid value encountered in divide\n",
      "  c /= stddev[None, :]\n",
      "c:\\Github\\ode-biomarker-project\\.venv\\lib\\site-packages\\numpy\\lib\\_function_base_impl.py:3045: RuntimeWarning: invalid value encountered in divide\n",
      "  c /= stddev[:, None]\n",
      "c:\\Github\\ode-biomarker-project\\.venv\\lib\\site-packages\\numpy\\lib\\_function_base_impl.py:3046: RuntimeWarning: invalid value encountered in divide\n",
      "  c /= stddev[None, :]\n",
      "c:\\Github\\ode-biomarker-project\\.venv\\lib\\site-packages\\numpy\\lib\\_function_base_impl.py:3045: RuntimeWarning: invalid value encountered in divide\n",
      "  c /= stddev[:, None]\n",
      "c:\\Github\\ode-biomarker-project\\.venv\\lib\\site-packages\\numpy\\lib\\_function_base_impl.py:3046: RuntimeWarning: invalid value encountered in divide\n",
      "  c /= stddev[None, :]\n"
     ]
    },
    {
     "name": "stdout",
     "output_type": "stream",
     "text": [
      "k=9, iteration 1: 14.4713s\n"
     ]
    },
    {
     "name": "stderr",
     "output_type": "stream",
     "text": [
      "c:\\Github\\ode-biomarker-project\\.venv\\lib\\site-packages\\numpy\\lib\\_function_base_impl.py:3045: RuntimeWarning: invalid value encountered in divide\n",
      "  c /= stddev[:, None]\n",
      "c:\\Github\\ode-biomarker-project\\.venv\\lib\\site-packages\\numpy\\lib\\_function_base_impl.py:3046: RuntimeWarning: invalid value encountered in divide\n",
      "  c /= stddev[None, :]\n",
      "c:\\Github\\ode-biomarker-project\\.venv\\lib\\site-packages\\numpy\\lib\\_function_base_impl.py:3045: RuntimeWarning: invalid value encountered in divide\n",
      "  c /= stddev[:, None]\n",
      "c:\\Github\\ode-biomarker-project\\.venv\\lib\\site-packages\\numpy\\lib\\_function_base_impl.py:3046: RuntimeWarning: invalid value encountered in divide\n",
      "  c /= stddev[None, :]\n",
      "c:\\Github\\ode-biomarker-project\\.venv\\lib\\site-packages\\numpy\\lib\\_function_base_impl.py:3045: RuntimeWarning: invalid value encountered in divide\n",
      "  c /= stddev[:, None]\n",
      "c:\\Github\\ode-biomarker-project\\.venv\\lib\\site-packages\\numpy\\lib\\_function_base_impl.py:3046: RuntimeWarning: invalid value encountered in divide\n",
      "  c /= stddev[None, :]\n",
      "c:\\Github\\ode-biomarker-project\\.venv\\lib\\site-packages\\numpy\\lib\\_function_base_impl.py:3045: RuntimeWarning: invalid value encountered in divide\n",
      "  c /= stddev[:, None]\n",
      "c:\\Github\\ode-biomarker-project\\.venv\\lib\\site-packages\\numpy\\lib\\_function_base_impl.py:3046: RuntimeWarning: invalid value encountered in divide\n",
      "  c /= stddev[None, :]\n",
      "c:\\Github\\ode-biomarker-project\\.venv\\lib\\site-packages\\numpy\\lib\\_function_base_impl.py:3045: RuntimeWarning: invalid value encountered in divide\n",
      "  c /= stddev[:, None]\n",
      "c:\\Github\\ode-biomarker-project\\.venv\\lib\\site-packages\\numpy\\lib\\_function_base_impl.py:3046: RuntimeWarning: invalid value encountered in divide\n",
      "  c /= stddev[None, :]\n",
      "c:\\Github\\ode-biomarker-project\\.venv\\lib\\site-packages\\numpy\\lib\\_function_base_impl.py:3045: RuntimeWarning: invalid value encountered in divide\n",
      "  c /= stddev[:, None]\n",
      "c:\\Github\\ode-biomarker-project\\.venv\\lib\\site-packages\\numpy\\lib\\_function_base_impl.py:3046: RuntimeWarning: invalid value encountered in divide\n",
      "  c /= stddev[None, :]\n",
      "c:\\Github\\ode-biomarker-project\\.venv\\lib\\site-packages\\numpy\\lib\\_function_base_impl.py:3045: RuntimeWarning: invalid value encountered in divide\n",
      "  c /= stddev[:, None]\n",
      "c:\\Github\\ode-biomarker-project\\.venv\\lib\\site-packages\\numpy\\lib\\_function_base_impl.py:3046: RuntimeWarning: invalid value encountered in divide\n",
      "  c /= stddev[None, :]\n",
      "c:\\Github\\ode-biomarker-project\\.venv\\lib\\site-packages\\numpy\\lib\\_function_base_impl.py:3045: RuntimeWarning: invalid value encountered in divide\n",
      "  c /= stddev[:, None]\n",
      "c:\\Github\\ode-biomarker-project\\.venv\\lib\\site-packages\\numpy\\lib\\_function_base_impl.py:3046: RuntimeWarning: invalid value encountered in divide\n",
      "  c /= stddev[None, :]\n"
     ]
    },
    {
     "name": "stdout",
     "output_type": "stream",
     "text": [
      "k=9, iteration 2: 16.2585s\n"
     ]
    },
    {
     "name": "stderr",
     "output_type": "stream",
     "text": [
      "c:\\Github\\ode-biomarker-project\\.venv\\lib\\site-packages\\numpy\\lib\\_function_base_impl.py:3045: RuntimeWarning: invalid value encountered in divide\n",
      "  c /= stddev[:, None]\n",
      "c:\\Github\\ode-biomarker-project\\.venv\\lib\\site-packages\\numpy\\lib\\_function_base_impl.py:3046: RuntimeWarning: invalid value encountered in divide\n",
      "  c /= stddev[None, :]\n",
      "c:\\Github\\ode-biomarker-project\\.venv\\lib\\site-packages\\numpy\\lib\\_function_base_impl.py:3045: RuntimeWarning: invalid value encountered in divide\n",
      "  c /= stddev[:, None]\n",
      "c:\\Github\\ode-biomarker-project\\.venv\\lib\\site-packages\\numpy\\lib\\_function_base_impl.py:3046: RuntimeWarning: invalid value encountered in divide\n",
      "  c /= stddev[None, :]\n",
      "c:\\Github\\ode-biomarker-project\\.venv\\lib\\site-packages\\numpy\\lib\\_function_base_impl.py:3045: RuntimeWarning: invalid value encountered in divide\n",
      "  c /= stddev[:, None]\n",
      "c:\\Github\\ode-biomarker-project\\.venv\\lib\\site-packages\\numpy\\lib\\_function_base_impl.py:3046: RuntimeWarning: invalid value encountered in divide\n",
      "  c /= stddev[None, :]\n",
      "c:\\Github\\ode-biomarker-project\\.venv\\lib\\site-packages\\numpy\\lib\\_function_base_impl.py:3045: RuntimeWarning: invalid value encountered in divide\n",
      "  c /= stddev[:, None]\n",
      "c:\\Github\\ode-biomarker-project\\.venv\\lib\\site-packages\\numpy\\lib\\_function_base_impl.py:3046: RuntimeWarning: invalid value encountered in divide\n",
      "  c /= stddev[None, :]\n",
      "c:\\Github\\ode-biomarker-project\\.venv\\lib\\site-packages\\numpy\\lib\\_function_base_impl.py:3045: RuntimeWarning: invalid value encountered in divide\n",
      "  c /= stddev[:, None]\n",
      "c:\\Github\\ode-biomarker-project\\.venv\\lib\\site-packages\\numpy\\lib\\_function_base_impl.py:3046: RuntimeWarning: invalid value encountered in divide\n",
      "  c /= stddev[None, :]\n",
      "c:\\Github\\ode-biomarker-project\\.venv\\lib\\site-packages\\numpy\\lib\\_function_base_impl.py:3045: RuntimeWarning: invalid value encountered in divide\n",
      "  c /= stddev[:, None]\n",
      "c:\\Github\\ode-biomarker-project\\.venv\\lib\\site-packages\\numpy\\lib\\_function_base_impl.py:3046: RuntimeWarning: invalid value encountered in divide\n",
      "  c /= stddev[None, :]\n",
      "c:\\Github\\ode-biomarker-project\\.venv\\lib\\site-packages\\numpy\\lib\\_function_base_impl.py:3045: RuntimeWarning: invalid value encountered in divide\n",
      "  c /= stddev[:, None]\n",
      "c:\\Github\\ode-biomarker-project\\.venv\\lib\\site-packages\\numpy\\lib\\_function_base_impl.py:3046: RuntimeWarning: invalid value encountered in divide\n",
      "  c /= stddev[None, :]\n",
      "c:\\Github\\ode-biomarker-project\\.venv\\lib\\site-packages\\numpy\\lib\\_function_base_impl.py:3045: RuntimeWarning: invalid value encountered in divide\n",
      "  c /= stddev[:, None]\n",
      "c:\\Github\\ode-biomarker-project\\.venv\\lib\\site-packages\\numpy\\lib\\_function_base_impl.py:3046: RuntimeWarning: invalid value encountered in divide\n",
      "  c /= stddev[None, :]\n"
     ]
    },
    {
     "name": "stdout",
     "output_type": "stream",
     "text": [
      "k=9, iteration 3: 15.3283s\n"
     ]
    },
    {
     "name": "stderr",
     "output_type": "stream",
     "text": [
      "c:\\Github\\ode-biomarker-project\\.venv\\lib\\site-packages\\numpy\\lib\\_function_base_impl.py:3045: RuntimeWarning: invalid value encountered in divide\n",
      "  c /= stddev[:, None]\n",
      "c:\\Github\\ode-biomarker-project\\.venv\\lib\\site-packages\\numpy\\lib\\_function_base_impl.py:3046: RuntimeWarning: invalid value encountered in divide\n",
      "  c /= stddev[None, :]\n",
      "c:\\Github\\ode-biomarker-project\\.venv\\lib\\site-packages\\numpy\\lib\\_function_base_impl.py:3045: RuntimeWarning: invalid value encountered in divide\n",
      "  c /= stddev[:, None]\n",
      "c:\\Github\\ode-biomarker-project\\.venv\\lib\\site-packages\\numpy\\lib\\_function_base_impl.py:3046: RuntimeWarning: invalid value encountered in divide\n",
      "  c /= stddev[None, :]\n",
      "c:\\Github\\ode-biomarker-project\\.venv\\lib\\site-packages\\numpy\\lib\\_function_base_impl.py:3045: RuntimeWarning: invalid value encountered in divide\n",
      "  c /= stddev[:, None]\n",
      "c:\\Github\\ode-biomarker-project\\.venv\\lib\\site-packages\\numpy\\lib\\_function_base_impl.py:3046: RuntimeWarning: invalid value encountered in divide\n",
      "  c /= stddev[None, :]\n",
      "c:\\Github\\ode-biomarker-project\\.venv\\lib\\site-packages\\numpy\\lib\\_function_base_impl.py:3045: RuntimeWarning: invalid value encountered in divide\n",
      "  c /= stddev[:, None]\n",
      "c:\\Github\\ode-biomarker-project\\.venv\\lib\\site-packages\\numpy\\lib\\_function_base_impl.py:3046: RuntimeWarning: invalid value encountered in divide\n",
      "  c /= stddev[None, :]\n",
      "c:\\Github\\ode-biomarker-project\\.venv\\lib\\site-packages\\numpy\\lib\\_function_base_impl.py:3045: RuntimeWarning: invalid value encountered in divide\n",
      "  c /= stddev[:, None]\n",
      "c:\\Github\\ode-biomarker-project\\.venv\\lib\\site-packages\\numpy\\lib\\_function_base_impl.py:3046: RuntimeWarning: invalid value encountered in divide\n",
      "  c /= stddev[None, :]\n",
      "c:\\Github\\ode-biomarker-project\\.venv\\lib\\site-packages\\numpy\\lib\\_function_base_impl.py:3045: RuntimeWarning: invalid value encountered in divide\n",
      "  c /= stddev[:, None]\n",
      "c:\\Github\\ode-biomarker-project\\.venv\\lib\\site-packages\\numpy\\lib\\_function_base_impl.py:3046: RuntimeWarning: invalid value encountered in divide\n",
      "  c /= stddev[None, :]\n",
      "c:\\Github\\ode-biomarker-project\\.venv\\lib\\site-packages\\numpy\\lib\\_function_base_impl.py:3045: RuntimeWarning: invalid value encountered in divide\n",
      "  c /= stddev[:, None]\n",
      "c:\\Github\\ode-biomarker-project\\.venv\\lib\\site-packages\\numpy\\lib\\_function_base_impl.py:3046: RuntimeWarning: invalid value encountered in divide\n",
      "  c /= stddev[None, :]\n"
     ]
    },
    {
     "name": "stdout",
     "output_type": "stream",
     "text": [
      "k=9, iteration 4: 16.9613s\n"
     ]
    },
    {
     "name": "stderr",
     "output_type": "stream",
     "text": [
      "c:\\Github\\ode-biomarker-project\\.venv\\lib\\site-packages\\numpy\\lib\\_function_base_impl.py:3045: RuntimeWarning: invalid value encountered in divide\n",
      "  c /= stddev[:, None]\n",
      "c:\\Github\\ode-biomarker-project\\.venv\\lib\\site-packages\\numpy\\lib\\_function_base_impl.py:3046: RuntimeWarning: invalid value encountered in divide\n",
      "  c /= stddev[None, :]\n",
      "c:\\Github\\ode-biomarker-project\\.venv\\lib\\site-packages\\numpy\\lib\\_function_base_impl.py:3045: RuntimeWarning: invalid value encountered in divide\n",
      "  c /= stddev[:, None]\n",
      "c:\\Github\\ode-biomarker-project\\.venv\\lib\\site-packages\\numpy\\lib\\_function_base_impl.py:3046: RuntimeWarning: invalid value encountered in divide\n",
      "  c /= stddev[None, :]\n",
      "c:\\Github\\ode-biomarker-project\\.venv\\lib\\site-packages\\numpy\\lib\\_function_base_impl.py:3045: RuntimeWarning: invalid value encountered in divide\n",
      "  c /= stddev[:, None]\n",
      "c:\\Github\\ode-biomarker-project\\.venv\\lib\\site-packages\\numpy\\lib\\_function_base_impl.py:3046: RuntimeWarning: invalid value encountered in divide\n",
      "  c /= stddev[None, :]\n",
      "c:\\Github\\ode-biomarker-project\\.venv\\lib\\site-packages\\numpy\\lib\\_function_base_impl.py:3045: RuntimeWarning: invalid value encountered in divide\n",
      "  c /= stddev[:, None]\n",
      "c:\\Github\\ode-biomarker-project\\.venv\\lib\\site-packages\\numpy\\lib\\_function_base_impl.py:3046: RuntimeWarning: invalid value encountered in divide\n",
      "  c /= stddev[None, :]\n",
      "c:\\Github\\ode-biomarker-project\\.venv\\lib\\site-packages\\numpy\\lib\\_function_base_impl.py:3045: RuntimeWarning: invalid value encountered in divide\n",
      "  c /= stddev[:, None]\n",
      "c:\\Github\\ode-biomarker-project\\.venv\\lib\\site-packages\\numpy\\lib\\_function_base_impl.py:3046: RuntimeWarning: invalid value encountered in divide\n",
      "  c /= stddev[None, :]\n",
      "c:\\Github\\ode-biomarker-project\\.venv\\lib\\site-packages\\numpy\\lib\\_function_base_impl.py:3045: RuntimeWarning: invalid value encountered in divide\n",
      "  c /= stddev[:, None]\n",
      "c:\\Github\\ode-biomarker-project\\.venv\\lib\\site-packages\\numpy\\lib\\_function_base_impl.py:3046: RuntimeWarning: invalid value encountered in divide\n",
      "  c /= stddev[None, :]\n",
      "c:\\Github\\ode-biomarker-project\\.venv\\lib\\site-packages\\numpy\\lib\\_function_base_impl.py:3045: RuntimeWarning: invalid value encountered in divide\n",
      "  c /= stddev[:, None]\n",
      "c:\\Github\\ode-biomarker-project\\.venv\\lib\\site-packages\\numpy\\lib\\_function_base_impl.py:3046: RuntimeWarning: invalid value encountered in divide\n",
      "  c /= stddev[None, :]\n",
      "c:\\Github\\ode-biomarker-project\\.venv\\lib\\site-packages\\numpy\\lib\\_function_base_impl.py:3045: RuntimeWarning: invalid value encountered in divide\n",
      "  c /= stddev[:, None]\n",
      "c:\\Github\\ode-biomarker-project\\.venv\\lib\\site-packages\\numpy\\lib\\_function_base_impl.py:3046: RuntimeWarning: invalid value encountered in divide\n",
      "  c /= stddev[None, :]\n"
     ]
    },
    {
     "name": "stdout",
     "output_type": "stream",
     "text": [
      "k=9, iteration 5: 15.7240s\n",
      "k=9: Mean time = 15.7487s ± 0.8413s\n"
     ]
    },
    {
     "name": "stderr",
     "output_type": "stream",
     "text": [
      "c:\\Github\\ode-biomarker-project\\.venv\\lib\\site-packages\\numpy\\lib\\_function_base_impl.py:3045: RuntimeWarning: invalid value encountered in divide\n",
      "  c /= stddev[:, None]\n",
      "c:\\Github\\ode-biomarker-project\\.venv\\lib\\site-packages\\numpy\\lib\\_function_base_impl.py:3046: RuntimeWarning: invalid value encountered in divide\n",
      "  c /= stddev[None, :]\n",
      "c:\\Github\\ode-biomarker-project\\.venv\\lib\\site-packages\\numpy\\lib\\_function_base_impl.py:3045: RuntimeWarning: invalid value encountered in divide\n",
      "  c /= stddev[:, None]\n",
      "c:\\Github\\ode-biomarker-project\\.venv\\lib\\site-packages\\numpy\\lib\\_function_base_impl.py:3046: RuntimeWarning: invalid value encountered in divide\n",
      "  c /= stddev[None, :]\n",
      "c:\\Github\\ode-biomarker-project\\.venv\\lib\\site-packages\\numpy\\lib\\_function_base_impl.py:3045: RuntimeWarning: invalid value encountered in divide\n",
      "  c /= stddev[:, None]\n",
      "c:\\Github\\ode-biomarker-project\\.venv\\lib\\site-packages\\numpy\\lib\\_function_base_impl.py:3046: RuntimeWarning: invalid value encountered in divide\n",
      "  c /= stddev[None, :]\n",
      "c:\\Github\\ode-biomarker-project\\.venv\\lib\\site-packages\\numpy\\lib\\_function_base_impl.py:3045: RuntimeWarning: invalid value encountered in divide\n",
      "  c /= stddev[:, None]\n",
      "c:\\Github\\ode-biomarker-project\\.venv\\lib\\site-packages\\numpy\\lib\\_function_base_impl.py:3046: RuntimeWarning: invalid value encountered in divide\n",
      "  c /= stddev[None, :]\n",
      "c:\\Github\\ode-biomarker-project\\.venv\\lib\\site-packages\\numpy\\lib\\_function_base_impl.py:3045: RuntimeWarning: invalid value encountered in divide\n",
      "  c /= stddev[:, None]\n",
      "c:\\Github\\ode-biomarker-project\\.venv\\lib\\site-packages\\numpy\\lib\\_function_base_impl.py:3046: RuntimeWarning: invalid value encountered in divide\n",
      "  c /= stddev[None, :]\n",
      "c:\\Github\\ode-biomarker-project\\.venv\\lib\\site-packages\\numpy\\lib\\_function_base_impl.py:3045: RuntimeWarning: invalid value encountered in divide\n",
      "  c /= stddev[:, None]\n",
      "c:\\Github\\ode-biomarker-project\\.venv\\lib\\site-packages\\numpy\\lib\\_function_base_impl.py:3046: RuntimeWarning: invalid value encountered in divide\n",
      "  c /= stddev[None, :]\n",
      "c:\\Github\\ode-biomarker-project\\.venv\\lib\\site-packages\\numpy\\lib\\_function_base_impl.py:3045: RuntimeWarning: invalid value encountered in divide\n",
      "  c /= stddev[:, None]\n",
      "c:\\Github\\ode-biomarker-project\\.venv\\lib\\site-packages\\numpy\\lib\\_function_base_impl.py:3046: RuntimeWarning: invalid value encountered in divide\n",
      "  c /= stddev[None, :]\n",
      "c:\\Github\\ode-biomarker-project\\.venv\\lib\\site-packages\\numpy\\lib\\_function_base_impl.py:3045: RuntimeWarning: invalid value encountered in divide\n",
      "  c /= stddev[:, None]\n",
      "c:\\Github\\ode-biomarker-project\\.venv\\lib\\site-packages\\numpy\\lib\\_function_base_impl.py:3046: RuntimeWarning: invalid value encountered in divide\n",
      "  c /= stddev[None, :]\n",
      "c:\\Github\\ode-biomarker-project\\.venv\\lib\\site-packages\\numpy\\lib\\_function_base_impl.py:3045: RuntimeWarning: invalid value encountered in divide\n",
      "  c /= stddev[:, None]\n",
      "c:\\Github\\ode-biomarker-project\\.venv\\lib\\site-packages\\numpy\\lib\\_function_base_impl.py:3046: RuntimeWarning: invalid value encountered in divide\n",
      "  c /= stddev[None, :]\n"
     ]
    },
    {
     "name": "stdout",
     "output_type": "stream",
     "text": [
      "k=10, iteration 1: 15.7024s\n"
     ]
    },
    {
     "name": "stderr",
     "output_type": "stream",
     "text": [
      "c:\\Github\\ode-biomarker-project\\.venv\\lib\\site-packages\\numpy\\lib\\_function_base_impl.py:3045: RuntimeWarning: invalid value encountered in divide\n",
      "  c /= stddev[:, None]\n",
      "c:\\Github\\ode-biomarker-project\\.venv\\lib\\site-packages\\numpy\\lib\\_function_base_impl.py:3046: RuntimeWarning: invalid value encountered in divide\n",
      "  c /= stddev[None, :]\n",
      "c:\\Github\\ode-biomarker-project\\.venv\\lib\\site-packages\\numpy\\lib\\_function_base_impl.py:3045: RuntimeWarning: invalid value encountered in divide\n",
      "  c /= stddev[:, None]\n",
      "c:\\Github\\ode-biomarker-project\\.venv\\lib\\site-packages\\numpy\\lib\\_function_base_impl.py:3046: RuntimeWarning: invalid value encountered in divide\n",
      "  c /= stddev[None, :]\n",
      "c:\\Github\\ode-biomarker-project\\.venv\\lib\\site-packages\\numpy\\lib\\_function_base_impl.py:3045: RuntimeWarning: invalid value encountered in divide\n",
      "  c /= stddev[:, None]\n",
      "c:\\Github\\ode-biomarker-project\\.venv\\lib\\site-packages\\numpy\\lib\\_function_base_impl.py:3046: RuntimeWarning: invalid value encountered in divide\n",
      "  c /= stddev[None, :]\n",
      "c:\\Github\\ode-biomarker-project\\.venv\\lib\\site-packages\\numpy\\lib\\_function_base_impl.py:3045: RuntimeWarning: invalid value encountered in divide\n",
      "  c /= stddev[:, None]\n",
      "c:\\Github\\ode-biomarker-project\\.venv\\lib\\site-packages\\numpy\\lib\\_function_base_impl.py:3046: RuntimeWarning: invalid value encountered in divide\n",
      "  c /= stddev[None, :]\n",
      "c:\\Github\\ode-biomarker-project\\.venv\\lib\\site-packages\\numpy\\lib\\_function_base_impl.py:3045: RuntimeWarning: invalid value encountered in divide\n",
      "  c /= stddev[:, None]\n",
      "c:\\Github\\ode-biomarker-project\\.venv\\lib\\site-packages\\numpy\\lib\\_function_base_impl.py:3046: RuntimeWarning: invalid value encountered in divide\n",
      "  c /= stddev[None, :]\n",
      "c:\\Github\\ode-biomarker-project\\.venv\\lib\\site-packages\\numpy\\lib\\_function_base_impl.py:3045: RuntimeWarning: invalid value encountered in divide\n",
      "  c /= stddev[:, None]\n",
      "c:\\Github\\ode-biomarker-project\\.venv\\lib\\site-packages\\numpy\\lib\\_function_base_impl.py:3046: RuntimeWarning: invalid value encountered in divide\n",
      "  c /= stddev[None, :]\n",
      "c:\\Github\\ode-biomarker-project\\.venv\\lib\\site-packages\\numpy\\lib\\_function_base_impl.py:3045: RuntimeWarning: invalid value encountered in divide\n",
      "  c /= stddev[:, None]\n",
      "c:\\Github\\ode-biomarker-project\\.venv\\lib\\site-packages\\numpy\\lib\\_function_base_impl.py:3046: RuntimeWarning: invalid value encountered in divide\n",
      "  c /= stddev[None, :]\n",
      "c:\\Github\\ode-biomarker-project\\.venv\\lib\\site-packages\\numpy\\lib\\_function_base_impl.py:3045: RuntimeWarning: invalid value encountered in divide\n",
      "  c /= stddev[:, None]\n",
      "c:\\Github\\ode-biomarker-project\\.venv\\lib\\site-packages\\numpy\\lib\\_function_base_impl.py:3046: RuntimeWarning: invalid value encountered in divide\n",
      "  c /= stddev[None, :]\n",
      "c:\\Github\\ode-biomarker-project\\.venv\\lib\\site-packages\\numpy\\lib\\_function_base_impl.py:3045: RuntimeWarning: invalid value encountered in divide\n",
      "  c /= stddev[:, None]\n",
      "c:\\Github\\ode-biomarker-project\\.venv\\lib\\site-packages\\numpy\\lib\\_function_base_impl.py:3046: RuntimeWarning: invalid value encountered in divide\n",
      "  c /= stddev[None, :]\n"
     ]
    },
    {
     "name": "stdout",
     "output_type": "stream",
     "text": [
      "k=10, iteration 2: 16.3884s\n"
     ]
    },
    {
     "name": "stderr",
     "output_type": "stream",
     "text": [
      "c:\\Github\\ode-biomarker-project\\.venv\\lib\\site-packages\\numpy\\lib\\_function_base_impl.py:3045: RuntimeWarning: invalid value encountered in divide\n",
      "  c /= stddev[:, None]\n",
      "c:\\Github\\ode-biomarker-project\\.venv\\lib\\site-packages\\numpy\\lib\\_function_base_impl.py:3046: RuntimeWarning: invalid value encountered in divide\n",
      "  c /= stddev[None, :]\n",
      "c:\\Github\\ode-biomarker-project\\.venv\\lib\\site-packages\\numpy\\lib\\_function_base_impl.py:3045: RuntimeWarning: invalid value encountered in divide\n",
      "  c /= stddev[:, None]\n",
      "c:\\Github\\ode-biomarker-project\\.venv\\lib\\site-packages\\numpy\\lib\\_function_base_impl.py:3046: RuntimeWarning: invalid value encountered in divide\n",
      "  c /= stddev[None, :]\n",
      "c:\\Github\\ode-biomarker-project\\.venv\\lib\\site-packages\\numpy\\lib\\_function_base_impl.py:3045: RuntimeWarning: invalid value encountered in divide\n",
      "  c /= stddev[:, None]\n",
      "c:\\Github\\ode-biomarker-project\\.venv\\lib\\site-packages\\numpy\\lib\\_function_base_impl.py:3046: RuntimeWarning: invalid value encountered in divide\n",
      "  c /= stddev[None, :]\n",
      "c:\\Github\\ode-biomarker-project\\.venv\\lib\\site-packages\\numpy\\lib\\_function_base_impl.py:3045: RuntimeWarning: invalid value encountered in divide\n",
      "  c /= stddev[:, None]\n",
      "c:\\Github\\ode-biomarker-project\\.venv\\lib\\site-packages\\numpy\\lib\\_function_base_impl.py:3046: RuntimeWarning: invalid value encountered in divide\n",
      "  c /= stddev[None, :]\n",
      "c:\\Github\\ode-biomarker-project\\.venv\\lib\\site-packages\\numpy\\lib\\_function_base_impl.py:3045: RuntimeWarning: invalid value encountered in divide\n",
      "  c /= stddev[:, None]\n",
      "c:\\Github\\ode-biomarker-project\\.venv\\lib\\site-packages\\numpy\\lib\\_function_base_impl.py:3046: RuntimeWarning: invalid value encountered in divide\n",
      "  c /= stddev[None, :]\n",
      "c:\\Github\\ode-biomarker-project\\.venv\\lib\\site-packages\\numpy\\lib\\_function_base_impl.py:3045: RuntimeWarning: invalid value encountered in divide\n",
      "  c /= stddev[:, None]\n",
      "c:\\Github\\ode-biomarker-project\\.venv\\lib\\site-packages\\numpy\\lib\\_function_base_impl.py:3046: RuntimeWarning: invalid value encountered in divide\n",
      "  c /= stddev[None, :]\n",
      "c:\\Github\\ode-biomarker-project\\.venv\\lib\\site-packages\\numpy\\lib\\_function_base_impl.py:3045: RuntimeWarning: invalid value encountered in divide\n",
      "  c /= stddev[:, None]\n",
      "c:\\Github\\ode-biomarker-project\\.venv\\lib\\site-packages\\numpy\\lib\\_function_base_impl.py:3046: RuntimeWarning: invalid value encountered in divide\n",
      "  c /= stddev[None, :]\n",
      "c:\\Github\\ode-biomarker-project\\.venv\\lib\\site-packages\\numpy\\lib\\_function_base_impl.py:3045: RuntimeWarning: invalid value encountered in divide\n",
      "  c /= stddev[:, None]\n",
      "c:\\Github\\ode-biomarker-project\\.venv\\lib\\site-packages\\numpy\\lib\\_function_base_impl.py:3046: RuntimeWarning: invalid value encountered in divide\n",
      "  c /= stddev[None, :]\n"
     ]
    },
    {
     "name": "stdout",
     "output_type": "stream",
     "text": [
      "k=10, iteration 3: 18.6270s\n"
     ]
    },
    {
     "name": "stderr",
     "output_type": "stream",
     "text": [
      "c:\\Github\\ode-biomarker-project\\.venv\\lib\\site-packages\\numpy\\lib\\_function_base_impl.py:3045: RuntimeWarning: invalid value encountered in divide\n",
      "  c /= stddev[:, None]\n",
      "c:\\Github\\ode-biomarker-project\\.venv\\lib\\site-packages\\numpy\\lib\\_function_base_impl.py:3046: RuntimeWarning: invalid value encountered in divide\n",
      "  c /= stddev[None, :]\n",
      "c:\\Github\\ode-biomarker-project\\.venv\\lib\\site-packages\\numpy\\lib\\_function_base_impl.py:3045: RuntimeWarning: invalid value encountered in divide\n",
      "  c /= stddev[:, None]\n",
      "c:\\Github\\ode-biomarker-project\\.venv\\lib\\site-packages\\numpy\\lib\\_function_base_impl.py:3046: RuntimeWarning: invalid value encountered in divide\n",
      "  c /= stddev[None, :]\n",
      "c:\\Github\\ode-biomarker-project\\.venv\\lib\\site-packages\\numpy\\lib\\_function_base_impl.py:3045: RuntimeWarning: invalid value encountered in divide\n",
      "  c /= stddev[:, None]\n",
      "c:\\Github\\ode-biomarker-project\\.venv\\lib\\site-packages\\numpy\\lib\\_function_base_impl.py:3046: RuntimeWarning: invalid value encountered in divide\n",
      "  c /= stddev[None, :]\n",
      "c:\\Github\\ode-biomarker-project\\.venv\\lib\\site-packages\\numpy\\lib\\_function_base_impl.py:3045: RuntimeWarning: invalid value encountered in divide\n",
      "  c /= stddev[:, None]\n",
      "c:\\Github\\ode-biomarker-project\\.venv\\lib\\site-packages\\numpy\\lib\\_function_base_impl.py:3046: RuntimeWarning: invalid value encountered in divide\n",
      "  c /= stddev[None, :]\n",
      "c:\\Github\\ode-biomarker-project\\.venv\\lib\\site-packages\\numpy\\lib\\_function_base_impl.py:3045: RuntimeWarning: invalid value encountered in divide\n",
      "  c /= stddev[:, None]\n",
      "c:\\Github\\ode-biomarker-project\\.venv\\lib\\site-packages\\numpy\\lib\\_function_base_impl.py:3046: RuntimeWarning: invalid value encountered in divide\n",
      "  c /= stddev[None, :]\n",
      "c:\\Github\\ode-biomarker-project\\.venv\\lib\\site-packages\\numpy\\lib\\_function_base_impl.py:3045: RuntimeWarning: invalid value encountered in divide\n",
      "  c /= stddev[:, None]\n",
      "c:\\Github\\ode-biomarker-project\\.venv\\lib\\site-packages\\numpy\\lib\\_function_base_impl.py:3046: RuntimeWarning: invalid value encountered in divide\n",
      "  c /= stddev[None, :]\n",
      "c:\\Github\\ode-biomarker-project\\.venv\\lib\\site-packages\\numpy\\lib\\_function_base_impl.py:3045: RuntimeWarning: invalid value encountered in divide\n",
      "  c /= stddev[:, None]\n",
      "c:\\Github\\ode-biomarker-project\\.venv\\lib\\site-packages\\numpy\\lib\\_function_base_impl.py:3046: RuntimeWarning: invalid value encountered in divide\n",
      "  c /= stddev[None, :]\n",
      "c:\\Github\\ode-biomarker-project\\.venv\\lib\\site-packages\\numpy\\lib\\_function_base_impl.py:3045: RuntimeWarning: invalid value encountered in divide\n",
      "  c /= stddev[:, None]\n",
      "c:\\Github\\ode-biomarker-project\\.venv\\lib\\site-packages\\numpy\\lib\\_function_base_impl.py:3046: RuntimeWarning: invalid value encountered in divide\n",
      "  c /= stddev[None, :]\n",
      "c:\\Github\\ode-biomarker-project\\.venv\\lib\\site-packages\\numpy\\lib\\_function_base_impl.py:3045: RuntimeWarning: invalid value encountered in divide\n",
      "  c /= stddev[:, None]\n",
      "c:\\Github\\ode-biomarker-project\\.venv\\lib\\site-packages\\numpy\\lib\\_function_base_impl.py:3046: RuntimeWarning: invalid value encountered in divide\n",
      "  c /= stddev[None, :]\n"
     ]
    },
    {
     "name": "stdout",
     "output_type": "stream",
     "text": [
      "k=10, iteration 4: 13.0197s\n"
     ]
    },
    {
     "name": "stderr",
     "output_type": "stream",
     "text": [
      "c:\\Github\\ode-biomarker-project\\.venv\\lib\\site-packages\\numpy\\lib\\_function_base_impl.py:3045: RuntimeWarning: invalid value encountered in divide\n",
      "  c /= stddev[:, None]\n",
      "c:\\Github\\ode-biomarker-project\\.venv\\lib\\site-packages\\numpy\\lib\\_function_base_impl.py:3046: RuntimeWarning: invalid value encountered in divide\n",
      "  c /= stddev[None, :]\n",
      "c:\\Github\\ode-biomarker-project\\.venv\\lib\\site-packages\\numpy\\lib\\_function_base_impl.py:3045: RuntimeWarning: invalid value encountered in divide\n",
      "  c /= stddev[:, None]\n",
      "c:\\Github\\ode-biomarker-project\\.venv\\lib\\site-packages\\numpy\\lib\\_function_base_impl.py:3046: RuntimeWarning: invalid value encountered in divide\n",
      "  c /= stddev[None, :]\n",
      "c:\\Github\\ode-biomarker-project\\.venv\\lib\\site-packages\\numpy\\lib\\_function_base_impl.py:3045: RuntimeWarning: invalid value encountered in divide\n",
      "  c /= stddev[:, None]\n",
      "c:\\Github\\ode-biomarker-project\\.venv\\lib\\site-packages\\numpy\\lib\\_function_base_impl.py:3046: RuntimeWarning: invalid value encountered in divide\n",
      "  c /= stddev[None, :]\n",
      "c:\\Github\\ode-biomarker-project\\.venv\\lib\\site-packages\\numpy\\lib\\_function_base_impl.py:3045: RuntimeWarning: invalid value encountered in divide\n",
      "  c /= stddev[:, None]\n",
      "c:\\Github\\ode-biomarker-project\\.venv\\lib\\site-packages\\numpy\\lib\\_function_base_impl.py:3046: RuntimeWarning: invalid value encountered in divide\n",
      "  c /= stddev[None, :]\n",
      "c:\\Github\\ode-biomarker-project\\.venv\\lib\\site-packages\\numpy\\lib\\_function_base_impl.py:3045: RuntimeWarning: invalid value encountered in divide\n",
      "  c /= stddev[:, None]\n",
      "c:\\Github\\ode-biomarker-project\\.venv\\lib\\site-packages\\numpy\\lib\\_function_base_impl.py:3046: RuntimeWarning: invalid value encountered in divide\n",
      "  c /= stddev[None, :]\n",
      "c:\\Github\\ode-biomarker-project\\.venv\\lib\\site-packages\\numpy\\lib\\_function_base_impl.py:3045: RuntimeWarning: invalid value encountered in divide\n",
      "  c /= stddev[:, None]\n",
      "c:\\Github\\ode-biomarker-project\\.venv\\lib\\site-packages\\numpy\\lib\\_function_base_impl.py:3046: RuntimeWarning: invalid value encountered in divide\n",
      "  c /= stddev[None, :]\n",
      "c:\\Github\\ode-biomarker-project\\.venv\\lib\\site-packages\\numpy\\lib\\_function_base_impl.py:3045: RuntimeWarning: invalid value encountered in divide\n",
      "  c /= stddev[:, None]\n",
      "c:\\Github\\ode-biomarker-project\\.venv\\lib\\site-packages\\numpy\\lib\\_function_base_impl.py:3046: RuntimeWarning: invalid value encountered in divide\n",
      "  c /= stddev[None, :]\n",
      "c:\\Github\\ode-biomarker-project\\.venv\\lib\\site-packages\\numpy\\lib\\_function_base_impl.py:3045: RuntimeWarning: invalid value encountered in divide\n",
      "  c /= stddev[:, None]\n",
      "c:\\Github\\ode-biomarker-project\\.venv\\lib\\site-packages\\numpy\\lib\\_function_base_impl.py:3046: RuntimeWarning: invalid value encountered in divide\n",
      "  c /= stddev[None, :]\n",
      "c:\\Github\\ode-biomarker-project\\.venv\\lib\\site-packages\\numpy\\lib\\_function_base_impl.py:3045: RuntimeWarning: invalid value encountered in divide\n",
      "  c /= stddev[:, None]\n",
      "c:\\Github\\ode-biomarker-project\\.venv\\lib\\site-packages\\numpy\\lib\\_function_base_impl.py:3046: RuntimeWarning: invalid value encountered in divide\n",
      "  c /= stddev[None, :]\n"
     ]
    },
    {
     "name": "stdout",
     "output_type": "stream",
     "text": [
      "k=10, iteration 5: 47.7658s\n",
      "k=10: Mean time = 22.3007s ± 12.8576s\n"
     ]
    }
   ],
   "source": [
    "# Run MRMR timing test\n",
    "print(\"Starting isolated MRMR timing test...\")\n",
    "mrmr_timing_df = time_mrmr_selection(\n",
    "    feature_subset, label_data, k_values_to_test, n_iterations\n",
    ")"
   ]
  },
  {
   "cell_type": "code",
   "execution_count": 22,
   "id": "b86b739a",
   "metadata": {},
   "outputs": [
    {
     "name": "stdout",
     "output_type": "stream",
     "text": [
      "\n",
      "MRMR Timing Results:\n",
      "   k_value  mean_time  std_time  min_time  max_time  n_features_selected\n",
      "0        1     0.2436    0.0527    0.1578    0.3153                    1\n",
      "1        2     1.7669    0.3526    1.3682    2.3959                    2\n",
      "2        3     3.4195    0.3318    2.9986    3.9318                    3\n",
      "3        4     4.5442    0.3411    4.0346    5.0960                    4\n",
      "4        5     6.9603    1.5231    5.7117    9.7824                    5\n",
      "5        6     7.7335    0.6398    7.1585    8.9217                    6\n",
      "6        7     8.7580    0.6014    8.0719    9.6873                    7\n",
      "7        8    12.4250    1.3475   11.0480   14.8483                    8\n",
      "8        9    15.7487    0.8413   14.4713   16.9613                    9\n",
      "9       10    22.3007   12.8576   13.0197   47.7658                   10\n"
     ]
    }
   ],
   "source": [
    "# Display results\n",
    "print(\"\\nMRMR Timing Results:\")\n",
    "print(mrmr_timing_df.round(4))"
   ]
  },
  {
   "cell_type": "code",
   "execution_count": null,
   "id": "b61ebf2f",
   "metadata": {},
   "outputs": [],
   "source": []
  },
  {
   "cell_type": "code",
   "execution_count": 24,
   "id": "9e3030be",
   "metadata": {},
   "outputs": [
    {
     "data": {
      "image/png": "[encoded data removed]",
      "text/plain": [
       "<Figure size 1000x600 with 1 Axes>"
      ]
     },
     "metadata": {},
     "output_type": "display_data"
    }
   ],
   "source": [
    "# Plot timing vs k-value\n",
    "import matplotlib.pyplot as plt\n",
    "\n",
    "plt.figure(figsize=(10, 6))\n",
    "plt.errorbar(\n",
    "    mrmr_timing_df[\"k_value\"],\n",
    "    mrmr_timing_df[\"mean_time\"],\n",
    "    yerr=mrmr_timing_df[\"std_time\"],\n",
    "    fmt=\"o-\",\n",
    "    capsize=5,\n",
    ")\n",
    "plt.title(\"MRMR Feature Selection Time vs Number of Features\")\n",
    "plt.xlabel(\"Number of Features Selected (k)\")\n",
    "plt.ylabel(\"Time (seconds)\")\n",
    "plt.grid(True, alpha=0.3)\n",
    "plt.tight_layout()\n",
    "plt.show()"
   ]
  },
  {
   "cell_type": "code",
   "execution_count": 25,
   "id": "a451a892",
   "metadata": {},
   "outputs": [
    {
     "name": "stdout",
     "output_type": "stream",
     "text": [
      "Quadratic fit R²: 0.9731\n",
      "Linear fit R²: 0.9165\n"
     ]
    },
    {
     "data": {
      "image/png": "[encoded data removed]",
      "text/plain": [
       "<Figure size 1000x600 with 1 Axes>"
      ]
     },
     "metadata": {},
     "output_type": "display_data"
    }
   ],
   "source": [
    "# Analyze time complexity\n",
    "from scipy.optimize import curve_fit\n",
    "\n",
    "\n",
    "def quadratic_func(x, a, b, c):\n",
    "    return a * x**2 + b * x + c\n",
    "\n",
    "\n",
    "def linear_func(x, a, b):\n",
    "    return a * x + b\n",
    "\n",
    "\n",
    "# Fit different complexity models\n",
    "x_data = mrmr_timing_df[\"k_value\"]\n",
    "y_data = mrmr_timing_df[\"mean_time\"]\n",
    "\n",
    "try:\n",
    "    # Quadratic fit (O(n²) complexity)\n",
    "    popt_quad, _ = curve_fit(quadratic_func, x_data, y_data)\n",
    "    y_pred_quad = quadratic_func(x_data, *popt_quad)\n",
    "\n",
    "    # Linear fit (O(n) complexity)\n",
    "    popt_lin, _ = curve_fit(linear_func, x_data, y_data)\n",
    "    y_pred_lin = linear_func(x_data, *popt_lin)\n",
    "\n",
    "    # Calculate R² for both fits\n",
    "    ss_res_quad = np.sum((y_data - y_pred_quad) ** 2)\n",
    "    ss_tot_quad = np.sum((y_data - np.mean(y_data)) ** 2)\n",
    "    r2_quad = 1 - (ss_res_quad / ss_tot_quad)\n",
    "\n",
    "    ss_res_lin = np.sum((y_data - y_pred_lin) ** 2)\n",
    "    ss_tot_lin = np.sum((y_data - np.mean(y_data)) ** 2)\n",
    "    r2_lin = 1 - (ss_res_lin / ss_tot_lin)\n",
    "\n",
    "    print(f\"Quadratic fit R²: {r2_quad:.4f}\")\n",
    "    print(f\"Linear fit R²: {r2_lin:.4f}\")\n",
    "\n",
    "    # Plot fits\n",
    "    plt.figure(figsize=(10, 6))\n",
    "    plt.plot(x_data, y_data, \"bo-\", label=\"Actual Data\")\n",
    "    plt.plot(x_data, y_pred_quad, \"r--\", label=f\"Quadratic Fit (R²={r2_quad:.3f})\")\n",
    "    plt.plot(x_data, y_pred_lin, \"g--\", label=f\"Linear Fit (R²={r2_lin:.3f})\")\n",
    "    plt.title(\"MRMR Time Complexity Analysis\")\n",
    "    plt.xlabel(\"Number of Features Selected (k)\")\n",
    "    plt.ylabel(\"Time (seconds)\")\n",
    "    plt.legend()\n",
    "    plt.grid(True, alpha=0.3)\n",
    "    plt.tight_layout()\n",
    "    plt.show()\n",
    "\n",
    "except Exception as e:\n",
    "    print(f\"Complexity analysis failed: {e}\")"
   ]
  },
  {
   "cell_type": "code",
   "execution_count": null,
   "id": "533f69c4",
   "metadata": {},
   "outputs": [],
   "source": [
    "# Save MRMR timing results\n",
    "mrmr_timing_df.to_csv(f\"{file_save_path}mrmr_timing_test_{exp_id}.csv\")\n",
    "print(f\"MRMR timing results saved to: {file_save_path}mrmr_timing_test_{exp_id}.csv\")"
   ]
  },
  {
   "cell_type": "code",
   "execution_count": null,
   "id": "998daf17",
   "metadata": {},
   "outputs": [],
   "source": []
  },
  {
   "cell_type": "code",
   "execution_count": 11,
   "id": "034e9c4d",
   "metadata": {},
   "outputs": [
    {
     "name": "stdout",
     "output_type": "stream",
     "text": [
      "Benchmarking 3 methods across 8 feature sizes and 3 models\n",
      "Total conditions: 72\n",
      "Methods: ANOVA-filter, MRMR, and Mutual Information\n"
     ]
    }
   ],
   "source": [
    "# Setup experiment parameters - using only the three requested methods\n",
    "feature_set_sizes = [10, 20, 40, 80, 160, 320, 640, 1280]\n",
    "models = [\"KNeighborsRegressor\", \"LinearRegression\", \"SVR\"]\n",
    "\n",
    "# Define only the three feature selection methods you requested\n",
    "feature_selection_methods = {\n",
    "    \"anova_filter\": f_regression_select,        # Renamed as ANOVA-filter\n",
    "    \"mrmr\": mrmr_select_fcq,                    # MRMR method [2]\n",
    "    \"mutual_info\": mutual_information_select    # Mutual Information method [2]\n",
    "}\n",
    "\n",
    "print(f\"Benchmarking {len(feature_selection_methods)} methods across {len(feature_set_sizes)} feature sizes and {len(models)} models\")\n",
    "print(f\"Total conditions: {len(feature_selection_methods) * len(feature_set_sizes) * len(models)}\")\n",
    "print(\"Methods: ANOVA-filter, MRMR, and Mutual Information\")"
   ]
  },
  {
   "cell_type": "code",
   "execution_count": null,
   "id": "2f7398a0",
   "metadata": {},
   "outputs": [],
   "source": [
    "from toolkit import Powerkit\n",
    "import numpy as np\n",
    "import time #noqa: F811\n",
    "\n",
    "# Initialize Powerkit with proteomics data\n",
    "pk = Powerkit(feature_data, label_data)\n",
    "\n",
    "# Register all conditions (method × size × model combinations)\n",
    "rngs = np.random.RandomState(42).randint(0, 100000, size=1)  # 50 repeats for robustness\n",
    "\n",
    "start_time = time.time()\n",
    "\n",
    "for method_name, selection_method in feature_selection_methods.items():\n",
    "    for k in feature_set_sizes:\n",
    "        for model_name in models:\n",
    "            # Create condition name using the requested naming convention\n",
    "            condition = f\"{method_name}_k{k}_{model_name}\"\n",
    "            \n",
    "            # Create pipeline for this method and size\n",
    "            pipeline_func = create_feature_selection_pipeline(selection_method, k, method_name, model_name)\n",
    "            \n",
    "            # Add condition to Powerkit following the structure from previous notebook [1]\n",
    "            pk.add_condition(\n",
    "                condition=condition,\n",
    "                get_importance=True,\n",
    "                pipeline_function=pipeline_func,\n",
    "                pipeline_args={},\n",
    "                eval_function=feature_selection_eval,\n",
    "                eval_args={\"metric_primary\": \"r2\"}\n",
    "            )\n",
    "\n",
    "print(f\"Registered {len(pk.conditions)} conditions in {time.time() - start_time:.2f} seconds\")"
   ]
  },
  {
   "cell_type": "code",
   "execution_count": null,
   "id": "0ac9f107",
   "metadata": {},
   "outputs": [],
   "source": [
    "# Run all conditions using Powerkit's parallel processing [1]\n",
    "print(\"Starting feature selection benchmark (ANOVA-filter, MRMR, Mutual Information)...\")\n",
    "print(f\"Running with {len(rngs)} random seeds and -1 n_jobs for maximum parallelization\")\n",
    "\n",
    "benchmark_start = time.time()\n",
    "df_benchmark = pk.run_all_conditions(rng_list=rngs, n_jobs=-1, verbose=True)\n",
    "benchmark_time = time.time() - benchmark_start\n",
    "\n",
    "print(f\"Benchmark completed in {benchmark_time:.2f} seconds\")\n",
    "print(f\"Results shape: {df_benchmark.shape}\")"
   ]
  },
  {
   "cell_type": "code",
   "execution_count": null,
   "id": "c8808bcf",
   "metadata": {},
   "outputs": [],
   "source": [
    "# Extract k value and model name from condition for easier analysis\n",
    "df_benchmark[\"k_value\"] = df_benchmark[\"condition\"].str.extract(r'k(\\d+)').astype(int)\n",
    "df_benchmark[\"method\"] = df_benchmark[\"condition\"].str.split('_').str[0]\n",
    "df_benchmark[\"model_name\"] = df_benchmark[\"condition\"].str.split('_').str[2]\n",
    "\n",
    "print(\"Condition breakdown:\")\n",
    "print(df_benchmark[[\"condition\", \"method\", \"k_value\", \"model_name\"]].head(10))"
   ]
  },
  {
   "cell_type": "code",
   "execution_count": null,
   "id": "854f0990",
   "metadata": {},
   "outputs": [],
   "source": [
    "# Save initial results\n",
    "df_benchmark.to_pickle(f\"{file_save_path}feature_selection_benchmark_{exp_id}.pkl\")\n",
    "print(f\"Initial results saved to: {file_save_path}feature_selection_benchmark_{exp_id}.pkl\")"
   ]
  },
  {
   "cell_type": "code",
   "execution_count": null,
   "id": "3eea6729",
   "metadata": {},
   "outputs": [],
   "source": [
    "# Quick summary of results\n",
    "print(\"Benchmark Summary:\")\n",
    "print(f\"Total runs: {len(df_benchmark)}\")\n",
    "print(f\"Unique conditions: {df_benchmark['condition'].nunique()}\")\n",
    "print(f\"Performance range (R²): {df_benchmark['model_performance'].min():.4f} to {df_benchmark['model_performance'].max():.4f}\")\n",
    "\n",
    "# Show performance by method (using the three requested methods)\n",
    "method_summary = df_benchmark.groupby(\"method\")[\"model_performance\"].agg([\"mean\", \"std\", \"count\"])\n",
    "print(\"\\nPerformance by method (ANOVA-filter, MRMR, Mutual Information):\")\n",
    "print(method_summary.round(4))"
   ]
  },
  {
   "cell_type": "markdown",
   "id": "9c8cdb08",
   "metadata": {},
   "source": [
    "## Results and Visualisation"
   ]
  },
  {
   "cell_type": "markdown",
   "id": "14c1fff9",
   "metadata": {},
   "source": [
    "### Heatmaps"
   ]
  }
 ],
 "metadata": {
  "jupytext": {
   "cell_metadata_filter": "-all",
   "formats": "ipynb,py:percent"
  },
  "kernelspec": {
   "display_name": "ode-biomarker-project",
   "language": "python",
   "name": "python3"
  },
  "language_info": {
   "codemirror_mode": {
    "name": "ipython",
    "version": 3
   },
   "file_extension": ".py",
   "mimetype": "text/x-python",
   "name": "python",
   "nbconvert_exporter": "python",
   "pygments_lexer": "ipython3",
   "version": "3.10.17"
  }
 },
 "nbformat": 4,
 "nbformat_minor": 5
}
