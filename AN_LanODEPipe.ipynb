{
 "cells": [
  {
   "cell_type": "code",
   "execution_count": 1,
   "metadata": {},
   "outputs": [],
   "source": [
    "### Import dynamic simulations \n",
    "from PathLoader import PathLoader\n",
    "from DataLink import DataLink \n",
    "path_loader = PathLoader('data_config.env', 'current_user.env')\n",
    "TheLink = DataLink(path_loader, 'data_codes.csv')"
   ]
  },
  {
   "cell_type": "markdown",
   "metadata": {},
   "source": [
    "### Plot a specific specie in a specifc cell line"
   ]
  },
  {
   "cell_type": "code",
   "execution_count": null,
   "metadata": {},
   "outputs": [],
   "source": [
    "dynamic_data = TheLink.get_data_from_code('dynamic_simulation_data_all', verbose=True)\n",
    "\n",
    "# function to select cellline from dynamic data \n",
    "\n",
    "cellline = 'ACH-001113'\n",
    "\n",
    "specie = 'INSR'\n",
    "\n",
    "\n",
    "selected_data = dynamic_data[dynamic_data['Cellline'] == cellline]\n",
    "\n",
    "selected_data.head()"
   ]
  },
  {
   "cell_type": "code",
   "execution_count": null,
   "metadata": {},
   "outputs": [],
   "source": [
    "specie_data = selected_data[specie]\n",
    "print(specie_data.shape, type(specie_data))\n",
    "specie_data.head()"
   ]
  },
  {
   "cell_type": "code",
   "execution_count": null,
   "metadata": {},
   "outputs": [],
   "source": [
    "# plot the data\n",
    "\n",
    "import matplotlib.pyplot as plt\n",
    "\n",
    "plt.plot(specie_data)\n",
    "plt.show()"
   ]
  },
  {
   "cell_type": "markdown",
   "metadata": {},
   "source": [
    "### Plot all cell lines for one specie"
   ]
  },
  {
   "cell_type": "code",
   "execution_count": null,
   "metadata": {},
   "outputs": [],
   "source": [
    "# selecting dynamic simulations for one protein specie across all cell lines\n",
    "\n",
    "specie = 'IRS'\n",
    "\n",
    "selected_data = dynamic_data[['Cellline', 'Time', specie]]"
   ]
  },
  {
   "cell_type": "code",
   "execution_count": null,
   "metadata": {},
   "outputs": [],
   "source": [
    "selected_data.shape"
   ]
  },
  {
   "cell_type": "code",
   "execution_count": null,
   "metadata": {},
   "outputs": [],
   "source": [
    "selected_data.head()"
   ]
  },
  {
   "cell_type": "code",
   "execution_count": null,
   "metadata": {},
   "outputs": [],
   "source": [
    "# transform the data to have time as columns and cell lines as rows\n",
    "\n",
    "pivoted_data = selected_data.pivot(index='Cellline', columns='Time', values=specie)"
   ]
  },
  {
   "cell_type": "code",
   "execution_count": null,
   "metadata": {},
   "outputs": [],
   "source": [
    "pivoted_data.head(10)"
   ]
  },
  {
   "cell_type": "code",
   "execution_count": null,
   "metadata": {},
   "outputs": [],
   "source": [
    "import matplotlib.pyplot as plt\n",
    "\n",
    "# plot every cell line\n",
    "for cellline in pivoted_data.index:\n",
    "    plt.plot(pivoted_data.loc[cellline])\n",
    "    # label the plot\n",
    "    \n",
    "plt.legend(pivoted_data.index, bbox_to_anchor=(1.05, 1), loc='upper left')\n",
    "plt.show()\n"
   ]
  },
  {
   "cell_type": "markdown",
   "metadata": {},
   "source": [
    "### Select all species for one cell line"
   ]
  },
  {
   "cell_type": "code",
   "execution_count": null,
   "metadata": {},
   "outputs": [],
   "source": [
    "cellline = 'ACH-001113'\n",
    "selected_data = dynamic_data[dynamic_data['Cellline'] == cellline]"
   ]
  },
  {
   "cell_type": "code",
   "execution_count": null,
   "metadata": {},
   "outputs": [],
   "source": [
    "import matplotlib.pyplot as plt\n",
    "\n",
    "for specie in selected_data.columns[2:]:\n",
    "    plt.plot(selected_data['Time'], selected_data[specie])\n",
    "    \n",
    "# plt.legend(selected_data.columns[2:], bbox_to_anchor=(1.05, 1), loc='upper left')\n",
    "\n",
    "# show within y range of 0 to x, a visually useful range\n",
    "plt.ylim(0,500)\n",
    "plt.show()"
   ]
  },
  {
   "cell_type": "markdown",
   "metadata": {},
   "source": [
    "### Calculating Dynamic Simulations"
   ]
  },
  {
   "cell_type": "code",
   "execution_count": null,
   "metadata": {},
   "outputs": [],
   "source": [
    "import numpy as np \n",
    "import matplotlib.pyplot as plt\n",
    "\n",
    "## calculating AUC for a specific specie and cell line\n",
    "\n",
    "specie = 'IRS'\n",
    "cellline = 'ACH-001113'\n",
    "\n",
    "selected_data = dynamic_data[dynamic_data['Cellline'] == cellline]\n",
    "specie_data = selected_data[specie]\n",
    "\n",
    "# plot the data\n",
    "\n",
    "plt.plot(specie_data)\n",
    "plt.show()\n",
    "\n",
    "# calculate AUC\n",
    "\n",
    "auc = np.trapz(specie_data, dx=1)\n",
    "\n",
    "print('AUC:',auc)\n",
    "\n",
    "# obtain the max value of the specie\n",
    "\n",
    "max_value = specie_data.max()\n",
    "\n",
    "print('Max:',max_value)\n",
    "\n",
    "# obtain the time at which the max value occurs\n",
    "\n",
    "max_time = specie_data.idxmax()\n",
    "\n",
    "print('Max time:',max_time)\n",
    "\n",
    "# obtain the min value of the specie\n",
    "\n",
    "min_value = specie_data.min()\n",
    "\n",
    "print('Min:',min_value)\n",
    "\n",
    "# obtain the time at which the min value occurs\n",
    "\n",
    "min_time = specie_data.idxmin()\n",
    "\n",
    "print('Min time:',min_time)\n",
    "\n",
    "# mean value of the specie\n",
    "\n",
    "mean_value = specie_data.mean()\n",
    "\n",
    "print('Mean:',mean_value)\n",
    "\n",
    "# median value of the specie\n",
    "\n",
    "median_value = specie_data.median()\n",
    "\n",
    "print('Median:',median_value)\n",
    "\n",
    "\n",
    "# total fold change (TFC) from 0 to end \n",
    "\n",
    "start = specie_data.iloc[0]\n",
    "end = specie_data.iloc[-1]\n",
    "\n",
    "# print('Start:',start)\n",
    "# print('End:',end)\n",
    "\n",
    "tfc = (end - start) / start\n",
    "\n",
    "print('Total Fold Change:',tfc)\n",
    "\n",
    "# time to stable value (TSV), a time point t where the value of the specie no longer changes more than 0.01 for all t' > t\n",
    "\n",
    "tsv = specie_data.shape[0]\n",
    "change_abs_tolerance = 0.01\n",
    "difference = specie_data.diff()\n",
    "\n",
    "while tsv > 0:\n",
    "    if abs(difference.iloc[tsv-1]) < change_abs_tolerance:\n",
    "        tsv = tsv - 1\n",
    "    else:\n",
    "        break\n",
    "\n",
    "print('Time to stable value:',tsv)\n"
   ]
  },
  {
   "cell_type": "code",
   "execution_count": null,
   "metadata": {},
   "outputs": [],
   "source": [
    "# normalise all time based values and AUC to the maximum simulation time\n",
    "\n",
    "max_sim_time = specie_data.shape[0]\n",
    "\n",
    "n_auc = auc / max_sim_time\n",
    "n_max_time = max_time / max_sim_time\n",
    "n_min_time = min_time / max_sim_time\n",
    "n_tsv = tsv / max_sim_time\n",
    "\n",
    "print('Normalised AUC:',n_auc)\n",
    "print('Normalised max time:',n_max_time)\n",
    "print('Normalised min time:',n_min_time)\n",
    "print('Normalised TSV:',n_tsv)\n"
   ]
  },
  {
   "cell_type": "code",
   "execution_count": null,
   "metadata": {},
   "outputs": [],
   "source": [
    "### iterate through all cell lines and species and calculate all dynamic simulation features, return a dataframe\n",
    "\n",
    "import numpy as np\n",
    "import pandas as pd\n",
    "\n",
    "# function to calculate dynamic simulation features for a specie and cell line\n",
    "\n",
    "def calculate_dynamic_simulation_features(specie, cellline, dynamic_data, normalise_time_based_values=True):\n",
    "    selected_data = dynamic_data[dynamic_data['Cellline'] == cellline]\n",
    "    specie_data = selected_data[specie]\n",
    "    # reset index to start from 0\n",
    "    specie_data = specie_data.reset_index(drop=True)\n",
    "    \n",
    "    # calculate AUC\n",
    "    auc = np.trapz(specie_data, dx=1)\n",
    "    \n",
    "    # obtain the max value of the specie\n",
    "    max_value = specie_data.max()\n",
    "    \n",
    "    # obtain the time at which the max value occurs\n",
    "    max_time = specie_data.idxmax()\n",
    "    \n",
    "    # obtain the min value of the specie\n",
    "    min_value = specie_data.min()\n",
    "    \n",
    "    # obtain the time at which the min value occurs\n",
    "    min_time = specie_data.idxmin()\n",
    "    \n",
    "    # mean value of the specie\n",
    "    mean_value = specie_data.mean()\n",
    "    \n",
    "    # median value of the specie\n",
    "    median_value = specie_data.median()\n",
    "    \n",
    "    # total fold change (TFC) from 0 to end \n",
    "    start = specie_data.iloc[0]\n",
    "    end = specie_data.iloc[-1]\n",
    "    tfc = (end - start) / start\n",
    "    \n",
    "    # time to stable value (TSV), a time point t where the value of the specie no longer changes more than 0.01 for all t' > t\n",
    "    tsv = specie_data.shape[0]\n",
    "    change_abs_tolerance = 0.01\n",
    "    difference = specie_data.diff()\n",
    "    while tsv > 0:\n",
    "        if abs(difference.iloc[tsv-1]) < change_abs_tolerance:\n",
    "            tsv = tsv - 1\n",
    "        else:\n",
    "            break\n",
    "    \n",
    "    # normalise all time based values and AUC to the maximum simulation time\n",
    "    max_sim_time = specie_data.shape[0]\n",
    "    n_auc = auc / max_sim_time\n",
    "    n_max_time = max_time / max_sim_time\n",
    "    n_min_time = min_time / max_sim_time\n",
    "    n_tsv = tsv / max_sim_time\n",
    "    \n",
    "    if normalise_time_based_values:\n",
    "        return [n_auc, max_value, n_max_time, min_value, n_min_time, mean_value, median_value, tfc, n_tsv]\n",
    "    \n",
    "    return [auc, max_value, max_time, min_value, min_time, mean_value, median_value, tfc, tsv]\n",
    "\n",
    "all_species = dynamic_data.columns[2:]\n",
    "all_celllines = dynamic_data['Cellline'].unique()\n",
    "\n",
    "new_dataset = []\n",
    "\n",
    "for c in all_celllines:\n",
    "    cellline_dynamic_features = []\n",
    "    for s in all_species:\n",
    "        cellline_dynamic_features.extend(calculate_dynamic_simulation_features(s, c, dynamic_data))\n",
    "    new_dataset.append(cellline_dynamic_features)\n",
    "    \n",
    "\n",
    "dynamic_feature_label = ['auc', 'max', 'max_time', 'min', 'min_time', 'mean', 'median', 'tfc', 'tsv']    \n",
    "new_df = pd.DataFrame(new_dataset, columns=[s + '_' + dynamic_feature for s in all_species for dynamic_feature in dynamic_feature_label], index=all_celllines)\n",
    "new_df.head()\n"
   ]
  },
  {
   "cell_type": "markdown",
   "metadata": {},
   "source": [
    "## Visualisation of processed dynamic features vs. original features "
   ]
  },
  {
   "cell_type": "code",
   "execution_count": null,
   "metadata": {},
   "outputs": [],
   "source": [
    "dynamic_data = TheLink.get_data_from_code('dynamic_features')\n",
    "ccle_data = TheLink.get_data_from_code('ccle')"
   ]
  },
  {
   "cell_type": "markdown",
   "metadata": {},
   "source": [
    "### Automatic Plot Generation "
   ]
  },
  {
   "cell_type": "code",
   "execution_count": null,
   "metadata": {},
   "outputs": [],
   "source": [
    "import matplotlib.pyplot as plt\n",
    "import os \n",
    "\n",
    "match_rules_file = TheLink.get_data_from_code('integrate_ccle_anthony')\n",
    "match_rules_files_dropna = match_rules_file.dropna(subset=['CCLE reference'])\n",
    "\n",
    "dynamic_feature_label = ['auc', 'max', 'max_time', 'min', 'min_time', 'mean', 'median', 'tfc', 'tsv']    \n",
    "\n",
    "folder_name = 'dynamic_features_ccle_plots'\n",
    "\n",
    "if not os.path.exists(f'{path_loader.get_data_path()}data/results/{folder_name}'):\n",
    "    os.makedirs(f'{path_loader.get_data_path()}data/results/{folder_name}')\n",
    "\n",
    "file_save_path = f'{path_loader.get_data_path()}data/results/{folder_name}/'\n",
    "\n",
    "species_ccle_matches = {}\n",
    "for i in range(len(match_rules_files_dropna)):\n",
    "    row = match_rules_files_dropna.iloc[i]  \n",
    "    specie_name = row['Protein Name']\n",
    "    ccle_matches = row['CCLE reference']\n",
    "    ccle_matches = ccle_matches.split(';')\n",
    "    species_ccle_matches[specie_name] = ccle_matches\n",
    "    \n",
    "\n",
    "for s in species_ccle_matches:\n",
    "    dynamic_specie = s \n",
    "    gene_list = species_ccle_matches[s]\n",
    "    dynamic_features = dynamic_data[[dynamic_specie + '_' + dynamic_feature for dynamic_feature in dynamic_feature_label]]\n",
    "\n",
    "    # plot all dynamic features against gene expression as a multi-panel plot\n",
    "\n",
    "    fig, axes = plt.subplots(3, 3, figsize=(15, 15))\n",
    "\n",
    "    for i, dynamic_feature in enumerate(dynamic_feature_label):\n",
    "        ax = axes.flatten()[i]\n",
    "        for gene in gene_list:\n",
    "            gene_expression = ccle_data[gene]\n",
    "            ax.scatter(gene_expression, dynamic_features[dynamic_specie + '_' + dynamic_feature], alpha=0.5, s=10)\n",
    "        ax.legend(gene_list, loc='upper left')\n",
    "        # change the x and y axis labels size\n",
    "        ax.tick_params(axis='both', which='major', labelsize=12)\n",
    "        ax.set_xlabel('Gene expression', fontsize=15)\n",
    "        ax.set_ylabel(dynamic_feature, fontsize=15)\n",
    "\n",
    "    plt.suptitle(\n",
    "        f'{dynamic_specie} dynamic features vs gene expression of {gene_list}', fontsize=20)\n",
    "    plt.tight_layout()\n",
    "    plt.savefig(f'{file_save_path}{dynamic_specie}_dynamic_features_vs_gene_expression.png')    \n",
    "    # do not show the plot\n",
    "    plt.close()\n",
    "\n"
   ]
  },
  {
   "cell_type": "markdown",
   "metadata": {},
   "source": [
    "### Visualising One Specie vs two genes"
   ]
  },
  {
   "cell_type": "code",
   "execution_count": null,
   "metadata": {},
   "outputs": [],
   "source": [
    "dynamic_specie = 'CDK46'\n",
    "ccle_gene = 'CDK6'\n",
    "ccle_gene_2 = 'CDK4'"
   ]
  },
  {
   "cell_type": "code",
   "execution_count": null,
   "metadata": {},
   "outputs": [],
   "source": [
    "gene_expression = ccle_data[ccle_gene]\n",
    "gene_expression_2 = ccle_data[ccle_gene_2]\n",
    "dynamic_feature_label = ['auc', 'max', 'max_time', 'min', 'min_time', 'mean', 'median', 'tfc', 'tsv']    \n",
    "\n",
    "# extract dynamic features for a specie\n",
    "dynamic_features = dynamic_data[[dynamic_specie + '_' + dynamic_feature for dynamic_feature in dynamic_feature_label]]\n"
   ]
  },
  {
   "cell_type": "code",
   "execution_count": null,
   "metadata": {},
   "outputs": [],
   "source": [
    "dynamic_features.head()"
   ]
  },
  {
   "cell_type": "code",
   "execution_count": null,
   "metadata": {},
   "outputs": [],
   "source": [
    "# plot all dynamic features against gene expression as a multi-panel plot\n",
    "\n",
    "import matplotlib.pyplot as plt\n",
    "\n",
    "fig, axes = plt.subplots(3, 3, figsize=(15,15))\n",
    "\n",
    "for i, dynamic_feature in enumerate(dynamic_feature_label):\n",
    "    ax = axes.flatten()[i]\n",
    "    ax.scatter(gene_expression, dynamic_features[dynamic_specie + '_' + dynamic_feature], alpha=0.5, s=10)\n",
    "    ax.scatter(gene_expression_2, dynamic_features[dynamic_specie + '_' + dynamic_feature], alpha=0.5, s=10)\n",
    "    ax.legend([ccle_gene, ccle_gene_2], loc='upper left')\n",
    "    # change the x and y axis labels size\n",
    "    ax.tick_params(axis='both', which='major', labelsize=12)\n",
    "    ax.set_xlabel('Gene expression', fontsize=15)\n",
    "    ax.set_ylabel(dynamic_feature, fontsize=15)\n",
    "\n",
    "plt.suptitle(f'{dynamic_specie} dynamic features vs gene expression of {ccle_gene} and {ccle_gene_2}', fontsize=20)\n",
    "plt.tight_layout()\n",
    "plt.show()\n",
    "\n",
    "    \n"
   ]
  },
  {
   "cell_type": "markdown",
   "metadata": {},
   "source": [
    "### Visualising One Specie"
   ]
  },
  {
   "cell_type": "code",
   "execution_count": null,
   "metadata": {},
   "outputs": [],
   "source": [
    "dynamic_specie = 'CDK46'\n",
    "ccle_gene = 'CDK6'"
   ]
  },
  {
   "cell_type": "code",
   "execution_count": null,
   "metadata": {},
   "outputs": [],
   "source": [
    "gene_expression = ccle_data[ccle_gene]\n",
    "gene_expression_2 = ccle_data[ccle_gene_2]\n",
    "dynamic_feature_label = ['auc', 'max', 'max_time', 'min', 'min_time', 'mean', 'median', 'tfc', 'tsv']    \n",
    "\n",
    "# extract dynamic features for a specie\n",
    "dynamic_features = dynamic_data[[dynamic_specie + '_' + dynamic_feature for dynamic_feature in dynamic_feature_label]]\n"
   ]
  },
  {
   "cell_type": "code",
   "execution_count": null,
   "metadata": {},
   "outputs": [],
   "source": [
    "dynamic_features.head()"
   ]
  },
  {
   "cell_type": "code",
   "execution_count": null,
   "metadata": {},
   "outputs": [],
   "source": [
    "# plot all dynamic features against gene expression as a multi-panel plot\n",
    "\n",
    "import matplotlib.pyplot as plt\n",
    "\n",
    "fig, axes = plt.subplots(3, 3, figsize=(15,15))\n",
    "\n",
    "for i, dynamic_feature in enumerate(dynamic_feature_label):\n",
    "    ax = axes.flatten()[i]\n",
    "    ax.scatter(gene_expression, dynamic_features[dynamic_specie + '_' + dynamic_feature], alpha=0.5, s=10)\n",
    "    ax.legend([ccle_gene, ccle_gene_2], loc='upper left')\n",
    "    # change the x and y axis labels size\n",
    "    ax.tick_params(axis='both', which='major', labelsize=12)\n",
    "    ax.set_xlabel('Gene expression', fontsize=15)\n",
    "    ax.set_ylabel(dynamic_feature, fontsize=15)\n",
    "\n",
    "plt.suptitle(f'{dynamic_specie} dynamic features vs gene expression of {ccle_gene}', fontsize=20)\n",
    "plt.tight_layout()\n",
    "plt.show()\n",
    "\n",
    "    \n"
   ]
  },
  {
   "cell_type": "markdown",
   "metadata": {},
   "source": [
    "### Loading Dynamic Features and Labels"
   ]
  },
  {
   "cell_type": "code",
   "execution_count": 2,
   "metadata": {},
   "outputs": [],
   "source": [
    "feature_data, label_data = TheLink.get_data_using_code('anthony-ode-gdsc-2-Palbociclib-LN_IC50-default')"
   ]
  },
  {
   "cell_type": "markdown",
   "metadata": {},
   "source": [
    "## Variance and similarity of dynamic features\n",
    "\n",
    "against original features from ccle expression"
   ]
  },
  {
   "cell_type": "code",
   "execution_count": null,
   "metadata": {},
   "outputs": [],
   "source": []
  },
  {
   "cell_type": "markdown",
   "metadata": {},
   "source": [
    "### Random"
   ]
  },
  {
   "cell_type": "code",
   "execution_count": null,
   "metadata": {},
   "outputs": [],
   "source": [
    "ccle_sample_info = TheLink.get_data_from_code('ccle_sample_info')\n",
    "dynamic_data = TheLink.get_data_from_code('dynamic_features')\n",
    "ccle_data = TheLink.get_data_from_code('ccle')"
   ]
  },
  {
   "cell_type": "code",
   "execution_count": null,
   "metadata": {},
   "outputs": [],
   "source": [
    "depmap_to_sanger = ccle_sample_info[['DepMap_ID', 'Sanger_Model_ID']]\n",
    "depmap_to_sanger = depmap_to_sanger.dropna(subset=['Sanger_Model_ID'])\n",
    "    \n"
   ]
  },
  {
   "cell_type": "code",
   "execution_count": null,
   "metadata": {},
   "outputs": [],
   "source": [
    "# join dynamic features and depmap_to_sanger\n",
    "\n",
    "dynamic_features = dynamic_data.join(depmap_to_sanger.set_index('DepMap_ID'), on='Unnamed: 0')\n",
    "dynamic_features.head()"
   ]
  },
  {
   "cell_type": "code",
   "execution_count": null,
   "metadata": {},
   "outputs": [],
   "source": [
    "dynamic_features.drop(columns=['Unnamed: 0'], inplace=True)\n",
    "dynamic_features.head()"
   ]
  },
  {
   "cell_type": "code",
   "execution_count": null,
   "metadata": {},
   "outputs": [],
   "source": [
    "dynamic_features.set_index('Sanger_Model_ID', inplace=True)"
   ]
  },
  {
   "cell_type": "code",
   "execution_count": null,
   "metadata": {},
   "outputs": [],
   "source": [
    "dynamic_features.head()"
   ]
  },
  {
   "cell_type": "code",
   "execution_count": null,
   "metadata": {},
   "outputs": [],
   "source": [
    "gdsc = TheLink.get_data_from_code('gdsc2')"
   ]
  },
  {
   "cell_type": "code",
   "execution_count": null,
   "metadata": {},
   "outputs": [],
   "source": [
    "from DataFunctions import create_joint_dataset_from_proteome_gdsc, create_feature_and_label\n",
    "\n",
    "joint_dataset = create_joint_dataset_from_proteome_gdsc('Palbociclib', dynamic_features, gdsc)\n",
    "feature_data, label_data = create_feature_and_label(joint_dataset)"
   ]
  },
  {
   "cell_type": "code",
   "execution_count": null,
   "metadata": {},
   "outputs": [],
   "source": [
    "feature_data.head()"
   ]
  },
  {
   "cell_type": "code",
   "execution_count": null,
   "metadata": {},
   "outputs": [],
   "source": [
    "label_data.head()"
   ]
  },
  {
   "cell_type": "code",
   "execution_count": null,
   "metadata": {},
   "outputs": [],
   "source": [
    "feature_data.shape"
   ]
  }
 ],
 "metadata": {
  "kernelspec": {
   "display_name": "dynamic-marker",
   "language": "python",
   "name": "python3"
  },
  "language_info": {
   "codemirror_mode": {
    "name": "ipython",
    "version": 3
   },
   "file_extension": ".py",
   "mimetype": "text/x-python",
   "name": "python",
   "nbconvert_exporter": "python",
   "pygments_lexer": "ipython3",
   "version": "3.8.10"
  }
 },
 "nbformat": 4,
 "nbformat_minor": 2
}
