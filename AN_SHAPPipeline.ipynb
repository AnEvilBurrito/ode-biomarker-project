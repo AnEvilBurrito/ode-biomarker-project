{
 "cells": [
  {
   "cell_type": "code",
   "execution_count": 5,
   "metadata": {},
   "outputs": [],
   "source": [
    "import pickle \n",
    "\n",
    "from PathLoader import PathLoader\n",
    "\n",
    "path_loader = PathLoader('data_config.env', 'current_user.env')\n",
    "folder_name = 'SHAPPipeline' # this relates to the corresponding script for a given pipeline \n",
    "condition = 'testrun' # running condition name, can be multiple conditions here\n",
    "\n",
    "loading_path = f'{path_loader.get_data_path()}data/results/{folder_name}/'\n",
    "\n",
    "data = {}\n",
    "\n",
    "file_strings = ['meta_df', 'rngs_list', 'total_df']\n",
    "\n",
    "# load pickle file\n",
    "\n",
    "for fs in file_strings:\n",
    "    with open(f'{loading_path}{fs}_{condition}.pkl', 'rb') as handle:\n",
    "        data[fs] = pickle.load(handle)\n",
    "\n",
    "total_df = data['total_df']\n",
    "meta_df = data['meta_df']\n",
    "rngs_list = data['rngs_list']"
   ]
  }
 ],
 "metadata": {
  "kernelspec": {
   "display_name": "venv",
   "language": "python",
   "name": "python3"
  },
  "language_info": {
   "codemirror_mode": {
    "name": "ipython",
    "version": 3
   },
   "file_extension": ".py",
   "mimetype": "text/x-python",
   "name": "python",
   "nbconvert_exporter": "python",
   "pygments_lexer": "ipython3",
   "version": "3.8.10"
  }
 },
 "nbformat": 4,
 "nbformat_minor": 2
}
