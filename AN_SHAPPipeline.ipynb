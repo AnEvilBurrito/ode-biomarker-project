{
 "cells": [
  {
   "cell_type": "code",
   "execution_count": 5,
   "metadata": {},
   "outputs": [],
   "source": [
    "import pickle \n",
    "from PathLoader import PathLoader\n",
    "path_loader = PathLoader('data_config.env', 'current_user.env')\n",
    "folder_name = 'SHAPPipeline' # this relates to the corresponding script for a given pipeline \n",
    "condition = 'testrun' # running condition name, can be multiple conditions here\n",
    "\n",
    "# load pickle file\n",
    "data = {}\n",
    "file_strings = ['meta_df', 'rngs_list', 'total_df']\n",
    "loading_path = f'{path_loader.get_data_path()}data/results/{folder_name}/'\n",
    "for string in file_strings:\n",
    "    with open(f'{loading_path}{string}_{condition}.pkl', 'rb') as handle:\n",
    "        data[string] = pickle.load(handle)\n",
    "\n",
    "total_df = data['total_df']\n",
    "meta_df = data['meta_df']\n",
    "rngs_list = data['rngs_list']"
   ]
  },
  {
   "cell_type": "code",
   "execution_count": 9,
   "metadata": {},
   "outputs": [
    {
     "name": "stdout",
     "output_type": "stream",
     "text": [
      "feature_importance: (['Q07157;ZO1_HUMAN', 'P10301;RRAS_HUMAN', 'P42768;WASP_HUMAN', 'P08575;PTPRC_HUMAN', 'Q12959;DLG1_HUMAN', 'P14317;HCLS1_HUMAN', 'Q92835;SHIP1_HUMAN', 'P35221;CTNA1_HUMAN', 'P35222;CTNB1_HUMAN', 'P41240;CSK_HUMAN', 'O00159;MYO1C_HUMAN', 'P05067;A4_HUMAN', 'Q6WCQ1;MPRIP_HUMAN', 'Q92608;DOCK2_HUMAN', 'P33316;DUT_HUMAN', 'Q14789;GOGB1_HUMAN', 'P29350;PTN6_HUMAN', 'Q9Y5B0;CTDP1_HUMAN', 'O60716;CTND1_HUMAN', 'P15151;PVR_HUMAN', 'P63010;AP2B1_HUMAN', 'P98171;RHG04_HUMAN', 'P33993;MCM7_HUMAN', 'P35236;PTN7_HUMAN', 'P02545;LMNA_HUMAN', 'P06756;ITAV_HUMAN', 'Q08379;GOGA2_HUMAN', 'Q13422;IKZF1_HUMAN', 'O43516;WIPF1_HUMAN', 'P06400;RB_HUMAN', 'Q14566;MCM6_HUMAN', 'P33991;MCM4_HUMAN', 'Q92556;ELMO1_HUMAN', 'Q8N3R9;PALS1_HUMAN', 'P32519;ELF1_HUMAN', 'Q14247;SRC8_HUMAN', 'P25205;MCM3_HUMAN', 'Q9UQB8;BAIP2_HUMAN', 'Q9UBI6;GBG12_HUMAN', 'P62820;RAB1A_HUMAN'], [0.0, 0.00919809306654198, 0.0, 0.0, 0.009262273077079003, 0.0, 0.0, 0.0, 0.01718109009278917, 0.046690955789939426, 0.0, 0.09061422978454617, 0.1409622984458508, 0.0, 0.0035557395501818983, 0.015616058282382588, 0.0036652135535133806, 0.11627870917164111, 0.0, 0.013559254390375345, 0.0, 0.0, 0.0, 0.0, 0.032814448220297554, 0.019999257711113893, 0.0, 0.0, 0.0, 0.1520167137473922, 0.03087598971330163, 0.0, 0.0, 0.06776647548839743, 0.16172530052220796, 0.027239077181730277, 0.0, 0.1369350228718478, 0.03658498093917128, 0.02453051789957438])\n"
     ]
    }
   ],
   "source": [
    "feature_importance = total_df['feature_importance']\n",
    "\n",
    "print(f'feature_importance: {feature_importance.iloc[1]}')"
   ]
  }
 ],
 "metadata": {
  "kernelspec": {
   "display_name": "venv",
   "language": "python",
   "name": "python3"
  },
  "language_info": {
   "codemirror_mode": {
    "name": "ipython",
    "version": 3
   },
   "file_extension": ".py",
   "mimetype": "text/x-python",
   "name": "python",
   "nbconvert_exporter": "python",
   "pygments_lexer": "ipython3",
   "version": "3.8.10"
  }
 },
 "nbformat": 4,
 "nbformat_minor": 2
}
