{
 "cells": [
  {
   "cell_type": "markdown",
   "metadata": {},
   "source": [
    "# Training v4 - comprehensive assessment\n",
    "\n",
    "filter -> wrapper -> model -> cross validation -> evaluation"
   ]
  },
  {
   "cell_type": "code",
   "execution_count": 37,
   "metadata": {},
   "outputs": [],
   "source": [
    "# load in data\n",
    "\n",
    "import pandas as pd\n",
    "import pickle\n",
    "\n",
    "with open('data/gdsc.pkl', 'rb') as f:\n",
    "    gdsc1 = pickle.load(f)\n",
    "    gdsc1_drugdata = pickle.load(f)\n",
    "    gdsc2 = pickle.load(f)\n",
    "    gdsc2_drugdata = pickle.load(f)\n",
    "\n",
    "with open('data/ccle_expression.pkl', 'rb') as f:\n",
    "    gene_entrez = pickle.load(f)\n",
    "    ccle = pickle.load(f)\n",
    "\n",
    "with open('data/ccle_sample_info.pkl', 'rb') as f:\n",
    "    ccle_sample_info = pickle.load(f)\n",
    "\n",
    "with open('data/preprocessed/processed_data2.pkl', 'rb') as f:\n",
    "    xtrain = pickle.load(f)\n",
    "    ylabel = pickle.load(f)\n",
    "    ylabel_binary = pickle.load(f)\n",
    "    index_to_sanger = pickle.load(f)\n",
    "\n",
    "palbo = gdsc1.loc[gdsc1['DRUG_NAME'] == 'Palbociclib']\n",
    "ln_ic50 = palbo['LN_IC50']\n",
    "celllines = palbo['SANGER_MODEL_ID']\n",
    "\n",
    "no_og_features = len(gene_entrez)-1"
   ]
  },
  {
   "cell_type": "code",
   "execution_count": 38,
   "metadata": {},
   "outputs": [
    {
     "name": "stdout",
     "output_type": "stream",
     "text": [
      "(19221,)\n"
     ]
    }
   ],
   "source": [
    "print(xtrain[1,:].shape)"
   ]
  },
  {
   "cell_type": "markdown",
   "metadata": {},
   "source": [
    "### Filter on target (Spearmanr)"
   ]
  },
  {
   "cell_type": "code",
   "execution_count": 39,
   "metadata": {},
   "outputs": [],
   "source": [
    "from scipy.stats import f, spearmanr\n",
    "import numpy as np\n",
    "\n",
    "\n",
    "# spearman r feature selection\n",
    "\n",
    "def spearmanr_feature_selection(x, y, corr_threshold=0.1, p_threshold=0.05):\n",
    "\n",
    "    # calculate spearman correlation\n",
    "    spearmanr_list = []\n",
    "    for i in range(len(x[0])):\n",
    "        spearmanr_list.append(spearmanr(x[:, i], y)[0])\n",
    "\n",
    "    # sort spearman correlation\n",
    "    spearmanr_list = np.array(spearmanr_list)\n",
    "    spearmanr_list = np.argsort(spearmanr_list)\n",
    "    spearmanr_list = spearmanr_list[::-1]\n",
    "\n",
    "    # select top k features\n",
    "    x_new = []\n",
    "    for i in range(len(x)):\n",
    "        x_new.append([])\n",
    "        for j in range(k):\n",
    "            x_new[i].append(x[i][spearmanr_list[j]])\n",
    "\n",
    "    return x_new\n"
   ]
  },
  {
   "cell_type": "code",
   "execution_count": 40,
   "metadata": {},
   "outputs": [
    {
     "name": "stderr",
     "output_type": "stream",
     "text": [
      "c:\\Github\\ode-biomarker-project\\dynamic-marker\\lib\\site-packages\\sklearn\\feature_selection\\_univariate_selection.py:110: UserWarning: Features [ 1771 14517 15372 15411 16982 17762 17858 17979 18012 18014 19153] are constant.\n",
      "  warnings.warn(\"Features %s are constant.\" % constant_features_idx, UserWarning)\n",
      "c:\\Github\\ode-biomarker-project\\dynamic-marker\\lib\\site-packages\\sklearn\\feature_selection\\_univariate_selection.py:111: RuntimeWarning: invalid value encountered in divide\n",
      "  f = msb / msw\n"
     ]
    }
   ],
   "source": [
    "\n",
    "# selectKBest using f-classif\n",
    "\n",
    "from sklearn.feature_selection import SelectKBest\n",
    "from sklearn.feature_selection import f_classif\n",
    "\n",
    "k_val = 1000\n",
    "\n",
    "xtrain_k = SelectKBest(f_classif, k=k_val).fit_transform(xtrain, ylabel_binary)\n",
    "\n"
   ]
  },
  {
   "cell_type": "code",
   "execution_count": 41,
   "metadata": {},
   "outputs": [],
   "source": [
    "from random import shuffle\n",
    "\n",
    "\n",
    "test_size = 100\n",
    "\n",
    "shuffle(xtrain_k)\n",
    "shuffle(ylabel)\n",
    "\n",
    "x_test = xtrain_k[:test_size]\n",
    "partial_x_train = xtrain_k[test_size:]\n",
    "\n",
    "y_test = ylabel_binary[:test_size]\n",
    "partial_y_train = ylabel_binary[test_size:]\n"
   ]
  },
  {
   "cell_type": "code",
   "execution_count": 42,
   "metadata": {},
   "outputs": [],
   "source": [
    "from keras import models\n",
    "from keras import layers\n",
    "from scikeras.wrappers import KerasClassifier\n",
    "from sklearn.model_selection import StratifiedKFold\n",
    "from sklearn.model_selection import cross_val_score\n",
    "import numpy as np\n",
    "\n",
    "def create_model():\n",
    "    model = models.Sequential()\n",
    "    model.add(layers.Dense(16, activation='relu', input_shape=(k_val,)))\n",
    "    model.add(layers.Dense(16, activation='relu'))\n",
    "    model.add(layers.Dense(1, activation='sigmoid'))\n",
    "    model.compile(optimizer='rmsprop',loss='binary_crossentropy',metrics=['accuracy'])\n",
    "    return model \n"
   ]
  },
  {
   "cell_type": "markdown",
   "metadata": {},
   "source": [
    "### Wrapper "
   ]
  },
  {
   "cell_type": "code",
   "execution_count": 43,
   "metadata": {},
   "outputs": [
    {
     "name": "stdout",
     "output_type": "stream",
     "text": [
      "Accuracy: 0.478 (0.063)\n"
     ]
    }
   ],
   "source": [
    "from numpy import mean\n",
    "from numpy import std\n",
    "from sklearn.datasets import make_classification\n",
    "from sklearn.model_selection import cross_val_score\n",
    "from sklearn.model_selection import RepeatedStratifiedKFold\n",
    "from sklearn.feature_selection import RFE\n",
    "from sklearn.tree import DecisionTreeClassifier\n",
    "from sklearn.pipeline import Pipeline\n",
    "# define dataset\n",
    "X, y = xtrain_k, ylabel_binary\n",
    "# create pipeline\n",
    "rfe = RFE(estimator=DecisionTreeClassifier(), n_features_to_select=10)\n",
    "model = DecisionTreeClassifier()\n",
    "pipeline = Pipeline(steps=[('s', rfe), ('m', model)])\n",
    "# evaluate model\n",
    "cv = RepeatedStratifiedKFold(n_splits=10, n_repeats=3, random_state=1)\n",
    "n_scores = cross_val_score(\n",
    "    pipeline, X, y, scoring='accuracy', cv=cv, n_jobs=-1, error_score='raise')\n",
    "# report performance\n",
    "print('Accuracy: %.3f (%.3f)' % (mean(n_scores), std(n_scores)))\n"
   ]
  },
  {
   "cell_type": "markdown",
   "metadata": {},
   "source": [
    "## Test data evaluation"
   ]
  },
  {
   "cell_type": "code",
   "execution_count": 44,
   "metadata": {},
   "outputs": [
    {
     "name": "stdout",
     "output_type": "stream",
     "text": [
      "[1. 1. 1. 1. 1. 1. 1. 1. 1. 1. 1. 1. 1. 1. 1. 1. 1. 1. 1. 1. 1. 1. 1. 1.\n",
      " 1. 1. 1. 1. 1. 1. 1. 1. 1. 1. 1. 1. 1. 1. 1. 1. 1. 1. 1. 1. 1. 1. 1. 1.\n",
      " 1. 1. 1. 1. 1. 1. 1. 1. 1. 1. 1. 1. 1. 1. 1. 1. 1. 1. 1. 1. 1. 1. 1. 1.\n",
      " 1. 1. 1. 1. 1. 1. 1. 1. 1. 1. 1. 1. 1. 1. 1. 1. 1. 1. 1. 1. 1. 1. 1. 1.\n",
      " 1. 1. 1. 1.]\n",
      "[0. 0. 0. 0. 1. 1. 0. 0. 0. 0. 0. 1. 0. 1. 1. 0. 0. 0. 1. 0. 1. 0. 1. 0.\n",
      " 0. 0. 1. 0. 0. 0. 0. 1. 0. 1. 0. 0. 0. 0. 0. 1. 0. 0. 0. 1. 0. 0. 0. 0.\n",
      " 0. 0. 0. 0. 0. 1. 1. 1. 1. 0. 1. 0. 0. 0. 0. 0. 0. 1. 0. 1. 0. 0. 1. 1.\n",
      " 0. 1. 1. 1. 1. 1. 0. 0. 0. 1. 0. 1. 1. 0. 1. 1. 1. 1. 1. 1. 1. 1. 1. 1.\n",
      " 1. 0. 1. 1.]\n"
     ]
    }
   ],
   "source": [
    "# import matplotlib.pyplot as plt\n",
    "model = KerasClassifier(model=create_model, epochs=100, batch_size=10, verbose=0)\n",
    "model.fit(partial_x_train, partial_y_train, epochs=100, batch_size=10, verbose=0)\n",
    "test_pred = model.predict(x_test)\n",
    "\n",
    "print(test_pred)\n",
    "print(y_test)"
   ]
  },
  {
   "cell_type": "code",
   "execution_count": 45,
   "metadata": {},
   "outputs": [
    {
     "name": "stdout",
     "output_type": "stream",
     "text": [
      "Accuracy:  0.43\n",
      "AUC:  0.5\n"
     ]
    },
    {
     "data": {
      "image/png": "[encoded data removed]",
      "text/plain": [
       "<Figure size 640x480 with 1 Axes>"
      ]
     },
     "metadata": {},
     "output_type": "display_data"
    }
   ],
   "source": [
    "import sklearn.metrics as metrics\n",
    "import numpy as np\n",
    "import matplotlib.pyplot as plt\n",
    "\n",
    "acc = metrics.accuracy_score(y_test, test_pred)\n",
    "print(\"Accuracy: \", acc)\n",
    "\n",
    "fpr, tpr, threshold = metrics.roc_curve(y_test, test_pred)\n",
    "\n",
    "roc_auc = metrics.auc(fpr, tpr)\n",
    "print(\"AUC: \", roc_auc)\n",
    "\n",
    "\n",
    "\n",
    "# Plot ROC \n",
    "plt.title('Receiver Operating Characteristic')\n",
    "plt.plot(fpr, tpr, 'b', label = 'AUC = %0.2f' % roc_auc)\n",
    "plt.legend(loc = 'lower right')\n",
    "plt.show()\n"
   ]
  }
 ],
 "metadata": {
  "kernelspec": {
   "display_name": "Python 3",
   "language": "python",
   "name": "python3"
  },
  "language_info": {
   "codemirror_mode": {
    "name": "ipython",
    "version": 3
   },
   "file_extension": ".py",
   "mimetype": "text/x-python",
   "name": "python",
   "nbconvert_exporter": "python",
   "pygments_lexer": "ipython3",
   "version": "3.8.10 (tags/v3.8.10:3d8993a, May  3 2021, 11:48:03) [MSC v.1928 64 bit (AMD64)]"
  },
  "orig_nbformat": 4,
  "vscode": {
   "interpreter": {
    "hash": "89988afa352c605b780a66809297c0ee01ffb47acd0679a8e47d11adec9ecd73"
   }
  }
 },
 "nbformat": 4,
 "nbformat_minor": 2
}
