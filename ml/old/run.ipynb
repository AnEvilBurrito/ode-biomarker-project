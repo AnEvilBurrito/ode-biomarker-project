{
 "cells": [
  {
   "cell_type": "code",
   "execution_count": 2,
   "metadata": {},
   "outputs": [],
   "source": [
    "# load in data \n",
    "\n",
    "import pandas as pd\n",
    "import pickle\n",
    "\n",
    "with open('data/gdsc.pkl', 'rb') as f:\n",
    "    gdsc1 = pickle.load(f)\n",
    "    gdsc1_drugdata = pickle.load(f)\n",
    "    gdsc2 = pickle.load(f)\n",
    "    gdsc2_drugdata = pickle.load(f)\n",
    "\n",
    "with open('data/ccle_expression.pkl', 'rb') as f:\n",
    "    gene_entrez = pickle.load(f)\n",
    "    ccle = pickle.load(f)\n"
   ]
  },
  {
   "cell_type": "code",
   "execution_count": null,
   "metadata": {},
   "outputs": [],
   "source": []
  }
 ],
 "metadata": {
  "kernelspec": {
   "display_name": "Python 3.8.3 ('dynamic-marker': venv)",
   "language": "python",
   "name": "python3"
  },
  "language_info": {
   "codemirror_mode": {
    "name": "ipython",
    "version": 3
   },
   "file_extension": ".py",
   "mimetype": "text/x-python",
   "name": "python",
   "nbconvert_exporter": "python",
   "pygments_lexer": "ipython3",
   "version": "3.8.10"
  },
  "orig_nbformat": 4,
  "vscode": {
   "interpreter": {
    "hash": "5e3de44e5c69c0e6191ca0b8b03ef872ccaf8645694c393326d094def8f567f7"
   }
  }
 },
 "nbformat": 4,
 "nbformat_minor": 2
}
