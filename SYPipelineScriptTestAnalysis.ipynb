{
 "cells": [
  {
   "cell_type": "code",
   "execution_count": 1,
   "metadata": {},
   "outputs": [
    {
     "name": "stderr",
     "output_type": "stream",
     "text": [
      "IProgress not found. Please update jupyter and ipywidgets. See https://ipywidgets.readthedocs.io/en/stable/user_install.html\n"
     ]
    }
   ],
   "source": [
    "from toolkit import *\n",
    "\n",
    "from PathLoader import PathLoader\n",
    "\n",
    "path_loader = PathLoader('data_config.env', 'current_user.env')\n",
    "\n",
    "folder_name = 'SYPipelineScriptTest'\n",
    "condition = 'test'\n",
    "\n",
    "# open pickle files\n",
    "with open(f'{path_loader.get_data_path()}data/results/{folder_name}/total_df_{condition}.pkl', 'rb') as f:\n",
    "    total_df = pickle.load(f)\n",
    "    \n",
    "with open(f'{path_loader.get_data_path()}data/results/{folder_name}/meta_df_{condition}.pkl', 'rb') as f:\n",
    "    meta_df = pickle.load(f)\n",
    "    \n",
    "with open(f'{path_loader.get_data_path()}data/results/{folder_name}/rngs_list_{condition}.pkl', 'rb') as f:\n",
    "    rngs_list = pickle.load(f)"
   ]
  }
 ],
 "metadata": {
  "kernelspec": {
   "display_name": "venv",
   "language": "python",
   "name": "python3"
  },
  "language_info": {
   "codemirror_mode": {
    "name": "ipython",
    "version": 3
   },
   "file_extension": ".py",
   "mimetype": "text/x-python",
   "name": "python",
   "nbconvert_exporter": "python",
   "pygments_lexer": "ipython3",
   "version": "3.8.10"
  },
  "orig_nbformat": 4
 },
 "nbformat": 4,
 "nbformat_minor": 2
}
