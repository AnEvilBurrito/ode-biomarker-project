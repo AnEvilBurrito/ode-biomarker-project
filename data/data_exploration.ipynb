{
 "cells": [
  {
   "cell_type": "code",
   "execution_count": 2,
   "metadata": {},
   "outputs": [
    {
     "name": "stdout",
     "output_type": "stream",
     "text": [
      "  DATASET  NLME_RESULT_ID  NLME_CURVE_ID  COSMIC_ID CELL_LINE_NAME  \\\n",
      "0   GDSC1             281       12974350     683665         MC-CAR   \n",
      "1   GDSC1             281       12975300     684055            ES3   \n",
      "2   GDSC1             281       12975647     684057            ES5   \n",
      "3   GDSC1             281       12975980     684059            ES7   \n",
      "4   GDSC1             281       12976330     684062          EW-11   \n",
      "\n",
      "  SANGER_MODEL_ID     TCGA_DESC  DRUG_ID  DRUG_NAME PUTATIVE_TARGET  \\\n",
      "0       SIDM00636            MM        1  Erlotinib            EGFR   \n",
      "1       SIDM00265  UNCLASSIFIED        1  Erlotinib            EGFR   \n",
      "2       SIDM00263  UNCLASSIFIED        1  Erlotinib            EGFR   \n",
      "3       SIDM00269  UNCLASSIFIED        1  Erlotinib            EGFR   \n",
      "4       SIDM00203  UNCLASSIFIED        1  Erlotinib            EGFR   \n",
      "\n",
      "     PATHWAY_NAME  COMPANY_ID WEBRELEASE  MIN_CONC  MAX_CONC   LN_IC50  \\\n",
      "0  EGFR signaling        1045          Y  0.007813       2.0  2.395685   \n",
      "1  EGFR signaling        1045          Y  0.007813       2.0  3.140923   \n",
      "2  EGFR signaling        1045          Y  0.007813       2.0  3.968757   \n",
      "3  EGFR signaling        1045          Y  0.007813       2.0  2.692768   \n",
      "4  EGFR signaling        1045          Y  0.007813       2.0  2.478678   \n",
      "\n",
      "        AUC      RMSE   Z_SCORE  \n",
      "0  0.982114  0.022521 -0.189576  \n",
      "1  0.984816  0.031840  0.508635  \n",
      "2  0.985693  0.026052  1.284229  \n",
      "3  0.972699  0.110056  0.088760  \n",
      "4  0.944462  0.087011 -0.111820  \n"
     ]
    }
   ],
   "source": [
    "import pandas as pd \n",
    "\n",
    "gdsc1 = pd.read_excel('GDSC1_fitted_dose_response_25Feb20.xlsx')\n",
    "\n",
    "print(gdsc1.head())"
   ]
  },
  {
   "cell_type": "code",
   "execution_count": 3,
   "metadata": {},
   "outputs": [
    {
     "name": "stdout",
     "output_type": "stream",
     "text": [
      "       DATASET  NLME_RESULT_ID  NLME_CURVE_ID  COSMIC_ID CELL_LINE_NAME  \\\n",
      "217547   GDSC1             281       12969938     684055            ES3   \n",
      "217548   GDSC1             281       12970029     687794      NCI-H1437   \n",
      "217549   GDSC1             281       12970047     687800      NCI-H1650   \n",
      "217550   GDSC1             281       12970055     687802      NCI-H1693   \n",
      "217551   GDSC1             281       12970073     687812      NCI-H2085   \n",
      "...        ...             ...            ...        ...            ...   \n",
      "218443   GDSC1             281       13269626    1660034        SNU-407   \n",
      "218444   GDSC1             281       13269893    1660035         SNU-61   \n",
      "218445   GDSC1             281       13270153    1660036         SNU-81   \n",
      "218446   GDSC1             281       13270419    1674021         SNU-C5   \n",
      "218447   GDSC1             281       13270686    1789883           DiFi   \n",
      "\n",
      "       SANGER_MODEL_ID     TCGA_DESC  DRUG_ID    DRUG_NAME PUTATIVE_TARGET  \\\n",
      "217547       SIDM00265  UNCLASSIFIED     1054  Palbociclib      CDK4, CDK6   \n",
      "217548       SIDM00734          LUAD     1054  Palbociclib      CDK4, CDK6   \n",
      "217549       SIDM00745          LUAD     1054  Palbociclib      CDK4, CDK6   \n",
      "217550       SIDM00742          LUAD     1054  Palbociclib      CDK4, CDK6   \n",
      "217551       SIDM00709          LUAD     1054  Palbociclib      CDK4, CDK6   \n",
      "...                ...           ...      ...          ...             ...   \n",
      "218443       SIDM00214        COREAD     1054  Palbociclib      CDK4, CDK6   \n",
      "218444       SIDM00194        COREAD     1054  Palbociclib      CDK4, CDK6   \n",
      "218445       SIDM00193        COREAD     1054  Palbociclib      CDK4, CDK6   \n",
      "218446       SIDM00498        COREAD     1054  Palbociclib      CDK4, CDK6   \n",
      "218447       SIDM00049        COREAD     1054  Palbociclib      CDK4, CDK6   \n",
      "\n",
      "       PATHWAY_NAME  COMPANY_ID WEBRELEASE  MIN_CONC  MAX_CONC   LN_IC50  \\\n",
      "217547   Cell cycle        1046          Y  0.007813       4.0 -1.086970   \n",
      "217548   Cell cycle        1046          Y  0.007813       4.0  0.994088   \n",
      "217549   Cell cycle        1046          Y  0.007813       4.0  0.999778   \n",
      "217550   Cell cycle        1046          Y  0.007813       4.0  1.251437   \n",
      "217551   Cell cycle        1046          Y  0.007813       4.0  0.849207   \n",
      "...             ...         ...        ...       ...       ...       ...   \n",
      "218443   Cell cycle        1046          Y  0.015625       4.0  1.363396   \n",
      "218444   Cell cycle        1046          Y  0.015625       4.0  3.794859   \n",
      "218445   Cell cycle        1046          Y  0.015625       4.0  1.434230   \n",
      "218446   Cell cycle        1046          Y  0.015625       4.0  1.564181   \n",
      "218447   Cell cycle        1046          Y  0.015625       4.0  1.528492   \n",
      "\n",
      "             AUC      RMSE   Z_SCORE  \n",
      "217547  0.654692  0.201522 -1.745396  \n",
      "217548  0.847313  0.118574 -0.398372  \n",
      "217549  0.856264  0.101675 -0.394689  \n",
      "217550  0.854174  0.204717 -0.231795  \n",
      "217551  0.878018  0.184064 -0.492150  \n",
      "...          ...       ...       ...  \n",
      "218443  0.850377  0.098801 -0.159327  \n",
      "218444  0.954312  0.047019  1.414507  \n",
      "218445  0.844126  0.121351 -0.113477  \n",
      "218446  0.872231  0.099353 -0.029363  \n",
      "218447  0.880890  0.108732 -0.052464  \n",
      "\n",
      "[901 rows x 19 columns]\n"
     ]
    }
   ],
   "source": [
    "print(gdsc1.loc[gdsc1['DRUG_NAME'] == 'Palbociclib'])\n"
   ]
  }
 ],
 "metadata": {
  "kernelspec": {
   "display_name": "Python 3.8.3 ('dynamic-marker': venv)",
   "language": "python",
   "name": "python3"
  },
  "language_info": {
   "codemirror_mode": {
    "name": "ipython",
    "version": 3
   },
   "file_extension": ".py",
   "mimetype": "text/x-python",
   "name": "python",
   "nbconvert_exporter": "python",
   "pygments_lexer": "ipython3",
   "version": "3.8.3"
  },
  "orig_nbformat": 4,
  "vscode": {
   "interpreter": {
    "hash": "5e3de44e5c69c0e6191ca0b8b03ef872ccaf8645694c393326d094def8f567f7"
   }
  }
 },
 "nbformat": 4,
 "nbformat_minor": 2
}
